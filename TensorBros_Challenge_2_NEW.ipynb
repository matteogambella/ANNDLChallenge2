{
  "nbformat": 4,
  "nbformat_minor": 0,
  "metadata": {
    "colab": {
      "name": "TensorBros_Challenge_2_NEW.ipynb",
      "provenance": [],
      "collapsed_sections": [
        "KyUc4ExGLLbF",
        "aPrqU4sFvRtk",
        "YZTfsVW_44fB",
        "Y3YuYsag_dzQ",
        "pE_RdeX8MdCc",
        "3StV7Ki8YSgR",
        "_NXPzxvhInyd",
        "Rl9qXagOU9Zd",
        "y6JJZDAe3qHr",
        "P1u8uGpmFeGO",
        "bnz3OddcDOJD",
        "OquSDotTI9nc",
        "DUfzizgYx9hp",
        "bhE3fP837gKp",
        "X_IghlxwGm8G",
        "kt3K4YaZIS_6",
        "WuVw1q_NnFJh",
        "3F4z0YRCPv91",
        "6cQNo7h_kLmB"
      ],
      "machine_shape": "hm"
    },
    "kernelspec": {
      "name": "python3",
      "display_name": "Python 3"
    },
    "accelerator": "GPU"
  },
  "cells": [
    {
      "cell_type": "markdown",
      "metadata": {
        "id": "if9zaYd_i54d"
      },
      "source": [
        "# Nuova sezione\r\n",
        "\r\n",
        "\r\n",
        "\r\n",
        "1.   RICORDA DI PROVARE on epoch end\r\n",
        "2.   new tiles weights\r\n",
        "\r\n",
        "\r\n",
        "\r\n"
      ]
    },
    {
      "cell_type": "markdown",
      "metadata": {
        "id": "KyUc4ExGLLbF"
      },
      "source": [
        "\n",
        "\n",
        "# Initial Setup\n",
        "\n"
      ]
    },
    {
      "cell_type": "code",
      "metadata": {
        "id": "I5FnwOggnFIl"
      },
      "source": [
        "from IPython.core.interactiveshell import InteractiveShell\n",
        "InteractiveShell.ast_node_interactivity = \"all\""
      ],
      "execution_count": 1,
      "outputs": []
    },
    {
      "cell_type": "code",
      "metadata": {
        "id": "tOBDSA9BnFIx"
      },
      "source": [
        "import os\n",
        "import tensorflow as tf\n",
        "import tensorflow_addons as tfa\n",
        "import numpy as np\n",
        "from PIL import Image\n",
        "import math\n",
        "\n",
        "# Set the seed for random operations. \n",
        "# Letting experiments to be reproducible. \n",
        "SEED = 1234\n",
        "tf.random.set_seed(SEED) \n",
        "np.random.seed(SEED)\n",
        "\n",
        "# Get current working directory\n",
        "cwd = os.getcwd()"
      ],
      "execution_count": 2,
      "outputs": []
    },
    {
      "cell_type": "code",
      "metadata": {
        "id": "Z8bhsWQnnU-i",
        "colab": {
          "base_uri": "https://localhost:8080/"
        },
        "outputId": "084cadf8-9484-4363-cc64-5c5eb9fa4efd"
      },
      "source": [
        "# Mounting google drive\n",
        "from google.colab import drive\n",
        "drive.mount('/content/drive', force_remount=True)"
      ],
      "execution_count": 3,
      "outputs": [
        {
          "output_type": "stream",
          "text": [
            "Mounted at /content/drive\n"
          ],
          "name": "stdout"
        }
      ]
    },
    {
      "cell_type": "code",
      "metadata": {
        "id": "z71JI888L2zX",
        "colab": {
          "base_uri": "https://localhost:8080/"
        },
        "outputId": "778eda36-22c7-4ba9-91de-0996de7d2e0e"
      },
      "source": [
        "gpu_info = !nvidia-smi\n",
        "gpu_info = '\\n'.join(gpu_info)\n",
        "if gpu_info.find('failed') >= 0:\n",
        "  print('Select the Runtime > \"Change runtime type\" menu to enable a GPU accelerator, ')\n",
        "  print('and then re-execute this cell.')\n",
        "else:\n",
        "  print(gpu_info)"
      ],
      "execution_count": 4,
      "outputs": [
        {
          "output_type": "stream",
          "text": [
            "Tue Jan 19 11:24:08 2021       \n",
            "+-----------------------------------------------------------------------------+\n",
            "| NVIDIA-SMI 460.27.04    Driver Version: 418.67       CUDA Version: 10.1     |\n",
            "|-------------------------------+----------------------+----------------------+\n",
            "| GPU  Name        Persistence-M| Bus-Id        Disp.A | Volatile Uncorr. ECC |\n",
            "| Fan  Temp  Perf  Pwr:Usage/Cap|         Memory-Usage | GPU-Util  Compute M. |\n",
            "|                               |                      |               MIG M. |\n",
            "|===============================+======================+======================|\n",
            "|   0  Tesla P100-PCIE...  Off  | 00000000:00:04.0 Off |                    0 |\n",
            "| N/A   46C    P0    27W / 250W |      0MiB / 16280MiB |      0%      Default |\n",
            "|                               |                      |                 ERR! |\n",
            "+-------------------------------+----------------------+----------------------+\n",
            "                                                                               \n",
            "+-----------------------------------------------------------------------------+\n",
            "| Processes:                                                                  |\n",
            "|  GPU   GI   CI        PID   Type   Process name                  GPU Memory |\n",
            "|        ID   ID                                                   Usage      |\n",
            "|=============================================================================|\n",
            "|  No running processes found                                                 |\n",
            "+-----------------------------------------------------------------------------+\n"
          ],
          "name": "stdout"
        }
      ]
    },
    {
      "cell_type": "markdown",
      "metadata": {
        "id": "aPrqU4sFvRtk"
      },
      "source": [
        "# Image preprocessing function"
      ]
    },
    {
      "cell_type": "code",
      "metadata": {
        "id": "aDQJBT44aK78"
      },
      "source": [
        "# Mask found in the HSV spectrum\r\n",
        "MASK_LIMITS_HSV = ((30,40,70), (80,255,255))"
      ],
      "execution_count": 5,
      "outputs": []
    },
    {
      "cell_type": "code",
      "metadata": {
        "id": "WSp7VU6NvDmK"
      },
      "source": [
        "import cv2 as cv\r\n",
        "# -----------------------------------------\r\n",
        "# Image preprocessing (not used at the end)\r\n",
        "# -----------------------------------------\r\n",
        "def mask_image(image: np.array):\r\n",
        "  \r\n",
        "    image_hsv = cv.cvtColor(image, cv.COLOR_RGB2HSV)\r\n",
        "\r\n",
        "    designed_mask = cv.inRange(image_hsv, *MASK_LIMITS_HSV)\r\n",
        "\r\n",
        "    denoised_mask = cv.morphologyEx(designed_mask, cv.MORPH_OPEN, cv.getStructuringElement(cv.MORPH_RECT, (7,7)))\r\n",
        "\r\n",
        "    dilatated_mask = cv.dilate(denoised_mask, np.ones((5,5),np.uint8), iterations = 3)\r\n",
        "\r\n",
        "    image_masked = cv.bitwise_and(image, image, mask = dilatated_mask)\r\n",
        "\r\n",
        "    return image_masked"
      ],
      "execution_count": 6,
      "outputs": []
    },
    {
      "cell_type": "markdown",
      "metadata": {
        "id": "YZTfsVW_44fB"
      },
      "source": [
        "# Tiling functions"
      ]
    },
    {
      "cell_type": "code",
      "metadata": {
        "id": "64OzgATZjeL5"
      },
      "source": [
        "import glob\r\n",
        "import sys\r\n",
        "import errno\r\n",
        "import warnings\r\n",
        "warnings.simplefilter(\"ignore\", UserWarning)\r\n",
        "\r\n",
        "def create_patches(img, patch_height=256, patch_width=256, h_stride=0.5, w_stride=0.5):\r\n",
        "    \"\"\" \r\n",
        "        Params: img -> Input image(numpy array)\r\n",
        "                patch height -> height of patch to be cut\r\n",
        "                patch width -> width of patch to be cut\r\n",
        "                h_stride -> 1/overlap required among adjacent patch along height eg. 0.5 for twice overlap\r\n",
        "                w_stride -> 1/overlap required among adjacent patch along width\r\n",
        "\r\n",
        "        input -> image (height,width,channel), patch dimensions\r\n",
        "    \t  \r\n",
        "        output -> patches of desired dimensions (patch_height, patch_width, channel)\r\n",
        "                  patch parameters dictionary containing:\r\n",
        "                                                          --original image height\r\n",
        "                                                          --original image width\r\n",
        "                                                          --stride along height\r\n",
        "                                                          --stride along width\r\n",
        "                                                          --patch height\r\n",
        "                                                          --patch width\r\n",
        "    \"\"\"\r\n",
        "    h_stride = int(max(1, patch_height * h_stride))\r\n",
        "    w_stride = int(max(1, patch_width * w_stride))\r\n",
        "\r\n",
        "    patch_param = {}\r\n",
        "    patch_param['image_height'] = img.shape[0]\r\n",
        "    patch_param['image_width'] = img.shape[1]\r\n",
        "    patch_param['h_stride'] = h_stride\r\n",
        "    patch_param['w_stride'] = w_stride\r\n",
        "    patch_param['patch_height'] = patch_height\r\n",
        "    patch_param['patch_width'] = patch_width\r\n",
        "\r\n",
        "    h = 0\r\n",
        "    w = 0\r\n",
        "\r\n",
        "    img = pad_image(img, patch_height, patch_width, mode='symmetric')\r\n",
        "\r\n",
        "    patches = []\r\n",
        "\r\n",
        "    while h <= img.shape[0] - patch_height:\r\n",
        "        w = 0\r\n",
        "        while w <= img.shape[1] - patch_width:\r\n",
        "            patches.append(img[h:h+patch_height, w:w+patch_width, :])\r\n",
        "            w = w + w_stride\r\n",
        "        h = h+h_stride\r\n",
        "\r\n",
        "    return patches, patch_param\r\n",
        "\r\n",
        "def return_padding(img, height, width):\r\n",
        "    \" Return padding given image and height, width of patch\"\r\n",
        "    h = 0 if img.shape[0]%height == 0 else height - img.shape[0]%height\r\n",
        "    w = 0 if img.shape[1]%width == 0 else width - img.shape[1]%width\r\n",
        "    pad_shape = tuple(np.zeros((len(img.shape),2),dtype=np.uint16))\r\n",
        "    pad_shape = [tuple(x) for x in pad_shape]\r\n",
        "    h_left  = h//2\r\n",
        "    h_right = h - h_left\r\n",
        "    w_left  = w//2\r\n",
        "    w_right = w - w_left\r\n",
        "    pad_shape[0] = (int(h_left),int(h_right))\r\n",
        "    pad_shape[1] = (int(w_left),int(w_right))\r\n",
        "    \r\n",
        "    print(\"pad shape is {}\".format(pad_shape))\r\n",
        "    return pad_shape\r\n",
        "\r\n",
        "def pad_image(img, height, width, channels=4, mode='constant'):\r\n",
        "    \"\"\" \r\n",
        "        Pads img to make it fit for extracting patches of \r\n",
        "        shape height X width from it\r\n",
        "        mode -> constant, reflect\r\n",
        "        constant -> pads ith 0's\r\n",
        "        symmetric -> pads with reflection of image borders\r\n",
        "    \"\"\"\r\n",
        "    print('input shape {}'.format(img.shape))\r\n",
        "    pad_shape = return_padding(img, height, width)\r\n",
        "    img = np.pad(img,pad_shape, mode = mode)\r\n",
        "    print('output shape {}'.format(img.shape))\r\n",
        "    return img  \r\n",
        "\r\n",
        "\r\n",
        "def make_divisor_mask(mask_height, mask_width, step):\r\n",
        "    \"\"\" Create a mask array defining the overlap extent of patches\"\"\"\r\n",
        "    mask = np.empty([mask_height, mask_width], dtype=np.uint16)\r\n",
        "    for i in range(1,mask_height+1):\r\n",
        "        for j in range(1,mask_width+1):\r\n",
        "            mask[i-1][j-1] = min(i,mask_height-i+1,step)*min(j,mask_width-j+1,step)\r\n",
        "    return mask\r\n",
        "\r\n",
        "def stitch_patch(patches, image_dict, h_stride, w_stride, channel=3):\r\n",
        "  \"\"\"\r\n",
        "        Takes the patches of an image and reconstruct the original image by recombining\r\n",
        "        the patches using naive overlapping assumption without any smoothing.\r\n",
        "\r\n",
        "        Naive method assumes linear recombination of patches and gives relative weightage to patches with twice overlap.\r\n",
        "        \r\n",
        "        Params: patches -> list of patches\r\n",
        "                image_dict -> dictionary having image height, image width, patch height, patch width\r\n",
        "                            with keys- 'image_height', 'image_width', 'patch_height', 'patch_width'\r\n",
        "                h_stride -> 1/overlap taken among adjacent patch along height eg. 0.5 for twice overlap\r\n",
        "                w_stride -> 1/overlap taken among adjacent patch along width\r\n",
        "                channel  -> number of channel in patches\r\n",
        "\r\n",
        "        input -> list of patches to be stiched        \r\n",
        "        \r\n",
        "        output -> reconstructed image\r\n",
        "                \r\n",
        "  \"\"\"\r\n",
        "  patch_height = int(image_dict['patch_height'])\r\n",
        "  patch_width  = int(image_dict['patch_height'])\r\n",
        "  orig_img_height = int(image_dict['image_height'])\r\n",
        "  orig_img_width  = int(image_dict['image_width'])\r\n",
        "  h_stride = int(h_stride * patch_height)\r\n",
        "  w_stride = int(w_stride * patch_width)\r\n",
        "\r\n",
        "  img_dtype = np.float32\r\n",
        "  image     = np.zeros((orig_img_height, orig_img_width, channel), dtype = img_dtype)\r\n",
        "  padding   = return_padding(image, patch_height, patch_width)\r\n",
        "  image     = pad_image(image, patch_height, patch_width, channels = channel, mode = 'constant')\r\n",
        "  \r\n",
        "  h = 0\r\n",
        "  w = 0\r\n",
        "\r\n",
        "  patch_id = 0\r\n",
        "\r\n",
        "  while h <= image.shape[0]-patch_height:\r\n",
        "    w = 0\r\n",
        "    while w <= image.shape[1]-patch_width:\r\n",
        "      image[h:h+patch_height, w:w+patch_width, :] += patches[patch_id]\r\n",
        "      w = w + w_stride\r\n",
        "      patch_id += 1\r\n",
        "\r\n",
        "    h = h + h_stride\r\n",
        "\r\n",
        "  if(h_stride == w_stride):\r\n",
        "    step = patch_height // h_stride\r\n",
        "  else:\r\n",
        "    print(\"Unequal strides are not supported\")\r\n",
        "\r\n",
        "  mask_height = image.shape[0] // h_stride\r\n",
        "  mask_width  = image.shape[1] // w_stride\r\n",
        "  divisor_mask = make_divisor_mask(mask_height, mask_width, step)\r\n",
        "  print(\"Divisor mask shape {}\".format(divisor_mask.shape))\r\n",
        "\r\n",
        "  h = 0\r\n",
        "  w = 0\r\n",
        "  mask_h = 0\r\n",
        "  mask_w = 0\r\n",
        "  print(\"Image shape {}\".format(image.shape))\r\n",
        "  while h <= image.shape[0] - h_stride:\r\n",
        "    w = 0\r\n",
        "    mask_w = 0\r\n",
        "    while w <= image.shape[1] - w_stride:\r\n",
        "      image[h:h+h_stride, w:w+w_stride,:] /= divisor_mask[mask_h,mask_w]\r\n",
        "      w += w_stride\r\n",
        "      mask_w +=1\r\n",
        "    h += h_stride\r\n",
        "    mask_h +=1\r\n",
        "\r\n",
        "  img = image[padding[0][0]:image.shape[0]-padding[0][1], padding[1][0]:image.shape[1]-padding[1][1],:]\r\n",
        "  print(\"FinalImage shape{}\".format(img.shape))\r\n",
        "  assert img.shape == (orig_img_height, orig_img_width, channel)\r\n",
        "\r\n",
        "  return img"
      ],
      "execution_count": 7,
      "outputs": []
    },
    {
      "cell_type": "markdown",
      "metadata": {
        "id": "Y3YuYsag_dzQ"
      },
      "source": [
        "# Dataset Retrieval"
      ]
    },
    {
      "cell_type": "code",
      "metadata": {
        "id": "X6qWgVbfK9yb"
      },
      "source": [
        "# Option to be set to true the first time to RETRIEVE the dataset and split it\n",
        "# into training and validation. If set to False it expects the dataset to be already \n",
        "# splitted and zipped in your drive in the directory \"Challenge_2\".\n",
        "SPLIT_DATASET = True\n",
        "\n",
        "# This option let you use your dataset_split.json file, that must be located in \n",
        "# your drive in the directory \"Challenge_2\", for the dataset split.\n",
        "# Is considered only if SPLIT_DATASET == True since if SPLIT_DATASET == \n",
        "# False the dataset is expected to be already splitted and zipped in your\n",
        "# drive in the directory \"Challenge_2\".\n",
        "LOAD_FROM_JSON = False\n",
        "\n",
        "# This option should be set to True if you want to use tiling\n",
        "USE_TILING = True"
      ],
      "execution_count": 8,
      "outputs": []
    },
    {
      "cell_type": "markdown",
      "metadata": {
        "id": "vft06Bo3L_v2"
      },
      "source": [
        "### Cells executed if: SPLIT_DATASET = True "
      ]
    },
    {
      "cell_type": "code",
      "metadata": {
        "id": "PGkFRgnosvZh"
      },
      "source": [
        "# ----------------------\n",
        "# Get the zipped dataset \n",
        "# ----------------------\n",
        "if SPLIT_DATASET == True:\n",
        "  ! unzip '/content/drive/My Drive/Challenge_2/Development_Dataset.zip'\n",
        "  ! unzip '/content/drive/My Drive/Challenge_2/Final_Dataset.zip'"
      ],
      "execution_count": null,
      "outputs": []
    },
    {
      "cell_type": "code",
      "metadata": {
        "colab": {
          "base_uri": "https://localhost:8080/",
          "height": 1000
        },
        "id": "2wCRpMSMcYUr",
        "outputId": "faba5809-96d1-4f93-e166-5cbe248871e1"
      },
      "source": [
        "if SPLIT_DATASET == True:\r\n",
        "  import shutil\r\n",
        "\r\n",
        "  teams = ['Bipbip', 'Pead', 'Roseau', 'Weedelec']\r\n",
        "  plants = ['Haricot', 'Mais']\r\n",
        "\r\n",
        "  folders = ['Images', 'Masks']\r\n",
        "\r\n",
        "  for t in teams:\r\n",
        "    for p in plants:\r\n",
        "      for f in folders:\r\n",
        "\r\n",
        "        src_path = os.path.join('/content/Test_Dev', t , p, f)\r\n",
        "        dst_path = os.path.join('/content/Development_Dataset/Training', t , p, f)\r\n",
        "      \r\n",
        "        images_filenames = os.listdir(src_path)\r\n",
        "\r\n",
        "        for img_name in images_filenames:\r\n",
        "          img_path = os.path.join(src_path, img_name)\r\n",
        "          print()\r\n",
        "          shutil.copy(img_path, dst_path)"
      ],
      "execution_count": 28,
      "outputs": [
        {
          "output_type": "stream",
          "text": [
            "/content/Test_Dev/Bipbip/Haricot/Images/Bipbip_haricot_im_03691.jpg\n"
          ],
          "name": "stdout"
        },
        {
          "output_type": "execute_result",
          "data": {
            "application/vnd.google.colaboratory.intrinsic+json": {
              "type": "string"
            },
            "text/plain": [
              "'/content/Development_Dataset/Training/Bipbip/Haricot/Images/Bipbip_haricot_im_03691.jpg'"
            ]
          },
          "metadata": {
            "tags": []
          },
          "execution_count": 28
        },
        {
          "output_type": "stream",
          "text": [
            "/content/Test_Dev/Bipbip/Haricot/Images/Bipbip_haricot_im_00211.jpg\n"
          ],
          "name": "stdout"
        },
        {
          "output_type": "execute_result",
          "data": {
            "application/vnd.google.colaboratory.intrinsic+json": {
              "type": "string"
            },
            "text/plain": [
              "'/content/Development_Dataset/Training/Bipbip/Haricot/Images/Bipbip_haricot_im_00211.jpg'"
            ]
          },
          "metadata": {
            "tags": []
          },
          "execution_count": 28
        },
        {
          "output_type": "stream",
          "text": [
            "/content/Test_Dev/Bipbip/Haricot/Images/Bipbip_haricot_im_02781.jpg\n"
          ],
          "name": "stdout"
        },
        {
          "output_type": "execute_result",
          "data": {
            "application/vnd.google.colaboratory.intrinsic+json": {
              "type": "string"
            },
            "text/plain": [
              "'/content/Development_Dataset/Training/Bipbip/Haricot/Images/Bipbip_haricot_im_02781.jpg'"
            ]
          },
          "metadata": {
            "tags": []
          },
          "execution_count": 28
        },
        {
          "output_type": "stream",
          "text": [
            "/content/Test_Dev/Bipbip/Haricot/Images/Bipbip_haricot_im_07331.jpg\n"
          ],
          "name": "stdout"
        },
        {
          "output_type": "execute_result",
          "data": {
            "application/vnd.google.colaboratory.intrinsic+json": {
              "type": "string"
            },
            "text/plain": [
              "'/content/Development_Dataset/Training/Bipbip/Haricot/Images/Bipbip_haricot_im_07331.jpg'"
            ]
          },
          "metadata": {
            "tags": []
          },
          "execution_count": 28
        },
        {
          "output_type": "stream",
          "text": [
            "/content/Test_Dev/Bipbip/Haricot/Images/Bipbip_haricot_im_01341.jpg\n"
          ],
          "name": "stdout"
        },
        {
          "output_type": "execute_result",
          "data": {
            "application/vnd.google.colaboratory.intrinsic+json": {
              "type": "string"
            },
            "text/plain": [
              "'/content/Development_Dataset/Training/Bipbip/Haricot/Images/Bipbip_haricot_im_01341.jpg'"
            ]
          },
          "metadata": {
            "tags": []
          },
          "execution_count": 28
        },
        {
          "output_type": "stream",
          "text": [
            "/content/Test_Dev/Bipbip/Haricot/Images/Bipbip_haricot_im_02841.jpg\n"
          ],
          "name": "stdout"
        },
        {
          "output_type": "execute_result",
          "data": {
            "application/vnd.google.colaboratory.intrinsic+json": {
              "type": "string"
            },
            "text/plain": [
              "'/content/Development_Dataset/Training/Bipbip/Haricot/Images/Bipbip_haricot_im_02841.jpg'"
            ]
          },
          "metadata": {
            "tags": []
          },
          "execution_count": 28
        },
        {
          "output_type": "stream",
          "text": [
            "/content/Test_Dev/Bipbip/Haricot/Images/Bipbip_haricot_im_00951.jpg\n"
          ],
          "name": "stdout"
        },
        {
          "output_type": "execute_result",
          "data": {
            "application/vnd.google.colaboratory.intrinsic+json": {
              "type": "string"
            },
            "text/plain": [
              "'/content/Development_Dataset/Training/Bipbip/Haricot/Images/Bipbip_haricot_im_00951.jpg'"
            ]
          },
          "metadata": {
            "tags": []
          },
          "execution_count": 28
        },
        {
          "output_type": "stream",
          "text": [
            "/content/Test_Dev/Bipbip/Haricot/Images/Bipbip_haricot_im_02901.jpg\n"
          ],
          "name": "stdout"
        },
        {
          "output_type": "execute_result",
          "data": {
            "application/vnd.google.colaboratory.intrinsic+json": {
              "type": "string"
            },
            "text/plain": [
              "'/content/Development_Dataset/Training/Bipbip/Haricot/Images/Bipbip_haricot_im_02901.jpg'"
            ]
          },
          "metadata": {
            "tags": []
          },
          "execution_count": 28
        },
        {
          "output_type": "stream",
          "text": [
            "/content/Test_Dev/Bipbip/Haricot/Images/Bipbip_haricot_im_06751.jpg\n"
          ],
          "name": "stdout"
        },
        {
          "output_type": "execute_result",
          "data": {
            "application/vnd.google.colaboratory.intrinsic+json": {
              "type": "string"
            },
            "text/plain": [
              "'/content/Development_Dataset/Training/Bipbip/Haricot/Images/Bipbip_haricot_im_06751.jpg'"
            ]
          },
          "metadata": {
            "tags": []
          },
          "execution_count": 28
        },
        {
          "output_type": "stream",
          "text": [
            "/content/Test_Dev/Bipbip/Haricot/Images/Bipbip_haricot_im_02421.jpg\n"
          ],
          "name": "stdout"
        },
        {
          "output_type": "execute_result",
          "data": {
            "application/vnd.google.colaboratory.intrinsic+json": {
              "type": "string"
            },
            "text/plain": [
              "'/content/Development_Dataset/Training/Bipbip/Haricot/Images/Bipbip_haricot_im_02421.jpg'"
            ]
          },
          "metadata": {
            "tags": []
          },
          "execution_count": 28
        },
        {
          "output_type": "stream",
          "text": [
            "/content/Test_Dev/Bipbip/Haricot/Images/Bipbip_haricot_im_00721.jpg\n"
          ],
          "name": "stdout"
        },
        {
          "output_type": "execute_result",
          "data": {
            "application/vnd.google.colaboratory.intrinsic+json": {
              "type": "string"
            },
            "text/plain": [
              "'/content/Development_Dataset/Training/Bipbip/Haricot/Images/Bipbip_haricot_im_00721.jpg'"
            ]
          },
          "metadata": {
            "tags": []
          },
          "execution_count": 28
        },
        {
          "output_type": "stream",
          "text": [
            "/content/Test_Dev/Bipbip/Haricot/Images/Bipbip_haricot_im_00581.jpg\n"
          ],
          "name": "stdout"
        },
        {
          "output_type": "execute_result",
          "data": {
            "application/vnd.google.colaboratory.intrinsic+json": {
              "type": "string"
            },
            "text/plain": [
              "'/content/Development_Dataset/Training/Bipbip/Haricot/Images/Bipbip_haricot_im_00581.jpg'"
            ]
          },
          "metadata": {
            "tags": []
          },
          "execution_count": 28
        },
        {
          "output_type": "stream",
          "text": [
            "/content/Test_Dev/Bipbip/Haricot/Images/Bipbip_haricot_im_06581.jpg\n"
          ],
          "name": "stdout"
        },
        {
          "output_type": "execute_result",
          "data": {
            "application/vnd.google.colaboratory.intrinsic+json": {
              "type": "string"
            },
            "text/plain": [
              "'/content/Development_Dataset/Training/Bipbip/Haricot/Images/Bipbip_haricot_im_06581.jpg'"
            ]
          },
          "metadata": {
            "tags": []
          },
          "execution_count": 28
        },
        {
          "output_type": "stream",
          "text": [
            "/content/Test_Dev/Bipbip/Haricot/Images/Bipbip_haricot_im_07421.jpg\n"
          ],
          "name": "stdout"
        },
        {
          "output_type": "execute_result",
          "data": {
            "application/vnd.google.colaboratory.intrinsic+json": {
              "type": "string"
            },
            "text/plain": [
              "'/content/Development_Dataset/Training/Bipbip/Haricot/Images/Bipbip_haricot_im_07421.jpg'"
            ]
          },
          "metadata": {
            "tags": []
          },
          "execution_count": 28
        },
        {
          "output_type": "stream",
          "text": [
            "/content/Test_Dev/Bipbip/Haricot/Images/Bipbip_haricot_im_07181.jpg\n"
          ],
          "name": "stdout"
        },
        {
          "output_type": "execute_result",
          "data": {
            "application/vnd.google.colaboratory.intrinsic+json": {
              "type": "string"
            },
            "text/plain": [
              "'/content/Development_Dataset/Training/Bipbip/Haricot/Images/Bipbip_haricot_im_07181.jpg'"
            ]
          },
          "metadata": {
            "tags": []
          },
          "execution_count": 28
        },
        {
          "output_type": "stream",
          "text": [
            "/content/Test_Dev/Bipbip/Haricot/Masks/Bipbip_haricot_im_00951.png\n"
          ],
          "name": "stdout"
        },
        {
          "output_type": "execute_result",
          "data": {
            "application/vnd.google.colaboratory.intrinsic+json": {
              "type": "string"
            },
            "text/plain": [
              "'/content/Development_Dataset/Training/Bipbip/Haricot/Masks/Bipbip_haricot_im_00951.png'"
            ]
          },
          "metadata": {
            "tags": []
          },
          "execution_count": 28
        },
        {
          "output_type": "stream",
          "text": [
            "/content/Test_Dev/Bipbip/Haricot/Masks/Bipbip_haricot_im_07421.png\n"
          ],
          "name": "stdout"
        },
        {
          "output_type": "execute_result",
          "data": {
            "application/vnd.google.colaboratory.intrinsic+json": {
              "type": "string"
            },
            "text/plain": [
              "'/content/Development_Dataset/Training/Bipbip/Haricot/Masks/Bipbip_haricot_im_07421.png'"
            ]
          },
          "metadata": {
            "tags": []
          },
          "execution_count": 28
        },
        {
          "output_type": "stream",
          "text": [
            "/content/Test_Dev/Bipbip/Haricot/Masks/Bipbip_haricot_im_06751.png\n"
          ],
          "name": "stdout"
        },
        {
          "output_type": "execute_result",
          "data": {
            "application/vnd.google.colaboratory.intrinsic+json": {
              "type": "string"
            },
            "text/plain": [
              "'/content/Development_Dataset/Training/Bipbip/Haricot/Masks/Bipbip_haricot_im_06751.png'"
            ]
          },
          "metadata": {
            "tags": []
          },
          "execution_count": 28
        },
        {
          "output_type": "stream",
          "text": [
            "/content/Test_Dev/Bipbip/Haricot/Masks/Bipbip_haricot_im_07331.png\n"
          ],
          "name": "stdout"
        },
        {
          "output_type": "execute_result",
          "data": {
            "application/vnd.google.colaboratory.intrinsic+json": {
              "type": "string"
            },
            "text/plain": [
              "'/content/Development_Dataset/Training/Bipbip/Haricot/Masks/Bipbip_haricot_im_07331.png'"
            ]
          },
          "metadata": {
            "tags": []
          },
          "execution_count": 28
        },
        {
          "output_type": "stream",
          "text": [
            "/content/Test_Dev/Bipbip/Haricot/Masks/Bipbip_haricot_im_02901.png\n"
          ],
          "name": "stdout"
        },
        {
          "output_type": "execute_result",
          "data": {
            "application/vnd.google.colaboratory.intrinsic+json": {
              "type": "string"
            },
            "text/plain": [
              "'/content/Development_Dataset/Training/Bipbip/Haricot/Masks/Bipbip_haricot_im_02901.png'"
            ]
          },
          "metadata": {
            "tags": []
          },
          "execution_count": 28
        },
        {
          "output_type": "stream",
          "text": [
            "/content/Test_Dev/Bipbip/Haricot/Masks/Bipbip_haricot_im_00721.png\n"
          ],
          "name": "stdout"
        },
        {
          "output_type": "execute_result",
          "data": {
            "application/vnd.google.colaboratory.intrinsic+json": {
              "type": "string"
            },
            "text/plain": [
              "'/content/Development_Dataset/Training/Bipbip/Haricot/Masks/Bipbip_haricot_im_00721.png'"
            ]
          },
          "metadata": {
            "tags": []
          },
          "execution_count": 28
        },
        {
          "output_type": "stream",
          "text": [
            "/content/Test_Dev/Bipbip/Haricot/Masks/Bipbip_haricot_im_00211.png\n"
          ],
          "name": "stdout"
        },
        {
          "output_type": "execute_result",
          "data": {
            "application/vnd.google.colaboratory.intrinsic+json": {
              "type": "string"
            },
            "text/plain": [
              "'/content/Development_Dataset/Training/Bipbip/Haricot/Masks/Bipbip_haricot_im_00211.png'"
            ]
          },
          "metadata": {
            "tags": []
          },
          "execution_count": 28
        },
        {
          "output_type": "stream",
          "text": [
            "/content/Test_Dev/Bipbip/Haricot/Masks/Bipbip_haricot_im_00581.png\n"
          ],
          "name": "stdout"
        },
        {
          "output_type": "execute_result",
          "data": {
            "application/vnd.google.colaboratory.intrinsic+json": {
              "type": "string"
            },
            "text/plain": [
              "'/content/Development_Dataset/Training/Bipbip/Haricot/Masks/Bipbip_haricot_im_00581.png'"
            ]
          },
          "metadata": {
            "tags": []
          },
          "execution_count": 28
        },
        {
          "output_type": "stream",
          "text": [
            "/content/Test_Dev/Bipbip/Haricot/Masks/Bipbip_haricot_im_02781.png\n"
          ],
          "name": "stdout"
        },
        {
          "output_type": "execute_result",
          "data": {
            "application/vnd.google.colaboratory.intrinsic+json": {
              "type": "string"
            },
            "text/plain": [
              "'/content/Development_Dataset/Training/Bipbip/Haricot/Masks/Bipbip_haricot_im_02781.png'"
            ]
          },
          "metadata": {
            "tags": []
          },
          "execution_count": 28
        },
        {
          "output_type": "stream",
          "text": [
            "/content/Test_Dev/Bipbip/Haricot/Masks/Bipbip_haricot_im_02421.png\n"
          ],
          "name": "stdout"
        },
        {
          "output_type": "execute_result",
          "data": {
            "application/vnd.google.colaboratory.intrinsic+json": {
              "type": "string"
            },
            "text/plain": [
              "'/content/Development_Dataset/Training/Bipbip/Haricot/Masks/Bipbip_haricot_im_02421.png'"
            ]
          },
          "metadata": {
            "tags": []
          },
          "execution_count": 28
        },
        {
          "output_type": "stream",
          "text": [
            "/content/Test_Dev/Bipbip/Haricot/Masks/Bipbip_haricot_im_02841.png\n"
          ],
          "name": "stdout"
        },
        {
          "output_type": "execute_result",
          "data": {
            "application/vnd.google.colaboratory.intrinsic+json": {
              "type": "string"
            },
            "text/plain": [
              "'/content/Development_Dataset/Training/Bipbip/Haricot/Masks/Bipbip_haricot_im_02841.png'"
            ]
          },
          "metadata": {
            "tags": []
          },
          "execution_count": 28
        },
        {
          "output_type": "stream",
          "text": [
            "/content/Test_Dev/Bipbip/Haricot/Masks/Bipbip_haricot_im_03691.png\n"
          ],
          "name": "stdout"
        },
        {
          "output_type": "execute_result",
          "data": {
            "application/vnd.google.colaboratory.intrinsic+json": {
              "type": "string"
            },
            "text/plain": [
              "'/content/Development_Dataset/Training/Bipbip/Haricot/Masks/Bipbip_haricot_im_03691.png'"
            ]
          },
          "metadata": {
            "tags": []
          },
          "execution_count": 28
        },
        {
          "output_type": "stream",
          "text": [
            "/content/Test_Dev/Bipbip/Haricot/Masks/Bipbip_haricot_im_07181.png\n"
          ],
          "name": "stdout"
        },
        {
          "output_type": "execute_result",
          "data": {
            "application/vnd.google.colaboratory.intrinsic+json": {
              "type": "string"
            },
            "text/plain": [
              "'/content/Development_Dataset/Training/Bipbip/Haricot/Masks/Bipbip_haricot_im_07181.png'"
            ]
          },
          "metadata": {
            "tags": []
          },
          "execution_count": 28
        },
        {
          "output_type": "stream",
          "text": [
            "/content/Test_Dev/Bipbip/Haricot/Masks/Bipbip_haricot_im_01341.png\n"
          ],
          "name": "stdout"
        },
        {
          "output_type": "execute_result",
          "data": {
            "application/vnd.google.colaboratory.intrinsic+json": {
              "type": "string"
            },
            "text/plain": [
              "'/content/Development_Dataset/Training/Bipbip/Haricot/Masks/Bipbip_haricot_im_01341.png'"
            ]
          },
          "metadata": {
            "tags": []
          },
          "execution_count": 28
        },
        {
          "output_type": "stream",
          "text": [
            "/content/Test_Dev/Bipbip/Haricot/Masks/Bipbip_haricot_im_06581.png\n"
          ],
          "name": "stdout"
        },
        {
          "output_type": "execute_result",
          "data": {
            "application/vnd.google.colaboratory.intrinsic+json": {
              "type": "string"
            },
            "text/plain": [
              "'/content/Development_Dataset/Training/Bipbip/Haricot/Masks/Bipbip_haricot_im_06581.png'"
            ]
          },
          "metadata": {
            "tags": []
          },
          "execution_count": 28
        },
        {
          "output_type": "stream",
          "text": [
            "/content/Test_Dev/Bipbip/Mais/Images/Bipbip_mais_im_09571.jpg\n"
          ],
          "name": "stdout"
        },
        {
          "output_type": "execute_result",
          "data": {
            "application/vnd.google.colaboratory.intrinsic+json": {
              "type": "string"
            },
            "text/plain": [
              "'/content/Development_Dataset/Training/Bipbip/Mais/Images/Bipbip_mais_im_09571.jpg'"
            ]
          },
          "metadata": {
            "tags": []
          },
          "execution_count": 28
        },
        {
          "output_type": "stream",
          "text": [
            "/content/Test_Dev/Bipbip/Mais/Images/Bipbip_mais_im_02211.jpg\n"
          ],
          "name": "stdout"
        },
        {
          "output_type": "execute_result",
          "data": {
            "application/vnd.google.colaboratory.intrinsic+json": {
              "type": "string"
            },
            "text/plain": [
              "'/content/Development_Dataset/Training/Bipbip/Mais/Images/Bipbip_mais_im_02211.jpg'"
            ]
          },
          "metadata": {
            "tags": []
          },
          "execution_count": 28
        },
        {
          "output_type": "stream",
          "text": [
            "/content/Test_Dev/Bipbip/Mais/Images/Bipbip_mais_im_09781.jpg\n"
          ],
          "name": "stdout"
        },
        {
          "output_type": "execute_result",
          "data": {
            "application/vnd.google.colaboratory.intrinsic+json": {
              "type": "string"
            },
            "text/plain": [
              "'/content/Development_Dataset/Training/Bipbip/Mais/Images/Bipbip_mais_im_09781.jpg'"
            ]
          },
          "metadata": {
            "tags": []
          },
          "execution_count": 28
        },
        {
          "output_type": "stream",
          "text": [
            "/content/Test_Dev/Bipbip/Mais/Images/Bipbip_mais_im_06831.jpg\n"
          ],
          "name": "stdout"
        },
        {
          "output_type": "execute_result",
          "data": {
            "application/vnd.google.colaboratory.intrinsic+json": {
              "type": "string"
            },
            "text/plain": [
              "'/content/Development_Dataset/Training/Bipbip/Mais/Images/Bipbip_mais_im_06831.jpg'"
            ]
          },
          "metadata": {
            "tags": []
          },
          "execution_count": 28
        },
        {
          "output_type": "stream",
          "text": [
            "/content/Test_Dev/Bipbip/Mais/Images/Bipbip_mais_im_03621.jpg\n"
          ],
          "name": "stdout"
        },
        {
          "output_type": "execute_result",
          "data": {
            "application/vnd.google.colaboratory.intrinsic+json": {
              "type": "string"
            },
            "text/plain": [
              "'/content/Development_Dataset/Training/Bipbip/Mais/Images/Bipbip_mais_im_03621.jpg'"
            ]
          },
          "metadata": {
            "tags": []
          },
          "execution_count": 28
        },
        {
          "output_type": "stream",
          "text": [
            "/content/Test_Dev/Bipbip/Mais/Images/Bipbip_mais_im_06381.jpg\n"
          ],
          "name": "stdout"
        },
        {
          "output_type": "execute_result",
          "data": {
            "application/vnd.google.colaboratory.intrinsic+json": {
              "type": "string"
            },
            "text/plain": [
              "'/content/Development_Dataset/Training/Bipbip/Mais/Images/Bipbip_mais_im_06381.jpg'"
            ]
          },
          "metadata": {
            "tags": []
          },
          "execution_count": 28
        },
        {
          "output_type": "stream",
          "text": [
            "/content/Test_Dev/Bipbip/Mais/Images/Bipbip_mais_im_10941.jpg\n"
          ],
          "name": "stdout"
        },
        {
          "output_type": "execute_result",
          "data": {
            "application/vnd.google.colaboratory.intrinsic+json": {
              "type": "string"
            },
            "text/plain": [
              "'/content/Development_Dataset/Training/Bipbip/Mais/Images/Bipbip_mais_im_10941.jpg'"
            ]
          },
          "metadata": {
            "tags": []
          },
          "execution_count": 28
        },
        {
          "output_type": "stream",
          "text": [
            "/content/Test_Dev/Bipbip/Mais/Images/Bipbip_mais_im_04121.jpg\n"
          ],
          "name": "stdout"
        },
        {
          "output_type": "execute_result",
          "data": {
            "application/vnd.google.colaboratory.intrinsic+json": {
              "type": "string"
            },
            "text/plain": [
              "'/content/Development_Dataset/Training/Bipbip/Mais/Images/Bipbip_mais_im_04121.jpg'"
            ]
          },
          "metadata": {
            "tags": []
          },
          "execution_count": 28
        },
        {
          "output_type": "stream",
          "text": [
            "/content/Test_Dev/Bipbip/Mais/Images/Bipbip_mais_im_01931.jpg\n"
          ],
          "name": "stdout"
        },
        {
          "output_type": "execute_result",
          "data": {
            "application/vnd.google.colaboratory.intrinsic+json": {
              "type": "string"
            },
            "text/plain": [
              "'/content/Development_Dataset/Training/Bipbip/Mais/Images/Bipbip_mais_im_01931.jpg'"
            ]
          },
          "metadata": {
            "tags": []
          },
          "execution_count": 28
        },
        {
          "output_type": "stream",
          "text": [
            "/content/Test_Dev/Bipbip/Mais/Images/Bipbip_mais_im_07681.jpg\n"
          ],
          "name": "stdout"
        },
        {
          "output_type": "execute_result",
          "data": {
            "application/vnd.google.colaboratory.intrinsic+json": {
              "type": "string"
            },
            "text/plain": [
              "'/content/Development_Dataset/Training/Bipbip/Mais/Images/Bipbip_mais_im_07681.jpg'"
            ]
          },
          "metadata": {
            "tags": []
          },
          "execution_count": 28
        },
        {
          "output_type": "stream",
          "text": [
            "/content/Test_Dev/Bipbip/Mais/Images/Bipbip_mais_im_10441.jpg\n"
          ],
          "name": "stdout"
        },
        {
          "output_type": "execute_result",
          "data": {
            "application/vnd.google.colaboratory.intrinsic+json": {
              "type": "string"
            },
            "text/plain": [
              "'/content/Development_Dataset/Training/Bipbip/Mais/Images/Bipbip_mais_im_10441.jpg'"
            ]
          },
          "metadata": {
            "tags": []
          },
          "execution_count": 28
        },
        {
          "output_type": "stream",
          "text": [
            "/content/Test_Dev/Bipbip/Mais/Images/Bipbip_mais_im_05521.jpg\n"
          ],
          "name": "stdout"
        },
        {
          "output_type": "execute_result",
          "data": {
            "application/vnd.google.colaboratory.intrinsic+json": {
              "type": "string"
            },
            "text/plain": [
              "'/content/Development_Dataset/Training/Bipbip/Mais/Images/Bipbip_mais_im_05521.jpg'"
            ]
          },
          "metadata": {
            "tags": []
          },
          "execution_count": 28
        },
        {
          "output_type": "stream",
          "text": [
            "/content/Test_Dev/Bipbip/Mais/Images/Bipbip_mais_im_07611.jpg\n"
          ],
          "name": "stdout"
        },
        {
          "output_type": "execute_result",
          "data": {
            "application/vnd.google.colaboratory.intrinsic+json": {
              "type": "string"
            },
            "text/plain": [
              "'/content/Development_Dataset/Training/Bipbip/Mais/Images/Bipbip_mais_im_07611.jpg'"
            ]
          },
          "metadata": {
            "tags": []
          },
          "execution_count": 28
        },
        {
          "output_type": "stream",
          "text": [
            "/content/Test_Dev/Bipbip/Mais/Images/Bipbip_mais_im_11021.jpg\n"
          ],
          "name": "stdout"
        },
        {
          "output_type": "execute_result",
          "data": {
            "application/vnd.google.colaboratory.intrinsic+json": {
              "type": "string"
            },
            "text/plain": [
              "'/content/Development_Dataset/Training/Bipbip/Mais/Images/Bipbip_mais_im_11021.jpg'"
            ]
          },
          "metadata": {
            "tags": []
          },
          "execution_count": 28
        },
        {
          "output_type": "stream",
          "text": [
            "/content/Test_Dev/Bipbip/Mais/Images/Bipbip_mais_im_09091.jpg\n"
          ],
          "name": "stdout"
        },
        {
          "output_type": "execute_result",
          "data": {
            "application/vnd.google.colaboratory.intrinsic+json": {
              "type": "string"
            },
            "text/plain": [
              "'/content/Development_Dataset/Training/Bipbip/Mais/Images/Bipbip_mais_im_09091.jpg'"
            ]
          },
          "metadata": {
            "tags": []
          },
          "execution_count": 28
        },
        {
          "output_type": "stream",
          "text": [
            "/content/Test_Dev/Bipbip/Mais/Masks/Bipbip_mais_im_11021.png\n"
          ],
          "name": "stdout"
        },
        {
          "output_type": "execute_result",
          "data": {
            "application/vnd.google.colaboratory.intrinsic+json": {
              "type": "string"
            },
            "text/plain": [
              "'/content/Development_Dataset/Training/Bipbip/Mais/Masks/Bipbip_mais_im_11021.png'"
            ]
          },
          "metadata": {
            "tags": []
          },
          "execution_count": 28
        },
        {
          "output_type": "stream",
          "text": [
            "/content/Test_Dev/Bipbip/Mais/Masks/Bipbip_mais_im_09781.png\n"
          ],
          "name": "stdout"
        },
        {
          "output_type": "execute_result",
          "data": {
            "application/vnd.google.colaboratory.intrinsic+json": {
              "type": "string"
            },
            "text/plain": [
              "'/content/Development_Dataset/Training/Bipbip/Mais/Masks/Bipbip_mais_im_09781.png'"
            ]
          },
          "metadata": {
            "tags": []
          },
          "execution_count": 28
        },
        {
          "output_type": "stream",
          "text": [
            "/content/Test_Dev/Bipbip/Mais/Masks/Bipbip_mais_im_07611.png\n"
          ],
          "name": "stdout"
        },
        {
          "output_type": "execute_result",
          "data": {
            "application/vnd.google.colaboratory.intrinsic+json": {
              "type": "string"
            },
            "text/plain": [
              "'/content/Development_Dataset/Training/Bipbip/Mais/Masks/Bipbip_mais_im_07611.png'"
            ]
          },
          "metadata": {
            "tags": []
          },
          "execution_count": 28
        },
        {
          "output_type": "stream",
          "text": [
            "/content/Test_Dev/Bipbip/Mais/Masks/Bipbip_mais_im_09571.png\n"
          ],
          "name": "stdout"
        },
        {
          "output_type": "execute_result",
          "data": {
            "application/vnd.google.colaboratory.intrinsic+json": {
              "type": "string"
            },
            "text/plain": [
              "'/content/Development_Dataset/Training/Bipbip/Mais/Masks/Bipbip_mais_im_09571.png'"
            ]
          },
          "metadata": {
            "tags": []
          },
          "execution_count": 28
        },
        {
          "output_type": "stream",
          "text": [
            "/content/Test_Dev/Bipbip/Mais/Masks/Bipbip_mais_im_05521.png\n"
          ],
          "name": "stdout"
        },
        {
          "output_type": "execute_result",
          "data": {
            "application/vnd.google.colaboratory.intrinsic+json": {
              "type": "string"
            },
            "text/plain": [
              "'/content/Development_Dataset/Training/Bipbip/Mais/Masks/Bipbip_mais_im_05521.png'"
            ]
          },
          "metadata": {
            "tags": []
          },
          "execution_count": 28
        },
        {
          "output_type": "stream",
          "text": [
            "/content/Test_Dev/Bipbip/Mais/Masks/Bipbip_mais_im_10441.png\n"
          ],
          "name": "stdout"
        },
        {
          "output_type": "execute_result",
          "data": {
            "application/vnd.google.colaboratory.intrinsic+json": {
              "type": "string"
            },
            "text/plain": [
              "'/content/Development_Dataset/Training/Bipbip/Mais/Masks/Bipbip_mais_im_10441.png'"
            ]
          },
          "metadata": {
            "tags": []
          },
          "execution_count": 28
        },
        {
          "output_type": "stream",
          "text": [
            "/content/Test_Dev/Bipbip/Mais/Masks/Bipbip_mais_im_06831.png\n"
          ],
          "name": "stdout"
        },
        {
          "output_type": "execute_result",
          "data": {
            "application/vnd.google.colaboratory.intrinsic+json": {
              "type": "string"
            },
            "text/plain": [
              "'/content/Development_Dataset/Training/Bipbip/Mais/Masks/Bipbip_mais_im_06831.png'"
            ]
          },
          "metadata": {
            "tags": []
          },
          "execution_count": 28
        },
        {
          "output_type": "stream",
          "text": [
            "/content/Test_Dev/Bipbip/Mais/Masks/Bipbip_mais_im_03621.png\n"
          ],
          "name": "stdout"
        },
        {
          "output_type": "execute_result",
          "data": {
            "application/vnd.google.colaboratory.intrinsic+json": {
              "type": "string"
            },
            "text/plain": [
              "'/content/Development_Dataset/Training/Bipbip/Mais/Masks/Bipbip_mais_im_03621.png'"
            ]
          },
          "metadata": {
            "tags": []
          },
          "execution_count": 28
        },
        {
          "output_type": "stream",
          "text": [
            "/content/Test_Dev/Bipbip/Mais/Masks/Bipbip_mais_im_10941.png\n"
          ],
          "name": "stdout"
        },
        {
          "output_type": "execute_result",
          "data": {
            "application/vnd.google.colaboratory.intrinsic+json": {
              "type": "string"
            },
            "text/plain": [
              "'/content/Development_Dataset/Training/Bipbip/Mais/Masks/Bipbip_mais_im_10941.png'"
            ]
          },
          "metadata": {
            "tags": []
          },
          "execution_count": 28
        },
        {
          "output_type": "stream",
          "text": [
            "/content/Test_Dev/Bipbip/Mais/Masks/Bipbip_mais_im_09091.png\n"
          ],
          "name": "stdout"
        },
        {
          "output_type": "execute_result",
          "data": {
            "application/vnd.google.colaboratory.intrinsic+json": {
              "type": "string"
            },
            "text/plain": [
              "'/content/Development_Dataset/Training/Bipbip/Mais/Masks/Bipbip_mais_im_09091.png'"
            ]
          },
          "metadata": {
            "tags": []
          },
          "execution_count": 28
        },
        {
          "output_type": "stream",
          "text": [
            "/content/Test_Dev/Bipbip/Mais/Masks/Bipbip_mais_im_06381.png\n"
          ],
          "name": "stdout"
        },
        {
          "output_type": "execute_result",
          "data": {
            "application/vnd.google.colaboratory.intrinsic+json": {
              "type": "string"
            },
            "text/plain": [
              "'/content/Development_Dataset/Training/Bipbip/Mais/Masks/Bipbip_mais_im_06381.png'"
            ]
          },
          "metadata": {
            "tags": []
          },
          "execution_count": 28
        },
        {
          "output_type": "stream",
          "text": [
            "/content/Test_Dev/Bipbip/Mais/Masks/Bipbip_mais_im_07681.png\n"
          ],
          "name": "stdout"
        },
        {
          "output_type": "execute_result",
          "data": {
            "application/vnd.google.colaboratory.intrinsic+json": {
              "type": "string"
            },
            "text/plain": [
              "'/content/Development_Dataset/Training/Bipbip/Mais/Masks/Bipbip_mais_im_07681.png'"
            ]
          },
          "metadata": {
            "tags": []
          },
          "execution_count": 28
        },
        {
          "output_type": "stream",
          "text": [
            "/content/Test_Dev/Bipbip/Mais/Masks/Bipbip_mais_im_02211.png\n"
          ],
          "name": "stdout"
        },
        {
          "output_type": "execute_result",
          "data": {
            "application/vnd.google.colaboratory.intrinsic+json": {
              "type": "string"
            },
            "text/plain": [
              "'/content/Development_Dataset/Training/Bipbip/Mais/Masks/Bipbip_mais_im_02211.png'"
            ]
          },
          "metadata": {
            "tags": []
          },
          "execution_count": 28
        },
        {
          "output_type": "stream",
          "text": [
            "/content/Test_Dev/Bipbip/Mais/Masks/Bipbip_mais_im_04121.png\n"
          ],
          "name": "stdout"
        },
        {
          "output_type": "execute_result",
          "data": {
            "application/vnd.google.colaboratory.intrinsic+json": {
              "type": "string"
            },
            "text/plain": [
              "'/content/Development_Dataset/Training/Bipbip/Mais/Masks/Bipbip_mais_im_04121.png'"
            ]
          },
          "metadata": {
            "tags": []
          },
          "execution_count": 28
        },
        {
          "output_type": "stream",
          "text": [
            "/content/Test_Dev/Bipbip/Mais/Masks/Bipbip_mais_im_01931.png\n"
          ],
          "name": "stdout"
        },
        {
          "output_type": "execute_result",
          "data": {
            "application/vnd.google.colaboratory.intrinsic+json": {
              "type": "string"
            },
            "text/plain": [
              "'/content/Development_Dataset/Training/Bipbip/Mais/Masks/Bipbip_mais_im_01931.png'"
            ]
          },
          "metadata": {
            "tags": []
          },
          "execution_count": 28
        },
        {
          "output_type": "stream",
          "text": [
            "/content/Test_Dev/Pead/Haricot/Images/Pead_haricot_00340_i750.jpg\n"
          ],
          "name": "stdout"
        },
        {
          "output_type": "execute_result",
          "data": {
            "application/vnd.google.colaboratory.intrinsic+json": {
              "type": "string"
            },
            "text/plain": [
              "'/content/Development_Dataset/Training/Pead/Haricot/Images/Pead_haricot_00340_i750.jpg'"
            ]
          },
          "metadata": {
            "tags": []
          },
          "execution_count": 28
        },
        {
          "output_type": "stream",
          "text": [
            "/content/Test_Dev/Pead/Haricot/Images/Pead_haricot_00641_i750.jpg\n"
          ],
          "name": "stdout"
        },
        {
          "output_type": "execute_result",
          "data": {
            "application/vnd.google.colaboratory.intrinsic+json": {
              "type": "string"
            },
            "text/plain": [
              "'/content/Development_Dataset/Training/Pead/Haricot/Images/Pead_haricot_00641_i750.jpg'"
            ]
          },
          "metadata": {
            "tags": []
          },
          "execution_count": 28
        },
        {
          "output_type": "stream",
          "text": [
            "/content/Test_Dev/Pead/Haricot/Images/Pead_haricot_00353_i750.jpg\n"
          ],
          "name": "stdout"
        },
        {
          "output_type": "execute_result",
          "data": {
            "application/vnd.google.colaboratory.intrinsic+json": {
              "type": "string"
            },
            "text/plain": [
              "'/content/Development_Dataset/Training/Pead/Haricot/Images/Pead_haricot_00353_i750.jpg'"
            ]
          },
          "metadata": {
            "tags": []
          },
          "execution_count": 28
        },
        {
          "output_type": "stream",
          "text": [
            "/content/Test_Dev/Pead/Haricot/Images/Pead_haricot_00648_i750.jpg\n"
          ],
          "name": "stdout"
        },
        {
          "output_type": "execute_result",
          "data": {
            "application/vnd.google.colaboratory.intrinsic+json": {
              "type": "string"
            },
            "text/plain": [
              "'/content/Development_Dataset/Training/Pead/Haricot/Images/Pead_haricot_00648_i750.jpg'"
            ]
          },
          "metadata": {
            "tags": []
          },
          "execution_count": 28
        },
        {
          "output_type": "stream",
          "text": [
            "/content/Test_Dev/Pead/Haricot/Images/Pead_haricot_00704_i750.jpg\n"
          ],
          "name": "stdout"
        },
        {
          "output_type": "execute_result",
          "data": {
            "application/vnd.google.colaboratory.intrinsic+json": {
              "type": "string"
            },
            "text/plain": [
              "'/content/Development_Dataset/Training/Pead/Haricot/Images/Pead_haricot_00704_i750.jpg'"
            ]
          },
          "metadata": {
            "tags": []
          },
          "execution_count": 28
        },
        {
          "output_type": "stream",
          "text": [
            "/content/Test_Dev/Pead/Haricot/Images/Pead_haricot_00605_i750.jpg\n"
          ],
          "name": "stdout"
        },
        {
          "output_type": "execute_result",
          "data": {
            "application/vnd.google.colaboratory.intrinsic+json": {
              "type": "string"
            },
            "text/plain": [
              "'/content/Development_Dataset/Training/Pead/Haricot/Images/Pead_haricot_00605_i750.jpg'"
            ]
          },
          "metadata": {
            "tags": []
          },
          "execution_count": 28
        },
        {
          "output_type": "stream",
          "text": [
            "/content/Test_Dev/Pead/Haricot/Images/Pead_haricot_00628_i750.jpg\n"
          ],
          "name": "stdout"
        },
        {
          "output_type": "execute_result",
          "data": {
            "application/vnd.google.colaboratory.intrinsic+json": {
              "type": "string"
            },
            "text/plain": [
              "'/content/Development_Dataset/Training/Pead/Haricot/Images/Pead_haricot_00628_i750.jpg'"
            ]
          },
          "metadata": {
            "tags": []
          },
          "execution_count": 28
        },
        {
          "output_type": "stream",
          "text": [
            "/content/Test_Dev/Pead/Haricot/Images/Pead_haricot_00427_i750.jpg\n"
          ],
          "name": "stdout"
        },
        {
          "output_type": "execute_result",
          "data": {
            "application/vnd.google.colaboratory.intrinsic+json": {
              "type": "string"
            },
            "text/plain": [
              "'/content/Development_Dataset/Training/Pead/Haricot/Images/Pead_haricot_00427_i750.jpg'"
            ]
          },
          "metadata": {
            "tags": []
          },
          "execution_count": 28
        },
        {
          "output_type": "stream",
          "text": [
            "/content/Test_Dev/Pead/Haricot/Images/Pead_haricot_00239_i750.jpg\n"
          ],
          "name": "stdout"
        },
        {
          "output_type": "execute_result",
          "data": {
            "application/vnd.google.colaboratory.intrinsic+json": {
              "type": "string"
            },
            "text/plain": [
              "'/content/Development_Dataset/Training/Pead/Haricot/Images/Pead_haricot_00239_i750.jpg'"
            ]
          },
          "metadata": {
            "tags": []
          },
          "execution_count": 28
        },
        {
          "output_type": "stream",
          "text": [
            "/content/Test_Dev/Pead/Haricot/Images/Pead_haricot_00143_i750.jpg\n"
          ],
          "name": "stdout"
        },
        {
          "output_type": "execute_result",
          "data": {
            "application/vnd.google.colaboratory.intrinsic+json": {
              "type": "string"
            },
            "text/plain": [
              "'/content/Development_Dataset/Training/Pead/Haricot/Images/Pead_haricot_00143_i750.jpg'"
            ]
          },
          "metadata": {
            "tags": []
          },
          "execution_count": 28
        },
        {
          "output_type": "stream",
          "text": [
            "/content/Test_Dev/Pead/Haricot/Images/Pead_haricot_00631_i750.jpg\n"
          ],
          "name": "stdout"
        },
        {
          "output_type": "execute_result",
          "data": {
            "application/vnd.google.colaboratory.intrinsic+json": {
              "type": "string"
            },
            "text/plain": [
              "'/content/Development_Dataset/Training/Pead/Haricot/Images/Pead_haricot_00631_i750.jpg'"
            ]
          },
          "metadata": {
            "tags": []
          },
          "execution_count": 28
        },
        {
          "output_type": "stream",
          "text": [
            "/content/Test_Dev/Pead/Haricot/Images/Pead_haricot_00291_i750.jpg\n"
          ],
          "name": "stdout"
        },
        {
          "output_type": "execute_result",
          "data": {
            "application/vnd.google.colaboratory.intrinsic+json": {
              "type": "string"
            },
            "text/plain": [
              "'/content/Development_Dataset/Training/Pead/Haricot/Images/Pead_haricot_00291_i750.jpg'"
            ]
          },
          "metadata": {
            "tags": []
          },
          "execution_count": 28
        },
        {
          "output_type": "stream",
          "text": [
            "/content/Test_Dev/Pead/Haricot/Images/Pead_haricot_00130_i750.jpg\n"
          ],
          "name": "stdout"
        },
        {
          "output_type": "execute_result",
          "data": {
            "application/vnd.google.colaboratory.intrinsic+json": {
              "type": "string"
            },
            "text/plain": [
              "'/content/Development_Dataset/Training/Pead/Haricot/Images/Pead_haricot_00130_i750.jpg'"
            ]
          },
          "metadata": {
            "tags": []
          },
          "execution_count": 28
        },
        {
          "output_type": "stream",
          "text": [
            "/content/Test_Dev/Pead/Haricot/Images/Pead_haricot_00463_i750.jpg\n"
          ],
          "name": "stdout"
        },
        {
          "output_type": "execute_result",
          "data": {
            "application/vnd.google.colaboratory.intrinsic+json": {
              "type": "string"
            },
            "text/plain": [
              "'/content/Development_Dataset/Training/Pead/Haricot/Images/Pead_haricot_00463_i750.jpg'"
            ]
          },
          "metadata": {
            "tags": []
          },
          "execution_count": 28
        },
        {
          "output_type": "stream",
          "text": [
            "/content/Test_Dev/Pead/Haricot/Images/Pead_haricot_00682_i750.jpg\n"
          ],
          "name": "stdout"
        },
        {
          "output_type": "execute_result",
          "data": {
            "application/vnd.google.colaboratory.intrinsic+json": {
              "type": "string"
            },
            "text/plain": [
              "'/content/Development_Dataset/Training/Pead/Haricot/Images/Pead_haricot_00682_i750.jpg'"
            ]
          },
          "metadata": {
            "tags": []
          },
          "execution_count": 28
        },
        {
          "output_type": "stream",
          "text": [
            "/content/Test_Dev/Pead/Haricot/Masks/Pead_haricot_00340_i750.png\n"
          ],
          "name": "stdout"
        },
        {
          "output_type": "execute_result",
          "data": {
            "application/vnd.google.colaboratory.intrinsic+json": {
              "type": "string"
            },
            "text/plain": [
              "'/content/Development_Dataset/Training/Pead/Haricot/Masks/Pead_haricot_00340_i750.png'"
            ]
          },
          "metadata": {
            "tags": []
          },
          "execution_count": 28
        },
        {
          "output_type": "stream",
          "text": [
            "/content/Test_Dev/Pead/Haricot/Masks/Pead_haricot_00239_i750.png\n"
          ],
          "name": "stdout"
        },
        {
          "output_type": "execute_result",
          "data": {
            "application/vnd.google.colaboratory.intrinsic+json": {
              "type": "string"
            },
            "text/plain": [
              "'/content/Development_Dataset/Training/Pead/Haricot/Masks/Pead_haricot_00239_i750.png'"
            ]
          },
          "metadata": {
            "tags": []
          },
          "execution_count": 28
        },
        {
          "output_type": "stream",
          "text": [
            "/content/Test_Dev/Pead/Haricot/Masks/Pead_haricot_00143_i750.png\n"
          ],
          "name": "stdout"
        },
        {
          "output_type": "execute_result",
          "data": {
            "application/vnd.google.colaboratory.intrinsic+json": {
              "type": "string"
            },
            "text/plain": [
              "'/content/Development_Dataset/Training/Pead/Haricot/Masks/Pead_haricot_00143_i750.png'"
            ]
          },
          "metadata": {
            "tags": []
          },
          "execution_count": 28
        },
        {
          "output_type": "stream",
          "text": [
            "/content/Test_Dev/Pead/Haricot/Masks/Pead_haricot_00427_i750.png\n"
          ],
          "name": "stdout"
        },
        {
          "output_type": "execute_result",
          "data": {
            "application/vnd.google.colaboratory.intrinsic+json": {
              "type": "string"
            },
            "text/plain": [
              "'/content/Development_Dataset/Training/Pead/Haricot/Masks/Pead_haricot_00427_i750.png'"
            ]
          },
          "metadata": {
            "tags": []
          },
          "execution_count": 28
        },
        {
          "output_type": "stream",
          "text": [
            "/content/Test_Dev/Pead/Haricot/Masks/Pead_haricot_00682_i750.png\n"
          ],
          "name": "stdout"
        },
        {
          "output_type": "execute_result",
          "data": {
            "application/vnd.google.colaboratory.intrinsic+json": {
              "type": "string"
            },
            "text/plain": [
              "'/content/Development_Dataset/Training/Pead/Haricot/Masks/Pead_haricot_00682_i750.png'"
            ]
          },
          "metadata": {
            "tags": []
          },
          "execution_count": 28
        },
        {
          "output_type": "stream",
          "text": [
            "/content/Test_Dev/Pead/Haricot/Masks/Pead_haricot_00605_i750.png\n"
          ],
          "name": "stdout"
        },
        {
          "output_type": "execute_result",
          "data": {
            "application/vnd.google.colaboratory.intrinsic+json": {
              "type": "string"
            },
            "text/plain": [
              "'/content/Development_Dataset/Training/Pead/Haricot/Masks/Pead_haricot_00605_i750.png'"
            ]
          },
          "metadata": {
            "tags": []
          },
          "execution_count": 28
        },
        {
          "output_type": "stream",
          "text": [
            "/content/Test_Dev/Pead/Haricot/Masks/Pead_haricot_00291_i750.png\n"
          ],
          "name": "stdout"
        },
        {
          "output_type": "execute_result",
          "data": {
            "application/vnd.google.colaboratory.intrinsic+json": {
              "type": "string"
            },
            "text/plain": [
              "'/content/Development_Dataset/Training/Pead/Haricot/Masks/Pead_haricot_00291_i750.png'"
            ]
          },
          "metadata": {
            "tags": []
          },
          "execution_count": 28
        },
        {
          "output_type": "stream",
          "text": [
            "/content/Test_Dev/Pead/Haricot/Masks/Pead_haricot_00704_i750.png\n"
          ],
          "name": "stdout"
        },
        {
          "output_type": "execute_result",
          "data": {
            "application/vnd.google.colaboratory.intrinsic+json": {
              "type": "string"
            },
            "text/plain": [
              "'/content/Development_Dataset/Training/Pead/Haricot/Masks/Pead_haricot_00704_i750.png'"
            ]
          },
          "metadata": {
            "tags": []
          },
          "execution_count": 28
        },
        {
          "output_type": "stream",
          "text": [
            "/content/Test_Dev/Pead/Haricot/Masks/Pead_haricot_00648_i750.png\n"
          ],
          "name": "stdout"
        },
        {
          "output_type": "execute_result",
          "data": {
            "application/vnd.google.colaboratory.intrinsic+json": {
              "type": "string"
            },
            "text/plain": [
              "'/content/Development_Dataset/Training/Pead/Haricot/Masks/Pead_haricot_00648_i750.png'"
            ]
          },
          "metadata": {
            "tags": []
          },
          "execution_count": 28
        },
        {
          "output_type": "stream",
          "text": [
            "/content/Test_Dev/Pead/Haricot/Masks/Pead_haricot_00628_i750.png\n"
          ],
          "name": "stdout"
        },
        {
          "output_type": "execute_result",
          "data": {
            "application/vnd.google.colaboratory.intrinsic+json": {
              "type": "string"
            },
            "text/plain": [
              "'/content/Development_Dataset/Training/Pead/Haricot/Masks/Pead_haricot_00628_i750.png'"
            ]
          },
          "metadata": {
            "tags": []
          },
          "execution_count": 28
        },
        {
          "output_type": "stream",
          "text": [
            "/content/Test_Dev/Pead/Haricot/Masks/Pead_haricot_00353_i750.png\n"
          ],
          "name": "stdout"
        },
        {
          "output_type": "execute_result",
          "data": {
            "application/vnd.google.colaboratory.intrinsic+json": {
              "type": "string"
            },
            "text/plain": [
              "'/content/Development_Dataset/Training/Pead/Haricot/Masks/Pead_haricot_00353_i750.png'"
            ]
          },
          "metadata": {
            "tags": []
          },
          "execution_count": 28
        },
        {
          "output_type": "stream",
          "text": [
            "/content/Test_Dev/Pead/Haricot/Masks/Pead_haricot_00641_i750.png\n"
          ],
          "name": "stdout"
        },
        {
          "output_type": "execute_result",
          "data": {
            "application/vnd.google.colaboratory.intrinsic+json": {
              "type": "string"
            },
            "text/plain": [
              "'/content/Development_Dataset/Training/Pead/Haricot/Masks/Pead_haricot_00641_i750.png'"
            ]
          },
          "metadata": {
            "tags": []
          },
          "execution_count": 28
        },
        {
          "output_type": "stream",
          "text": [
            "/content/Test_Dev/Pead/Haricot/Masks/Pead_haricot_00130_i750.png\n"
          ],
          "name": "stdout"
        },
        {
          "output_type": "execute_result",
          "data": {
            "application/vnd.google.colaboratory.intrinsic+json": {
              "type": "string"
            },
            "text/plain": [
              "'/content/Development_Dataset/Training/Pead/Haricot/Masks/Pead_haricot_00130_i750.png'"
            ]
          },
          "metadata": {
            "tags": []
          },
          "execution_count": 28
        },
        {
          "output_type": "stream",
          "text": [
            "/content/Test_Dev/Pead/Haricot/Masks/Pead_haricot_00631_i750.png\n"
          ],
          "name": "stdout"
        },
        {
          "output_type": "execute_result",
          "data": {
            "application/vnd.google.colaboratory.intrinsic+json": {
              "type": "string"
            },
            "text/plain": [
              "'/content/Development_Dataset/Training/Pead/Haricot/Masks/Pead_haricot_00631_i750.png'"
            ]
          },
          "metadata": {
            "tags": []
          },
          "execution_count": 28
        },
        {
          "output_type": "stream",
          "text": [
            "/content/Test_Dev/Pead/Haricot/Masks/Pead_haricot_00463_i750.png\n"
          ],
          "name": "stdout"
        },
        {
          "output_type": "execute_result",
          "data": {
            "application/vnd.google.colaboratory.intrinsic+json": {
              "type": "string"
            },
            "text/plain": [
              "'/content/Development_Dataset/Training/Pead/Haricot/Masks/Pead_haricot_00463_i750.png'"
            ]
          },
          "metadata": {
            "tags": []
          },
          "execution_count": 28
        },
        {
          "output_type": "stream",
          "text": [
            "/content/Test_Dev/Pead/Mais/Images/Pead_mais_00723_i900.jpg\n"
          ],
          "name": "stdout"
        },
        {
          "output_type": "execute_result",
          "data": {
            "application/vnd.google.colaboratory.intrinsic+json": {
              "type": "string"
            },
            "text/plain": [
              "'/content/Development_Dataset/Training/Pead/Mais/Images/Pead_mais_00723_i900.jpg'"
            ]
          },
          "metadata": {
            "tags": []
          },
          "execution_count": 28
        },
        {
          "output_type": "stream",
          "text": [
            "/content/Test_Dev/Pead/Mais/Images/Pead_mais_00427_i900.jpg\n"
          ],
          "name": "stdout"
        },
        {
          "output_type": "execute_result",
          "data": {
            "application/vnd.google.colaboratory.intrinsic+json": {
              "type": "string"
            },
            "text/plain": [
              "'/content/Development_Dataset/Training/Pead/Mais/Images/Pead_mais_00427_i900.jpg'"
            ]
          },
          "metadata": {
            "tags": []
          },
          "execution_count": 28
        },
        {
          "output_type": "stream",
          "text": [
            "/content/Test_Dev/Pead/Mais/Images/Pead_mais_00229_i900.jpg\n"
          ],
          "name": "stdout"
        },
        {
          "output_type": "execute_result",
          "data": {
            "application/vnd.google.colaboratory.intrinsic+json": {
              "type": "string"
            },
            "text/plain": [
              "'/content/Development_Dataset/Training/Pead/Mais/Images/Pead_mais_00229_i900.jpg'"
            ]
          },
          "metadata": {
            "tags": []
          },
          "execution_count": 28
        },
        {
          "output_type": "stream",
          "text": [
            "/content/Test_Dev/Pead/Mais/Images/Pead_mais_00679_i900.jpg\n"
          ],
          "name": "stdout"
        },
        {
          "output_type": "execute_result",
          "data": {
            "application/vnd.google.colaboratory.intrinsic+json": {
              "type": "string"
            },
            "text/plain": [
              "'/content/Development_Dataset/Training/Pead/Mais/Images/Pead_mais_00679_i900.jpg'"
            ]
          },
          "metadata": {
            "tags": []
          },
          "execution_count": 28
        },
        {
          "output_type": "stream",
          "text": [
            "/content/Test_Dev/Pead/Mais/Images/Pead_mais_00308_i900.jpg\n"
          ],
          "name": "stdout"
        },
        {
          "output_type": "execute_result",
          "data": {
            "application/vnd.google.colaboratory.intrinsic+json": {
              "type": "string"
            },
            "text/plain": [
              "'/content/Development_Dataset/Training/Pead/Mais/Images/Pead_mais_00308_i900.jpg'"
            ]
          },
          "metadata": {
            "tags": []
          },
          "execution_count": 28
        },
        {
          "output_type": "stream",
          "text": [
            "/content/Test_Dev/Pead/Mais/Images/Pead_mais_00395_i900.jpg\n"
          ],
          "name": "stdout"
        },
        {
          "output_type": "execute_result",
          "data": {
            "application/vnd.google.colaboratory.intrinsic+json": {
              "type": "string"
            },
            "text/plain": [
              "'/content/Development_Dataset/Training/Pead/Mais/Images/Pead_mais_00395_i900.jpg'"
            ]
          },
          "metadata": {
            "tags": []
          },
          "execution_count": 28
        },
        {
          "output_type": "stream",
          "text": [
            "/content/Test_Dev/Pead/Mais/Images/Pead_mais_00346_i900.jpg\n"
          ],
          "name": "stdout"
        },
        {
          "output_type": "execute_result",
          "data": {
            "application/vnd.google.colaboratory.intrinsic+json": {
              "type": "string"
            },
            "text/plain": [
              "'/content/Development_Dataset/Training/Pead/Mais/Images/Pead_mais_00346_i900.jpg'"
            ]
          },
          "metadata": {
            "tags": []
          },
          "execution_count": 28
        },
        {
          "output_type": "stream",
          "text": [
            "/content/Test_Dev/Pead/Mais/Images/Pead_mais_00595_i900.jpg\n"
          ],
          "name": "stdout"
        },
        {
          "output_type": "execute_result",
          "data": {
            "application/vnd.google.colaboratory.intrinsic+json": {
              "type": "string"
            },
            "text/plain": [
              "'/content/Development_Dataset/Training/Pead/Mais/Images/Pead_mais_00595_i900.jpg'"
            ]
          },
          "metadata": {
            "tags": []
          },
          "execution_count": 28
        },
        {
          "output_type": "stream",
          "text": [
            "/content/Test_Dev/Pead/Mais/Images/Pead_mais_00556_i900.jpg\n"
          ],
          "name": "stdout"
        },
        {
          "output_type": "execute_result",
          "data": {
            "application/vnd.google.colaboratory.intrinsic+json": {
              "type": "string"
            },
            "text/plain": [
              "'/content/Development_Dataset/Training/Pead/Mais/Images/Pead_mais_00556_i900.jpg'"
            ]
          },
          "metadata": {
            "tags": []
          },
          "execution_count": 28
        },
        {
          "output_type": "stream",
          "text": [
            "/content/Test_Dev/Pead/Mais/Images/Pead_mais_00206_i900.jpg\n"
          ],
          "name": "stdout"
        },
        {
          "output_type": "execute_result",
          "data": {
            "application/vnd.google.colaboratory.intrinsic+json": {
              "type": "string"
            },
            "text/plain": [
              "'/content/Development_Dataset/Training/Pead/Mais/Images/Pead_mais_00206_i900.jpg'"
            ]
          },
          "metadata": {
            "tags": []
          },
          "execution_count": 28
        },
        {
          "output_type": "stream",
          "text": [
            "/content/Test_Dev/Pead/Mais/Images/Pead_mais_00796_i900.jpg\n"
          ],
          "name": "stdout"
        },
        {
          "output_type": "execute_result",
          "data": {
            "application/vnd.google.colaboratory.intrinsic+json": {
              "type": "string"
            },
            "text/plain": [
              "'/content/Development_Dataset/Training/Pead/Mais/Images/Pead_mais_00796_i900.jpg'"
            ]
          },
          "metadata": {
            "tags": []
          },
          "execution_count": 28
        },
        {
          "output_type": "stream",
          "text": [
            "/content/Test_Dev/Pead/Mais/Images/Pead_mais_00387_i900.jpg\n"
          ],
          "name": "stdout"
        },
        {
          "output_type": "execute_result",
          "data": {
            "application/vnd.google.colaboratory.intrinsic+json": {
              "type": "string"
            },
            "text/plain": [
              "'/content/Development_Dataset/Training/Pead/Mais/Images/Pead_mais_00387_i900.jpg'"
            ]
          },
          "metadata": {
            "tags": []
          },
          "execution_count": 28
        },
        {
          "output_type": "stream",
          "text": [
            "/content/Test_Dev/Pead/Mais/Images/Pead_mais_00584_i900.jpg\n"
          ],
          "name": "stdout"
        },
        {
          "output_type": "execute_result",
          "data": {
            "application/vnd.google.colaboratory.intrinsic+json": {
              "type": "string"
            },
            "text/plain": [
              "'/content/Development_Dataset/Training/Pead/Mais/Images/Pead_mais_00584_i900.jpg'"
            ]
          },
          "metadata": {
            "tags": []
          },
          "execution_count": 28
        },
        {
          "output_type": "stream",
          "text": [
            "/content/Test_Dev/Pead/Mais/Images/Pead_mais_00459_i900.jpg\n"
          ],
          "name": "stdout"
        },
        {
          "output_type": "execute_result",
          "data": {
            "application/vnd.google.colaboratory.intrinsic+json": {
              "type": "string"
            },
            "text/plain": [
              "'/content/Development_Dataset/Training/Pead/Mais/Images/Pead_mais_00459_i900.jpg'"
            ]
          },
          "metadata": {
            "tags": []
          },
          "execution_count": 28
        },
        {
          "output_type": "stream",
          "text": [
            "/content/Test_Dev/Pead/Mais/Images/Pead_mais_00173_i900.jpg\n"
          ],
          "name": "stdout"
        },
        {
          "output_type": "execute_result",
          "data": {
            "application/vnd.google.colaboratory.intrinsic+json": {
              "type": "string"
            },
            "text/plain": [
              "'/content/Development_Dataset/Training/Pead/Mais/Images/Pead_mais_00173_i900.jpg'"
            ]
          },
          "metadata": {
            "tags": []
          },
          "execution_count": 28
        },
        {
          "output_type": "stream",
          "text": [
            "/content/Test_Dev/Pead/Mais/Masks/Pead_mais_00229_i900.png\n"
          ],
          "name": "stdout"
        },
        {
          "output_type": "execute_result",
          "data": {
            "application/vnd.google.colaboratory.intrinsic+json": {
              "type": "string"
            },
            "text/plain": [
              "'/content/Development_Dataset/Training/Pead/Mais/Masks/Pead_mais_00229_i900.png'"
            ]
          },
          "metadata": {
            "tags": []
          },
          "execution_count": 28
        },
        {
          "output_type": "stream",
          "text": [
            "/content/Test_Dev/Pead/Mais/Masks/Pead_mais_00173_i900.png\n"
          ],
          "name": "stdout"
        },
        {
          "output_type": "execute_result",
          "data": {
            "application/vnd.google.colaboratory.intrinsic+json": {
              "type": "string"
            },
            "text/plain": [
              "'/content/Development_Dataset/Training/Pead/Mais/Masks/Pead_mais_00173_i900.png'"
            ]
          },
          "metadata": {
            "tags": []
          },
          "execution_count": 28
        },
        {
          "output_type": "stream",
          "text": [
            "/content/Test_Dev/Pead/Mais/Masks/Pead_mais_00308_i900.png\n"
          ],
          "name": "stdout"
        },
        {
          "output_type": "execute_result",
          "data": {
            "application/vnd.google.colaboratory.intrinsic+json": {
              "type": "string"
            },
            "text/plain": [
              "'/content/Development_Dataset/Training/Pead/Mais/Masks/Pead_mais_00308_i900.png'"
            ]
          },
          "metadata": {
            "tags": []
          },
          "execution_count": 28
        },
        {
          "output_type": "stream",
          "text": [
            "/content/Test_Dev/Pead/Mais/Masks/Pead_mais_00723_i900.png\n"
          ],
          "name": "stdout"
        },
        {
          "output_type": "execute_result",
          "data": {
            "application/vnd.google.colaboratory.intrinsic+json": {
              "type": "string"
            },
            "text/plain": [
              "'/content/Development_Dataset/Training/Pead/Mais/Masks/Pead_mais_00723_i900.png'"
            ]
          },
          "metadata": {
            "tags": []
          },
          "execution_count": 28
        },
        {
          "output_type": "stream",
          "text": [
            "/content/Test_Dev/Pead/Mais/Masks/Pead_mais_00387_i900.png\n"
          ],
          "name": "stdout"
        },
        {
          "output_type": "execute_result",
          "data": {
            "application/vnd.google.colaboratory.intrinsic+json": {
              "type": "string"
            },
            "text/plain": [
              "'/content/Development_Dataset/Training/Pead/Mais/Masks/Pead_mais_00387_i900.png'"
            ]
          },
          "metadata": {
            "tags": []
          },
          "execution_count": 28
        },
        {
          "output_type": "stream",
          "text": [
            "/content/Test_Dev/Pead/Mais/Masks/Pead_mais_00584_i900.png\n"
          ],
          "name": "stdout"
        },
        {
          "output_type": "execute_result",
          "data": {
            "application/vnd.google.colaboratory.intrinsic+json": {
              "type": "string"
            },
            "text/plain": [
              "'/content/Development_Dataset/Training/Pead/Mais/Masks/Pead_mais_00584_i900.png'"
            ]
          },
          "metadata": {
            "tags": []
          },
          "execution_count": 28
        },
        {
          "output_type": "stream",
          "text": [
            "/content/Test_Dev/Pead/Mais/Masks/Pead_mais_00459_i900.png\n"
          ],
          "name": "stdout"
        },
        {
          "output_type": "execute_result",
          "data": {
            "application/vnd.google.colaboratory.intrinsic+json": {
              "type": "string"
            },
            "text/plain": [
              "'/content/Development_Dataset/Training/Pead/Mais/Masks/Pead_mais_00459_i900.png'"
            ]
          },
          "metadata": {
            "tags": []
          },
          "execution_count": 28
        },
        {
          "output_type": "stream",
          "text": [
            "/content/Test_Dev/Pead/Mais/Masks/Pead_mais_00556_i900.png\n"
          ],
          "name": "stdout"
        },
        {
          "output_type": "execute_result",
          "data": {
            "application/vnd.google.colaboratory.intrinsic+json": {
              "type": "string"
            },
            "text/plain": [
              "'/content/Development_Dataset/Training/Pead/Mais/Masks/Pead_mais_00556_i900.png'"
            ]
          },
          "metadata": {
            "tags": []
          },
          "execution_count": 28
        },
        {
          "output_type": "stream",
          "text": [
            "/content/Test_Dev/Pead/Mais/Masks/Pead_mais_00427_i900.png\n"
          ],
          "name": "stdout"
        },
        {
          "output_type": "execute_result",
          "data": {
            "application/vnd.google.colaboratory.intrinsic+json": {
              "type": "string"
            },
            "text/plain": [
              "'/content/Development_Dataset/Training/Pead/Mais/Masks/Pead_mais_00427_i900.png'"
            ]
          },
          "metadata": {
            "tags": []
          },
          "execution_count": 28
        },
        {
          "output_type": "stream",
          "text": [
            "/content/Test_Dev/Pead/Mais/Masks/Pead_mais_00796_i900.png\n"
          ],
          "name": "stdout"
        },
        {
          "output_type": "execute_result",
          "data": {
            "application/vnd.google.colaboratory.intrinsic+json": {
              "type": "string"
            },
            "text/plain": [
              "'/content/Development_Dataset/Training/Pead/Mais/Masks/Pead_mais_00796_i900.png'"
            ]
          },
          "metadata": {
            "tags": []
          },
          "execution_count": 28
        },
        {
          "output_type": "stream",
          "text": [
            "/content/Test_Dev/Pead/Mais/Masks/Pead_mais_00595_i900.png\n"
          ],
          "name": "stdout"
        },
        {
          "output_type": "execute_result",
          "data": {
            "application/vnd.google.colaboratory.intrinsic+json": {
              "type": "string"
            },
            "text/plain": [
              "'/content/Development_Dataset/Training/Pead/Mais/Masks/Pead_mais_00595_i900.png'"
            ]
          },
          "metadata": {
            "tags": []
          },
          "execution_count": 28
        },
        {
          "output_type": "stream",
          "text": [
            "/content/Test_Dev/Pead/Mais/Masks/Pead_mais_00395_i900.png\n"
          ],
          "name": "stdout"
        },
        {
          "output_type": "execute_result",
          "data": {
            "application/vnd.google.colaboratory.intrinsic+json": {
              "type": "string"
            },
            "text/plain": [
              "'/content/Development_Dataset/Training/Pead/Mais/Masks/Pead_mais_00395_i900.png'"
            ]
          },
          "metadata": {
            "tags": []
          },
          "execution_count": 28
        },
        {
          "output_type": "stream",
          "text": [
            "/content/Test_Dev/Pead/Mais/Masks/Pead_mais_00679_i900.png\n"
          ],
          "name": "stdout"
        },
        {
          "output_type": "execute_result",
          "data": {
            "application/vnd.google.colaboratory.intrinsic+json": {
              "type": "string"
            },
            "text/plain": [
              "'/content/Development_Dataset/Training/Pead/Mais/Masks/Pead_mais_00679_i900.png'"
            ]
          },
          "metadata": {
            "tags": []
          },
          "execution_count": 28
        },
        {
          "output_type": "stream",
          "text": [
            "/content/Test_Dev/Pead/Mais/Masks/Pead_mais_00206_i900.png\n"
          ],
          "name": "stdout"
        },
        {
          "output_type": "execute_result",
          "data": {
            "application/vnd.google.colaboratory.intrinsic+json": {
              "type": "string"
            },
            "text/plain": [
              "'/content/Development_Dataset/Training/Pead/Mais/Masks/Pead_mais_00206_i900.png'"
            ]
          },
          "metadata": {
            "tags": []
          },
          "execution_count": 28
        },
        {
          "output_type": "stream",
          "text": [
            "/content/Test_Dev/Pead/Mais/Masks/Pead_mais_00346_i900.png\n"
          ],
          "name": "stdout"
        },
        {
          "output_type": "execute_result",
          "data": {
            "application/vnd.google.colaboratory.intrinsic+json": {
              "type": "string"
            },
            "text/plain": [
              "'/content/Development_Dataset/Training/Pead/Mais/Masks/Pead_mais_00346_i900.png'"
            ]
          },
          "metadata": {
            "tags": []
          },
          "execution_count": 28
        },
        {
          "output_type": "stream",
          "text": [
            "/content/Test_Dev/Roseau/Haricot/Images/Roseau_haricot_0256_false.png\n"
          ],
          "name": "stdout"
        },
        {
          "output_type": "execute_result",
          "data": {
            "application/vnd.google.colaboratory.intrinsic+json": {
              "type": "string"
            },
            "text/plain": [
              "'/content/Development_Dataset/Training/Roseau/Haricot/Images/Roseau_haricot_0256_false.png'"
            ]
          },
          "metadata": {
            "tags": []
          },
          "execution_count": 28
        },
        {
          "output_type": "stream",
          "text": [
            "/content/Test_Dev/Roseau/Haricot/Images/Roseau_haricot_0300_false.png\n"
          ],
          "name": "stdout"
        },
        {
          "output_type": "execute_result",
          "data": {
            "application/vnd.google.colaboratory.intrinsic+json": {
              "type": "string"
            },
            "text/plain": [
              "'/content/Development_Dataset/Training/Roseau/Haricot/Images/Roseau_haricot_0300_false.png'"
            ]
          },
          "metadata": {
            "tags": []
          },
          "execution_count": 28
        },
        {
          "output_type": "stream",
          "text": [
            "/content/Test_Dev/Roseau/Haricot/Images/Roseau_haricot_0396_false.png\n"
          ],
          "name": "stdout"
        },
        {
          "output_type": "execute_result",
          "data": {
            "application/vnd.google.colaboratory.intrinsic+json": {
              "type": "string"
            },
            "text/plain": [
              "'/content/Development_Dataset/Training/Roseau/Haricot/Images/Roseau_haricot_0396_false.png'"
            ]
          },
          "metadata": {
            "tags": []
          },
          "execution_count": 28
        },
        {
          "output_type": "stream",
          "text": [
            "/content/Test_Dev/Roseau/Haricot/Images/Roseau_haricot_0188_false.png\n"
          ],
          "name": "stdout"
        },
        {
          "output_type": "execute_result",
          "data": {
            "application/vnd.google.colaboratory.intrinsic+json": {
              "type": "string"
            },
            "text/plain": [
              "'/content/Development_Dataset/Training/Roseau/Haricot/Images/Roseau_haricot_0188_false.png'"
            ]
          },
          "metadata": {
            "tags": []
          },
          "execution_count": 28
        },
        {
          "output_type": "stream",
          "text": [
            "/content/Test_Dev/Roseau/Haricot/Images/Roseau_haricot_0414_false.png\n"
          ],
          "name": "stdout"
        },
        {
          "output_type": "execute_result",
          "data": {
            "application/vnd.google.colaboratory.intrinsic+json": {
              "type": "string"
            },
            "text/plain": [
              "'/content/Development_Dataset/Training/Roseau/Haricot/Images/Roseau_haricot_0414_false.png'"
            ]
          },
          "metadata": {
            "tags": []
          },
          "execution_count": 28
        },
        {
          "output_type": "stream",
          "text": [
            "/content/Test_Dev/Roseau/Haricot/Images/Roseau_haricot_0372_false.png\n"
          ],
          "name": "stdout"
        },
        {
          "output_type": "execute_result",
          "data": {
            "application/vnd.google.colaboratory.intrinsic+json": {
              "type": "string"
            },
            "text/plain": [
              "'/content/Development_Dataset/Training/Roseau/Haricot/Images/Roseau_haricot_0372_false.png'"
            ]
          },
          "metadata": {
            "tags": []
          },
          "execution_count": 28
        },
        {
          "output_type": "stream",
          "text": [
            "/content/Test_Dev/Roseau/Haricot/Images/Roseau_haricot_0156_false.png\n"
          ],
          "name": "stdout"
        },
        {
          "output_type": "execute_result",
          "data": {
            "application/vnd.google.colaboratory.intrinsic+json": {
              "type": "string"
            },
            "text/plain": [
              "'/content/Development_Dataset/Training/Roseau/Haricot/Images/Roseau_haricot_0156_false.png'"
            ]
          },
          "metadata": {
            "tags": []
          },
          "execution_count": 28
        },
        {
          "output_type": "stream",
          "text": [
            "/content/Test_Dev/Roseau/Haricot/Images/Roseau_haricot_0292_false.png\n"
          ],
          "name": "stdout"
        },
        {
          "output_type": "execute_result",
          "data": {
            "application/vnd.google.colaboratory.intrinsic+json": {
              "type": "string"
            },
            "text/plain": [
              "'/content/Development_Dataset/Training/Roseau/Haricot/Images/Roseau_haricot_0292_false.png'"
            ]
          },
          "metadata": {
            "tags": []
          },
          "execution_count": 28
        },
        {
          "output_type": "stream",
          "text": [
            "/content/Test_Dev/Roseau/Haricot/Images/Roseau_haricot_0074_false.png\n"
          ],
          "name": "stdout"
        },
        {
          "output_type": "execute_result",
          "data": {
            "application/vnd.google.colaboratory.intrinsic+json": {
              "type": "string"
            },
            "text/plain": [
              "'/content/Development_Dataset/Training/Roseau/Haricot/Images/Roseau_haricot_0074_false.png'"
            ]
          },
          "metadata": {
            "tags": []
          },
          "execution_count": 28
        },
        {
          "output_type": "stream",
          "text": [
            "/content/Test_Dev/Roseau/Haricot/Images/Roseau_haricot_0150_false.png\n"
          ],
          "name": "stdout"
        },
        {
          "output_type": "execute_result",
          "data": {
            "application/vnd.google.colaboratory.intrinsic+json": {
              "type": "string"
            },
            "text/plain": [
              "'/content/Development_Dataset/Training/Roseau/Haricot/Images/Roseau_haricot_0150_false.png'"
            ]
          },
          "metadata": {
            "tags": []
          },
          "execution_count": 28
        },
        {
          "output_type": "stream",
          "text": [
            "/content/Test_Dev/Roseau/Haricot/Images/Roseau_haricot_0220_false.png\n"
          ],
          "name": "stdout"
        },
        {
          "output_type": "execute_result",
          "data": {
            "application/vnd.google.colaboratory.intrinsic+json": {
              "type": "string"
            },
            "text/plain": [
              "'/content/Development_Dataset/Training/Roseau/Haricot/Images/Roseau_haricot_0220_false.png'"
            ]
          },
          "metadata": {
            "tags": []
          },
          "execution_count": 28
        },
        {
          "output_type": "stream",
          "text": [
            "/content/Test_Dev/Roseau/Haricot/Images/Roseau_haricot_0010_false.png\n"
          ],
          "name": "stdout"
        },
        {
          "output_type": "execute_result",
          "data": {
            "application/vnd.google.colaboratory.intrinsic+json": {
              "type": "string"
            },
            "text/plain": [
              "'/content/Development_Dataset/Training/Roseau/Haricot/Images/Roseau_haricot_0010_false.png'"
            ]
          },
          "metadata": {
            "tags": []
          },
          "execution_count": 28
        },
        {
          "output_type": "stream",
          "text": [
            "/content/Test_Dev/Roseau/Haricot/Images/Roseau_haricot_0224_false.png\n"
          ],
          "name": "stdout"
        },
        {
          "output_type": "execute_result",
          "data": {
            "application/vnd.google.colaboratory.intrinsic+json": {
              "type": "string"
            },
            "text/plain": [
              "'/content/Development_Dataset/Training/Roseau/Haricot/Images/Roseau_haricot_0224_false.png'"
            ]
          },
          "metadata": {
            "tags": []
          },
          "execution_count": 28
        },
        {
          "output_type": "stream",
          "text": [
            "/content/Test_Dev/Roseau/Haricot/Images/Roseau_haricot_0018_false.png\n"
          ],
          "name": "stdout"
        },
        {
          "output_type": "execute_result",
          "data": {
            "application/vnd.google.colaboratory.intrinsic+json": {
              "type": "string"
            },
            "text/plain": [
              "'/content/Development_Dataset/Training/Roseau/Haricot/Images/Roseau_haricot_0018_false.png'"
            ]
          },
          "metadata": {
            "tags": []
          },
          "execution_count": 28
        },
        {
          "output_type": "stream",
          "text": [
            "/content/Test_Dev/Roseau/Haricot/Images/Roseau_haricot_0228_false.png\n"
          ],
          "name": "stdout"
        },
        {
          "output_type": "execute_result",
          "data": {
            "application/vnd.google.colaboratory.intrinsic+json": {
              "type": "string"
            },
            "text/plain": [
              "'/content/Development_Dataset/Training/Roseau/Haricot/Images/Roseau_haricot_0228_false.png'"
            ]
          },
          "metadata": {
            "tags": []
          },
          "execution_count": 28
        },
        {
          "output_type": "stream",
          "text": [
            "/content/Test_Dev/Roseau/Haricot/Masks/Roseau_haricot_0256_false.png\n"
          ],
          "name": "stdout"
        },
        {
          "output_type": "execute_result",
          "data": {
            "application/vnd.google.colaboratory.intrinsic+json": {
              "type": "string"
            },
            "text/plain": [
              "'/content/Development_Dataset/Training/Roseau/Haricot/Masks/Roseau_haricot_0256_false.png'"
            ]
          },
          "metadata": {
            "tags": []
          },
          "execution_count": 28
        },
        {
          "output_type": "stream",
          "text": [
            "/content/Test_Dev/Roseau/Haricot/Masks/Roseau_haricot_0300_false.png\n"
          ],
          "name": "stdout"
        },
        {
          "output_type": "execute_result",
          "data": {
            "application/vnd.google.colaboratory.intrinsic+json": {
              "type": "string"
            },
            "text/plain": [
              "'/content/Development_Dataset/Training/Roseau/Haricot/Masks/Roseau_haricot_0300_false.png'"
            ]
          },
          "metadata": {
            "tags": []
          },
          "execution_count": 28
        },
        {
          "output_type": "stream",
          "text": [
            "/content/Test_Dev/Roseau/Haricot/Masks/Roseau_haricot_0396_false.png\n"
          ],
          "name": "stdout"
        },
        {
          "output_type": "execute_result",
          "data": {
            "application/vnd.google.colaboratory.intrinsic+json": {
              "type": "string"
            },
            "text/plain": [
              "'/content/Development_Dataset/Training/Roseau/Haricot/Masks/Roseau_haricot_0396_false.png'"
            ]
          },
          "metadata": {
            "tags": []
          },
          "execution_count": 28
        },
        {
          "output_type": "stream",
          "text": [
            "/content/Test_Dev/Roseau/Haricot/Masks/Roseau_haricot_0188_false.png\n"
          ],
          "name": "stdout"
        },
        {
          "output_type": "execute_result",
          "data": {
            "application/vnd.google.colaboratory.intrinsic+json": {
              "type": "string"
            },
            "text/plain": [
              "'/content/Development_Dataset/Training/Roseau/Haricot/Masks/Roseau_haricot_0188_false.png'"
            ]
          },
          "metadata": {
            "tags": []
          },
          "execution_count": 28
        },
        {
          "output_type": "stream",
          "text": [
            "/content/Test_Dev/Roseau/Haricot/Masks/Roseau_haricot_0414_false.png\n"
          ],
          "name": "stdout"
        },
        {
          "output_type": "execute_result",
          "data": {
            "application/vnd.google.colaboratory.intrinsic+json": {
              "type": "string"
            },
            "text/plain": [
              "'/content/Development_Dataset/Training/Roseau/Haricot/Masks/Roseau_haricot_0414_false.png'"
            ]
          },
          "metadata": {
            "tags": []
          },
          "execution_count": 28
        },
        {
          "output_type": "stream",
          "text": [
            "/content/Test_Dev/Roseau/Haricot/Masks/Roseau_haricot_0372_false.png\n"
          ],
          "name": "stdout"
        },
        {
          "output_type": "execute_result",
          "data": {
            "application/vnd.google.colaboratory.intrinsic+json": {
              "type": "string"
            },
            "text/plain": [
              "'/content/Development_Dataset/Training/Roseau/Haricot/Masks/Roseau_haricot_0372_false.png'"
            ]
          },
          "metadata": {
            "tags": []
          },
          "execution_count": 28
        },
        {
          "output_type": "stream",
          "text": [
            "/content/Test_Dev/Roseau/Haricot/Masks/Roseau_haricot_0156_false.png\n"
          ],
          "name": "stdout"
        },
        {
          "output_type": "execute_result",
          "data": {
            "application/vnd.google.colaboratory.intrinsic+json": {
              "type": "string"
            },
            "text/plain": [
              "'/content/Development_Dataset/Training/Roseau/Haricot/Masks/Roseau_haricot_0156_false.png'"
            ]
          },
          "metadata": {
            "tags": []
          },
          "execution_count": 28
        },
        {
          "output_type": "stream",
          "text": [
            "/content/Test_Dev/Roseau/Haricot/Masks/Roseau_haricot_0292_false.png\n"
          ],
          "name": "stdout"
        },
        {
          "output_type": "execute_result",
          "data": {
            "application/vnd.google.colaboratory.intrinsic+json": {
              "type": "string"
            },
            "text/plain": [
              "'/content/Development_Dataset/Training/Roseau/Haricot/Masks/Roseau_haricot_0292_false.png'"
            ]
          },
          "metadata": {
            "tags": []
          },
          "execution_count": 28
        },
        {
          "output_type": "stream",
          "text": [
            "/content/Test_Dev/Roseau/Haricot/Masks/Roseau_haricot_0074_false.png\n"
          ],
          "name": "stdout"
        },
        {
          "output_type": "execute_result",
          "data": {
            "application/vnd.google.colaboratory.intrinsic+json": {
              "type": "string"
            },
            "text/plain": [
              "'/content/Development_Dataset/Training/Roseau/Haricot/Masks/Roseau_haricot_0074_false.png'"
            ]
          },
          "metadata": {
            "tags": []
          },
          "execution_count": 28
        },
        {
          "output_type": "stream",
          "text": [
            "/content/Test_Dev/Roseau/Haricot/Masks/Roseau_haricot_0150_false.png\n"
          ],
          "name": "stdout"
        },
        {
          "output_type": "execute_result",
          "data": {
            "application/vnd.google.colaboratory.intrinsic+json": {
              "type": "string"
            },
            "text/plain": [
              "'/content/Development_Dataset/Training/Roseau/Haricot/Masks/Roseau_haricot_0150_false.png'"
            ]
          },
          "metadata": {
            "tags": []
          },
          "execution_count": 28
        },
        {
          "output_type": "stream",
          "text": [
            "/content/Test_Dev/Roseau/Haricot/Masks/Roseau_haricot_0220_false.png\n"
          ],
          "name": "stdout"
        },
        {
          "output_type": "execute_result",
          "data": {
            "application/vnd.google.colaboratory.intrinsic+json": {
              "type": "string"
            },
            "text/plain": [
              "'/content/Development_Dataset/Training/Roseau/Haricot/Masks/Roseau_haricot_0220_false.png'"
            ]
          },
          "metadata": {
            "tags": []
          },
          "execution_count": 28
        },
        {
          "output_type": "stream",
          "text": [
            "/content/Test_Dev/Roseau/Haricot/Masks/Roseau_haricot_0010_false.png\n"
          ],
          "name": "stdout"
        },
        {
          "output_type": "execute_result",
          "data": {
            "application/vnd.google.colaboratory.intrinsic+json": {
              "type": "string"
            },
            "text/plain": [
              "'/content/Development_Dataset/Training/Roseau/Haricot/Masks/Roseau_haricot_0010_false.png'"
            ]
          },
          "metadata": {
            "tags": []
          },
          "execution_count": 28
        },
        {
          "output_type": "stream",
          "text": [
            "/content/Test_Dev/Roseau/Haricot/Masks/Roseau_haricot_0224_false.png\n"
          ],
          "name": "stdout"
        },
        {
          "output_type": "execute_result",
          "data": {
            "application/vnd.google.colaboratory.intrinsic+json": {
              "type": "string"
            },
            "text/plain": [
              "'/content/Development_Dataset/Training/Roseau/Haricot/Masks/Roseau_haricot_0224_false.png'"
            ]
          },
          "metadata": {
            "tags": []
          },
          "execution_count": 28
        },
        {
          "output_type": "stream",
          "text": [
            "/content/Test_Dev/Roseau/Haricot/Masks/Roseau_haricot_0018_false.png\n"
          ],
          "name": "stdout"
        },
        {
          "output_type": "execute_result",
          "data": {
            "application/vnd.google.colaboratory.intrinsic+json": {
              "type": "string"
            },
            "text/plain": [
              "'/content/Development_Dataset/Training/Roseau/Haricot/Masks/Roseau_haricot_0018_false.png'"
            ]
          },
          "metadata": {
            "tags": []
          },
          "execution_count": 28
        },
        {
          "output_type": "stream",
          "text": [
            "/content/Test_Dev/Roseau/Haricot/Masks/Roseau_haricot_0228_false.png\n"
          ],
          "name": "stdout"
        },
        {
          "output_type": "execute_result",
          "data": {
            "application/vnd.google.colaboratory.intrinsic+json": {
              "type": "string"
            },
            "text/plain": [
              "'/content/Development_Dataset/Training/Roseau/Haricot/Masks/Roseau_haricot_0228_false.png'"
            ]
          },
          "metadata": {
            "tags": []
          },
          "execution_count": 28
        },
        {
          "output_type": "stream",
          "text": [
            "/content/Test_Dev/Roseau/Mais/Images/Roseau_mais_0098_false.png\n"
          ],
          "name": "stdout"
        },
        {
          "output_type": "execute_result",
          "data": {
            "application/vnd.google.colaboratory.intrinsic+json": {
              "type": "string"
            },
            "text/plain": [
              "'/content/Development_Dataset/Training/Roseau/Mais/Images/Roseau_mais_0098_false.png'"
            ]
          },
          "metadata": {
            "tags": []
          },
          "execution_count": 28
        },
        {
          "output_type": "stream",
          "text": [
            "/content/Test_Dev/Roseau/Mais/Images/Roseau_mais_0056_false.png\n"
          ],
          "name": "stdout"
        },
        {
          "output_type": "execute_result",
          "data": {
            "application/vnd.google.colaboratory.intrinsic+json": {
              "type": "string"
            },
            "text/plain": [
              "'/content/Development_Dataset/Training/Roseau/Mais/Images/Roseau_mais_0056_false.png'"
            ]
          },
          "metadata": {
            "tags": []
          },
          "execution_count": 28
        },
        {
          "output_type": "stream",
          "text": [
            "/content/Test_Dev/Roseau/Mais/Images/Roseau_mais_0184_false.png\n"
          ],
          "name": "stdout"
        },
        {
          "output_type": "execute_result",
          "data": {
            "application/vnd.google.colaboratory.intrinsic+json": {
              "type": "string"
            },
            "text/plain": [
              "'/content/Development_Dataset/Training/Roseau/Mais/Images/Roseau_mais_0184_false.png'"
            ]
          },
          "metadata": {
            "tags": []
          },
          "execution_count": 28
        },
        {
          "output_type": "stream",
          "text": [
            "/content/Test_Dev/Roseau/Mais/Images/Roseau_mais_0142_false.png\n"
          ],
          "name": "stdout"
        },
        {
          "output_type": "execute_result",
          "data": {
            "application/vnd.google.colaboratory.intrinsic+json": {
              "type": "string"
            },
            "text/plain": [
              "'/content/Development_Dataset/Training/Roseau/Mais/Images/Roseau_mais_0142_false.png'"
            ]
          },
          "metadata": {
            "tags": []
          },
          "execution_count": 28
        },
        {
          "output_type": "stream",
          "text": [
            "/content/Test_Dev/Roseau/Mais/Images/Roseau_mais_0286_false.png\n"
          ],
          "name": "stdout"
        },
        {
          "output_type": "execute_result",
          "data": {
            "application/vnd.google.colaboratory.intrinsic+json": {
              "type": "string"
            },
            "text/plain": [
              "'/content/Development_Dataset/Training/Roseau/Mais/Images/Roseau_mais_0286_false.png'"
            ]
          },
          "metadata": {
            "tags": []
          },
          "execution_count": 28
        },
        {
          "output_type": "stream",
          "text": [
            "/content/Test_Dev/Roseau/Mais/Images/Roseau_mais_0030_false.png\n"
          ],
          "name": "stdout"
        },
        {
          "output_type": "execute_result",
          "data": {
            "application/vnd.google.colaboratory.intrinsic+json": {
              "type": "string"
            },
            "text/plain": [
              "'/content/Development_Dataset/Training/Roseau/Mais/Images/Roseau_mais_0030_false.png'"
            ]
          },
          "metadata": {
            "tags": []
          },
          "execution_count": 28
        },
        {
          "output_type": "stream",
          "text": [
            "/content/Test_Dev/Roseau/Mais/Images/Roseau_mais_0068_false.png\n"
          ],
          "name": "stdout"
        },
        {
          "output_type": "execute_result",
          "data": {
            "application/vnd.google.colaboratory.intrinsic+json": {
              "type": "string"
            },
            "text/plain": [
              "'/content/Development_Dataset/Training/Roseau/Mais/Images/Roseau_mais_0068_false.png'"
            ]
          },
          "metadata": {
            "tags": []
          },
          "execution_count": 28
        },
        {
          "output_type": "stream",
          "text": [
            "/content/Test_Dev/Roseau/Mais/Images/Roseau_mais_0008_false.png\n"
          ],
          "name": "stdout"
        },
        {
          "output_type": "execute_result",
          "data": {
            "application/vnd.google.colaboratory.intrinsic+json": {
              "type": "string"
            },
            "text/plain": [
              "'/content/Development_Dataset/Training/Roseau/Mais/Images/Roseau_mais_0008_false.png'"
            ]
          },
          "metadata": {
            "tags": []
          },
          "execution_count": 28
        },
        {
          "output_type": "stream",
          "text": [
            "/content/Test_Dev/Roseau/Mais/Images/Roseau_mais_0188_false.png\n"
          ],
          "name": "stdout"
        },
        {
          "output_type": "execute_result",
          "data": {
            "application/vnd.google.colaboratory.intrinsic+json": {
              "type": "string"
            },
            "text/plain": [
              "'/content/Development_Dataset/Training/Roseau/Mais/Images/Roseau_mais_0188_false.png'"
            ]
          },
          "metadata": {
            "tags": []
          },
          "execution_count": 28
        },
        {
          "output_type": "stream",
          "text": [
            "/content/Test_Dev/Roseau/Mais/Images/Roseau_mais_0366_false.png\n"
          ],
          "name": "stdout"
        },
        {
          "output_type": "execute_result",
          "data": {
            "application/vnd.google.colaboratory.intrinsic+json": {
              "type": "string"
            },
            "text/plain": [
              "'/content/Development_Dataset/Training/Roseau/Mais/Images/Roseau_mais_0366_false.png'"
            ]
          },
          "metadata": {
            "tags": []
          },
          "execution_count": 28
        },
        {
          "output_type": "stream",
          "text": [
            "/content/Test_Dev/Roseau/Mais/Images/Roseau_mais_0332_false.png\n"
          ],
          "name": "stdout"
        },
        {
          "output_type": "execute_result",
          "data": {
            "application/vnd.google.colaboratory.intrinsic+json": {
              "type": "string"
            },
            "text/plain": [
              "'/content/Development_Dataset/Training/Roseau/Mais/Images/Roseau_mais_0332_false.png'"
            ]
          },
          "metadata": {
            "tags": []
          },
          "execution_count": 28
        },
        {
          "output_type": "stream",
          "text": [
            "/content/Test_Dev/Roseau/Mais/Images/Roseau_mais_0214_false.png\n"
          ],
          "name": "stdout"
        },
        {
          "output_type": "execute_result",
          "data": {
            "application/vnd.google.colaboratory.intrinsic+json": {
              "type": "string"
            },
            "text/plain": [
              "'/content/Development_Dataset/Training/Roseau/Mais/Images/Roseau_mais_0214_false.png'"
            ]
          },
          "metadata": {
            "tags": []
          },
          "execution_count": 28
        },
        {
          "output_type": "stream",
          "text": [
            "/content/Test_Dev/Roseau/Mais/Images/Roseau_mais_0174_false.png\n"
          ],
          "name": "stdout"
        },
        {
          "output_type": "execute_result",
          "data": {
            "application/vnd.google.colaboratory.intrinsic+json": {
              "type": "string"
            },
            "text/plain": [
              "'/content/Development_Dataset/Training/Roseau/Mais/Images/Roseau_mais_0174_false.png'"
            ]
          },
          "metadata": {
            "tags": []
          },
          "execution_count": 28
        },
        {
          "output_type": "stream",
          "text": [
            "/content/Test_Dev/Roseau/Mais/Images/Roseau_mais_0074_false.png\n"
          ],
          "name": "stdout"
        },
        {
          "output_type": "execute_result",
          "data": {
            "application/vnd.google.colaboratory.intrinsic+json": {
              "type": "string"
            },
            "text/plain": [
              "'/content/Development_Dataset/Training/Roseau/Mais/Images/Roseau_mais_0074_false.png'"
            ]
          },
          "metadata": {
            "tags": []
          },
          "execution_count": 28
        },
        {
          "output_type": "stream",
          "text": [
            "/content/Test_Dev/Roseau/Mais/Images/Roseau_mais_0322_false.png\n"
          ],
          "name": "stdout"
        },
        {
          "output_type": "execute_result",
          "data": {
            "application/vnd.google.colaboratory.intrinsic+json": {
              "type": "string"
            },
            "text/plain": [
              "'/content/Development_Dataset/Training/Roseau/Mais/Images/Roseau_mais_0322_false.png'"
            ]
          },
          "metadata": {
            "tags": []
          },
          "execution_count": 28
        },
        {
          "output_type": "stream",
          "text": [
            "/content/Test_Dev/Roseau/Mais/Masks/Roseau_mais_0098_false.png\n"
          ],
          "name": "stdout"
        },
        {
          "output_type": "execute_result",
          "data": {
            "application/vnd.google.colaboratory.intrinsic+json": {
              "type": "string"
            },
            "text/plain": [
              "'/content/Development_Dataset/Training/Roseau/Mais/Masks/Roseau_mais_0098_false.png'"
            ]
          },
          "metadata": {
            "tags": []
          },
          "execution_count": 28
        },
        {
          "output_type": "stream",
          "text": [
            "/content/Test_Dev/Roseau/Mais/Masks/Roseau_mais_0056_false.png\n"
          ],
          "name": "stdout"
        },
        {
          "output_type": "execute_result",
          "data": {
            "application/vnd.google.colaboratory.intrinsic+json": {
              "type": "string"
            },
            "text/plain": [
              "'/content/Development_Dataset/Training/Roseau/Mais/Masks/Roseau_mais_0056_false.png'"
            ]
          },
          "metadata": {
            "tags": []
          },
          "execution_count": 28
        },
        {
          "output_type": "stream",
          "text": [
            "/content/Test_Dev/Roseau/Mais/Masks/Roseau_mais_0184_false.png\n"
          ],
          "name": "stdout"
        },
        {
          "output_type": "execute_result",
          "data": {
            "application/vnd.google.colaboratory.intrinsic+json": {
              "type": "string"
            },
            "text/plain": [
              "'/content/Development_Dataset/Training/Roseau/Mais/Masks/Roseau_mais_0184_false.png'"
            ]
          },
          "metadata": {
            "tags": []
          },
          "execution_count": 28
        },
        {
          "output_type": "stream",
          "text": [
            "/content/Test_Dev/Roseau/Mais/Masks/Roseau_mais_0142_false.png\n"
          ],
          "name": "stdout"
        },
        {
          "output_type": "execute_result",
          "data": {
            "application/vnd.google.colaboratory.intrinsic+json": {
              "type": "string"
            },
            "text/plain": [
              "'/content/Development_Dataset/Training/Roseau/Mais/Masks/Roseau_mais_0142_false.png'"
            ]
          },
          "metadata": {
            "tags": []
          },
          "execution_count": 28
        },
        {
          "output_type": "stream",
          "text": [
            "/content/Test_Dev/Roseau/Mais/Masks/Roseau_mais_0286_false.png\n"
          ],
          "name": "stdout"
        },
        {
          "output_type": "execute_result",
          "data": {
            "application/vnd.google.colaboratory.intrinsic+json": {
              "type": "string"
            },
            "text/plain": [
              "'/content/Development_Dataset/Training/Roseau/Mais/Masks/Roseau_mais_0286_false.png'"
            ]
          },
          "metadata": {
            "tags": []
          },
          "execution_count": 28
        },
        {
          "output_type": "stream",
          "text": [
            "/content/Test_Dev/Roseau/Mais/Masks/Roseau_mais_0030_false.png\n"
          ],
          "name": "stdout"
        },
        {
          "output_type": "execute_result",
          "data": {
            "application/vnd.google.colaboratory.intrinsic+json": {
              "type": "string"
            },
            "text/plain": [
              "'/content/Development_Dataset/Training/Roseau/Mais/Masks/Roseau_mais_0030_false.png'"
            ]
          },
          "metadata": {
            "tags": []
          },
          "execution_count": 28
        },
        {
          "output_type": "stream",
          "text": [
            "/content/Test_Dev/Roseau/Mais/Masks/Roseau_mais_0068_false.png\n"
          ],
          "name": "stdout"
        },
        {
          "output_type": "execute_result",
          "data": {
            "application/vnd.google.colaboratory.intrinsic+json": {
              "type": "string"
            },
            "text/plain": [
              "'/content/Development_Dataset/Training/Roseau/Mais/Masks/Roseau_mais_0068_false.png'"
            ]
          },
          "metadata": {
            "tags": []
          },
          "execution_count": 28
        },
        {
          "output_type": "stream",
          "text": [
            "/content/Test_Dev/Roseau/Mais/Masks/Roseau_mais_0008_false.png\n"
          ],
          "name": "stdout"
        },
        {
          "output_type": "execute_result",
          "data": {
            "application/vnd.google.colaboratory.intrinsic+json": {
              "type": "string"
            },
            "text/plain": [
              "'/content/Development_Dataset/Training/Roseau/Mais/Masks/Roseau_mais_0008_false.png'"
            ]
          },
          "metadata": {
            "tags": []
          },
          "execution_count": 28
        },
        {
          "output_type": "stream",
          "text": [
            "/content/Test_Dev/Roseau/Mais/Masks/Roseau_mais_0188_false.png\n"
          ],
          "name": "stdout"
        },
        {
          "output_type": "execute_result",
          "data": {
            "application/vnd.google.colaboratory.intrinsic+json": {
              "type": "string"
            },
            "text/plain": [
              "'/content/Development_Dataset/Training/Roseau/Mais/Masks/Roseau_mais_0188_false.png'"
            ]
          },
          "metadata": {
            "tags": []
          },
          "execution_count": 28
        },
        {
          "output_type": "stream",
          "text": [
            "/content/Test_Dev/Roseau/Mais/Masks/Roseau_mais_0366_false.png\n"
          ],
          "name": "stdout"
        },
        {
          "output_type": "execute_result",
          "data": {
            "application/vnd.google.colaboratory.intrinsic+json": {
              "type": "string"
            },
            "text/plain": [
              "'/content/Development_Dataset/Training/Roseau/Mais/Masks/Roseau_mais_0366_false.png'"
            ]
          },
          "metadata": {
            "tags": []
          },
          "execution_count": 28
        },
        {
          "output_type": "stream",
          "text": [
            "/content/Test_Dev/Roseau/Mais/Masks/Roseau_mais_0332_false.png\n"
          ],
          "name": "stdout"
        },
        {
          "output_type": "execute_result",
          "data": {
            "application/vnd.google.colaboratory.intrinsic+json": {
              "type": "string"
            },
            "text/plain": [
              "'/content/Development_Dataset/Training/Roseau/Mais/Masks/Roseau_mais_0332_false.png'"
            ]
          },
          "metadata": {
            "tags": []
          },
          "execution_count": 28
        },
        {
          "output_type": "stream",
          "text": [
            "/content/Test_Dev/Roseau/Mais/Masks/Roseau_mais_0214_false.png\n"
          ],
          "name": "stdout"
        },
        {
          "output_type": "execute_result",
          "data": {
            "application/vnd.google.colaboratory.intrinsic+json": {
              "type": "string"
            },
            "text/plain": [
              "'/content/Development_Dataset/Training/Roseau/Mais/Masks/Roseau_mais_0214_false.png'"
            ]
          },
          "metadata": {
            "tags": []
          },
          "execution_count": 28
        },
        {
          "output_type": "stream",
          "text": [
            "/content/Test_Dev/Roseau/Mais/Masks/Roseau_mais_0174_false.png\n"
          ],
          "name": "stdout"
        },
        {
          "output_type": "execute_result",
          "data": {
            "application/vnd.google.colaboratory.intrinsic+json": {
              "type": "string"
            },
            "text/plain": [
              "'/content/Development_Dataset/Training/Roseau/Mais/Masks/Roseau_mais_0174_false.png'"
            ]
          },
          "metadata": {
            "tags": []
          },
          "execution_count": 28
        },
        {
          "output_type": "stream",
          "text": [
            "/content/Test_Dev/Roseau/Mais/Masks/Roseau_mais_0074_false.png\n"
          ],
          "name": "stdout"
        },
        {
          "output_type": "execute_result",
          "data": {
            "application/vnd.google.colaboratory.intrinsic+json": {
              "type": "string"
            },
            "text/plain": [
              "'/content/Development_Dataset/Training/Roseau/Mais/Masks/Roseau_mais_0074_false.png'"
            ]
          },
          "metadata": {
            "tags": []
          },
          "execution_count": 28
        },
        {
          "output_type": "stream",
          "text": [
            "/content/Test_Dev/Roseau/Mais/Masks/Roseau_mais_0322_false.png\n"
          ],
          "name": "stdout"
        },
        {
          "output_type": "execute_result",
          "data": {
            "application/vnd.google.colaboratory.intrinsic+json": {
              "type": "string"
            },
            "text/plain": [
              "'/content/Development_Dataset/Training/Roseau/Mais/Masks/Roseau_mais_0322_false.png'"
            ]
          },
          "metadata": {
            "tags": []
          },
          "execution_count": 28
        },
        {
          "output_type": "stream",
          "text": [
            "/content/Test_Dev/Weedelec/Haricot/Images/Weedelec_haricot_2019-09-25T114537-44.jpg\n"
          ],
          "name": "stdout"
        },
        {
          "output_type": "execute_result",
          "data": {
            "application/vnd.google.colaboratory.intrinsic+json": {
              "type": "string"
            },
            "text/plain": [
              "'/content/Development_Dataset/Training/Weedelec/Haricot/Images/Weedelec_haricot_2019-09-25T114537-44.jpg'"
            ]
          },
          "metadata": {
            "tags": []
          },
          "execution_count": 28
        },
        {
          "output_type": "stream",
          "text": [
            "/content/Test_Dev/Weedelec/Haricot/Images/Weedelec_haricot_2019-09-25T114558-52.jpg\n"
          ],
          "name": "stdout"
        },
        {
          "output_type": "execute_result",
          "data": {
            "application/vnd.google.colaboratory.intrinsic+json": {
              "type": "string"
            },
            "text/plain": [
              "'/content/Development_Dataset/Training/Weedelec/Haricot/Images/Weedelec_haricot_2019-09-25T114558-52.jpg'"
            ]
          },
          "metadata": {
            "tags": []
          },
          "execution_count": 28
        },
        {
          "output_type": "stream",
          "text": [
            "/content/Test_Dev/Weedelec/Haricot/Images/Weedelec_haricot_2019-09-25T120146-418.jpg\n"
          ],
          "name": "stdout"
        },
        {
          "output_type": "execute_result",
          "data": {
            "application/vnd.google.colaboratory.intrinsic+json": {
              "type": "string"
            },
            "text/plain": [
              "'/content/Development_Dataset/Training/Weedelec/Haricot/Images/Weedelec_haricot_2019-09-25T120146-418.jpg'"
            ]
          },
          "metadata": {
            "tags": []
          },
          "execution_count": 28
        },
        {
          "output_type": "stream",
          "text": [
            "/content/Test_Dev/Weedelec/Haricot/Images/Weedelec_haricot_2019-09-25T115628-295.jpg\n"
          ],
          "name": "stdout"
        },
        {
          "output_type": "execute_result",
          "data": {
            "application/vnd.google.colaboratory.intrinsic+json": {
              "type": "string"
            },
            "text/plain": [
              "'/content/Development_Dataset/Training/Weedelec/Haricot/Images/Weedelec_haricot_2019-09-25T115628-295.jpg'"
            ]
          },
          "metadata": {
            "tags": []
          },
          "execution_count": 28
        },
        {
          "output_type": "stream",
          "text": [
            "/content/Test_Dev/Weedelec/Haricot/Images/Weedelec_haricot_2019-09-25T114419-14.jpg\n"
          ],
          "name": "stdout"
        },
        {
          "output_type": "execute_result",
          "data": {
            "application/vnd.google.colaboratory.intrinsic+json": {
              "type": "string"
            },
            "text/plain": [
              "'/content/Development_Dataset/Training/Weedelec/Haricot/Images/Weedelec_haricot_2019-09-25T114419-14.jpg'"
            ]
          },
          "metadata": {
            "tags": []
          },
          "execution_count": 28
        },
        {
          "output_type": "stream",
          "text": [
            "/content/Test_Dev/Weedelec/Haricot/Images/Weedelec_haricot_2019-09-25T114852-119.jpg\n"
          ],
          "name": "stdout"
        },
        {
          "output_type": "execute_result",
          "data": {
            "application/vnd.google.colaboratory.intrinsic+json": {
              "type": "string"
            },
            "text/plain": [
              "'/content/Development_Dataset/Training/Weedelec/Haricot/Images/Weedelec_haricot_2019-09-25T114852-119.jpg'"
            ]
          },
          "metadata": {
            "tags": []
          },
          "execution_count": 28
        },
        {
          "output_type": "stream",
          "text": [
            "/content/Test_Dev/Weedelec/Haricot/Images/Weedelec_haricot_2019-09-25T115906-356.jpg\n"
          ],
          "name": "stdout"
        },
        {
          "output_type": "execute_result",
          "data": {
            "application/vnd.google.colaboratory.intrinsic+json": {
              "type": "string"
            },
            "text/plain": [
              "'/content/Development_Dataset/Training/Weedelec/Haricot/Images/Weedelec_haricot_2019-09-25T115906-356.jpg'"
            ]
          },
          "metadata": {
            "tags": []
          },
          "execution_count": 28
        },
        {
          "output_type": "stream",
          "text": [
            "/content/Test_Dev/Weedelec/Haricot/Images/Weedelec_haricot_2019-09-25T120225-433.jpg\n"
          ],
          "name": "stdout"
        },
        {
          "output_type": "execute_result",
          "data": {
            "application/vnd.google.colaboratory.intrinsic+json": {
              "type": "string"
            },
            "text/plain": [
              "'/content/Development_Dataset/Training/Weedelec/Haricot/Images/Weedelec_haricot_2019-09-25T120225-433.jpg'"
            ]
          },
          "metadata": {
            "tags": []
          },
          "execution_count": 28
        },
        {
          "output_type": "stream",
          "text": [
            "/content/Test_Dev/Weedelec/Haricot/Images/Weedelec_haricot_2019-09-25T115031-157.jpg\n"
          ],
          "name": "stdout"
        },
        {
          "output_type": "execute_result",
          "data": {
            "application/vnd.google.colaboratory.intrinsic+json": {
              "type": "string"
            },
            "text/plain": [
              "'/content/Development_Dataset/Training/Weedelec/Haricot/Images/Weedelec_haricot_2019-09-25T115031-157.jpg'"
            ]
          },
          "metadata": {
            "tags": []
          },
          "execution_count": 28
        },
        {
          "output_type": "stream",
          "text": [
            "/content/Test_Dev/Weedelec/Haricot/Images/Weedelec_haricot_2019-09-25T115142-185.jpg\n"
          ],
          "name": "stdout"
        },
        {
          "output_type": "execute_result",
          "data": {
            "application/vnd.google.colaboratory.intrinsic+json": {
              "type": "string"
            },
            "text/plain": [
              "'/content/Development_Dataset/Training/Weedelec/Haricot/Images/Weedelec_haricot_2019-09-25T115142-185.jpg'"
            ]
          },
          "metadata": {
            "tags": []
          },
          "execution_count": 28
        },
        {
          "output_type": "stream",
          "text": [
            "/content/Test_Dev/Weedelec/Haricot/Images/Weedelec_haricot_2019-09-25T114726-86.jpg\n"
          ],
          "name": "stdout"
        },
        {
          "output_type": "execute_result",
          "data": {
            "application/vnd.google.colaboratory.intrinsic+json": {
              "type": "string"
            },
            "text/plain": [
              "'/content/Development_Dataset/Training/Weedelec/Haricot/Images/Weedelec_haricot_2019-09-25T114726-86.jpg'"
            ]
          },
          "metadata": {
            "tags": []
          },
          "execution_count": 28
        },
        {
          "output_type": "stream",
          "text": [
            "/content/Test_Dev/Weedelec/Haricot/Images/Weedelec_haricot_2019-09-25T114608-56.jpg\n"
          ],
          "name": "stdout"
        },
        {
          "output_type": "execute_result",
          "data": {
            "application/vnd.google.colaboratory.intrinsic+json": {
              "type": "string"
            },
            "text/plain": [
              "'/content/Development_Dataset/Training/Weedelec/Haricot/Images/Weedelec_haricot_2019-09-25T114608-56.jpg'"
            ]
          },
          "metadata": {
            "tags": []
          },
          "execution_count": 28
        },
        {
          "output_type": "stream",
          "text": [
            "/content/Test_Dev/Weedelec/Haricot/Images/Weedelec_haricot_2019-09-25T115942-370.jpg\n"
          ],
          "name": "stdout"
        },
        {
          "output_type": "execute_result",
          "data": {
            "application/vnd.google.colaboratory.intrinsic+json": {
              "type": "string"
            },
            "text/plain": [
              "'/content/Development_Dataset/Training/Weedelec/Haricot/Images/Weedelec_haricot_2019-09-25T115942-370.jpg'"
            ]
          },
          "metadata": {
            "tags": []
          },
          "execution_count": 28
        },
        {
          "output_type": "stream",
          "text": [
            "/content/Test_Dev/Weedelec/Haricot/Images/Weedelec_haricot_2019-09-25T120248-442.jpg\n"
          ],
          "name": "stdout"
        },
        {
          "output_type": "execute_result",
          "data": {
            "application/vnd.google.colaboratory.intrinsic+json": {
              "type": "string"
            },
            "text/plain": [
              "'/content/Development_Dataset/Training/Weedelec/Haricot/Images/Weedelec_haricot_2019-09-25T120248-442.jpg'"
            ]
          },
          "metadata": {
            "tags": []
          },
          "execution_count": 28
        },
        {
          "output_type": "stream",
          "text": [
            "/content/Test_Dev/Weedelec/Haricot/Images/Weedelec_haricot_2019-09-25T114347-2.jpg\n"
          ],
          "name": "stdout"
        },
        {
          "output_type": "execute_result",
          "data": {
            "application/vnd.google.colaboratory.intrinsic+json": {
              "type": "string"
            },
            "text/plain": [
              "'/content/Development_Dataset/Training/Weedelec/Haricot/Images/Weedelec_haricot_2019-09-25T114347-2.jpg'"
            ]
          },
          "metadata": {
            "tags": []
          },
          "execution_count": 28
        },
        {
          "output_type": "stream",
          "text": [
            "/content/Test_Dev/Weedelec/Haricot/Masks/Weedelec_haricot_2019-09-25T115628-295.png\n"
          ],
          "name": "stdout"
        },
        {
          "output_type": "execute_result",
          "data": {
            "application/vnd.google.colaboratory.intrinsic+json": {
              "type": "string"
            },
            "text/plain": [
              "'/content/Development_Dataset/Training/Weedelec/Haricot/Masks/Weedelec_haricot_2019-09-25T115628-295.png'"
            ]
          },
          "metadata": {
            "tags": []
          },
          "execution_count": 28
        },
        {
          "output_type": "stream",
          "text": [
            "/content/Test_Dev/Weedelec/Haricot/Masks/Weedelec_haricot_2019-09-25T120146-418.png\n"
          ],
          "name": "stdout"
        },
        {
          "output_type": "execute_result",
          "data": {
            "application/vnd.google.colaboratory.intrinsic+json": {
              "type": "string"
            },
            "text/plain": [
              "'/content/Development_Dataset/Training/Weedelec/Haricot/Masks/Weedelec_haricot_2019-09-25T120146-418.png'"
            ]
          },
          "metadata": {
            "tags": []
          },
          "execution_count": 28
        },
        {
          "output_type": "stream",
          "text": [
            "/content/Test_Dev/Weedelec/Haricot/Masks/Weedelec_haricot_2019-09-25T114852-119.png\n"
          ],
          "name": "stdout"
        },
        {
          "output_type": "execute_result",
          "data": {
            "application/vnd.google.colaboratory.intrinsic+json": {
              "type": "string"
            },
            "text/plain": [
              "'/content/Development_Dataset/Training/Weedelec/Haricot/Masks/Weedelec_haricot_2019-09-25T114852-119.png'"
            ]
          },
          "metadata": {
            "tags": []
          },
          "execution_count": 28
        },
        {
          "output_type": "stream",
          "text": [
            "/content/Test_Dev/Weedelec/Haricot/Masks/Weedelec_haricot_2019-09-25T120248-442.png\n"
          ],
          "name": "stdout"
        },
        {
          "output_type": "execute_result",
          "data": {
            "application/vnd.google.colaboratory.intrinsic+json": {
              "type": "string"
            },
            "text/plain": [
              "'/content/Development_Dataset/Training/Weedelec/Haricot/Masks/Weedelec_haricot_2019-09-25T120248-442.png'"
            ]
          },
          "metadata": {
            "tags": []
          },
          "execution_count": 28
        },
        {
          "output_type": "stream",
          "text": [
            "/content/Test_Dev/Weedelec/Haricot/Masks/Weedelec_haricot_2019-09-25T115906-356.png\n"
          ],
          "name": "stdout"
        },
        {
          "output_type": "execute_result",
          "data": {
            "application/vnd.google.colaboratory.intrinsic+json": {
              "type": "string"
            },
            "text/plain": [
              "'/content/Development_Dataset/Training/Weedelec/Haricot/Masks/Weedelec_haricot_2019-09-25T115906-356.png'"
            ]
          },
          "metadata": {
            "tags": []
          },
          "execution_count": 28
        },
        {
          "output_type": "stream",
          "text": [
            "/content/Test_Dev/Weedelec/Haricot/Masks/Weedelec_haricot_2019-09-25T114419-14.png\n"
          ],
          "name": "stdout"
        },
        {
          "output_type": "execute_result",
          "data": {
            "application/vnd.google.colaboratory.intrinsic+json": {
              "type": "string"
            },
            "text/plain": [
              "'/content/Development_Dataset/Training/Weedelec/Haricot/Masks/Weedelec_haricot_2019-09-25T114419-14.png'"
            ]
          },
          "metadata": {
            "tags": []
          },
          "execution_count": 28
        },
        {
          "output_type": "stream",
          "text": [
            "/content/Test_Dev/Weedelec/Haricot/Masks/Weedelec_haricot_2019-09-25T114608-56.png\n"
          ],
          "name": "stdout"
        },
        {
          "output_type": "execute_result",
          "data": {
            "application/vnd.google.colaboratory.intrinsic+json": {
              "type": "string"
            },
            "text/plain": [
              "'/content/Development_Dataset/Training/Weedelec/Haricot/Masks/Weedelec_haricot_2019-09-25T114608-56.png'"
            ]
          },
          "metadata": {
            "tags": []
          },
          "execution_count": 28
        },
        {
          "output_type": "stream",
          "text": [
            "/content/Test_Dev/Weedelec/Haricot/Masks/Weedelec_haricot_2019-09-25T120225-433.png\n"
          ],
          "name": "stdout"
        },
        {
          "output_type": "execute_result",
          "data": {
            "application/vnd.google.colaboratory.intrinsic+json": {
              "type": "string"
            },
            "text/plain": [
              "'/content/Development_Dataset/Training/Weedelec/Haricot/Masks/Weedelec_haricot_2019-09-25T120225-433.png'"
            ]
          },
          "metadata": {
            "tags": []
          },
          "execution_count": 28
        },
        {
          "output_type": "stream",
          "text": [
            "/content/Test_Dev/Weedelec/Haricot/Masks/Weedelec_haricot_2019-09-25T114537-44.png\n"
          ],
          "name": "stdout"
        },
        {
          "output_type": "execute_result",
          "data": {
            "application/vnd.google.colaboratory.intrinsic+json": {
              "type": "string"
            },
            "text/plain": [
              "'/content/Development_Dataset/Training/Weedelec/Haricot/Masks/Weedelec_haricot_2019-09-25T114537-44.png'"
            ]
          },
          "metadata": {
            "tags": []
          },
          "execution_count": 28
        },
        {
          "output_type": "stream",
          "text": [
            "/content/Test_Dev/Weedelec/Haricot/Masks/Weedelec_haricot_2019-09-25T114347-2.png\n"
          ],
          "name": "stdout"
        },
        {
          "output_type": "execute_result",
          "data": {
            "application/vnd.google.colaboratory.intrinsic+json": {
              "type": "string"
            },
            "text/plain": [
              "'/content/Development_Dataset/Training/Weedelec/Haricot/Masks/Weedelec_haricot_2019-09-25T114347-2.png'"
            ]
          },
          "metadata": {
            "tags": []
          },
          "execution_count": 28
        },
        {
          "output_type": "stream",
          "text": [
            "/content/Test_Dev/Weedelec/Haricot/Masks/Weedelec_haricot_2019-09-25T114558-52.png\n"
          ],
          "name": "stdout"
        },
        {
          "output_type": "execute_result",
          "data": {
            "application/vnd.google.colaboratory.intrinsic+json": {
              "type": "string"
            },
            "text/plain": [
              "'/content/Development_Dataset/Training/Weedelec/Haricot/Masks/Weedelec_haricot_2019-09-25T114558-52.png'"
            ]
          },
          "metadata": {
            "tags": []
          },
          "execution_count": 28
        },
        {
          "output_type": "stream",
          "text": [
            "/content/Test_Dev/Weedelec/Haricot/Masks/Weedelec_haricot_2019-09-25T114726-86.png\n"
          ],
          "name": "stdout"
        },
        {
          "output_type": "execute_result",
          "data": {
            "application/vnd.google.colaboratory.intrinsic+json": {
              "type": "string"
            },
            "text/plain": [
              "'/content/Development_Dataset/Training/Weedelec/Haricot/Masks/Weedelec_haricot_2019-09-25T114726-86.png'"
            ]
          },
          "metadata": {
            "tags": []
          },
          "execution_count": 28
        },
        {
          "output_type": "stream",
          "text": [
            "/content/Test_Dev/Weedelec/Haricot/Masks/Weedelec_haricot_2019-09-25T115942-370.png\n"
          ],
          "name": "stdout"
        },
        {
          "output_type": "execute_result",
          "data": {
            "application/vnd.google.colaboratory.intrinsic+json": {
              "type": "string"
            },
            "text/plain": [
              "'/content/Development_Dataset/Training/Weedelec/Haricot/Masks/Weedelec_haricot_2019-09-25T115942-370.png'"
            ]
          },
          "metadata": {
            "tags": []
          },
          "execution_count": 28
        },
        {
          "output_type": "stream",
          "text": [
            "/content/Test_Dev/Weedelec/Haricot/Masks/Weedelec_haricot_2019-09-25T115031-157.png\n"
          ],
          "name": "stdout"
        },
        {
          "output_type": "execute_result",
          "data": {
            "application/vnd.google.colaboratory.intrinsic+json": {
              "type": "string"
            },
            "text/plain": [
              "'/content/Development_Dataset/Training/Weedelec/Haricot/Masks/Weedelec_haricot_2019-09-25T115031-157.png'"
            ]
          },
          "metadata": {
            "tags": []
          },
          "execution_count": 28
        },
        {
          "output_type": "stream",
          "text": [
            "/content/Test_Dev/Weedelec/Haricot/Masks/Weedelec_haricot_2019-09-25T115142-185.png\n"
          ],
          "name": "stdout"
        },
        {
          "output_type": "execute_result",
          "data": {
            "application/vnd.google.colaboratory.intrinsic+json": {
              "type": "string"
            },
            "text/plain": [
              "'/content/Development_Dataset/Training/Weedelec/Haricot/Masks/Weedelec_haricot_2019-09-25T115142-185.png'"
            ]
          },
          "metadata": {
            "tags": []
          },
          "execution_count": 28
        },
        {
          "output_type": "stream",
          "text": [
            "/content/Test_Dev/Weedelec/Mais/Images/Weedelec_mais_2019-09-25T121539-235.jpg\n"
          ],
          "name": "stdout"
        },
        {
          "output_type": "execute_result",
          "data": {
            "application/vnd.google.colaboratory.intrinsic+json": {
              "type": "string"
            },
            "text/plain": [
              "'/content/Development_Dataset/Training/Weedelec/Mais/Images/Weedelec_mais_2019-09-25T121539-235.jpg'"
            ]
          },
          "metadata": {
            "tags": []
          },
          "execution_count": 28
        },
        {
          "output_type": "stream",
          "text": [
            "/content/Test_Dev/Weedelec/Mais/Images/Weedelec_mais_2019-09-25T121800-290.jpg\n"
          ],
          "name": "stdout"
        },
        {
          "output_type": "execute_result",
          "data": {
            "application/vnd.google.colaboratory.intrinsic+json": {
              "type": "string"
            },
            "text/plain": [
              "'/content/Development_Dataset/Training/Weedelec/Mais/Images/Weedelec_mais_2019-09-25T121800-290.jpg'"
            ]
          },
          "metadata": {
            "tags": []
          },
          "execution_count": 28
        },
        {
          "output_type": "stream",
          "text": [
            "/content/Test_Dev/Weedelec/Mais/Images/Weedelec_mais_2019-09-25T121602-244.jpg\n"
          ],
          "name": "stdout"
        },
        {
          "output_type": "execute_result",
          "data": {
            "application/vnd.google.colaboratory.intrinsic+json": {
              "type": "string"
            },
            "text/plain": [
              "'/content/Development_Dataset/Training/Weedelec/Mais/Images/Weedelec_mais_2019-09-25T121602-244.jpg'"
            ]
          },
          "metadata": {
            "tags": []
          },
          "execution_count": 28
        },
        {
          "output_type": "stream",
          "text": [
            "/content/Test_Dev/Weedelec/Mais/Images/Weedelec_mais_2019-09-25T121212-155.jpg\n"
          ],
          "name": "stdout"
        },
        {
          "output_type": "execute_result",
          "data": {
            "application/vnd.google.colaboratory.intrinsic+json": {
              "type": "string"
            },
            "text/plain": [
              "'/content/Development_Dataset/Training/Weedelec/Mais/Images/Weedelec_mais_2019-09-25T121212-155.jpg'"
            ]
          },
          "metadata": {
            "tags": []
          },
          "execution_count": 28
        },
        {
          "output_type": "stream",
          "text": [
            "/content/Test_Dev/Weedelec/Mais/Images/Weedelec_mais_2019-09-25T121047-122.jpg\n"
          ],
          "name": "stdout"
        },
        {
          "output_type": "execute_result",
          "data": {
            "application/vnd.google.colaboratory.intrinsic+json": {
              "type": "string"
            },
            "text/plain": [
              "'/content/Development_Dataset/Training/Weedelec/Mais/Images/Weedelec_mais_2019-09-25T121047-122.jpg'"
            ]
          },
          "metadata": {
            "tags": []
          },
          "execution_count": 28
        },
        {
          "output_type": "stream",
          "text": [
            "/content/Test_Dev/Weedelec/Mais/Images/Weedelec_mais_2019-09-25T121350-193.jpg\n"
          ],
          "name": "stdout"
        },
        {
          "output_type": "execute_result",
          "data": {
            "application/vnd.google.colaboratory.intrinsic+json": {
              "type": "string"
            },
            "text/plain": [
              "'/content/Development_Dataset/Training/Weedelec/Mais/Images/Weedelec_mais_2019-09-25T121350-193.jpg'"
            ]
          },
          "metadata": {
            "tags": []
          },
          "execution_count": 28
        },
        {
          "output_type": "stream",
          "text": [
            "/content/Test_Dev/Weedelec/Mais/Images/Weedelec_mais_2019-09-25T120608-14.jpg\n"
          ],
          "name": "stdout"
        },
        {
          "output_type": "execute_result",
          "data": {
            "application/vnd.google.colaboratory.intrinsic+json": {
              "type": "string"
            },
            "text/plain": [
              "'/content/Development_Dataset/Training/Weedelec/Mais/Images/Weedelec_mais_2019-09-25T120608-14.jpg'"
            ]
          },
          "metadata": {
            "tags": []
          },
          "execution_count": 28
        },
        {
          "output_type": "stream",
          "text": [
            "/content/Test_Dev/Weedelec/Mais/Images/Weedelec_mais_2019-09-25T121237-165.jpg\n"
          ],
          "name": "stdout"
        },
        {
          "output_type": "execute_result",
          "data": {
            "application/vnd.google.colaboratory.intrinsic+json": {
              "type": "string"
            },
            "text/plain": [
              "'/content/Development_Dataset/Training/Weedelec/Mais/Images/Weedelec_mais_2019-09-25T121237-165.jpg'"
            ]
          },
          "metadata": {
            "tags": []
          },
          "execution_count": 28
        },
        {
          "output_type": "stream",
          "text": [
            "/content/Test_Dev/Weedelec/Mais/Images/Weedelec_mais_2019-09-25T122227-395.jpg\n"
          ],
          "name": "stdout"
        },
        {
          "output_type": "execute_result",
          "data": {
            "application/vnd.google.colaboratory.intrinsic+json": {
              "type": "string"
            },
            "text/plain": [
              "'/content/Development_Dataset/Training/Weedelec/Mais/Images/Weedelec_mais_2019-09-25T122227-395.jpg'"
            ]
          },
          "metadata": {
            "tags": []
          },
          "execution_count": 28
        },
        {
          "output_type": "stream",
          "text": [
            "/content/Test_Dev/Weedelec/Mais/Images/Weedelec_mais_2019-09-25T121133-140.jpg\n"
          ],
          "name": "stdout"
        },
        {
          "output_type": "execute_result",
          "data": {
            "application/vnd.google.colaboratory.intrinsic+json": {
              "type": "string"
            },
            "text/plain": [
              "'/content/Development_Dataset/Training/Weedelec/Mais/Images/Weedelec_mais_2019-09-25T121133-140.jpg'"
            ]
          },
          "metadata": {
            "tags": []
          },
          "execution_count": 28
        },
        {
          "output_type": "stream",
          "text": [
            "/content/Test_Dev/Weedelec/Mais/Images/Weedelec_mais_2019-09-25T122021-345.jpg\n"
          ],
          "name": "stdout"
        },
        {
          "output_type": "execute_result",
          "data": {
            "application/vnd.google.colaboratory.intrinsic+json": {
              "type": "string"
            },
            "text/plain": [
              "'/content/Development_Dataset/Training/Weedelec/Mais/Images/Weedelec_mais_2019-09-25T122021-345.jpg'"
            ]
          },
          "metadata": {
            "tags": []
          },
          "execution_count": 28
        },
        {
          "output_type": "stream",
          "text": [
            "/content/Test_Dev/Weedelec/Mais/Images/Weedelec_mais_2019-09-25T121851-310.jpg\n"
          ],
          "name": "stdout"
        },
        {
          "output_type": "execute_result",
          "data": {
            "application/vnd.google.colaboratory.intrinsic+json": {
              "type": "string"
            },
            "text/plain": [
              "'/content/Development_Dataset/Training/Weedelec/Mais/Images/Weedelec_mais_2019-09-25T121851-310.jpg'"
            ]
          },
          "metadata": {
            "tags": []
          },
          "execution_count": 28
        },
        {
          "output_type": "stream",
          "text": [
            "/content/Test_Dev/Weedelec/Mais/Images/Weedelec_mais_2019-09-25T121125-137.jpg\n"
          ],
          "name": "stdout"
        },
        {
          "output_type": "execute_result",
          "data": {
            "application/vnd.google.colaboratory.intrinsic+json": {
              "type": "string"
            },
            "text/plain": [
              "'/content/Development_Dataset/Training/Weedelec/Mais/Images/Weedelec_mais_2019-09-25T121125-137.jpg'"
            ]
          },
          "metadata": {
            "tags": []
          },
          "execution_count": 28
        },
        {
          "output_type": "stream",
          "text": [
            "/content/Test_Dev/Weedelec/Mais/Images/Weedelec_mais_2019-09-25T122122-369.jpg\n"
          ],
          "name": "stdout"
        },
        {
          "output_type": "execute_result",
          "data": {
            "application/vnd.google.colaboratory.intrinsic+json": {
              "type": "string"
            },
            "text/plain": [
              "'/content/Development_Dataset/Training/Weedelec/Mais/Images/Weedelec_mais_2019-09-25T122122-369.jpg'"
            ]
          },
          "metadata": {
            "tags": []
          },
          "execution_count": 28
        },
        {
          "output_type": "stream",
          "text": [
            "/content/Test_Dev/Weedelec/Mais/Images/Weedelec_mais_2019-09-25T121103-128.jpg\n"
          ],
          "name": "stdout"
        },
        {
          "output_type": "execute_result",
          "data": {
            "application/vnd.google.colaboratory.intrinsic+json": {
              "type": "string"
            },
            "text/plain": [
              "'/content/Development_Dataset/Training/Weedelec/Mais/Images/Weedelec_mais_2019-09-25T121103-128.jpg'"
            ]
          },
          "metadata": {
            "tags": []
          },
          "execution_count": 28
        },
        {
          "output_type": "stream",
          "text": [
            "/content/Test_Dev/Weedelec/Mais/Masks/Weedelec_mais_2019-09-25T122227-395.png\n"
          ],
          "name": "stdout"
        },
        {
          "output_type": "execute_result",
          "data": {
            "application/vnd.google.colaboratory.intrinsic+json": {
              "type": "string"
            },
            "text/plain": [
              "'/content/Development_Dataset/Training/Weedelec/Mais/Masks/Weedelec_mais_2019-09-25T122227-395.png'"
            ]
          },
          "metadata": {
            "tags": []
          },
          "execution_count": 28
        },
        {
          "output_type": "stream",
          "text": [
            "/content/Test_Dev/Weedelec/Mais/Masks/Weedelec_mais_2019-09-25T122122-369.png\n"
          ],
          "name": "stdout"
        },
        {
          "output_type": "execute_result",
          "data": {
            "application/vnd.google.colaboratory.intrinsic+json": {
              "type": "string"
            },
            "text/plain": [
              "'/content/Development_Dataset/Training/Weedelec/Mais/Masks/Weedelec_mais_2019-09-25T122122-369.png'"
            ]
          },
          "metadata": {
            "tags": []
          },
          "execution_count": 28
        },
        {
          "output_type": "stream",
          "text": [
            "/content/Test_Dev/Weedelec/Mais/Masks/Weedelec_mais_2019-09-25T121350-193.png\n"
          ],
          "name": "stdout"
        },
        {
          "output_type": "execute_result",
          "data": {
            "application/vnd.google.colaboratory.intrinsic+json": {
              "type": "string"
            },
            "text/plain": [
              "'/content/Development_Dataset/Training/Weedelec/Mais/Masks/Weedelec_mais_2019-09-25T121350-193.png'"
            ]
          },
          "metadata": {
            "tags": []
          },
          "execution_count": 28
        },
        {
          "output_type": "stream",
          "text": [
            "/content/Test_Dev/Weedelec/Mais/Masks/Weedelec_mais_2019-09-25T121047-122.png\n"
          ],
          "name": "stdout"
        },
        {
          "output_type": "execute_result",
          "data": {
            "application/vnd.google.colaboratory.intrinsic+json": {
              "type": "string"
            },
            "text/plain": [
              "'/content/Development_Dataset/Training/Weedelec/Mais/Masks/Weedelec_mais_2019-09-25T121047-122.png'"
            ]
          },
          "metadata": {
            "tags": []
          },
          "execution_count": 28
        },
        {
          "output_type": "stream",
          "text": [
            "/content/Test_Dev/Weedelec/Mais/Masks/Weedelec_mais_2019-09-25T121103-128.png\n"
          ],
          "name": "stdout"
        },
        {
          "output_type": "execute_result",
          "data": {
            "application/vnd.google.colaboratory.intrinsic+json": {
              "type": "string"
            },
            "text/plain": [
              "'/content/Development_Dataset/Training/Weedelec/Mais/Masks/Weedelec_mais_2019-09-25T121103-128.png'"
            ]
          },
          "metadata": {
            "tags": []
          },
          "execution_count": 28
        },
        {
          "output_type": "stream",
          "text": [
            "/content/Test_Dev/Weedelec/Mais/Masks/Weedelec_mais_2019-09-25T121602-244.png\n"
          ],
          "name": "stdout"
        },
        {
          "output_type": "execute_result",
          "data": {
            "application/vnd.google.colaboratory.intrinsic+json": {
              "type": "string"
            },
            "text/plain": [
              "'/content/Development_Dataset/Training/Weedelec/Mais/Masks/Weedelec_mais_2019-09-25T121602-244.png'"
            ]
          },
          "metadata": {
            "tags": []
          },
          "execution_count": 28
        },
        {
          "output_type": "stream",
          "text": [
            "/content/Test_Dev/Weedelec/Mais/Masks/Weedelec_mais_2019-09-25T122021-345.png\n"
          ],
          "name": "stdout"
        },
        {
          "output_type": "execute_result",
          "data": {
            "application/vnd.google.colaboratory.intrinsic+json": {
              "type": "string"
            },
            "text/plain": [
              "'/content/Development_Dataset/Training/Weedelec/Mais/Masks/Weedelec_mais_2019-09-25T122021-345.png'"
            ]
          },
          "metadata": {
            "tags": []
          },
          "execution_count": 28
        },
        {
          "output_type": "stream",
          "text": [
            "/content/Test_Dev/Weedelec/Mais/Masks/Weedelec_mais_2019-09-25T121212-155.png\n"
          ],
          "name": "stdout"
        },
        {
          "output_type": "execute_result",
          "data": {
            "application/vnd.google.colaboratory.intrinsic+json": {
              "type": "string"
            },
            "text/plain": [
              "'/content/Development_Dataset/Training/Weedelec/Mais/Masks/Weedelec_mais_2019-09-25T121212-155.png'"
            ]
          },
          "metadata": {
            "tags": []
          },
          "execution_count": 28
        },
        {
          "output_type": "stream",
          "text": [
            "/content/Test_Dev/Weedelec/Mais/Masks/Weedelec_mais_2019-09-25T121133-140.png\n"
          ],
          "name": "stdout"
        },
        {
          "output_type": "execute_result",
          "data": {
            "application/vnd.google.colaboratory.intrinsic+json": {
              "type": "string"
            },
            "text/plain": [
              "'/content/Development_Dataset/Training/Weedelec/Mais/Masks/Weedelec_mais_2019-09-25T121133-140.png'"
            ]
          },
          "metadata": {
            "tags": []
          },
          "execution_count": 28
        },
        {
          "output_type": "stream",
          "text": [
            "/content/Test_Dev/Weedelec/Mais/Masks/Weedelec_mais_2019-09-25T121237-165.png\n"
          ],
          "name": "stdout"
        },
        {
          "output_type": "execute_result",
          "data": {
            "application/vnd.google.colaboratory.intrinsic+json": {
              "type": "string"
            },
            "text/plain": [
              "'/content/Development_Dataset/Training/Weedelec/Mais/Masks/Weedelec_mais_2019-09-25T121237-165.png'"
            ]
          },
          "metadata": {
            "tags": []
          },
          "execution_count": 28
        },
        {
          "output_type": "stream",
          "text": [
            "/content/Test_Dev/Weedelec/Mais/Masks/Weedelec_mais_2019-09-25T121539-235.png\n"
          ],
          "name": "stdout"
        },
        {
          "output_type": "execute_result",
          "data": {
            "application/vnd.google.colaboratory.intrinsic+json": {
              "type": "string"
            },
            "text/plain": [
              "'/content/Development_Dataset/Training/Weedelec/Mais/Masks/Weedelec_mais_2019-09-25T121539-235.png'"
            ]
          },
          "metadata": {
            "tags": []
          },
          "execution_count": 28
        },
        {
          "output_type": "stream",
          "text": [
            "/content/Test_Dev/Weedelec/Mais/Masks/Weedelec_mais_2019-09-25T121800-290.png\n"
          ],
          "name": "stdout"
        },
        {
          "output_type": "execute_result",
          "data": {
            "application/vnd.google.colaboratory.intrinsic+json": {
              "type": "string"
            },
            "text/plain": [
              "'/content/Development_Dataset/Training/Weedelec/Mais/Masks/Weedelec_mais_2019-09-25T121800-290.png'"
            ]
          },
          "metadata": {
            "tags": []
          },
          "execution_count": 28
        },
        {
          "output_type": "stream",
          "text": [
            "/content/Test_Dev/Weedelec/Mais/Masks/Weedelec_mais_2019-09-25T121125-137.png\n"
          ],
          "name": "stdout"
        },
        {
          "output_type": "execute_result",
          "data": {
            "application/vnd.google.colaboratory.intrinsic+json": {
              "type": "string"
            },
            "text/plain": [
              "'/content/Development_Dataset/Training/Weedelec/Mais/Masks/Weedelec_mais_2019-09-25T121125-137.png'"
            ]
          },
          "metadata": {
            "tags": []
          },
          "execution_count": 28
        },
        {
          "output_type": "stream",
          "text": [
            "/content/Test_Dev/Weedelec/Mais/Masks/Weedelec_mais_2019-09-25T120608-14.png\n"
          ],
          "name": "stdout"
        },
        {
          "output_type": "execute_result",
          "data": {
            "application/vnd.google.colaboratory.intrinsic+json": {
              "type": "string"
            },
            "text/plain": [
              "'/content/Development_Dataset/Training/Weedelec/Mais/Masks/Weedelec_mais_2019-09-25T120608-14.png'"
            ]
          },
          "metadata": {
            "tags": []
          },
          "execution_count": 28
        },
        {
          "output_type": "stream",
          "text": [
            "/content/Test_Dev/Weedelec/Mais/Masks/Weedelec_mais_2019-09-25T121851-310.png\n"
          ],
          "name": "stdout"
        },
        {
          "output_type": "execute_result",
          "data": {
            "application/vnd.google.colaboratory.intrinsic+json": {
              "type": "string"
            },
            "text/plain": [
              "'/content/Development_Dataset/Training/Weedelec/Mais/Masks/Weedelec_mais_2019-09-25T121851-310.png'"
            ]
          },
          "metadata": {
            "tags": []
          },
          "execution_count": 28
        }
      ]
    },
    {
      "cell_type": "code",
      "metadata": {
        "id": "3keO3T59xm2C"
      },
      "source": [
        "# -----------------------------\n",
        "# Create the dataset_split.json \n",
        "# -----------------------------\n",
        "if SPLIT_DATASET == True and LOAD_FROM_JSON == False:\n",
        "\n",
        "  from PIL import Image\n",
        "  import json\n",
        "  \n",
        "  VALIDATION_SPLIT = 0.15\n",
        "\n",
        "  split = {}\n",
        "  split['training'] = {}\n",
        "  split['validation'] = {}\n",
        "\n",
        "  teams = ['Bipbip', 'Pead', 'Roseau', 'Weedelec']\n",
        "  plants = ['Haricot', 'Mais']\n",
        "\n",
        "  # Random seed for reproducibility\n",
        "  np.random.seed(SEED)\n",
        "\n",
        "  for t in teams:\n",
        "\n",
        "    split['training'][t] = {}\n",
        "    split['validation'][t] = {}\n",
        "\n",
        "    for p in plants:\n",
        "\n",
        "      split['training'][t][p] = []      \n",
        "      split['validation'][t][p] = []\n",
        "\n",
        "      image_filenames = os.listdir('/content/Development_Dataset/Training/' + t + '/' + p + '/' + 'Images')\n",
        "      # Order images files to get always the same split\n",
        "      image_filenames = sorted(image_filenames)\n",
        "          \n",
        "      # Create training split\n",
        "      for i in range(int(len(image_filenames) * (1 - VALIDATION_SPLIT))):\n",
        "        image_name = image_filenames[i].split('.')\n",
        "        split['training'][t][p].append(image_name)\n",
        "      \n",
        "      # Create validation split\n",
        "      for j in range(i + 1, len(image_filenames)):\n",
        "        image_name = image_filenames[j].split('.')\n",
        "        split['validation'][t][p].append(image_name)\n",
        "\n",
        "  with open(os.path.join(cwd, 'dataset_split.json'), 'w') as f:\n",
        "    json.dump(split, f)\n",
        "\n",
        "  ! cp '/content/dataset_split.json' '/content/drive/My Drive/Challenge_2/dataset_split.json'"
      ],
      "execution_count": 33,
      "outputs": []
    },
    {
      "cell_type": "code",
      "metadata": {
        "id": "ZA65-S5D5tKx",
        "colab": {
          "base_uri": "https://localhost:8080/"
        },
        "outputId": "3dce5a0e-f539-4a32-8817-34a7069edff9"
      },
      "source": [
        "# ------------------------------------------\n",
        "# Create the splitted dataset directory tree \n",
        "# ------------------------------------------\n",
        "if SPLIT_DATASET == True and USE_TILING == True:\n",
        "  import shutil\n",
        "  \n",
        "  # Use your dataset_split.json \n",
        "  # ---------------------------\n",
        "  if LOAD_FROM_JSON == True:\n",
        "    import json\n",
        "    f = open('/content/drive/My Drive/Challenge_2/dataset_split.json')\n",
        "    split = json.load(f) \n",
        "    ! cp '/content/drive/My Drive/Challenge_2/dataset_split.json' '/content/dataset_split.json'  \n",
        "  # ---------------------------\n",
        "\n",
        "\n",
        "  # Create the folder for the splitted dataset\n",
        "  # ------------------------------------------\n",
        "  ! mkdir '/content/Development_Dataset_processed'\n",
        "\n",
        "  ! mkdir '/content/Development_Dataset_processed/training'\n",
        "  ! mkdir '/content/Development_Dataset_processed/training/images'\n",
        "  ! mkdir '/content/Development_Dataset_processed/training/masks'\n",
        "\n",
        "  ! mkdir '/content/Development_Dataset_processed/validation'\n",
        "  ! mkdir '/content/Development_Dataset_processed/validation/images'\n",
        "  ! mkdir '/content/Development_Dataset_processed/validation/masks'\n",
        "  # ------------------------------------------\n",
        "\n",
        "  teams = ['Bipbip', 'Pead', 'Roseau', 'Weedelec']\n",
        "  plants = ['Haricot', 'Mais']\n",
        "\n",
        "  which_dataset = ['training', 'validation']\n",
        "\n",
        "  patch_split = {}\n",
        "  patch_split['training'] = {}\n",
        "  patch_split['validation'] = {}\n",
        "\n",
        "  tile_width = 512\n",
        "  tile_height = 512\n",
        "  h_stride = 1\n",
        "  w_stride = 1\n",
        "\n",
        "  num_patch_tot = 0\n",
        "\n",
        "  for d in which_dataset:\n",
        "    \n",
        "    for t in teams:\n",
        "\n",
        "      patch_split[d][t] = {}\n",
        "      \n",
        "      for p in plants:\n",
        "\n",
        "        patch_split[d][t][p] = []\n",
        "        \n",
        "        for img_name in split[d][t][p]:\n",
        "\n",
        "          # Mask preprocessing and saving\n",
        "          # -----------------------------\n",
        "          src_path = os.path.join(cwd, 'Development_Dataset/Training', t, p, 'Masks', img_name[0] + '.png')\n",
        "\n",
        "          # Read Image\n",
        "          mask = Image.open(src_path)\n",
        "          \n",
        "          # Image to np array\n",
        "          mask_arr = np.array(mask)\n",
        "\n",
        "          mask_patches, patch_param = create_patches(mask_arr, patch_height = tile_height, patch_width = tile_width, h_stride = h_stride, w_stride = w_stride)\n",
        "\n",
        "          patches_to_use = []\n",
        "\n",
        "          num_patch = 0\n",
        "          for i in mask_patches:\n",
        "            num_patch = num_patch + 1\n",
        "\n",
        "            # RGB to target\n",
        "            # -------------\n",
        "            new_mask_arr = np.zeros(i.shape[:2], dtype=i.dtype)\n",
        "\n",
        "            use_patch = False\n",
        "\n",
        "            # Use RGB dictionary in 'RGBtoTarget.txt' to convert RGB to target\n",
        "            new_mask_arr[np.where(np.all(i == [0, 0, 0], axis=-1))] = 0\n",
        "            new_mask_arr[np.where(np.all(i == [254, 124, 18], axis=-1))] = 0\n",
        "            new_mask_arr[np.where(np.all(i == [255, 255, 255], axis=-1))] = 1\n",
        "            new_mask_arr[np.where(np.all(i == [216, 67, 82], axis=-1))] = 2\n",
        "            \n",
        "            if (np.where(np.all(i == [255, 255, 255], axis=-1))[0].size != 0) or (np.where(np.all(i == [216, 67, 82], axis=-1))[0].size != 0):\n",
        "              use_patch = True\n",
        "              num_patch_tot = num_patch_tot + 1\n",
        "              patches_to_use.append(num_patch)\n",
        "\n",
        "            mask_arr = np.expand_dims(new_mask_arr, -1)\n",
        "\n",
        "            # -------------\n",
        "            if use_patch:\n",
        "              dst_path = os.path.join(cwd, 'Development_Dataset_processed', d, 'masks', img_name[0] + '_patch-' + str(num_patch) + '.npy')\n",
        "              np.save(dst_path, mask_arr)\n",
        "          # -----------------------------\n",
        "\n",
        "          # Image preprocessing and saving\n",
        "          # ------------------------------\n",
        "          src_path = os.path.join(cwd, 'Development_Dataset/Training', t, p, 'Images', img_name[0] + '.' + img_name[1])\n",
        "\n",
        "          image = Image.open(src_path)\n",
        "\n",
        "          # Image to np array\n",
        "          img_array = np.array(image)\n",
        "          \n",
        "          img_patches, patch_param = create_patches(img_array, patch_height = tile_height, patch_width = tile_width, h_stride = h_stride, w_stride = w_stride)\n",
        "\n",
        "          num_patch = 0\n",
        "          for i in img_patches:\n",
        "\n",
        "            num_patch = num_patch + 1\n",
        "\n",
        "            if np.where(np.array(patches_to_use) == num_patch)[0].size != 0:\n",
        "            \n",
        "              img = Image.fromarray(i)\n",
        "              dst_path = os.path.join(cwd, 'Development_Dataset_processed', d, 'images', img_name[0] + '_patch-' + str(num_patch) + '.' + img_name[1])\n",
        "              img.save(dst_path)\n",
        "              patch_split[d][t][p].append([str(img_name[0] + '_patch-' + str(num_patch)), img_name[1]])\n",
        "\n",
        "          # ------------------------------\n",
        "\n",
        "  print(num_patch_tot)\n",
        "\n",
        "  with open(os.path.join(cwd, 'dataset_split_patch.json'), 'w') as f:\n",
        "    json.dump(patch_split, f)\n",
        "\n",
        "  ! cp '/content/dataset_split_patch.json' '/content/drive/My Drive/Challenge_2/dataset_split_patch.json'"
      ],
      "execution_count": 34,
      "outputs": [
        {
          "output_type": "stream",
          "text": [
            "\u001b[1;30;43mOutput streaming troncato alle ultime 5000 righe.\u001b[0m\n",
            "output shape (1536, 2048, 3)\n",
            "input shape (1536, 2048, 3)\n",
            "pad shape is [(0, 0), (0, 0), (0, 0)]\n",
            "output shape (1536, 2048, 3)\n",
            "input shape (1536, 2048, 3)\n",
            "pad shape is [(0, 0), (0, 0), (0, 0)]\n",
            "output shape (1536, 2048, 3)\n",
            "input shape (1536, 2048, 3)\n",
            "pad shape is [(0, 0), (0, 0), (0, 0)]\n",
            "output shape (1536, 2048, 3)\n",
            "input shape (1536, 2048, 3)\n",
            "pad shape is [(0, 0), (0, 0), (0, 0)]\n",
            "output shape (1536, 2048, 3)\n",
            "input shape (1536, 2048, 3)\n",
            "pad shape is [(0, 0), (0, 0), (0, 0)]\n",
            "output shape (1536, 2048, 3)\n",
            "input shape (1536, 2048, 3)\n",
            "pad shape is [(0, 0), (0, 0), (0, 0)]\n",
            "output shape (1536, 2048, 3)\n",
            "input shape (1536, 2048, 3)\n",
            "pad shape is [(0, 0), (0, 0), (0, 0)]\n",
            "output shape (1536, 2048, 3)\n",
            "input shape (1536, 2048, 3)\n",
            "pad shape is [(0, 0), (0, 0), (0, 0)]\n",
            "output shape (1536, 2048, 3)\n",
            "input shape (1536, 2048, 3)\n",
            "pad shape is [(0, 0), (0, 0), (0, 0)]\n",
            "output shape (1536, 2048, 3)\n",
            "input shape (1536, 2048, 3)\n",
            "pad shape is [(0, 0), (0, 0), (0, 0)]\n",
            "output shape (1536, 2048, 3)\n",
            "input shape (1536, 2048, 3)\n",
            "pad shape is [(0, 0), (0, 0), (0, 0)]\n",
            "output shape (1536, 2048, 3)\n",
            "input shape (1536, 2048, 3)\n",
            "pad shape is [(0, 0), (0, 0), (0, 0)]\n",
            "output shape (1536, 2048, 3)\n",
            "input shape (1536, 2048, 3)\n",
            "pad shape is [(0, 0), (0, 0), (0, 0)]\n",
            "output shape (1536, 2048, 3)\n",
            "input shape (1536, 2048, 3)\n",
            "pad shape is [(0, 0), (0, 0), (0, 0)]\n",
            "output shape (1536, 2048, 3)\n",
            "input shape (1536, 2048, 3)\n",
            "pad shape is [(0, 0), (0, 0), (0, 0)]\n",
            "output shape (1536, 2048, 3)\n",
            "input shape (1536, 2048, 3)\n",
            "pad shape is [(0, 0), (0, 0), (0, 0)]\n",
            "output shape (1536, 2048, 3)\n",
            "input shape (1536, 2048, 3)\n",
            "pad shape is [(0, 0), (0, 0), (0, 0)]\n",
            "output shape (1536, 2048, 3)\n",
            "input shape (1536, 2048, 3)\n",
            "pad shape is [(0, 0), (0, 0), (0, 0)]\n",
            "output shape (1536, 2048, 3)\n",
            "input shape (1536, 2048, 3)\n",
            "pad shape is [(0, 0), (0, 0), (0, 0)]\n",
            "output shape (1536, 2048, 3)\n",
            "input shape (1536, 2048, 3)\n",
            "pad shape is [(0, 0), (0, 0), (0, 0)]\n",
            "output shape (1536, 2048, 3)\n",
            "input shape (1536, 2048, 3)\n",
            "pad shape is [(0, 0), (0, 0), (0, 0)]\n",
            "output shape (1536, 2048, 3)\n",
            "input shape (1536, 2048, 3)\n",
            "pad shape is [(0, 0), (0, 0), (0, 0)]\n",
            "output shape (1536, 2048, 3)\n",
            "input shape (1536, 2048, 3)\n",
            "pad shape is [(0, 0), (0, 0), (0, 0)]\n",
            "output shape (1536, 2048, 3)\n",
            "input shape (1536, 2048, 3)\n",
            "pad shape is [(0, 0), (0, 0), (0, 0)]\n",
            "output shape (1536, 2048, 3)\n",
            "input shape (1536, 2048, 3)\n",
            "pad shape is [(0, 0), (0, 0), (0, 0)]\n",
            "output shape (1536, 2048, 3)\n",
            "input shape (1536, 2048, 3)\n",
            "pad shape is [(0, 0), (0, 0), (0, 0)]\n",
            "output shape (1536, 2048, 3)\n",
            "input shape (1536, 2048, 3)\n",
            "pad shape is [(0, 0), (0, 0), (0, 0)]\n",
            "output shape (1536, 2048, 3)\n",
            "input shape (1536, 2048, 3)\n",
            "pad shape is [(0, 0), (0, 0), (0, 0)]\n",
            "output shape (1536, 2048, 3)\n",
            "input shape (1536, 2048, 3)\n",
            "pad shape is [(0, 0), (0, 0), (0, 0)]\n",
            "output shape (1536, 2048, 3)\n",
            "input shape (1536, 2048, 3)\n",
            "pad shape is [(0, 0), (0, 0), (0, 0)]\n",
            "output shape (1536, 2048, 3)\n",
            "input shape (1536, 2048, 3)\n",
            "pad shape is [(0, 0), (0, 0), (0, 0)]\n",
            "output shape (1536, 2048, 3)\n",
            "input shape (1536, 2048, 3)\n",
            "pad shape is [(0, 0), (0, 0), (0, 0)]\n",
            "output shape (1536, 2048, 3)\n",
            "input shape (1536, 2048, 3)\n",
            "pad shape is [(0, 0), (0, 0), (0, 0)]\n",
            "output shape (1536, 2048, 3)\n",
            "input shape (1536, 2048, 3)\n",
            "pad shape is [(0, 0), (0, 0), (0, 0)]\n",
            "output shape (1536, 2048, 3)\n",
            "input shape (1536, 2048, 3)\n",
            "pad shape is [(0, 0), (0, 0), (0, 0)]\n",
            "output shape (1536, 2048, 3)\n",
            "input shape (1536, 2048, 3)\n",
            "pad shape is [(0, 0), (0, 0), (0, 0)]\n",
            "output shape (1536, 2048, 3)\n",
            "input shape (1536, 2048, 3)\n",
            "pad shape is [(0, 0), (0, 0), (0, 0)]\n",
            "output shape (1536, 2048, 3)\n",
            "input shape (1536, 2048, 3)\n",
            "pad shape is [(0, 0), (0, 0), (0, 0)]\n",
            "output shape (1536, 2048, 3)\n",
            "input shape (1536, 2048, 3)\n",
            "pad shape is [(0, 0), (0, 0), (0, 0)]\n",
            "output shape (1536, 2048, 3)\n",
            "input shape (1536, 2048, 3)\n",
            "pad shape is [(0, 0), (0, 0), (0, 0)]\n",
            "output shape (1536, 2048, 3)\n",
            "input shape (1536, 2048, 3)\n",
            "pad shape is [(0, 0), (0, 0), (0, 0)]\n",
            "output shape (1536, 2048, 3)\n",
            "input shape (1536, 2048, 3)\n",
            "pad shape is [(0, 0), (0, 0), (0, 0)]\n",
            "output shape (1536, 2048, 3)\n",
            "input shape (1536, 2048, 3)\n",
            "pad shape is [(0, 0), (0, 0), (0, 0)]\n",
            "output shape (1536, 2048, 3)\n",
            "input shape (1536, 2048, 3)\n",
            "pad shape is [(0, 0), (0, 0), (0, 0)]\n",
            "output shape (1536, 2048, 3)\n",
            "input shape (1536, 2048, 3)\n",
            "pad shape is [(0, 0), (0, 0), (0, 0)]\n",
            "output shape (1536, 2048, 3)\n",
            "input shape (1536, 2048, 3)\n",
            "pad shape is [(0, 0), (0, 0), (0, 0)]\n",
            "output shape (1536, 2048, 3)\n",
            "input shape (1536, 2048, 3)\n",
            "pad shape is [(0, 0), (0, 0), (0, 0)]\n",
            "output shape (1536, 2048, 3)\n",
            "input shape (1536, 2048, 3)\n",
            "pad shape is [(0, 0), (0, 0), (0, 0)]\n",
            "output shape (1536, 2048, 3)\n",
            "input shape (1536, 2048, 3)\n",
            "pad shape is [(0, 0), (0, 0), (0, 0)]\n",
            "output shape (1536, 2048, 3)\n",
            "input shape (1536, 2048, 3)\n",
            "pad shape is [(0, 0), (0, 0), (0, 0)]\n",
            "output shape (1536, 2048, 3)\n",
            "input shape (1536, 2048, 3)\n",
            "pad shape is [(0, 0), (0, 0), (0, 0)]\n",
            "output shape (1536, 2048, 3)\n",
            "input shape (1536, 2048, 3)\n",
            "pad shape is [(0, 0), (0, 0), (0, 0)]\n",
            "output shape (1536, 2048, 3)\n",
            "input shape (1536, 2048, 3)\n",
            "pad shape is [(0, 0), (0, 0), (0, 0)]\n",
            "output shape (1536, 2048, 3)\n",
            "input shape (1536, 2048, 3)\n",
            "pad shape is [(0, 0), (0, 0), (0, 0)]\n",
            "output shape (1536, 2048, 3)\n",
            "input shape (1536, 2048, 3)\n",
            "pad shape is [(0, 0), (0, 0), (0, 0)]\n",
            "output shape (1536, 2048, 3)\n",
            "input shape (1536, 2048, 3)\n",
            "pad shape is [(0, 0), (0, 0), (0, 0)]\n",
            "output shape (1536, 2048, 3)\n",
            "input shape (1536, 2048, 3)\n",
            "pad shape is [(0, 0), (0, 0), (0, 0)]\n",
            "output shape (1536, 2048, 3)\n",
            "input shape (1536, 2048, 3)\n",
            "pad shape is [(0, 0), (0, 0), (0, 0)]\n",
            "output shape (1536, 2048, 3)\n",
            "input shape (1536, 2048, 3)\n",
            "pad shape is [(0, 0), (0, 0), (0, 0)]\n",
            "output shape (1536, 2048, 3)\n",
            "input shape (1536, 2048, 3)\n",
            "pad shape is [(0, 0), (0, 0), (0, 0)]\n",
            "output shape (1536, 2048, 3)\n",
            "input shape (1536, 2048, 3)\n",
            "pad shape is [(0, 0), (0, 0), (0, 0)]\n",
            "output shape (1536, 2048, 3)\n",
            "input shape (1536, 2048, 3)\n",
            "pad shape is [(0, 0), (0, 0), (0, 0)]\n",
            "output shape (1536, 2048, 3)\n",
            "input shape (1536, 2048, 3)\n",
            "pad shape is [(0, 0), (0, 0), (0, 0)]\n",
            "output shape (1536, 2048, 3)\n",
            "input shape (1536, 2048, 3)\n",
            "pad shape is [(0, 0), (0, 0), (0, 0)]\n",
            "output shape (1536, 2048, 3)\n",
            "input shape (1536, 2048, 3)\n",
            "pad shape is [(0, 0), (0, 0), (0, 0)]\n",
            "output shape (1536, 2048, 3)\n",
            "input shape (1536, 2048, 3)\n",
            "pad shape is [(0, 0), (0, 0), (0, 0)]\n",
            "output shape (1536, 2048, 3)\n",
            "input shape (1536, 2048, 3)\n",
            "pad shape is [(0, 0), (0, 0), (0, 0)]\n",
            "output shape (1536, 2048, 3)\n",
            "input shape (1536, 2048, 3)\n",
            "pad shape is [(0, 0), (0, 0), (0, 0)]\n",
            "output shape (1536, 2048, 3)\n",
            "input shape (1536, 2048, 3)\n",
            "pad shape is [(0, 0), (0, 0), (0, 0)]\n",
            "output shape (1536, 2048, 3)\n",
            "input shape (1536, 2048, 3)\n",
            "pad shape is [(0, 0), (0, 0), (0, 0)]\n",
            "output shape (1536, 2048, 3)\n",
            "input shape (1536, 2048, 3)\n",
            "pad shape is [(0, 0), (0, 0), (0, 0)]\n",
            "output shape (1536, 2048, 3)\n",
            "input shape (1536, 2048, 3)\n",
            "pad shape is [(0, 0), (0, 0), (0, 0)]\n",
            "output shape (1536, 2048, 3)\n",
            "input shape (1536, 2048, 3)\n",
            "pad shape is [(0, 0), (0, 0), (0, 0)]\n",
            "output shape (1536, 2048, 3)\n",
            "input shape (1536, 2048, 3)\n",
            "pad shape is [(0, 0), (0, 0), (0, 0)]\n",
            "output shape (1536, 2048, 3)\n",
            "input shape (1536, 2048, 3)\n",
            "pad shape is [(0, 0), (0, 0), (0, 0)]\n",
            "output shape (1536, 2048, 3)\n",
            "input shape (1536, 2048, 3)\n",
            "pad shape is [(0, 0), (0, 0), (0, 0)]\n",
            "output shape (1536, 2048, 3)\n",
            "input shape (1536, 2048, 3)\n",
            "pad shape is [(0, 0), (0, 0), (0, 0)]\n",
            "output shape (1536, 2048, 3)\n",
            "input shape (1536, 2048, 3)\n",
            "pad shape is [(0, 0), (0, 0), (0, 0)]\n",
            "output shape (1536, 2048, 3)\n",
            "input shape (1536, 2048, 3)\n",
            "pad shape is [(0, 0), (0, 0), (0, 0)]\n",
            "output shape (1536, 2048, 3)\n",
            "input shape (1536, 2048, 3)\n",
            "pad shape is [(0, 0), (0, 0), (0, 0)]\n",
            "output shape (1536, 2048, 3)\n",
            "input shape (1536, 2048, 3)\n",
            "pad shape is [(0, 0), (0, 0), (0, 0)]\n",
            "output shape (1536, 2048, 3)\n",
            "input shape (1536, 2048, 3)\n",
            "pad shape is [(0, 0), (0, 0), (0, 0)]\n",
            "output shape (1536, 2048, 3)\n",
            "input shape (1536, 2048, 3)\n",
            "pad shape is [(0, 0), (0, 0), (0, 0)]\n",
            "output shape (1536, 2048, 3)\n",
            "input shape (1536, 2048, 3)\n",
            "pad shape is [(0, 0), (0, 0), (0, 0)]\n",
            "output shape (1536, 2048, 3)\n",
            "input shape (1536, 2048, 3)\n",
            "pad shape is [(0, 0), (0, 0), (0, 0)]\n",
            "output shape (1536, 2048, 3)\n",
            "input shape (1536, 2048, 3)\n",
            "pad shape is [(0, 0), (0, 0), (0, 0)]\n",
            "output shape (1536, 2048, 3)\n",
            "input shape (1536, 2048, 3)\n",
            "pad shape is [(0, 0), (0, 0), (0, 0)]\n",
            "output shape (1536, 2048, 3)\n",
            "input shape (1536, 2048, 3)\n",
            "pad shape is [(0, 0), (0, 0), (0, 0)]\n",
            "output shape (1536, 2048, 3)\n",
            "input shape (1536, 2048, 3)\n",
            "pad shape is [(0, 0), (0, 0), (0, 0)]\n",
            "output shape (1536, 2048, 3)\n",
            "input shape (1536, 2048, 3)\n",
            "pad shape is [(0, 0), (0, 0), (0, 0)]\n",
            "output shape (1536, 2048, 3)\n",
            "input shape (1536, 2048, 3)\n",
            "pad shape is [(0, 0), (0, 0), (0, 0)]\n",
            "output shape (1536, 2048, 3)\n",
            "input shape (1536, 2048, 3)\n",
            "pad shape is [(0, 0), (0, 0), (0, 0)]\n",
            "output shape (1536, 2048, 3)\n",
            "input shape (1536, 2048, 3)\n",
            "pad shape is [(0, 0), (0, 0), (0, 0)]\n",
            "output shape (1536, 2048, 3)\n",
            "input shape (1536, 2048, 3)\n",
            "pad shape is [(0, 0), (0, 0), (0, 0)]\n",
            "output shape (1536, 2048, 3)\n",
            "input shape (1536, 2048, 3)\n",
            "pad shape is [(0, 0), (0, 0), (0, 0)]\n",
            "output shape (1536, 2048, 3)\n",
            "input shape (1536, 2048, 3)\n",
            "pad shape is [(0, 0), (0, 0), (0, 0)]\n",
            "output shape (1536, 2048, 3)\n",
            "input shape (1536, 2048, 3)\n",
            "pad shape is [(0, 0), (0, 0), (0, 0)]\n",
            "output shape (1536, 2048, 3)\n",
            "input shape (1536, 2048, 3)\n",
            "pad shape is [(0, 0), (0, 0), (0, 0)]\n",
            "output shape (1536, 2048, 3)\n",
            "input shape (1536, 2048, 3)\n",
            "pad shape is [(0, 0), (0, 0), (0, 0)]\n",
            "output shape (1536, 2048, 3)\n",
            "input shape (1536, 2048, 3)\n",
            "pad shape is [(0, 0), (0, 0), (0, 0)]\n",
            "output shape (1536, 2048, 3)\n",
            "input shape (1536, 2048, 3)\n",
            "pad shape is [(0, 0), (0, 0), (0, 0)]\n",
            "output shape (1536, 2048, 3)\n",
            "input shape (1536, 2048, 3)\n",
            "pad shape is [(0, 0), (0, 0), (0, 0)]\n",
            "output shape (1536, 2048, 3)\n",
            "input shape (1536, 2048, 3)\n",
            "pad shape is [(0, 0), (0, 0), (0, 0)]\n",
            "output shape (1536, 2048, 3)\n",
            "input shape (1536, 2048, 3)\n",
            "pad shape is [(0, 0), (0, 0), (0, 0)]\n",
            "output shape (1536, 2048, 3)\n",
            "input shape (1536, 2048, 3)\n",
            "pad shape is [(0, 0), (0, 0), (0, 0)]\n",
            "output shape (1536, 2048, 3)\n",
            "input shape (1536, 2048, 3)\n",
            "pad shape is [(0, 0), (0, 0), (0, 0)]\n",
            "output shape (1536, 2048, 3)\n",
            "input shape (1536, 2048, 3)\n",
            "pad shape is [(0, 0), (0, 0), (0, 0)]\n",
            "output shape (1536, 2048, 3)\n",
            "input shape (1536, 2048, 3)\n",
            "pad shape is [(0, 0), (0, 0), (0, 0)]\n",
            "output shape (1536, 2048, 3)\n",
            "input shape (1536, 2048, 3)\n",
            "pad shape is [(0, 0), (0, 0), (0, 0)]\n",
            "output shape (1536, 2048, 3)\n",
            "input shape (1536, 2048, 3)\n",
            "pad shape is [(0, 0), (0, 0), (0, 0)]\n",
            "output shape (1536, 2048, 3)\n",
            "input shape (1536, 2048, 3)\n",
            "pad shape is [(0, 0), (0, 0), (0, 0)]\n",
            "output shape (1536, 2048, 3)\n",
            "input shape (1536, 2048, 3)\n",
            "pad shape is [(0, 0), (0, 0), (0, 0)]\n",
            "output shape (1536, 2048, 3)\n",
            "input shape (1536, 2048, 3)\n",
            "pad shape is [(0, 0), (0, 0), (0, 0)]\n",
            "output shape (1536, 2048, 3)\n",
            "input shape (1536, 2048, 3)\n",
            "pad shape is [(0, 0), (0, 0), (0, 0)]\n",
            "output shape (1536, 2048, 3)\n",
            "input shape (1536, 2048, 3)\n",
            "pad shape is [(0, 0), (0, 0), (0, 0)]\n",
            "output shape (1536, 2048, 3)\n",
            "input shape (1536, 2048, 3)\n",
            "pad shape is [(0, 0), (0, 0), (0, 0)]\n",
            "output shape (1536, 2048, 3)\n",
            "input shape (1536, 2048, 3)\n",
            "pad shape is [(0, 0), (0, 0), (0, 0)]\n",
            "output shape (1536, 2048, 3)\n",
            "input shape (1536, 2048, 3)\n",
            "pad shape is [(0, 0), (0, 0), (0, 0)]\n",
            "output shape (1536, 2048, 3)\n",
            "input shape (1536, 2048, 3)\n",
            "pad shape is [(0, 0), (0, 0), (0, 0)]\n",
            "output shape (1536, 2048, 3)\n",
            "input shape (1536, 2048, 3)\n",
            "pad shape is [(0, 0), (0, 0), (0, 0)]\n",
            "output shape (1536, 2048, 3)\n",
            "input shape (1536, 2048, 3)\n",
            "pad shape is [(0, 0), (0, 0), (0, 0)]\n",
            "output shape (1536, 2048, 3)\n",
            "input shape (1536, 2048, 3)\n",
            "pad shape is [(0, 0), (0, 0), (0, 0)]\n",
            "output shape (1536, 2048, 3)\n",
            "input shape (1536, 2048, 3)\n",
            "pad shape is [(0, 0), (0, 0), (0, 0)]\n",
            "output shape (1536, 2048, 3)\n",
            "input shape (1536, 2048, 3)\n",
            "pad shape is [(0, 0), (0, 0), (0, 0)]\n",
            "output shape (1536, 2048, 3)\n",
            "input shape (1536, 2048, 3)\n",
            "pad shape is [(0, 0), (0, 0), (0, 0)]\n",
            "output shape (1536, 2048, 3)\n",
            "input shape (1536, 2048, 3)\n",
            "pad shape is [(0, 0), (0, 0), (0, 0)]\n",
            "output shape (1536, 2048, 3)\n",
            "input shape (1536, 2048, 3)\n",
            "pad shape is [(0, 0), (0, 0), (0, 0)]\n",
            "output shape (1536, 2048, 3)\n",
            "input shape (1536, 2048, 3)\n",
            "pad shape is [(0, 0), (0, 0), (0, 0)]\n",
            "output shape (1536, 2048, 3)\n",
            "input shape (1536, 2048, 3)\n",
            "pad shape is [(0, 0), (0, 0), (0, 0)]\n",
            "output shape (1536, 2048, 3)\n",
            "input shape (1536, 2048, 3)\n",
            "pad shape is [(0, 0), (0, 0), (0, 0)]\n",
            "output shape (1536, 2048, 3)\n",
            "input shape (1536, 2048, 3)\n",
            "pad shape is [(0, 0), (0, 0), (0, 0)]\n",
            "output shape (1536, 2048, 3)\n",
            "input shape (1536, 2048, 3)\n",
            "pad shape is [(0, 0), (0, 0), (0, 0)]\n",
            "output shape (1536, 2048, 3)\n",
            "input shape (1536, 2048, 3)\n",
            "pad shape is [(0, 0), (0, 0), (0, 0)]\n",
            "output shape (1536, 2048, 3)\n",
            "input shape (1536, 2048, 3)\n",
            "pad shape is [(0, 0), (0, 0), (0, 0)]\n",
            "output shape (1536, 2048, 3)\n",
            "input shape (1536, 2048, 3)\n",
            "pad shape is [(0, 0), (0, 0), (0, 0)]\n",
            "output shape (1536, 2048, 3)\n",
            "input shape (1536, 2048, 3)\n",
            "pad shape is [(0, 0), (0, 0), (0, 0)]\n",
            "output shape (1536, 2048, 3)\n",
            "input shape (1536, 2048, 3)\n",
            "pad shape is [(0, 0), (0, 0), (0, 0)]\n",
            "output shape (1536, 2048, 3)\n",
            "input shape (1536, 2048, 3)\n",
            "pad shape is [(0, 0), (0, 0), (0, 0)]\n",
            "output shape (1536, 2048, 3)\n",
            "input shape (1536, 2048, 3)\n",
            "pad shape is [(0, 0), (0, 0), (0, 0)]\n",
            "output shape (1536, 2048, 3)\n",
            "input shape (1536, 2048, 3)\n",
            "pad shape is [(0, 0), (0, 0), (0, 0)]\n",
            "output shape (1536, 2048, 3)\n",
            "input shape (1536, 2048, 3)\n",
            "pad shape is [(0, 0), (0, 0), (0, 0)]\n",
            "output shape (1536, 2048, 3)\n",
            "input shape (1536, 2048, 3)\n",
            "pad shape is [(0, 0), (0, 0), (0, 0)]\n",
            "output shape (1536, 2048, 3)\n",
            "input shape (1536, 2048, 3)\n",
            "pad shape is [(0, 0), (0, 0), (0, 0)]\n",
            "output shape (1536, 2048, 3)\n",
            "input shape (1536, 2048, 3)\n",
            "pad shape is [(0, 0), (0, 0), (0, 0)]\n",
            "output shape (1536, 2048, 3)\n",
            "input shape (1536, 2048, 3)\n",
            "pad shape is [(0, 0), (0, 0), (0, 0)]\n",
            "output shape (1536, 2048, 3)\n",
            "input shape (1536, 2048, 3)\n",
            "pad shape is [(0, 0), (0, 0), (0, 0)]\n",
            "output shape (1536, 2048, 3)\n",
            "input shape (1536, 2048, 3)\n",
            "pad shape is [(0, 0), (0, 0), (0, 0)]\n",
            "output shape (1536, 2048, 3)\n",
            "input shape (1536, 2048, 3)\n",
            "pad shape is [(0, 0), (0, 0), (0, 0)]\n",
            "output shape (1536, 2048, 3)\n",
            "input shape (1536, 2048, 3)\n",
            "pad shape is [(0, 0), (0, 0), (0, 0)]\n",
            "output shape (1536, 2048, 3)\n",
            "input shape (1536, 2048, 3)\n",
            "pad shape is [(0, 0), (0, 0), (0, 0)]\n",
            "output shape (1536, 2048, 3)\n",
            "input shape (1536, 2048, 3)\n",
            "pad shape is [(0, 0), (0, 0), (0, 0)]\n",
            "output shape (1536, 2048, 3)\n",
            "input shape (1536, 2048, 3)\n",
            "pad shape is [(0, 0), (0, 0), (0, 0)]\n",
            "output shape (1536, 2048, 3)\n",
            "input shape (1536, 2048, 3)\n",
            "pad shape is [(0, 0), (0, 0), (0, 0)]\n",
            "output shape (1536, 2048, 3)\n",
            "input shape (1536, 2048, 3)\n",
            "pad shape is [(0, 0), (0, 0), (0, 0)]\n",
            "output shape (1536, 2048, 3)\n",
            "input shape (1536, 2048, 3)\n",
            "pad shape is [(0, 0), (0, 0), (0, 0)]\n",
            "output shape (1536, 2048, 3)\n",
            "input shape (1536, 2048, 3)\n",
            "pad shape is [(0, 0), (0, 0), (0, 0)]\n",
            "output shape (1536, 2048, 3)\n",
            "input shape (1536, 2048, 3)\n",
            "pad shape is [(0, 0), (0, 0), (0, 0)]\n",
            "output shape (1536, 2048, 3)\n",
            "input shape (1536, 2048, 3)\n",
            "pad shape is [(0, 0), (0, 0), (0, 0)]\n",
            "output shape (1536, 2048, 3)\n",
            "input shape (1536, 2048, 3)\n",
            "pad shape is [(0, 0), (0, 0), (0, 0)]\n",
            "output shape (1536, 2048, 3)\n",
            "input shape (1536, 2048, 3)\n",
            "pad shape is [(0, 0), (0, 0), (0, 0)]\n",
            "output shape (1536, 2048, 3)\n",
            "input shape (1536, 2048, 3)\n",
            "pad shape is [(0, 0), (0, 0), (0, 0)]\n",
            "output shape (1536, 2048, 3)\n",
            "input shape (1536, 2048, 3)\n",
            "pad shape is [(0, 0), (0, 0), (0, 0)]\n",
            "output shape (1536, 2048, 3)\n",
            "input shape (1536, 2048, 3)\n",
            "pad shape is [(0, 0), (0, 0), (0, 0)]\n",
            "output shape (1536, 2048, 3)\n",
            "input shape (1536, 2048, 3)\n",
            "pad shape is [(0, 0), (0, 0), (0, 0)]\n",
            "output shape (1536, 2048, 3)\n",
            "input shape (1536, 2048, 3)\n",
            "pad shape is [(0, 0), (0, 0), (0, 0)]\n",
            "output shape (1536, 2048, 3)\n",
            "input shape (1536, 2048, 3)\n",
            "pad shape is [(0, 0), (0, 0), (0, 0)]\n",
            "output shape (1536, 2048, 3)\n",
            "input shape (1536, 2048, 3)\n",
            "pad shape is [(0, 0), (0, 0), (0, 0)]\n",
            "output shape (1536, 2048, 3)\n",
            "input shape (1536, 2048, 3)\n",
            "pad shape is [(0, 0), (0, 0), (0, 0)]\n",
            "output shape (1536, 2048, 3)\n",
            "input shape (1536, 2048, 3)\n",
            "pad shape is [(0, 0), (0, 0), (0, 0)]\n",
            "output shape (1536, 2048, 3)\n",
            "input shape (1536, 2048, 3)\n",
            "pad shape is [(0, 0), (0, 0), (0, 0)]\n",
            "output shape (1536, 2048, 3)\n",
            "input shape (1536, 2048, 3)\n",
            "pad shape is [(0, 0), (0, 0), (0, 0)]\n",
            "output shape (1536, 2048, 3)\n",
            "input shape (1536, 2048, 3)\n",
            "pad shape is [(0, 0), (0, 0), (0, 0)]\n",
            "output shape (1536, 2048, 3)\n",
            "input shape (1536, 2048, 3)\n",
            "pad shape is [(0, 0), (0, 0), (0, 0)]\n",
            "output shape (1536, 2048, 3)\n",
            "input shape (1536, 2048, 3)\n",
            "pad shape is [(0, 0), (0, 0), (0, 0)]\n",
            "output shape (1536, 2048, 3)\n",
            "input shape (1536, 2048, 3)\n",
            "pad shape is [(0, 0), (0, 0), (0, 0)]\n",
            "output shape (1536, 2048, 3)\n",
            "input shape (1536, 2048, 3)\n",
            "pad shape is [(0, 0), (0, 0), (0, 0)]\n",
            "output shape (1536, 2048, 3)\n",
            "input shape (1536, 2048, 3)\n",
            "pad shape is [(0, 0), (0, 0), (0, 0)]\n",
            "output shape (1536, 2048, 3)\n",
            "input shape (1536, 2048, 3)\n",
            "pad shape is [(0, 0), (0, 0), (0, 0)]\n",
            "output shape (1536, 2048, 3)\n",
            "input shape (1536, 2048, 3)\n",
            "pad shape is [(0, 0), (0, 0), (0, 0)]\n",
            "output shape (1536, 2048, 3)\n",
            "input shape (1536, 2048, 3)\n",
            "pad shape is [(0, 0), (0, 0), (0, 0)]\n",
            "output shape (1536, 2048, 3)\n",
            "input shape (1536, 2048, 3)\n",
            "pad shape is [(0, 0), (0, 0), (0, 0)]\n",
            "output shape (1536, 2048, 3)\n",
            "input shape (1536, 2048, 3)\n",
            "pad shape is [(0, 0), (0, 0), (0, 0)]\n",
            "output shape (1536, 2048, 3)\n",
            "input shape (1536, 2048, 3)\n",
            "pad shape is [(0, 0), (0, 0), (0, 0)]\n",
            "output shape (1536, 2048, 3)\n",
            "input shape (1536, 2048, 3)\n",
            "pad shape is [(0, 0), (0, 0), (0, 0)]\n",
            "output shape (1536, 2048, 3)\n",
            "input shape (1536, 2048, 3)\n",
            "pad shape is [(0, 0), (0, 0), (0, 0)]\n",
            "output shape (1536, 2048, 3)\n",
            "input shape (1536, 2048, 3)\n",
            "pad shape is [(0, 0), (0, 0), (0, 0)]\n",
            "output shape (1536, 2048, 3)\n",
            "input shape (1536, 2048, 3)\n",
            "pad shape is [(0, 0), (0, 0), (0, 0)]\n",
            "output shape (1536, 2048, 3)\n",
            "input shape (1536, 2048, 3)\n",
            "pad shape is [(0, 0), (0, 0), (0, 0)]\n",
            "output shape (1536, 2048, 3)\n",
            "input shape (1536, 2048, 3)\n",
            "pad shape is [(0, 0), (0, 0), (0, 0)]\n",
            "output shape (1536, 2048, 3)\n",
            "input shape (1536, 2048, 3)\n",
            "pad shape is [(0, 0), (0, 0), (0, 0)]\n",
            "output shape (1536, 2048, 3)\n",
            "input shape (1536, 2048, 3)\n",
            "pad shape is [(0, 0), (0, 0), (0, 0)]\n",
            "output shape (1536, 2048, 3)\n",
            "input shape (1536, 2048, 3)\n",
            "pad shape is [(0, 0), (0, 0), (0, 0)]\n",
            "output shape (1536, 2048, 3)\n",
            "input shape (1536, 2048, 3)\n",
            "pad shape is [(0, 0), (0, 0), (0, 0)]\n",
            "output shape (1536, 2048, 3)\n",
            "input shape (1536, 2048, 3)\n",
            "pad shape is [(0, 0), (0, 0), (0, 0)]\n",
            "output shape (1536, 2048, 3)\n",
            "input shape (1536, 2048, 3)\n",
            "pad shape is [(0, 0), (0, 0), (0, 0)]\n",
            "output shape (1536, 2048, 3)\n",
            "input shape (1536, 2048, 3)\n",
            "pad shape is [(0, 0), (0, 0), (0, 0)]\n",
            "output shape (1536, 2048, 3)\n",
            "input shape (1536, 2048, 3)\n",
            "pad shape is [(0, 0), (0, 0), (0, 0)]\n",
            "output shape (1536, 2048, 3)\n",
            "input shape (1536, 2048, 3)\n",
            "pad shape is [(0, 0), (0, 0), (0, 0)]\n",
            "output shape (1536, 2048, 3)\n",
            "input shape (1536, 2048, 3)\n",
            "pad shape is [(0, 0), (0, 0), (0, 0)]\n",
            "output shape (1536, 2048, 3)\n",
            "input shape (1536, 2048, 3)\n",
            "pad shape is [(0, 0), (0, 0), (0, 0)]\n",
            "output shape (1536, 2048, 3)\n",
            "input shape (1536, 2048, 3)\n",
            "pad shape is [(0, 0), (0, 0), (0, 0)]\n",
            "output shape (1536, 2048, 3)\n",
            "input shape (1536, 2048, 3)\n",
            "pad shape is [(0, 0), (0, 0), (0, 0)]\n",
            "output shape (1536, 2048, 3)\n",
            "input shape (1536, 2048, 3)\n",
            "pad shape is [(0, 0), (0, 0), (0, 0)]\n",
            "output shape (1536, 2048, 3)\n",
            "input shape (1536, 2048, 3)\n",
            "pad shape is [(0, 0), (0, 0), (0, 0)]\n",
            "output shape (1536, 2048, 3)\n",
            "input shape (1536, 2048, 3)\n",
            "pad shape is [(0, 0), (0, 0), (0, 0)]\n",
            "output shape (1536, 2048, 3)\n",
            "input shape (1536, 2048, 3)\n",
            "pad shape is [(0, 0), (0, 0), (0, 0)]\n",
            "output shape (1536, 2048, 3)\n",
            "input shape (1536, 2048, 3)\n",
            "pad shape is [(0, 0), (0, 0), (0, 0)]\n",
            "output shape (1536, 2048, 3)\n",
            "input shape (1536, 2048, 3)\n",
            "pad shape is [(0, 0), (0, 0), (0, 0)]\n",
            "output shape (1536, 2048, 3)\n",
            "input shape (1536, 2048, 3)\n",
            "pad shape is [(0, 0), (0, 0), (0, 0)]\n",
            "output shape (1536, 2048, 3)\n",
            "input shape (1536, 2048, 3)\n",
            "pad shape is [(0, 0), (0, 0), (0, 0)]\n",
            "output shape (1536, 2048, 3)\n",
            "input shape (1536, 2048, 3)\n",
            "pad shape is [(0, 0), (0, 0), (0, 0)]\n",
            "output shape (1536, 2048, 3)\n",
            "input shape (1536, 2048, 3)\n",
            "pad shape is [(0, 0), (0, 0), (0, 0)]\n",
            "output shape (1536, 2048, 3)\n",
            "input shape (1536, 2048, 3)\n",
            "pad shape is [(0, 0), (0, 0), (0, 0)]\n",
            "output shape (1536, 2048, 3)\n",
            "input shape (1536, 2048, 3)\n",
            "pad shape is [(0, 0), (0, 0), (0, 0)]\n",
            "output shape (1536, 2048, 3)\n",
            "input shape (1536, 2048, 3)\n",
            "pad shape is [(0, 0), (0, 0), (0, 0)]\n",
            "output shape (1536, 2048, 3)\n",
            "input shape (1536, 2048, 3)\n",
            "pad shape is [(0, 0), (0, 0), (0, 0)]\n",
            "output shape (1536, 2048, 3)\n",
            "input shape (1536, 2048, 3)\n",
            "pad shape is [(0, 0), (0, 0), (0, 0)]\n",
            "output shape (1536, 2048, 3)\n",
            "input shape (1536, 2048, 3)\n",
            "pad shape is [(0, 0), (0, 0), (0, 0)]\n",
            "output shape (1536, 2048, 3)\n",
            "input shape (1536, 2048, 3)\n",
            "pad shape is [(0, 0), (0, 0), (0, 0)]\n",
            "output shape (1536, 2048, 3)\n",
            "input shape (1536, 2048, 3)\n",
            "pad shape is [(0, 0), (0, 0), (0, 0)]\n",
            "output shape (1536, 2048, 3)\n",
            "input shape (1536, 2048, 3)\n",
            "pad shape is [(0, 0), (0, 0), (0, 0)]\n",
            "output shape (1536, 2048, 3)\n",
            "input shape (1536, 2048, 3)\n",
            "pad shape is [(0, 0), (0, 0), (0, 0)]\n",
            "output shape (1536, 2048, 3)\n",
            "input shape (1536, 2048, 3)\n",
            "pad shape is [(0, 0), (0, 0), (0, 0)]\n",
            "output shape (1536, 2048, 3)\n",
            "input shape (1536, 2048, 3)\n",
            "pad shape is [(0, 0), (0, 0), (0, 0)]\n",
            "output shape (1536, 2048, 3)\n",
            "input shape (1536, 2048, 3)\n",
            "pad shape is [(0, 0), (0, 0), (0, 0)]\n",
            "output shape (1536, 2048, 3)\n",
            "input shape (1536, 2048, 3)\n",
            "pad shape is [(0, 0), (0, 0), (0, 0)]\n",
            "output shape (1536, 2048, 3)\n",
            "input shape (1536, 2048, 3)\n",
            "pad shape is [(0, 0), (0, 0), (0, 0)]\n",
            "output shape (1536, 2048, 3)\n",
            "input shape (1536, 2048, 3)\n",
            "pad shape is [(0, 0), (0, 0), (0, 0)]\n",
            "output shape (1536, 2048, 3)\n",
            "input shape (1536, 2048, 3)\n",
            "pad shape is [(0, 0), (0, 0), (0, 0)]\n",
            "output shape (1536, 2048, 3)\n",
            "input shape (1536, 2048, 3)\n",
            "pad shape is [(0, 0), (0, 0), (0, 0)]\n",
            "output shape (1536, 2048, 3)\n",
            "input shape (1536, 2048, 3)\n",
            "pad shape is [(0, 0), (0, 0), (0, 0)]\n",
            "output shape (1536, 2048, 3)\n",
            "input shape (1536, 2048, 3)\n",
            "pad shape is [(0, 0), (0, 0), (0, 0)]\n",
            "output shape (1536, 2048, 3)\n",
            "input shape (1536, 2048, 3)\n",
            "pad shape is [(0, 0), (0, 0), (0, 0)]\n",
            "output shape (1536, 2048, 3)\n",
            "input shape (1536, 2048, 3)\n",
            "pad shape is [(0, 0), (0, 0), (0, 0)]\n",
            "output shape (1536, 2048, 3)\n",
            "input shape (1536, 2048, 3)\n",
            "pad shape is [(0, 0), (0, 0), (0, 0)]\n",
            "output shape (1536, 2048, 3)\n",
            "input shape (1536, 2048, 3)\n",
            "pad shape is [(0, 0), (0, 0), (0, 0)]\n",
            "output shape (1536, 2048, 3)\n",
            "input shape (1536, 2048, 3)\n",
            "pad shape is [(0, 0), (0, 0), (0, 0)]\n",
            "output shape (1536, 2048, 3)\n",
            "input shape (1536, 2048, 3)\n",
            "pad shape is [(0, 0), (0, 0), (0, 0)]\n",
            "output shape (1536, 2048, 3)\n",
            "input shape (1536, 2048, 3)\n",
            "pad shape is [(0, 0), (0, 0), (0, 0)]\n",
            "output shape (1536, 2048, 3)\n",
            "input shape (1536, 2048, 3)\n",
            "pad shape is [(0, 0), (0, 0), (0, 0)]\n",
            "output shape (1536, 2048, 3)\n",
            "input shape (1536, 2048, 3)\n",
            "pad shape is [(0, 0), (0, 0), (0, 0)]\n",
            "output shape (1536, 2048, 3)\n",
            "input shape (1536, 2048, 3)\n",
            "pad shape is [(0, 0), (0, 0), (0, 0)]\n",
            "output shape (1536, 2048, 3)\n",
            "input shape (1536, 2048, 3)\n",
            "pad shape is [(0, 0), (0, 0), (0, 0)]\n",
            "output shape (1536, 2048, 3)\n",
            "input shape (1536, 2048, 3)\n",
            "pad shape is [(0, 0), (0, 0), (0, 0)]\n",
            "output shape (1536, 2048, 3)\n",
            "input shape (1536, 2048, 3)\n",
            "pad shape is [(0, 0), (0, 0), (0, 0)]\n",
            "output shape (1536, 2048, 3)\n",
            "input shape (1536, 2048, 3)\n",
            "pad shape is [(0, 0), (0, 0), (0, 0)]\n",
            "output shape (1536, 2048, 3)\n",
            "input shape (1536, 2048, 3)\n",
            "pad shape is [(0, 0), (0, 0), (0, 0)]\n",
            "output shape (1536, 2048, 3)\n",
            "input shape (1536, 2048, 3)\n",
            "pad shape is [(0, 0), (0, 0), (0, 0)]\n",
            "output shape (1536, 2048, 3)\n",
            "input shape (1536, 2048, 3)\n",
            "pad shape is [(0, 0), (0, 0), (0, 0)]\n",
            "output shape (1536, 2048, 3)\n",
            "input shape (1536, 2048, 3)\n",
            "pad shape is [(0, 0), (0, 0), (0, 0)]\n",
            "output shape (1536, 2048, 3)\n",
            "input shape (1536, 2048, 3)\n",
            "pad shape is [(0, 0), (0, 0), (0, 0)]\n",
            "output shape (1536, 2048, 3)\n",
            "input shape (1536, 2048, 3)\n",
            "pad shape is [(0, 0), (0, 0), (0, 0)]\n",
            "output shape (1536, 2048, 3)\n",
            "input shape (1536, 2048, 3)\n",
            "pad shape is [(0, 0), (0, 0), (0, 0)]\n",
            "output shape (1536, 2048, 3)\n",
            "input shape (1536, 2048, 3)\n",
            "pad shape is [(0, 0), (0, 0), (0, 0)]\n",
            "output shape (1536, 2048, 3)\n",
            "input shape (1536, 2048, 3)\n",
            "pad shape is [(0, 0), (0, 0), (0, 0)]\n",
            "output shape (1536, 2048, 3)\n",
            "input shape (1536, 2048, 3)\n",
            "pad shape is [(0, 0), (0, 0), (0, 0)]\n",
            "output shape (1536, 2048, 3)\n",
            "input shape (1536, 2048, 3)\n",
            "pad shape is [(0, 0), (0, 0), (0, 0)]\n",
            "output shape (1536, 2048, 3)\n",
            "input shape (1536, 2048, 3)\n",
            "pad shape is [(0, 0), (0, 0), (0, 0)]\n",
            "output shape (1536, 2048, 3)\n",
            "input shape (1536, 2048, 3)\n",
            "pad shape is [(0, 0), (0, 0), (0, 0)]\n",
            "output shape (1536, 2048, 3)\n",
            "input shape (1536, 2048, 3)\n",
            "pad shape is [(0, 0), (0, 0), (0, 0)]\n",
            "output shape (1536, 2048, 3)\n",
            "input shape (1536, 2048, 3)\n",
            "pad shape is [(0, 0), (0, 0), (0, 0)]\n",
            "output shape (1536, 2048, 3)\n",
            "input shape (1536, 2048, 3)\n",
            "pad shape is [(0, 0), (0, 0), (0, 0)]\n",
            "output shape (1536, 2048, 3)\n",
            "input shape (1536, 2048, 3)\n",
            "pad shape is [(0, 0), (0, 0), (0, 0)]\n",
            "output shape (1536, 2048, 3)\n",
            "input shape (1536, 2048, 3)\n",
            "pad shape is [(0, 0), (0, 0), (0, 0)]\n",
            "output shape (1536, 2048, 3)\n",
            "input shape (1536, 2048, 3)\n",
            "pad shape is [(0, 0), (0, 0), (0, 0)]\n",
            "output shape (1536, 2048, 3)\n",
            "input shape (1536, 2048, 3)\n",
            "pad shape is [(0, 0), (0, 0), (0, 0)]\n",
            "output shape (1536, 2048, 3)\n",
            "input shape (1536, 2048, 3)\n",
            "pad shape is [(0, 0), (0, 0), (0, 0)]\n",
            "output shape (1536, 2048, 3)\n",
            "input shape (1536, 2048, 3)\n",
            "pad shape is [(0, 0), (0, 0), (0, 0)]\n",
            "output shape (1536, 2048, 3)\n",
            "input shape (1536, 2048, 3)\n",
            "pad shape is [(0, 0), (0, 0), (0, 0)]\n",
            "output shape (1536, 2048, 3)\n",
            "input shape (1536, 2048, 3)\n",
            "pad shape is [(0, 0), (0, 0), (0, 0)]\n",
            "output shape (1536, 2048, 3)\n",
            "input shape (1536, 2048, 3)\n",
            "pad shape is [(0, 0), (0, 0), (0, 0)]\n",
            "output shape (1536, 2048, 3)\n",
            "input shape (1536, 2048, 3)\n",
            "pad shape is [(0, 0), (0, 0), (0, 0)]\n",
            "output shape (1536, 2048, 3)\n",
            "input shape (1536, 2048, 3)\n",
            "pad shape is [(0, 0), (0, 0), (0, 0)]\n",
            "output shape (1536, 2048, 3)\n",
            "input shape (1536, 2048, 3)\n",
            "pad shape is [(0, 0), (0, 0), (0, 0)]\n",
            "output shape (1536, 2048, 3)\n",
            "input shape (1536, 2048, 3)\n",
            "pad shape is [(0, 0), (0, 0), (0, 0)]\n",
            "output shape (1536, 2048, 3)\n",
            "input shape (1536, 2048, 3)\n",
            "pad shape is [(0, 0), (0, 0), (0, 0)]\n",
            "output shape (1536, 2048, 3)\n",
            "input shape (1536, 2048, 3)\n",
            "pad shape is [(0, 0), (0, 0), (0, 0)]\n",
            "output shape (1536, 2048, 3)\n",
            "input shape (1536, 2048, 3)\n",
            "pad shape is [(0, 0), (0, 0), (0, 0)]\n",
            "output shape (1536, 2048, 3)\n",
            "input shape (1536, 2048, 3)\n",
            "pad shape is [(0, 0), (0, 0), (0, 0)]\n",
            "output shape (1536, 2048, 3)\n",
            "input shape (1536, 2048, 3)\n",
            "pad shape is [(0, 0), (0, 0), (0, 0)]\n",
            "output shape (1536, 2048, 3)\n",
            "input shape (1536, 2048, 3)\n",
            "pad shape is [(0, 0), (0, 0), (0, 0)]\n",
            "output shape (1536, 2048, 3)\n",
            "input shape (1536, 2048, 3)\n",
            "pad shape is [(0, 0), (0, 0), (0, 0)]\n",
            "output shape (1536, 2048, 3)\n",
            "input shape (1536, 2048, 3)\n",
            "pad shape is [(0, 0), (0, 0), (0, 0)]\n",
            "output shape (1536, 2048, 3)\n",
            "input shape (1536, 2048, 3)\n",
            "pad shape is [(0, 0), (0, 0), (0, 0)]\n",
            "output shape (1536, 2048, 3)\n",
            "input shape (1536, 2048, 3)\n",
            "pad shape is [(0, 0), (0, 0), (0, 0)]\n",
            "output shape (1536, 2048, 3)\n",
            "input shape (1536, 2048, 3)\n",
            "pad shape is [(0, 0), (0, 0), (0, 0)]\n",
            "output shape (1536, 2048, 3)\n",
            "input shape (1536, 2048, 3)\n",
            "pad shape is [(0, 0), (0, 0), (0, 0)]\n",
            "output shape (1536, 2048, 3)\n",
            "input shape (1536, 2048, 3)\n",
            "pad shape is [(0, 0), (0, 0), (0, 0)]\n",
            "output shape (1536, 2048, 3)\n",
            "input shape (1536, 2048, 3)\n",
            "pad shape is [(0, 0), (0, 0), (0, 0)]\n",
            "output shape (1536, 2048, 3)\n",
            "input shape (1536, 2048, 3)\n",
            "pad shape is [(0, 0), (0, 0), (0, 0)]\n",
            "output shape (1536, 2048, 3)\n",
            "input shape (1536, 2048, 3)\n",
            "pad shape is [(0, 0), (0, 0), (0, 0)]\n",
            "output shape (1536, 2048, 3)\n",
            "input shape (1536, 2048, 3)\n",
            "pad shape is [(0, 0), (0, 0), (0, 0)]\n",
            "output shape (1536, 2048, 3)\n",
            "input shape (1536, 2048, 3)\n",
            "pad shape is [(0, 0), (0, 0), (0, 0)]\n",
            "output shape (1536, 2048, 3)\n",
            "input shape (1536, 2048, 3)\n",
            "pad shape is [(0, 0), (0, 0), (0, 0)]\n",
            "output shape (1536, 2048, 3)\n",
            "input shape (1536, 2048, 3)\n",
            "pad shape is [(0, 0), (0, 0), (0, 0)]\n",
            "output shape (1536, 2048, 3)\n",
            "input shape (1536, 2048, 3)\n",
            "pad shape is [(0, 0), (0, 0), (0, 0)]\n",
            "output shape (1536, 2048, 3)\n",
            "input shape (1536, 2048, 3)\n",
            "pad shape is [(0, 0), (0, 0), (0, 0)]\n",
            "output shape (1536, 2048, 3)\n",
            "input shape (1536, 2048, 3)\n",
            "pad shape is [(0, 0), (0, 0), (0, 0)]\n",
            "output shape (1536, 2048, 3)\n",
            "input shape (1536, 2048, 3)\n",
            "pad shape is [(0, 0), (0, 0), (0, 0)]\n",
            "output shape (1536, 2048, 3)\n",
            "input shape (1536, 2048, 3)\n",
            "pad shape is [(0, 0), (0, 0), (0, 0)]\n",
            "output shape (1536, 2048, 3)\n",
            "input shape (1536, 2048, 3)\n",
            "pad shape is [(0, 0), (0, 0), (0, 0)]\n",
            "output shape (1536, 2048, 3)\n",
            "input shape (1536, 2048, 3)\n",
            "pad shape is [(0, 0), (0, 0), (0, 0)]\n",
            "output shape (1536, 2048, 3)\n",
            "input shape (1536, 2048, 3)\n",
            "pad shape is [(0, 0), (0, 0), (0, 0)]\n",
            "output shape (1536, 2048, 3)\n",
            "input shape (1536, 2048, 3)\n",
            "pad shape is [(0, 0), (0, 0), (0, 0)]\n",
            "output shape (1536, 2048, 3)\n",
            "input shape (1536, 2048, 3)\n",
            "pad shape is [(0, 0), (0, 0), (0, 0)]\n",
            "output shape (1536, 2048, 3)\n",
            "input shape (1536, 2048, 3)\n",
            "pad shape is [(0, 0), (0, 0), (0, 0)]\n",
            "output shape (1536, 2048, 3)\n",
            "input shape (1536, 2048, 3)\n",
            "pad shape is [(0, 0), (0, 0), (0, 0)]\n",
            "output shape (1536, 2048, 3)\n",
            "input shape (1536, 2048, 3)\n",
            "pad shape is [(0, 0), (0, 0), (0, 0)]\n",
            "output shape (1536, 2048, 3)\n",
            "input shape (1536, 2048, 3)\n",
            "pad shape is [(0, 0), (0, 0), (0, 0)]\n",
            "output shape (1536, 2048, 3)\n",
            "input shape (1536, 2048, 3)\n",
            "pad shape is [(0, 0), (0, 0), (0, 0)]\n",
            "output shape (1536, 2048, 3)\n",
            "input shape (1536, 2048, 3)\n",
            "pad shape is [(0, 0), (0, 0), (0, 0)]\n",
            "output shape (1536, 2048, 3)\n",
            "input shape (1536, 2048, 3)\n",
            "pad shape is [(0, 0), (0, 0), (0, 0)]\n",
            "output shape (1536, 2048, 3)\n",
            "input shape (1536, 2048, 3)\n",
            "pad shape is [(0, 0), (0, 0), (0, 0)]\n",
            "output shape (1536, 2048, 3)\n",
            "input shape (1536, 2048, 3)\n",
            "pad shape is [(0, 0), (0, 0), (0, 0)]\n",
            "output shape (1536, 2048, 3)\n",
            "input shape (1536, 2048, 3)\n",
            "pad shape is [(0, 0), (0, 0), (0, 0)]\n",
            "output shape (1536, 2048, 3)\n",
            "input shape (1536, 2048, 3)\n",
            "pad shape is [(0, 0), (0, 0), (0, 0)]\n",
            "output shape (1536, 2048, 3)\n",
            "input shape (1536, 2048, 3)\n",
            "pad shape is [(0, 0), (0, 0), (0, 0)]\n",
            "output shape (1536, 2048, 3)\n",
            "input shape (1536, 2048, 3)\n",
            "pad shape is [(0, 0), (0, 0), (0, 0)]\n",
            "output shape (1536, 2048, 3)\n",
            "input shape (1536, 2048, 3)\n",
            "pad shape is [(0, 0), (0, 0), (0, 0)]\n",
            "output shape (1536, 2048, 3)\n",
            "input shape (1536, 2048, 3)\n",
            "pad shape is [(0, 0), (0, 0), (0, 0)]\n",
            "output shape (1536, 2048, 3)\n",
            "input shape (1536, 2048, 3)\n",
            "pad shape is [(0, 0), (0, 0), (0, 0)]\n",
            "output shape (1536, 2048, 3)\n",
            "input shape (1536, 2048, 3)\n",
            "pad shape is [(0, 0), (0, 0), (0, 0)]\n",
            "output shape (1536, 2048, 3)\n",
            "input shape (1536, 2048, 3)\n",
            "pad shape is [(0, 0), (0, 0), (0, 0)]\n",
            "output shape (1536, 2048, 3)\n",
            "input shape (1536, 2048, 3)\n",
            "pad shape is [(0, 0), (0, 0), (0, 0)]\n",
            "output shape (1536, 2048, 3)\n",
            "input shape (1536, 2048, 3)\n",
            "pad shape is [(0, 0), (0, 0), (0, 0)]\n",
            "output shape (1536, 2048, 3)\n",
            "input shape (1536, 2048, 3)\n",
            "pad shape is [(0, 0), (0, 0), (0, 0)]\n",
            "output shape (1536, 2048, 3)\n",
            "input shape (1536, 2048, 3)\n",
            "pad shape is [(0, 0), (0, 0), (0, 0)]\n",
            "output shape (1536, 2048, 3)\n",
            "input shape (1536, 2048, 3)\n",
            "pad shape is [(0, 0), (0, 0), (0, 0)]\n",
            "output shape (1536, 2048, 3)\n",
            "input shape (1536, 2048, 3)\n",
            "pad shape is [(0, 0), (0, 0), (0, 0)]\n",
            "output shape (1536, 2048, 3)\n",
            "input shape (1536, 2048, 3)\n",
            "pad shape is [(0, 0), (0, 0), (0, 0)]\n",
            "output shape (1536, 2048, 3)\n",
            "input shape (1536, 2048, 3)\n",
            "pad shape is [(0, 0), (0, 0), (0, 0)]\n",
            "output shape (1536, 2048, 3)\n",
            "input shape (1536, 2048, 3)\n",
            "pad shape is [(0, 0), (0, 0), (0, 0)]\n",
            "output shape (1536, 2048, 3)\n",
            "input shape (1536, 2048, 3)\n",
            "pad shape is [(0, 0), (0, 0), (0, 0)]\n",
            "output shape (1536, 2048, 3)\n",
            "input shape (1536, 2048, 3)\n",
            "pad shape is [(0, 0), (0, 0), (0, 0)]\n",
            "output shape (1536, 2048, 3)\n",
            "input shape (1536, 2048, 3)\n",
            "pad shape is [(0, 0), (0, 0), (0, 0)]\n",
            "output shape (1536, 2048, 3)\n",
            "input shape (1536, 2048, 3)\n",
            "pad shape is [(0, 0), (0, 0), (0, 0)]\n",
            "output shape (1536, 2048, 3)\n",
            "input shape (1536, 2048, 3)\n",
            "pad shape is [(0, 0), (0, 0), (0, 0)]\n",
            "output shape (1536, 2048, 3)\n",
            "input shape (1536, 2048, 3)\n",
            "pad shape is [(0, 0), (0, 0), (0, 0)]\n",
            "output shape (1536, 2048, 3)\n",
            "input shape (1536, 2048, 3)\n",
            "pad shape is [(0, 0), (0, 0), (0, 0)]\n",
            "output shape (1536, 2048, 3)\n",
            "input shape (1536, 2048, 3)\n",
            "pad shape is [(0, 0), (0, 0), (0, 0)]\n",
            "output shape (1536, 2048, 3)\n",
            "input shape (1536, 2048, 3)\n",
            "pad shape is [(0, 0), (0, 0), (0, 0)]\n",
            "output shape (1536, 2048, 3)\n",
            "input shape (1536, 2048, 3)\n",
            "pad shape is [(0, 0), (0, 0), (0, 0)]\n",
            "output shape (1536, 2048, 3)\n",
            "input shape (2464, 3280, 3)\n",
            "pad shape is [(48, 48), (152, 152), (0, 0)]\n",
            "output shape (2560, 3584, 3)\n",
            "input shape (2464, 3280, 3)\n",
            "pad shape is [(48, 48), (152, 152), (0, 0)]\n",
            "output shape (2560, 3584, 3)\n",
            "input shape (2464, 3280, 3)\n",
            "pad shape is [(48, 48), (152, 152), (0, 0)]\n",
            "output shape (2560, 3584, 3)\n",
            "input shape (2464, 3280, 3)\n",
            "pad shape is [(48, 48), (152, 152), (0, 0)]\n",
            "output shape (2560, 3584, 3)\n",
            "input shape (2464, 3280, 3)\n",
            "pad shape is [(48, 48), (152, 152), (0, 0)]\n",
            "output shape (2560, 3584, 3)\n",
            "input shape (2464, 3280, 3)\n",
            "pad shape is [(48, 48), (152, 152), (0, 0)]\n",
            "output shape (2560, 3584, 3)\n",
            "input shape (2464, 3280, 3)\n",
            "pad shape is [(48, 48), (152, 152), (0, 0)]\n",
            "output shape (2560, 3584, 3)\n",
            "input shape (2464, 3280, 3)\n",
            "pad shape is [(48, 48), (152, 152), (0, 0)]\n",
            "output shape (2560, 3584, 3)\n",
            "input shape (2464, 3280, 3)\n",
            "pad shape is [(48, 48), (152, 152), (0, 0)]\n",
            "output shape (2560, 3584, 3)\n",
            "input shape (2464, 3280, 3)\n",
            "pad shape is [(48, 48), (152, 152), (0, 0)]\n",
            "output shape (2560, 3584, 3)\n",
            "input shape (2464, 3280, 3)\n",
            "pad shape is [(48, 48), (152, 152), (0, 0)]\n",
            "output shape (2560, 3584, 3)\n",
            "input shape (2464, 3280, 3)\n",
            "pad shape is [(48, 48), (152, 152), (0, 0)]\n",
            "output shape (2560, 3584, 3)\n",
            "input shape (2464, 3280, 3)\n",
            "pad shape is [(48, 48), (152, 152), (0, 0)]\n",
            "output shape (2560, 3584, 3)\n",
            "input shape (2464, 3280, 3)\n",
            "pad shape is [(48, 48), (152, 152), (0, 0)]\n",
            "output shape (2560, 3584, 3)\n",
            "input shape (2464, 3280, 3)\n",
            "pad shape is [(48, 48), (152, 152), (0, 0)]\n",
            "output shape (2560, 3584, 3)\n",
            "input shape (2464, 3280, 3)\n",
            "pad shape is [(48, 48), (152, 152), (0, 0)]\n",
            "output shape (2560, 3584, 3)\n",
            "input shape (2464, 3280, 3)\n",
            "pad shape is [(48, 48), (152, 152), (0, 0)]\n",
            "output shape (2560, 3584, 3)\n",
            "input shape (2464, 3280, 3)\n",
            "pad shape is [(48, 48), (152, 152), (0, 0)]\n",
            "output shape (2560, 3584, 3)\n",
            "input shape (2464, 3280, 3)\n",
            "pad shape is [(48, 48), (152, 152), (0, 0)]\n",
            "output shape (2560, 3584, 3)\n",
            "input shape (2464, 3280, 3)\n",
            "pad shape is [(48, 48), (152, 152), (0, 0)]\n",
            "output shape (2560, 3584, 3)\n",
            "input shape (2464, 3280, 3)\n",
            "pad shape is [(48, 48), (152, 152), (0, 0)]\n",
            "output shape (2560, 3584, 3)\n",
            "input shape (2464, 3280, 3)\n",
            "pad shape is [(48, 48), (152, 152), (0, 0)]\n",
            "output shape (2560, 3584, 3)\n",
            "input shape (2464, 3280, 3)\n",
            "pad shape is [(48, 48), (152, 152), (0, 0)]\n",
            "output shape (2560, 3584, 3)\n",
            "input shape (2464, 3280, 3)\n",
            "pad shape is [(48, 48), (152, 152), (0, 0)]\n",
            "output shape (2560, 3584, 3)\n",
            "input shape (2464, 3280, 3)\n",
            "pad shape is [(48, 48), (152, 152), (0, 0)]\n",
            "output shape (2560, 3584, 3)\n",
            "input shape (2464, 3280, 3)\n",
            "pad shape is [(48, 48), (152, 152), (0, 0)]\n",
            "output shape (2560, 3584, 3)\n",
            "input shape (2464, 3280, 3)\n",
            "pad shape is [(48, 48), (152, 152), (0, 0)]\n",
            "output shape (2560, 3584, 3)\n",
            "input shape (2464, 3280, 3)\n",
            "pad shape is [(48, 48), (152, 152), (0, 0)]\n",
            "output shape (2560, 3584, 3)\n",
            "input shape (2464, 3280, 3)\n",
            "pad shape is [(48, 48), (152, 152), (0, 0)]\n",
            "output shape (2560, 3584, 3)\n",
            "input shape (2464, 3280, 3)\n",
            "pad shape is [(48, 48), (152, 152), (0, 0)]\n",
            "output shape (2560, 3584, 3)\n",
            "input shape (2464, 3280, 3)\n",
            "pad shape is [(48, 48), (152, 152), (0, 0)]\n",
            "output shape (2560, 3584, 3)\n",
            "input shape (2464, 3280, 3)\n",
            "pad shape is [(48, 48), (152, 152), (0, 0)]\n",
            "output shape (2560, 3584, 3)\n",
            "input shape (2464, 3280, 3)\n",
            "pad shape is [(48, 48), (152, 152), (0, 0)]\n",
            "output shape (2560, 3584, 3)\n",
            "input shape (2464, 3280, 3)\n",
            "pad shape is [(48, 48), (152, 152), (0, 0)]\n",
            "output shape (2560, 3584, 3)\n",
            "input shape (2464, 3280, 3)\n",
            "pad shape is [(48, 48), (152, 152), (0, 0)]\n",
            "output shape (2560, 3584, 3)\n",
            "input shape (2464, 3280, 3)\n",
            "pad shape is [(48, 48), (152, 152), (0, 0)]\n",
            "output shape (2560, 3584, 3)\n",
            "input shape (2464, 3280, 3)\n",
            "pad shape is [(48, 48), (152, 152), (0, 0)]\n",
            "output shape (2560, 3584, 3)\n",
            "input shape (2464, 3280, 3)\n",
            "pad shape is [(48, 48), (152, 152), (0, 0)]\n",
            "output shape (2560, 3584, 3)\n",
            "input shape (2464, 3280, 3)\n",
            "pad shape is [(48, 48), (152, 152), (0, 0)]\n",
            "output shape (2560, 3584, 3)\n",
            "input shape (2464, 3280, 3)\n",
            "pad shape is [(48, 48), (152, 152), (0, 0)]\n",
            "output shape (2560, 3584, 3)\n",
            "input shape (2464, 3280, 3)\n",
            "pad shape is [(48, 48), (152, 152), (0, 0)]\n",
            "output shape (2560, 3584, 3)\n",
            "input shape (2464, 3280, 3)\n",
            "pad shape is [(48, 48), (152, 152), (0, 0)]\n",
            "output shape (2560, 3584, 3)\n",
            "input shape (2464, 3280, 3)\n",
            "pad shape is [(48, 48), (152, 152), (0, 0)]\n",
            "output shape (2560, 3584, 3)\n",
            "input shape (2464, 3280, 3)\n",
            "pad shape is [(48, 48), (152, 152), (0, 0)]\n",
            "output shape (2560, 3584, 3)\n",
            "input shape (2464, 3280, 3)\n",
            "pad shape is [(48, 48), (152, 152), (0, 0)]\n",
            "output shape (2560, 3584, 3)\n",
            "input shape (2464, 3280, 3)\n",
            "pad shape is [(48, 48), (152, 152), (0, 0)]\n",
            "output shape (2560, 3584, 3)\n",
            "input shape (2464, 3280, 3)\n",
            "pad shape is [(48, 48), (152, 152), (0, 0)]\n",
            "output shape (2560, 3584, 3)\n",
            "input shape (2464, 3280, 3)\n",
            "pad shape is [(48, 48), (152, 152), (0, 0)]\n",
            "output shape (2560, 3584, 3)\n",
            "input shape (2464, 3280, 3)\n",
            "pad shape is [(48, 48), (152, 152), (0, 0)]\n",
            "output shape (2560, 3584, 3)\n",
            "input shape (2464, 3280, 3)\n",
            "pad shape is [(48, 48), (152, 152), (0, 0)]\n",
            "output shape (2560, 3584, 3)\n",
            "input shape (2464, 3280, 3)\n",
            "pad shape is [(48, 48), (152, 152), (0, 0)]\n",
            "output shape (2560, 3584, 3)\n",
            "input shape (2464, 3280, 3)\n",
            "pad shape is [(48, 48), (152, 152), (0, 0)]\n",
            "output shape (2560, 3584, 3)\n",
            "input shape (2464, 3280, 3)\n",
            "pad shape is [(48, 48), (152, 152), (0, 0)]\n",
            "output shape (2560, 3584, 3)\n",
            "input shape (2464, 3280, 3)\n",
            "pad shape is [(48, 48), (152, 152), (0, 0)]\n",
            "output shape (2560, 3584, 3)\n",
            "input shape (2464, 3280, 3)\n",
            "pad shape is [(48, 48), (152, 152), (0, 0)]\n",
            "output shape (2560, 3584, 3)\n",
            "input shape (2464, 3280, 3)\n",
            "pad shape is [(48, 48), (152, 152), (0, 0)]\n",
            "output shape (2560, 3584, 3)\n",
            "input shape (2464, 3280, 3)\n",
            "pad shape is [(48, 48), (152, 152), (0, 0)]\n",
            "output shape (2560, 3584, 3)\n",
            "input shape (2464, 3280, 3)\n",
            "pad shape is [(48, 48), (152, 152), (0, 0)]\n",
            "output shape (2560, 3584, 3)\n",
            "input shape (2464, 3280, 3)\n",
            "pad shape is [(48, 48), (152, 152), (0, 0)]\n",
            "output shape (2560, 3584, 3)\n",
            "input shape (2464, 3280, 3)\n",
            "pad shape is [(48, 48), (152, 152), (0, 0)]\n",
            "output shape (2560, 3584, 3)\n",
            "input shape (2464, 3280, 3)\n",
            "pad shape is [(48, 48), (152, 152), (0, 0)]\n",
            "output shape (2560, 3584, 3)\n",
            "input shape (2464, 3280, 3)\n",
            "pad shape is [(48, 48), (152, 152), (0, 0)]\n",
            "output shape (2560, 3584, 3)\n",
            "input shape (2464, 3280, 3)\n",
            "pad shape is [(48, 48), (152, 152), (0, 0)]\n",
            "output shape (2560, 3584, 3)\n",
            "input shape (2464, 3280, 3)\n",
            "pad shape is [(48, 48), (152, 152), (0, 0)]\n",
            "output shape (2560, 3584, 3)\n",
            "input shape (2464, 3280, 3)\n",
            "pad shape is [(48, 48), (152, 152), (0, 0)]\n",
            "output shape (2560, 3584, 3)\n",
            "input shape (2464, 3280, 3)\n",
            "pad shape is [(48, 48), (152, 152), (0, 0)]\n",
            "output shape (2560, 3584, 3)\n",
            "input shape (2464, 3280, 3)\n",
            "pad shape is [(48, 48), (152, 152), (0, 0)]\n",
            "output shape (2560, 3584, 3)\n",
            "input shape (2464, 3280, 3)\n",
            "pad shape is [(48, 48), (152, 152), (0, 0)]\n",
            "output shape (2560, 3584, 3)\n",
            "input shape (2464, 3280, 3)\n",
            "pad shape is [(48, 48), (152, 152), (0, 0)]\n",
            "output shape (2560, 3584, 3)\n",
            "input shape (2464, 3280, 3)\n",
            "pad shape is [(48, 48), (152, 152), (0, 0)]\n",
            "output shape (2560, 3584, 3)\n",
            "input shape (2464, 3280, 3)\n",
            "pad shape is [(48, 48), (152, 152), (0, 0)]\n",
            "output shape (2560, 3584, 3)\n",
            "input shape (2464, 3280, 3)\n",
            "pad shape is [(48, 48), (152, 152), (0, 0)]\n",
            "output shape (2560, 3584, 3)\n",
            "input shape (2464, 3280, 3)\n",
            "pad shape is [(48, 48), (152, 152), (0, 0)]\n",
            "output shape (2560, 3584, 3)\n",
            "input shape (2464, 3280, 3)\n",
            "pad shape is [(48, 48), (152, 152), (0, 0)]\n",
            "output shape (2560, 3584, 3)\n",
            "input shape (2464, 3280, 3)\n",
            "pad shape is [(48, 48), (152, 152), (0, 0)]\n",
            "output shape (2560, 3584, 3)\n",
            "input shape (2464, 3280, 3)\n",
            "pad shape is [(48, 48), (152, 152), (0, 0)]\n",
            "output shape (2560, 3584, 3)\n",
            "input shape (2464, 3280, 3)\n",
            "pad shape is [(48, 48), (152, 152), (0, 0)]\n",
            "output shape (2560, 3584, 3)\n",
            "input shape (2464, 3280, 3)\n",
            "pad shape is [(48, 48), (152, 152), (0, 0)]\n",
            "output shape (2560, 3584, 3)\n",
            "input shape (2464, 3280, 3)\n",
            "pad shape is [(48, 48), (152, 152), (0, 0)]\n",
            "output shape (2560, 3584, 3)\n",
            "input shape (2464, 3280, 3)\n",
            "pad shape is [(48, 48), (152, 152), (0, 0)]\n",
            "output shape (2560, 3584, 3)\n",
            "input shape (2464, 3280, 3)\n",
            "pad shape is [(48, 48), (152, 152), (0, 0)]\n",
            "output shape (2560, 3584, 3)\n",
            "input shape (2464, 3280, 3)\n",
            "pad shape is [(48, 48), (152, 152), (0, 0)]\n",
            "output shape (2560, 3584, 3)\n",
            "input shape (2464, 3280, 3)\n",
            "pad shape is [(48, 48), (152, 152), (0, 0)]\n",
            "output shape (2560, 3584, 3)\n",
            "input shape (2464, 3280, 3)\n",
            "pad shape is [(48, 48), (152, 152), (0, 0)]\n",
            "output shape (2560, 3584, 3)\n",
            "input shape (2464, 3280, 3)\n",
            "pad shape is [(48, 48), (152, 152), (0, 0)]\n",
            "output shape (2560, 3584, 3)\n",
            "input shape (2464, 3280, 3)\n",
            "pad shape is [(48, 48), (152, 152), (0, 0)]\n",
            "output shape (2560, 3584, 3)\n",
            "input shape (2464, 3280, 3)\n",
            "pad shape is [(48, 48), (152, 152), (0, 0)]\n",
            "output shape (2560, 3584, 3)\n",
            "input shape (2464, 3280, 3)\n",
            "pad shape is [(48, 48), (152, 152), (0, 0)]\n",
            "output shape (2560, 3584, 3)\n",
            "input shape (2464, 3280, 3)\n",
            "pad shape is [(48, 48), (152, 152), (0, 0)]\n",
            "output shape (2560, 3584, 3)\n",
            "input shape (2464, 3280, 3)\n",
            "pad shape is [(48, 48), (152, 152), (0, 0)]\n",
            "output shape (2560, 3584, 3)\n",
            "input shape (2464, 3280, 3)\n",
            "pad shape is [(48, 48), (152, 152), (0, 0)]\n",
            "output shape (2560, 3584, 3)\n",
            "input shape (2464, 3280, 3)\n",
            "pad shape is [(48, 48), (152, 152), (0, 0)]\n",
            "output shape (2560, 3584, 3)\n",
            "input shape (2464, 3280, 3)\n",
            "pad shape is [(48, 48), (152, 152), (0, 0)]\n",
            "output shape (2560, 3584, 3)\n",
            "input shape (2464, 3280, 3)\n",
            "pad shape is [(48, 48), (152, 152), (0, 0)]\n",
            "output shape (2560, 3584, 3)\n",
            "input shape (2464, 3280, 3)\n",
            "pad shape is [(48, 48), (152, 152), (0, 0)]\n",
            "output shape (2560, 3584, 3)\n",
            "input shape (2464, 3280, 3)\n",
            "pad shape is [(48, 48), (152, 152), (0, 0)]\n",
            "output shape (2560, 3584, 3)\n",
            "input shape (2464, 3280, 3)\n",
            "pad shape is [(48, 48), (152, 152), (0, 0)]\n",
            "output shape (2560, 3584, 3)\n",
            "input shape (2464, 3280, 3)\n",
            "pad shape is [(48, 48), (152, 152), (0, 0)]\n",
            "output shape (2560, 3584, 3)\n",
            "input shape (2464, 3280, 3)\n",
            "pad shape is [(48, 48), (152, 152), (0, 0)]\n",
            "output shape (2560, 3584, 3)\n",
            "input shape (2464, 3280, 3)\n",
            "pad shape is [(48, 48), (152, 152), (0, 0)]\n",
            "output shape (2560, 3584, 3)\n",
            "input shape (2464, 3280, 3)\n",
            "pad shape is [(48, 48), (152, 152), (0, 0)]\n",
            "output shape (2560, 3584, 3)\n",
            "input shape (2464, 3280, 3)\n",
            "pad shape is [(48, 48), (152, 152), (0, 0)]\n",
            "output shape (2560, 3584, 3)\n",
            "input shape (2464, 3280, 3)\n",
            "pad shape is [(48, 48), (152, 152), (0, 0)]\n",
            "output shape (2560, 3584, 3)\n",
            "input shape (2464, 3280, 3)\n",
            "pad shape is [(48, 48), (152, 152), (0, 0)]\n",
            "output shape (2560, 3584, 3)\n",
            "input shape (2464, 3280, 3)\n",
            "pad shape is [(48, 48), (152, 152), (0, 0)]\n",
            "output shape (2560, 3584, 3)\n",
            "input shape (2464, 3280, 3)\n",
            "pad shape is [(48, 48), (152, 152), (0, 0)]\n",
            "output shape (2560, 3584, 3)\n",
            "input shape (2464, 3280, 3)\n",
            "pad shape is [(48, 48), (152, 152), (0, 0)]\n",
            "output shape (2560, 3584, 3)\n",
            "input shape (2464, 3280, 3)\n",
            "pad shape is [(48, 48), (152, 152), (0, 0)]\n",
            "output shape (2560, 3584, 3)\n",
            "input shape (2464, 3280, 3)\n",
            "pad shape is [(48, 48), (152, 152), (0, 0)]\n",
            "output shape (2560, 3584, 3)\n",
            "input shape (2464, 3280, 3)\n",
            "pad shape is [(48, 48), (152, 152), (0, 0)]\n",
            "output shape (2560, 3584, 3)\n",
            "input shape (2464, 3280, 3)\n",
            "pad shape is [(48, 48), (152, 152), (0, 0)]\n",
            "output shape (2560, 3584, 3)\n",
            "input shape (2464, 3280, 3)\n",
            "pad shape is [(48, 48), (152, 152), (0, 0)]\n",
            "output shape (2560, 3584, 3)\n",
            "input shape (2464, 3280, 3)\n",
            "pad shape is [(48, 48), (152, 152), (0, 0)]\n",
            "output shape (2560, 3584, 3)\n",
            "input shape (2464, 3280, 3)\n",
            "pad shape is [(48, 48), (152, 152), (0, 0)]\n",
            "output shape (2560, 3584, 3)\n",
            "input shape (2464, 3280, 3)\n",
            "pad shape is [(48, 48), (152, 152), (0, 0)]\n",
            "output shape (2560, 3584, 3)\n",
            "input shape (2464, 3280, 3)\n",
            "pad shape is [(48, 48), (152, 152), (0, 0)]\n",
            "output shape (2560, 3584, 3)\n",
            "input shape (2464, 3280, 3)\n",
            "pad shape is [(48, 48), (152, 152), (0, 0)]\n",
            "output shape (2560, 3584, 3)\n",
            "input shape (2464, 3280, 3)\n",
            "pad shape is [(48, 48), (152, 152), (0, 0)]\n",
            "output shape (2560, 3584, 3)\n",
            "input shape (2464, 3280, 3)\n",
            "pad shape is [(48, 48), (152, 152), (0, 0)]\n",
            "output shape (2560, 3584, 3)\n",
            "input shape (2464, 3280, 3)\n",
            "pad shape is [(48, 48), (152, 152), (0, 0)]\n",
            "output shape (2560, 3584, 3)\n",
            "input shape (2464, 3280, 3)\n",
            "pad shape is [(48, 48), (152, 152), (0, 0)]\n",
            "output shape (2560, 3584, 3)\n",
            "input shape (2464, 3280, 3)\n",
            "pad shape is [(48, 48), (152, 152), (0, 0)]\n",
            "output shape (2560, 3584, 3)\n",
            "input shape (2464, 3280, 3)\n",
            "pad shape is [(48, 48), (152, 152), (0, 0)]\n",
            "output shape (2560, 3584, 3)\n",
            "input shape (2464, 3280, 3)\n",
            "pad shape is [(48, 48), (152, 152), (0, 0)]\n",
            "output shape (2560, 3584, 3)\n",
            "input shape (2464, 3280, 3)\n",
            "pad shape is [(48, 48), (152, 152), (0, 0)]\n",
            "output shape (2560, 3584, 3)\n",
            "input shape (2464, 3280, 3)\n",
            "pad shape is [(48, 48), (152, 152), (0, 0)]\n",
            "output shape (2560, 3584, 3)\n",
            "input shape (2464, 3280, 3)\n",
            "pad shape is [(48, 48), (152, 152), (0, 0)]\n",
            "output shape (2560, 3584, 3)\n",
            "input shape (2464, 3280, 3)\n",
            "pad shape is [(48, 48), (152, 152), (0, 0)]\n",
            "output shape (2560, 3584, 3)\n",
            "input shape (2464, 3280, 3)\n",
            "pad shape is [(48, 48), (152, 152), (0, 0)]\n",
            "output shape (2560, 3584, 3)\n",
            "input shape (2464, 3280, 3)\n",
            "pad shape is [(48, 48), (152, 152), (0, 0)]\n",
            "output shape (2560, 3584, 3)\n",
            "input shape (2464, 3280, 3)\n",
            "pad shape is [(48, 48), (152, 152), (0, 0)]\n",
            "output shape (2560, 3584, 3)\n",
            "input shape (2464, 3280, 3)\n",
            "pad shape is [(48, 48), (152, 152), (0, 0)]\n",
            "output shape (2560, 3584, 3)\n",
            "input shape (2464, 3280, 3)\n",
            "pad shape is [(48, 48), (152, 152), (0, 0)]\n",
            "output shape (2560, 3584, 3)\n",
            "input shape (2464, 3280, 3)\n",
            "pad shape is [(48, 48), (152, 152), (0, 0)]\n",
            "output shape (2560, 3584, 3)\n",
            "input shape (2464, 3280, 3)\n",
            "pad shape is [(48, 48), (152, 152), (0, 0)]\n",
            "output shape (2560, 3584, 3)\n",
            "input shape (2464, 3280, 3)\n",
            "pad shape is [(48, 48), (152, 152), (0, 0)]\n",
            "output shape (2560, 3584, 3)\n",
            "input shape (2464, 3280, 3)\n",
            "pad shape is [(48, 48), (152, 152), (0, 0)]\n",
            "output shape (2560, 3584, 3)\n",
            "input shape (2464, 3280, 3)\n",
            "pad shape is [(48, 48), (152, 152), (0, 0)]\n",
            "output shape (2560, 3584, 3)\n",
            "input shape (2464, 3280, 3)\n",
            "pad shape is [(48, 48), (152, 152), (0, 0)]\n",
            "output shape (2560, 3584, 3)\n",
            "input shape (2464, 3280, 3)\n",
            "pad shape is [(48, 48), (152, 152), (0, 0)]\n",
            "output shape (2560, 3584, 3)\n",
            "input shape (2464, 3280, 3)\n",
            "pad shape is [(48, 48), (152, 152), (0, 0)]\n",
            "output shape (2560, 3584, 3)\n",
            "input shape (2464, 3280, 3)\n",
            "pad shape is [(48, 48), (152, 152), (0, 0)]\n",
            "output shape (2560, 3584, 3)\n",
            "input shape (2464, 3280, 3)\n",
            "pad shape is [(48, 48), (152, 152), (0, 0)]\n",
            "output shape (2560, 3584, 3)\n",
            "input shape (2464, 3280, 3)\n",
            "pad shape is [(48, 48), (152, 152), (0, 0)]\n",
            "output shape (2560, 3584, 3)\n",
            "input shape (2464, 3280, 3)\n",
            "pad shape is [(48, 48), (152, 152), (0, 0)]\n",
            "output shape (2560, 3584, 3)\n",
            "input shape (2464, 3280, 3)\n",
            "pad shape is [(48, 48), (152, 152), (0, 0)]\n",
            "output shape (2560, 3584, 3)\n",
            "input shape (2464, 3280, 3)\n",
            "pad shape is [(48, 48), (152, 152), (0, 0)]\n",
            "output shape (2560, 3584, 3)\n",
            "input shape (2464, 3280, 3)\n",
            "pad shape is [(48, 48), (152, 152), (0, 0)]\n",
            "output shape (2560, 3584, 3)\n",
            "input shape (2464, 3280, 3)\n",
            "pad shape is [(48, 48), (152, 152), (0, 0)]\n",
            "output shape (2560, 3584, 3)\n",
            "input shape (2464, 3280, 3)\n",
            "pad shape is [(48, 48), (152, 152), (0, 0)]\n",
            "output shape (2560, 3584, 3)\n",
            "input shape (2464, 3280, 3)\n",
            "pad shape is [(48, 48), (152, 152), (0, 0)]\n",
            "output shape (2560, 3584, 3)\n",
            "input shape (2464, 3280, 3)\n",
            "pad shape is [(48, 48), (152, 152), (0, 0)]\n",
            "output shape (2560, 3584, 3)\n",
            "input shape (2464, 3280, 3)\n",
            "pad shape is [(48, 48), (152, 152), (0, 0)]\n",
            "output shape (2560, 3584, 3)\n",
            "input shape (2464, 3280, 3)\n",
            "pad shape is [(48, 48), (152, 152), (0, 0)]\n",
            "output shape (2560, 3584, 3)\n",
            "input shape (2464, 3280, 3)\n",
            "pad shape is [(48, 48), (152, 152), (0, 0)]\n",
            "output shape (2560, 3584, 3)\n",
            "input shape (2464, 3280, 3)\n",
            "pad shape is [(48, 48), (152, 152), (0, 0)]\n",
            "output shape (2560, 3584, 3)\n",
            "input shape (2464, 3280, 3)\n",
            "pad shape is [(48, 48), (152, 152), (0, 0)]\n",
            "output shape (2560, 3584, 3)\n",
            "input shape (2464, 3280, 3)\n",
            "pad shape is [(48, 48), (152, 152), (0, 0)]\n",
            "output shape (2560, 3584, 3)\n",
            "input shape (2464, 3280, 3)\n",
            "pad shape is [(48, 48), (152, 152), (0, 0)]\n",
            "output shape (2560, 3584, 3)\n",
            "input shape (2464, 3280, 3)\n",
            "pad shape is [(48, 48), (152, 152), (0, 0)]\n",
            "output shape (2560, 3584, 3)\n",
            "input shape (2464, 3280, 3)\n",
            "pad shape is [(48, 48), (152, 152), (0, 0)]\n",
            "output shape (2560, 3584, 3)\n",
            "input shape (2464, 3280, 3)\n",
            "pad shape is [(48, 48), (152, 152), (0, 0)]\n",
            "output shape (2560, 3584, 3)\n",
            "input shape (2464, 3280, 3)\n",
            "pad shape is [(48, 48), (152, 152), (0, 0)]\n",
            "output shape (2560, 3584, 3)\n",
            "input shape (2464, 3280, 3)\n",
            "pad shape is [(48, 48), (152, 152), (0, 0)]\n",
            "output shape (2560, 3584, 3)\n",
            "input shape (2464, 3280, 3)\n",
            "pad shape is [(48, 48), (152, 152), (0, 0)]\n",
            "output shape (2560, 3584, 3)\n",
            "input shape (2464, 3280, 3)\n",
            "pad shape is [(48, 48), (152, 152), (0, 0)]\n",
            "output shape (2560, 3584, 3)\n",
            "input shape (2464, 3280, 3)\n",
            "pad shape is [(48, 48), (152, 152), (0, 0)]\n",
            "output shape (2560, 3584, 3)\n",
            "input shape (2464, 3280, 3)\n",
            "pad shape is [(48, 48), (152, 152), (0, 0)]\n",
            "output shape (2560, 3584, 3)\n",
            "input shape (2464, 3280, 3)\n",
            "pad shape is [(48, 48), (152, 152), (0, 0)]\n",
            "output shape (2560, 3584, 3)\n",
            "input shape (2464, 3280, 3)\n",
            "pad shape is [(48, 48), (152, 152), (0, 0)]\n",
            "output shape (2560, 3584, 3)\n",
            "input shape (2464, 3280, 3)\n",
            "pad shape is [(48, 48), (152, 152), (0, 0)]\n",
            "output shape (2560, 3584, 3)\n",
            "input shape (2464, 3280, 3)\n",
            "pad shape is [(48, 48), (152, 152), (0, 0)]\n",
            "output shape (2560, 3584, 3)\n",
            "input shape (2464, 3280, 3)\n",
            "pad shape is [(48, 48), (152, 152), (0, 0)]\n",
            "output shape (2560, 3584, 3)\n",
            "input shape (2464, 3280, 3)\n",
            "pad shape is [(48, 48), (152, 152), (0, 0)]\n",
            "output shape (2560, 3584, 3)\n",
            "input shape (2464, 3280, 3)\n",
            "pad shape is [(48, 48), (152, 152), (0, 0)]\n",
            "output shape (2560, 3584, 3)\n",
            "input shape (2464, 3280, 3)\n",
            "pad shape is [(48, 48), (152, 152), (0, 0)]\n",
            "output shape (2560, 3584, 3)\n",
            "input shape (2464, 3280, 3)\n",
            "pad shape is [(48, 48), (152, 152), (0, 0)]\n",
            "output shape (2560, 3584, 3)\n",
            "input shape (2464, 3280, 3)\n",
            "pad shape is [(48, 48), (152, 152), (0, 0)]\n",
            "output shape (2560, 3584, 3)\n",
            "input shape (2464, 3280, 3)\n",
            "pad shape is [(48, 48), (152, 152), (0, 0)]\n",
            "output shape (2560, 3584, 3)\n",
            "input shape (2464, 3280, 3)\n",
            "pad shape is [(48, 48), (152, 152), (0, 0)]\n",
            "output shape (2560, 3584, 3)\n",
            "input shape (2464, 3280, 3)\n",
            "pad shape is [(48, 48), (152, 152), (0, 0)]\n",
            "output shape (2560, 3584, 3)\n",
            "input shape (2464, 3280, 3)\n",
            "pad shape is [(48, 48), (152, 152), (0, 0)]\n",
            "output shape (2560, 3584, 3)\n",
            "input shape (2464, 3280, 3)\n",
            "pad shape is [(48, 48), (152, 152), (0, 0)]\n",
            "output shape (2560, 3584, 3)\n",
            "input shape (2464, 3280, 3)\n",
            "pad shape is [(48, 48), (152, 152), (0, 0)]\n",
            "output shape (2560, 3584, 3)\n",
            "input shape (2464, 3280, 3)\n",
            "pad shape is [(48, 48), (152, 152), (0, 0)]\n",
            "output shape (2560, 3584, 3)\n",
            "input shape (2464, 3280, 3)\n",
            "pad shape is [(48, 48), (152, 152), (0, 0)]\n",
            "output shape (2560, 3584, 3)\n",
            "input shape (2464, 3280, 3)\n",
            "pad shape is [(48, 48), (152, 152), (0, 0)]\n",
            "output shape (2560, 3584, 3)\n",
            "input shape (2464, 3280, 3)\n",
            "pad shape is [(48, 48), (152, 152), (0, 0)]\n",
            "output shape (2560, 3584, 3)\n",
            "input shape (2464, 3280, 3)\n",
            "pad shape is [(48, 48), (152, 152), (0, 0)]\n",
            "output shape (2560, 3584, 3)\n",
            "input shape (2464, 3280, 3)\n",
            "pad shape is [(48, 48), (152, 152), (0, 0)]\n",
            "output shape (2560, 3584, 3)\n",
            "input shape (2464, 3280, 3)\n",
            "pad shape is [(48, 48), (152, 152), (0, 0)]\n",
            "output shape (2560, 3584, 3)\n",
            "input shape (2464, 3280, 3)\n",
            "pad shape is [(48, 48), (152, 152), (0, 0)]\n",
            "output shape (2560, 3584, 3)\n",
            "input shape (2464, 3280, 3)\n",
            "pad shape is [(48, 48), (152, 152), (0, 0)]\n",
            "output shape (2560, 3584, 3)\n",
            "input shape (2464, 3280, 3)\n",
            "pad shape is [(48, 48), (152, 152), (0, 0)]\n",
            "output shape (2560, 3584, 3)\n",
            "input shape (2464, 3280, 3)\n",
            "pad shape is [(48, 48), (152, 152), (0, 0)]\n",
            "output shape (2560, 3584, 3)\n",
            "input shape (2464, 3280, 3)\n",
            "pad shape is [(48, 48), (152, 152), (0, 0)]\n",
            "output shape (2560, 3584, 3)\n",
            "input shape (2464, 3280, 3)\n",
            "pad shape is [(48, 48), (152, 152), (0, 0)]\n",
            "output shape (2560, 3584, 3)\n",
            "input shape (2464, 3280, 3)\n",
            "pad shape is [(48, 48), (152, 152), (0, 0)]\n",
            "output shape (2560, 3584, 3)\n",
            "input shape (2464, 3280, 3)\n",
            "pad shape is [(48, 48), (152, 152), (0, 0)]\n",
            "output shape (2560, 3584, 3)\n",
            "input shape (2464, 3280, 3)\n",
            "pad shape is [(48, 48), (152, 152), (0, 0)]\n",
            "output shape (2560, 3584, 3)\n",
            "input shape (2464, 3280, 3)\n",
            "pad shape is [(48, 48), (152, 152), (0, 0)]\n",
            "output shape (2560, 3584, 3)\n",
            "input shape (2464, 3280, 3)\n",
            "pad shape is [(48, 48), (152, 152), (0, 0)]\n",
            "output shape (2560, 3584, 3)\n",
            "input shape (2464, 3280, 3)\n",
            "pad shape is [(48, 48), (152, 152), (0, 0)]\n",
            "output shape (2560, 3584, 3)\n",
            "input shape (2464, 3280, 3)\n",
            "pad shape is [(48, 48), (152, 152), (0, 0)]\n",
            "output shape (2560, 3584, 3)\n",
            "input shape (2464, 3280, 3)\n",
            "pad shape is [(48, 48), (152, 152), (0, 0)]\n",
            "output shape (2560, 3584, 3)\n",
            "input shape (2464, 3280, 3)\n",
            "pad shape is [(48, 48), (152, 152), (0, 0)]\n",
            "output shape (2560, 3584, 3)\n",
            "input shape (2464, 3280, 3)\n",
            "pad shape is [(48, 48), (152, 152), (0, 0)]\n",
            "output shape (2560, 3584, 3)\n",
            "input shape (2464, 3280, 3)\n",
            "pad shape is [(48, 48), (152, 152), (0, 0)]\n",
            "output shape (2560, 3584, 3)\n",
            "input shape (2464, 3280, 3)\n",
            "pad shape is [(48, 48), (152, 152), (0, 0)]\n",
            "output shape (2560, 3584, 3)\n",
            "input shape (2464, 3280, 3)\n",
            "pad shape is [(48, 48), (152, 152), (0, 0)]\n",
            "output shape (2560, 3584, 3)\n",
            "input shape (2464, 3280, 3)\n",
            "pad shape is [(48, 48), (152, 152), (0, 0)]\n",
            "output shape (2560, 3584, 3)\n",
            "input shape (2464, 3280, 3)\n",
            "pad shape is [(48, 48), (152, 152), (0, 0)]\n",
            "output shape (2560, 3584, 3)\n",
            "input shape (2464, 3280, 3)\n",
            "pad shape is [(48, 48), (152, 152), (0, 0)]\n",
            "output shape (2560, 3584, 3)\n",
            "input shape (2464, 3280, 3)\n",
            "pad shape is [(48, 48), (152, 152), (0, 0)]\n",
            "output shape (2560, 3584, 3)\n",
            "input shape (2464, 3280, 3)\n",
            "pad shape is [(48, 48), (152, 152), (0, 0)]\n",
            "output shape (2560, 3584, 3)\n",
            "input shape (2464, 3280, 3)\n",
            "pad shape is [(48, 48), (152, 152), (0, 0)]\n",
            "output shape (2560, 3584, 3)\n",
            "input shape (2464, 3280, 3)\n",
            "pad shape is [(48, 48), (152, 152), (0, 0)]\n",
            "output shape (2560, 3584, 3)\n",
            "input shape (2464, 3280, 3)\n",
            "pad shape is [(48, 48), (152, 152), (0, 0)]\n",
            "output shape (2560, 3584, 3)\n",
            "input shape (2464, 3280, 3)\n",
            "pad shape is [(48, 48), (152, 152), (0, 0)]\n",
            "output shape (2560, 3584, 3)\n",
            "input shape (2464, 3280, 3)\n",
            "pad shape is [(48, 48), (152, 152), (0, 0)]\n",
            "output shape (2560, 3584, 3)\n",
            "input shape (2464, 3280, 3)\n",
            "pad shape is [(48, 48), (152, 152), (0, 0)]\n",
            "output shape (2560, 3584, 3)\n",
            "input shape (2464, 3280, 3)\n",
            "pad shape is [(48, 48), (152, 152), (0, 0)]\n",
            "output shape (2560, 3584, 3)\n",
            "input shape (2464, 3280, 3)\n",
            "pad shape is [(48, 48), (152, 152), (0, 0)]\n",
            "output shape (2560, 3584, 3)\n",
            "input shape (2464, 3280, 3)\n",
            "pad shape is [(48, 48), (152, 152), (0, 0)]\n",
            "output shape (2560, 3584, 3)\n",
            "input shape (2464, 3280, 3)\n",
            "pad shape is [(48, 48), (152, 152), (0, 0)]\n",
            "output shape (2560, 3584, 3)\n",
            "input shape (2464, 3280, 3)\n",
            "pad shape is [(48, 48), (152, 152), (0, 0)]\n",
            "output shape (2560, 3584, 3)\n",
            "input shape (2464, 3280, 3)\n",
            "pad shape is [(48, 48), (152, 152), (0, 0)]\n",
            "output shape (2560, 3584, 3)\n",
            "input shape (2464, 3280, 3)\n",
            "pad shape is [(48, 48), (152, 152), (0, 0)]\n",
            "output shape (2560, 3584, 3)\n",
            "input shape (2464, 3280, 3)\n",
            "pad shape is [(48, 48), (152, 152), (0, 0)]\n",
            "output shape (2560, 3584, 3)\n",
            "input shape (2464, 3280, 3)\n",
            "pad shape is [(48, 48), (152, 152), (0, 0)]\n",
            "output shape (2560, 3584, 3)\n",
            "input shape (2464, 3280, 3)\n",
            "pad shape is [(48, 48), (152, 152), (0, 0)]\n",
            "output shape (2560, 3584, 3)\n",
            "input shape (2464, 3280, 3)\n",
            "pad shape is [(48, 48), (152, 152), (0, 0)]\n",
            "output shape (2560, 3584, 3)\n",
            "input shape (2464, 3280, 3)\n",
            "pad shape is [(48, 48), (152, 152), (0, 0)]\n",
            "output shape (2560, 3584, 3)\n",
            "input shape (2464, 3280, 3)\n",
            "pad shape is [(48, 48), (152, 152), (0, 0)]\n",
            "output shape (2560, 3584, 3)\n",
            "input shape (2464, 3280, 3)\n",
            "pad shape is [(48, 48), (152, 152), (0, 0)]\n",
            "output shape (2560, 3584, 3)\n",
            "input shape (2464, 3280, 3)\n",
            "pad shape is [(48, 48), (152, 152), (0, 0)]\n",
            "output shape (2560, 3584, 3)\n",
            "input shape (2464, 3280, 3)\n",
            "pad shape is [(48, 48), (152, 152), (0, 0)]\n",
            "output shape (2560, 3584, 3)\n",
            "input shape (2464, 3280, 3)\n",
            "pad shape is [(48, 48), (152, 152), (0, 0)]\n",
            "output shape (2560, 3584, 3)\n",
            "input shape (2464, 3280, 3)\n",
            "pad shape is [(48, 48), (152, 152), (0, 0)]\n",
            "output shape (2560, 3584, 3)\n",
            "input shape (2464, 3280, 3)\n",
            "pad shape is [(48, 48), (152, 152), (0, 0)]\n",
            "output shape (2560, 3584, 3)\n",
            "input shape (2464, 3280, 3)\n",
            "pad shape is [(48, 48), (152, 152), (0, 0)]\n",
            "output shape (2560, 3584, 3)\n",
            "input shape (2464, 3280, 3)\n",
            "pad shape is [(48, 48), (152, 152), (0, 0)]\n",
            "output shape (2560, 3584, 3)\n",
            "input shape (2464, 3280, 3)\n",
            "pad shape is [(48, 48), (152, 152), (0, 0)]\n",
            "output shape (2560, 3584, 3)\n",
            "input shape (2464, 3280, 3)\n",
            "pad shape is [(48, 48), (152, 152), (0, 0)]\n",
            "output shape (2560, 3584, 3)\n",
            "input shape (2464, 3280, 3)\n",
            "pad shape is [(48, 48), (152, 152), (0, 0)]\n",
            "output shape (2560, 3584, 3)\n",
            "input shape (2464, 3280, 3)\n",
            "pad shape is [(48, 48), (152, 152), (0, 0)]\n",
            "output shape (2560, 3584, 3)\n",
            "input shape (2464, 3280, 3)\n",
            "pad shape is [(48, 48), (152, 152), (0, 0)]\n",
            "output shape (2560, 3584, 3)\n",
            "input shape (2464, 3280, 3)\n",
            "pad shape is [(48, 48), (152, 152), (0, 0)]\n",
            "output shape (2560, 3584, 3)\n",
            "input shape (2464, 3280, 3)\n",
            "pad shape is [(48, 48), (152, 152), (0, 0)]\n",
            "output shape (2560, 3584, 3)\n",
            "input shape (2464, 3280, 3)\n",
            "pad shape is [(48, 48), (152, 152), (0, 0)]\n",
            "output shape (2560, 3584, 3)\n",
            "input shape (2464, 3280, 3)\n",
            "pad shape is [(48, 48), (152, 152), (0, 0)]\n",
            "output shape (2560, 3584, 3)\n",
            "input shape (2464, 3280, 3)\n",
            "pad shape is [(48, 48), (152, 152), (0, 0)]\n",
            "output shape (2560, 3584, 3)\n",
            "input shape (2464, 3280, 3)\n",
            "pad shape is [(48, 48), (152, 152), (0, 0)]\n",
            "output shape (2560, 3584, 3)\n",
            "input shape (2464, 3280, 3)\n",
            "pad shape is [(48, 48), (152, 152), (0, 0)]\n",
            "output shape (2560, 3584, 3)\n",
            "input shape (2464, 3280, 3)\n",
            "pad shape is [(48, 48), (152, 152), (0, 0)]\n",
            "output shape (2560, 3584, 3)\n",
            "input shape (2464, 3280, 3)\n",
            "pad shape is [(48, 48), (152, 152), (0, 0)]\n",
            "output shape (2560, 3584, 3)\n",
            "input shape (2464, 3280, 3)\n",
            "pad shape is [(48, 48), (152, 152), (0, 0)]\n",
            "output shape (2560, 3584, 3)\n",
            "input shape (2464, 3280, 3)\n",
            "pad shape is [(48, 48), (152, 152), (0, 0)]\n",
            "output shape (2560, 3584, 3)\n",
            "input shape (2464, 3280, 3)\n",
            "pad shape is [(48, 48), (152, 152), (0, 0)]\n",
            "output shape (2560, 3584, 3)\n",
            "input shape (2464, 3280, 3)\n",
            "pad shape is [(48, 48), (152, 152), (0, 0)]\n",
            "output shape (2560, 3584, 3)\n",
            "input shape (2464, 3280, 3)\n",
            "pad shape is [(48, 48), (152, 152), (0, 0)]\n",
            "output shape (2560, 3584, 3)\n",
            "input shape (2464, 3280, 3)\n",
            "pad shape is [(48, 48), (152, 152), (0, 0)]\n",
            "output shape (2560, 3584, 3)\n",
            "input shape (2464, 3280, 3)\n",
            "pad shape is [(48, 48), (152, 152), (0, 0)]\n",
            "output shape (2560, 3584, 3)\n",
            "input shape (2464, 3280, 3)\n",
            "pad shape is [(48, 48), (152, 152), (0, 0)]\n",
            "output shape (2560, 3584, 3)\n",
            "input shape (2464, 3280, 3)\n",
            "pad shape is [(48, 48), (152, 152), (0, 0)]\n",
            "output shape (2560, 3584, 3)\n",
            "input shape (2464, 3280, 3)\n",
            "pad shape is [(48, 48), (152, 152), (0, 0)]\n",
            "output shape (2560, 3584, 3)\n",
            "input shape (2464, 3280, 3)\n",
            "pad shape is [(48, 48), (152, 152), (0, 0)]\n",
            "output shape (2560, 3584, 3)\n",
            "input shape (2464, 3280, 3)\n",
            "pad shape is [(48, 48), (152, 152), (0, 0)]\n",
            "output shape (2560, 3584, 3)\n",
            "input shape (2464, 3280, 3)\n",
            "pad shape is [(48, 48), (152, 152), (0, 0)]\n",
            "output shape (2560, 3584, 3)\n",
            "input shape (2464, 3280, 3)\n",
            "pad shape is [(48, 48), (152, 152), (0, 0)]\n",
            "output shape (2560, 3584, 3)\n",
            "input shape (2464, 3280, 3)\n",
            "pad shape is [(48, 48), (152, 152), (0, 0)]\n",
            "output shape (2560, 3584, 3)\n",
            "input shape (2464, 3280, 3)\n",
            "pad shape is [(48, 48), (152, 152), (0, 0)]\n",
            "output shape (2560, 3584, 3)\n",
            "input shape (2464, 3280, 3)\n",
            "pad shape is [(48, 48), (152, 152), (0, 0)]\n",
            "output shape (2560, 3584, 3)\n",
            "input shape (2464, 3280, 3)\n",
            "pad shape is [(48, 48), (152, 152), (0, 0)]\n",
            "output shape (2560, 3584, 3)\n",
            "input shape (2464, 3280, 3)\n",
            "pad shape is [(48, 48), (152, 152), (0, 0)]\n",
            "output shape (2560, 3584, 3)\n",
            "input shape (2464, 3280, 3)\n",
            "pad shape is [(48, 48), (152, 152), (0, 0)]\n",
            "output shape (2560, 3584, 3)\n",
            "input shape (2464, 3280, 3)\n",
            "pad shape is [(48, 48), (152, 152), (0, 0)]\n",
            "output shape (2560, 3584, 3)\n",
            "input shape (2464, 3280, 3)\n",
            "pad shape is [(48, 48), (152, 152), (0, 0)]\n",
            "output shape (2560, 3584, 3)\n",
            "input shape (2464, 3280, 3)\n",
            "pad shape is [(48, 48), (152, 152), (0, 0)]\n",
            "output shape (2560, 3584, 3)\n",
            "input shape (2464, 3280, 3)\n",
            "pad shape is [(48, 48), (152, 152), (0, 0)]\n",
            "output shape (2560, 3584, 3)\n",
            "input shape (2464, 3280, 3)\n",
            "pad shape is [(48, 48), (152, 152), (0, 0)]\n",
            "output shape (2560, 3584, 3)\n",
            "input shape (2464, 3280, 3)\n",
            "pad shape is [(48, 48), (152, 152), (0, 0)]\n",
            "output shape (2560, 3584, 3)\n",
            "input shape (2464, 3280, 3)\n",
            "pad shape is [(48, 48), (152, 152), (0, 0)]\n",
            "output shape (2560, 3584, 3)\n",
            "input shape (2464, 3280, 3)\n",
            "pad shape is [(48, 48), (152, 152), (0, 0)]\n",
            "output shape (2560, 3584, 3)\n",
            "input shape (2464, 3280, 3)\n",
            "pad shape is [(48, 48), (152, 152), (0, 0)]\n",
            "output shape (2560, 3584, 3)\n",
            "input shape (2464, 3280, 3)\n",
            "pad shape is [(48, 48), (152, 152), (0, 0)]\n",
            "output shape (2560, 3584, 3)\n",
            "input shape (2464, 3280, 3)\n",
            "pad shape is [(48, 48), (152, 152), (0, 0)]\n",
            "output shape (2560, 3584, 3)\n",
            "input shape (2464, 3280, 3)\n",
            "pad shape is [(48, 48), (152, 152), (0, 0)]\n",
            "output shape (2560, 3584, 3)\n",
            "input shape (2464, 3280, 3)\n",
            "pad shape is [(48, 48), (152, 152), (0, 0)]\n",
            "output shape (2560, 3584, 3)\n",
            "input shape (2464, 3280, 3)\n",
            "pad shape is [(48, 48), (152, 152), (0, 0)]\n",
            "output shape (2560, 3584, 3)\n",
            "input shape (2464, 3280, 3)\n",
            "pad shape is [(48, 48), (152, 152), (0, 0)]\n",
            "output shape (2560, 3584, 3)\n",
            "input shape (2464, 3280, 3)\n",
            "pad shape is [(48, 48), (152, 152), (0, 0)]\n",
            "output shape (2560, 3584, 3)\n",
            "input shape (2464, 3280, 3)\n",
            "pad shape is [(48, 48), (152, 152), (0, 0)]\n",
            "output shape (2560, 3584, 3)\n",
            "input shape (2464, 3280, 3)\n",
            "pad shape is [(48, 48), (152, 152), (0, 0)]\n",
            "output shape (2560, 3584, 3)\n",
            "input shape (2464, 3280, 3)\n",
            "pad shape is [(48, 48), (152, 152), (0, 0)]\n",
            "output shape (2560, 3584, 3)\n",
            "input shape (2464, 3280, 3)\n",
            "pad shape is [(48, 48), (152, 152), (0, 0)]\n",
            "output shape (2560, 3584, 3)\n",
            "input shape (2464, 3280, 3)\n",
            "pad shape is [(48, 48), (152, 152), (0, 0)]\n",
            "output shape (2560, 3584, 3)\n",
            "input shape (2464, 3280, 3)\n",
            "pad shape is [(48, 48), (152, 152), (0, 0)]\n",
            "output shape (2560, 3584, 3)\n",
            "input shape (2464, 3280, 3)\n",
            "pad shape is [(48, 48), (152, 152), (0, 0)]\n",
            "output shape (2560, 3584, 3)\n",
            "input shape (2464, 3280, 3)\n",
            "pad shape is [(48, 48), (152, 152), (0, 0)]\n",
            "output shape (2560, 3584, 3)\n",
            "input shape (2464, 3280, 3)\n",
            "pad shape is [(48, 48), (152, 152), (0, 0)]\n",
            "output shape (2560, 3584, 3)\n",
            "input shape (2464, 3280, 3)\n",
            "pad shape is [(48, 48), (152, 152), (0, 0)]\n",
            "output shape (2560, 3584, 3)\n",
            "input shape (2464, 3280, 3)\n",
            "pad shape is [(48, 48), (152, 152), (0, 0)]\n",
            "output shape (2560, 3584, 3)\n",
            "input shape (2464, 3280, 3)\n",
            "pad shape is [(48, 48), (152, 152), (0, 0)]\n",
            "output shape (2560, 3584, 3)\n",
            "input shape (2464, 3280, 3)\n",
            "pad shape is [(48, 48), (152, 152), (0, 0)]\n",
            "output shape (2560, 3584, 3)\n",
            "input shape (2464, 3280, 3)\n",
            "pad shape is [(48, 48), (152, 152), (0, 0)]\n",
            "output shape (2560, 3584, 3)\n",
            "input shape (2464, 3280, 3)\n",
            "pad shape is [(48, 48), (152, 152), (0, 0)]\n",
            "output shape (2560, 3584, 3)\n",
            "input shape (2464, 3280, 3)\n",
            "pad shape is [(48, 48), (152, 152), (0, 0)]\n",
            "output shape (2560, 3584, 3)\n",
            "input shape (2464, 3280, 3)\n",
            "pad shape is [(48, 48), (152, 152), (0, 0)]\n",
            "output shape (2560, 3584, 3)\n",
            "input shape (2464, 3280, 3)\n",
            "pad shape is [(48, 48), (152, 152), (0, 0)]\n",
            "output shape (2560, 3584, 3)\n",
            "input shape (2464, 3280, 3)\n",
            "pad shape is [(48, 48), (152, 152), (0, 0)]\n",
            "output shape (2560, 3584, 3)\n",
            "input shape (2464, 3280, 3)\n",
            "pad shape is [(48, 48), (152, 152), (0, 0)]\n",
            "output shape (2560, 3584, 3)\n",
            "input shape (2464, 3280, 3)\n",
            "pad shape is [(48, 48), (152, 152), (0, 0)]\n",
            "output shape (2560, 3584, 3)\n",
            "input shape (2464, 3280, 3)\n",
            "pad shape is [(48, 48), (152, 152), (0, 0)]\n",
            "output shape (2560, 3584, 3)\n",
            "input shape (2464, 3280, 3)\n",
            "pad shape is [(48, 48), (152, 152), (0, 0)]\n",
            "output shape (2560, 3584, 3)\n",
            "input shape (2464, 3280, 3)\n",
            "pad shape is [(48, 48), (152, 152), (0, 0)]\n",
            "output shape (2560, 3584, 3)\n",
            "input shape (2464, 3280, 3)\n",
            "pad shape is [(48, 48), (152, 152), (0, 0)]\n",
            "output shape (2560, 3584, 3)\n",
            "input shape (2464, 3280, 3)\n",
            "pad shape is [(48, 48), (152, 152), (0, 0)]\n",
            "output shape (2560, 3584, 3)\n",
            "input shape (2464, 3280, 3)\n",
            "pad shape is [(48, 48), (152, 152), (0, 0)]\n",
            "output shape (2560, 3584, 3)\n",
            "input shape (2464, 3280, 3)\n",
            "pad shape is [(48, 48), (152, 152), (0, 0)]\n",
            "output shape (2560, 3584, 3)\n",
            "input shape (2464, 3280, 3)\n",
            "pad shape is [(48, 48), (152, 152), (0, 0)]\n",
            "output shape (2560, 3584, 3)\n",
            "input shape (2464, 3280, 3)\n",
            "pad shape is [(48, 48), (152, 152), (0, 0)]\n",
            "output shape (2560, 3584, 3)\n",
            "input shape (2464, 3280, 3)\n",
            "pad shape is [(48, 48), (152, 152), (0, 0)]\n",
            "output shape (2560, 3584, 3)\n",
            "input shape (2464, 3280, 3)\n",
            "pad shape is [(48, 48), (152, 152), (0, 0)]\n",
            "output shape (2560, 3584, 3)\n",
            "input shape (2464, 3280, 3)\n",
            "pad shape is [(48, 48), (152, 152), (0, 0)]\n",
            "output shape (2560, 3584, 3)\n",
            "input shape (2464, 3280, 3)\n",
            "pad shape is [(48, 48), (152, 152), (0, 0)]\n",
            "output shape (2560, 3584, 3)\n",
            "input shape (2464, 3280, 3)\n",
            "pad shape is [(48, 48), (152, 152), (0, 0)]\n",
            "output shape (2560, 3584, 3)\n",
            "input shape (2464, 3280, 3)\n",
            "pad shape is [(48, 48), (152, 152), (0, 0)]\n",
            "output shape (2560, 3584, 3)\n",
            "input shape (2464, 3280, 3)\n",
            "pad shape is [(48, 48), (152, 152), (0, 0)]\n",
            "output shape (2560, 3584, 3)\n",
            "input shape (2464, 3280, 3)\n",
            "pad shape is [(48, 48), (152, 152), (0, 0)]\n",
            "output shape (2560, 3584, 3)\n",
            "input shape (2464, 3280, 3)\n",
            "pad shape is [(48, 48), (152, 152), (0, 0)]\n",
            "output shape (2560, 3584, 3)\n",
            "input shape (2464, 3280, 3)\n",
            "pad shape is [(48, 48), (152, 152), (0, 0)]\n",
            "output shape (2560, 3584, 3)\n",
            "input shape (2464, 3280, 3)\n",
            "pad shape is [(48, 48), (152, 152), (0, 0)]\n",
            "output shape (2560, 3584, 3)\n",
            "input shape (2464, 3280, 3)\n",
            "pad shape is [(48, 48), (152, 152), (0, 0)]\n",
            "output shape (2560, 3584, 3)\n",
            "input shape (2464, 3280, 3)\n",
            "pad shape is [(48, 48), (152, 152), (0, 0)]\n",
            "output shape (2560, 3584, 3)\n",
            "input shape (2464, 3280, 3)\n",
            "pad shape is [(48, 48), (152, 152), (0, 0)]\n",
            "output shape (2560, 3584, 3)\n",
            "input shape (2464, 3280, 3)\n",
            "pad shape is [(48, 48), (152, 152), (0, 0)]\n",
            "output shape (2560, 3584, 3)\n",
            "input shape (2464, 3280, 3)\n",
            "pad shape is [(48, 48), (152, 152), (0, 0)]\n",
            "output shape (2560, 3584, 3)\n",
            "input shape (2464, 3280, 3)\n",
            "pad shape is [(48, 48), (152, 152), (0, 0)]\n",
            "output shape (2560, 3584, 3)\n",
            "input shape (2464, 3280, 3)\n",
            "pad shape is [(48, 48), (152, 152), (0, 0)]\n",
            "output shape (2560, 3584, 3)\n",
            "input shape (2464, 3280, 3)\n",
            "pad shape is [(48, 48), (152, 152), (0, 0)]\n",
            "output shape (2560, 3584, 3)\n",
            "input shape (2464, 3280, 3)\n",
            "pad shape is [(48, 48), (152, 152), (0, 0)]\n",
            "output shape (2560, 3584, 3)\n",
            "input shape (2464, 3280, 3)\n",
            "pad shape is [(48, 48), (152, 152), (0, 0)]\n",
            "output shape (2560, 3584, 3)\n",
            "input shape (2464, 3280, 3)\n",
            "pad shape is [(48, 48), (152, 152), (0, 0)]\n",
            "output shape (2560, 3584, 3)\n",
            "input shape (2464, 3280, 3)\n",
            "pad shape is [(48, 48), (152, 152), (0, 0)]\n",
            "output shape (2560, 3584, 3)\n",
            "input shape (2464, 3280, 3)\n",
            "pad shape is [(48, 48), (152, 152), (0, 0)]\n",
            "output shape (2560, 3584, 3)\n",
            "input shape (2464, 3280, 3)\n",
            "pad shape is [(48, 48), (152, 152), (0, 0)]\n",
            "output shape (2560, 3584, 3)\n",
            "input shape (2464, 3280, 3)\n",
            "pad shape is [(48, 48), (152, 152), (0, 0)]\n",
            "output shape (2560, 3584, 3)\n",
            "input shape (2464, 3280, 3)\n",
            "pad shape is [(48, 48), (152, 152), (0, 0)]\n",
            "output shape (2560, 3584, 3)\n",
            "input shape (2464, 3280, 3)\n",
            "pad shape is [(48, 48), (152, 152), (0, 0)]\n",
            "output shape (2560, 3584, 3)\n",
            "input shape (2464, 3280, 3)\n",
            "pad shape is [(48, 48), (152, 152), (0, 0)]\n",
            "output shape (2560, 3584, 3)\n",
            "input shape (2464, 3280, 3)\n",
            "pad shape is [(48, 48), (152, 152), (0, 0)]\n",
            "output shape (2560, 3584, 3)\n",
            "input shape (2464, 3280, 3)\n",
            "pad shape is [(48, 48), (152, 152), (0, 0)]\n",
            "output shape (2560, 3584, 3)\n",
            "input shape (2464, 3280, 3)\n",
            "pad shape is [(48, 48), (152, 152), (0, 0)]\n",
            "output shape (2560, 3584, 3)\n",
            "input shape (2464, 3280, 3)\n",
            "pad shape is [(48, 48), (152, 152), (0, 0)]\n",
            "output shape (2560, 3584, 3)\n",
            "input shape (2464, 3280, 3)\n",
            "pad shape is [(48, 48), (152, 152), (0, 0)]\n",
            "output shape (2560, 3584, 3)\n",
            "input shape (819, 1228, 3)\n",
            "pad shape is [(102, 103), (154, 154), (0, 0)]\n",
            "output shape (1024, 1536, 3)\n",
            "input shape (819, 1228, 3)\n",
            "pad shape is [(102, 103), (154, 154), (0, 0)]\n",
            "output shape (1024, 1536, 3)\n",
            "input shape (819, 1227, 3)\n",
            "pad shape is [(102, 103), (154, 155), (0, 0)]\n",
            "output shape (1024, 1536, 3)\n",
            "input shape (819, 1227, 3)\n",
            "pad shape is [(102, 103), (154, 155), (0, 0)]\n",
            "output shape (1024, 1536, 3)\n",
            "input shape (819, 1228, 3)\n",
            "pad shape is [(102, 103), (154, 154), (0, 0)]\n",
            "output shape (1024, 1536, 3)\n",
            "input shape (819, 1228, 3)\n",
            "pad shape is [(102, 103), (154, 154), (0, 0)]\n",
            "output shape (1024, 1536, 3)\n",
            "input shape (820, 1227, 3)\n",
            "pad shape is [(102, 102), (154, 155), (0, 0)]\n",
            "output shape (1024, 1536, 3)\n",
            "input shape (820, 1227, 3)\n",
            "pad shape is [(102, 102), (154, 155), (0, 0)]\n",
            "output shape (1024, 1536, 3)\n",
            "input shape (820, 1228, 3)\n",
            "pad shape is [(102, 102), (154, 154), (0, 0)]\n",
            "output shape (1024, 1536, 3)\n",
            "input shape (820, 1228, 3)\n",
            "pad shape is [(102, 102), (154, 154), (0, 0)]\n",
            "output shape (1024, 1536, 3)\n",
            "input shape (820, 1227, 3)\n",
            "pad shape is [(102, 102), (154, 155), (0, 0)]\n",
            "output shape (1024, 1536, 3)\n",
            "input shape (820, 1227, 3)\n",
            "pad shape is [(102, 102), (154, 155), (0, 0)]\n",
            "output shape (1024, 1536, 3)\n",
            "input shape (819, 1229, 3)\n",
            "pad shape is [(102, 103), (153, 154), (0, 0)]\n",
            "output shape (1024, 1536, 3)\n",
            "input shape (819, 1229, 3)\n",
            "pad shape is [(102, 103), (153, 154), (0, 0)]\n",
            "output shape (1024, 1536, 3)\n",
            "input shape (820, 1228, 3)\n",
            "pad shape is [(102, 102), (154, 154), (0, 0)]\n",
            "output shape (1024, 1536, 3)\n",
            "input shape (820, 1228, 3)\n",
            "pad shape is [(102, 102), (154, 154), (0, 0)]\n",
            "output shape (1024, 1536, 3)\n",
            "input shape (820, 1228, 3)\n",
            "pad shape is [(102, 102), (154, 154), (0, 0)]\n",
            "output shape (1024, 1536, 3)\n",
            "input shape (820, 1228, 3)\n",
            "pad shape is [(102, 102), (154, 154), (0, 0)]\n",
            "output shape (1024, 1536, 3)\n",
            "input shape (819, 1227, 3)\n",
            "pad shape is [(102, 103), (154, 155), (0, 0)]\n",
            "output shape (1024, 1536, 3)\n",
            "input shape (819, 1227, 3)\n",
            "pad shape is [(102, 103), (154, 155), (0, 0)]\n",
            "output shape (1024, 1536, 3)\n",
            "input shape (820, 1228, 3)\n",
            "pad shape is [(102, 102), (154, 154), (0, 0)]\n",
            "output shape (1024, 1536, 3)\n",
            "input shape (820, 1228, 3)\n",
            "pad shape is [(102, 102), (154, 154), (0, 0)]\n",
            "output shape (1024, 1536, 3)\n",
            "input shape (820, 1227, 3)\n",
            "pad shape is [(102, 102), (154, 155), (0, 0)]\n",
            "output shape (1024, 1536, 3)\n",
            "input shape (820, 1227, 3)\n",
            "pad shape is [(102, 102), (154, 155), (0, 0)]\n",
            "output shape (1024, 1536, 3)\n",
            "input shape (820, 1227, 3)\n",
            "pad shape is [(102, 102), (154, 155), (0, 0)]\n",
            "output shape (1024, 1536, 3)\n",
            "input shape (820, 1227, 3)\n",
            "pad shape is [(102, 102), (154, 155), (0, 0)]\n",
            "output shape (1024, 1536, 3)\n",
            "input shape (820, 1227, 3)\n",
            "pad shape is [(102, 102), (154, 155), (0, 0)]\n",
            "output shape (1024, 1536, 3)\n",
            "input shape (820, 1227, 3)\n",
            "pad shape is [(102, 102), (154, 155), (0, 0)]\n",
            "output shape (1024, 1536, 3)\n",
            "input shape (821, 1226, 3)\n",
            "pad shape is [(101, 102), (155, 155), (0, 0)]\n",
            "output shape (1024, 1536, 3)\n",
            "input shape (821, 1226, 3)\n",
            "pad shape is [(101, 102), (155, 155), (0, 0)]\n",
            "output shape (1024, 1536, 3)\n",
            "input shape (820, 1228, 3)\n",
            "pad shape is [(102, 102), (154, 154), (0, 0)]\n",
            "output shape (1024, 1536, 3)\n",
            "input shape (820, 1228, 3)\n",
            "pad shape is [(102, 102), (154, 154), (0, 0)]\n",
            "output shape (1024, 1536, 3)\n",
            "input shape (819, 1228, 3)\n",
            "pad shape is [(102, 103), (154, 154), (0, 0)]\n",
            "output shape (1024, 1536, 3)\n",
            "input shape (819, 1228, 3)\n",
            "pad shape is [(102, 103), (154, 154), (0, 0)]\n",
            "output shape (1024, 1536, 3)\n",
            "input shape (821, 1228, 3)\n",
            "pad shape is [(101, 102), (154, 154), (0, 0)]\n",
            "output shape (1024, 1536, 3)\n",
            "input shape (821, 1228, 3)\n",
            "pad shape is [(101, 102), (154, 154), (0, 0)]\n",
            "output shape (1024, 1536, 3)\n",
            "input shape (819, 1227, 3)\n",
            "pad shape is [(102, 103), (154, 155), (0, 0)]\n",
            "output shape (1024, 1536, 3)\n",
            "input shape (819, 1227, 3)\n",
            "pad shape is [(102, 103), (154, 155), (0, 0)]\n",
            "output shape (1024, 1536, 3)\n",
            "input shape (819, 1227, 3)\n",
            "pad shape is [(102, 103), (154, 155), (0, 0)]\n",
            "output shape (1024, 1536, 3)\n",
            "input shape (819, 1227, 3)\n",
            "pad shape is [(102, 103), (154, 155), (0, 0)]\n",
            "output shape (1024, 1536, 3)\n",
            "input shape (819, 1227, 3)\n",
            "pad shape is [(102, 103), (154, 155), (0, 0)]\n",
            "output shape (1024, 1536, 3)\n",
            "input shape (819, 1227, 3)\n",
            "pad shape is [(102, 103), (154, 155), (0, 0)]\n",
            "output shape (1024, 1536, 3)\n",
            "input shape (819, 1227, 3)\n",
            "pad shape is [(102, 103), (154, 155), (0, 0)]\n",
            "output shape (1024, 1536, 3)\n",
            "input shape (819, 1227, 3)\n",
            "pad shape is [(102, 103), (154, 155), (0, 0)]\n",
            "output shape (1024, 1536, 3)\n",
            "input shape (818, 1225, 3)\n",
            "pad shape is [(103, 103), (155, 156), (0, 0)]\n",
            "output shape (1024, 1536, 3)\n",
            "input shape (818, 1225, 3)\n",
            "pad shape is [(103, 103), (155, 156), (0, 0)]\n",
            "output shape (1024, 1536, 3)\n",
            "input shape (819, 1227, 3)\n",
            "pad shape is [(102, 103), (154, 155), (0, 0)]\n",
            "output shape (1024, 1536, 3)\n",
            "input shape (819, 1227, 3)\n",
            "pad shape is [(102, 103), (154, 155), (0, 0)]\n",
            "output shape (1024, 1536, 3)\n",
            "input shape (822, 1228, 3)\n",
            "pad shape is [(101, 101), (154, 154), (0, 0)]\n",
            "output shape (1024, 1536, 3)\n",
            "input shape (822, 1228, 3)\n",
            "pad shape is [(101, 101), (154, 154), (0, 0)]\n",
            "output shape (1024, 1536, 3)\n",
            "input shape (819, 1226, 3)\n",
            "pad shape is [(102, 103), (155, 155), (0, 0)]\n",
            "output shape (1024, 1536, 3)\n",
            "input shape (819, 1226, 3)\n",
            "pad shape is [(102, 103), (155, 155), (0, 0)]\n",
            "output shape (1024, 1536, 3)\n",
            "input shape (820, 1227, 3)\n",
            "pad shape is [(102, 102), (154, 155), (0, 0)]\n",
            "output shape (1024, 1536, 3)\n",
            "input shape (820, 1227, 3)\n",
            "pad shape is [(102, 102), (154, 155), (0, 0)]\n",
            "output shape (1024, 1536, 3)\n",
            "input shape (819, 1226, 3)\n",
            "pad shape is [(102, 103), (155, 155), (0, 0)]\n",
            "output shape (1024, 1536, 3)\n",
            "input shape (819, 1226, 3)\n",
            "pad shape is [(102, 103), (155, 155), (0, 0)]\n",
            "output shape (1024, 1536, 3)\n",
            "input shape (819, 1227, 3)\n",
            "pad shape is [(102, 103), (154, 155), (0, 0)]\n",
            "output shape (1024, 1536, 3)\n",
            "input shape (819, 1227, 3)\n",
            "pad shape is [(102, 103), (154, 155), (0, 0)]\n",
            "output shape (1024, 1536, 3)\n",
            "input shape (820, 1227, 3)\n",
            "pad shape is [(102, 102), (154, 155), (0, 0)]\n",
            "output shape (1024, 1536, 3)\n",
            "input shape (820, 1227, 3)\n",
            "pad shape is [(102, 102), (154, 155), (0, 0)]\n",
            "output shape (1024, 1536, 3)\n",
            "input shape (820, 1227, 3)\n",
            "pad shape is [(102, 102), (154, 155), (0, 0)]\n",
            "output shape (1024, 1536, 3)\n",
            "input shape (820, 1227, 3)\n",
            "pad shape is [(102, 102), (154, 155), (0, 0)]\n",
            "output shape (1024, 1536, 3)\n",
            "input shape (819, 1228, 3)\n",
            "pad shape is [(102, 103), (154, 154), (0, 0)]\n",
            "output shape (1024, 1536, 3)\n",
            "input shape (819, 1228, 3)\n",
            "pad shape is [(102, 103), (154, 154), (0, 0)]\n",
            "output shape (1024, 1536, 3)\n",
            "input shape (817, 1226, 3)\n",
            "pad shape is [(103, 104), (155, 155), (0, 0)]\n",
            "output shape (1024, 1536, 3)\n",
            "input shape (817, 1226, 3)\n",
            "pad shape is [(103, 104), (155, 155), (0, 0)]\n",
            "output shape (1024, 1536, 3)\n",
            "input shape (820, 1227, 3)\n",
            "pad shape is [(102, 102), (154, 155), (0, 0)]\n",
            "output shape (1024, 1536, 3)\n",
            "input shape (820, 1227, 3)\n",
            "pad shape is [(102, 102), (154, 155), (0, 0)]\n",
            "output shape (1024, 1536, 3)\n",
            "input shape (820, 1227, 3)\n",
            "pad shape is [(102, 102), (154, 155), (0, 0)]\n",
            "output shape (1024, 1536, 3)\n",
            "input shape (820, 1227, 3)\n",
            "pad shape is [(102, 102), (154, 155), (0, 0)]\n",
            "output shape (1024, 1536, 3)\n",
            "input shape (820, 1227, 3)\n",
            "pad shape is [(102, 102), (154, 155), (0, 0)]\n",
            "output shape (1024, 1536, 3)\n",
            "input shape (820, 1227, 3)\n",
            "pad shape is [(102, 102), (154, 155), (0, 0)]\n",
            "output shape (1024, 1536, 3)\n",
            "input shape (819, 1228, 3)\n",
            "pad shape is [(102, 103), (154, 154), (0, 0)]\n",
            "output shape (1024, 1536, 3)\n",
            "input shape (819, 1228, 3)\n",
            "pad shape is [(102, 103), (154, 154), (0, 0)]\n",
            "output shape (1024, 1536, 3)\n",
            "input shape (820, 1227, 3)\n",
            "pad shape is [(102, 102), (154, 155), (0, 0)]\n",
            "output shape (1024, 1536, 3)\n",
            "input shape (820, 1227, 3)\n",
            "pad shape is [(102, 102), (154, 155), (0, 0)]\n",
            "output shape (1024, 1536, 3)\n",
            "input shape (818, 1229, 3)\n",
            "pad shape is [(103, 103), (153, 154), (0, 0)]\n",
            "output shape (1024, 1536, 3)\n",
            "input shape (818, 1229, 3)\n",
            "pad shape is [(103, 103), (153, 154), (0, 0)]\n",
            "output shape (1024, 1536, 3)\n",
            "input shape (821, 1228, 3)\n",
            "pad shape is [(101, 102), (154, 154), (0, 0)]\n",
            "output shape (1024, 1536, 3)\n",
            "input shape (821, 1228, 3)\n",
            "pad shape is [(101, 102), (154, 154), (0, 0)]\n",
            "output shape (1024, 1536, 3)\n",
            "input shape (820, 1227, 3)\n",
            "pad shape is [(102, 102), (154, 155), (0, 0)]\n",
            "output shape (1024, 1536, 3)\n",
            "input shape (820, 1227, 3)\n",
            "pad shape is [(102, 102), (154, 155), (0, 0)]\n",
            "output shape (1024, 1536, 3)\n",
            "input shape (820, 1228, 3)\n",
            "pad shape is [(102, 102), (154, 154), (0, 0)]\n",
            "output shape (1024, 1536, 3)\n",
            "input shape (820, 1228, 3)\n",
            "pad shape is [(102, 102), (154, 154), (0, 0)]\n",
            "output shape (1024, 1536, 3)\n",
            "input shape (822, 1226, 3)\n",
            "pad shape is [(101, 101), (155, 155), (0, 0)]\n",
            "output shape (1024, 1536, 3)\n",
            "input shape (822, 1226, 3)\n",
            "pad shape is [(101, 101), (155, 155), (0, 0)]\n",
            "output shape (1024, 1536, 3)\n",
            "input shape (820, 1226, 3)\n",
            "pad shape is [(102, 102), (155, 155), (0, 0)]\n",
            "output shape (1024, 1536, 3)\n",
            "input shape (820, 1226, 3)\n",
            "pad shape is [(102, 102), (155, 155), (0, 0)]\n",
            "output shape (1024, 1536, 3)\n",
            "input shape (821, 1227, 3)\n",
            "pad shape is [(101, 102), (154, 155), (0, 0)]\n",
            "output shape (1024, 1536, 3)\n",
            "input shape (821, 1227, 3)\n",
            "pad shape is [(101, 102), (154, 155), (0, 0)]\n",
            "output shape (1024, 1536, 3)\n",
            "input shape (820, 1228, 3)\n",
            "pad shape is [(102, 102), (154, 154), (0, 0)]\n",
            "output shape (1024, 1536, 3)\n",
            "input shape (820, 1228, 3)\n",
            "pad shape is [(102, 102), (154, 154), (0, 0)]\n",
            "output shape (1024, 1536, 3)\n",
            "input shape (820, 1228, 3)\n",
            "pad shape is [(102, 102), (154, 154), (0, 0)]\n",
            "output shape (1024, 1536, 3)\n",
            "input shape (820, 1228, 3)\n",
            "pad shape is [(102, 102), (154, 154), (0, 0)]\n",
            "output shape (1024, 1536, 3)\n",
            "input shape (820, 1228, 3)\n",
            "pad shape is [(102, 102), (154, 154), (0, 0)]\n",
            "output shape (1024, 1536, 3)\n",
            "input shape (820, 1228, 3)\n",
            "pad shape is [(102, 102), (154, 154), (0, 0)]\n",
            "output shape (1024, 1536, 3)\n",
            "input shape (819, 1227, 3)\n",
            "pad shape is [(102, 103), (154, 155), (0, 0)]\n",
            "output shape (1024, 1536, 3)\n",
            "input shape (819, 1227, 3)\n",
            "pad shape is [(102, 103), (154, 155), (0, 0)]\n",
            "output shape (1024, 1536, 3)\n",
            "input shape (820, 1229, 3)\n",
            "pad shape is [(102, 102), (153, 154), (0, 0)]\n",
            "output shape (1024, 1536, 3)\n",
            "input shape (820, 1229, 3)\n",
            "pad shape is [(102, 102), (153, 154), (0, 0)]\n",
            "output shape (1024, 1536, 3)\n",
            "input shape (820, 1226, 3)\n",
            "pad shape is [(102, 102), (155, 155), (0, 0)]\n",
            "output shape (1024, 1536, 3)\n",
            "input shape (820, 1226, 3)\n",
            "pad shape is [(102, 102), (155, 155), (0, 0)]\n",
            "output shape (1024, 1536, 3)\n",
            "input shape (819, 1227, 3)\n",
            "pad shape is [(102, 103), (154, 155), (0, 0)]\n",
            "output shape (1024, 1536, 3)\n",
            "input shape (819, 1227, 3)\n",
            "pad shape is [(102, 103), (154, 155), (0, 0)]\n",
            "output shape (1024, 1536, 3)\n",
            "input shape (820, 1226, 3)\n",
            "pad shape is [(102, 102), (155, 155), (0, 0)]\n",
            "output shape (1024, 1536, 3)\n",
            "input shape (820, 1226, 3)\n",
            "pad shape is [(102, 102), (155, 155), (0, 0)]\n",
            "output shape (1024, 1536, 3)\n",
            "input shape (819, 1226, 3)\n",
            "pad shape is [(102, 103), (155, 155), (0, 0)]\n",
            "output shape (1024, 1536, 3)\n",
            "input shape (819, 1226, 3)\n",
            "pad shape is [(102, 103), (155, 155), (0, 0)]\n",
            "output shape (1024, 1536, 3)\n",
            "input shape (820, 1226, 3)\n",
            "pad shape is [(102, 102), (155, 155), (0, 0)]\n",
            "output shape (1024, 1536, 3)\n",
            "input shape (820, 1226, 3)\n",
            "pad shape is [(102, 102), (155, 155), (0, 0)]\n",
            "output shape (1024, 1536, 3)\n",
            "input shape (820, 1226, 3)\n",
            "pad shape is [(102, 102), (155, 155), (0, 0)]\n",
            "output shape (1024, 1536, 3)\n",
            "input shape (820, 1226, 3)\n",
            "pad shape is [(102, 102), (155, 155), (0, 0)]\n",
            "output shape (1024, 1536, 3)\n",
            "input shape (819, 1228, 3)\n",
            "pad shape is [(102, 103), (154, 154), (0, 0)]\n",
            "output shape (1024, 1536, 3)\n",
            "input shape (819, 1228, 3)\n",
            "pad shape is [(102, 103), (154, 154), (0, 0)]\n",
            "output shape (1024, 1536, 3)\n",
            "input shape (819, 1229, 3)\n",
            "pad shape is [(102, 103), (153, 154), (0, 0)]\n",
            "output shape (1024, 1536, 3)\n",
            "input shape (819, 1229, 3)\n",
            "pad shape is [(102, 103), (153, 154), (0, 0)]\n",
            "output shape (1024, 1536, 3)\n",
            "input shape (819, 1228, 3)\n",
            "pad shape is [(102, 103), (154, 154), (0, 0)]\n",
            "output shape (1024, 1536, 3)\n",
            "input shape (819, 1228, 3)\n",
            "pad shape is [(102, 103), (154, 154), (0, 0)]\n",
            "output shape (1024, 1536, 3)\n",
            "input shape (819, 1227, 3)\n",
            "pad shape is [(102, 103), (154, 155), (0, 0)]\n",
            "output shape (1024, 1536, 3)\n",
            "input shape (819, 1227, 3)\n",
            "pad shape is [(102, 103), (154, 155), (0, 0)]\n",
            "output shape (1024, 1536, 3)\n",
            "input shape (818, 1227, 3)\n",
            "pad shape is [(103, 103), (154, 155), (0, 0)]\n",
            "output shape (1024, 1536, 3)\n",
            "input shape (818, 1227, 3)\n",
            "pad shape is [(103, 103), (154, 155), (0, 0)]\n",
            "output shape (1024, 1536, 3)\n",
            "input shape (820, 1228, 3)\n",
            "pad shape is [(102, 102), (154, 154), (0, 0)]\n",
            "output shape (1024, 1536, 3)\n",
            "input shape (820, 1228, 3)\n",
            "pad shape is [(102, 102), (154, 154), (0, 0)]\n",
            "output shape (1024, 1536, 3)\n",
            "input shape (819, 1226, 3)\n",
            "pad shape is [(102, 103), (155, 155), (0, 0)]\n",
            "output shape (1024, 1536, 3)\n",
            "input shape (819, 1226, 3)\n",
            "pad shape is [(102, 103), (155, 155), (0, 0)]\n",
            "output shape (1024, 1536, 3)\n",
            "input shape (819, 1227, 3)\n",
            "pad shape is [(102, 103), (154, 155), (0, 0)]\n",
            "output shape (1024, 1536, 3)\n",
            "input shape (819, 1227, 3)\n",
            "pad shape is [(102, 103), (154, 155), (0, 0)]\n",
            "output shape (1024, 1536, 3)\n",
            "input shape (819, 1227, 3)\n",
            "pad shape is [(102, 103), (154, 155), (0, 0)]\n",
            "output shape (1024, 1536, 3)\n",
            "input shape (819, 1227, 3)\n",
            "pad shape is [(102, 103), (154, 155), (0, 0)]\n",
            "output shape (1024, 1536, 3)\n",
            "input shape (820, 1227, 3)\n",
            "pad shape is [(102, 102), (154, 155), (0, 0)]\n",
            "output shape (1024, 1536, 3)\n",
            "input shape (820, 1227, 3)\n",
            "pad shape is [(102, 102), (154, 155), (0, 0)]\n",
            "output shape (1024, 1536, 3)\n",
            "input shape (820, 1228, 3)\n",
            "pad shape is [(102, 102), (154, 154), (0, 0)]\n",
            "output shape (1024, 1536, 3)\n",
            "input shape (820, 1228, 3)\n",
            "pad shape is [(102, 102), (154, 154), (0, 0)]\n",
            "output shape (1024, 1536, 3)\n",
            "input shape (820, 1227, 3)\n",
            "pad shape is [(102, 102), (154, 155), (0, 0)]\n",
            "output shape (1024, 1536, 3)\n",
            "input shape (820, 1227, 3)\n",
            "pad shape is [(102, 102), (154, 155), (0, 0)]\n",
            "output shape (1024, 1536, 3)\n",
            "input shape (820, 1227, 3)\n",
            "pad shape is [(102, 102), (154, 155), (0, 0)]\n",
            "output shape (1024, 1536, 3)\n",
            "input shape (820, 1227, 3)\n",
            "pad shape is [(102, 102), (154, 155), (0, 0)]\n",
            "output shape (1024, 1536, 3)\n",
            "input shape (820, 1226, 3)\n",
            "pad shape is [(102, 102), (155, 155), (0, 0)]\n",
            "output shape (1024, 1536, 3)\n",
            "input shape (820, 1226, 3)\n",
            "pad shape is [(102, 102), (155, 155), (0, 0)]\n",
            "output shape (1024, 1536, 3)\n",
            "input shape (819, 1227, 3)\n",
            "pad shape is [(102, 103), (154, 155), (0, 0)]\n",
            "output shape (1024, 1536, 3)\n",
            "input shape (819, 1227, 3)\n",
            "pad shape is [(102, 103), (154, 155), (0, 0)]\n",
            "output shape (1024, 1536, 3)\n",
            "input shape (819, 1226, 3)\n",
            "pad shape is [(102, 103), (155, 155), (0, 0)]\n",
            "output shape (1024, 1536, 3)\n",
            "input shape (819, 1226, 3)\n",
            "pad shape is [(102, 103), (155, 155), (0, 0)]\n",
            "output shape (1024, 1536, 3)\n",
            "input shape (819, 1227, 3)\n",
            "pad shape is [(102, 103), (154, 155), (0, 0)]\n",
            "output shape (1024, 1536, 3)\n",
            "input shape (819, 1227, 3)\n",
            "pad shape is [(102, 103), (154, 155), (0, 0)]\n",
            "output shape (1024, 1536, 3)\n",
            "input shape (819, 1226, 3)\n",
            "pad shape is [(102, 103), (155, 155), (0, 0)]\n",
            "output shape (1024, 1536, 3)\n",
            "input shape (819, 1226, 3)\n",
            "pad shape is [(102, 103), (155, 155), (0, 0)]\n",
            "output shape (1024, 1536, 3)\n",
            "input shape (819, 1226, 3)\n",
            "pad shape is [(102, 103), (155, 155), (0, 0)]\n",
            "output shape (1024, 1536, 3)\n",
            "input shape (819, 1226, 3)\n",
            "pad shape is [(102, 103), (155, 155), (0, 0)]\n",
            "output shape (1024, 1536, 3)\n",
            "input shape (820, 1226, 3)\n",
            "pad shape is [(102, 102), (155, 155), (0, 0)]\n",
            "output shape (1024, 1536, 3)\n",
            "input shape (820, 1226, 3)\n",
            "pad shape is [(102, 102), (155, 155), (0, 0)]\n",
            "output shape (1024, 1536, 3)\n",
            "input shape (819, 1227, 3)\n",
            "pad shape is [(102, 103), (154, 155), (0, 0)]\n",
            "output shape (1024, 1536, 3)\n",
            "input shape (819, 1227, 3)\n",
            "pad shape is [(102, 103), (154, 155), (0, 0)]\n",
            "output shape (1024, 1536, 3)\n",
            "input shape (819, 1228, 3)\n",
            "pad shape is [(102, 103), (154, 154), (0, 0)]\n",
            "output shape (1024, 1536, 3)\n",
            "input shape (819, 1228, 3)\n",
            "pad shape is [(102, 103), (154, 154), (0, 0)]\n",
            "output shape (1024, 1536, 3)\n",
            "input shape (818, 1227, 3)\n",
            "pad shape is [(103, 103), (154, 155), (0, 0)]\n",
            "output shape (1024, 1536, 3)\n",
            "input shape (818, 1227, 3)\n",
            "pad shape is [(103, 103), (154, 155), (0, 0)]\n",
            "output shape (1024, 1536, 3)\n",
            "input shape (818, 1227, 3)\n",
            "pad shape is [(103, 103), (154, 155), (0, 0)]\n",
            "output shape (1024, 1536, 3)\n",
            "input shape (818, 1227, 3)\n",
            "pad shape is [(103, 103), (154, 155), (0, 0)]\n",
            "output shape (1024, 1536, 3)\n",
            "input shape (819, 1227, 3)\n",
            "pad shape is [(102, 103), (154, 155), (0, 0)]\n",
            "output shape (1024, 1536, 3)\n",
            "input shape (819, 1227, 3)\n",
            "pad shape is [(102, 103), (154, 155), (0, 0)]\n",
            "output shape (1024, 1536, 3)\n",
            "input shape (818, 1226, 3)\n",
            "pad shape is [(103, 103), (155, 155), (0, 0)]\n",
            "output shape (1024, 1536, 3)\n",
            "input shape (818, 1226, 3)\n",
            "pad shape is [(103, 103), (155, 155), (0, 0)]\n",
            "output shape (1024, 1536, 3)\n",
            "input shape (819, 1228, 3)\n",
            "pad shape is [(102, 103), (154, 154), (0, 0)]\n",
            "output shape (1024, 1536, 3)\n",
            "input shape (819, 1228, 3)\n",
            "pad shape is [(102, 103), (154, 154), (0, 0)]\n",
            "output shape (1024, 1536, 3)\n",
            "input shape (819, 1228, 3)\n",
            "pad shape is [(102, 103), (154, 154), (0, 0)]\n",
            "output shape (1024, 1536, 3)\n",
            "input shape (819, 1228, 3)\n",
            "pad shape is [(102, 103), (154, 154), (0, 0)]\n",
            "output shape (1024, 1536, 3)\n",
            "input shape (817, 1225, 3)\n",
            "pad shape is [(103, 104), (155, 156), (0, 0)]\n",
            "output shape (1024, 1536, 3)\n",
            "input shape (817, 1225, 3)\n",
            "pad shape is [(103, 104), (155, 156), (0, 0)]\n",
            "output shape (1024, 1536, 3)\n",
            "input shape (819, 1228, 3)\n",
            "pad shape is [(102, 103), (154, 154), (0, 0)]\n",
            "output shape (1024, 1536, 3)\n",
            "input shape (819, 1228, 3)\n",
            "pad shape is [(102, 103), (154, 154), (0, 0)]\n",
            "output shape (1024, 1536, 3)\n",
            "input shape (819, 1226, 3)\n",
            "pad shape is [(102, 103), (155, 155), (0, 0)]\n",
            "output shape (1024, 1536, 3)\n",
            "input shape (819, 1226, 3)\n",
            "pad shape is [(102, 103), (155, 155), (0, 0)]\n",
            "output shape (1024, 1536, 3)\n",
            "input shape (819, 1228, 3)\n",
            "pad shape is [(102, 103), (154, 154), (0, 0)]\n",
            "output shape (1024, 1536, 3)\n",
            "input shape (819, 1228, 3)\n",
            "pad shape is [(102, 103), (154, 154), (0, 0)]\n",
            "output shape (1024, 1536, 3)\n",
            "input shape (819, 1227, 3)\n",
            "pad shape is [(102, 103), (154, 155), (0, 0)]\n",
            "output shape (1024, 1536, 3)\n",
            "input shape (819, 1227, 3)\n",
            "pad shape is [(102, 103), (154, 155), (0, 0)]\n",
            "output shape (1024, 1536, 3)\n",
            "input shape (821, 1226, 3)\n",
            "pad shape is [(101, 102), (155, 155), (0, 0)]\n",
            "output shape (1024, 1536, 3)\n",
            "input shape (821, 1226, 3)\n",
            "pad shape is [(101, 102), (155, 155), (0, 0)]\n",
            "output shape (1024, 1536, 3)\n",
            "input shape (820, 1227, 3)\n",
            "pad shape is [(102, 102), (154, 155), (0, 0)]\n",
            "output shape (1024, 1536, 3)\n",
            "input shape (820, 1227, 3)\n",
            "pad shape is [(102, 102), (154, 155), (0, 0)]\n",
            "output shape (1024, 1536, 3)\n",
            "input shape (820, 1228, 3)\n",
            "pad shape is [(102, 102), (154, 154), (0, 0)]\n",
            "output shape (1024, 1536, 3)\n",
            "input shape (820, 1228, 3)\n",
            "pad shape is [(102, 102), (154, 154), (0, 0)]\n",
            "output shape (1024, 1536, 3)\n",
            "input shape (820, 1228, 3)\n",
            "pad shape is [(102, 102), (154, 154), (0, 0)]\n",
            "output shape (1024, 1536, 3)\n",
            "input shape (820, 1228, 3)\n",
            "pad shape is [(102, 102), (154, 154), (0, 0)]\n",
            "output shape (1024, 1536, 3)\n",
            "input shape (821, 1226, 3)\n",
            "pad shape is [(101, 102), (155, 155), (0, 0)]\n",
            "output shape (1024, 1536, 3)\n",
            "input shape (821, 1226, 3)\n",
            "pad shape is [(101, 102), (155, 155), (0, 0)]\n",
            "output shape (1024, 1536, 3)\n",
            "input shape (821, 1225, 3)\n",
            "pad shape is [(101, 102), (155, 156), (0, 0)]\n",
            "output shape (1024, 1536, 3)\n",
            "input shape (821, 1225, 3)\n",
            "pad shape is [(101, 102), (155, 156), (0, 0)]\n",
            "output shape (1024, 1536, 3)\n",
            "input shape (821, 1227, 3)\n",
            "pad shape is [(101, 102), (154, 155), (0, 0)]\n",
            "output shape (1024, 1536, 3)\n",
            "input shape (821, 1227, 3)\n",
            "pad shape is [(101, 102), (154, 155), (0, 0)]\n",
            "output shape (1024, 1536, 3)\n",
            "input shape (821, 1226, 3)\n",
            "pad shape is [(101, 102), (155, 155), (0, 0)]\n",
            "output shape (1024, 1536, 3)\n",
            "input shape (821, 1226, 3)\n",
            "pad shape is [(101, 102), (155, 155), (0, 0)]\n",
            "output shape (1024, 1536, 3)\n",
            "input shape (821, 1226, 3)\n",
            "pad shape is [(101, 102), (155, 155), (0, 0)]\n",
            "output shape (1024, 1536, 3)\n",
            "input shape (821, 1226, 3)\n",
            "pad shape is [(101, 102), (155, 155), (0, 0)]\n",
            "output shape (1024, 1536, 3)\n",
            "input shape (821, 1225, 3)\n",
            "pad shape is [(101, 102), (155, 156), (0, 0)]\n",
            "output shape (1024, 1536, 3)\n",
            "input shape (821, 1225, 3)\n",
            "pad shape is [(101, 102), (155, 156), (0, 0)]\n",
            "output shape (1024, 1536, 3)\n",
            "input shape (821, 1227, 3)\n",
            "pad shape is [(101, 102), (154, 155), (0, 0)]\n",
            "output shape (1024, 1536, 3)\n",
            "input shape (821, 1227, 3)\n",
            "pad shape is [(101, 102), (154, 155), (0, 0)]\n",
            "output shape (1024, 1536, 3)\n",
            "input shape (820, 1227, 3)\n",
            "pad shape is [(102, 102), (154, 155), (0, 0)]\n",
            "output shape (1024, 1536, 3)\n",
            "input shape (820, 1227, 3)\n",
            "pad shape is [(102, 102), (154, 155), (0, 0)]\n",
            "output shape (1024, 1536, 3)\n",
            "input shape (820, 1227, 3)\n",
            "pad shape is [(102, 102), (154, 155), (0, 0)]\n",
            "output shape (1024, 1536, 3)\n",
            "input shape (820, 1227, 3)\n",
            "pad shape is [(102, 102), (154, 155), (0, 0)]\n",
            "output shape (1024, 1536, 3)\n",
            "input shape (821, 1227, 3)\n",
            "pad shape is [(101, 102), (154, 155), (0, 0)]\n",
            "output shape (1024, 1536, 3)\n",
            "input shape (821, 1227, 3)\n",
            "pad shape is [(101, 102), (154, 155), (0, 0)]\n",
            "output shape (1024, 1536, 3)\n",
            "input shape (822, 1227, 3)\n",
            "pad shape is [(101, 101), (154, 155), (0, 0)]\n",
            "output shape (1024, 1536, 3)\n",
            "input shape (822, 1227, 3)\n",
            "pad shape is [(101, 101), (154, 155), (0, 0)]\n",
            "output shape (1024, 1536, 3)\n",
            "input shape (820, 1227, 3)\n",
            "pad shape is [(102, 102), (154, 155), (0, 0)]\n",
            "output shape (1024, 1536, 3)\n",
            "input shape (820, 1227, 3)\n",
            "pad shape is [(102, 102), (154, 155), (0, 0)]\n",
            "output shape (1024, 1536, 3)\n",
            "input shape (821, 1227, 3)\n",
            "pad shape is [(101, 102), (154, 155), (0, 0)]\n",
            "output shape (1024, 1536, 3)\n",
            "input shape (821, 1227, 3)\n",
            "pad shape is [(101, 102), (154, 155), (0, 0)]\n",
            "output shape (1024, 1536, 3)\n",
            "input shape (820, 1227, 3)\n",
            "pad shape is [(102, 102), (154, 155), (0, 0)]\n",
            "output shape (1024, 1536, 3)\n",
            "input shape (820, 1227, 3)\n",
            "pad shape is [(102, 102), (154, 155), (0, 0)]\n",
            "output shape (1024, 1536, 3)\n",
            "input shape (820, 1228, 3)\n",
            "pad shape is [(102, 102), (154, 154), (0, 0)]\n",
            "output shape (1024, 1536, 3)\n",
            "input shape (820, 1228, 3)\n",
            "pad shape is [(102, 102), (154, 154), (0, 0)]\n",
            "output shape (1024, 1536, 3)\n",
            "input shape (821, 1225, 3)\n",
            "pad shape is [(101, 102), (155, 156), (0, 0)]\n",
            "output shape (1024, 1536, 3)\n",
            "input shape (821, 1225, 3)\n",
            "pad shape is [(101, 102), (155, 156), (0, 0)]\n",
            "output shape (1024, 1536, 3)\n",
            "input shape (822, 1227, 3)\n",
            "pad shape is [(101, 101), (154, 155), (0, 0)]\n",
            "output shape (1024, 1536, 3)\n",
            "input shape (822, 1227, 3)\n",
            "pad shape is [(101, 101), (154, 155), (0, 0)]\n",
            "output shape (1024, 1536, 3)\n",
            "input shape (820, 1226, 3)\n",
            "pad shape is [(102, 102), (155, 155), (0, 0)]\n",
            "output shape (1024, 1536, 3)\n",
            "input shape (820, 1226, 3)\n",
            "pad shape is [(102, 102), (155, 155), (0, 0)]\n",
            "output shape (1024, 1536, 3)\n",
            "input shape (821, 1225, 3)\n",
            "pad shape is [(101, 102), (155, 156), (0, 0)]\n",
            "output shape (1024, 1536, 3)\n",
            "input shape (821, 1225, 3)\n",
            "pad shape is [(101, 102), (155, 156), (0, 0)]\n",
            "output shape (1024, 1536, 3)\n",
            "input shape (820, 1227, 3)\n",
            "pad shape is [(102, 102), (154, 155), (0, 0)]\n",
            "output shape (1024, 1536, 3)\n",
            "input shape (820, 1227, 3)\n",
            "pad shape is [(102, 102), (154, 155), (0, 0)]\n",
            "output shape (1024, 1536, 3)\n",
            "input shape (820, 1227, 3)\n",
            "pad shape is [(102, 102), (154, 155), (0, 0)]\n",
            "output shape (1024, 1536, 3)\n",
            "input shape (820, 1227, 3)\n",
            "pad shape is [(102, 102), (154, 155), (0, 0)]\n",
            "output shape (1024, 1536, 3)\n",
            "input shape (822, 1227, 3)\n",
            "pad shape is [(101, 101), (154, 155), (0, 0)]\n",
            "output shape (1024, 1536, 3)\n",
            "input shape (822, 1227, 3)\n",
            "pad shape is [(101, 101), (154, 155), (0, 0)]\n",
            "output shape (1024, 1536, 3)\n",
            "input shape (820, 1227, 3)\n",
            "pad shape is [(102, 102), (154, 155), (0, 0)]\n",
            "output shape (1024, 1536, 3)\n",
            "input shape (820, 1227, 3)\n",
            "pad shape is [(102, 102), (154, 155), (0, 0)]\n",
            "output shape (1024, 1536, 3)\n",
            "input shape (820, 1227, 3)\n",
            "pad shape is [(102, 102), (154, 155), (0, 0)]\n",
            "output shape (1024, 1536, 3)\n",
            "input shape (820, 1227, 3)\n",
            "pad shape is [(102, 102), (154, 155), (0, 0)]\n",
            "output shape (1024, 1536, 3)\n",
            "input shape (819, 1226, 3)\n",
            "pad shape is [(102, 103), (155, 155), (0, 0)]\n",
            "output shape (1024, 1536, 3)\n",
            "input shape (819, 1226, 3)\n",
            "pad shape is [(102, 103), (155, 155), (0, 0)]\n",
            "output shape (1024, 1536, 3)\n",
            "input shape (821, 1226, 3)\n",
            "pad shape is [(101, 102), (155, 155), (0, 0)]\n",
            "output shape (1024, 1536, 3)\n",
            "input shape (821, 1226, 3)\n",
            "pad shape is [(101, 102), (155, 155), (0, 0)]\n",
            "output shape (1024, 1536, 3)\n",
            "input shape (820, 1226, 3)\n",
            "pad shape is [(102, 102), (155, 155), (0, 0)]\n",
            "output shape (1024, 1536, 3)\n",
            "input shape (820, 1226, 3)\n",
            "pad shape is [(102, 102), (155, 155), (0, 0)]\n",
            "output shape (1024, 1536, 3)\n",
            "input shape (821, 1227, 3)\n",
            "pad shape is [(101, 102), (154, 155), (0, 0)]\n",
            "output shape (1024, 1536, 3)\n",
            "input shape (821, 1227, 3)\n",
            "pad shape is [(101, 102), (154, 155), (0, 0)]\n",
            "output shape (1024, 1536, 3)\n",
            "input shape (820, 1227, 3)\n",
            "pad shape is [(102, 102), (154, 155), (0, 0)]\n",
            "output shape (1024, 1536, 3)\n",
            "input shape (820, 1227, 3)\n",
            "pad shape is [(102, 102), (154, 155), (0, 0)]\n",
            "output shape (1024, 1536, 3)\n",
            "input shape (821, 1226, 3)\n",
            "pad shape is [(101, 102), (155, 155), (0, 0)]\n",
            "output shape (1024, 1536, 3)\n",
            "input shape (821, 1226, 3)\n",
            "pad shape is [(101, 102), (155, 155), (0, 0)]\n",
            "output shape (1024, 1536, 3)\n",
            "input shape (820, 1226, 3)\n",
            "pad shape is [(102, 102), (155, 155), (0, 0)]\n",
            "output shape (1024, 1536, 3)\n",
            "input shape (820, 1226, 3)\n",
            "pad shape is [(102, 102), (155, 155), (0, 0)]\n",
            "output shape (1024, 1536, 3)\n",
            "input shape (820, 1225, 3)\n",
            "pad shape is [(102, 102), (155, 156), (0, 0)]\n",
            "output shape (1024, 1536, 3)\n",
            "input shape (820, 1225, 3)\n",
            "pad shape is [(102, 102), (155, 156), (0, 0)]\n",
            "output shape (1024, 1536, 3)\n",
            "input shape (820, 1225, 3)\n",
            "pad shape is [(102, 102), (155, 156), (0, 0)]\n",
            "output shape (1024, 1536, 3)\n",
            "input shape (820, 1225, 3)\n",
            "pad shape is [(102, 102), (155, 156), (0, 0)]\n",
            "output shape (1024, 1536, 3)\n",
            "input shape (821, 1225, 3)\n",
            "pad shape is [(101, 102), (155, 156), (0, 0)]\n",
            "output shape (1024, 1536, 3)\n",
            "input shape (821, 1225, 3)\n",
            "pad shape is [(101, 102), (155, 156), (0, 0)]\n",
            "output shape (1024, 1536, 3)\n",
            "input shape (820, 1226, 3)\n",
            "pad shape is [(102, 102), (155, 155), (0, 0)]\n",
            "output shape (1024, 1536, 3)\n",
            "input shape (820, 1226, 3)\n",
            "pad shape is [(102, 102), (155, 155), (0, 0)]\n",
            "output shape (1024, 1536, 3)\n",
            "input shape (820, 1226, 3)\n",
            "pad shape is [(102, 102), (155, 155), (0, 0)]\n",
            "output shape (1024, 1536, 3)\n",
            "input shape (820, 1226, 3)\n",
            "pad shape is [(102, 102), (155, 155), (0, 0)]\n",
            "output shape (1024, 1536, 3)\n",
            "input shape (820, 1226, 3)\n",
            "pad shape is [(102, 102), (155, 155), (0, 0)]\n",
            "output shape (1024, 1536, 3)\n",
            "input shape (820, 1226, 3)\n",
            "pad shape is [(102, 102), (155, 155), (0, 0)]\n",
            "output shape (1024, 1536, 3)\n",
            "input shape (821, 1227, 3)\n",
            "pad shape is [(101, 102), (154, 155), (0, 0)]\n",
            "output shape (1024, 1536, 3)\n",
            "input shape (821, 1227, 3)\n",
            "pad shape is [(101, 102), (154, 155), (0, 0)]\n",
            "output shape (1024, 1536, 3)\n",
            "input shape (820, 1227, 3)\n",
            "pad shape is [(102, 102), (154, 155), (0, 0)]\n",
            "output shape (1024, 1536, 3)\n",
            "input shape (820, 1227, 3)\n",
            "pad shape is [(102, 102), (154, 155), (0, 0)]\n",
            "output shape (1024, 1536, 3)\n",
            "input shape (821, 1225, 3)\n",
            "pad shape is [(101, 102), (155, 156), (0, 0)]\n",
            "output shape (1024, 1536, 3)\n",
            "input shape (821, 1225, 3)\n",
            "pad shape is [(101, 102), (155, 156), (0, 0)]\n",
            "output shape (1024, 1536, 3)\n",
            "input shape (821, 1226, 3)\n",
            "pad shape is [(101, 102), (155, 155), (0, 0)]\n",
            "output shape (1024, 1536, 3)\n",
            "input shape (821, 1226, 3)\n",
            "pad shape is [(101, 102), (155, 155), (0, 0)]\n",
            "output shape (1024, 1536, 3)\n",
            "input shape (820, 1226, 3)\n",
            "pad shape is [(102, 102), (155, 155), (0, 0)]\n",
            "output shape (1024, 1536, 3)\n",
            "input shape (820, 1226, 3)\n",
            "pad shape is [(102, 102), (155, 155), (0, 0)]\n",
            "output shape (1024, 1536, 3)\n",
            "input shape (820, 1226, 3)\n",
            "pad shape is [(102, 102), (155, 155), (0, 0)]\n",
            "output shape (1024, 1536, 3)\n",
            "input shape (820, 1226, 3)\n",
            "pad shape is [(102, 102), (155, 155), (0, 0)]\n",
            "output shape (1024, 1536, 3)\n",
            "input shape (821, 1226, 3)\n",
            "pad shape is [(101, 102), (155, 155), (0, 0)]\n",
            "output shape (1024, 1536, 3)\n",
            "input shape (821, 1226, 3)\n",
            "pad shape is [(101, 102), (155, 155), (0, 0)]\n",
            "output shape (1024, 1536, 3)\n",
            "input shape (820, 1226, 3)\n",
            "pad shape is [(102, 102), (155, 155), (0, 0)]\n",
            "output shape (1024, 1536, 3)\n",
            "input shape (820, 1226, 3)\n",
            "pad shape is [(102, 102), (155, 155), (0, 0)]\n",
            "output shape (1024, 1536, 3)\n",
            "input shape (820, 1226, 3)\n",
            "pad shape is [(102, 102), (155, 155), (0, 0)]\n",
            "output shape (1024, 1536, 3)\n",
            "input shape (820, 1226, 3)\n",
            "pad shape is [(102, 102), (155, 155), (0, 0)]\n",
            "output shape (1024, 1536, 3)\n",
            "input shape (821, 1226, 3)\n",
            "pad shape is [(101, 102), (155, 155), (0, 0)]\n",
            "output shape (1024, 1536, 3)\n",
            "input shape (821, 1226, 3)\n",
            "pad shape is [(101, 102), (155, 155), (0, 0)]\n",
            "output shape (1024, 1536, 3)\n",
            "input shape (819, 1225, 3)\n",
            "pad shape is [(102, 103), (155, 156), (0, 0)]\n",
            "output shape (1024, 1536, 3)\n",
            "input shape (819, 1225, 3)\n",
            "pad shape is [(102, 103), (155, 156), (0, 0)]\n",
            "output shape (1024, 1536, 3)\n",
            "input shape (821, 1226, 3)\n",
            "pad shape is [(101, 102), (155, 155), (0, 0)]\n",
            "output shape (1024, 1536, 3)\n",
            "input shape (821, 1226, 3)\n",
            "pad shape is [(101, 102), (155, 155), (0, 0)]\n",
            "output shape (1024, 1536, 3)\n",
            "input shape (821, 1227, 3)\n",
            "pad shape is [(101, 102), (154, 155), (0, 0)]\n",
            "output shape (1024, 1536, 3)\n",
            "input shape (821, 1227, 3)\n",
            "pad shape is [(101, 102), (154, 155), (0, 0)]\n",
            "output shape (1024, 1536, 3)\n",
            "input shape (820, 1226, 3)\n",
            "pad shape is [(102, 102), (155, 155), (0, 0)]\n",
            "output shape (1024, 1536, 3)\n",
            "input shape (820, 1226, 3)\n",
            "pad shape is [(102, 102), (155, 155), (0, 0)]\n",
            "output shape (1024, 1536, 3)\n",
            "input shape (820, 1227, 3)\n",
            "pad shape is [(102, 102), (154, 155), (0, 0)]\n",
            "output shape (1024, 1536, 3)\n",
            "input shape (820, 1227, 3)\n",
            "pad shape is [(102, 102), (154, 155), (0, 0)]\n",
            "output shape (1024, 1536, 3)\n",
            "input shape (819, 1227, 3)\n",
            "pad shape is [(102, 103), (154, 155), (0, 0)]\n",
            "output shape (1024, 1536, 3)\n",
            "input shape (819, 1227, 3)\n",
            "pad shape is [(102, 103), (154, 155), (0, 0)]\n",
            "output shape (1024, 1536, 3)\n",
            "input shape (820, 1228, 3)\n",
            "pad shape is [(102, 102), (154, 154), (0, 0)]\n",
            "output shape (1024, 1536, 3)\n",
            "input shape (820, 1228, 3)\n",
            "pad shape is [(102, 102), (154, 154), (0, 0)]\n",
            "output shape (1024, 1536, 3)\n",
            "input shape (819, 1227, 3)\n",
            "pad shape is [(102, 103), (154, 155), (0, 0)]\n",
            "output shape (1024, 1536, 3)\n",
            "input shape (819, 1227, 3)\n",
            "pad shape is [(102, 103), (154, 155), (0, 0)]\n",
            "output shape (1024, 1536, 3)\n",
            "input shape (819, 1226, 3)\n",
            "pad shape is [(102, 103), (155, 155), (0, 0)]\n",
            "output shape (1024, 1536, 3)\n",
            "input shape (819, 1226, 3)\n",
            "pad shape is [(102, 103), (155, 155), (0, 0)]\n",
            "output shape (1024, 1536, 3)\n",
            "input shape (820, 1226, 3)\n",
            "pad shape is [(102, 102), (155, 155), (0, 0)]\n",
            "output shape (1024, 1536, 3)\n",
            "input shape (820, 1226, 3)\n",
            "pad shape is [(102, 102), (155, 155), (0, 0)]\n",
            "output shape (1024, 1536, 3)\n",
            "input shape (820, 1227, 3)\n",
            "pad shape is [(102, 102), (154, 155), (0, 0)]\n",
            "output shape (1024, 1536, 3)\n",
            "input shape (820, 1227, 3)\n",
            "pad shape is [(102, 102), (154, 155), (0, 0)]\n",
            "output shape (1024, 1536, 3)\n",
            "input shape (821, 1227, 3)\n",
            "pad shape is [(101, 102), (154, 155), (0, 0)]\n",
            "output shape (1024, 1536, 3)\n",
            "input shape (821, 1227, 3)\n",
            "pad shape is [(101, 102), (154, 155), (0, 0)]\n",
            "output shape (1024, 1536, 3)\n",
            "input shape (820, 1226, 3)\n",
            "pad shape is [(102, 102), (155, 155), (0, 0)]\n",
            "output shape (1024, 1536, 3)\n",
            "input shape (820, 1226, 3)\n",
            "pad shape is [(102, 102), (155, 155), (0, 0)]\n",
            "output shape (1024, 1536, 3)\n",
            "input shape (820, 1226, 3)\n",
            "pad shape is [(102, 102), (155, 155), (0, 0)]\n",
            "output shape (1024, 1536, 3)\n",
            "input shape (820, 1226, 3)\n",
            "pad shape is [(102, 102), (155, 155), (0, 0)]\n",
            "output shape (1024, 1536, 3)\n",
            "input shape (820, 1226, 3)\n",
            "pad shape is [(102, 102), (155, 155), (0, 0)]\n",
            "output shape (1024, 1536, 3)\n",
            "input shape (820, 1226, 3)\n",
            "pad shape is [(102, 102), (155, 155), (0, 0)]\n",
            "output shape (1024, 1536, 3)\n",
            "input shape (820, 1225, 3)\n",
            "pad shape is [(102, 102), (155, 156), (0, 0)]\n",
            "output shape (1024, 1536, 3)\n",
            "input shape (820, 1225, 3)\n",
            "pad shape is [(102, 102), (155, 156), (0, 0)]\n",
            "output shape (1024, 1536, 3)\n",
            "input shape (820, 1226, 3)\n",
            "pad shape is [(102, 102), (155, 155), (0, 0)]\n",
            "output shape (1024, 1536, 3)\n",
            "input shape (820, 1226, 3)\n",
            "pad shape is [(102, 102), (155, 155), (0, 0)]\n",
            "output shape (1024, 1536, 3)\n",
            "input shape (820, 1227, 3)\n",
            "pad shape is [(102, 102), (154, 155), (0, 0)]\n",
            "output shape (1024, 1536, 3)\n",
            "input shape (820, 1227, 3)\n",
            "pad shape is [(102, 102), (154, 155), (0, 0)]\n",
            "output shape (1024, 1536, 3)\n",
            "input shape (820, 1227, 3)\n",
            "pad shape is [(102, 102), (154, 155), (0, 0)]\n",
            "output shape (1024, 1536, 3)\n",
            "input shape (820, 1227, 3)\n",
            "pad shape is [(102, 102), (154, 155), (0, 0)]\n",
            "output shape (1024, 1536, 3)\n",
            "input shape (821, 1226, 3)\n",
            "pad shape is [(101, 102), (155, 155), (0, 0)]\n",
            "output shape (1024, 1536, 3)\n",
            "input shape (821, 1226, 3)\n",
            "pad shape is [(101, 102), (155, 155), (0, 0)]\n",
            "output shape (1024, 1536, 3)\n",
            "input shape (821, 1226, 3)\n",
            "pad shape is [(101, 102), (155, 155), (0, 0)]\n",
            "output shape (1024, 1536, 3)\n",
            "input shape (821, 1226, 3)\n",
            "pad shape is [(101, 102), (155, 155), (0, 0)]\n",
            "output shape (1024, 1536, 3)\n",
            "input shape (820, 1225, 3)\n",
            "pad shape is [(102, 102), (155, 156), (0, 0)]\n",
            "output shape (1024, 1536, 3)\n",
            "input shape (820, 1225, 3)\n",
            "pad shape is [(102, 102), (155, 156), (0, 0)]\n",
            "output shape (1024, 1536, 3)\n",
            "input shape (820, 1228, 3)\n",
            "pad shape is [(102, 102), (154, 154), (0, 0)]\n",
            "output shape (1024, 1536, 3)\n",
            "input shape (820, 1228, 3)\n",
            "pad shape is [(102, 102), (154, 154), (0, 0)]\n",
            "output shape (1024, 1536, 3)\n",
            "input shape (819, 1225, 3)\n",
            "pad shape is [(102, 103), (155, 156), (0, 0)]\n",
            "output shape (1024, 1536, 3)\n",
            "input shape (819, 1225, 3)\n",
            "pad shape is [(102, 103), (155, 156), (0, 0)]\n",
            "output shape (1024, 1536, 3)\n",
            "input shape (819, 1227, 3)\n",
            "pad shape is [(102, 103), (154, 155), (0, 0)]\n",
            "output shape (1024, 1536, 3)\n",
            "input shape (819, 1227, 3)\n",
            "pad shape is [(102, 103), (154, 155), (0, 0)]\n",
            "output shape (1024, 1536, 3)\n",
            "input shape (820, 1227, 3)\n",
            "pad shape is [(102, 102), (154, 155), (0, 0)]\n",
            "output shape (1024, 1536, 3)\n",
            "input shape (820, 1227, 3)\n",
            "pad shape is [(102, 102), (154, 155), (0, 0)]\n",
            "output shape (1024, 1536, 3)\n",
            "input shape (820, 1225, 3)\n",
            "pad shape is [(102, 102), (155, 156), (0, 0)]\n",
            "output shape (1024, 1536, 3)\n",
            "input shape (820, 1225, 3)\n",
            "pad shape is [(102, 102), (155, 156), (0, 0)]\n",
            "output shape (1024, 1536, 3)\n",
            "input shape (820, 1226, 3)\n",
            "pad shape is [(102, 102), (155, 155), (0, 0)]\n",
            "output shape (1024, 1536, 3)\n",
            "input shape (820, 1226, 3)\n",
            "pad shape is [(102, 102), (155, 155), (0, 0)]\n",
            "output shape (1024, 1536, 3)\n",
            "input shape (821, 1227, 3)\n",
            "pad shape is [(101, 102), (154, 155), (0, 0)]\n",
            "output shape (1024, 1536, 3)\n",
            "input shape (821, 1227, 3)\n",
            "pad shape is [(101, 102), (154, 155), (0, 0)]\n",
            "output shape (1024, 1536, 3)\n",
            "input shape (819, 1227, 3)\n",
            "pad shape is [(102, 103), (154, 155), (0, 0)]\n",
            "output shape (1024, 1536, 3)\n",
            "input shape (819, 1227, 3)\n",
            "pad shape is [(102, 103), (154, 155), (0, 0)]\n",
            "output shape (1024, 1536, 3)\n",
            "input shape (821, 1227, 3)\n",
            "pad shape is [(101, 102), (154, 155), (0, 0)]\n",
            "output shape (1024, 1536, 3)\n",
            "input shape (821, 1227, 3)\n",
            "pad shape is [(101, 102), (154, 155), (0, 0)]\n",
            "output shape (1024, 1536, 3)\n",
            "input shape (821, 1226, 3)\n",
            "pad shape is [(101, 102), (155, 155), (0, 0)]\n",
            "output shape (1024, 1536, 3)\n",
            "input shape (821, 1226, 3)\n",
            "pad shape is [(101, 102), (155, 155), (0, 0)]\n",
            "output shape (1024, 1536, 3)\n",
            "input shape (820, 1228, 3)\n",
            "pad shape is [(102, 102), (154, 154), (0, 0)]\n",
            "output shape (1024, 1536, 3)\n",
            "input shape (820, 1228, 3)\n",
            "pad shape is [(102, 102), (154, 154), (0, 0)]\n",
            "output shape (1024, 1536, 3)\n",
            "input shape (820, 1228, 3)\n",
            "pad shape is [(102, 102), (154, 154), (0, 0)]\n",
            "output shape (1024, 1536, 3)\n",
            "input shape (820, 1228, 3)\n",
            "pad shape is [(102, 102), (154, 154), (0, 0)]\n",
            "output shape (1024, 1536, 3)\n",
            "input shape (820, 1228, 3)\n",
            "pad shape is [(102, 102), (154, 154), (0, 0)]\n",
            "output shape (1024, 1536, 3)\n",
            "input shape (820, 1228, 3)\n",
            "pad shape is [(102, 102), (154, 154), (0, 0)]\n",
            "output shape (1024, 1536, 3)\n",
            "input shape (821, 1226, 3)\n",
            "pad shape is [(101, 102), (155, 155), (0, 0)]\n",
            "output shape (1024, 1536, 3)\n",
            "input shape (821, 1226, 3)\n",
            "pad shape is [(101, 102), (155, 155), (0, 0)]\n",
            "output shape (1024, 1536, 3)\n",
            "input shape (820, 1228, 3)\n",
            "pad shape is [(102, 102), (154, 154), (0, 0)]\n",
            "output shape (1024, 1536, 3)\n",
            "input shape (820, 1228, 3)\n",
            "pad shape is [(102, 102), (154, 154), (0, 0)]\n",
            "output shape (1024, 1536, 3)\n",
            "input shape (821, 1226, 3)\n",
            "pad shape is [(101, 102), (155, 155), (0, 0)]\n",
            "output shape (1024, 1536, 3)\n",
            "input shape (821, 1226, 3)\n",
            "pad shape is [(101, 102), (155, 155), (0, 0)]\n",
            "output shape (1024, 1536, 3)\n",
            "input shape (3456, 5184, 3)\n",
            "pad shape is [(64, 64), (224, 224), (0, 0)]\n",
            "output shape (3584, 5632, 3)\n",
            "input shape (3456, 5184, 3)\n",
            "pad shape is [(64, 64), (224, 224), (0, 0)]\n",
            "output shape (3584, 5632, 3)\n",
            "input shape (3456, 5184, 3)\n",
            "pad shape is [(64, 64), (224, 224), (0, 0)]\n",
            "output shape (3584, 5632, 3)\n",
            "input shape (3456, 5184, 3)\n",
            "pad shape is [(64, 64), (224, 224), (0, 0)]\n",
            "output shape (3584, 5632, 3)\n",
            "input shape (3456, 5184, 3)\n",
            "pad shape is [(64, 64), (224, 224), (0, 0)]\n",
            "output shape (3584, 5632, 3)\n",
            "input shape (3456, 5184, 3)\n",
            "pad shape is [(64, 64), (224, 224), (0, 0)]\n",
            "output shape (3584, 5632, 3)\n",
            "input shape (3456, 5184, 3)\n",
            "pad shape is [(64, 64), (224, 224), (0, 0)]\n",
            "output shape (3584, 5632, 3)\n",
            "input shape (3456, 5184, 3)\n",
            "pad shape is [(64, 64), (224, 224), (0, 0)]\n",
            "output shape (3584, 5632, 3)\n",
            "input shape (3456, 5184, 3)\n",
            "pad shape is [(64, 64), (224, 224), (0, 0)]\n",
            "output shape (3584, 5632, 3)\n",
            "input shape (3456, 5184, 3)\n",
            "pad shape is [(64, 64), (224, 224), (0, 0)]\n",
            "output shape (3584, 5632, 3)\n",
            "input shape (3456, 5184, 3)\n",
            "pad shape is [(64, 64), (224, 224), (0, 0)]\n",
            "output shape (3584, 5632, 3)\n",
            "input shape (3456, 5184, 3)\n",
            "pad shape is [(64, 64), (224, 224), (0, 0)]\n",
            "output shape (3584, 5632, 3)\n",
            "input shape (3456, 5184, 3)\n",
            "pad shape is [(64, 64), (224, 224), (0, 0)]\n",
            "output shape (3584, 5632, 3)\n",
            "input shape (3456, 5184, 3)\n",
            "pad shape is [(64, 64), (224, 224), (0, 0)]\n",
            "output shape (3584, 5632, 3)\n",
            "input shape (3456, 5184, 3)\n",
            "pad shape is [(64, 64), (224, 224), (0, 0)]\n",
            "output shape (3584, 5632, 3)\n",
            "input shape (3456, 5184, 3)\n",
            "pad shape is [(64, 64), (224, 224), (0, 0)]\n",
            "output shape (3584, 5632, 3)\n",
            "input shape (3456, 5184, 3)\n",
            "pad shape is [(64, 64), (224, 224), (0, 0)]\n",
            "output shape (3584, 5632, 3)\n",
            "input shape (3456, 5184, 3)\n",
            "pad shape is [(64, 64), (224, 224), (0, 0)]\n",
            "output shape (3584, 5632, 3)\n",
            "input shape (3456, 5184, 3)\n",
            "pad shape is [(64, 64), (224, 224), (0, 0)]\n",
            "output shape (3584, 5632, 3)\n",
            "input shape (3456, 5184, 3)\n",
            "pad shape is [(64, 64), (224, 224), (0, 0)]\n",
            "output shape (3584, 5632, 3)\n",
            "input shape (3456, 5184, 3)\n",
            "pad shape is [(64, 64), (224, 224), (0, 0)]\n",
            "output shape (3584, 5632, 3)\n",
            "input shape (3456, 5184, 3)\n",
            "pad shape is [(64, 64), (224, 224), (0, 0)]\n",
            "output shape (3584, 5632, 3)\n",
            "input shape (3456, 5184, 3)\n",
            "pad shape is [(64, 64), (224, 224), (0, 0)]\n",
            "output shape (3584, 5632, 3)\n",
            "input shape (3456, 5184, 3)\n",
            "pad shape is [(64, 64), (224, 224), (0, 0)]\n",
            "output shape (3584, 5632, 3)\n",
            "input shape (3456, 5184, 3)\n",
            "pad shape is [(64, 64), (224, 224), (0, 0)]\n",
            "output shape (3584, 5632, 3)\n",
            "input shape (3456, 5184, 3)\n",
            "pad shape is [(64, 64), (224, 224), (0, 0)]\n",
            "output shape (3584, 5632, 3)\n",
            "input shape (3456, 5184, 3)\n",
            "pad shape is [(64, 64), (224, 224), (0, 0)]\n",
            "output shape (3584, 5632, 3)\n",
            "input shape (3456, 5184, 3)\n",
            "pad shape is [(64, 64), (224, 224), (0, 0)]\n",
            "output shape (3584, 5632, 3)\n",
            "input shape (3456, 5184, 3)\n",
            "pad shape is [(64, 64), (224, 224), (0, 0)]\n",
            "output shape (3584, 5632, 3)\n",
            "input shape (3456, 5184, 3)\n",
            "pad shape is [(64, 64), (224, 224), (0, 0)]\n",
            "output shape (3584, 5632, 3)\n",
            "input shape (3456, 5184, 3)\n",
            "pad shape is [(64, 64), (224, 224), (0, 0)]\n",
            "output shape (3584, 5632, 3)\n",
            "input shape (3456, 5184, 3)\n",
            "pad shape is [(64, 64), (224, 224), (0, 0)]\n",
            "output shape (3584, 5632, 3)\n",
            "input shape (3456, 5184, 3)\n",
            "pad shape is [(64, 64), (224, 224), (0, 0)]\n",
            "output shape (3584, 5632, 3)\n",
            "input shape (3456, 5184, 3)\n",
            "pad shape is [(64, 64), (224, 224), (0, 0)]\n",
            "output shape (3584, 5632, 3)\n",
            "input shape (3456, 5184, 3)\n",
            "pad shape is [(64, 64), (224, 224), (0, 0)]\n",
            "output shape (3584, 5632, 3)\n",
            "input shape (3456, 5184, 3)\n",
            "pad shape is [(64, 64), (224, 224), (0, 0)]\n",
            "output shape (3584, 5632, 3)\n",
            "input shape (3456, 5184, 3)\n",
            "pad shape is [(64, 64), (224, 224), (0, 0)]\n",
            "output shape (3584, 5632, 3)\n",
            "input shape (3456, 5184, 3)\n",
            "pad shape is [(64, 64), (224, 224), (0, 0)]\n",
            "output shape (3584, 5632, 3)\n",
            "input shape (3456, 5184, 3)\n",
            "pad shape is [(64, 64), (224, 224), (0, 0)]\n",
            "output shape (3584, 5632, 3)\n",
            "input shape (3456, 5184, 3)\n",
            "pad shape is [(64, 64), (224, 224), (0, 0)]\n",
            "output shape (3584, 5632, 3)\n",
            "input shape (3456, 5184, 3)\n",
            "pad shape is [(64, 64), (224, 224), (0, 0)]\n",
            "output shape (3584, 5632, 3)\n",
            "input shape (3456, 5184, 3)\n",
            "pad shape is [(64, 64), (224, 224), (0, 0)]\n",
            "output shape (3584, 5632, 3)\n",
            "input shape (3456, 5184, 3)\n",
            "pad shape is [(64, 64), (224, 224), (0, 0)]\n",
            "output shape (3584, 5632, 3)\n",
            "input shape (3456, 5184, 3)\n",
            "pad shape is [(64, 64), (224, 224), (0, 0)]\n",
            "output shape (3584, 5632, 3)\n",
            "input shape (3456, 5184, 3)\n",
            "pad shape is [(64, 64), (224, 224), (0, 0)]\n",
            "output shape (3584, 5632, 3)\n",
            "input shape (3456, 5184, 3)\n",
            "pad shape is [(64, 64), (224, 224), (0, 0)]\n",
            "output shape (3584, 5632, 3)\n",
            "input shape (3456, 5184, 3)\n",
            "pad shape is [(64, 64), (224, 224), (0, 0)]\n",
            "output shape (3584, 5632, 3)\n",
            "input shape (3456, 5184, 3)\n",
            "pad shape is [(64, 64), (224, 224), (0, 0)]\n",
            "output shape (3584, 5632, 3)\n",
            "input shape (3456, 5184, 3)\n",
            "pad shape is [(64, 64), (224, 224), (0, 0)]\n",
            "output shape (3584, 5632, 3)\n",
            "input shape (3456, 5184, 3)\n",
            "pad shape is [(64, 64), (224, 224), (0, 0)]\n",
            "output shape (3584, 5632, 3)\n",
            "input shape (3456, 5184, 3)\n",
            "pad shape is [(64, 64), (224, 224), (0, 0)]\n",
            "output shape (3584, 5632, 3)\n",
            "input shape (3456, 5184, 3)\n",
            "pad shape is [(64, 64), (224, 224), (0, 0)]\n",
            "output shape (3584, 5632, 3)\n",
            "input shape (3456, 5184, 3)\n",
            "pad shape is [(64, 64), (224, 224), (0, 0)]\n",
            "output shape (3584, 5632, 3)\n",
            "input shape (3456, 5184, 3)\n",
            "pad shape is [(64, 64), (224, 224), (0, 0)]\n",
            "output shape (3584, 5632, 3)\n",
            "input shape (3456, 5184, 3)\n",
            "pad shape is [(64, 64), (224, 224), (0, 0)]\n",
            "output shape (3584, 5632, 3)\n",
            "input shape (3456, 5184, 3)\n",
            "pad shape is [(64, 64), (224, 224), (0, 0)]\n",
            "output shape (3584, 5632, 3)\n",
            "input shape (3456, 5184, 3)\n",
            "pad shape is [(64, 64), (224, 224), (0, 0)]\n",
            "output shape (3584, 5632, 3)\n",
            "input shape (3456, 5184, 3)\n",
            "pad shape is [(64, 64), (224, 224), (0, 0)]\n",
            "output shape (3584, 5632, 3)\n",
            "input shape (3456, 5184, 3)\n",
            "pad shape is [(64, 64), (224, 224), (0, 0)]\n",
            "output shape (3584, 5632, 3)\n",
            "input shape (3456, 5184, 3)\n",
            "pad shape is [(64, 64), (224, 224), (0, 0)]\n",
            "output shape (3584, 5632, 3)\n",
            "input shape (3456, 5184, 3)\n",
            "pad shape is [(64, 64), (224, 224), (0, 0)]\n",
            "output shape (3584, 5632, 3)\n",
            "input shape (3456, 5184, 3)\n",
            "pad shape is [(64, 64), (224, 224), (0, 0)]\n",
            "output shape (3584, 5632, 3)\n",
            "input shape (3456, 5184, 3)\n",
            "pad shape is [(64, 64), (224, 224), (0, 0)]\n",
            "output shape (3584, 5632, 3)\n",
            "input shape (3456, 5184, 3)\n",
            "pad shape is [(64, 64), (224, 224), (0, 0)]\n",
            "output shape (3584, 5632, 3)\n",
            "input shape (3456, 5184, 3)\n",
            "pad shape is [(64, 64), (224, 224), (0, 0)]\n",
            "output shape (3584, 5632, 3)\n",
            "input shape (3456, 5184, 3)\n",
            "pad shape is [(64, 64), (224, 224), (0, 0)]\n",
            "output shape (3584, 5632, 3)\n",
            "input shape (3456, 5184, 3)\n",
            "pad shape is [(64, 64), (224, 224), (0, 0)]\n",
            "output shape (3584, 5632, 3)\n",
            "input shape (3456, 5184, 3)\n",
            "pad shape is [(64, 64), (224, 224), (0, 0)]\n",
            "output shape (3584, 5632, 3)\n",
            "input shape (3456, 5184, 3)\n",
            "pad shape is [(64, 64), (224, 224), (0, 0)]\n",
            "output shape (3584, 5632, 3)\n",
            "input shape (3456, 5184, 3)\n",
            "pad shape is [(64, 64), (224, 224), (0, 0)]\n",
            "output shape (3584, 5632, 3)\n",
            "input shape (3456, 5184, 3)\n",
            "pad shape is [(64, 64), (224, 224), (0, 0)]\n",
            "output shape (3584, 5632, 3)\n",
            "input shape (3456, 5184, 3)\n",
            "pad shape is [(64, 64), (224, 224), (0, 0)]\n",
            "output shape (3584, 5632, 3)\n",
            "input shape (3456, 5184, 3)\n",
            "pad shape is [(64, 64), (224, 224), (0, 0)]\n",
            "output shape (3584, 5632, 3)\n",
            "input shape (3456, 5184, 3)\n",
            "pad shape is [(64, 64), (224, 224), (0, 0)]\n",
            "output shape (3584, 5632, 3)\n",
            "input shape (3456, 5184, 3)\n",
            "pad shape is [(64, 64), (224, 224), (0, 0)]\n",
            "output shape (3584, 5632, 3)\n",
            "input shape (3456, 5184, 3)\n",
            "pad shape is [(64, 64), (224, 224), (0, 0)]\n",
            "output shape (3584, 5632, 3)\n",
            "input shape (3456, 5184, 3)\n",
            "pad shape is [(64, 64), (224, 224), (0, 0)]\n",
            "output shape (3584, 5632, 3)\n",
            "input shape (3456, 5184, 3)\n",
            "pad shape is [(64, 64), (224, 224), (0, 0)]\n",
            "output shape (3584, 5632, 3)\n",
            "input shape (3456, 5184, 3)\n",
            "pad shape is [(64, 64), (224, 224), (0, 0)]\n",
            "output shape (3584, 5632, 3)\n",
            "input shape (3456, 5184, 3)\n",
            "pad shape is [(64, 64), (224, 224), (0, 0)]\n",
            "output shape (3584, 5632, 3)\n",
            "input shape (3456, 5184, 3)\n",
            "pad shape is [(64, 64), (224, 224), (0, 0)]\n",
            "output shape (3584, 5632, 3)\n",
            "input shape (3456, 5184, 3)\n",
            "pad shape is [(64, 64), (224, 224), (0, 0)]\n",
            "output shape (3584, 5632, 3)\n",
            "input shape (3456, 5184, 3)\n",
            "pad shape is [(64, 64), (224, 224), (0, 0)]\n",
            "output shape (3584, 5632, 3)\n",
            "input shape (3456, 5184, 3)\n",
            "pad shape is [(64, 64), (224, 224), (0, 0)]\n",
            "output shape (3584, 5632, 3)\n",
            "input shape (3456, 5184, 3)\n",
            "pad shape is [(64, 64), (224, 224), (0, 0)]\n",
            "output shape (3584, 5632, 3)\n",
            "input shape (3456, 5184, 3)\n",
            "pad shape is [(64, 64), (224, 224), (0, 0)]\n",
            "output shape (3584, 5632, 3)\n",
            "input shape (3456, 5184, 3)\n",
            "pad shape is [(64, 64), (224, 224), (0, 0)]\n",
            "output shape (3584, 5632, 3)\n",
            "input shape (3456, 5184, 3)\n",
            "pad shape is [(64, 64), (224, 224), (0, 0)]\n",
            "output shape (3584, 5632, 3)\n",
            "input shape (3456, 5184, 3)\n",
            "pad shape is [(64, 64), (224, 224), (0, 0)]\n",
            "output shape (3584, 5632, 3)\n",
            "input shape (3456, 5184, 3)\n",
            "pad shape is [(64, 64), (224, 224), (0, 0)]\n",
            "output shape (3584, 5632, 3)\n",
            "input shape (3456, 5184, 3)\n",
            "pad shape is [(64, 64), (224, 224), (0, 0)]\n",
            "output shape (3584, 5632, 3)\n",
            "input shape (3456, 5184, 3)\n",
            "pad shape is [(64, 64), (224, 224), (0, 0)]\n",
            "output shape (3584, 5632, 3)\n",
            "input shape (3456, 5184, 3)\n",
            "pad shape is [(64, 64), (224, 224), (0, 0)]\n",
            "output shape (3584, 5632, 3)\n",
            "input shape (3456, 5184, 3)\n",
            "pad shape is [(64, 64), (224, 224), (0, 0)]\n",
            "output shape (3584, 5632, 3)\n",
            "input shape (3456, 5184, 3)\n",
            "pad shape is [(64, 64), (224, 224), (0, 0)]\n",
            "output shape (3584, 5632, 3)\n",
            "input shape (3456, 5184, 3)\n",
            "pad shape is [(64, 64), (224, 224), (0, 0)]\n",
            "output shape (3584, 5632, 3)\n",
            "input shape (3456, 5184, 3)\n",
            "pad shape is [(64, 64), (224, 224), (0, 0)]\n",
            "output shape (3584, 5632, 3)\n",
            "input shape (3456, 5184, 3)\n",
            "pad shape is [(64, 64), (224, 224), (0, 0)]\n",
            "output shape (3584, 5632, 3)\n",
            "input shape (3456, 5184, 3)\n",
            "pad shape is [(64, 64), (224, 224), (0, 0)]\n",
            "output shape (3584, 5632, 3)\n",
            "input shape (3456, 5184, 3)\n",
            "pad shape is [(64, 64), (224, 224), (0, 0)]\n",
            "output shape (3584, 5632, 3)\n",
            "input shape (3456, 5184, 3)\n",
            "pad shape is [(64, 64), (224, 224), (0, 0)]\n",
            "output shape (3584, 5632, 3)\n",
            "input shape (3456, 5184, 3)\n",
            "pad shape is [(64, 64), (224, 224), (0, 0)]\n",
            "output shape (3584, 5632, 3)\n",
            "input shape (3456, 5184, 3)\n",
            "pad shape is [(64, 64), (224, 224), (0, 0)]\n",
            "output shape (3584, 5632, 3)\n",
            "input shape (3456, 5184, 3)\n",
            "pad shape is [(64, 64), (224, 224), (0, 0)]\n",
            "output shape (3584, 5632, 3)\n",
            "input shape (3456, 5184, 3)\n",
            "pad shape is [(64, 64), (224, 224), (0, 0)]\n",
            "output shape (3584, 5632, 3)\n",
            "input shape (3456, 5184, 3)\n",
            "pad shape is [(64, 64), (224, 224), (0, 0)]\n",
            "output shape (3584, 5632, 3)\n",
            "input shape (3456, 5184, 3)\n",
            "pad shape is [(64, 64), (224, 224), (0, 0)]\n",
            "output shape (3584, 5632, 3)\n",
            "input shape (3456, 5184, 3)\n",
            "pad shape is [(64, 64), (224, 224), (0, 0)]\n",
            "output shape (3584, 5632, 3)\n",
            "input shape (3456, 5184, 3)\n",
            "pad shape is [(64, 64), (224, 224), (0, 0)]\n",
            "output shape (3584, 5632, 3)\n",
            "input shape (3456, 5184, 3)\n",
            "pad shape is [(64, 64), (224, 224), (0, 0)]\n",
            "output shape (3584, 5632, 3)\n",
            "input shape (3456, 5184, 3)\n",
            "pad shape is [(64, 64), (224, 224), (0, 0)]\n",
            "output shape (3584, 5632, 3)\n",
            "input shape (3456, 5184, 3)\n",
            "pad shape is [(64, 64), (224, 224), (0, 0)]\n",
            "output shape (3584, 5632, 3)\n",
            "input shape (3456, 5184, 3)\n",
            "pad shape is [(64, 64), (224, 224), (0, 0)]\n",
            "output shape (3584, 5632, 3)\n",
            "input shape (3456, 5184, 3)\n",
            "pad shape is [(64, 64), (224, 224), (0, 0)]\n",
            "output shape (3584, 5632, 3)\n",
            "input shape (3456, 5184, 3)\n",
            "pad shape is [(64, 64), (224, 224), (0, 0)]\n",
            "output shape (3584, 5632, 3)\n",
            "input shape (3456, 5184, 3)\n",
            "pad shape is [(64, 64), (224, 224), (0, 0)]\n",
            "output shape (3584, 5632, 3)\n",
            "input shape (3456, 5184, 3)\n",
            "pad shape is [(64, 64), (224, 224), (0, 0)]\n",
            "output shape (3584, 5632, 3)\n",
            "input shape (3456, 5184, 3)\n",
            "pad shape is [(64, 64), (224, 224), (0, 0)]\n",
            "output shape (3584, 5632, 3)\n",
            "input shape (3456, 5184, 3)\n",
            "pad shape is [(64, 64), (224, 224), (0, 0)]\n",
            "output shape (3584, 5632, 3)\n",
            "input shape (3456, 5184, 3)\n",
            "pad shape is [(64, 64), (224, 224), (0, 0)]\n",
            "output shape (3584, 5632, 3)\n",
            "input shape (3456, 5184, 3)\n",
            "pad shape is [(64, 64), (224, 224), (0, 0)]\n",
            "output shape (3584, 5632, 3)\n",
            "input shape (3456, 5184, 3)\n",
            "pad shape is [(64, 64), (224, 224), (0, 0)]\n",
            "output shape (3584, 5632, 3)\n",
            "input shape (3456, 5184, 3)\n",
            "pad shape is [(64, 64), (224, 224), (0, 0)]\n",
            "output shape (3584, 5632, 3)\n",
            "input shape (3456, 5184, 3)\n",
            "pad shape is [(64, 64), (224, 224), (0, 0)]\n",
            "output shape (3584, 5632, 3)\n",
            "input shape (3456, 5184, 3)\n",
            "pad shape is [(64, 64), (224, 224), (0, 0)]\n",
            "output shape (3584, 5632, 3)\n",
            "input shape (3456, 5184, 3)\n",
            "pad shape is [(64, 64), (224, 224), (0, 0)]\n",
            "output shape (3584, 5632, 3)\n",
            "input shape (3456, 5184, 3)\n",
            "pad shape is [(64, 64), (224, 224), (0, 0)]\n",
            "output shape (3584, 5632, 3)\n",
            "input shape (3456, 5184, 3)\n",
            "pad shape is [(64, 64), (224, 224), (0, 0)]\n",
            "output shape (3584, 5632, 3)\n",
            "input shape (3456, 5184, 3)\n",
            "pad shape is [(64, 64), (224, 224), (0, 0)]\n",
            "output shape (3584, 5632, 3)\n",
            "input shape (3456, 5184, 3)\n",
            "pad shape is [(64, 64), (224, 224), (0, 0)]\n",
            "output shape (3584, 5632, 3)\n",
            "input shape (3456, 5184, 3)\n",
            "pad shape is [(64, 64), (224, 224), (0, 0)]\n",
            "output shape (3584, 5632, 3)\n",
            "input shape (3456, 5184, 3)\n",
            "pad shape is [(64, 64), (224, 224), (0, 0)]\n",
            "output shape (3584, 5632, 3)\n",
            "input shape (3456, 5184, 3)\n",
            "pad shape is [(64, 64), (224, 224), (0, 0)]\n",
            "output shape (3584, 5632, 3)\n",
            "input shape (3456, 5184, 3)\n",
            "pad shape is [(64, 64), (224, 224), (0, 0)]\n",
            "output shape (3584, 5632, 3)\n",
            "input shape (3456, 5184, 3)\n",
            "pad shape is [(64, 64), (224, 224), (0, 0)]\n",
            "output shape (3584, 5632, 3)\n",
            "input shape (3456, 5184, 3)\n",
            "pad shape is [(64, 64), (224, 224), (0, 0)]\n",
            "output shape (3584, 5632, 3)\n",
            "input shape (3456, 5184, 3)\n",
            "pad shape is [(64, 64), (224, 224), (0, 0)]\n",
            "output shape (3584, 5632, 3)\n",
            "input shape (3456, 5184, 3)\n",
            "pad shape is [(64, 64), (224, 224), (0, 0)]\n",
            "output shape (3584, 5632, 3)\n",
            "input shape (3456, 5184, 3)\n",
            "pad shape is [(64, 64), (224, 224), (0, 0)]\n",
            "output shape (3584, 5632, 3)\n",
            "input shape (3456, 5184, 3)\n",
            "pad shape is [(64, 64), (224, 224), (0, 0)]\n",
            "output shape (3584, 5632, 3)\n",
            "input shape (3456, 5184, 3)\n",
            "pad shape is [(64, 64), (224, 224), (0, 0)]\n",
            "output shape (3584, 5632, 3)\n",
            "input shape (3456, 5184, 3)\n",
            "pad shape is [(64, 64), (224, 224), (0, 0)]\n",
            "output shape (3584, 5632, 3)\n",
            "input shape (3456, 5184, 3)\n",
            "pad shape is [(64, 64), (224, 224), (0, 0)]\n",
            "output shape (3584, 5632, 3)\n",
            "input shape (3456, 5184, 3)\n",
            "pad shape is [(64, 64), (224, 224), (0, 0)]\n",
            "output shape (3584, 5632, 3)\n",
            "input shape (3456, 5184, 3)\n",
            "pad shape is [(64, 64), (224, 224), (0, 0)]\n",
            "output shape (3584, 5632, 3)\n",
            "input shape (3456, 5184, 3)\n",
            "pad shape is [(64, 64), (224, 224), (0, 0)]\n",
            "output shape (3584, 5632, 3)\n",
            "input shape (3456, 5184, 3)\n",
            "pad shape is [(64, 64), (224, 224), (0, 0)]\n",
            "output shape (3584, 5632, 3)\n",
            "input shape (3456, 5184, 3)\n",
            "pad shape is [(64, 64), (224, 224), (0, 0)]\n",
            "output shape (3584, 5632, 3)\n",
            "input shape (3456, 5184, 3)\n",
            "pad shape is [(64, 64), (224, 224), (0, 0)]\n",
            "output shape (3584, 5632, 3)\n",
            "input shape (3456, 5184, 3)\n",
            "pad shape is [(64, 64), (224, 224), (0, 0)]\n",
            "output shape (3584, 5632, 3)\n",
            "input shape (3456, 5184, 3)\n",
            "pad shape is [(64, 64), (224, 224), (0, 0)]\n",
            "output shape (3584, 5632, 3)\n",
            "input shape (3456, 5184, 3)\n",
            "pad shape is [(64, 64), (224, 224), (0, 0)]\n",
            "output shape (3584, 5632, 3)\n",
            "input shape (3456, 5184, 3)\n",
            "pad shape is [(64, 64), (224, 224), (0, 0)]\n",
            "output shape (3584, 5632, 3)\n",
            "input shape (3456, 5184, 3)\n",
            "pad shape is [(64, 64), (224, 224), (0, 0)]\n",
            "output shape (3584, 5632, 3)\n",
            "input shape (3456, 5184, 3)\n",
            "pad shape is [(64, 64), (224, 224), (0, 0)]\n",
            "output shape (3584, 5632, 3)\n",
            "input shape (3456, 5184, 3)\n",
            "pad shape is [(64, 64), (224, 224), (0, 0)]\n",
            "output shape (3584, 5632, 3)\n",
            "input shape (3456, 5184, 3)\n",
            "pad shape is [(64, 64), (224, 224), (0, 0)]\n",
            "output shape (3584, 5632, 3)\n",
            "input shape (3456, 5184, 3)\n",
            "pad shape is [(64, 64), (224, 224), (0, 0)]\n",
            "output shape (3584, 5632, 3)\n",
            "input shape (3456, 5184, 3)\n",
            "pad shape is [(64, 64), (224, 224), (0, 0)]\n",
            "output shape (3584, 5632, 3)\n",
            "input shape (3456, 5184, 3)\n",
            "pad shape is [(64, 64), (224, 224), (0, 0)]\n",
            "output shape (3584, 5632, 3)\n",
            "input shape (3456, 5184, 3)\n",
            "pad shape is [(64, 64), (224, 224), (0, 0)]\n",
            "output shape (3584, 5632, 3)\n",
            "input shape (3456, 5184, 3)\n",
            "pad shape is [(64, 64), (224, 224), (0, 0)]\n",
            "output shape (3584, 5632, 3)\n",
            "input shape (3456, 5184, 3)\n",
            "pad shape is [(64, 64), (224, 224), (0, 0)]\n",
            "output shape (3584, 5632, 3)\n",
            "input shape (3456, 5184, 3)\n",
            "pad shape is [(64, 64), (224, 224), (0, 0)]\n",
            "output shape (3584, 5632, 3)\n",
            "input shape (3456, 5184, 3)\n",
            "pad shape is [(64, 64), (224, 224), (0, 0)]\n",
            "output shape (3584, 5632, 3)\n",
            "input shape (3456, 5184, 3)\n",
            "pad shape is [(64, 64), (224, 224), (0, 0)]\n",
            "output shape (3584, 5632, 3)\n",
            "input shape (3456, 5184, 3)\n",
            "pad shape is [(64, 64), (224, 224), (0, 0)]\n",
            "output shape (3584, 5632, 3)\n",
            "input shape (3456, 5184, 3)\n",
            "pad shape is [(64, 64), (224, 224), (0, 0)]\n",
            "output shape (3584, 5632, 3)\n",
            "input shape (3456, 5184, 3)\n",
            "pad shape is [(64, 64), (224, 224), (0, 0)]\n",
            "output shape (3584, 5632, 3)\n",
            "input shape (3456, 5184, 3)\n",
            "pad shape is [(64, 64), (224, 224), (0, 0)]\n",
            "output shape (3584, 5632, 3)\n",
            "input shape (3456, 5184, 3)\n",
            "pad shape is [(64, 64), (224, 224), (0, 0)]\n",
            "output shape (3584, 5632, 3)\n",
            "input shape (3456, 5184, 3)\n",
            "pad shape is [(64, 64), (224, 224), (0, 0)]\n",
            "output shape (3584, 5632, 3)\n",
            "input shape (3456, 5184, 3)\n",
            "pad shape is [(64, 64), (224, 224), (0, 0)]\n",
            "output shape (3584, 5632, 3)\n",
            "input shape (3456, 5184, 3)\n",
            "pad shape is [(64, 64), (224, 224), (0, 0)]\n",
            "output shape (3584, 5632, 3)\n",
            "input shape (3456, 5184, 3)\n",
            "pad shape is [(64, 64), (224, 224), (0, 0)]\n",
            "output shape (3584, 5632, 3)\n",
            "input shape (3456, 5184, 3)\n",
            "pad shape is [(64, 64), (224, 224), (0, 0)]\n",
            "output shape (3584, 5632, 3)\n",
            "input shape (3456, 5184, 3)\n",
            "pad shape is [(64, 64), (224, 224), (0, 0)]\n",
            "output shape (3584, 5632, 3)\n",
            "input shape (3456, 5184, 3)\n",
            "pad shape is [(64, 64), (224, 224), (0, 0)]\n",
            "output shape (3584, 5632, 3)\n",
            "input shape (3456, 5184, 3)\n",
            "pad shape is [(64, 64), (224, 224), (0, 0)]\n",
            "output shape (3584, 5632, 3)\n",
            "input shape (3456, 5184, 3)\n",
            "pad shape is [(64, 64), (224, 224), (0, 0)]\n",
            "output shape (3584, 5632, 3)\n",
            "input shape (3456, 5184, 3)\n",
            "pad shape is [(64, 64), (224, 224), (0, 0)]\n",
            "output shape (3584, 5632, 3)\n",
            "input shape (3456, 5184, 3)\n",
            "pad shape is [(64, 64), (224, 224), (0, 0)]\n",
            "output shape (3584, 5632, 3)\n",
            "input shape (3456, 5184, 3)\n",
            "pad shape is [(64, 64), (224, 224), (0, 0)]\n",
            "output shape (3584, 5632, 3)\n",
            "input shape (3456, 5184, 3)\n",
            "pad shape is [(64, 64), (224, 224), (0, 0)]\n",
            "output shape (3584, 5632, 3)\n",
            "input shape (3456, 5184, 3)\n",
            "pad shape is [(64, 64), (224, 224), (0, 0)]\n",
            "output shape (3584, 5632, 3)\n",
            "input shape (3456, 5184, 3)\n",
            "pad shape is [(64, 64), (224, 224), (0, 0)]\n",
            "output shape (3584, 5632, 3)\n",
            "input shape (3456, 5184, 3)\n",
            "pad shape is [(64, 64), (224, 224), (0, 0)]\n",
            "output shape (3584, 5632, 3)\n",
            "input shape (3456, 5184, 3)\n",
            "pad shape is [(64, 64), (224, 224), (0, 0)]\n",
            "output shape (3584, 5632, 3)\n",
            "input shape (3456, 5184, 3)\n",
            "pad shape is [(64, 64), (224, 224), (0, 0)]\n",
            "output shape (3584, 5632, 3)\n",
            "input shape (3456, 5184, 3)\n",
            "pad shape is [(64, 64), (224, 224), (0, 0)]\n",
            "output shape (3584, 5632, 3)\n",
            "input shape (3456, 5184, 3)\n",
            "pad shape is [(64, 64), (224, 224), (0, 0)]\n",
            "output shape (3584, 5632, 3)\n",
            "input shape (3456, 5184, 3)\n",
            "pad shape is [(64, 64), (224, 224), (0, 0)]\n",
            "output shape (3584, 5632, 3)\n",
            "input shape (3456, 5184, 3)\n",
            "pad shape is [(64, 64), (224, 224), (0, 0)]\n",
            "output shape (3584, 5632, 3)\n",
            "input shape (3456, 5184, 3)\n",
            "pad shape is [(64, 64), (224, 224), (0, 0)]\n",
            "output shape (3584, 5632, 3)\n",
            "input shape (3456, 5184, 3)\n",
            "pad shape is [(64, 64), (224, 224), (0, 0)]\n",
            "output shape (3584, 5632, 3)\n",
            "input shape (3456, 5184, 3)\n",
            "pad shape is [(64, 64), (224, 224), (0, 0)]\n",
            "output shape (3584, 5632, 3)\n",
            "input shape (3456, 5184, 3)\n",
            "pad shape is [(64, 64), (224, 224), (0, 0)]\n",
            "output shape (3584, 5632, 3)\n",
            "input shape (3456, 5184, 3)\n",
            "pad shape is [(64, 64), (224, 224), (0, 0)]\n",
            "output shape (3584, 5632, 3)\n",
            "input shape (3456, 5184, 3)\n",
            "pad shape is [(64, 64), (224, 224), (0, 0)]\n",
            "output shape (3584, 5632, 3)\n",
            "input shape (3456, 5184, 3)\n",
            "pad shape is [(64, 64), (224, 224), (0, 0)]\n",
            "output shape (3584, 5632, 3)\n",
            "input shape (3456, 5184, 3)\n",
            "pad shape is [(64, 64), (224, 224), (0, 0)]\n",
            "output shape (3584, 5632, 3)\n",
            "input shape (3456, 5184, 3)\n",
            "pad shape is [(64, 64), (224, 224), (0, 0)]\n",
            "output shape (3584, 5632, 3)\n",
            "input shape (3456, 5184, 3)\n",
            "pad shape is [(64, 64), (224, 224), (0, 0)]\n",
            "output shape (3584, 5632, 3)\n",
            "input shape (3456, 5184, 3)\n",
            "pad shape is [(64, 64), (224, 224), (0, 0)]\n",
            "output shape (3584, 5632, 3)\n",
            "input shape (3456, 5184, 3)\n",
            "pad shape is [(64, 64), (224, 224), (0, 0)]\n",
            "output shape (3584, 5632, 3)\n",
            "input shape (3456, 5184, 3)\n",
            "pad shape is [(64, 64), (224, 224), (0, 0)]\n",
            "output shape (3584, 5632, 3)\n",
            "input shape (3456, 5184, 3)\n",
            "pad shape is [(64, 64), (224, 224), (0, 0)]\n",
            "output shape (3584, 5632, 3)\n",
            "input shape (3456, 5184, 3)\n",
            "pad shape is [(64, 64), (224, 224), (0, 0)]\n",
            "output shape (3584, 5632, 3)\n",
            "input shape (3456, 5184, 3)\n",
            "pad shape is [(64, 64), (224, 224), (0, 0)]\n",
            "output shape (3584, 5632, 3)\n",
            "input shape (3456, 5184, 3)\n",
            "pad shape is [(64, 64), (224, 224), (0, 0)]\n",
            "output shape (3584, 5632, 3)\n",
            "input shape (3456, 5184, 3)\n",
            "pad shape is [(64, 64), (224, 224), (0, 0)]\n",
            "output shape (3584, 5632, 3)\n",
            "input shape (3456, 5184, 3)\n",
            "pad shape is [(64, 64), (224, 224), (0, 0)]\n",
            "output shape (3584, 5632, 3)\n",
            "input shape (3456, 5184, 3)\n",
            "pad shape is [(64, 64), (224, 224), (0, 0)]\n",
            "output shape (3584, 5632, 3)\n",
            "input shape (3456, 5184, 3)\n",
            "pad shape is [(64, 64), (224, 224), (0, 0)]\n",
            "output shape (3584, 5632, 3)\n",
            "input shape (3456, 5184, 3)\n",
            "pad shape is [(64, 64), (224, 224), (0, 0)]\n",
            "output shape (3584, 5632, 3)\n",
            "input shape (3456, 5184, 3)\n",
            "pad shape is [(64, 64), (224, 224), (0, 0)]\n",
            "output shape (3584, 5632, 3)\n",
            "input shape (3456, 5184, 3)\n",
            "pad shape is [(64, 64), (224, 224), (0, 0)]\n",
            "output shape (3584, 5632, 3)\n",
            "input shape (3456, 5184, 3)\n",
            "pad shape is [(64, 64), (224, 224), (0, 0)]\n",
            "output shape (3584, 5632, 3)\n",
            "input shape (3456, 5184, 3)\n",
            "pad shape is [(64, 64), (224, 224), (0, 0)]\n",
            "output shape (3584, 5632, 3)\n",
            "input shape (3456, 5184, 3)\n",
            "pad shape is [(64, 64), (224, 224), (0, 0)]\n",
            "output shape (3584, 5632, 3)\n",
            "input shape (3456, 5184, 3)\n",
            "pad shape is [(64, 64), (224, 224), (0, 0)]\n",
            "output shape (3584, 5632, 3)\n",
            "input shape (3456, 5184, 3)\n",
            "pad shape is [(64, 64), (224, 224), (0, 0)]\n",
            "output shape (3584, 5632, 3)\n",
            "input shape (3456, 5184, 3)\n",
            "pad shape is [(64, 64), (224, 224), (0, 0)]\n",
            "output shape (3584, 5632, 3)\n",
            "input shape (3456, 5184, 3)\n",
            "pad shape is [(64, 64), (224, 224), (0, 0)]\n",
            "output shape (3584, 5632, 3)\n",
            "input shape (3456, 5184, 3)\n",
            "pad shape is [(64, 64), (224, 224), (0, 0)]\n",
            "output shape (3584, 5632, 3)\n",
            "input shape (3456, 5184, 3)\n",
            "pad shape is [(64, 64), (224, 224), (0, 0)]\n",
            "output shape (3584, 5632, 3)\n",
            "input shape (3456, 5184, 3)\n",
            "pad shape is [(64, 64), (224, 224), (0, 0)]\n",
            "output shape (3584, 5632, 3)\n",
            "input shape (3456, 5184, 3)\n",
            "pad shape is [(64, 64), (224, 224), (0, 0)]\n",
            "output shape (3584, 5632, 3)\n",
            "input shape (3456, 5184, 3)\n",
            "pad shape is [(64, 64), (224, 224), (0, 0)]\n",
            "output shape (3584, 5632, 3)\n",
            "input shape (3456, 5184, 3)\n",
            "pad shape is [(64, 64), (224, 224), (0, 0)]\n",
            "output shape (3584, 5632, 3)\n",
            "input shape (3456, 5184, 3)\n",
            "pad shape is [(64, 64), (224, 224), (0, 0)]\n",
            "output shape (3584, 5632, 3)\n",
            "input shape (3456, 5184, 3)\n",
            "pad shape is [(64, 64), (224, 224), (0, 0)]\n",
            "output shape (3584, 5632, 3)\n",
            "input shape (3456, 5184, 3)\n",
            "pad shape is [(64, 64), (224, 224), (0, 0)]\n",
            "output shape (3584, 5632, 3)\n",
            "input shape (3456, 5184, 3)\n",
            "pad shape is [(64, 64), (224, 224), (0, 0)]\n",
            "output shape (3584, 5632, 3)\n",
            "input shape (3456, 5184, 3)\n",
            "pad shape is [(64, 64), (224, 224), (0, 0)]\n",
            "output shape (3584, 5632, 3)\n",
            "input shape (3456, 5184, 3)\n",
            "pad shape is [(64, 64), (224, 224), (0, 0)]\n",
            "output shape (3584, 5632, 3)\n",
            "input shape (3456, 5184, 3)\n",
            "pad shape is [(64, 64), (224, 224), (0, 0)]\n",
            "output shape (3584, 5632, 3)\n",
            "input shape (3456, 5184, 3)\n",
            "pad shape is [(64, 64), (224, 224), (0, 0)]\n",
            "output shape (3584, 5632, 3)\n",
            "input shape (3456, 5184, 3)\n",
            "pad shape is [(64, 64), (224, 224), (0, 0)]\n",
            "output shape (3584, 5632, 3)\n",
            "input shape (3456, 5184, 3)\n",
            "pad shape is [(64, 64), (224, 224), (0, 0)]\n",
            "output shape (3584, 5632, 3)\n",
            "input shape (3456, 5184, 3)\n",
            "pad shape is [(64, 64), (224, 224), (0, 0)]\n",
            "output shape (3584, 5632, 3)\n",
            "input shape (3456, 5184, 3)\n",
            "pad shape is [(64, 64), (224, 224), (0, 0)]\n",
            "output shape (3584, 5632, 3)\n",
            "input shape (3456, 5184, 3)\n",
            "pad shape is [(64, 64), (224, 224), (0, 0)]\n",
            "output shape (3584, 5632, 3)\n",
            "input shape (3456, 5184, 3)\n",
            "pad shape is [(64, 64), (224, 224), (0, 0)]\n",
            "output shape (3584, 5632, 3)\n",
            "input shape (3456, 5184, 3)\n",
            "pad shape is [(64, 64), (224, 224), (0, 0)]\n",
            "output shape (3584, 5632, 3)\n",
            "input shape (3456, 5184, 3)\n",
            "pad shape is [(64, 64), (224, 224), (0, 0)]\n",
            "output shape (3584, 5632, 3)\n",
            "input shape (3456, 5184, 3)\n",
            "pad shape is [(64, 64), (224, 224), (0, 0)]\n",
            "output shape (3584, 5632, 3)\n",
            "input shape (3456, 5184, 3)\n",
            "pad shape is [(64, 64), (224, 224), (0, 0)]\n",
            "output shape (3584, 5632, 3)\n",
            "input shape (3456, 5184, 3)\n",
            "pad shape is [(64, 64), (224, 224), (0, 0)]\n",
            "output shape (3584, 5632, 3)\n",
            "input shape (3456, 5184, 3)\n",
            "pad shape is [(64, 64), (224, 224), (0, 0)]\n",
            "output shape (3584, 5632, 3)\n",
            "input shape (3456, 5184, 3)\n",
            "pad shape is [(64, 64), (224, 224), (0, 0)]\n",
            "output shape (3584, 5632, 3)\n",
            "input shape (3456, 5184, 3)\n",
            "pad shape is [(64, 64), (224, 224), (0, 0)]\n",
            "output shape (3584, 5632, 3)\n",
            "input shape (3456, 5184, 3)\n",
            "pad shape is [(64, 64), (224, 224), (0, 0)]\n",
            "output shape (3584, 5632, 3)\n",
            "input shape (3456, 5184, 3)\n",
            "pad shape is [(64, 64), (224, 224), (0, 0)]\n",
            "output shape (3584, 5632, 3)\n",
            "input shape (3456, 5184, 3)\n",
            "pad shape is [(64, 64), (224, 224), (0, 0)]\n",
            "output shape (3584, 5632, 3)\n",
            "input shape (3456, 5184, 3)\n",
            "pad shape is [(64, 64), (224, 224), (0, 0)]\n",
            "output shape (3584, 5632, 3)\n",
            "input shape (3456, 5184, 3)\n",
            "pad shape is [(64, 64), (224, 224), (0, 0)]\n",
            "output shape (3584, 5632, 3)\n",
            "input shape (3456, 5184, 3)\n",
            "pad shape is [(64, 64), (224, 224), (0, 0)]\n",
            "output shape (3584, 5632, 3)\n",
            "input shape (3456, 5184, 3)\n",
            "pad shape is [(64, 64), (224, 224), (0, 0)]\n",
            "output shape (3584, 5632, 3)\n",
            "input shape (3456, 5184, 3)\n",
            "pad shape is [(64, 64), (224, 224), (0, 0)]\n",
            "output shape (3584, 5632, 3)\n",
            "input shape (3456, 5184, 3)\n",
            "pad shape is [(64, 64), (224, 224), (0, 0)]\n",
            "output shape (3584, 5632, 3)\n",
            "input shape (3456, 5184, 3)\n",
            "pad shape is [(64, 64), (224, 224), (0, 0)]\n",
            "output shape (3584, 5632, 3)\n",
            "input shape (3456, 5184, 3)\n",
            "pad shape is [(64, 64), (224, 224), (0, 0)]\n",
            "output shape (3584, 5632, 3)\n",
            "input shape (3456, 5184, 3)\n",
            "pad shape is [(64, 64), (224, 224), (0, 0)]\n",
            "output shape (3584, 5632, 3)\n",
            "input shape (3456, 5184, 3)\n",
            "pad shape is [(64, 64), (224, 224), (0, 0)]\n",
            "output shape (3584, 5632, 3)\n",
            "input shape (3456, 5184, 3)\n",
            "pad shape is [(64, 64), (224, 224), (0, 0)]\n",
            "output shape (3584, 5632, 3)\n",
            "input shape (3456, 5184, 3)\n",
            "pad shape is [(64, 64), (224, 224), (0, 0)]\n",
            "output shape (3584, 5632, 3)\n",
            "input shape (3456, 5184, 3)\n",
            "pad shape is [(64, 64), (224, 224), (0, 0)]\n",
            "output shape (3584, 5632, 3)\n",
            "input shape (3456, 5184, 3)\n",
            "pad shape is [(64, 64), (224, 224), (0, 0)]\n",
            "output shape (3584, 5632, 3)\n",
            "input shape (3456, 5184, 3)\n",
            "pad shape is [(64, 64), (224, 224), (0, 0)]\n",
            "output shape (3584, 5632, 3)\n",
            "input shape (3456, 5184, 3)\n",
            "pad shape is [(64, 64), (224, 224), (0, 0)]\n",
            "output shape (3584, 5632, 3)\n",
            "input shape (3456, 5184, 3)\n",
            "pad shape is [(64, 64), (224, 224), (0, 0)]\n",
            "output shape (3584, 5632, 3)\n",
            "input shape (3456, 5184, 3)\n",
            "pad shape is [(64, 64), (224, 224), (0, 0)]\n",
            "output shape (3584, 5632, 3)\n",
            "input shape (3456, 5184, 3)\n",
            "pad shape is [(64, 64), (224, 224), (0, 0)]\n",
            "output shape (3584, 5632, 3)\n",
            "input shape (3456, 5184, 3)\n",
            "pad shape is [(64, 64), (224, 224), (0, 0)]\n",
            "output shape (3584, 5632, 3)\n",
            "input shape (3456, 5184, 3)\n",
            "pad shape is [(64, 64), (224, 224), (0, 0)]\n",
            "output shape (3584, 5632, 3)\n",
            "input shape (3456, 5184, 3)\n",
            "pad shape is [(64, 64), (224, 224), (0, 0)]\n",
            "output shape (3584, 5632, 3)\n",
            "input shape (3456, 5184, 3)\n",
            "pad shape is [(64, 64), (224, 224), (0, 0)]\n",
            "output shape (3584, 5632, 3)\n",
            "input shape (3456, 5184, 3)\n",
            "pad shape is [(64, 64), (224, 224), (0, 0)]\n",
            "output shape (3584, 5632, 3)\n",
            "input shape (3456, 5184, 3)\n",
            "pad shape is [(64, 64), (224, 224), (0, 0)]\n",
            "output shape (3584, 5632, 3)\n",
            "input shape (3456, 5184, 3)\n",
            "pad shape is [(64, 64), (224, 224), (0, 0)]\n",
            "output shape (3584, 5632, 3)\n",
            "input shape (3456, 5184, 3)\n",
            "pad shape is [(64, 64), (224, 224), (0, 0)]\n",
            "output shape (3584, 5632, 3)\n",
            "input shape (3456, 5184, 3)\n",
            "pad shape is [(64, 64), (224, 224), (0, 0)]\n",
            "output shape (3584, 5632, 3)\n",
            "input shape (3456, 5184, 3)\n",
            "pad shape is [(64, 64), (224, 224), (0, 0)]\n",
            "output shape (3584, 5632, 3)\n",
            "input shape (3456, 5184, 3)\n",
            "pad shape is [(64, 64), (224, 224), (0, 0)]\n",
            "output shape (3584, 5632, 3)\n",
            "input shape (3456, 5184, 3)\n",
            "pad shape is [(64, 64), (224, 224), (0, 0)]\n",
            "output shape (3584, 5632, 3)\n",
            "input shape (3456, 5184, 3)\n",
            "pad shape is [(64, 64), (224, 224), (0, 0)]\n",
            "output shape (3584, 5632, 3)\n",
            "input shape (3456, 5184, 3)\n",
            "pad shape is [(64, 64), (224, 224), (0, 0)]\n",
            "output shape (3584, 5632, 3)\n",
            "input shape (3456, 5184, 3)\n",
            "pad shape is [(64, 64), (224, 224), (0, 0)]\n",
            "output shape (3584, 5632, 3)\n",
            "input shape (3456, 5184, 3)\n",
            "pad shape is [(64, 64), (224, 224), (0, 0)]\n",
            "output shape (3584, 5632, 3)\n",
            "input shape (3456, 5184, 3)\n",
            "pad shape is [(64, 64), (224, 224), (0, 0)]\n",
            "output shape (3584, 5632, 3)\n",
            "input shape (3456, 5184, 3)\n",
            "pad shape is [(64, 64), (224, 224), (0, 0)]\n",
            "output shape (3584, 5632, 3)\n",
            "input shape (3456, 5184, 3)\n",
            "pad shape is [(64, 64), (224, 224), (0, 0)]\n",
            "output shape (3584, 5632, 3)\n",
            "input shape (3456, 5184, 3)\n",
            "pad shape is [(64, 64), (224, 224), (0, 0)]\n",
            "output shape (3584, 5632, 3)\n",
            "input shape (3456, 5184, 3)\n",
            "pad shape is [(64, 64), (224, 224), (0, 0)]\n",
            "output shape (3584, 5632, 3)\n",
            "input shape (3456, 5184, 3)\n",
            "pad shape is [(64, 64), (224, 224), (0, 0)]\n",
            "output shape (3584, 5632, 3)\n",
            "input shape (3456, 5184, 3)\n",
            "pad shape is [(64, 64), (224, 224), (0, 0)]\n",
            "output shape (3584, 5632, 3)\n",
            "input shape (3456, 5184, 3)\n",
            "pad shape is [(64, 64), (224, 224), (0, 0)]\n",
            "output shape (3584, 5632, 3)\n",
            "input shape (3456, 5184, 3)\n",
            "pad shape is [(64, 64), (224, 224), (0, 0)]\n",
            "output shape (3584, 5632, 3)\n",
            "input shape (3456, 5184, 3)\n",
            "pad shape is [(64, 64), (224, 224), (0, 0)]\n",
            "output shape (3584, 5632, 3)\n",
            "input shape (3456, 5184, 3)\n",
            "pad shape is [(64, 64), (224, 224), (0, 0)]\n",
            "output shape (3584, 5632, 3)\n",
            "input shape (3456, 5184, 3)\n",
            "pad shape is [(64, 64), (224, 224), (0, 0)]\n",
            "output shape (3584, 5632, 3)\n",
            "input shape (3456, 5184, 3)\n",
            "pad shape is [(64, 64), (224, 224), (0, 0)]\n",
            "output shape (3584, 5632, 3)\n",
            "input shape (3456, 5184, 3)\n",
            "pad shape is [(64, 64), (224, 224), (0, 0)]\n",
            "output shape (3584, 5632, 3)\n",
            "input shape (3456, 5184, 3)\n",
            "pad shape is [(64, 64), (224, 224), (0, 0)]\n",
            "output shape (3584, 5632, 3)\n",
            "input shape (3456, 5184, 3)\n",
            "pad shape is [(64, 64), (224, 224), (0, 0)]\n",
            "output shape (3584, 5632, 3)\n",
            "input shape (3456, 5184, 3)\n",
            "pad shape is [(64, 64), (224, 224), (0, 0)]\n",
            "output shape (3584, 5632, 3)\n",
            "input shape (3456, 5184, 3)\n",
            "pad shape is [(64, 64), (224, 224), (0, 0)]\n",
            "output shape (3584, 5632, 3)\n",
            "input shape (3456, 5184, 3)\n",
            "pad shape is [(64, 64), (224, 224), (0, 0)]\n",
            "output shape (3584, 5632, 3)\n",
            "input shape (3456, 5184, 3)\n",
            "pad shape is [(64, 64), (224, 224), (0, 0)]\n",
            "output shape (3584, 5632, 3)\n",
            "input shape (3456, 5184, 3)\n",
            "pad shape is [(64, 64), (224, 224), (0, 0)]\n",
            "output shape (3584, 5632, 3)\n",
            "input shape (3456, 5184, 3)\n",
            "pad shape is [(64, 64), (224, 224), (0, 0)]\n",
            "output shape (3584, 5632, 3)\n",
            "input shape (3456, 5184, 3)\n",
            "pad shape is [(64, 64), (224, 224), (0, 0)]\n",
            "output shape (3584, 5632, 3)\n",
            "input shape (3456, 5184, 3)\n",
            "pad shape is [(64, 64), (224, 224), (0, 0)]\n",
            "output shape (3584, 5632, 3)\n",
            "input shape (3456, 5184, 3)\n",
            "pad shape is [(64, 64), (224, 224), (0, 0)]\n",
            "output shape (3584, 5632, 3)\n",
            "input shape (3456, 5184, 3)\n",
            "pad shape is [(64, 64), (224, 224), (0, 0)]\n",
            "output shape (3584, 5632, 3)\n",
            "input shape (3456, 5184, 3)\n",
            "pad shape is [(64, 64), (224, 224), (0, 0)]\n",
            "output shape (3584, 5632, 3)\n",
            "input shape (3456, 5184, 3)\n",
            "pad shape is [(64, 64), (224, 224), (0, 0)]\n",
            "output shape (3584, 5632, 3)\n",
            "input shape (3456, 5184, 3)\n",
            "pad shape is [(64, 64), (224, 224), (0, 0)]\n",
            "output shape (3584, 5632, 3)\n",
            "input shape (3456, 5184, 3)\n",
            "pad shape is [(64, 64), (224, 224), (0, 0)]\n",
            "output shape (3584, 5632, 3)\n",
            "input shape (3456, 5184, 3)\n",
            "pad shape is [(64, 64), (224, 224), (0, 0)]\n",
            "output shape (3584, 5632, 3)\n",
            "input shape (3456, 5184, 3)\n",
            "pad shape is [(64, 64), (224, 224), (0, 0)]\n",
            "output shape (3584, 5632, 3)\n",
            "input shape (3456, 5184, 3)\n",
            "pad shape is [(64, 64), (224, 224), (0, 0)]\n",
            "output shape (3584, 5632, 3)\n",
            "input shape (3456, 5184, 3)\n",
            "pad shape is [(64, 64), (224, 224), (0, 0)]\n",
            "output shape (3584, 5632, 3)\n",
            "input shape (3456, 5184, 3)\n",
            "pad shape is [(64, 64), (224, 224), (0, 0)]\n",
            "output shape (3584, 5632, 3)\n",
            "input shape (3456, 5184, 3)\n",
            "pad shape is [(64, 64), (224, 224), (0, 0)]\n",
            "output shape (3584, 5632, 3)\n",
            "input shape (3456, 5184, 3)\n",
            "pad shape is [(64, 64), (224, 224), (0, 0)]\n",
            "output shape (3584, 5632, 3)\n",
            "input shape (3456, 5184, 3)\n",
            "pad shape is [(64, 64), (224, 224), (0, 0)]\n",
            "output shape (3584, 5632, 3)\n",
            "input shape (3456, 5184, 3)\n",
            "pad shape is [(64, 64), (224, 224), (0, 0)]\n",
            "output shape (3584, 5632, 3)\n",
            "input shape (3456, 5184, 3)\n",
            "pad shape is [(64, 64), (224, 224), (0, 0)]\n",
            "output shape (3584, 5632, 3)\n",
            "input shape (3456, 5184, 3)\n",
            "pad shape is [(64, 64), (224, 224), (0, 0)]\n",
            "output shape (3584, 5632, 3)\n",
            "input shape (3456, 5184, 3)\n",
            "pad shape is [(64, 64), (224, 224), (0, 0)]\n",
            "output shape (3584, 5632, 3)\n",
            "input shape (3456, 5184, 3)\n",
            "pad shape is [(64, 64), (224, 224), (0, 0)]\n",
            "output shape (3584, 5632, 3)\n",
            "input shape (3456, 5184, 3)\n",
            "pad shape is [(64, 64), (224, 224), (0, 0)]\n",
            "output shape (3584, 5632, 3)\n",
            "input shape (3456, 5184, 3)\n",
            "pad shape is [(64, 64), (224, 224), (0, 0)]\n",
            "output shape (3584, 5632, 3)\n",
            "input shape (3456, 5184, 3)\n",
            "pad shape is [(64, 64), (224, 224), (0, 0)]\n",
            "output shape (3584, 5632, 3)\n",
            "input shape (3456, 5184, 3)\n",
            "pad shape is [(64, 64), (224, 224), (0, 0)]\n",
            "output shape (3584, 5632, 3)\n",
            "input shape (3456, 5184, 3)\n",
            "pad shape is [(64, 64), (224, 224), (0, 0)]\n",
            "output shape (3584, 5632, 3)\n",
            "input shape (3456, 5184, 3)\n",
            "pad shape is [(64, 64), (224, 224), (0, 0)]\n",
            "output shape (3584, 5632, 3)\n",
            "input shape (3456, 5184, 3)\n",
            "pad shape is [(64, 64), (224, 224), (0, 0)]\n",
            "output shape (3584, 5632, 3)\n",
            "input shape (3456, 5184, 3)\n",
            "pad shape is [(64, 64), (224, 224), (0, 0)]\n",
            "output shape (3584, 5632, 3)\n",
            "input shape (3456, 5184, 3)\n",
            "pad shape is [(64, 64), (224, 224), (0, 0)]\n",
            "output shape (3584, 5632, 3)\n",
            "input shape (3456, 5184, 3)\n",
            "pad shape is [(64, 64), (224, 224), (0, 0)]\n",
            "output shape (3584, 5632, 3)\n",
            "input shape (3456, 5184, 3)\n",
            "pad shape is [(64, 64), (224, 224), (0, 0)]\n",
            "output shape (3584, 5632, 3)\n",
            "input shape (3456, 5184, 3)\n",
            "pad shape is [(64, 64), (224, 224), (0, 0)]\n",
            "output shape (3584, 5632, 3)\n",
            "input shape (3456, 5184, 3)\n",
            "pad shape is [(64, 64), (224, 224), (0, 0)]\n",
            "output shape (3584, 5632, 3)\n",
            "input shape (3456, 5184, 3)\n",
            "pad shape is [(64, 64), (224, 224), (0, 0)]\n",
            "output shape (3584, 5632, 3)\n",
            "input shape (3456, 5184, 3)\n",
            "pad shape is [(64, 64), (224, 224), (0, 0)]\n",
            "output shape (3584, 5632, 3)\n",
            "input shape (3456, 5184, 3)\n",
            "pad shape is [(64, 64), (224, 224), (0, 0)]\n",
            "output shape (3584, 5632, 3)\n",
            "input shape (3456, 5184, 3)\n",
            "pad shape is [(64, 64), (224, 224), (0, 0)]\n",
            "output shape (3584, 5632, 3)\n",
            "input shape (3456, 5184, 3)\n",
            "pad shape is [(64, 64), (224, 224), (0, 0)]\n",
            "output shape (3584, 5632, 3)\n",
            "input shape (3456, 5184, 3)\n",
            "pad shape is [(64, 64), (224, 224), (0, 0)]\n",
            "output shape (3584, 5632, 3)\n",
            "input shape (3456, 5184, 3)\n",
            "pad shape is [(64, 64), (224, 224), (0, 0)]\n",
            "output shape (3584, 5632, 3)\n",
            "input shape (3456, 5184, 3)\n",
            "pad shape is [(64, 64), (224, 224), (0, 0)]\n",
            "output shape (3584, 5632, 3)\n",
            "input shape (3456, 5184, 3)\n",
            "pad shape is [(64, 64), (224, 224), (0, 0)]\n",
            "output shape (3584, 5632, 3)\n",
            "input shape (3456, 5184, 3)\n",
            "pad shape is [(64, 64), (224, 224), (0, 0)]\n",
            "output shape (3584, 5632, 3)\n",
            "input shape (1536, 2048, 3)\n",
            "pad shape is [(0, 0), (0, 0), (0, 0)]\n",
            "output shape (1536, 2048, 3)\n",
            "input shape (1536, 2048, 3)\n",
            "pad shape is [(0, 0), (0, 0), (0, 0)]\n",
            "output shape (1536, 2048, 3)\n",
            "input shape (1536, 2048, 3)\n",
            "pad shape is [(0, 0), (0, 0), (0, 0)]\n",
            "output shape (1536, 2048, 3)\n",
            "input shape (1536, 2048, 3)\n",
            "pad shape is [(0, 0), (0, 0), (0, 0)]\n",
            "output shape (1536, 2048, 3)\n",
            "input shape (1536, 2048, 3)\n",
            "pad shape is [(0, 0), (0, 0), (0, 0)]\n",
            "output shape (1536, 2048, 3)\n",
            "input shape (1536, 2048, 3)\n",
            "pad shape is [(0, 0), (0, 0), (0, 0)]\n",
            "output shape (1536, 2048, 3)\n",
            "input shape (1536, 2048, 3)\n",
            "pad shape is [(0, 0), (0, 0), (0, 0)]\n",
            "output shape (1536, 2048, 3)\n",
            "input shape (1536, 2048, 3)\n",
            "pad shape is [(0, 0), (0, 0), (0, 0)]\n",
            "output shape (1536, 2048, 3)\n",
            "input shape (1536, 2048, 3)\n",
            "pad shape is [(0, 0), (0, 0), (0, 0)]\n",
            "output shape (1536, 2048, 3)\n",
            "input shape (1536, 2048, 3)\n",
            "pad shape is [(0, 0), (0, 0), (0, 0)]\n",
            "output shape (1536, 2048, 3)\n",
            "input shape (1536, 2048, 3)\n",
            "pad shape is [(0, 0), (0, 0), (0, 0)]\n",
            "output shape (1536, 2048, 3)\n",
            "input shape (1536, 2048, 3)\n",
            "pad shape is [(0, 0), (0, 0), (0, 0)]\n",
            "output shape (1536, 2048, 3)\n",
            "input shape (1536, 2048, 3)\n",
            "pad shape is [(0, 0), (0, 0), (0, 0)]\n",
            "output shape (1536, 2048, 3)\n",
            "input shape (1536, 2048, 3)\n",
            "pad shape is [(0, 0), (0, 0), (0, 0)]\n",
            "output shape (1536, 2048, 3)\n",
            "input shape (1536, 2048, 3)\n",
            "pad shape is [(0, 0), (0, 0), (0, 0)]\n",
            "output shape (1536, 2048, 3)\n",
            "input shape (1536, 2048, 3)\n",
            "pad shape is [(0, 0), (0, 0), (0, 0)]\n",
            "output shape (1536, 2048, 3)\n",
            "input shape (1536, 2048, 3)\n",
            "pad shape is [(0, 0), (0, 0), (0, 0)]\n",
            "output shape (1536, 2048, 3)\n",
            "input shape (1536, 2048, 3)\n",
            "pad shape is [(0, 0), (0, 0), (0, 0)]\n",
            "output shape (1536, 2048, 3)\n",
            "input shape (1536, 2048, 3)\n",
            "pad shape is [(0, 0), (0, 0), (0, 0)]\n",
            "output shape (1536, 2048, 3)\n",
            "input shape (1536, 2048, 3)\n",
            "pad shape is [(0, 0), (0, 0), (0, 0)]\n",
            "output shape (1536, 2048, 3)\n",
            "input shape (1536, 2048, 3)\n",
            "pad shape is [(0, 0), (0, 0), (0, 0)]\n",
            "output shape (1536, 2048, 3)\n",
            "input shape (1536, 2048, 3)\n",
            "pad shape is [(0, 0), (0, 0), (0, 0)]\n",
            "output shape (1536, 2048, 3)\n",
            "input shape (1536, 2048, 3)\n",
            "pad shape is [(0, 0), (0, 0), (0, 0)]\n",
            "output shape (1536, 2048, 3)\n",
            "input shape (1536, 2048, 3)\n",
            "pad shape is [(0, 0), (0, 0), (0, 0)]\n",
            "output shape (1536, 2048, 3)\n",
            "input shape (1536, 2048, 3)\n",
            "pad shape is [(0, 0), (0, 0), (0, 0)]\n",
            "output shape (1536, 2048, 3)\n",
            "input shape (1536, 2048, 3)\n",
            "pad shape is [(0, 0), (0, 0), (0, 0)]\n",
            "output shape (1536, 2048, 3)\n",
            "input shape (1536, 2048, 3)\n",
            "pad shape is [(0, 0), (0, 0), (0, 0)]\n",
            "output shape (1536, 2048, 3)\n",
            "input shape (1536, 2048, 3)\n",
            "pad shape is [(0, 0), (0, 0), (0, 0)]\n",
            "output shape (1536, 2048, 3)\n",
            "input shape (1536, 2048, 3)\n",
            "pad shape is [(0, 0), (0, 0), (0, 0)]\n",
            "output shape (1536, 2048, 3)\n",
            "input shape (1536, 2048, 3)\n",
            "pad shape is [(0, 0), (0, 0), (0, 0)]\n",
            "output shape (1536, 2048, 3)\n",
            "input shape (1536, 2048, 3)\n",
            "pad shape is [(0, 0), (0, 0), (0, 0)]\n",
            "output shape (1536, 2048, 3)\n",
            "input shape (1536, 2048, 3)\n",
            "pad shape is [(0, 0), (0, 0), (0, 0)]\n",
            "output shape (1536, 2048, 3)\n",
            "input shape (1536, 2048, 3)\n",
            "pad shape is [(0, 0), (0, 0), (0, 0)]\n",
            "output shape (1536, 2048, 3)\n",
            "input shape (1536, 2048, 3)\n",
            "pad shape is [(0, 0), (0, 0), (0, 0)]\n",
            "output shape (1536, 2048, 3)\n",
            "input shape (1536, 2048, 3)\n",
            "pad shape is [(0, 0), (0, 0), (0, 0)]\n",
            "output shape (1536, 2048, 3)\n",
            "input shape (1536, 2048, 3)\n",
            "pad shape is [(0, 0), (0, 0), (0, 0)]\n",
            "output shape (1536, 2048, 3)\n",
            "input shape (1536, 2048, 3)\n",
            "pad shape is [(0, 0), (0, 0), (0, 0)]\n",
            "output shape (1536, 2048, 3)\n",
            "input shape (1536, 2048, 3)\n",
            "pad shape is [(0, 0), (0, 0), (0, 0)]\n",
            "output shape (1536, 2048, 3)\n",
            "input shape (1536, 2048, 3)\n",
            "pad shape is [(0, 0), (0, 0), (0, 0)]\n",
            "output shape (1536, 2048, 3)\n",
            "input shape (1536, 2048, 3)\n",
            "pad shape is [(0, 0), (0, 0), (0, 0)]\n",
            "output shape (1536, 2048, 3)\n",
            "input shape (1536, 2048, 3)\n",
            "pad shape is [(0, 0), (0, 0), (0, 0)]\n",
            "output shape (1536, 2048, 3)\n",
            "input shape (1536, 2048, 3)\n",
            "pad shape is [(0, 0), (0, 0), (0, 0)]\n",
            "output shape (1536, 2048, 3)\n",
            "input shape (1536, 2048, 3)\n",
            "pad shape is [(0, 0), (0, 0), (0, 0)]\n",
            "output shape (1536, 2048, 3)\n",
            "input shape (1536, 2048, 3)\n",
            "pad shape is [(0, 0), (0, 0), (0, 0)]\n",
            "output shape (1536, 2048, 3)\n",
            "input shape (1536, 2048, 3)\n",
            "pad shape is [(0, 0), (0, 0), (0, 0)]\n",
            "output shape (1536, 2048, 3)\n",
            "input shape (1536, 2048, 3)\n",
            "pad shape is [(0, 0), (0, 0), (0, 0)]\n",
            "output shape (1536, 2048, 3)\n",
            "input shape (1536, 2048, 3)\n",
            "pad shape is [(0, 0), (0, 0), (0, 0)]\n",
            "output shape (1536, 2048, 3)\n",
            "input shape (1536, 2048, 3)\n",
            "pad shape is [(0, 0), (0, 0), (0, 0)]\n",
            "output shape (1536, 2048, 3)\n",
            "input shape (1536, 2048, 3)\n",
            "pad shape is [(0, 0), (0, 0), (0, 0)]\n",
            "output shape (1536, 2048, 3)\n",
            "input shape (1536, 2048, 3)\n",
            "pad shape is [(0, 0), (0, 0), (0, 0)]\n",
            "output shape (1536, 2048, 3)\n",
            "input shape (1536, 2048, 3)\n",
            "pad shape is [(0, 0), (0, 0), (0, 0)]\n",
            "output shape (1536, 2048, 3)\n",
            "input shape (1536, 2048, 3)\n",
            "pad shape is [(0, 0), (0, 0), (0, 0)]\n",
            "output shape (1536, 2048, 3)\n",
            "input shape (1536, 2048, 3)\n",
            "pad shape is [(0, 0), (0, 0), (0, 0)]\n",
            "output shape (1536, 2048, 3)\n",
            "input shape (1536, 2048, 3)\n",
            "pad shape is [(0, 0), (0, 0), (0, 0)]\n",
            "output shape (1536, 2048, 3)\n",
            "input shape (1536, 2048, 3)\n",
            "pad shape is [(0, 0), (0, 0), (0, 0)]\n",
            "output shape (1536, 2048, 3)\n",
            "input shape (1536, 2048, 3)\n",
            "pad shape is [(0, 0), (0, 0), (0, 0)]\n",
            "output shape (1536, 2048, 3)\n",
            "input shape (1536, 2048, 3)\n",
            "pad shape is [(0, 0), (0, 0), (0, 0)]\n",
            "output shape (1536, 2048, 3)\n",
            "input shape (1536, 2048, 3)\n",
            "pad shape is [(0, 0), (0, 0), (0, 0)]\n",
            "output shape (1536, 2048, 3)\n",
            "input shape (1536, 2048, 3)\n",
            "pad shape is [(0, 0), (0, 0), (0, 0)]\n",
            "output shape (1536, 2048, 3)\n",
            "input shape (1536, 2048, 3)\n",
            "pad shape is [(0, 0), (0, 0), (0, 0)]\n",
            "output shape (1536, 2048, 3)\n",
            "input shape (1536, 2048, 3)\n",
            "pad shape is [(0, 0), (0, 0), (0, 0)]\n",
            "output shape (1536, 2048, 3)\n",
            "input shape (1536, 2048, 3)\n",
            "pad shape is [(0, 0), (0, 0), (0, 0)]\n",
            "output shape (1536, 2048, 3)\n",
            "input shape (1536, 2048, 3)\n",
            "pad shape is [(0, 0), (0, 0), (0, 0)]\n",
            "output shape (1536, 2048, 3)\n",
            "input shape (1536, 2048, 3)\n",
            "pad shape is [(0, 0), (0, 0), (0, 0)]\n",
            "output shape (1536, 2048, 3)\n",
            "input shape (2464, 3280, 3)\n",
            "pad shape is [(48, 48), (152, 152), (0, 0)]\n",
            "output shape (2560, 3584, 3)\n",
            "input shape (2464, 3280, 3)\n",
            "pad shape is [(48, 48), (152, 152), (0, 0)]\n",
            "output shape (2560, 3584, 3)\n",
            "input shape (2464, 3280, 3)\n",
            "pad shape is [(48, 48), (152, 152), (0, 0)]\n",
            "output shape (2560, 3584, 3)\n",
            "input shape (2464, 3280, 3)\n",
            "pad shape is [(48, 48), (152, 152), (0, 0)]\n",
            "output shape (2560, 3584, 3)\n",
            "input shape (2464, 3280, 3)\n",
            "pad shape is [(48, 48), (152, 152), (0, 0)]\n",
            "output shape (2560, 3584, 3)\n",
            "input shape (2464, 3280, 3)\n",
            "pad shape is [(48, 48), (152, 152), (0, 0)]\n",
            "output shape (2560, 3584, 3)\n",
            "input shape (2464, 3280, 3)\n",
            "pad shape is [(48, 48), (152, 152), (0, 0)]\n",
            "output shape (2560, 3584, 3)\n",
            "input shape (2464, 3280, 3)\n",
            "pad shape is [(48, 48), (152, 152), (0, 0)]\n",
            "output shape (2560, 3584, 3)\n",
            "input shape (2464, 3280, 3)\n",
            "pad shape is [(48, 48), (152, 152), (0, 0)]\n",
            "output shape (2560, 3584, 3)\n",
            "input shape (2464, 3280, 3)\n",
            "pad shape is [(48, 48), (152, 152), (0, 0)]\n",
            "output shape (2560, 3584, 3)\n",
            "input shape (2464, 3280, 3)\n",
            "pad shape is [(48, 48), (152, 152), (0, 0)]\n",
            "output shape (2560, 3584, 3)\n",
            "input shape (2464, 3280, 3)\n",
            "pad shape is [(48, 48), (152, 152), (0, 0)]\n",
            "output shape (2560, 3584, 3)\n",
            "input shape (2464, 3280, 3)\n",
            "pad shape is [(48, 48), (152, 152), (0, 0)]\n",
            "output shape (2560, 3584, 3)\n",
            "input shape (2464, 3280, 3)\n",
            "pad shape is [(48, 48), (152, 152), (0, 0)]\n",
            "output shape (2560, 3584, 3)\n",
            "input shape (2464, 3280, 3)\n",
            "pad shape is [(48, 48), (152, 152), (0, 0)]\n",
            "output shape (2560, 3584, 3)\n",
            "input shape (2464, 3280, 3)\n",
            "pad shape is [(48, 48), (152, 152), (0, 0)]\n",
            "output shape (2560, 3584, 3)\n",
            "input shape (2464, 3280, 3)\n",
            "pad shape is [(48, 48), (152, 152), (0, 0)]\n",
            "output shape (2560, 3584, 3)\n",
            "input shape (2464, 3280, 3)\n",
            "pad shape is [(48, 48), (152, 152), (0, 0)]\n",
            "output shape (2560, 3584, 3)\n",
            "input shape (2464, 3280, 3)\n",
            "pad shape is [(48, 48), (152, 152), (0, 0)]\n",
            "output shape (2560, 3584, 3)\n",
            "input shape (2464, 3280, 3)\n",
            "pad shape is [(48, 48), (152, 152), (0, 0)]\n",
            "output shape (2560, 3584, 3)\n",
            "input shape (2464, 3280, 3)\n",
            "pad shape is [(48, 48), (152, 152), (0, 0)]\n",
            "output shape (2560, 3584, 3)\n",
            "input shape (2464, 3280, 3)\n",
            "pad shape is [(48, 48), (152, 152), (0, 0)]\n",
            "output shape (2560, 3584, 3)\n",
            "input shape (2464, 3280, 3)\n",
            "pad shape is [(48, 48), (152, 152), (0, 0)]\n",
            "output shape (2560, 3584, 3)\n",
            "input shape (2464, 3280, 3)\n",
            "pad shape is [(48, 48), (152, 152), (0, 0)]\n",
            "output shape (2560, 3584, 3)\n",
            "input shape (2464, 3280, 3)\n",
            "pad shape is [(48, 48), (152, 152), (0, 0)]\n",
            "output shape (2560, 3584, 3)\n",
            "input shape (2464, 3280, 3)\n",
            "pad shape is [(48, 48), (152, 152), (0, 0)]\n",
            "output shape (2560, 3584, 3)\n",
            "input shape (2464, 3280, 3)\n",
            "pad shape is [(48, 48), (152, 152), (0, 0)]\n",
            "output shape (2560, 3584, 3)\n",
            "input shape (2464, 3280, 3)\n",
            "pad shape is [(48, 48), (152, 152), (0, 0)]\n",
            "output shape (2560, 3584, 3)\n",
            "input shape (2464, 3280, 3)\n",
            "pad shape is [(48, 48), (152, 152), (0, 0)]\n",
            "output shape (2560, 3584, 3)\n",
            "input shape (2464, 3280, 3)\n",
            "pad shape is [(48, 48), (152, 152), (0, 0)]\n",
            "output shape (2560, 3584, 3)\n",
            "input shape (2464, 3280, 3)\n",
            "pad shape is [(48, 48), (152, 152), (0, 0)]\n",
            "output shape (2560, 3584, 3)\n",
            "input shape (2464, 3280, 3)\n",
            "pad shape is [(48, 48), (152, 152), (0, 0)]\n",
            "output shape (2560, 3584, 3)\n",
            "input shape (2464, 3280, 3)\n",
            "pad shape is [(48, 48), (152, 152), (0, 0)]\n",
            "output shape (2560, 3584, 3)\n",
            "input shape (2464, 3280, 3)\n",
            "pad shape is [(48, 48), (152, 152), (0, 0)]\n",
            "output shape (2560, 3584, 3)\n",
            "input shape (2464, 3280, 3)\n",
            "pad shape is [(48, 48), (152, 152), (0, 0)]\n",
            "output shape (2560, 3584, 3)\n",
            "input shape (2464, 3280, 3)\n",
            "pad shape is [(48, 48), (152, 152), (0, 0)]\n",
            "output shape (2560, 3584, 3)\n",
            "input shape (2464, 3280, 3)\n",
            "pad shape is [(48, 48), (152, 152), (0, 0)]\n",
            "output shape (2560, 3584, 3)\n",
            "input shape (2464, 3280, 3)\n",
            "pad shape is [(48, 48), (152, 152), (0, 0)]\n",
            "output shape (2560, 3584, 3)\n",
            "input shape (2464, 3280, 3)\n",
            "pad shape is [(48, 48), (152, 152), (0, 0)]\n",
            "output shape (2560, 3584, 3)\n",
            "input shape (2464, 3280, 3)\n",
            "pad shape is [(48, 48), (152, 152), (0, 0)]\n",
            "output shape (2560, 3584, 3)\n",
            "input shape (2464, 3280, 3)\n",
            "pad shape is [(48, 48), (152, 152), (0, 0)]\n",
            "output shape (2560, 3584, 3)\n",
            "input shape (2464, 3280, 3)\n",
            "pad shape is [(48, 48), (152, 152), (0, 0)]\n",
            "output shape (2560, 3584, 3)\n",
            "input shape (2464, 3280, 3)\n",
            "pad shape is [(48, 48), (152, 152), (0, 0)]\n",
            "output shape (2560, 3584, 3)\n",
            "input shape (2464, 3280, 3)\n",
            "pad shape is [(48, 48), (152, 152), (0, 0)]\n",
            "output shape (2560, 3584, 3)\n",
            "input shape (2464, 3280, 3)\n",
            "pad shape is [(48, 48), (152, 152), (0, 0)]\n",
            "output shape (2560, 3584, 3)\n",
            "input shape (2464, 3280, 3)\n",
            "pad shape is [(48, 48), (152, 152), (0, 0)]\n",
            "output shape (2560, 3584, 3)\n",
            "input shape (2464, 3280, 3)\n",
            "pad shape is [(48, 48), (152, 152), (0, 0)]\n",
            "output shape (2560, 3584, 3)\n",
            "input shape (2464, 3280, 3)\n",
            "pad shape is [(48, 48), (152, 152), (0, 0)]\n",
            "output shape (2560, 3584, 3)\n",
            "input shape (2464, 3280, 3)\n",
            "pad shape is [(48, 48), (152, 152), (0, 0)]\n",
            "output shape (2560, 3584, 3)\n",
            "input shape (2464, 3280, 3)\n",
            "pad shape is [(48, 48), (152, 152), (0, 0)]\n",
            "output shape (2560, 3584, 3)\n",
            "input shape (2464, 3280, 3)\n",
            "pad shape is [(48, 48), (152, 152), (0, 0)]\n",
            "output shape (2560, 3584, 3)\n",
            "input shape (2464, 3280, 3)\n",
            "pad shape is [(48, 48), (152, 152), (0, 0)]\n",
            "output shape (2560, 3584, 3)\n",
            "input shape (2464, 3280, 3)\n",
            "pad shape is [(48, 48), (152, 152), (0, 0)]\n",
            "output shape (2560, 3584, 3)\n",
            "input shape (2464, 3280, 3)\n",
            "pad shape is [(48, 48), (152, 152), (0, 0)]\n",
            "output shape (2560, 3584, 3)\n",
            "input shape (2464, 3280, 3)\n",
            "pad shape is [(48, 48), (152, 152), (0, 0)]\n",
            "output shape (2560, 3584, 3)\n",
            "input shape (2464, 3280, 3)\n",
            "pad shape is [(48, 48), (152, 152), (0, 0)]\n",
            "output shape (2560, 3584, 3)\n",
            "input shape (2464, 3280, 3)\n",
            "pad shape is [(48, 48), (152, 152), (0, 0)]\n",
            "output shape (2560, 3584, 3)\n",
            "input shape (2464, 3280, 3)\n",
            "pad shape is [(48, 48), (152, 152), (0, 0)]\n",
            "output shape (2560, 3584, 3)\n",
            "input shape (2464, 3280, 3)\n",
            "pad shape is [(48, 48), (152, 152), (0, 0)]\n",
            "output shape (2560, 3584, 3)\n",
            "input shape (2464, 3280, 3)\n",
            "pad shape is [(48, 48), (152, 152), (0, 0)]\n",
            "output shape (2560, 3584, 3)\n",
            "input shape (2464, 3280, 3)\n",
            "pad shape is [(48, 48), (152, 152), (0, 0)]\n",
            "output shape (2560, 3584, 3)\n",
            "input shape (2464, 3280, 3)\n",
            "pad shape is [(48, 48), (152, 152), (0, 0)]\n",
            "output shape (2560, 3584, 3)\n",
            "input shape (2464, 3280, 3)\n",
            "pad shape is [(48, 48), (152, 152), (0, 0)]\n",
            "output shape (2560, 3584, 3)\n",
            "input shape (2464, 3280, 3)\n",
            "pad shape is [(48, 48), (152, 152), (0, 0)]\n",
            "output shape (2560, 3584, 3)\n",
            "input shape (818, 1227, 3)\n",
            "pad shape is [(103, 103), (154, 155), (0, 0)]\n",
            "output shape (1024, 1536, 3)\n",
            "input shape (818, 1227, 3)\n",
            "pad shape is [(103, 103), (154, 155), (0, 0)]\n",
            "output shape (1024, 1536, 3)\n",
            "input shape (820, 1226, 3)\n",
            "pad shape is [(102, 102), (155, 155), (0, 0)]\n",
            "output shape (1024, 1536, 3)\n",
            "input shape (820, 1226, 3)\n",
            "pad shape is [(102, 102), (155, 155), (0, 0)]\n",
            "output shape (1024, 1536, 3)\n",
            "input shape (819, 1227, 3)\n",
            "pad shape is [(102, 103), (154, 155), (0, 0)]\n",
            "output shape (1024, 1536, 3)\n",
            "input shape (819, 1227, 3)\n",
            "pad shape is [(102, 103), (154, 155), (0, 0)]\n",
            "output shape (1024, 1536, 3)\n",
            "input shape (818, 1227, 3)\n",
            "pad shape is [(103, 103), (154, 155), (0, 0)]\n",
            "output shape (1024, 1536, 3)\n",
            "input shape (818, 1227, 3)\n",
            "pad shape is [(103, 103), (154, 155), (0, 0)]\n",
            "output shape (1024, 1536, 3)\n",
            "input shape (818, 1226, 3)\n",
            "pad shape is [(103, 103), (155, 155), (0, 0)]\n",
            "output shape (1024, 1536, 3)\n",
            "input shape (818, 1226, 3)\n",
            "pad shape is [(103, 103), (155, 155), (0, 0)]\n",
            "output shape (1024, 1536, 3)\n",
            "input shape (818, 1226, 3)\n",
            "pad shape is [(103, 103), (155, 155), (0, 0)]\n",
            "output shape (1024, 1536, 3)\n",
            "input shape (818, 1226, 3)\n",
            "pad shape is [(103, 103), (155, 155), (0, 0)]\n",
            "output shape (1024, 1536, 3)\n",
            "input shape (818, 1226, 3)\n",
            "pad shape is [(103, 103), (155, 155), (0, 0)]\n",
            "output shape (1024, 1536, 3)\n",
            "input shape (818, 1226, 3)\n",
            "pad shape is [(103, 103), (155, 155), (0, 0)]\n",
            "output shape (1024, 1536, 3)\n",
            "input shape (820, 1227, 3)\n",
            "pad shape is [(102, 102), (154, 155), (0, 0)]\n",
            "output shape (1024, 1536, 3)\n",
            "input shape (820, 1227, 3)\n",
            "pad shape is [(102, 102), (154, 155), (0, 0)]\n",
            "output shape (1024, 1536, 3)\n",
            "input shape (819, 1225, 3)\n",
            "pad shape is [(102, 103), (155, 156), (0, 0)]\n",
            "output shape (1024, 1536, 3)\n",
            "input shape (819, 1225, 3)\n",
            "pad shape is [(102, 103), (155, 156), (0, 0)]\n",
            "output shape (1024, 1536, 3)\n",
            "input shape (819, 1228, 3)\n",
            "pad shape is [(102, 103), (154, 154), (0, 0)]\n",
            "output shape (1024, 1536, 3)\n",
            "input shape (819, 1228, 3)\n",
            "pad shape is [(102, 103), (154, 154), (0, 0)]\n",
            "output shape (1024, 1536, 3)\n",
            "input shape (818, 1226, 3)\n",
            "pad shape is [(103, 103), (155, 155), (0, 0)]\n",
            "output shape (1024, 1536, 3)\n",
            "input shape (818, 1226, 3)\n",
            "pad shape is [(103, 103), (155, 155), (0, 0)]\n",
            "output shape (1024, 1536, 3)\n",
            "input shape (817, 1226, 3)\n",
            "pad shape is [(103, 104), (155, 155), (0, 0)]\n",
            "output shape (1024, 1536, 3)\n",
            "input shape (817, 1226, 3)\n",
            "pad shape is [(103, 104), (155, 155), (0, 0)]\n",
            "output shape (1024, 1536, 3)\n",
            "input shape (818, 1227, 3)\n",
            "pad shape is [(103, 103), (154, 155), (0, 0)]\n",
            "output shape (1024, 1536, 3)\n",
            "input shape (818, 1227, 3)\n",
            "pad shape is [(103, 103), (154, 155), (0, 0)]\n",
            "output shape (1024, 1536, 3)\n",
            "input shape (819, 1227, 3)\n",
            "pad shape is [(102, 103), (154, 155), (0, 0)]\n",
            "output shape (1024, 1536, 3)\n",
            "input shape (819, 1227, 3)\n",
            "pad shape is [(102, 103), (154, 155), (0, 0)]\n",
            "output shape (1024, 1536, 3)\n",
            "input shape (819, 1227, 3)\n",
            "pad shape is [(102, 103), (154, 155), (0, 0)]\n",
            "output shape (1024, 1536, 3)\n",
            "input shape (819, 1227, 3)\n",
            "pad shape is [(102, 103), (154, 155), (0, 0)]\n",
            "output shape (1024, 1536, 3)\n",
            "input shape (819, 1227, 3)\n",
            "pad shape is [(102, 103), (154, 155), (0, 0)]\n",
            "output shape (1024, 1536, 3)\n",
            "input shape (819, 1227, 3)\n",
            "pad shape is [(102, 103), (154, 155), (0, 0)]\n",
            "output shape (1024, 1536, 3)\n",
            "input shape (820, 1227, 3)\n",
            "pad shape is [(102, 102), (154, 155), (0, 0)]\n",
            "output shape (1024, 1536, 3)\n",
            "input shape (820, 1227, 3)\n",
            "pad shape is [(102, 102), (154, 155), (0, 0)]\n",
            "output shape (1024, 1536, 3)\n",
            "input shape (820, 1228, 3)\n",
            "pad shape is [(102, 102), (154, 154), (0, 0)]\n",
            "output shape (1024, 1536, 3)\n",
            "input shape (820, 1228, 3)\n",
            "pad shape is [(102, 102), (154, 154), (0, 0)]\n",
            "output shape (1024, 1536, 3)\n",
            "input shape (820, 1227, 3)\n",
            "pad shape is [(102, 102), (154, 155), (0, 0)]\n",
            "output shape (1024, 1536, 3)\n",
            "input shape (820, 1227, 3)\n",
            "pad shape is [(102, 102), (154, 155), (0, 0)]\n",
            "output shape (1024, 1536, 3)\n",
            "input shape (820, 1227, 3)\n",
            "pad shape is [(102, 102), (154, 155), (0, 0)]\n",
            "output shape (1024, 1536, 3)\n",
            "input shape (820, 1227, 3)\n",
            "pad shape is [(102, 102), (154, 155), (0, 0)]\n",
            "output shape (1024, 1536, 3)\n",
            "input shape (820, 1227, 3)\n",
            "pad shape is [(102, 102), (154, 155), (0, 0)]\n",
            "output shape (1024, 1536, 3)\n",
            "input shape (820, 1227, 3)\n",
            "pad shape is [(102, 102), (154, 155), (0, 0)]\n",
            "output shape (1024, 1536, 3)\n",
            "input shape (821, 1226, 3)\n",
            "pad shape is [(101, 102), (155, 155), (0, 0)]\n",
            "output shape (1024, 1536, 3)\n",
            "input shape (821, 1226, 3)\n",
            "pad shape is [(101, 102), (155, 155), (0, 0)]\n",
            "output shape (1024, 1536, 3)\n",
            "input shape (817, 1220, 3)\n",
            "pad shape is [(103, 104), (158, 158), (0, 0)]\n",
            "output shape (1024, 1536, 3)\n",
            "input shape (817, 1220, 3)\n",
            "pad shape is [(103, 104), (158, 158), (0, 0)]\n",
            "output shape (1024, 1536, 3)\n",
            "input shape (820, 1226, 3)\n",
            "pad shape is [(102, 102), (155, 155), (0, 0)]\n",
            "output shape (1024, 1536, 3)\n",
            "input shape (820, 1226, 3)\n",
            "pad shape is [(102, 102), (155, 155), (0, 0)]\n",
            "output shape (1024, 1536, 3)\n",
            "input shape (818, 1226, 3)\n",
            "pad shape is [(103, 103), (155, 155), (0, 0)]\n",
            "output shape (1024, 1536, 3)\n",
            "input shape (818, 1226, 3)\n",
            "pad shape is [(103, 103), (155, 155), (0, 0)]\n",
            "output shape (1024, 1536, 3)\n",
            "input shape (821, 1228, 3)\n",
            "pad shape is [(101, 102), (154, 154), (0, 0)]\n",
            "output shape (1024, 1536, 3)\n",
            "input shape (821, 1228, 3)\n",
            "pad shape is [(101, 102), (154, 154), (0, 0)]\n",
            "output shape (1024, 1536, 3)\n",
            "input shape (819, 1227, 3)\n",
            "pad shape is [(102, 103), (154, 155), (0, 0)]\n",
            "output shape (1024, 1536, 3)\n",
            "input shape (819, 1227, 3)\n",
            "pad shape is [(102, 103), (154, 155), (0, 0)]\n",
            "output shape (1024, 1536, 3)\n",
            "input shape (820, 1227, 3)\n",
            "pad shape is [(102, 102), (154, 155), (0, 0)]\n",
            "output shape (1024, 1536, 3)\n",
            "input shape (820, 1227, 3)\n",
            "pad shape is [(102, 102), (154, 155), (0, 0)]\n",
            "output shape (1024, 1536, 3)\n",
            "input shape (819, 1227, 3)\n",
            "pad shape is [(102, 103), (154, 155), (0, 0)]\n",
            "output shape (1024, 1536, 3)\n",
            "input shape (819, 1227, 3)\n",
            "pad shape is [(102, 103), (154, 155), (0, 0)]\n",
            "output shape (1024, 1536, 3)\n",
            "input shape (820, 1227, 3)\n",
            "pad shape is [(102, 102), (154, 155), (0, 0)]\n",
            "output shape (1024, 1536, 3)\n",
            "input shape (820, 1227, 3)\n",
            "pad shape is [(102, 102), (154, 155), (0, 0)]\n",
            "output shape (1024, 1536, 3)\n",
            "input shape (819, 1227, 3)\n",
            "pad shape is [(102, 103), (154, 155), (0, 0)]\n",
            "output shape (1024, 1536, 3)\n",
            "input shape (819, 1227, 3)\n",
            "pad shape is [(102, 103), (154, 155), (0, 0)]\n",
            "output shape (1024, 1536, 3)\n",
            "input shape (819, 1225, 3)\n",
            "pad shape is [(102, 103), (155, 156), (0, 0)]\n",
            "output shape (1024, 1536, 3)\n",
            "input shape (819, 1225, 3)\n",
            "pad shape is [(102, 103), (155, 156), (0, 0)]\n",
            "output shape (1024, 1536, 3)\n",
            "input shape (3456, 5184, 3)\n",
            "pad shape is [(64, 64), (224, 224), (0, 0)]\n",
            "output shape (3584, 5632, 3)\n",
            "input shape (3456, 5184, 3)\n",
            "pad shape is [(64, 64), (224, 224), (0, 0)]\n",
            "output shape (3584, 5632, 3)\n",
            "input shape (3456, 5184, 3)\n",
            "pad shape is [(64, 64), (224, 224), (0, 0)]\n",
            "output shape (3584, 5632, 3)\n",
            "input shape (3456, 5184, 3)\n",
            "pad shape is [(64, 64), (224, 224), (0, 0)]\n",
            "output shape (3584, 5632, 3)\n",
            "input shape (3456, 5184, 3)\n",
            "pad shape is [(64, 64), (224, 224), (0, 0)]\n",
            "output shape (3584, 5632, 3)\n",
            "input shape (3456, 5184, 3)\n",
            "pad shape is [(64, 64), (224, 224), (0, 0)]\n",
            "output shape (3584, 5632, 3)\n",
            "input shape (3456, 5184, 3)\n",
            "pad shape is [(64, 64), (224, 224), (0, 0)]\n",
            "output shape (3584, 5632, 3)\n",
            "input shape (3456, 5184, 3)\n",
            "pad shape is [(64, 64), (224, 224), (0, 0)]\n",
            "output shape (3584, 5632, 3)\n",
            "input shape (3456, 5184, 3)\n",
            "pad shape is [(64, 64), (224, 224), (0, 0)]\n",
            "output shape (3584, 5632, 3)\n",
            "input shape (3456, 5184, 3)\n",
            "pad shape is [(64, 64), (224, 224), (0, 0)]\n",
            "output shape (3584, 5632, 3)\n",
            "input shape (3456, 5184, 3)\n",
            "pad shape is [(64, 64), (224, 224), (0, 0)]\n",
            "output shape (3584, 5632, 3)\n",
            "input shape (3456, 5184, 3)\n",
            "pad shape is [(64, 64), (224, 224), (0, 0)]\n",
            "output shape (3584, 5632, 3)\n",
            "input shape (3456, 5184, 3)\n",
            "pad shape is [(64, 64), (224, 224), (0, 0)]\n",
            "output shape (3584, 5632, 3)\n",
            "input shape (3456, 5184, 3)\n",
            "pad shape is [(64, 64), (224, 224), (0, 0)]\n",
            "output shape (3584, 5632, 3)\n",
            "input shape (3456, 5184, 3)\n",
            "pad shape is [(64, 64), (224, 224), (0, 0)]\n",
            "output shape (3584, 5632, 3)\n",
            "input shape (3456, 5184, 3)\n",
            "pad shape is [(64, 64), (224, 224), (0, 0)]\n",
            "output shape (3584, 5632, 3)\n",
            "input shape (3456, 5184, 3)\n",
            "pad shape is [(64, 64), (224, 224), (0, 0)]\n",
            "output shape (3584, 5632, 3)\n",
            "input shape (3456, 5184, 3)\n",
            "pad shape is [(64, 64), (224, 224), (0, 0)]\n",
            "output shape (3584, 5632, 3)\n",
            "input shape (3456, 5184, 3)\n",
            "pad shape is [(64, 64), (224, 224), (0, 0)]\n",
            "output shape (3584, 5632, 3)\n",
            "input shape (3456, 5184, 3)\n",
            "pad shape is [(64, 64), (224, 224), (0, 0)]\n",
            "output shape (3584, 5632, 3)\n",
            "input shape (3456, 5184, 3)\n",
            "pad shape is [(64, 64), (224, 224), (0, 0)]\n",
            "output shape (3584, 5632, 3)\n",
            "input shape (3456, 5184, 3)\n",
            "pad shape is [(64, 64), (224, 224), (0, 0)]\n",
            "output shape (3584, 5632, 3)\n",
            "input shape (3456, 5184, 3)\n",
            "pad shape is [(64, 64), (224, 224), (0, 0)]\n",
            "output shape (3584, 5632, 3)\n",
            "input shape (3456, 5184, 3)\n",
            "pad shape is [(64, 64), (224, 224), (0, 0)]\n",
            "output shape (3584, 5632, 3)\n",
            "input shape (3456, 5184, 3)\n",
            "pad shape is [(64, 64), (224, 224), (0, 0)]\n",
            "output shape (3584, 5632, 3)\n",
            "input shape (3456, 5184, 3)\n",
            "pad shape is [(64, 64), (224, 224), (0, 0)]\n",
            "output shape (3584, 5632, 3)\n",
            "input shape (3456, 5184, 3)\n",
            "pad shape is [(64, 64), (224, 224), (0, 0)]\n",
            "output shape (3584, 5632, 3)\n",
            "input shape (3456, 5184, 3)\n",
            "pad shape is [(64, 64), (224, 224), (0, 0)]\n",
            "output shape (3584, 5632, 3)\n",
            "input shape (3456, 5184, 3)\n",
            "pad shape is [(64, 64), (224, 224), (0, 0)]\n",
            "output shape (3584, 5632, 3)\n",
            "input shape (3456, 5184, 3)\n",
            "pad shape is [(64, 64), (224, 224), (0, 0)]\n",
            "output shape (3584, 5632, 3)\n",
            "input shape (3456, 5184, 3)\n",
            "pad shape is [(64, 64), (224, 224), (0, 0)]\n",
            "output shape (3584, 5632, 3)\n",
            "input shape (3456, 5184, 3)\n",
            "pad shape is [(64, 64), (224, 224), (0, 0)]\n",
            "output shape (3584, 5632, 3)\n",
            "input shape (3456, 5184, 3)\n",
            "pad shape is [(64, 64), (224, 224), (0, 0)]\n",
            "output shape (3584, 5632, 3)\n",
            "input shape (3456, 5184, 3)\n",
            "pad shape is [(64, 64), (224, 224), (0, 0)]\n",
            "output shape (3584, 5632, 3)\n",
            "input shape (3456, 5184, 3)\n",
            "pad shape is [(64, 64), (224, 224), (0, 0)]\n",
            "output shape (3584, 5632, 3)\n",
            "input shape (3456, 5184, 3)\n",
            "pad shape is [(64, 64), (224, 224), (0, 0)]\n",
            "output shape (3584, 5632, 3)\n",
            "input shape (3456, 5184, 3)\n",
            "pad shape is [(64, 64), (224, 224), (0, 0)]\n",
            "output shape (3584, 5632, 3)\n",
            "input shape (3456, 5184, 3)\n",
            "pad shape is [(64, 64), (224, 224), (0, 0)]\n",
            "output shape (3584, 5632, 3)\n",
            "input shape (3456, 5184, 3)\n",
            "pad shape is [(64, 64), (224, 224), (0, 0)]\n",
            "output shape (3584, 5632, 3)\n",
            "input shape (3456, 5184, 3)\n",
            "pad shape is [(64, 64), (224, 224), (0, 0)]\n",
            "output shape (3584, 5632, 3)\n",
            "input shape (3456, 5184, 3)\n",
            "pad shape is [(64, 64), (224, 224), (0, 0)]\n",
            "output shape (3584, 5632, 3)\n",
            "input shape (3456, 5184, 3)\n",
            "pad shape is [(64, 64), (224, 224), (0, 0)]\n",
            "output shape (3584, 5632, 3)\n",
            "input shape (3456, 5184, 3)\n",
            "pad shape is [(64, 64), (224, 224), (0, 0)]\n",
            "output shape (3584, 5632, 3)\n",
            "input shape (3456, 5184, 3)\n",
            "pad shape is [(64, 64), (224, 224), (0, 0)]\n",
            "output shape (3584, 5632, 3)\n",
            "input shape (3456, 5184, 3)\n",
            "pad shape is [(64, 64), (224, 224), (0, 0)]\n",
            "output shape (3584, 5632, 3)\n",
            "input shape (3456, 5184, 3)\n",
            "pad shape is [(64, 64), (224, 224), (0, 0)]\n",
            "output shape (3584, 5632, 3)\n",
            "input shape (3456, 5184, 3)\n",
            "pad shape is [(64, 64), (224, 224), (0, 0)]\n",
            "output shape (3584, 5632, 3)\n",
            "input shape (3456, 5184, 3)\n",
            "pad shape is [(64, 64), (224, 224), (0, 0)]\n",
            "output shape (3584, 5632, 3)\n",
            "input shape (3456, 5184, 3)\n",
            "pad shape is [(64, 64), (224, 224), (0, 0)]\n",
            "output shape (3584, 5632, 3)\n",
            "input shape (3456, 5184, 3)\n",
            "pad shape is [(64, 64), (224, 224), (0, 0)]\n",
            "output shape (3584, 5632, 3)\n",
            "input shape (3456, 5184, 3)\n",
            "pad shape is [(64, 64), (224, 224), (0, 0)]\n",
            "output shape (3584, 5632, 3)\n",
            "input shape (3456, 5184, 3)\n",
            "pad shape is [(64, 64), (224, 224), (0, 0)]\n",
            "output shape (3584, 5632, 3)\n",
            "input shape (3456, 5184, 3)\n",
            "pad shape is [(64, 64), (224, 224), (0, 0)]\n",
            "output shape (3584, 5632, 3)\n",
            "input shape (3456, 5184, 3)\n",
            "pad shape is [(64, 64), (224, 224), (0, 0)]\n",
            "output shape (3584, 5632, 3)\n",
            "input shape (3456, 5184, 3)\n",
            "pad shape is [(64, 64), (224, 224), (0, 0)]\n",
            "output shape (3584, 5632, 3)\n",
            "input shape (3456, 5184, 3)\n",
            "pad shape is [(64, 64), (224, 224), (0, 0)]\n",
            "output shape (3584, 5632, 3)\n",
            "input shape (3456, 5184, 3)\n",
            "pad shape is [(64, 64), (224, 224), (0, 0)]\n",
            "output shape (3584, 5632, 3)\n",
            "input shape (3456, 5184, 3)\n",
            "pad shape is [(64, 64), (224, 224), (0, 0)]\n",
            "output shape (3584, 5632, 3)\n",
            "input shape (3456, 5184, 3)\n",
            "pad shape is [(64, 64), (224, 224), (0, 0)]\n",
            "output shape (3584, 5632, 3)\n",
            "input shape (3456, 5184, 3)\n",
            "pad shape is [(64, 64), (224, 224), (0, 0)]\n",
            "output shape (3584, 5632, 3)\n",
            "input shape (3456, 5184, 3)\n",
            "pad shape is [(64, 64), (224, 224), (0, 0)]\n",
            "output shape (3584, 5632, 3)\n",
            "input shape (3456, 5184, 3)\n",
            "pad shape is [(64, 64), (224, 224), (0, 0)]\n",
            "output shape (3584, 5632, 3)\n",
            "input shape (3456, 5184, 3)\n",
            "pad shape is [(64, 64), (224, 224), (0, 0)]\n",
            "output shape (3584, 5632, 3)\n",
            "input shape (3456, 5184, 3)\n",
            "pad shape is [(64, 64), (224, 224), (0, 0)]\n",
            "output shape (3584, 5632, 3)\n",
            "14366\n"
          ],
          "name": "stdout"
        }
      ]
    },
    {
      "cell_type": "code",
      "metadata": {
        "id": "FA1tcseqTP5E"
      },
      "source": [
        "# ------------------------------------------\n",
        "# Create the splitted dataset directory tree \n",
        "# ------------------------------------------\n",
        "if SPLIT_DATASET == True and USE_TILING == False:\n",
        "  import shutil\n",
        "  \n",
        "  # Use your dataset_split.json \n",
        "  # ---------------------------\n",
        "  if LOAD_FROM_JSON == True:\n",
        "    import json\n",
        "    f = open('/content/drive/My Drive/Challenge_2/dataset_split.json')\n",
        "    split = json.load(f) \n",
        "    ! cp '/content/drive/My Drive/Challenge_2/dataset_split.json' '/content/dataset_split.json'  \n",
        "  # ---------------------------\n",
        "\n",
        "\n",
        "  # Create the folder for the splitted dataset\n",
        "  # ------------------------------------------\n",
        "  ! mkdir '/content/Development_Dataset_processed'\n",
        "\n",
        "  ! mkdir '/content/Development_Dataset_processed/training'\n",
        "  ! mkdir '/content/Development_Dataset_processed/training/images'\n",
        "  ! mkdir '/content/Development_Dataset_processed/training/masks'\n",
        "\n",
        "  ! mkdir '/content/Development_Dataset_processed/validation'\n",
        "  ! mkdir '/content/Development_Dataset_processed/validation/images'\n",
        "  ! mkdir '/content/Development_Dataset_processed/validation/masks'\n",
        "  # ------------------------------------------\n",
        "\n",
        "  teams = ['Bipbip', 'Pead', 'Roseau', 'Weedelec']\n",
        "  plants = ['Haricot', 'Mais']\n",
        "\n",
        "  which_dataset = ['training', 'validation']\n",
        "\n",
        "  for d in which_dataset:\n",
        "    \n",
        "    for t in teams:\n",
        "      for p in plants:\n",
        "        \n",
        "        for img_name in split[d][t][p]:\n",
        "          \n",
        "          # Image preprocessing and saving\n",
        "          # ------------------------------\n",
        "          src_path = os.path.join(cwd, 'Development_Dataset/Training', t, p, 'Images', img_name[0] + '.' + img_name[1])\n",
        "          dst_path = os.path.join(cwd, 'Development_Dataset_processed', d, 'images', img_name[0] + '.' + img_name[1])\n",
        "          '''\n",
        "          # Processing the image\n",
        "          # --------------------\n",
        "          current_image = cv.imread(src_path, cv.IMREAD_COLOR)     \n",
        "          current_image = cv.cvtColor(current_image, cv.COLOR_BGR2RGB)\n",
        "          preprocessed_image = mask_image(current_image)\n",
        "          # --------------------\n",
        "          \n",
        "          cv.imwrite(dst_path, preprocessed_image)\n",
        "          # ------------------------------\n",
        "          '''\n",
        "          shutil.copy(src_path, dst_path)\n",
        "\n",
        "\n",
        "          # Mask preprocessing and saving\n",
        "          # -----------------------------\n",
        "          src_path = os.path.join(cwd, 'Development_Dataset/Training', t, p, 'Masks', img_name[0] + '.png')\n",
        "          dst_path = os.path.join(cwd, 'Development_Dataset_processed', d, 'masks', img_name[0] + '.npy')\n",
        "\n",
        "          # Read Image\n",
        "          mask = Image.open(src_path)\n",
        "          # Image to np array\n",
        "          mask_arr = np.array(mask)\n",
        "    \n",
        "          # RGB to target\n",
        "          # -------------\n",
        "          new_mask_arr = np.zeros(mask_arr.shape[:2], dtype=mask_arr.dtype)\n",
        "\n",
        "          # Use RGB dictionary in 'RGBtoTarget.txt' to convert RGB to target\n",
        "          new_mask_arr[np.where(np.all(mask_arr == [0, 0, 0], axis=-1))] = 0\n",
        "          new_mask_arr[np.where(np.all(mask_arr == [254, 124, 18], axis=-1))] = 0\n",
        "          new_mask_arr[np.where(np.all(mask_arr == [255, 255, 255], axis=-1))] = 1\n",
        "          new_mask_arr[np.where(np.all(mask_arr == [216, 67, 82], axis=-1))] = 2\n",
        "\n",
        "          mask_arr = np.expand_dims(new_mask_arr, -1)\n",
        "          # -------------\n",
        "\n",
        "          np.save(dst_path, mask_arr)\n",
        "          # -----------------------------\n",
        "  ! ls"
      ],
      "execution_count": null,
      "outputs": []
    },
    {
      "cell_type": "code",
      "metadata": {
        "id": "tffVKv-K6Z8T"
      },
      "source": [
        "# ------------------------------------------------------------------------------------------\n",
        "# Zip the splitted dataset for the next executions, to avoid the splitting process each time\n",
        "# ------------------------------------------------------------------------------------------\n",
        "if SPLIT_DATASET == True:\n",
        "  ! zip -r '/content/drive/My Drive/Challenge_2/Development_Dataset_processed.zip' 'Development_Dataset_processed'"
      ],
      "execution_count": null,
      "outputs": []
    },
    {
      "cell_type": "markdown",
      "metadata": {
        "id": "pE_RdeX8MdCc"
      },
      "source": [
        "### Cells executed if: SPLIT_DATASET = False "
      ]
    },
    {
      "cell_type": "code",
      "metadata": {
        "id": "qxBpuYvBENkp"
      },
      "source": [
        "# --------------------------------------------------------------------------------\n",
        "# Unzip the json file with the split used and the splitted dataset from your drive\n",
        "# --------------------------------------------------------------------------------\n",
        "if SPLIT_DATASET == False:\n",
        "  # Get dataset_split.json\n",
        "  ! cp '/content/drive/My Drive/Challenge_2/dataset_split.json' '/content/dataset_split.json'\n",
        "\n",
        "  if USE_TILING == True:\n",
        "    # Get dataset_split_patch.json\n",
        "    ! cp '/content/drive/My Drive/Challenge_2/dataset_split_patch.json' '/content/dataset_split_patch.json'\n",
        "    \n",
        "  # Get the splitted dataset\n",
        "  ! unzip '/content/drive/My Drive/Challenge_2/Development_Dataset_processed.zip'"
      ],
      "execution_count": null,
      "outputs": []
    },
    {
      "cell_type": "markdown",
      "metadata": {
        "id": "3StV7Ki8YSgR"
      },
      "source": [
        "# Dataset Setup"
      ]
    },
    {
      "cell_type": "code",
      "metadata": {
        "id": "4N88wG50nFI3"
      },
      "source": [
        "# -------------------------------------------------------------\n",
        "# Create the training and validation ImageDataGenerator objects\n",
        "# -------------------------------------------------------------\n",
        "def data_generator(apply_data_augmentation):\n",
        "\n",
        "  from tensorflow.keras.preprocessing.image import ImageDataGenerator\n",
        "\n",
        "  apply_data_augmentation = True\n",
        "\n",
        "  # Create training ImageDataGenerator object\n",
        "  # We need two different generators for images and corresponding masks\n",
        "  if apply_data_augmentation:\n",
        "    img_data_gen = ImageDataGenerator(rotation_range=10,\n",
        "                                      width_shift_range=10,\n",
        "                                      height_shift_range=10,\n",
        "                                      zoom_range=0.3,\n",
        "                                      horizontal_flip=True,\n",
        "                                      vertical_flip=True,\n",
        "                                      fill_mode='reflect')\n",
        "\n",
        "    mask_data_gen = ImageDataGenerator(rotation_range=10,\n",
        "                                       width_shift_range=10,\n",
        "                                       height_shift_range=10,\n",
        "                                       zoom_range=0.3,\n",
        "                                       horizontal_flip=True,\n",
        "                                       vertical_flip=True,\n",
        "                                       fill_mode='reflect')\n",
        "    \n",
        "  return img_data_gen, mask_data_gen"
      ],
      "execution_count": 35,
      "outputs": []
    },
    {
      "cell_type": "code",
      "metadata": {
        "id": "hsieZk4aKhm6"
      },
      "source": [
        "# --------------------------------\n",
        "# Create the class for the dataset\n",
        "# --------------------------------\n",
        "\n",
        "from PIL import Image\n",
        "\n",
        "class CustomDataset(tf.keras.utils.Sequence):\n",
        "\n",
        "  \"\"\"\n",
        "    CustomDataset inheriting from tf.keras.utils.Sequence.\n",
        "\n",
        "    3 main methods:\n",
        "      - __init__: save dataset params like directory, filenames..\n",
        "      - __len__: return the total number of samples in the dataset\n",
        "      - __getitem__: return a sample from the dataset\n",
        "\n",
        "    Note: \n",
        "      - the custom dataset return a single sample from the dataset. Then, we use \n",
        "        a tf.data.Dataset object to group samples into batches.\n",
        "      - in this case we have a different structure of the dataset in memory. \n",
        "        We have all the images in the same folder and the training and validation splits\n",
        "        are defined in text files.\n",
        "\n",
        "  \"\"\"\n",
        "\n",
        "  def __init__(self, dataset_dir, which_subset, img_generator=None, mask_generator=None, \n",
        "               preprocessing_function=None, out_shape=[500, 500]):\n",
        "    import json\n",
        "    \n",
        "    subset_file = os.path.join('/content', 'dataset_split_patch.json')\n",
        "    with open(subset_file, 'r') as f:\n",
        "      split = json.load(f)\n",
        "    \n",
        "    teams = ['Bipbip', 'Pead', 'Roseau', 'Weedelec']\n",
        "    plants = ['Haricot', 'Mais']\n",
        "    \n",
        "    subset_filenames = []\n",
        "    \n",
        "    for t in teams:\n",
        "      for p in plants:\n",
        "        \n",
        "        for img_name in split[which_subset][t][p]:\n",
        "          subset_filenames.append(img_name)\n",
        "    \n",
        "    np.random.seed(1234)\n",
        "    np.random.shuffle(subset_filenames)\n",
        "\n",
        "    self.which_subset = which_subset\n",
        "    self.dataset_dir = dataset_dir\n",
        "    self.subset_filenames = subset_filenames\n",
        "    self.img_generator = img_generator\n",
        "    self.mask_generator = mask_generator\n",
        "    self.preprocessing_function = preprocessing_function\n",
        "    self.out_shape = out_shape\n",
        "    self.SEED = 1234\n",
        "\n",
        "  def __len__(self):\n",
        "    return len(self.subset_filenames)\n",
        "\n",
        "  def __getitem__(self, index):\n",
        "    # Read Image\n",
        "    curr_filename = self.subset_filenames[index]\n",
        "    img = Image.open(os.path.join(self.dataset_dir, self.which_subset, 'images', curr_filename[0] + '.' + curr_filename[1]))\n",
        "    mask_arr = np.load(os.path.join(self.dataset_dir, self.which_subset, 'masks', curr_filename[0] + '.npy'))   \n",
        "\n",
        "    # Resize image and mask\n",
        "    #img = img.resize(self.out_shape) #size – The requested size in pixels, as a 2-tuple: (width, height). ! ATTENTION ! PIL function\n",
        "    #mask_arr = tf.image.resize(mask_arr, size = [self.out_shape[1], self.out_shape[0]], method = 'nearest').numpy()  # (height, width) since is a tensorflow function\n",
        "\n",
        "    img_arr = np.array(img)\n",
        "\n",
        "    if self.which_subset == 'training':\n",
        "      if self.img_generator is not None and self.mask_generator is not None:\n",
        "        # Perform data augmentation\n",
        "        # We can get a random transformation from the ImageDataGenerator using get_random_transform\n",
        "        # and we can apply it to the image using apply_transform\n",
        "\n",
        "        #self.SEED = self.SEED + 1\n",
        "        img_t = self.img_generator.get_random_transform(img_arr.shape, seed=self.SEED)\n",
        "        mask_t = self.mask_generator.get_random_transform(mask_arr.shape, seed=self.SEED)\n",
        "        img_arr = self.img_generator.apply_transform(img_arr, img_t)\n",
        "        \n",
        "        # ImageDataGenerator use bilinear interpolation for augmenting the images.\n",
        "        # Thus, when applied to the masks it will output 'interpolated classes', which\n",
        "        # is an unwanted behaviour. As a trick, we can transform each class mask \n",
        "        # separately and then we can cast to integer values (as in the binary segmentation notebook).\n",
        "        # Finally, we merge the augmented binary masks to obtain the final segmentation mask.\n",
        "        out_mask = np.zeros_like(mask_arr)\n",
        "        for c in np.unique(mask_arr):\n",
        "          if c > 0:\n",
        "            curr_class_arr = np.float32(mask_arr == c)\n",
        "            curr_class_arr = self.mask_generator.apply_transform(curr_class_arr, mask_t)\n",
        "            # from [0, 1] to {0, 1}\n",
        "            curr_class_arr = np.uint8(curr_class_arr)\n",
        "            # recover original class\n",
        "            curr_class_arr = curr_class_arr * c \n",
        "            out_mask += curr_class_arr\n",
        "    else:\n",
        "      out_mask = mask_arr\n",
        "    \n",
        "    if self.preprocessing_function is not None:\n",
        "        img_arr = self.preprocessing_function(img_arr)\n",
        "\n",
        "    return img_arr, np.float32(out_mask)"
      ],
      "execution_count": 36,
      "outputs": []
    },
    {
      "cell_type": "code",
      "metadata": {
        "id": "usz5SKPeQrOE"
      },
      "source": [
        "# ------------------------------------------------------------------\n",
        "# Create train and validation dataset objects using the custom class\n",
        "# ------------------------------------------------------------------\n",
        "def create_dataset(img_data_gen, mask_data_gen, img_h, img_w, bs, num_classes):\n",
        "\n",
        "  # Training\n",
        "  # --------\n",
        "  dataset = CustomDataset('/content/Development_Dataset_processed',\n",
        "                          'training', \n",
        "                          img_generator=img_data_gen, \n",
        "                          mask_generator=mask_data_gen,\n",
        "                          out_shape=[img_w, img_h] # size – The requested size in pixels, as a 2-tuple: (width, height).\n",
        "                          )\n",
        "  \n",
        "  train_dataset = tf.data.Dataset.from_generator(lambda: dataset,\n",
        "                                                 output_types=(tf.float32, tf.float32),\n",
        "                                                 output_shapes=([img_h, img_w, 3], [img_h, img_w, 1]))\n",
        "  train_dataset = train_dataset.batch(bs)\n",
        "\n",
        "  train_dataset = train_dataset.repeat()\n",
        "  # --------\n",
        "\n",
        "  # Validation\n",
        "  # ----------\n",
        "  dataset_valid = CustomDataset('/content/Development_Dataset_processed',\n",
        "                               'validation',\n",
        "                               out_shape=[img_w, img_h] # size – The requested size in pixels, as a 2-tuple: (width, height).\n",
        "                               )\n",
        "   \n",
        "  valid_dataset = tf.data.Dataset.from_generator(lambda: dataset_valid,\n",
        "                                                 output_types=(tf.float32, tf.float32),\n",
        "                                                 output_shapes=([img_h, img_w, 3], [img_h, img_w, 1]))\n",
        "  valid_dataset = valid_dataset.batch(bs)\n",
        "\n",
        "  valid_dataset = valid_dataset.repeat()\n",
        "  # ----------\n",
        "\n",
        "  return train_dataset, dataset, valid_dataset, dataset_valid"
      ],
      "execution_count": 37,
      "outputs": []
    },
    {
      "cell_type": "markdown",
      "metadata": {
        "id": "_NXPzxvhInyd"
      },
      "source": [
        "# Data generator test"
      ]
    },
    {
      "cell_type": "code",
      "metadata": {
        "id": "HOBabUbmnFJE"
      },
      "source": [
        "apply_data_augmentation = True\n",
        "\n",
        "tmp_img_h = 512\n",
        "tmp_img_w = 512\n",
        "\n",
        "[img_data_gen, mask_data_gen] = data_generator(apply_data_augmentation)\n",
        "\n",
        "[train_dataset, dataset, valid_dataset, dataset_valid] = create_dataset(img_data_gen, mask_data_gen, img_h = tmp_img_h, img_w = tmp_img_w, bs = 8, num_classes = 3)\n",
        "\n",
        "import time\n",
        "from matplotlib import cm\n",
        "import matplotlib.pyplot as plt\n",
        "\n",
        "%matplotlib inline\n",
        "\n",
        "# Assign a color to each class\n",
        "evenly_spaced_interval = np.linspace(0, 1, 3)\n",
        "colors = [cm.rainbow(x) for x in evenly_spaced_interval]\n",
        "\n",
        "iterator = iter(train_dataset)"
      ],
      "execution_count": 38,
      "outputs": []
    },
    {
      "cell_type": "code",
      "metadata": {
        "id": "LbqHtXqqmSyx"
      },
      "source": [
        "augmented_img, target = next(iterator)\r\n",
        "#augmented_img.shape\r\n",
        "#target.shape"
      ],
      "execution_count": 39,
      "outputs": []
    },
    {
      "cell_type": "code",
      "metadata": {
        "id": "9eunbPwWqPnB",
        "colab": {
          "base_uri": "https://localhost:8080/",
          "height": 0
        },
        "outputId": "aa3a87a8-bb31-47ec-e79d-0527dc805031"
      },
      "source": [
        "fig, ax = plt.subplots(1, 2)\n",
        "\n",
        "augmented_img = augmented_img[0]   # First element\n",
        "augmented_img = augmented_img  # denormalize\n",
        "\n",
        "target = np.array(target[0, ..., 0])   # First element (squeezing channel dimension)\n",
        "\n",
        "print(np.unique(target))\n",
        "\n",
        "target_img = np.zeros([target.shape[0], target.shape[1], 3])\n",
        "\n",
        "target_img[np.where(target == 0)] = [0, 0, 0]\n",
        "for i in range(1, 3):\n",
        "  target_img[np.where(target == i)] = np.array(colors[i-1])[:3] * 255\n",
        "\n",
        "ax[0].imshow(np.uint8(augmented_img))\n",
        "ax[1].imshow(np.uint8(target_img))\n",
        "\n",
        "plt.show()"
      ],
      "execution_count": 40,
      "outputs": [
        {
          "output_type": "stream",
          "text": [
            "[0. 1. 2.]\n"
          ],
          "name": "stdout"
        },
        {
          "output_type": "execute_result",
          "data": {
            "text/plain": [
              "<matplotlib.image.AxesImage at 0x7fb1e006d8d0>"
            ]
          },
          "metadata": {
            "tags": []
          },
          "execution_count": 40
        },
        {
          "output_type": "execute_result",
          "data": {
            "text/plain": [
              "<matplotlib.image.AxesImage at 0x7fb1e01bae80>"
            ]
          },
          "metadata": {
            "tags": []
          },
          "execution_count": 40
        },
        {
          "output_type": "display_data",
          "data": {
            "image/png": "[encoded data removed]",
            "text/plain": [
              "<Figure size 432x288 with 2 Axes>"
            ]
          },
          "metadata": {
            "tags": [],
            "needs_background": "light"
          }
        }
      ]
    },
    {
      "cell_type": "markdown",
      "metadata": {
        "id": "npoSqABSC6BY"
      },
      "source": [
        "# Model setup"
      ]
    },
    {
      "cell_type": "markdown",
      "metadata": {
        "id": "Rl9qXagOU9Zd"
      },
      "source": [
        "## Models"
      ]
    },
    {
      "cell_type": "markdown",
      "metadata": {
        "id": "y6JJZDAe3qHr"
      },
      "source": [
        "### Bonnet"
      ]
    },
    {
      "cell_type": "code",
      "metadata": {
        "id": "XIDXhc8AST70"
      },
      "source": [
        "# ------------------------\r\n",
        "# Bonnet convolution layer\r\n",
        "# ------------------------\r\n",
        "def ConvolutionLayer(input, filters, kernel_size, strides, padding, batch_norm = False):\r\n",
        "\r\n",
        "  conv = tf.keras.layers.Conv2D(filters = filters, kernel_size = kernel_size, strides = strides, padding = padding, kernel_initializer = 'he_uniform')(input)\r\n",
        "  if batch_norm:\r\n",
        "    bn = tf.keras.layers.BatchNormalization(momentum=0.9)(conv)\r\n",
        "  else:\r\n",
        "    bn = conv\r\n",
        "  out = tf.keras.layers.ELU()(bn)\r\n",
        "  \r\n",
        "  return out"
      ],
      "execution_count": 41,
      "outputs": []
    },
    {
      "cell_type": "code",
      "metadata": {
        "id": "TK86m6SDS3Pn"
      },
      "source": [
        "# ---------------------\r\n",
        "# Bonnet residual block\r\n",
        "# ---------------------\r\n",
        "def ResidualBlock(input):\r\n",
        "  \r\n",
        "  conv1 = ConvolutionLayer(input = input, filters = 8, kernel_size = (1, 1), strides = (1, 1), padding = 'same')\r\n",
        "  conv2 = ConvolutionLayer(input = conv1, filters = 8, kernel_size = (5, 1), strides = (1, 1), padding = 'same')\r\n",
        "  conv3 = ConvolutionLayer(input = conv2, filters = 8, kernel_size = (1, 5), strides = (1, 1), padding = 'same')\r\n",
        "  conv4 = ConvolutionLayer(input = conv3, filters = 16, kernel_size = (1, 1), strides = (1, 1), padding = 'same')\r\n",
        "  out = tf.keras.layers.Add()([conv4, input])\r\n",
        "\r\n",
        "  return out"
      ],
      "execution_count": 42,
      "outputs": []
    },
    {
      "cell_type": "code",
      "metadata": {
        "id": "io9vLq3hTyA-"
      },
      "source": [
        "def define_bonnet(input_size = (384, 512, 3)):\r\n",
        "\r\n",
        "  inputs = tf.keras.Input(input_size)\r\n",
        "\r\n",
        "  conv = ConvolutionLayer(input = inputs, filters = 16, kernel_size = (5, 5), strides = (1, 1), padding = 'same', batch_norm = True)\r\n",
        "\r\n",
        "  # -------\r\n",
        "  # Encoder\r\n",
        "  # -------\r\n",
        "  '''\r\n",
        "  # Added\r\n",
        "  conv = ResidualBlock(conv)\r\n",
        "  conv = ResidualBlock(conv)\r\n",
        "  conv = ResidualBlock(conv)\r\n",
        "  conv = tf.keras.layers.MaxPooling2D(pool_size=(2, 2), strides = (2, 2))(conv)\r\n",
        "\r\n",
        "  # Added\r\n",
        "  conv = ResidualBlock(conv)\r\n",
        "  conv = ResidualBlock(conv)\r\n",
        "  conv = ResidualBlock(conv)\r\n",
        "  conv = tf.keras.layers.MaxPooling2D(pool_size=(2, 2), strides = (2, 2))(conv)\r\n",
        "  '''\r\n",
        "\r\n",
        "  # Residual block 1\r\n",
        "  residual1 = ResidualBlock(conv)\r\n",
        "\r\n",
        "  # Residual block 2\r\n",
        "  residual2 = ResidualBlock(residual1)\r\n",
        "\r\n",
        "  # Residual block 3\r\n",
        "  residual3 = ResidualBlock(residual2)\r\n",
        "\r\n",
        "  # Pooling 1\r\n",
        "  pool1 = tf.keras.layers.MaxPooling2D(pool_size=(2, 2), strides = (2, 2))(residual3)\r\n",
        "\r\n",
        "  # Residual block 4\r\n",
        "  residual4 = ResidualBlock(pool1)\r\n",
        "\r\n",
        "  # Residual block 5\r\n",
        "  residual5 = ResidualBlock(residual4)\r\n",
        "\r\n",
        "  # Residual block 6\r\n",
        "  residual6 = ResidualBlock(residual5)\r\n",
        "\r\n",
        "  # Pooling 2\r\n",
        "  pool2 = tf.keras.layers.MaxPooling2D(pool_size=(2, 2), strides = (2, 2))(residual6)\r\n",
        "\r\n",
        "  # Residual block 7\r\n",
        "  residual7 = ResidualBlock(pool2)\r\n",
        "\r\n",
        "  # Residual block 8\r\n",
        "  residual8 = ResidualBlock(residual7)\r\n",
        "\r\n",
        "  # Residual block 9\r\n",
        "  residual9 = ResidualBlock(residual8)\r\n",
        "\r\n",
        "  # Pooling 3\r\n",
        "  pool3 = tf.keras.layers.MaxPooling2D(pool_size=(2, 2), strides = (2, 2))(residual9)\r\n",
        "\r\n",
        "  # Residual block 10\r\n",
        "  residual10 = ResidualBlock(pool3)\r\n",
        "\r\n",
        "  # Residual block 11\r\n",
        "  residual11 = ResidualBlock(residual10)\r\n",
        "\r\n",
        "  # Residual block 12\r\n",
        "  residual12 = ResidualBlock(residual11)\r\n",
        "\r\n",
        "  # Pooling 4\r\n",
        "  pool4 = tf.keras.layers.MaxPooling2D(pool_size=(2, 2), strides = (2, 2))(residual11)\r\n",
        "\r\n",
        "  # -------\r\n",
        "\r\n",
        "  # -------\r\n",
        "  # Decoder\r\n",
        "  # -------\r\n",
        "\r\n",
        "  # Unpooling with shared indexes\r\n",
        "  unpool1 = tf.keras.layers.UpSampling2D()(pool4)\r\n",
        "\r\n",
        "  # Residual block 13\r\n",
        "  residual13 = ResidualBlock(unpool1)\r\n",
        "\r\n",
        "  # Residual block 14\r\n",
        "  residual14 = ResidualBlock(residual13)\r\n",
        "\r\n",
        "  # Residual block 15\r\n",
        "  residual15 = ResidualBlock(residual14)\r\n",
        "\r\n",
        "  # Unpooling with shared indexes\r\n",
        "  unpool2 = tf.keras.layers.UpSampling2D()(residual15)\r\n",
        "\r\n",
        "  # Residual block 16\r\n",
        "  residual16 = ResidualBlock(unpool2)\r\n",
        "\r\n",
        "  # Residual block 17\r\n",
        "  residual17 = ResidualBlock(residual16)\r\n",
        "\r\n",
        "  # Residual block 18\r\n",
        "  residual18 = ResidualBlock(residual17)\r\n",
        "\r\n",
        "  # Unpooling with shared indexes\r\n",
        "  unpool3 = tf.keras.layers.UpSampling2D()(residual18)\r\n",
        "\r\n",
        "  # Residual block 19\r\n",
        "  residual19 = ResidualBlock(unpool3)\r\n",
        "\r\n",
        "  # Residual block 20\r\n",
        "  residual20 = ResidualBlock(residual19)\r\n",
        "\r\n",
        "  # Residual block 21\r\n",
        "  residual21 = ResidualBlock(residual20)\r\n",
        "\r\n",
        "  # Unpooling with shared indexes\r\n",
        "  unpool4 = tf.keras.layers.UpSampling2D()(residual21)\r\n",
        "\r\n",
        "  # Residual block 22\r\n",
        "  residual22 = ResidualBlock(unpool4)\r\n",
        "\r\n",
        "  # Residual block 23\r\n",
        "  residual23 = ResidualBlock(residual22)\r\n",
        "\r\n",
        "  # Residual block 24\r\n",
        "  residual24 = ResidualBlock(residual23)\r\n",
        "  '''\r\n",
        "  # ADDED\r\n",
        "  residual24 = ResidualBlock(residual24)\r\n",
        "  residual24 = ResidualBlock(residual24)\r\n",
        "  residual24 = ResidualBlock(residual24)\r\n",
        "  residual24 = tf.keras.layers.UpSampling2D()(residual24)\r\n",
        "\r\n",
        "  # ADDED\r\n",
        "  residual24 = ResidualBlock(residual24)\r\n",
        "  residual24 = ResidualBlock(residual24)\r\n",
        "  residual24 = ResidualBlock(residual24)\r\n",
        "  residual24 = tf.keras.layers.UpSampling2D()(residual24)\r\n",
        "  '''\r\n",
        "  # CONV(1,1) with 3 kernels\r\n",
        "  out = tf.keras.layers.Conv2D(filters = 3, # only 1 output neuron since the classification is binary: output => 0 == background, 1 == object\r\n",
        "                               kernel_size = (1, 1), # => FC layer convolutionalized\r\n",
        "                               strides = (1, 1), # stride of a FC layer\r\n",
        "                               padding = 'same', # or same: kernel is (1,1) and stride (1,1) so is not important\r\n",
        "                               activation='softmax')(residual24)\r\n",
        "\r\n",
        "  model = tf.keras.Model(inputs = inputs, outputs = out)\r\n",
        "\r\n",
        "  # Visualize created model as a table\r\n",
        "  model.summary()\r\n",
        "\r\n",
        "  return model"
      ],
      "execution_count": 43,
      "outputs": []
    },
    {
      "cell_type": "markdown",
      "metadata": {
        "id": "P1u8uGpmFeGO"
      },
      "source": [
        "### Resnet50-Unet"
      ]
    },
    {
      "cell_type": "code",
      "metadata": {
        "id": "0ShbGaoaFi3h"
      },
      "source": [
        "import keras\r\n",
        "from keras.models import *\r\n",
        "from keras.layers import *\r\n",
        "from keras import layers\r\n",
        "import keras.backend as K\r\n",
        "\r\n",
        "IMAGE_ORDERING = 'channels_last'\r\n",
        "\r\n",
        "\r\n",
        "if IMAGE_ORDERING == 'channels_first':\r\n",
        "    pretrained_url = \"https://github.com/fchollet/deep-learning-models/\" \\\r\n",
        "                     \"releases/download/v0.2/\" \\\r\n",
        "                     \"resnet50_weights_th_dim_ordering_th_kernels_notop.h5\"\r\n",
        "elif IMAGE_ORDERING == 'channels_last':\r\n",
        "    pretrained_url = \"https://github.com/fchollet/deep-learning-models/\" \\\r\n",
        "                     \"releases/download/v0.2/\" \\\r\n",
        "                     \"resnet50_weights_tf_dim_ordering_tf_kernels_notop.h5\"\r\n",
        "\r\n",
        "if IMAGE_ORDERING == 'channels_first':\r\n",
        "    MERGE_AXIS = 1\r\n",
        "elif IMAGE_ORDERING == 'channels_last':\r\n",
        "    MERGE_AXIS = -1\r\n",
        "\r\n",
        "def one_side_pad(x):\r\n",
        "    x = ZeroPadding2D((1, 1), data_format=IMAGE_ORDERING)(x)\r\n",
        "    if IMAGE_ORDERING == 'channels_first':\r\n",
        "        x = Lambda(lambda x: x[:, :, :-1, :-1])(x)\r\n",
        "    elif IMAGE_ORDERING == 'channels_last':\r\n",
        "        x = Lambda(lambda x: x[:, :-1, :-1, :])(x)\r\n",
        "    return x\r\n",
        "\r\n",
        "\r\n",
        "def identity_block(input_tensor, kernel_size, filters, stage, block):\r\n",
        "    \"\"\"The identity block is the block that has no conv layer at shortcut.\r\n",
        "    # Arguments\r\n",
        "        input_tensor: input tensor\r\n",
        "        kernel_size: defualt 3, the kernel size of middle conv layer at\r\n",
        "                     main path\r\n",
        "        filters: list of integers, the filterss of 3 conv layer at main path\r\n",
        "        stage: integer, current stage label, used for generating layer names\r\n",
        "        block: 'a','b'..., current block label, used for generating layer names\r\n",
        "    # Returns\r\n",
        "        Output tensor for the block.\r\n",
        "    \"\"\"\r\n",
        "    filters1, filters2, filters3 = filters\r\n",
        "\r\n",
        "    if IMAGE_ORDERING == 'channels_last':\r\n",
        "        bn_axis = 3\r\n",
        "    else:\r\n",
        "        bn_axis = 1\r\n",
        "\r\n",
        "    conv_name_base = 'res' + str(stage) + block + '_branch'\r\n",
        "    bn_name_base = 'bn' + str(stage) + block + '_branch'\r\n",
        "\r\n",
        "    x = Conv2D(filters1, (1, 1), data_format=IMAGE_ORDERING,\r\n",
        "               name=conv_name_base + '2a')(input_tensor)\r\n",
        "    x = BatchNormalization(axis=bn_axis, name=bn_name_base + '2a')(x)\r\n",
        "    x = Activation('relu')(x)\r\n",
        "\r\n",
        "    x = Conv2D(filters2, kernel_size, data_format=IMAGE_ORDERING,\r\n",
        "               padding='same', name=conv_name_base + '2b')(x)\r\n",
        "    x = BatchNormalization(axis=bn_axis, name=bn_name_base + '2b')(x)\r\n",
        "    x = Activation('relu')(x)\r\n",
        "\r\n",
        "    x = Conv2D(filters3, (1, 1), data_format=IMAGE_ORDERING,\r\n",
        "               name=conv_name_base + '2c')(x)\r\n",
        "    x = BatchNormalization(axis=bn_axis, name=bn_name_base + '2c')(x)\r\n",
        "\r\n",
        "    x = layers.add([x, input_tensor])\r\n",
        "    x = Activation('relu')(x)\r\n",
        "    return x\r\n",
        "\r\n",
        "\r\n",
        "def conv_block(input_tensor, kernel_size, filters, stage, block,\r\n",
        "               strides=(2, 2)):\r\n",
        "    \"\"\"conv_block is the block that has a conv layer at shortcut\r\n",
        "    # Arguments\r\n",
        "        input_tensor: input tensor\r\n",
        "        kernel_size: defualt 3, the kernel size of middle conv layer at\r\n",
        "                     main path\r\n",
        "        filters: list of integers, the filterss of 3 conv layer at main path\r\n",
        "        stage: integer, current stage label, used for generating layer names\r\n",
        "        block: 'a','b'..., current block label, used for generating layer names\r\n",
        "    # Returns\r\n",
        "        Output tensor for the block.\r\n",
        "    Note that from stage 3, the first conv layer at main path is with\r\n",
        "    strides=(2,2) and the shortcut should have strides=(2,2) as well\r\n",
        "    \"\"\"\r\n",
        "    filters1, filters2, filters3 = filters\r\n",
        "\r\n",
        "    if IMAGE_ORDERING == 'channels_last':\r\n",
        "        bn_axis = 3\r\n",
        "    else:\r\n",
        "        bn_axis = 1\r\n",
        "\r\n",
        "    conv_name_base = 'res' + str(stage) + block + '_branch'\r\n",
        "    bn_name_base = 'bn' + str(stage) + block + '_branch'\r\n",
        "\r\n",
        "    x = Conv2D(filters1, (1, 1), data_format=IMAGE_ORDERING, strides=strides,\r\n",
        "               name=conv_name_base + '2a')(input_tensor)\r\n",
        "    x = BatchNormalization(axis=bn_axis, name=bn_name_base + '2a')(x)\r\n",
        "    x = Activation('relu')(x)\r\n",
        "\r\n",
        "    x = Conv2D(filters2, kernel_size, data_format=IMAGE_ORDERING,\r\n",
        "               padding='same', name=conv_name_base + '2b')(x)\r\n",
        "    x = BatchNormalization(axis=bn_axis, name=bn_name_base + '2b')(x)\r\n",
        "    x = Activation('relu')(x)\r\n",
        "\r\n",
        "    x = Conv2D(filters3, (1, 1), data_format=IMAGE_ORDERING,\r\n",
        "               name=conv_name_base + '2c')(x)\r\n",
        "    x = BatchNormalization(axis=bn_axis, name=bn_name_base + '2c')(x)\r\n",
        "\r\n",
        "    shortcut = Conv2D(filters3, (1, 1), data_format=IMAGE_ORDERING,\r\n",
        "                      strides=strides, name=conv_name_base + '1')(input_tensor)\r\n",
        "    shortcut = BatchNormalization(\r\n",
        "        axis=bn_axis, name=bn_name_base + '1')(shortcut)\r\n",
        "\r\n",
        "    x = layers.add([x, shortcut])\r\n",
        "    x = Activation('relu')(x)\r\n",
        "    return x\r\n",
        "\r\n",
        "def get_resnet50_encoder(input_height=224,  input_width=224,\r\n",
        "                         pretrained='imagenet',\r\n",
        "                         include_top=True, weights='imagenet',\r\n",
        "                         input_tensor=None, input_shape=None,\r\n",
        "                         pooling=None,\r\n",
        "                         classes=1000):\r\n",
        "\r\n",
        "    assert input_height % 32 == 0\r\n",
        "    assert input_width % 32 == 0\r\n",
        "\r\n",
        "    if IMAGE_ORDERING == 'channels_first':\r\n",
        "        img_input = Input(shape=(3, input_height, input_width))\r\n",
        "    elif IMAGE_ORDERING == 'channels_last':\r\n",
        "        img_input = Input(shape=(input_height, input_width, 3))\r\n",
        "\r\n",
        "    if IMAGE_ORDERING == 'channels_last':\r\n",
        "        bn_axis = 3\r\n",
        "    else:\r\n",
        "        bn_axis = 1\r\n",
        "\r\n",
        "    x = ZeroPadding2D((3, 3), data_format=IMAGE_ORDERING)(img_input)\r\n",
        "    x = Conv2D(64, (7, 7), data_format=IMAGE_ORDERING,\r\n",
        "               strides=(2, 2), name='conv1')(x)\r\n",
        "    f1 = x\r\n",
        "\r\n",
        "    x = BatchNormalization(axis=bn_axis, name='bn_conv1')(x)\r\n",
        "    x = Activation('relu')(x)\r\n",
        "    x = MaxPooling2D((3, 3), data_format=IMAGE_ORDERING, strides=(2, 2))(x)\r\n",
        "\r\n",
        "    x = conv_block(x, 3, [64, 64, 256], stage=2, block='a', strides=(1, 1))\r\n",
        "    x = identity_block(x, 3, [64, 64, 256], stage=2, block='b')\r\n",
        "    x = identity_block(x, 3, [64, 64, 256], stage=2, block='c')\r\n",
        "    f2 = one_side_pad(x)\r\n",
        "\r\n",
        "    x = conv_block(x, 3, [128, 128, 512], stage=3, block='a')\r\n",
        "    x = identity_block(x, 3, [128, 128, 512], stage=3, block='b')\r\n",
        "    x = identity_block(x, 3, [128, 128, 512], stage=3, block='c')\r\n",
        "    x = identity_block(x, 3, [128, 128, 512], stage=3, block='d')\r\n",
        "    f3 = x\r\n",
        "\r\n",
        "    x = conv_block(x, 3, [256, 256, 1024], stage=4, block='a')\r\n",
        "    x = identity_block(x, 3, [256, 256, 1024], stage=4, block='b')\r\n",
        "    x = identity_block(x, 3, [256, 256, 1024], stage=4, block='c')\r\n",
        "    x = identity_block(x, 3, [256, 256, 1024], stage=4, block='d')\r\n",
        "    x = identity_block(x, 3, [256, 256, 1024], stage=4, block='e')\r\n",
        "    x = identity_block(x, 3, [256, 256, 1024], stage=4, block='f')\r\n",
        "    f4 = x\r\n",
        "\r\n",
        "    x = conv_block(x, 3, [512, 512, 2048], stage=5, block='a')\r\n",
        "    x = identity_block(x, 3, [512, 512, 2048], stage=5, block='b')\r\n",
        "    x = identity_block(x, 3, [512, 512, 2048], stage=5, block='c')\r\n",
        "    f5 = x\r\n",
        "\r\n",
        "    x = AveragePooling2D(\r\n",
        "        (7, 7), data_format=IMAGE_ORDERING, name='avg_pool')(x)\r\n",
        "    # f6 = x\r\n",
        "    \r\n",
        "    if pretrained == 'imagenet':\r\n",
        "        weights_path = keras.utils.get_file(\r\n",
        "            pretrained_url.split(\"/\")[-1], pretrained_url)\r\n",
        "        Model(img_input, x).load_weights(weights_path)\r\n",
        "    \r\n",
        "    return img_input, [f1, f2, f3, f4, f5]\r\n",
        "\r\n",
        "def get_segmentation_model(input, output):\r\n",
        "\r\n",
        "    img_input = input\r\n",
        "    o = output\r\n",
        "\r\n",
        "    o_shape = Model(img_input, o).output_shape\r\n",
        "    i_shape = Model(img_input, o).input_shape\r\n",
        "\r\n",
        "    if IMAGE_ORDERING == 'channels_first':\r\n",
        "        output_height = o_shape[2]\r\n",
        "        output_width = o_shape[3]\r\n",
        "        input_height = i_shape[2]\r\n",
        "        input_width = i_shape[3]\r\n",
        "        n_classes = o_shape[1]\r\n",
        "        o = (Reshape((-1, output_height*output_width)))(o)\r\n",
        "        o = (Permute((2, 1)))(o)\r\n",
        "    elif IMAGE_ORDERING == 'channels_last':\r\n",
        "        output_height = o_shape[1]\r\n",
        "        output_width = o_shape[2]\r\n",
        "        input_height = i_shape[1]\r\n",
        "        input_width = i_shape[2]\r\n",
        "        n_classes = o_shape[3]\r\n",
        "        o = tf.keras.layers.UpSampling2D(size=(2, 2), interpolation=\"nearest\")(o)\r\n",
        "        #o = tf.keras.layers.UpSampling2D(size=(2, 2), interpolation=\"nearest\")(o)\r\n",
        "    o = (Activation('softmax'))(o)\r\n",
        "    model = Model(img_input, o)\r\n",
        "    model.output_width = output_width\r\n",
        "    model.output_height = output_height\r\n",
        "    model.n_classes = n_classes\r\n",
        "    model.input_height = input_height\r\n",
        "    model.input_width = input_width\r\n",
        "    model.model_name = \"\"\r\n",
        "    return model\r\n",
        "\r\n",
        "def _unet(n_classes, encoder, l1_skip_conn=True, input_height=416,\r\n",
        "          input_width=608):\r\n",
        "\r\n",
        "    img_input, levels = encoder(\r\n",
        "        input_height=input_height, input_width=input_width)\r\n",
        "    [f1, f2, f3, f4, f5] = levels\r\n",
        "\r\n",
        "    o = f4\r\n",
        "\r\n",
        "    o = (ZeroPadding2D((1, 1), data_format=IMAGE_ORDERING))(o)\r\n",
        "    o = (Conv2D(512, (3, 3), padding='valid' , activation='relu' , data_format=IMAGE_ORDERING))(o)\r\n",
        "    o = (BatchNormalization())(o)\r\n",
        "\r\n",
        "    o = (UpSampling2D((2, 2), data_format=IMAGE_ORDERING))(o)\r\n",
        "    o = (concatenate([o, f3], axis=MERGE_AXIS))\r\n",
        "    o = (ZeroPadding2D((1, 1), data_format=IMAGE_ORDERING))(o)\r\n",
        "    o = (Conv2D(256, (3, 3), padding='valid', activation='relu' , data_format=IMAGE_ORDERING))(o)\r\n",
        "    o = (BatchNormalization())(o)\r\n",
        "\r\n",
        "    o = (UpSampling2D((2, 2), data_format=IMAGE_ORDERING))(o)\r\n",
        "    o = (concatenate([o, f2], axis=MERGE_AXIS))\r\n",
        "    o = (ZeroPadding2D((1, 1), data_format=IMAGE_ORDERING))(o)\r\n",
        "    o = (Conv2D(128, (3, 3), padding='valid' , activation='relu' , data_format=IMAGE_ORDERING))(o)\r\n",
        "    o = (BatchNormalization())(o)\r\n",
        "\r\n",
        "    o = (UpSampling2D((2, 2), data_format=IMAGE_ORDERING))(o)\r\n",
        "\r\n",
        "    if l1_skip_conn:\r\n",
        "        o = (concatenate([o, f1], axis=MERGE_AXIS))\r\n",
        "\r\n",
        "    o = (ZeroPadding2D((1, 1), data_format=IMAGE_ORDERING))(o)\r\n",
        "    o = (Conv2D(64, (3, 3), padding='valid', activation='relu', data_format=IMAGE_ORDERING))(o)\r\n",
        "    o = (BatchNormalization())(o)\r\n",
        "\r\n",
        "    o = Conv2D(n_classes, (3, 3), padding='same',\r\n",
        "               data_format=IMAGE_ORDERING)(o)\r\n",
        "\r\n",
        "    model = get_segmentation_model(img_input, o)\r\n",
        "\r\n",
        "    return model\r\n",
        "\r\n",
        "def resnet50_unet(n_classes, input_height=416, input_width=608,\r\n",
        "                  encoder_level=3):\r\n",
        "\r\n",
        "    model = _unet(n_classes, get_resnet50_encoder,\r\n",
        "                  input_height=input_height, input_width=input_width)\r\n",
        "    model.model_name = \"resnet50_unet\"\r\n",
        "    return model"
      ],
      "execution_count": 44,
      "outputs": []
    },
    {
      "cell_type": "markdown",
      "metadata": {
        "id": "bnz3OddcDOJD"
      },
      "source": [
        "### EfficientB7-Unet"
      ]
    },
    {
      "cell_type": "code",
      "metadata": {
        "id": "Y8p2xQB_0ty5"
      },
      "source": [
        "def Efficient_Unet(input_shape = (896, 1280, 3)):\r\n",
        "  efficient = tf.keras.applications.EfficientNetB7(weights='imagenet', include_top=False, input_shape = input_shape)\r\n",
        "  \r\n",
        "  # We only use: \r\n",
        "  # efficient.layers[:-3]\r\n",
        "  \r\n",
        "  input = efficient.input\r\n",
        "\r\n",
        "  out_eff = efficient.get_layer('block7d_add').output\r\n",
        "\r\n",
        "  # Up.Conv\r\n",
        "  # -------\r\n",
        "  skip_unpoolb7 = tf.keras.layers.UpSampling2D(size=(2 ,2), interpolation = 'bilinear')(out_eff)\r\n",
        "  \r\n",
        "  convb7 = tf.keras.layers.Conv2D(filters = 512, kernel_size=(3, 3), padding = 'same')(skip_unpoolb7)\r\n",
        "  # -------\r\n",
        "\r\n",
        "  # Concat b6\r\n",
        "  # -------\r\n",
        "  skip_unpoolb6 = tf.keras.layers.UpSampling2D(size=(2 ,2), interpolation = 'bilinear')(efficient.get_layer('block6m_add').output)\r\n",
        "\r\n",
        "  concatb6 = tf.keras.layers.Concatenate()([skip_unpoolb6, convb7])\r\n",
        "  # -------\r\n",
        "\r\n",
        "  # Conv + Upsampling\r\n",
        "  # -------\r\n",
        "  conv2 = tf.keras.layers.Conv2D(filters = 256, kernel_size = (3, 3), padding = 'same')(concatb6)\r\n",
        "  \r\n",
        "  unpool2 = tf.keras.layers.UpSampling2D(size=(2 ,2), interpolation = 'bilinear')(conv2)\r\n",
        "  # -------\r\n",
        "\r\n",
        "\r\n",
        "  # Concat b4\r\n",
        "  # ---------\r\n",
        "  skip_unpoolb4 = tf.keras.layers.UpSampling2D(size=(2 ,2), interpolation = 'bilinear')(efficient.get_layer('block4g_add').output)\r\n",
        "\r\n",
        "  concatb4 = tf.keras.layers.Concatenate()([skip_unpoolb4, unpool2])\r\n",
        "  # ---------\r\n",
        "\r\n",
        "  # Conv + Upsampling\r\n",
        "  # -----------------\r\n",
        "  conv3 = tf.keras.layers.Conv2D(filters = 128, kernel_size = (3, 3), padding = 'same')(concatb4)\r\n",
        "  \r\n",
        "  unpool3 = tf.keras.layers.UpSampling2D(size=(2 ,2), interpolation = 'bilinear')(conv3)\r\n",
        "  # ----------------- \r\n",
        "  \r\n",
        "  # Concat b3\r\n",
        "  # ---------\r\n",
        "  skip_unpoolb3 = tf.keras.layers.UpSampling2D(size=(2 ,2), interpolation = 'bilinear')(efficient.get_layer('block3g_add').output)\r\n",
        "\r\n",
        "  concatb3 = tf.keras.layers.Concatenate()([skip_unpoolb3, unpool3])\r\n",
        "  # ---------\r\n",
        "  \r\n",
        "  # Conv + Upsampling\r\n",
        "  # -----------------\r\n",
        "  conv4 = tf.keras.layers.Conv2D(filters = 64, kernel_size = (3, 3), padding = 'same')(concatb3)\r\n",
        "  \r\n",
        "  unpool4 = tf.keras.layers.UpSampling2D(size=(2 ,2), interpolation = 'bilinear')(conv4)\r\n",
        "  # ----------------- \r\n",
        "\r\n",
        "  # Concat b2\r\n",
        "  # ---------\r\n",
        "  skip_unpoolb2 = tf.keras.layers.UpSampling2D(size=(2 ,2), interpolation = 'bilinear')(efficient.get_layer('block2g_add').output)\r\n",
        "\r\n",
        "  concatb2 = tf.keras.layers.Concatenate()([skip_unpoolb2, unpool4])\r\n",
        "  # ---------\r\n",
        "\r\n",
        "  # Conv + Upsampling\r\n",
        "  # -----------------\r\n",
        "  conv5 = tf.keras.layers.Conv2D(filters = 16, kernel_size = (3, 3), padding = 'same')(concatb2)\r\n",
        "  \r\n",
        "  unpool5 = tf.keras.layers.UpSampling2D(size=(2 ,2), interpolation = 'bilinear')(conv5)\r\n",
        "  # ----------------- \r\n",
        "\r\n",
        "  output = tf.keras.layers.Conv2D(filters = 3, kernel_size= (1, 1), strides = (1, 1), activation = 'softmax')(unpool5)\r\n",
        "\r\n",
        "  model = tf.keras.Model(inputs = input, outputs = output)\r\n",
        "  \r\n",
        "  model.summary()\r\n",
        "\r\n",
        "  return model"
      ],
      "execution_count": 45,
      "outputs": []
    },
    {
      "cell_type": "markdown",
      "metadata": {
        "id": "OquSDotTI9nc"
      },
      "source": [
        "## Losses"
      ]
    },
    {
      "cell_type": "code",
      "metadata": {
        "id": "scZkrBPDiuQE"
      },
      "source": [
        "# ------------------------------------\r\n",
        "# Utility functions for loss functions\r\n",
        "# ------------------------------------\r\n",
        "\r\n",
        "import keras.backend as backend\r\n",
        "\r\n",
        "def _gather_channels(x, indexes):\r\n",
        "  \"\"\"Slice tensor along channels axis by given indexes\"\"\"\r\n",
        "    \r\n",
        "  x = backend.permute_dimensions(x, (3, 0, 1, 2))\r\n",
        "  x = backend.gather(x, indexes)\r\n",
        "  x = backend.permute_dimensions(x, (1, 2, 3, 0))\r\n",
        "\r\n",
        "def get_reduce_axes(per_image):\r\n",
        "    \r\n",
        "    axes = [1, 2]\r\n",
        "    if not per_image:\r\n",
        "        axes.insert(0, 0)\r\n",
        "    return axes\r\n",
        "\r\n",
        "\r\n",
        "def gather_channels(*xs, indexes=None):\r\n",
        "    \"\"\"Slice tensors along channels axis by given indexes\"\"\"\r\n",
        "    if indexes is None:\r\n",
        "        return xs\r\n",
        "    elif isinstance(indexes, (int)):\r\n",
        "        indexes = [indexes]\r\n",
        "    xs = [_gather_channels(x, indexes=indexes) for x in xs]\r\n",
        "    return xs\r\n",
        "\r\n",
        "\r\n",
        "def round_if_needed(x, threshold):\r\n",
        "    \r\n",
        "    if threshold is not None:\r\n",
        "        x = backend.greater(x, threshold)\r\n",
        "        x = backend.cast(x, backend.floatx())\r\n",
        "    return x\r\n",
        "\r\n",
        "def average(x, per_image=False, class_weights=None):\r\n",
        "\r\n",
        "    if per_image:\r\n",
        "        x = backend.mean(x, axis=0)\r\n",
        "    if class_weights is not None:\r\n",
        "        x = x * class_weights\r\n",
        "    return backend.mean(x)"
      ],
      "execution_count": 46,
      "outputs": []
    },
    {
      "cell_type": "code",
      "metadata": {
        "id": "IdfV7kvqFD-z"
      },
      "source": [
        "# ----------------\r\n",
        "# Dice coefficient\r\n",
        "# ----------------\r\n",
        "def f_score(gt, pr, beta=1, class_weights=1, class_indexes=None, smooth=1e-7, per_image=False, threshold=None):\r\n",
        "    \"\"\"The F-score (Dice coefficient) can be interpreted as a weighted average of the precision and recall,\r\n",
        "    where an F-score reaches its best value at 1 and worst score at 0.\r\n",
        "    The relative contribution of ``precision`` and ``recall`` to the F1-score are equal.\r\n",
        "    The formula for the F score is:\r\n",
        "    .. math:: F_\\beta(precision, recall) = (1 + \\beta^2) \\frac{precision \\cdot recall}\r\n",
        "        {\\beta^2 \\cdot precision + recall}\r\n",
        "    The formula in terms of *Type I* and *Type II* errors:\r\n",
        "    .. math:: F_\\beta(A, B) = \\frac{(1 + \\beta^2) TP} {(1 + \\beta^2) TP + \\beta^2 FN + FP}\r\n",
        "    where:\r\n",
        "        TP - true positive;\r\n",
        "        FP - false positive;\r\n",
        "        FN - false negative;\r\n",
        "    Args:\r\n",
        "        gt: ground truth 4D keras tensor (B, H, W, C) or (B, C, H, W)\r\n",
        "        pr: prediction 4D keras tensor (B, H, W, C) or (B, C, H, W)\r\n",
        "        class_weights: 1. or list of class weights, len(weights) = C\r\n",
        "        class_indexes: Optional integer or list of integers, classes to consider, if ``None`` all classes are used.\r\n",
        "        beta: f-score coefficient\r\n",
        "        smooth: value to avoid division by zero\r\n",
        "        per_image: if ``True``, metric is calculated as mean over images in batch (B),\r\n",
        "            else over whole batch\r\n",
        "        threshold: value to round predictions (use ``>`` comparison), if ``None`` prediction will not be round\r\n",
        "    Returns:\r\n",
        "        F-score in range [0, 1]\r\n",
        "    \"\"\"\r\n",
        "\r\n",
        "    gt, pr = gather_channels(gt, pr, indexes=class_indexes)\r\n",
        "    pr = round_if_needed(pr, threshold)\r\n",
        "    axes = get_reduce_axes(per_image)\r\n",
        "\r\n",
        "    # calculate score\r\n",
        "    tp = backend.sum(gt * pr, axis=axes)\r\n",
        "    fp = backend.sum(pr, axis=axes) - tp\r\n",
        "    fn = backend.sum(gt, axis=axes) - tp\r\n",
        "\r\n",
        "    score = ((1 + beta ** 2) * tp + smooth) \\\r\n",
        "            / ((1 + beta ** 2) * tp + beta ** 2 * fn + fp + smooth)\r\n",
        "    score = average(score, per_image, class_weights)\r\n",
        "\r\n",
        "    return score"
      ],
      "execution_count": 47,
      "outputs": []
    },
    {
      "cell_type": "code",
      "metadata": {
        "id": "-j6GxcaoGi4l"
      },
      "source": [
        "# ---------\r\n",
        "# Dice loss\r\n",
        "# ---------\r\n",
        "def DiceLoss(y_true, y_pred):\r\n",
        "    \"\"\"Creates a criterion to measure Dice loss:\r\n",
        "    .. math:: L(precision, recall) = 1 - (1 + \\beta^2) \\frac{precision \\cdot recall}\r\n",
        "        {\\beta^2 \\cdot precision + recall}\r\n",
        "    The formula in terms of *Type I* and *Type II* errors:\r\n",
        "    .. math:: L(tp, fp, fn) = \\frac{(1 + \\beta^2) \\cdot tp} {(1 + \\beta^2) \\cdot fp + \\beta^2 \\cdot fn + fp}\r\n",
        "    where:\r\n",
        "         - tp - true positives;\r\n",
        "         - fp - false positives;\r\n",
        "         - fn - false negatives;\r\n",
        "    Args:\r\n",
        "        beta: Float or integer coefficient for precision and recall balance.\r\n",
        "        class_weights: Array (``np.array``) of class weights (``len(weights) = num_classes``).\r\n",
        "        class_indexes: Optional integer or list of integers, classes to consider, if ``None`` all classes are used.\r\n",
        "        per_image: If ``True`` loss is calculated for each image in batch and then averaged,\r\n",
        "        else loss is calculated for the whole batch.\r\n",
        "        smooth: Value to avoid division by zero.\r\n",
        "    Returns:\r\n",
        "        A callable ``dice_loss`` instance. Can be used in ``model.compile(...)`` function`\r\n",
        "        or combined with other losses.\r\n",
        "    Example:\r\n",
        "    .. code:: python\r\n",
        "        loss = DiceLoss()\r\n",
        "        model.compile('SGD', loss=loss)\r\n",
        "    \"\"\"\r\n",
        "    return 1 - f_score(\r\n",
        "                        y_true,\r\n",
        "                        y_pred,\r\n",
        "                        beta=1,\r\n",
        "                        class_weights=1,\r\n",
        "                        class_indexes=None,\r\n",
        "                        smooth=1e-7,\r\n",
        "                        per_image=False,\r\n",
        "                        threshold=None\r\n",
        "                    )"
      ],
      "execution_count": 48,
      "outputs": []
    },
    {
      "cell_type": "code",
      "metadata": {
        "id": "ABaEmndOMD_s"
      },
      "source": [
        "# ----------------------------------------\r\n",
        "# Focal loss for multiclass classification\r\n",
        "# ----------------------------------------\r\n",
        "def categorical_focal_loss(gt, pr, gamma=2.0, alpha=0.25, class_indexes=None):\r\n",
        "    \"\"\"Implementation of Focal Loss from the paper in multiclass classification\r\n",
        "    Formula:\r\n",
        "        loss = - gt * alpha * ((1 - pr)^gamma) * log(pr)\r\n",
        "    Args:\r\n",
        "        gt: ground truth 4D keras tensor (B, H, W, C) or (B, C, H, W)\r\n",
        "        pr: prediction 4D keras tensor (B, H, W, C) or (B, C, H, W)\r\n",
        "        alpha: the same as weighting factor in balanced cross entropy, default 0.25\r\n",
        "        gamma: focusing parameter for modulating factor (1-p), default 2.0\r\n",
        "        class_indexes: Optional integer or list of integers, classes to consider, if ``None`` all classes are used.\r\n",
        "    \"\"\"\r\n",
        "\r\n",
        "    gt, pr = gather_channels(gt, pr, indexes=class_indexes)\r\n",
        "\r\n",
        "    # clip to prevent NaN's and Inf's\r\n",
        "    pr = backend.clip(pr, backend.epsilon(), 1.0 - backend.epsilon())\r\n",
        "\r\n",
        "    # Calculate focal loss\r\n",
        "    loss = - gt * (alpha * backend.pow((1 - pr), gamma) * backend.log(pr))\r\n",
        "\r\n",
        "    return backend.mean(loss)"
      ],
      "execution_count": 49,
      "outputs": []
    },
    {
      "cell_type": "code",
      "metadata": {
        "id": "opoMhQUJL40t"
      },
      "source": [
        "# ----------------------------------------\r\n",
        "# Focal loss for multiclass classification\r\n",
        "# ----------------------------------------\r\n",
        "def CategoricalFocalLoss(y_true, y_pred):\r\n",
        "    \"\"\"Creates a criterion that measures the Categorical Focal Loss between the\r\n",
        "    ground truth (gt) and the prediction (pr).\r\n",
        "    .. math:: L(gt, pr) = - gt \\cdot \\alpha \\cdot (1 - pr)^\\gamma \\cdot \\log(pr)\r\n",
        "    Args:\r\n",
        "        alpha: Float or integer, the same as weighting factor in balanced cross entropy, default 0.25.\r\n",
        "        gamma: Float or integer, focusing parameter for modulating factor (1 - p), default 2.0.\r\n",
        "        class_indexes: Optional integer or list of integers, classes to consider, if ``None`` all classes are used.\r\n",
        "    Returns:\r\n",
        "        A callable ``categorical_focal_loss`` instance. Can be used in ``model.compile(...)`` function\r\n",
        "        or combined with other losses.\r\n",
        "    Example:\r\n",
        "        .. code:: python\r\n",
        "            loss = CategoricalFocalLoss()\r\n",
        "            model.compile('SGD', loss=loss)\r\n",
        "    \"\"\"\r\n",
        "    return categorical_focal_loss(\r\n",
        "                                  y_true,\r\n",
        "                                  y_pred,\r\n",
        "                                  alpha=0.25,\r\n",
        "                                  gamma=2.,\r\n",
        "                                  class_indexes=None\r\n",
        "                                 )"
      ],
      "execution_count": 50,
      "outputs": []
    },
    {
      "cell_type": "code",
      "metadata": {
        "id": "4JJrFuZSRw3x"
      },
      "source": [
        "# -------------------------------------------------------------------\r\n",
        "# Combined loss: Focal loss for multiclass classification + Dice loss\r\n",
        "# -------------------------------------------------------------------\r\n",
        "def CombinedLoss(y_true, y_pred):\r\n",
        "  return categorical_focal_loss(y_true, y_pred, alpha=0.25, gamma=2., class_indexes=None) + 1 - f_score(y_true, y_pred, beta=1, class_weights=np.array([0.25, 1., 1.]), class_indexes=None, smooth=1e-7, per_image=False, threshold=None)"
      ],
      "execution_count": 51,
      "outputs": []
    },
    {
      "cell_type": "code",
      "metadata": {
        "id": "AepWQ_DtPzqq"
      },
      "source": [
        "# ----------------------------\r\n",
        "# IoU metric for loss function\r\n",
        "# ----------------------------\r\n",
        "def iou_score(gt, pr, class_weights=1., class_indexes=None, smooth=1e-7, per_image=False, threshold=None):\r\n",
        "    \"\"\" The `Jaccard index`_, also known as Intersection over Union and the Jaccard similarity coefficient\r\n",
        "    (originally coined coefficient de communauté by Paul Jaccard), is a statistic used for comparing the\r\n",
        "    similarity and diversity of sample sets. The Jaccard coefficient measures similarity between finite sample sets,\r\n",
        "    and is defined as the size of the intersection divided by the size of the union of the sample sets:\r\n",
        "    .. math:: J(A, B) = \\frac{A \\cap B}{A \\cup B}\r\n",
        "    Args:\r\n",
        "        gt: ground truth 4D keras tensor (B, H, W, C) or (B, C, H, W)\r\n",
        "        pr: prediction 4D keras tensor (B, H, W, C) or (B, C, H, W)\r\n",
        "        class_weights: 1. or list of class weights, len(weights) = C\r\n",
        "        class_indexes: Optional integer or list of integers, classes to consider, if ``None`` all classes are used.\r\n",
        "        smooth: value to avoid division by zero\r\n",
        "        per_image: if ``True``, metric is calculated as mean over images in batch (B),\r\n",
        "            else over whole batch\r\n",
        "        threshold: value to round predictions (use ``>`` comparison), if ``None`` prediction will not be round\r\n",
        "    Returns:\r\n",
        "        IoU/Jaccard score in range [0, 1]\r\n",
        "    .. _`Jaccard index`: https://en.wikipedia.org/wiki/Jaccard_index\r\n",
        "    \"\"\"\r\n",
        "\r\n",
        "    gt, pr = gather_channels(gt, pr, indexes=class_indexes)\r\n",
        "    pr = round_if_needed(pr, threshold)\r\n",
        "    axes = get_reduce_axes(per_image)\r\n",
        "\r\n",
        "    # score calculation\r\n",
        "    intersection = backend.sum(gt * pr, axis=axes)\r\n",
        "    union = backend.sum(gt + pr, axis=axes) - intersection\r\n",
        "\r\n",
        "    score = (intersection + smooth) / (union + smooth)\r\n",
        "    score = average(score, per_image, class_weights)\r\n",
        "\r\n",
        "    return score"
      ],
      "execution_count": 52,
      "outputs": []
    },
    {
      "cell_type": "code",
      "metadata": {
        "id": "4di0U_5fxlx0"
      },
      "source": [
        "# --------------------\r\n",
        "# Logarithmic IoU loss\r\n",
        "# --------------------\r\n",
        "def IoU_loss(y_true, y_pred):\r\n",
        "  return - backend.log(iou_score(y_true, y_pred, class_weights=np.array([0.25, 1., 1.]), class_indexes=None, smooth=1e-7, per_image=False, threshold=None))"
      ],
      "execution_count": 53,
      "outputs": []
    },
    {
      "cell_type": "markdown",
      "metadata": {
        "id": "DUfzizgYx9hp"
      },
      "source": [
        "## Setup functions"
      ]
    },
    {
      "cell_type": "code",
      "metadata": {
        "id": "U_6cAzRZx9hq"
      },
      "source": [
        "# -------------------------------------------------\r\n",
        "# Define transfer learning model for Efficient-Unet\r\n",
        "# -------------------------------------------------\r\n",
        "\r\n",
        "def define_transfer_learning(input_size = (896, 1280, 3)):\r\n",
        "\r\n",
        "  eff_unet_model = Efficient_Unet(input_shape = input_size)\r\n",
        "  \r\n",
        "  eff_unet_model.trainable = True\r\n",
        "\r\n",
        "  train = False\r\n",
        "  for layer in eff_unet_model.layers:\r\n",
        "    if train:\r\n",
        "      layer.trainable = True\r\n",
        "    else:\r\n",
        "      layer.trainable = False\r\n",
        "    if layer.name == 'block7d_add':\r\n",
        "      train = True\r\n",
        "\r\n",
        "  model = tf.keras.Sequential()\r\n",
        "  \r\n",
        "  model.add(eff_unet_model)\r\n",
        "\r\n",
        "  #eff_unet_model.summary()\r\n",
        "  model.summary()\r\n",
        "\r\n",
        "  return model"
      ],
      "execution_count": 54,
      "outputs": []
    },
    {
      "cell_type": "code",
      "metadata": {
        "id": "8cbkPOXbx9hq"
      },
      "source": [
        "# -------------------------------------------\r\n",
        "# Define fine tuning model for Efficient-Unet\r\n",
        "# -------------------------------------------\r\n",
        "def define_fine_tuning(input_size = (896, 1280, 3)):\r\n",
        "\r\n",
        "  eff_unet_model = Efficient_Unet(input_shape = input_size)\r\n",
        "\r\n",
        "  eff_unet_model.trainable = True\r\n",
        "\r\n",
        "  train = False\r\n",
        "\r\n",
        "  for layer in eff_unet_model.layers:\r\n",
        "  \r\n",
        "    if train:\r\n",
        "      layer.trainable = True\r\n",
        "    else:\r\n",
        "      layer.trainable = False\r\n",
        "    \r\n",
        "    if layer.name == 'block7d_add':\r\n",
        "      train = True\r\n",
        "\r\n",
        "    #if (\"block4\" in layer.name):\r\n",
        "    #  layer.trainable = True\r\n",
        "    \r\n",
        "    #if (\"block5\" in layer.name):\r\n",
        "    #  layer.trainable = True\r\n",
        "\r\n",
        "    if (\"block6\" in layer.name):\r\n",
        "      layer.trainable = True\r\n",
        "    \r\n",
        "    if (\"block7\" in layer.name):\r\n",
        "      layer.trainable = True\r\n",
        "\r\n",
        "    if \"_bn\" in layer.name:\r\n",
        "      layer.trainable = False\r\n",
        "\r\n",
        "    # Print the layer of the EfficientNet-B7 and if they are set to trainable\r\n",
        "    print(str(layer.name) + ' '*(35 - len(str(layer.name))) + '----> Trainable: ' + str(layer.trainable))\r\n",
        "\r\n",
        "  model = tf.keras.Sequential()\r\n",
        "  \r\n",
        "  model.add(eff_unet_model)\r\n",
        "\r\n",
        "  model.summary()\r\n",
        "\r\n",
        "  return model"
      ],
      "execution_count": 55,
      "outputs": []
    },
    {
      "cell_type": "code",
      "metadata": {
        "id": "PRhSKLnhx9hr"
      },
      "source": [
        "# --------------\r\n",
        "# meanIoU metric\r\n",
        "# --------------\r\n",
        "def meanIoU(y_true, y_pred):\r\n",
        "\r\n",
        "  # get predicted class from softmax\r\n",
        "  y_pred = tf.expand_dims(tf.argmax(y_pred, -1), -1)\r\n",
        "\r\n",
        "  per_class_iou = []\r\n",
        "\r\n",
        "  for i in range(1,3): # exclude the background class 0\r\n",
        "\r\n",
        "    # Get prediction and target related to only a single class (i)\r\n",
        "    class_pred = tf.cast(tf.where(y_pred == i, 1, 0), tf.float32)\r\n",
        "    class_true = tf.cast(tf.where(y_true == i, 1, 0), tf.float32)\r\n",
        "    intersection = tf.reduce_sum(class_true * class_pred)\r\n",
        "    union = tf.reduce_sum(class_true) + tf.reduce_sum(class_pred) - intersection\r\n",
        "    \r\n",
        "    iou = (intersection + 1e-7) / (union + 1e-7)\r\n",
        "    per_class_iou.append(iou)\r\n",
        "\r\n",
        "  return tf.reduce_mean(per_class_iou)"
      ],
      "execution_count": 56,
      "outputs": []
    },
    {
      "cell_type": "code",
      "metadata": {
        "id": "9MlmYGVMnFJW"
      },
      "source": [
        "# -----------------\n",
        "# Compile the model\n",
        "# -----------------\n",
        "def compile_model(model, lr):\n",
        "\n",
        "  # Optimization params\n",
        "  # -------------------\n",
        "\n",
        "  # Loss\n",
        "  # ----\n",
        "  # Sparse Categorical Crossentropy to use integers (mask) instead of one-hot encoded labels\n",
        "  diceloss = DiceLoss \n",
        "  sparseloss = tf.keras.losses.SparseCategoricalCrossentropy()\n",
        "  catfocalloss = CategoricalFocalLoss\n",
        "  iouloss = IoU_loss\n",
        "  combinedloss = CombinedLoss\n",
        "\n",
        "  loss = sparseloss\n",
        "  # ----\n",
        "\n",
        "  # Optimization function\n",
        "  # ---------------------\n",
        "  optimizer = tf.keras.optimizers.Adam(learning_rate=lr) #tfa.optimizers.RectifiedAdam(learning_rate=lr) \n",
        "  # ---------------------\n",
        "\n",
        "  # Validation metrics\n",
        "  # ------------------\n",
        "  mIoU = meanIoU\n",
        "  metrics = ['accuracy', mIoU]\n",
        "  # ------------------\n",
        "\n",
        "  # Compile Model\n",
        "  # -------------\n",
        "  model.compile(optimizer=optimizer, loss=loss, metrics=metrics, loss_weights = [1.5133127348818056, 14.139274748955497, 20.349217406952828])\n",
        "  # -------------\n",
        "\n",
        "  # -------------------\n",
        "  \n",
        "  return model"
      ],
      "execution_count": 57,
      "outputs": []
    },
    {
      "cell_type": "code",
      "metadata": {
        "id": "hczZhnx6FiDR"
      },
      "source": [
        "# -----------------\r\n",
        "# Set the callbacks\r\n",
        "# -----------------\r\n",
        "def set_callbacks(type, model_checkpoint, visualize_tensorboard, early_stop, reduce_lr_on_plateau):\r\n",
        "  \r\n",
        "  import os\r\n",
        "  from datetime import datetime\r\n",
        "\r\n",
        "  cwd = os.getcwd()\r\n",
        "\r\n",
        "  exps_dir = os.path.join('/content/drive/My Drive/Challenge_2/', 'segmentation_experiments')\r\n",
        "  if not os.path.exists(exps_dir):\r\n",
        "    os.makedirs(exps_dir)\r\n",
        "\r\n",
        "  model_name = type\r\n",
        "\r\n",
        "  exp_dir = os.path.join(exps_dir, model_name)\r\n",
        "  if not os.path.exists(exp_dir):\r\n",
        "    os.makedirs(exp_dir)\r\n",
        "    \r\n",
        "  callbacks = []\r\n",
        "\r\n",
        "  # Model checkpoint\r\n",
        "  # ----------------\r\n",
        "  if model_checkpoint:\r\n",
        "    ckpt_dir = os.path.join(exp_dir, 'ckpts')\r\n",
        "    if not os.path.exists(ckpt_dir):\r\n",
        "      os.makedirs(ckpt_dir)\r\n",
        "\r\n",
        "    ckpt_callback = tf.keras.callbacks.ModelCheckpoint(filepath=os.path.join(ckpt_dir, 'cp_{epoch:02d}.ckpt'),\r\n",
        "                                                       monitor='val_loss', \r\n",
        "                                                       save_weights_only = True, # False to save the model directly\r\n",
        "                                                       save_best_only = True)  \r\n",
        "    callbacks.append(ckpt_callback)\r\n",
        "  # ----------------\r\n",
        "\r\n",
        "  # Visualize Learning on Tensorboard\r\n",
        "  # ---------------------------------\r\n",
        "  if visualize_tensorboard:\r\n",
        "    tb_dir = os.path.join(exp_dir, 'tb_logs')\r\n",
        "    if not os.path.exists(tb_dir):\r\n",
        "      os.makedirs(tb_dir)\r\n",
        "    \r\n",
        "    # By default shows losses and metrics for both training and validation\r\n",
        "    tb_callback = tf.keras.callbacks.TensorBoard(log_dir=tb_dir,\r\n",
        "                                                 profile_batch=0,\r\n",
        "                                                 histogram_freq=1)  # if 1 shows weights histograms\r\n",
        "    callbacks.append(tb_callback)\r\n",
        "  # ---------------------------------\r\n",
        "\r\n",
        "  # Early Stopping\r\n",
        "  # --------------\r\n",
        "  if early_stop:\r\n",
        "    es_callback = tf.keras.callbacks.EarlyStopping(monitor='val_loss', \r\n",
        "                                                   patience = 15,\r\n",
        "                                                   restore_best_weights=True)\r\n",
        "    callbacks.append(es_callback)\r\n",
        "  # --------------\r\n",
        "\r\n",
        "  # Reduce Learning rate on plateau\r\n",
        "  # -------------------------------\r\n",
        "  if reduce_lr_on_plateau:\r\n",
        "    rlr_callback = tf.keras.callbacks.ReduceLROnPlateau(monitor='val_loss', \r\n",
        "                                                        factor=0.1, \r\n",
        "                                                        patience=1, \r\n",
        "                                                        verbose=1, \r\n",
        "                                                        mode='auto', \r\n",
        "                                                        min_delta=0.0001)\r\n",
        "    callbacks.append(rlr_callback)\r\n",
        "  # -------------------------------\r\n",
        "\r\n",
        "  return callbacks"
      ],
      "execution_count": 58,
      "outputs": []
    },
    {
      "cell_type": "code",
      "metadata": {
        "id": "oFqWInsnFtvi"
      },
      "source": [
        "# -----------\r\n",
        "# Train model\r\n",
        "# -----------\r\n",
        "def train_model(model, train_dataset, dataset, valid_dataset, dataset_valid, callbacks, num_epochs, bs):\r\n",
        "  \r\n",
        "  history_model = model.fit(x = train_dataset,\r\n",
        "                            epochs = num_epochs,  #### set repeat in training dataset\r\n",
        "                            steps_per_epoch = int(np.ceil(len(dataset) / bs)),\r\n",
        "                            validation_data = valid_dataset,\r\n",
        "                            validation_steps = int(np.ceil(len(dataset_valid) / bs)), \r\n",
        "                            callbacks = callbacks)\r\n",
        "  \r\n",
        "  return history_model"
      ],
      "execution_count": 59,
      "outputs": []
    },
    {
      "cell_type": "markdown",
      "metadata": {
        "id": "bhE3fP837gKp"
      },
      "source": [
        "# Training functions"
      ]
    },
    {
      "cell_type": "code",
      "metadata": {
        "id": "1X4zODbZ33-1"
      },
      "source": [
        "# ------------------\r\n",
        "# Train Bonnet model\r\n",
        "# ------------------\r\n",
        "def train_bonnet():\r\n",
        "  \r\n",
        "  apply_data_augmentation = True\r\n",
        "\r\n",
        "  img_h = 512\r\n",
        "  img_w = 512\r\n",
        "\r\n",
        "  num_classes = 3\r\n",
        "\r\n",
        "  bs = 24\r\n",
        "\r\n",
        "  lr = 5e-5\r\n",
        "\r\n",
        "  num_epochs = 50\r\n",
        "\r\n",
        "  model_checkpoint = True\r\n",
        "  visualize_tensorboard = False\r\n",
        "  early_stop = False\r\n",
        "  reduce_lr_on_plateau = True\r\n",
        "\r\n",
        "  print('--------------------------------------------')\r\n",
        "  print('Image heigth                      ---> ' + str(img_h))\r\n",
        "  print('Image width                       ---> ' + str(img_w))\r\n",
        "  print('Batch size                        ---> ' + str(bs))\r\n",
        "  print('Learning rate                     ---> ' + str(lr))\r\n",
        "  print('Number of epochs                  ---> ' + str(num_epochs))\r\n",
        "  print('Model checkpoint                  ---> ' + str(model_checkpoint))\r\n",
        "  print('Visualize tensorboars             ---> ' + str(visualize_tensorboard))\r\n",
        "  print('Early stopping                    ---> ' + str(early_stop))\r\n",
        "  print('Reduce learning rate on plateau   ---> ' + str(reduce_lr_on_plateau))\r\n",
        "  print('--------------------------------------------')\r\n",
        "\r\n",
        "  [img_data_gen, mask_data_gen] = data_generator(apply_data_augmentation)\r\n",
        "\r\n",
        "  [train_dataset, dataset, valid_dataset, dataset_valid] = create_dataset(img_data_gen, mask_data_gen, img_h = img_h, img_w = img_w, bs = bs, num_classes = num_classes)\r\n",
        "\r\n",
        "  model = define_bonnet(input_size = (img_h, img_w, 3))\r\n",
        "  \r\n",
        "  model = compile_model(model, lr = lr)\r\n",
        "\r\n",
        "  callbacks = set_callbacks('bonnet', model_checkpoint = model_checkpoint, visualize_tensorboard = visualize_tensorboard, early_stop = early_stop, reduce_lr_on_plateau = reduce_lr_on_plateau)\r\n",
        "\r\n",
        "  history = train_model(model, train_dataset, dataset, valid_dataset, dataset_valid, callbacks, num_epochs = num_epochs, bs = bs)\r\n",
        "\r\n",
        "  plot_history(history)\r\n",
        "\r\n",
        "  return model, history"
      ],
      "execution_count": 60,
      "outputs": []
    },
    {
      "cell_type": "code",
      "metadata": {
        "id": "-q50Mb4MDHWr"
      },
      "source": [
        "# -----------------------------------------------\n",
        "# Train the Efficient-Unet with transfer learning\n",
        "# -----------------------------------------------\n",
        "def train_transfer_learning():\n",
        "  \n",
        "  apply_data_augmentation = True\n",
        "\n",
        "  img_h = int(512)\n",
        "  img_w = int(512)\n",
        "\n",
        "  num_classes = 3\n",
        "\n",
        "  bs = 16\n",
        "\n",
        "  lr = 5e-5\n",
        "\n",
        "  num_epochs = 100\n",
        "\n",
        "  model_checkpoint = True\n",
        "  visualize_tensorboard = False\n",
        "  early_stop = False\n",
        "  reduce_lr_on_plateau = True\n",
        "\n",
        "  print('--------------------------------------------')\n",
        "  print('Image heigth                      ---> ' + str(img_h))\n",
        "  print('Image width                       ---> ' + str(img_w))\n",
        "  print('Batch size                        ---> ' + str(bs))\n",
        "  print('Learning rate                     ---> ' + str(lr))\n",
        "  print('Number of epochs                  ---> ' + str(num_epochs))\n",
        "  print('Model checkpoint                  ---> ' + str(model_checkpoint))\n",
        "  print('Visualize tensorboars             ---> ' + str(visualize_tensorboard))\n",
        "  print('Early stopping                    ---> ' + str(early_stop))\n",
        "  print('Reduce learning rate on plateau   ---> ' + str(reduce_lr_on_plateau))\n",
        "  print('--------------------------------------------')\n",
        "\n",
        "  [img_data_gen, mask_data_gen] = data_generator(apply_data_augmentation)\n",
        "\n",
        "  [train_dataset, dataset, valid_dataset, dataset_valid] = create_dataset(img_data_gen, mask_data_gen, img_h = img_h, img_w = img_w, bs = bs, num_classes = num_classes)\n",
        "\n",
        "  model = define_transfer_learning(input_size = (img_h, img_w, 3))\n",
        "  \n",
        "  model = compile_model(model, lr = lr)\n",
        "\n",
        "  callbacks = set_callbacks('eff-Unet_transfer_learning', model_checkpoint = model_checkpoint, visualize_tensorboard = visualize_tensorboard, early_stop = early_stop, reduce_lr_on_plateau = reduce_lr_on_plateau)\n",
        "\n",
        "  history = train_model(model, train_dataset, dataset, valid_dataset, dataset_valid, callbacks, num_epochs = num_epochs, bs = bs)\n",
        "\n",
        "  plot_history(history)\n",
        "\n",
        "  return model, history"
      ],
      "execution_count": 61,
      "outputs": []
    },
    {
      "cell_type": "code",
      "metadata": {
        "id": "l3jC-UVMZKwt"
      },
      "source": [
        "# -----------------------------------------\r\n",
        "# Train the Efficient-Unet with fine tuning\r\n",
        "# -----------------------------------------\r\n",
        "def train_fine_tuning():\r\n",
        "  \r\n",
        "  apply_data_augmentation = True\r\n",
        "\r\n",
        "  img_h = 512 #int(672)\r\n",
        "  img_w = 512 #int(960)\r\n",
        "\r\n",
        "  num_classes = 3\r\n",
        "\r\n",
        "  bs = 16\r\n",
        "\r\n",
        "  lr = 5e-5\r\n",
        "\r\n",
        "  num_epochs = 50\r\n",
        "\r\n",
        "  model_checkpoint = True\r\n",
        "  visualize_tensorboard = False\r\n",
        "  early_stop = False\r\n",
        "  reduce_lr_on_plateau = True\r\n",
        "\r\n",
        "  print('--------------------------------------------')\r\n",
        "  print('Image heigth                      ---> ' + str(img_h))\r\n",
        "  print('Image width                       ---> ' + str(img_w))\r\n",
        "  print('Batch size                        ---> ' + str(bs))\r\n",
        "  print('Learning rate                     ---> ' + str(lr))\r\n",
        "  print('Number of epochs                  ---> ' + str(num_epochs))\r\n",
        "  print('Model checkpoint                  ---> ' + str(model_checkpoint))\r\n",
        "  print('Visualize tensorboars             ---> ' + str(visualize_tensorboard))\r\n",
        "  print('Early stopping                    ---> ' + str(early_stop))\r\n",
        "  print('Reduce learning rate on plateau   ---> ' + str(reduce_lr_on_plateau))\r\n",
        "  print('--------------------------------------------')\r\n",
        "\r\n",
        "  [img_data_gen, mask_data_gen] = data_generator(apply_data_augmentation)\r\n",
        "\r\n",
        "  [train_dataset, dataset, valid_dataset, dataset_valid] = create_dataset(img_data_gen, mask_data_gen, img_h = img_h, img_w = img_w, bs = bs, num_classes = num_classes)\r\n",
        "\r\n",
        "  model = define_fine_tuning(input_size = (img_h, img_w, 3))\r\n",
        "  \r\n",
        "  model = compile_model(model, lr = lr)\r\n",
        "\r\n",
        "  callbacks = set_callbacks('eff-Unet_fine_tuning_PATCH_512x512_STRIDE_1_SparseWeightedLoss', model_checkpoint = model_checkpoint, visualize_tensorboard = visualize_tensorboard, early_stop = early_stop, reduce_lr_on_plateau = reduce_lr_on_plateau)\r\n",
        "\r\n",
        "  history = train_model(model, train_dataset, dataset, valid_dataset, dataset_valid, callbacks, num_epochs = num_epochs, bs = bs)\r\n",
        "\r\n",
        "  plot_history(history)\r\n",
        "\r\n",
        "  return model, history"
      ],
      "execution_count": 62,
      "outputs": []
    },
    {
      "cell_type": "markdown",
      "metadata": {
        "id": "X_IghlxwGm8G"
      },
      "source": [
        "# Plots"
      ]
    },
    {
      "cell_type": "code",
      "metadata": {
        "id": "q6WSTO46GpvV"
      },
      "source": [
        "# ----------------------------------------------------------------------------------------------------\r\n",
        "# Plot the history of the trained model (loss, val_loss; accuracy, val_accuracy; meanIoU, val_meanIoU)\r\n",
        "# ----------------------------------------------------------------------------------------------------\r\n",
        "def plot_history(history):\r\n",
        "  from matplotlib import pyplot\r\n",
        "\r\n",
        "  pyplot.figure()\r\n",
        "  pyplot.plot(history.history['loss'], label='train')\r\n",
        "  pyplot.plot(history.history['val_loss'], label='validation')\r\n",
        "  pyplot.legend()\r\n",
        "  pyplot.show()\r\n",
        "\r\n",
        "  pyplot.figure()\r\n",
        "  pyplot.plot(history.history['accuracy'], label='train')\r\n",
        "  pyplot.plot(history.history['val_accuracy'], label='validation')\r\n",
        "  pyplot.legend()\r\n",
        "  pyplot.show()\r\n",
        "\r\n",
        "  pyplot.figure()\r\n",
        "  pyplot.plot(history.history['meanIoU'], label='train')\r\n",
        "  pyplot.plot(history.history['val_meanIoU'], label='validation')\r\n",
        "  pyplot.legend()\r\n",
        "  pyplot.show() "
      ],
      "execution_count": 63,
      "outputs": []
    },
    {
      "cell_type": "markdown",
      "metadata": {
        "id": "kt3K4YaZIS_6"
      },
      "source": [
        "# Execution"
      ]
    },
    {
      "cell_type": "code",
      "metadata": {
        "id": "lmTV5AURW9V9",
        "colab": {
          "base_uri": "https://localhost:8080/"
        },
        "outputId": "390e6a71-0b70-4be4-aecb-de40657f7064"
      },
      "source": [
        "[model, history] = train_fine_tuning() # fine tuning of EFF-Unet (blocks 6 and 7) on all the dataset, using tiles of 512x512 and stride 512x512"
      ],
      "execution_count": null,
      "outputs": [
        {
          "output_type": "stream",
          "text": [
            "--------------------------------------------\n",
            "Image heigth                      ---> 512\n",
            "Image width                       ---> 512\n",
            "Batch size                        ---> 16\n",
            "Learning rate                     ---> 5e-05\n",
            "Number of epochs                  ---> 50\n",
            "Model checkpoint                  ---> True\n",
            "Visualize tensorboars             ---> False\n",
            "Early stopping                    ---> False\n",
            "Reduce learning rate on plateau   ---> True\n",
            "--------------------------------------------\n",
            "Downloading data from https://storage.googleapis.com/keras-applications/efficientnetb7_notop.h5\n",
            "258080768/258076736 [==============================] - 2s 0us/step\n",
            "Model: \"model\"\n",
            "__________________________________________________________________________________________________\n",
            "Layer (type)                    Output Shape         Param #     Connected to                     \n",
            "==================================================================================================\n",
            "input_1 (InputLayer)            [(None, 512, 512, 3) 0                                            \n",
            "__________________________________________________________________________________________________\n",
            "rescaling (Rescaling)           (None, 512, 512, 3)  0           input_1[0][0]                    \n",
            "__________________________________________________________________________________________________\n",
            "normalization (Normalization)   (None, 512, 512, 3)  7           rescaling[0][0]                  \n",
            "__________________________________________________________________________________________________\n",
            "stem_conv_pad (ZeroPadding2D)   (None, 513, 513, 3)  0           normalization[0][0]              \n",
            "__________________________________________________________________________________________________\n",
            "stem_conv (Conv2D)              (None, 256, 256, 64) 1728        stem_conv_pad[0][0]              \n",
            "__________________________________________________________________________________________________\n",
            "stem_bn (BatchNormalization)    (None, 256, 256, 64) 256         stem_conv[0][0]                  \n",
            "__________________________________________________________________________________________________\n",
            "stem_activation (Activation)    (None, 256, 256, 64) 0           stem_bn[0][0]                    \n",
            "__________________________________________________________________________________________________\n",
            "block1a_dwconv (DepthwiseConv2D (None, 256, 256, 64) 576         stem_activation[0][0]            \n",
            "__________________________________________________________________________________________________\n",
            "block1a_bn (BatchNormalization) (None, 256, 256, 64) 256         block1a_dwconv[0][0]             \n",
            "__________________________________________________________________________________________________\n",
            "block1a_activation (Activation) (None, 256, 256, 64) 0           block1a_bn[0][0]                 \n",
            "__________________________________________________________________________________________________\n",
            "block1a_se_squeeze (GlobalAvera (None, 64)           0           block1a_activation[0][0]         \n",
            "__________________________________________________________________________________________________\n",
            "block1a_se_reshape (Reshape)    (None, 1, 1, 64)     0           block1a_se_squeeze[0][0]         \n",
            "__________________________________________________________________________________________________\n",
            "block1a_se_reduce (Conv2D)      (None, 1, 1, 16)     1040        block1a_se_reshape[0][0]         \n",
            "__________________________________________________________________________________________________\n",
            "block1a_se_expand (Conv2D)      (None, 1, 1, 64)     1088        block1a_se_reduce[0][0]          \n",
            "__________________________________________________________________________________________________\n",
            "block1a_se_excite (Multiply)    (None, 256, 256, 64) 0           block1a_activation[0][0]         \n",
            "                                                                 block1a_se_expand[0][0]          \n",
            "__________________________________________________________________________________________________\n",
            "block1a_project_conv (Conv2D)   (None, 256, 256, 32) 2048        block1a_se_excite[0][0]          \n",
            "__________________________________________________________________________________________________\n",
            "block1a_project_bn (BatchNormal (None, 256, 256, 32) 128         block1a_project_conv[0][0]       \n",
            "__________________________________________________________________________________________________\n",
            "block1b_dwconv (DepthwiseConv2D (None, 256, 256, 32) 288         block1a_project_bn[0][0]         \n",
            "__________________________________________________________________________________________________\n",
            "block1b_bn (BatchNormalization) (None, 256, 256, 32) 128         block1b_dwconv[0][0]             \n",
            "__________________________________________________________________________________________________\n",
            "block1b_activation (Activation) (None, 256, 256, 32) 0           block1b_bn[0][0]                 \n",
            "__________________________________________________________________________________________________\n",
            "block1b_se_squeeze (GlobalAvera (None, 32)           0           block1b_activation[0][0]         \n",
            "__________________________________________________________________________________________________\n",
            "block1b_se_reshape (Reshape)    (None, 1, 1, 32)     0           block1b_se_squeeze[0][0]         \n",
            "__________________________________________________________________________________________________\n",
            "block1b_se_reduce (Conv2D)      (None, 1, 1, 8)      264         block1b_se_reshape[0][0]         \n",
            "__________________________________________________________________________________________________\n",
            "block1b_se_expand (Conv2D)      (None, 1, 1, 32)     288         block1b_se_reduce[0][0]          \n",
            "__________________________________________________________________________________________________\n",
            "block1b_se_excite (Multiply)    (None, 256, 256, 32) 0           block1b_activation[0][0]         \n",
            "                                                                 block1b_se_expand[0][0]          \n",
            "__________________________________________________________________________________________________\n",
            "block1b_project_conv (Conv2D)   (None, 256, 256, 32) 1024        block1b_se_excite[0][0]          \n",
            "__________________________________________________________________________________________________\n",
            "block1b_project_bn (BatchNormal (None, 256, 256, 32) 128         block1b_project_conv[0][0]       \n",
            "__________________________________________________________________________________________________\n",
            "block1b_drop (Dropout)          (None, 256, 256, 32) 0           block1b_project_bn[0][0]         \n",
            "__________________________________________________________________________________________________\n",
            "block1b_add (Add)               (None, 256, 256, 32) 0           block1b_drop[0][0]               \n",
            "                                                                 block1a_project_bn[0][0]         \n",
            "__________________________________________________________________________________________________\n",
            "block1c_dwconv (DepthwiseConv2D (None, 256, 256, 32) 288         block1b_add[0][0]                \n",
            "__________________________________________________________________________________________________\n",
            "block1c_bn (BatchNormalization) (None, 256, 256, 32) 128         block1c_dwconv[0][0]             \n",
            "__________________________________________________________________________________________________\n",
            "block1c_activation (Activation) (None, 256, 256, 32) 0           block1c_bn[0][0]                 \n",
            "__________________________________________________________________________________________________\n",
            "block1c_se_squeeze (GlobalAvera (None, 32)           0           block1c_activation[0][0]         \n",
            "__________________________________________________________________________________________________\n",
            "block1c_se_reshape (Reshape)    (None, 1, 1, 32)     0           block1c_se_squeeze[0][0]         \n",
            "__________________________________________________________________________________________________\n",
            "block1c_se_reduce (Conv2D)      (None, 1, 1, 8)      264         block1c_se_reshape[0][0]         \n",
            "__________________________________________________________________________________________________\n",
            "block1c_se_expand (Conv2D)      (None, 1, 1, 32)     288         block1c_se_reduce[0][0]          \n",
            "__________________________________________________________________________________________________\n",
            "block1c_se_excite (Multiply)    (None, 256, 256, 32) 0           block1c_activation[0][0]         \n",
            "                                                                 block1c_se_expand[0][0]          \n",
            "__________________________________________________________________________________________________\n",
            "block1c_project_conv (Conv2D)   (None, 256, 256, 32) 1024        block1c_se_excite[0][0]          \n",
            "__________________________________________________________________________________________________\n",
            "block1c_project_bn (BatchNormal (None, 256, 256, 32) 128         block1c_project_conv[0][0]       \n",
            "__________________________________________________________________________________________________\n",
            "block1c_drop (Dropout)          (None, 256, 256, 32) 0           block1c_project_bn[0][0]         \n",
            "__________________________________________________________________________________________________\n",
            "block1c_add (Add)               (None, 256, 256, 32) 0           block1c_drop[0][0]               \n",
            "                                                                 block1b_add[0][0]                \n",
            "__________________________________________________________________________________________________\n",
            "block1d_dwconv (DepthwiseConv2D (None, 256, 256, 32) 288         block1c_add[0][0]                \n",
            "__________________________________________________________________________________________________\n",
            "block1d_bn (BatchNormalization) (None, 256, 256, 32) 128         block1d_dwconv[0][0]             \n",
            "__________________________________________________________________________________________________\n",
            "block1d_activation (Activation) (None, 256, 256, 32) 0           block1d_bn[0][0]                 \n",
            "__________________________________________________________________________________________________\n",
            "block1d_se_squeeze (GlobalAvera (None, 32)           0           block1d_activation[0][0]         \n",
            "__________________________________________________________________________________________________\n",
            "block1d_se_reshape (Reshape)    (None, 1, 1, 32)     0           block1d_se_squeeze[0][0]         \n",
            "__________________________________________________________________________________________________\n",
            "block1d_se_reduce (Conv2D)      (None, 1, 1, 8)      264         block1d_se_reshape[0][0]         \n",
            "__________________________________________________________________________________________________\n",
            "block1d_se_expand (Conv2D)      (None, 1, 1, 32)     288         block1d_se_reduce[0][0]          \n",
            "__________________________________________________________________________________________________\n",
            "block1d_se_excite (Multiply)    (None, 256, 256, 32) 0           block1d_activation[0][0]         \n",
            "                                                                 block1d_se_expand[0][0]          \n",
            "__________________________________________________________________________________________________\n",
            "block1d_project_conv (Conv2D)   (None, 256, 256, 32) 1024        block1d_se_excite[0][0]          \n",
            "__________________________________________________________________________________________________\n",
            "block1d_project_bn (BatchNormal (None, 256, 256, 32) 128         block1d_project_conv[0][0]       \n",
            "__________________________________________________________________________________________________\n",
            "block1d_drop (Dropout)          (None, 256, 256, 32) 0           block1d_project_bn[0][0]         \n",
            "__________________________________________________________________________________________________\n",
            "block1d_add (Add)               (None, 256, 256, 32) 0           block1d_drop[0][0]               \n",
            "                                                                 block1c_add[0][0]                \n",
            "__________________________________________________________________________________________________\n",
            "block2a_expand_conv (Conv2D)    (None, 256, 256, 192 6144        block1d_add[0][0]                \n",
            "__________________________________________________________________________________________________\n",
            "block2a_expand_bn (BatchNormali (None, 256, 256, 192 768         block2a_expand_conv[0][0]        \n",
            "__________________________________________________________________________________________________\n",
            "block2a_expand_activation (Acti (None, 256, 256, 192 0           block2a_expand_bn[0][0]          \n",
            "__________________________________________________________________________________________________\n",
            "block2a_dwconv_pad (ZeroPadding (None, 257, 257, 192 0           block2a_expand_activation[0][0]  \n",
            "__________________________________________________________________________________________________\n",
            "block2a_dwconv (DepthwiseConv2D (None, 128, 128, 192 1728        block2a_dwconv_pad[0][0]         \n",
            "__________________________________________________________________________________________________\n",
            "block2a_bn (BatchNormalization) (None, 128, 128, 192 768         block2a_dwconv[0][0]             \n",
            "__________________________________________________________________________________________________\n",
            "block2a_activation (Activation) (None, 128, 128, 192 0           block2a_bn[0][0]                 \n",
            "__________________________________________________________________________________________________\n",
            "block2a_se_squeeze (GlobalAvera (None, 192)          0           block2a_activation[0][0]         \n",
            "__________________________________________________________________________________________________\n",
            "block2a_se_reshape (Reshape)    (None, 1, 1, 192)    0           block2a_se_squeeze[0][0]         \n",
            "__________________________________________________________________________________________________\n",
            "block2a_se_reduce (Conv2D)      (None, 1, 1, 8)      1544        block2a_se_reshape[0][0]         \n",
            "__________________________________________________________________________________________________\n",
            "block2a_se_expand (Conv2D)      (None, 1, 1, 192)    1728        block2a_se_reduce[0][0]          \n",
            "__________________________________________________________________________________________________\n",
            "block2a_se_excite (Multiply)    (None, 128, 128, 192 0           block2a_activation[0][0]         \n",
            "                                                                 block2a_se_expand[0][0]          \n",
            "__________________________________________________________________________________________________\n",
            "block2a_project_conv (Conv2D)   (None, 128, 128, 48) 9216        block2a_se_excite[0][0]          \n",
            "__________________________________________________________________________________________________\n",
            "block2a_project_bn (BatchNormal (None, 128, 128, 48) 192         block2a_project_conv[0][0]       \n",
            "__________________________________________________________________________________________________\n",
            "block2b_expand_conv (Conv2D)    (None, 128, 128, 288 13824       block2a_project_bn[0][0]         \n",
            "__________________________________________________________________________________________________\n",
            "block2b_expand_bn (BatchNormali (None, 128, 128, 288 1152        block2b_expand_conv[0][0]        \n",
            "__________________________________________________________________________________________________\n",
            "block2b_expand_activation (Acti (None, 128, 128, 288 0           block2b_expand_bn[0][0]          \n",
            "__________________________________________________________________________________________________\n",
            "block2b_dwconv (DepthwiseConv2D (None, 128, 128, 288 2592        block2b_expand_activation[0][0]  \n",
            "__________________________________________________________________________________________________\n",
            "block2b_bn (BatchNormalization) (None, 128, 128, 288 1152        block2b_dwconv[0][0]             \n",
            "__________________________________________________________________________________________________\n",
            "block2b_activation (Activation) (None, 128, 128, 288 0           block2b_bn[0][0]                 \n",
            "__________________________________________________________________________________________________\n",
            "block2b_se_squeeze (GlobalAvera (None, 288)          0           block2b_activation[0][0]         \n",
            "__________________________________________________________________________________________________\n",
            "block2b_se_reshape (Reshape)    (None, 1, 1, 288)    0           block2b_se_squeeze[0][0]         \n",
            "__________________________________________________________________________________________________\n",
            "block2b_se_reduce (Conv2D)      (None, 1, 1, 12)     3468        block2b_se_reshape[0][0]         \n",
            "__________________________________________________________________________________________________\n",
            "block2b_se_expand (Conv2D)      (None, 1, 1, 288)    3744        block2b_se_reduce[0][0]          \n",
            "__________________________________________________________________________________________________\n",
            "block2b_se_excite (Multiply)    (None, 128, 128, 288 0           block2b_activation[0][0]         \n",
            "                                                                 block2b_se_expand[0][0]          \n",
            "__________________________________________________________________________________________________\n",
            "block2b_project_conv (Conv2D)   (None, 128, 128, 48) 13824       block2b_se_excite[0][0]          \n",
            "__________________________________________________________________________________________________\n",
            "block2b_project_bn (BatchNormal (None, 128, 128, 48) 192         block2b_project_conv[0][0]       \n",
            "__________________________________________________________________________________________________\n",
            "block2b_drop (Dropout)          (None, 128, 128, 48) 0           block2b_project_bn[0][0]         \n",
            "__________________________________________________________________________________________________\n",
            "block2b_add (Add)               (None, 128, 128, 48) 0           block2b_drop[0][0]               \n",
            "                                                                 block2a_project_bn[0][0]         \n",
            "__________________________________________________________________________________________________\n",
            "block2c_expand_conv (Conv2D)    (None, 128, 128, 288 13824       block2b_add[0][0]                \n",
            "__________________________________________________________________________________________________\n",
            "block2c_expand_bn (BatchNormali (None, 128, 128, 288 1152        block2c_expand_conv[0][0]        \n",
            "__________________________________________________________________________________________________\n",
            "block2c_expand_activation (Acti (None, 128, 128, 288 0           block2c_expand_bn[0][0]          \n",
            "__________________________________________________________________________________________________\n",
            "block2c_dwconv (DepthwiseConv2D (None, 128, 128, 288 2592        block2c_expand_activation[0][0]  \n",
            "__________________________________________________________________________________________________\n",
            "block2c_bn (BatchNormalization) (None, 128, 128, 288 1152        block2c_dwconv[0][0]             \n",
            "__________________________________________________________________________________________________\n",
            "block2c_activation (Activation) (None, 128, 128, 288 0           block2c_bn[0][0]                 \n",
            "__________________________________________________________________________________________________\n",
            "block2c_se_squeeze (GlobalAvera (None, 288)          0           block2c_activation[0][0]         \n",
            "__________________________________________________________________________________________________\n",
            "block2c_se_reshape (Reshape)    (None, 1, 1, 288)    0           block2c_se_squeeze[0][0]         \n",
            "__________________________________________________________________________________________________\n",
            "block2c_se_reduce (Conv2D)      (None, 1, 1, 12)     3468        block2c_se_reshape[0][0]         \n",
            "__________________________________________________________________________________________________\n",
            "block2c_se_expand (Conv2D)      (None, 1, 1, 288)    3744        block2c_se_reduce[0][0]          \n",
            "__________________________________________________________________________________________________\n",
            "block2c_se_excite (Multiply)    (None, 128, 128, 288 0           block2c_activation[0][0]         \n",
            "                                                                 block2c_se_expand[0][0]          \n",
            "__________________________________________________________________________________________________\n",
            "block2c_project_conv (Conv2D)   (None, 128, 128, 48) 13824       block2c_se_excite[0][0]          \n",
            "__________________________________________________________________________________________________\n",
            "block2c_project_bn (BatchNormal (None, 128, 128, 48) 192         block2c_project_conv[0][0]       \n",
            "__________________________________________________________________________________________________\n",
            "block2c_drop (Dropout)          (None, 128, 128, 48) 0           block2c_project_bn[0][0]         \n",
            "__________________________________________________________________________________________________\n",
            "block2c_add (Add)               (None, 128, 128, 48) 0           block2c_drop[0][0]               \n",
            "                                                                 block2b_add[0][0]                \n",
            "__________________________________________________________________________________________________\n",
            "block2d_expand_conv (Conv2D)    (None, 128, 128, 288 13824       block2c_add[0][0]                \n",
            "__________________________________________________________________________________________________\n",
            "block2d_expand_bn (BatchNormali (None, 128, 128, 288 1152        block2d_expand_conv[0][0]        \n",
            "__________________________________________________________________________________________________\n",
            "block2d_expand_activation (Acti (None, 128, 128, 288 0           block2d_expand_bn[0][0]          \n",
            "__________________________________________________________________________________________________\n",
            "block2d_dwconv (DepthwiseConv2D (None, 128, 128, 288 2592        block2d_expand_activation[0][0]  \n",
            "__________________________________________________________________________________________________\n",
            "block2d_bn (BatchNormalization) (None, 128, 128, 288 1152        block2d_dwconv[0][0]             \n",
            "__________________________________________________________________________________________________\n",
            "block2d_activation (Activation) (None, 128, 128, 288 0           block2d_bn[0][0]                 \n",
            "__________________________________________________________________________________________________\n",
            "block2d_se_squeeze (GlobalAvera (None, 288)          0           block2d_activation[0][0]         \n",
            "__________________________________________________________________________________________________\n",
            "block2d_se_reshape (Reshape)    (None, 1, 1, 288)    0           block2d_se_squeeze[0][0]         \n",
            "__________________________________________________________________________________________________\n",
            "block2d_se_reduce (Conv2D)      (None, 1, 1, 12)     3468        block2d_se_reshape[0][0]         \n",
            "__________________________________________________________________________________________________\n",
            "block2d_se_expand (Conv2D)      (None, 1, 1, 288)    3744        block2d_se_reduce[0][0]          \n",
            "__________________________________________________________________________________________________\n",
            "block2d_se_excite (Multiply)    (None, 128, 128, 288 0           block2d_activation[0][0]         \n",
            "                                                                 block2d_se_expand[0][0]          \n",
            "__________________________________________________________________________________________________\n",
            "block2d_project_conv (Conv2D)   (None, 128, 128, 48) 13824       block2d_se_excite[0][0]          \n",
            "__________________________________________________________________________________________________\n",
            "block2d_project_bn (BatchNormal (None, 128, 128, 48) 192         block2d_project_conv[0][0]       \n",
            "__________________________________________________________________________________________________\n",
            "block2d_drop (Dropout)          (None, 128, 128, 48) 0           block2d_project_bn[0][0]         \n",
            "__________________________________________________________________________________________________\n",
            "block2d_add (Add)               (None, 128, 128, 48) 0           block2d_drop[0][0]               \n",
            "                                                                 block2c_add[0][0]                \n",
            "__________________________________________________________________________________________________\n",
            "block2e_expand_conv (Conv2D)    (None, 128, 128, 288 13824       block2d_add[0][0]                \n",
            "__________________________________________________________________________________________________\n",
            "block2e_expand_bn (BatchNormali (None, 128, 128, 288 1152        block2e_expand_conv[0][0]        \n",
            "__________________________________________________________________________________________________\n",
            "block2e_expand_activation (Acti (None, 128, 128, 288 0           block2e_expand_bn[0][0]          \n",
            "__________________________________________________________________________________________________\n",
            "block2e_dwconv (DepthwiseConv2D (None, 128, 128, 288 2592        block2e_expand_activation[0][0]  \n",
            "__________________________________________________________________________________________________\n",
            "block2e_bn (BatchNormalization) (None, 128, 128, 288 1152        block2e_dwconv[0][0]             \n",
            "__________________________________________________________________________________________________\n",
            "block2e_activation (Activation) (None, 128, 128, 288 0           block2e_bn[0][0]                 \n",
            "__________________________________________________________________________________________________\n",
            "block2e_se_squeeze (GlobalAvera (None, 288)          0           block2e_activation[0][0]         \n",
            "__________________________________________________________________________________________________\n",
            "block2e_se_reshape (Reshape)    (None, 1, 1, 288)    0           block2e_se_squeeze[0][0]         \n",
            "__________________________________________________________________________________________________\n",
            "block2e_se_reduce (Conv2D)      (None, 1, 1, 12)     3468        block2e_se_reshape[0][0]         \n",
            "__________________________________________________________________________________________________\n",
            "block2e_se_expand (Conv2D)      (None, 1, 1, 288)    3744        block2e_se_reduce[0][0]          \n",
            "__________________________________________________________________________________________________\n",
            "block2e_se_excite (Multiply)    (None, 128, 128, 288 0           block2e_activation[0][0]         \n",
            "                                                                 block2e_se_expand[0][0]          \n",
            "__________________________________________________________________________________________________\n",
            "block2e_project_conv (Conv2D)   (None, 128, 128, 48) 13824       block2e_se_excite[0][0]          \n",
            "__________________________________________________________________________________________________\n",
            "block2e_project_bn (BatchNormal (None, 128, 128, 48) 192         block2e_project_conv[0][0]       \n",
            "__________________________________________________________________________________________________\n",
            "block2e_drop (Dropout)          (None, 128, 128, 48) 0           block2e_project_bn[0][0]         \n",
            "__________________________________________________________________________________________________\n",
            "block2e_add (Add)               (None, 128, 128, 48) 0           block2e_drop[0][0]               \n",
            "                                                                 block2d_add[0][0]                \n",
            "__________________________________________________________________________________________________\n",
            "block2f_expand_conv (Conv2D)    (None, 128, 128, 288 13824       block2e_add[0][0]                \n",
            "__________________________________________________________________________________________________\n",
            "block2f_expand_bn (BatchNormali (None, 128, 128, 288 1152        block2f_expand_conv[0][0]        \n",
            "__________________________________________________________________________________________________\n",
            "block2f_expand_activation (Acti (None, 128, 128, 288 0           block2f_expand_bn[0][0]          \n",
            "__________________________________________________________________________________________________\n",
            "block2f_dwconv (DepthwiseConv2D (None, 128, 128, 288 2592        block2f_expand_activation[0][0]  \n",
            "__________________________________________________________________________________________________\n",
            "block2f_bn (BatchNormalization) (None, 128, 128, 288 1152        block2f_dwconv[0][0]             \n",
            "__________________________________________________________________________________________________\n",
            "block2f_activation (Activation) (None, 128, 128, 288 0           block2f_bn[0][0]                 \n",
            "__________________________________________________________________________________________________\n",
            "block2f_se_squeeze (GlobalAvera (None, 288)          0           block2f_activation[0][0]         \n",
            "__________________________________________________________________________________________________\n",
            "block2f_se_reshape (Reshape)    (None, 1, 1, 288)    0           block2f_se_squeeze[0][0]         \n",
            "__________________________________________________________________________________________________\n",
            "block2f_se_reduce (Conv2D)      (None, 1, 1, 12)     3468        block2f_se_reshape[0][0]         \n",
            "__________________________________________________________________________________________________\n",
            "block2f_se_expand (Conv2D)      (None, 1, 1, 288)    3744        block2f_se_reduce[0][0]          \n",
            "__________________________________________________________________________________________________\n",
            "block2f_se_excite (Multiply)    (None, 128, 128, 288 0           block2f_activation[0][0]         \n",
            "                                                                 block2f_se_expand[0][0]          \n",
            "__________________________________________________________________________________________________\n",
            "block2f_project_conv (Conv2D)   (None, 128, 128, 48) 13824       block2f_se_excite[0][0]          \n",
            "__________________________________________________________________________________________________\n",
            "block2f_project_bn (BatchNormal (None, 128, 128, 48) 192         block2f_project_conv[0][0]       \n",
            "__________________________________________________________________________________________________\n",
            "block2f_drop (Dropout)          (None, 128, 128, 48) 0           block2f_project_bn[0][0]         \n",
            "__________________________________________________________________________________________________\n",
            "block2f_add (Add)               (None, 128, 128, 48) 0           block2f_drop[0][0]               \n",
            "                                                                 block2e_add[0][0]                \n",
            "__________________________________________________________________________________________________\n",
            "block2g_expand_conv (Conv2D)    (None, 128, 128, 288 13824       block2f_add[0][0]                \n",
            "__________________________________________________________________________________________________\n",
            "block2g_expand_bn (BatchNormali (None, 128, 128, 288 1152        block2g_expand_conv[0][0]        \n",
            "__________________________________________________________________________________________________\n",
            "block2g_expand_activation (Acti (None, 128, 128, 288 0           block2g_expand_bn[0][0]          \n",
            "__________________________________________________________________________________________________\n",
            "block2g_dwconv (DepthwiseConv2D (None, 128, 128, 288 2592        block2g_expand_activation[0][0]  \n",
            "__________________________________________________________________________________________________\n",
            "block2g_bn (BatchNormalization) (None, 128, 128, 288 1152        block2g_dwconv[0][0]             \n",
            "__________________________________________________________________________________________________\n",
            "block2g_activation (Activation) (None, 128, 128, 288 0           block2g_bn[0][0]                 \n",
            "__________________________________________________________________________________________________\n",
            "block2g_se_squeeze (GlobalAvera (None, 288)          0           block2g_activation[0][0]         \n",
            "__________________________________________________________________________________________________\n",
            "block2g_se_reshape (Reshape)    (None, 1, 1, 288)    0           block2g_se_squeeze[0][0]         \n",
            "__________________________________________________________________________________________________\n",
            "block2g_se_reduce (Conv2D)      (None, 1, 1, 12)     3468        block2g_se_reshape[0][0]         \n",
            "__________________________________________________________________________________________________\n",
            "block2g_se_expand (Conv2D)      (None, 1, 1, 288)    3744        block2g_se_reduce[0][0]          \n",
            "__________________________________________________________________________________________________\n",
            "block2g_se_excite (Multiply)    (None, 128, 128, 288 0           block2g_activation[0][0]         \n",
            "                                                                 block2g_se_expand[0][0]          \n",
            "__________________________________________________________________________________________________\n",
            "block2g_project_conv (Conv2D)   (None, 128, 128, 48) 13824       block2g_se_excite[0][0]          \n",
            "__________________________________________________________________________________________________\n",
            "block2g_project_bn (BatchNormal (None, 128, 128, 48) 192         block2g_project_conv[0][0]       \n",
            "__________________________________________________________________________________________________\n",
            "block2g_drop (Dropout)          (None, 128, 128, 48) 0           block2g_project_bn[0][0]         \n",
            "__________________________________________________________________________________________________\n",
            "block2g_add (Add)               (None, 128, 128, 48) 0           block2g_drop[0][0]               \n",
            "                                                                 block2f_add[0][0]                \n",
            "__________________________________________________________________________________________________\n",
            "block3a_expand_conv (Conv2D)    (None, 128, 128, 288 13824       block2g_add[0][0]                \n",
            "__________________________________________________________________________________________________\n",
            "block3a_expand_bn (BatchNormali (None, 128, 128, 288 1152        block3a_expand_conv[0][0]        \n",
            "__________________________________________________________________________________________________\n",
            "block3a_expand_activation (Acti (None, 128, 128, 288 0           block3a_expand_bn[0][0]          \n",
            "__________________________________________________________________________________________________\n",
            "block3a_dwconv_pad (ZeroPadding (None, 131, 131, 288 0           block3a_expand_activation[0][0]  \n",
            "__________________________________________________________________________________________________\n",
            "block3a_dwconv (DepthwiseConv2D (None, 64, 64, 288)  7200        block3a_dwconv_pad[0][0]         \n",
            "__________________________________________________________________________________________________\n",
            "block3a_bn (BatchNormalization) (None, 64, 64, 288)  1152        block3a_dwconv[0][0]             \n",
            "__________________________________________________________________________________________________\n",
            "block3a_activation (Activation) (None, 64, 64, 288)  0           block3a_bn[0][0]                 \n",
            "__________________________________________________________________________________________________\n",
            "block3a_se_squeeze (GlobalAvera (None, 288)          0           block3a_activation[0][0]         \n",
            "__________________________________________________________________________________________________\n",
            "block3a_se_reshape (Reshape)    (None, 1, 1, 288)    0           block3a_se_squeeze[0][0]         \n",
            "__________________________________________________________________________________________________\n",
            "block3a_se_reduce (Conv2D)      (None, 1, 1, 12)     3468        block3a_se_reshape[0][0]         \n",
            "__________________________________________________________________________________________________\n",
            "block3a_se_expand (Conv2D)      (None, 1, 1, 288)    3744        block3a_se_reduce[0][0]          \n",
            "__________________________________________________________________________________________________\n",
            "block3a_se_excite (Multiply)    (None, 64, 64, 288)  0           block3a_activation[0][0]         \n",
            "                                                                 block3a_se_expand[0][0]          \n",
            "__________________________________________________________________________________________________\n",
            "block3a_project_conv (Conv2D)   (None, 64, 64, 80)   23040       block3a_se_excite[0][0]          \n",
            "__________________________________________________________________________________________________\n",
            "block3a_project_bn (BatchNormal (None, 64, 64, 80)   320         block3a_project_conv[0][0]       \n",
            "__________________________________________________________________________________________________\n",
            "block3b_expand_conv (Conv2D)    (None, 64, 64, 480)  38400       block3a_project_bn[0][0]         \n",
            "__________________________________________________________________________________________________\n",
            "block3b_expand_bn (BatchNormali (None, 64, 64, 480)  1920        block3b_expand_conv[0][0]        \n",
            "__________________________________________________________________________________________________\n",
            "block3b_expand_activation (Acti (None, 64, 64, 480)  0           block3b_expand_bn[0][0]          \n",
            "__________________________________________________________________________________________________\n",
            "block3b_dwconv (DepthwiseConv2D (None, 64, 64, 480)  12000       block3b_expand_activation[0][0]  \n",
            "__________________________________________________________________________________________________\n",
            "block3b_bn (BatchNormalization) (None, 64, 64, 480)  1920        block3b_dwconv[0][0]             \n",
            "__________________________________________________________________________________________________\n",
            "block3b_activation (Activation) (None, 64, 64, 480)  0           block3b_bn[0][0]                 \n",
            "__________________________________________________________________________________________________\n",
            "block3b_se_squeeze (GlobalAvera (None, 480)          0           block3b_activation[0][0]         \n",
            "__________________________________________________________________________________________________\n",
            "block3b_se_reshape (Reshape)    (None, 1, 1, 480)    0           block3b_se_squeeze[0][0]         \n",
            "__________________________________________________________________________________________________\n",
            "block3b_se_reduce (Conv2D)      (None, 1, 1, 20)     9620        block3b_se_reshape[0][0]         \n",
            "__________________________________________________________________________________________________\n",
            "block3b_se_expand (Conv2D)      (None, 1, 1, 480)    10080       block3b_se_reduce[0][0]          \n",
            "__________________________________________________________________________________________________\n",
            "block3b_se_excite (Multiply)    (None, 64, 64, 480)  0           block3b_activation[0][0]         \n",
            "                                                                 block3b_se_expand[0][0]          \n",
            "__________________________________________________________________________________________________\n",
            "block3b_project_conv (Conv2D)   (None, 64, 64, 80)   38400       block3b_se_excite[0][0]          \n",
            "__________________________________________________________________________________________________\n",
            "block3b_project_bn (BatchNormal (None, 64, 64, 80)   320         block3b_project_conv[0][0]       \n",
            "__________________________________________________________________________________________________\n",
            "block3b_drop (Dropout)          (None, 64, 64, 80)   0           block3b_project_bn[0][0]         \n",
            "__________________________________________________________________________________________________\n",
            "block3b_add (Add)               (None, 64, 64, 80)   0           block3b_drop[0][0]               \n",
            "                                                                 block3a_project_bn[0][0]         \n",
            "__________________________________________________________________________________________________\n",
            "block3c_expand_conv (Conv2D)    (None, 64, 64, 480)  38400       block3b_add[0][0]                \n",
            "__________________________________________________________________________________________________\n",
            "block3c_expand_bn (BatchNormali (None, 64, 64, 480)  1920        block3c_expand_conv[0][0]        \n",
            "__________________________________________________________________________________________________\n",
            "block3c_expand_activation (Acti (None, 64, 64, 480)  0           block3c_expand_bn[0][0]          \n",
            "__________________________________________________________________________________________________\n",
            "block3c_dwconv (DepthwiseConv2D (None, 64, 64, 480)  12000       block3c_expand_activation[0][0]  \n",
            "__________________________________________________________________________________________________\n",
            "block3c_bn (BatchNormalization) (None, 64, 64, 480)  1920        block3c_dwconv[0][0]             \n",
            "__________________________________________________________________________________________________\n",
            "block3c_activation (Activation) (None, 64, 64, 480)  0           block3c_bn[0][0]                 \n",
            "__________________________________________________________________________________________________\n",
            "block3c_se_squeeze (GlobalAvera (None, 480)          0           block3c_activation[0][0]         \n",
            "__________________________________________________________________________________________________\n",
            "block3c_se_reshape (Reshape)    (None, 1, 1, 480)    0           block3c_se_squeeze[0][0]         \n",
            "__________________________________________________________________________________________________\n",
            "block3c_se_reduce (Conv2D)      (None, 1, 1, 20)     9620        block3c_se_reshape[0][0]         \n",
            "__________________________________________________________________________________________________\n",
            "block3c_se_expand (Conv2D)      (None, 1, 1, 480)    10080       block3c_se_reduce[0][0]          \n",
            "__________________________________________________________________________________________________\n",
            "block3c_se_excite (Multiply)    (None, 64, 64, 480)  0           block3c_activation[0][0]         \n",
            "                                                                 block3c_se_expand[0][0]          \n",
            "__________________________________________________________________________________________________\n",
            "block3c_project_conv (Conv2D)   (None, 64, 64, 80)   38400       block3c_se_excite[0][0]          \n",
            "__________________________________________________________________________________________________\n",
            "block3c_project_bn (BatchNormal (None, 64, 64, 80)   320         block3c_project_conv[0][0]       \n",
            "__________________________________________________________________________________________________\n",
            "block3c_drop (Dropout)          (None, 64, 64, 80)   0           block3c_project_bn[0][0]         \n",
            "__________________________________________________________________________________________________\n",
            "block3c_add (Add)               (None, 64, 64, 80)   0           block3c_drop[0][0]               \n",
            "                                                                 block3b_add[0][0]                \n",
            "__________________________________________________________________________________________________\n",
            "block3d_expand_conv (Conv2D)    (None, 64, 64, 480)  38400       block3c_add[0][0]                \n",
            "__________________________________________________________________________________________________\n",
            "block3d_expand_bn (BatchNormali (None, 64, 64, 480)  1920        block3d_expand_conv[0][0]        \n",
            "__________________________________________________________________________________________________\n",
            "block3d_expand_activation (Acti (None, 64, 64, 480)  0           block3d_expand_bn[0][0]          \n",
            "__________________________________________________________________________________________________\n",
            "block3d_dwconv (DepthwiseConv2D (None, 64, 64, 480)  12000       block3d_expand_activation[0][0]  \n",
            "__________________________________________________________________________________________________\n",
            "block3d_bn (BatchNormalization) (None, 64, 64, 480)  1920        block3d_dwconv[0][0]             \n",
            "__________________________________________________________________________________________________\n",
            "block3d_activation (Activation) (None, 64, 64, 480)  0           block3d_bn[0][0]                 \n",
            "__________________________________________________________________________________________________\n",
            "block3d_se_squeeze (GlobalAvera (None, 480)          0           block3d_activation[0][0]         \n",
            "__________________________________________________________________________________________________\n",
            "block3d_se_reshape (Reshape)    (None, 1, 1, 480)    0           block3d_se_squeeze[0][0]         \n",
            "__________________________________________________________________________________________________\n",
            "block3d_se_reduce (Conv2D)      (None, 1, 1, 20)     9620        block3d_se_reshape[0][0]         \n",
            "__________________________________________________________________________________________________\n",
            "block3d_se_expand (Conv2D)      (None, 1, 1, 480)    10080       block3d_se_reduce[0][0]          \n",
            "__________________________________________________________________________________________________\n",
            "block3d_se_excite (Multiply)    (None, 64, 64, 480)  0           block3d_activation[0][0]         \n",
            "                                                                 block3d_se_expand[0][0]          \n",
            "__________________________________________________________________________________________________\n",
            "block3d_project_conv (Conv2D)   (None, 64, 64, 80)   38400       block3d_se_excite[0][0]          \n",
            "__________________________________________________________________________________________________\n",
            "block3d_project_bn (BatchNormal (None, 64, 64, 80)   320         block3d_project_conv[0][0]       \n",
            "__________________________________________________________________________________________________\n",
            "block3d_drop (Dropout)          (None, 64, 64, 80)   0           block3d_project_bn[0][0]         \n",
            "__________________________________________________________________________________________________\n",
            "block3d_add (Add)               (None, 64, 64, 80)   0           block3d_drop[0][0]               \n",
            "                                                                 block3c_add[0][0]                \n",
            "__________________________________________________________________________________________________\n",
            "block3e_expand_conv (Conv2D)    (None, 64, 64, 480)  38400       block3d_add[0][0]                \n",
            "__________________________________________________________________________________________________\n",
            "block3e_expand_bn (BatchNormali (None, 64, 64, 480)  1920        block3e_expand_conv[0][0]        \n",
            "__________________________________________________________________________________________________\n",
            "block3e_expand_activation (Acti (None, 64, 64, 480)  0           block3e_expand_bn[0][0]          \n",
            "__________________________________________________________________________________________________\n",
            "block3e_dwconv (DepthwiseConv2D (None, 64, 64, 480)  12000       block3e_expand_activation[0][0]  \n",
            "__________________________________________________________________________________________________\n",
            "block3e_bn (BatchNormalization) (None, 64, 64, 480)  1920        block3e_dwconv[0][0]             \n",
            "__________________________________________________________________________________________________\n",
            "block3e_activation (Activation) (None, 64, 64, 480)  0           block3e_bn[0][0]                 \n",
            "__________________________________________________________________________________________________\n",
            "block3e_se_squeeze (GlobalAvera (None, 480)          0           block3e_activation[0][0]         \n",
            "__________________________________________________________________________________________________\n",
            "block3e_se_reshape (Reshape)    (None, 1, 1, 480)    0           block3e_se_squeeze[0][0]         \n",
            "__________________________________________________________________________________________________\n",
            "block3e_se_reduce (Conv2D)      (None, 1, 1, 20)     9620        block3e_se_reshape[0][0]         \n",
            "__________________________________________________________________________________________________\n",
            "block3e_se_expand (Conv2D)      (None, 1, 1, 480)    10080       block3e_se_reduce[0][0]          \n",
            "__________________________________________________________________________________________________\n",
            "block3e_se_excite (Multiply)    (None, 64, 64, 480)  0           block3e_activation[0][0]         \n",
            "                                                                 block3e_se_expand[0][0]          \n",
            "__________________________________________________________________________________________________\n",
            "block3e_project_conv (Conv2D)   (None, 64, 64, 80)   38400       block3e_se_excite[0][0]          \n",
            "__________________________________________________________________________________________________\n",
            "block3e_project_bn (BatchNormal (None, 64, 64, 80)   320         block3e_project_conv[0][0]       \n",
            "__________________________________________________________________________________________________\n",
            "block3e_drop (Dropout)          (None, 64, 64, 80)   0           block3e_project_bn[0][0]         \n",
            "__________________________________________________________________________________________________\n",
            "block3e_add (Add)               (None, 64, 64, 80)   0           block3e_drop[0][0]               \n",
            "                                                                 block3d_add[0][0]                \n",
            "__________________________________________________________________________________________________\n",
            "block3f_expand_conv (Conv2D)    (None, 64, 64, 480)  38400       block3e_add[0][0]                \n",
            "__________________________________________________________________________________________________\n",
            "block3f_expand_bn (BatchNormali (None, 64, 64, 480)  1920        block3f_expand_conv[0][0]        \n",
            "__________________________________________________________________________________________________\n",
            "block3f_expand_activation (Acti (None, 64, 64, 480)  0           block3f_expand_bn[0][0]          \n",
            "__________________________________________________________________________________________________\n",
            "block3f_dwconv (DepthwiseConv2D (None, 64, 64, 480)  12000       block3f_expand_activation[0][0]  \n",
            "__________________________________________________________________________________________________\n",
            "block3f_bn (BatchNormalization) (None, 64, 64, 480)  1920        block3f_dwconv[0][0]             \n",
            "__________________________________________________________________________________________________\n",
            "block3f_activation (Activation) (None, 64, 64, 480)  0           block3f_bn[0][0]                 \n",
            "__________________________________________________________________________________________________\n",
            "block3f_se_squeeze (GlobalAvera (None, 480)          0           block3f_activation[0][0]         \n",
            "__________________________________________________________________________________________________\n",
            "block3f_se_reshape (Reshape)    (None, 1, 1, 480)    0           block3f_se_squeeze[0][0]         \n",
            "__________________________________________________________________________________________________\n",
            "block3f_se_reduce (Conv2D)      (None, 1, 1, 20)     9620        block3f_se_reshape[0][0]         \n",
            "__________________________________________________________________________________________________\n",
            "block3f_se_expand (Conv2D)      (None, 1, 1, 480)    10080       block3f_se_reduce[0][0]          \n",
            "__________________________________________________________________________________________________\n",
            "block3f_se_excite (Multiply)    (None, 64, 64, 480)  0           block3f_activation[0][0]         \n",
            "                                                                 block3f_se_expand[0][0]          \n",
            "__________________________________________________________________________________________________\n",
            "block3f_project_conv (Conv2D)   (None, 64, 64, 80)   38400       block3f_se_excite[0][0]          \n",
            "__________________________________________________________________________________________________\n",
            "block3f_project_bn (BatchNormal (None, 64, 64, 80)   320         block3f_project_conv[0][0]       \n",
            "__________________________________________________________________________________________________\n",
            "block3f_drop (Dropout)          (None, 64, 64, 80)   0           block3f_project_bn[0][0]         \n",
            "__________________________________________________________________________________________________\n",
            "block3f_add (Add)               (None, 64, 64, 80)   0           block3f_drop[0][0]               \n",
            "                                                                 block3e_add[0][0]                \n",
            "__________________________________________________________________________________________________\n",
            "block3g_expand_conv (Conv2D)    (None, 64, 64, 480)  38400       block3f_add[0][0]                \n",
            "__________________________________________________________________________________________________\n",
            "block3g_expand_bn (BatchNormali (None, 64, 64, 480)  1920        block3g_expand_conv[0][0]        \n",
            "__________________________________________________________________________________________________\n",
            "block3g_expand_activation (Acti (None, 64, 64, 480)  0           block3g_expand_bn[0][0]          \n",
            "__________________________________________________________________________________________________\n",
            "block3g_dwconv (DepthwiseConv2D (None, 64, 64, 480)  12000       block3g_expand_activation[0][0]  \n",
            "__________________________________________________________________________________________________\n",
            "block3g_bn (BatchNormalization) (None, 64, 64, 480)  1920        block3g_dwconv[0][0]             \n",
            "__________________________________________________________________________________________________\n",
            "block3g_activation (Activation) (None, 64, 64, 480)  0           block3g_bn[0][0]                 \n",
            "__________________________________________________________________________________________________\n",
            "block3g_se_squeeze (GlobalAvera (None, 480)          0           block3g_activation[0][0]         \n",
            "__________________________________________________________________________________________________\n",
            "block3g_se_reshape (Reshape)    (None, 1, 1, 480)    0           block3g_se_squeeze[0][0]         \n",
            "__________________________________________________________________________________________________\n",
            "block3g_se_reduce (Conv2D)      (None, 1, 1, 20)     9620        block3g_se_reshape[0][0]         \n",
            "__________________________________________________________________________________________________\n",
            "block3g_se_expand (Conv2D)      (None, 1, 1, 480)    10080       block3g_se_reduce[0][0]          \n",
            "__________________________________________________________________________________________________\n",
            "block3g_se_excite (Multiply)    (None, 64, 64, 480)  0           block3g_activation[0][0]         \n",
            "                                                                 block3g_se_expand[0][0]          \n",
            "__________________________________________________________________________________________________\n",
            "block3g_project_conv (Conv2D)   (None, 64, 64, 80)   38400       block3g_se_excite[0][0]          \n",
            "__________________________________________________________________________________________________\n",
            "block3g_project_bn (BatchNormal (None, 64, 64, 80)   320         block3g_project_conv[0][0]       \n",
            "__________________________________________________________________________________________________\n",
            "block3g_drop (Dropout)          (None, 64, 64, 80)   0           block3g_project_bn[0][0]         \n",
            "__________________________________________________________________________________________________\n",
            "block3g_add (Add)               (None, 64, 64, 80)   0           block3g_drop[0][0]               \n",
            "                                                                 block3f_add[0][0]                \n",
            "__________________________________________________________________________________________________\n",
            "block4a_expand_conv (Conv2D)    (None, 64, 64, 480)  38400       block3g_add[0][0]                \n",
            "__________________________________________________________________________________________________\n",
            "block4a_expand_bn (BatchNormali (None, 64, 64, 480)  1920        block4a_expand_conv[0][0]        \n",
            "__________________________________________________________________________________________________\n",
            "block4a_expand_activation (Acti (None, 64, 64, 480)  0           block4a_expand_bn[0][0]          \n",
            "__________________________________________________________________________________________________\n",
            "block4a_dwconv_pad (ZeroPadding (None, 65, 65, 480)  0           block4a_expand_activation[0][0]  \n",
            "__________________________________________________________________________________________________\n",
            "block4a_dwconv (DepthwiseConv2D (None, 32, 32, 480)  4320        block4a_dwconv_pad[0][0]         \n",
            "__________________________________________________________________________________________________\n",
            "block4a_bn (BatchNormalization) (None, 32, 32, 480)  1920        block4a_dwconv[0][0]             \n",
            "__________________________________________________________________________________________________\n",
            "block4a_activation (Activation) (None, 32, 32, 480)  0           block4a_bn[0][0]                 \n",
            "__________________________________________________________________________________________________\n",
            "block4a_se_squeeze (GlobalAvera (None, 480)          0           block4a_activation[0][0]         \n",
            "__________________________________________________________________________________________________\n",
            "block4a_se_reshape (Reshape)    (None, 1, 1, 480)    0           block4a_se_squeeze[0][0]         \n",
            "__________________________________________________________________________________________________\n",
            "block4a_se_reduce (Conv2D)      (None, 1, 1, 20)     9620        block4a_se_reshape[0][0]         \n",
            "__________________________________________________________________________________________________\n",
            "block4a_se_expand (Conv2D)      (None, 1, 1, 480)    10080       block4a_se_reduce[0][0]          \n",
            "__________________________________________________________________________________________________\n",
            "block4a_se_excite (Multiply)    (None, 32, 32, 480)  0           block4a_activation[0][0]         \n",
            "                                                                 block4a_se_expand[0][0]          \n",
            "__________________________________________________________________________________________________\n",
            "block4a_project_conv (Conv2D)   (None, 32, 32, 160)  76800       block4a_se_excite[0][0]          \n",
            "__________________________________________________________________________________________________\n",
            "block4a_project_bn (BatchNormal (None, 32, 32, 160)  640         block4a_project_conv[0][0]       \n",
            "__________________________________________________________________________________________________\n",
            "block4b_expand_conv (Conv2D)    (None, 32, 32, 960)  153600      block4a_project_bn[0][0]         \n",
            "__________________________________________________________________________________________________\n",
            "block4b_expand_bn (BatchNormali (None, 32, 32, 960)  3840        block4b_expand_conv[0][0]        \n",
            "__________________________________________________________________________________________________\n",
            "block4b_expand_activation (Acti (None, 32, 32, 960)  0           block4b_expand_bn[0][0]          \n",
            "__________________________________________________________________________________________________\n",
            "block4b_dwconv (DepthwiseConv2D (None, 32, 32, 960)  8640        block4b_expand_activation[0][0]  \n",
            "__________________________________________________________________________________________________\n",
            "block4b_bn (BatchNormalization) (None, 32, 32, 960)  3840        block4b_dwconv[0][0]             \n",
            "__________________________________________________________________________________________________\n",
            "block4b_activation (Activation) (None, 32, 32, 960)  0           block4b_bn[0][0]                 \n",
            "__________________________________________________________________________________________________\n",
            "block4b_se_squeeze (GlobalAvera (None, 960)          0           block4b_activation[0][0]         \n",
            "__________________________________________________________________________________________________\n",
            "block4b_se_reshape (Reshape)    (None, 1, 1, 960)    0           block4b_se_squeeze[0][0]         \n",
            "__________________________________________________________________________________________________\n",
            "block4b_se_reduce (Conv2D)      (None, 1, 1, 40)     38440       block4b_se_reshape[0][0]         \n",
            "__________________________________________________________________________________________________\n",
            "block4b_se_expand (Conv2D)      (None, 1, 1, 960)    39360       block4b_se_reduce[0][0]          \n",
            "__________________________________________________________________________________________________\n",
            "block4b_se_excite (Multiply)    (None, 32, 32, 960)  0           block4b_activation[0][0]         \n",
            "                                                                 block4b_se_expand[0][0]          \n",
            "__________________________________________________________________________________________________\n",
            "block4b_project_conv (Conv2D)   (None, 32, 32, 160)  153600      block4b_se_excite[0][0]          \n",
            "__________________________________________________________________________________________________\n",
            "block4b_project_bn (BatchNormal (None, 32, 32, 160)  640         block4b_project_conv[0][0]       \n",
            "__________________________________________________________________________________________________\n",
            "block4b_drop (Dropout)          (None, 32, 32, 160)  0           block4b_project_bn[0][0]         \n",
            "__________________________________________________________________________________________________\n",
            "block4b_add (Add)               (None, 32, 32, 160)  0           block4b_drop[0][0]               \n",
            "                                                                 block4a_project_bn[0][0]         \n",
            "__________________________________________________________________________________________________\n",
            "block4c_expand_conv (Conv2D)    (None, 32, 32, 960)  153600      block4b_add[0][0]                \n",
            "__________________________________________________________________________________________________\n",
            "block4c_expand_bn (BatchNormali (None, 32, 32, 960)  3840        block4c_expand_conv[0][0]        \n",
            "__________________________________________________________________________________________________\n",
            "block4c_expand_activation (Acti (None, 32, 32, 960)  0           block4c_expand_bn[0][0]          \n",
            "__________________________________________________________________________________________________\n",
            "block4c_dwconv (DepthwiseConv2D (None, 32, 32, 960)  8640        block4c_expand_activation[0][0]  \n",
            "__________________________________________________________________________________________________\n",
            "block4c_bn (BatchNormalization) (None, 32, 32, 960)  3840        block4c_dwconv[0][0]             \n",
            "__________________________________________________________________________________________________\n",
            "block4c_activation (Activation) (None, 32, 32, 960)  0           block4c_bn[0][0]                 \n",
            "__________________________________________________________________________________________________\n",
            "block4c_se_squeeze (GlobalAvera (None, 960)          0           block4c_activation[0][0]         \n",
            "__________________________________________________________________________________________________\n",
            "block4c_se_reshape (Reshape)    (None, 1, 1, 960)    0           block4c_se_squeeze[0][0]         \n",
            "__________________________________________________________________________________________________\n",
            "block4c_se_reduce (Conv2D)      (None, 1, 1, 40)     38440       block4c_se_reshape[0][0]         \n",
            "__________________________________________________________________________________________________\n",
            "block4c_se_expand (Conv2D)      (None, 1, 1, 960)    39360       block4c_se_reduce[0][0]          \n",
            "__________________________________________________________________________________________________\n",
            "block4c_se_excite (Multiply)    (None, 32, 32, 960)  0           block4c_activation[0][0]         \n",
            "                                                                 block4c_se_expand[0][0]          \n",
            "__________________________________________________________________________________________________\n",
            "block4c_project_conv (Conv2D)   (None, 32, 32, 160)  153600      block4c_se_excite[0][0]          \n",
            "__________________________________________________________________________________________________\n",
            "block4c_project_bn (BatchNormal (None, 32, 32, 160)  640         block4c_project_conv[0][0]       \n",
            "__________________________________________________________________________________________________\n",
            "block4c_drop (Dropout)          (None, 32, 32, 160)  0           block4c_project_bn[0][0]         \n",
            "__________________________________________________________________________________________________\n",
            "block4c_add (Add)               (None, 32, 32, 160)  0           block4c_drop[0][0]               \n",
            "                                                                 block4b_add[0][0]                \n",
            "__________________________________________________________________________________________________\n",
            "block4d_expand_conv (Conv2D)    (None, 32, 32, 960)  153600      block4c_add[0][0]                \n",
            "__________________________________________________________________________________________________\n",
            "block4d_expand_bn (BatchNormali (None, 32, 32, 960)  3840        block4d_expand_conv[0][0]        \n",
            "__________________________________________________________________________________________________\n",
            "block4d_expand_activation (Acti (None, 32, 32, 960)  0           block4d_expand_bn[0][0]          \n",
            "__________________________________________________________________________________________________\n",
            "block4d_dwconv (DepthwiseConv2D (None, 32, 32, 960)  8640        block4d_expand_activation[0][0]  \n",
            "__________________________________________________________________________________________________\n",
            "block4d_bn (BatchNormalization) (None, 32, 32, 960)  3840        block4d_dwconv[0][0]             \n",
            "__________________________________________________________________________________________________\n",
            "block4d_activation (Activation) (None, 32, 32, 960)  0           block4d_bn[0][0]                 \n",
            "__________________________________________________________________________________________________\n",
            "block4d_se_squeeze (GlobalAvera (None, 960)          0           block4d_activation[0][0]         \n",
            "__________________________________________________________________________________________________\n",
            "block4d_se_reshape (Reshape)    (None, 1, 1, 960)    0           block4d_se_squeeze[0][0]         \n",
            "__________________________________________________________________________________________________\n",
            "block4d_se_reduce (Conv2D)      (None, 1, 1, 40)     38440       block4d_se_reshape[0][0]         \n",
            "__________________________________________________________________________________________________\n",
            "block4d_se_expand (Conv2D)      (None, 1, 1, 960)    39360       block4d_se_reduce[0][0]          \n",
            "__________________________________________________________________________________________________\n",
            "block4d_se_excite (Multiply)    (None, 32, 32, 960)  0           block4d_activation[0][0]         \n",
            "                                                                 block4d_se_expand[0][0]          \n",
            "__________________________________________________________________________________________________\n",
            "block4d_project_conv (Conv2D)   (None, 32, 32, 160)  153600      block4d_se_excite[0][0]          \n",
            "__________________________________________________________________________________________________\n",
            "block4d_project_bn (BatchNormal (None, 32, 32, 160)  640         block4d_project_conv[0][0]       \n",
            "__________________________________________________________________________________________________\n",
            "block4d_drop (Dropout)          (None, 32, 32, 160)  0           block4d_project_bn[0][0]         \n",
            "__________________________________________________________________________________________________\n",
            "block4d_add (Add)               (None, 32, 32, 160)  0           block4d_drop[0][0]               \n",
            "                                                                 block4c_add[0][0]                \n",
            "__________________________________________________________________________________________________\n",
            "block4e_expand_conv (Conv2D)    (None, 32, 32, 960)  153600      block4d_add[0][0]                \n",
            "__________________________________________________________________________________________________\n",
            "block4e_expand_bn (BatchNormali (None, 32, 32, 960)  3840        block4e_expand_conv[0][0]        \n",
            "__________________________________________________________________________________________________\n",
            "block4e_expand_activation (Acti (None, 32, 32, 960)  0           block4e_expand_bn[0][0]          \n",
            "__________________________________________________________________________________________________\n",
            "block4e_dwconv (DepthwiseConv2D (None, 32, 32, 960)  8640        block4e_expand_activation[0][0]  \n",
            "__________________________________________________________________________________________________\n",
            "block4e_bn (BatchNormalization) (None, 32, 32, 960)  3840        block4e_dwconv[0][0]             \n",
            "__________________________________________________________________________________________________\n",
            "block4e_activation (Activation) (None, 32, 32, 960)  0           block4e_bn[0][0]                 \n",
            "__________________________________________________________________________________________________\n",
            "block4e_se_squeeze (GlobalAvera (None, 960)          0           block4e_activation[0][0]         \n",
            "__________________________________________________________________________________________________\n",
            "block4e_se_reshape (Reshape)    (None, 1, 1, 960)    0           block4e_se_squeeze[0][0]         \n",
            "__________________________________________________________________________________________________\n",
            "block4e_se_reduce (Conv2D)      (None, 1, 1, 40)     38440       block4e_se_reshape[0][0]         \n",
            "__________________________________________________________________________________________________\n",
            "block4e_se_expand (Conv2D)      (None, 1, 1, 960)    39360       block4e_se_reduce[0][0]          \n",
            "__________________________________________________________________________________________________\n",
            "block4e_se_excite (Multiply)    (None, 32, 32, 960)  0           block4e_activation[0][0]         \n",
            "                                                                 block4e_se_expand[0][0]          \n",
            "__________________________________________________________________________________________________\n",
            "block4e_project_conv (Conv2D)   (None, 32, 32, 160)  153600      block4e_se_excite[0][0]          \n",
            "__________________________________________________________________________________________________\n",
            "block4e_project_bn (BatchNormal (None, 32, 32, 160)  640         block4e_project_conv[0][0]       \n",
            "__________________________________________________________________________________________________\n",
            "block4e_drop (Dropout)          (None, 32, 32, 160)  0           block4e_project_bn[0][0]         \n",
            "__________________________________________________________________________________________________\n",
            "block4e_add (Add)               (None, 32, 32, 160)  0           block4e_drop[0][0]               \n",
            "                                                                 block4d_add[0][0]                \n",
            "__________________________________________________________________________________________________\n",
            "block4f_expand_conv (Conv2D)    (None, 32, 32, 960)  153600      block4e_add[0][0]                \n",
            "__________________________________________________________________________________________________\n",
            "block4f_expand_bn (BatchNormali (None, 32, 32, 960)  3840        block4f_expand_conv[0][0]        \n",
            "__________________________________________________________________________________________________\n",
            "block4f_expand_activation (Acti (None, 32, 32, 960)  0           block4f_expand_bn[0][0]          \n",
            "__________________________________________________________________________________________________\n",
            "block4f_dwconv (DepthwiseConv2D (None, 32, 32, 960)  8640        block4f_expand_activation[0][0]  \n",
            "__________________________________________________________________________________________________\n",
            "block4f_bn (BatchNormalization) (None, 32, 32, 960)  3840        block4f_dwconv[0][0]             \n",
            "__________________________________________________________________________________________________\n",
            "block4f_activation (Activation) (None, 32, 32, 960)  0           block4f_bn[0][0]                 \n",
            "__________________________________________________________________________________________________\n",
            "block4f_se_squeeze (GlobalAvera (None, 960)          0           block4f_activation[0][0]         \n",
            "__________________________________________________________________________________________________\n",
            "block4f_se_reshape (Reshape)    (None, 1, 1, 960)    0           block4f_se_squeeze[0][0]         \n",
            "__________________________________________________________________________________________________\n",
            "block4f_se_reduce (Conv2D)      (None, 1, 1, 40)     38440       block4f_se_reshape[0][0]         \n",
            "__________________________________________________________________________________________________\n",
            "block4f_se_expand (Conv2D)      (None, 1, 1, 960)    39360       block4f_se_reduce[0][0]          \n",
            "__________________________________________________________________________________________________\n",
            "block4f_se_excite (Multiply)    (None, 32, 32, 960)  0           block4f_activation[0][0]         \n",
            "                                                                 block4f_se_expand[0][0]          \n",
            "__________________________________________________________________________________________________\n",
            "block4f_project_conv (Conv2D)   (None, 32, 32, 160)  153600      block4f_se_excite[0][0]          \n",
            "__________________________________________________________________________________________________\n",
            "block4f_project_bn (BatchNormal (None, 32, 32, 160)  640         block4f_project_conv[0][0]       \n",
            "__________________________________________________________________________________________________\n",
            "block4f_drop (Dropout)          (None, 32, 32, 160)  0           block4f_project_bn[0][0]         \n",
            "__________________________________________________________________________________________________\n",
            "block4f_add (Add)               (None, 32, 32, 160)  0           block4f_drop[0][0]               \n",
            "                                                                 block4e_add[0][0]                \n",
            "__________________________________________________________________________________________________\n",
            "block4g_expand_conv (Conv2D)    (None, 32, 32, 960)  153600      block4f_add[0][0]                \n",
            "__________________________________________________________________________________________________\n",
            "block4g_expand_bn (BatchNormali (None, 32, 32, 960)  3840        block4g_expand_conv[0][0]        \n",
            "__________________________________________________________________________________________________\n",
            "block4g_expand_activation (Acti (None, 32, 32, 960)  0           block4g_expand_bn[0][0]          \n",
            "__________________________________________________________________________________________________\n",
            "block4g_dwconv (DepthwiseConv2D (None, 32, 32, 960)  8640        block4g_expand_activation[0][0]  \n",
            "__________________________________________________________________________________________________\n",
            "block4g_bn (BatchNormalization) (None, 32, 32, 960)  3840        block4g_dwconv[0][0]             \n",
            "__________________________________________________________________________________________________\n",
            "block4g_activation (Activation) (None, 32, 32, 960)  0           block4g_bn[0][0]                 \n",
            "__________________________________________________________________________________________________\n",
            "block4g_se_squeeze (GlobalAvera (None, 960)          0           block4g_activation[0][0]         \n",
            "__________________________________________________________________________________________________\n",
            "block4g_se_reshape (Reshape)    (None, 1, 1, 960)    0           block4g_se_squeeze[0][0]         \n",
            "__________________________________________________________________________________________________\n",
            "block4g_se_reduce (Conv2D)      (None, 1, 1, 40)     38440       block4g_se_reshape[0][0]         \n",
            "__________________________________________________________________________________________________\n",
            "block4g_se_expand (Conv2D)      (None, 1, 1, 960)    39360       block4g_se_reduce[0][0]          \n",
            "__________________________________________________________________________________________________\n",
            "block4g_se_excite (Multiply)    (None, 32, 32, 960)  0           block4g_activation[0][0]         \n",
            "                                                                 block4g_se_expand[0][0]          \n",
            "__________________________________________________________________________________________________\n",
            "block4g_project_conv (Conv2D)   (None, 32, 32, 160)  153600      block4g_se_excite[0][0]          \n",
            "__________________________________________________________________________________________________\n",
            "block4g_project_bn (BatchNormal (None, 32, 32, 160)  640         block4g_project_conv[0][0]       \n",
            "__________________________________________________________________________________________________\n",
            "block4g_drop (Dropout)          (None, 32, 32, 160)  0           block4g_project_bn[0][0]         \n",
            "__________________________________________________________________________________________________\n",
            "block4g_add (Add)               (None, 32, 32, 160)  0           block4g_drop[0][0]               \n",
            "                                                                 block4f_add[0][0]                \n",
            "__________________________________________________________________________________________________\n",
            "block4h_expand_conv (Conv2D)    (None, 32, 32, 960)  153600      block4g_add[0][0]                \n",
            "__________________________________________________________________________________________________\n",
            "block4h_expand_bn (BatchNormali (None, 32, 32, 960)  3840        block4h_expand_conv[0][0]        \n",
            "__________________________________________________________________________________________________\n",
            "block4h_expand_activation (Acti (None, 32, 32, 960)  0           block4h_expand_bn[0][0]          \n",
            "__________________________________________________________________________________________________\n",
            "block4h_dwconv (DepthwiseConv2D (None, 32, 32, 960)  8640        block4h_expand_activation[0][0]  \n",
            "__________________________________________________________________________________________________\n",
            "block4h_bn (BatchNormalization) (None, 32, 32, 960)  3840        block4h_dwconv[0][0]             \n",
            "__________________________________________________________________________________________________\n",
            "block4h_activation (Activation) (None, 32, 32, 960)  0           block4h_bn[0][0]                 \n",
            "__________________________________________________________________________________________________\n",
            "block4h_se_squeeze (GlobalAvera (None, 960)          0           block4h_activation[0][0]         \n",
            "__________________________________________________________________________________________________\n",
            "block4h_se_reshape (Reshape)    (None, 1, 1, 960)    0           block4h_se_squeeze[0][0]         \n",
            "__________________________________________________________________________________________________\n",
            "block4h_se_reduce (Conv2D)      (None, 1, 1, 40)     38440       block4h_se_reshape[0][0]         \n",
            "__________________________________________________________________________________________________\n",
            "block4h_se_expand (Conv2D)      (None, 1, 1, 960)    39360       block4h_se_reduce[0][0]          \n",
            "__________________________________________________________________________________________________\n",
            "block4h_se_excite (Multiply)    (None, 32, 32, 960)  0           block4h_activation[0][0]         \n",
            "                                                                 block4h_se_expand[0][0]          \n",
            "__________________________________________________________________________________________________\n",
            "block4h_project_conv (Conv2D)   (None, 32, 32, 160)  153600      block4h_se_excite[0][0]          \n",
            "__________________________________________________________________________________________________\n",
            "block4h_project_bn (BatchNormal (None, 32, 32, 160)  640         block4h_project_conv[0][0]       \n",
            "__________________________________________________________________________________________________\n",
            "block4h_drop (Dropout)          (None, 32, 32, 160)  0           block4h_project_bn[0][0]         \n",
            "__________________________________________________________________________________________________\n",
            "block4h_add (Add)               (None, 32, 32, 160)  0           block4h_drop[0][0]               \n",
            "                                                                 block4g_add[0][0]                \n",
            "__________________________________________________________________________________________________\n",
            "block4i_expand_conv (Conv2D)    (None, 32, 32, 960)  153600      block4h_add[0][0]                \n",
            "__________________________________________________________________________________________________\n",
            "block4i_expand_bn (BatchNormali (None, 32, 32, 960)  3840        block4i_expand_conv[0][0]        \n",
            "__________________________________________________________________________________________________\n",
            "block4i_expand_activation (Acti (None, 32, 32, 960)  0           block4i_expand_bn[0][0]          \n",
            "__________________________________________________________________________________________________\n",
            "block4i_dwconv (DepthwiseConv2D (None, 32, 32, 960)  8640        block4i_expand_activation[0][0]  \n",
            "__________________________________________________________________________________________________\n",
            "block4i_bn (BatchNormalization) (None, 32, 32, 960)  3840        block4i_dwconv[0][0]             \n",
            "__________________________________________________________________________________________________\n",
            "block4i_activation (Activation) (None, 32, 32, 960)  0           block4i_bn[0][0]                 \n",
            "__________________________________________________________________________________________________\n",
            "block4i_se_squeeze (GlobalAvera (None, 960)          0           block4i_activation[0][0]         \n",
            "__________________________________________________________________________________________________\n",
            "block4i_se_reshape (Reshape)    (None, 1, 1, 960)    0           block4i_se_squeeze[0][0]         \n",
            "__________________________________________________________________________________________________\n",
            "block4i_se_reduce (Conv2D)      (None, 1, 1, 40)     38440       block4i_se_reshape[0][0]         \n",
            "__________________________________________________________________________________________________\n",
            "block4i_se_expand (Conv2D)      (None, 1, 1, 960)    39360       block4i_se_reduce[0][0]          \n",
            "__________________________________________________________________________________________________\n",
            "block4i_se_excite (Multiply)    (None, 32, 32, 960)  0           block4i_activation[0][0]         \n",
            "                                                                 block4i_se_expand[0][0]          \n",
            "__________________________________________________________________________________________________\n",
            "block4i_project_conv (Conv2D)   (None, 32, 32, 160)  153600      block4i_se_excite[0][0]          \n",
            "__________________________________________________________________________________________________\n",
            "block4i_project_bn (BatchNormal (None, 32, 32, 160)  640         block4i_project_conv[0][0]       \n",
            "__________________________________________________________________________________________________\n",
            "block4i_drop (Dropout)          (None, 32, 32, 160)  0           block4i_project_bn[0][0]         \n",
            "__________________________________________________________________________________________________\n",
            "block4i_add (Add)               (None, 32, 32, 160)  0           block4i_drop[0][0]               \n",
            "                                                                 block4h_add[0][0]                \n",
            "__________________________________________________________________________________________________\n",
            "block4j_expand_conv (Conv2D)    (None, 32, 32, 960)  153600      block4i_add[0][0]                \n",
            "__________________________________________________________________________________________________\n",
            "block4j_expand_bn (BatchNormali (None, 32, 32, 960)  3840        block4j_expand_conv[0][0]        \n",
            "__________________________________________________________________________________________________\n",
            "block4j_expand_activation (Acti (None, 32, 32, 960)  0           block4j_expand_bn[0][0]          \n",
            "__________________________________________________________________________________________________\n",
            "block4j_dwconv (DepthwiseConv2D (None, 32, 32, 960)  8640        block4j_expand_activation[0][0]  \n",
            "__________________________________________________________________________________________________\n",
            "block4j_bn (BatchNormalization) (None, 32, 32, 960)  3840        block4j_dwconv[0][0]             \n",
            "__________________________________________________________________________________________________\n",
            "block4j_activation (Activation) (None, 32, 32, 960)  0           block4j_bn[0][0]                 \n",
            "__________________________________________________________________________________________________\n",
            "block4j_se_squeeze (GlobalAvera (None, 960)          0           block4j_activation[0][0]         \n",
            "__________________________________________________________________________________________________\n",
            "block4j_se_reshape (Reshape)    (None, 1, 1, 960)    0           block4j_se_squeeze[0][0]         \n",
            "__________________________________________________________________________________________________\n",
            "block4j_se_reduce (Conv2D)      (None, 1, 1, 40)     38440       block4j_se_reshape[0][0]         \n",
            "__________________________________________________________________________________________________\n",
            "block4j_se_expand (Conv2D)      (None, 1, 1, 960)    39360       block4j_se_reduce[0][0]          \n",
            "__________________________________________________________________________________________________\n",
            "block4j_se_excite (Multiply)    (None, 32, 32, 960)  0           block4j_activation[0][0]         \n",
            "                                                                 block4j_se_expand[0][0]          \n",
            "__________________________________________________________________________________________________\n",
            "block4j_project_conv (Conv2D)   (None, 32, 32, 160)  153600      block4j_se_excite[0][0]          \n",
            "__________________________________________________________________________________________________\n",
            "block4j_project_bn (BatchNormal (None, 32, 32, 160)  640         block4j_project_conv[0][0]       \n",
            "__________________________________________________________________________________________________\n",
            "block4j_drop (Dropout)          (None, 32, 32, 160)  0           block4j_project_bn[0][0]         \n",
            "__________________________________________________________________________________________________\n",
            "block4j_add (Add)               (None, 32, 32, 160)  0           block4j_drop[0][0]               \n",
            "                                                                 block4i_add[0][0]                \n",
            "__________________________________________________________________________________________________\n",
            "block5a_expand_conv (Conv2D)    (None, 32, 32, 960)  153600      block4j_add[0][0]                \n",
            "__________________________________________________________________________________________________\n",
            "block5a_expand_bn (BatchNormali (None, 32, 32, 960)  3840        block5a_expand_conv[0][0]        \n",
            "__________________________________________________________________________________________________\n",
            "block5a_expand_activation (Acti (None, 32, 32, 960)  0           block5a_expand_bn[0][0]          \n",
            "__________________________________________________________________________________________________\n",
            "block5a_dwconv (DepthwiseConv2D (None, 32, 32, 960)  24000       block5a_expand_activation[0][0]  \n",
            "__________________________________________________________________________________________________\n",
            "block5a_bn (BatchNormalization) (None, 32, 32, 960)  3840        block5a_dwconv[0][0]             \n",
            "__________________________________________________________________________________________________\n",
            "block5a_activation (Activation) (None, 32, 32, 960)  0           block5a_bn[0][0]                 \n",
            "__________________________________________________________________________________________________\n",
            "block5a_se_squeeze (GlobalAvera (None, 960)          0           block5a_activation[0][0]         \n",
            "__________________________________________________________________________________________________\n",
            "block5a_se_reshape (Reshape)    (None, 1, 1, 960)    0           block5a_se_squeeze[0][0]         \n",
            "__________________________________________________________________________________________________\n",
            "block5a_se_reduce (Conv2D)      (None, 1, 1, 40)     38440       block5a_se_reshape[0][0]         \n",
            "__________________________________________________________________________________________________\n",
            "block5a_se_expand (Conv2D)      (None, 1, 1, 960)    39360       block5a_se_reduce[0][0]          \n",
            "__________________________________________________________________________________________________\n",
            "block5a_se_excite (Multiply)    (None, 32, 32, 960)  0           block5a_activation[0][0]         \n",
            "                                                                 block5a_se_expand[0][0]          \n",
            "__________________________________________________________________________________________________\n",
            "block5a_project_conv (Conv2D)   (None, 32, 32, 224)  215040      block5a_se_excite[0][0]          \n",
            "__________________________________________________________________________________________________\n",
            "block5a_project_bn (BatchNormal (None, 32, 32, 224)  896         block5a_project_conv[0][0]       \n",
            "__________________________________________________________________________________________________\n",
            "block5b_expand_conv (Conv2D)    (None, 32, 32, 1344) 301056      block5a_project_bn[0][0]         \n",
            "__________________________________________________________________________________________________\n",
            "block5b_expand_bn (BatchNormali (None, 32, 32, 1344) 5376        block5b_expand_conv[0][0]        \n",
            "__________________________________________________________________________________________________\n",
            "block5b_expand_activation (Acti (None, 32, 32, 1344) 0           block5b_expand_bn[0][0]          \n",
            "__________________________________________________________________________________________________\n",
            "block5b_dwconv (DepthwiseConv2D (None, 32, 32, 1344) 33600       block5b_expand_activation[0][0]  \n",
            "__________________________________________________________________________________________________\n",
            "block5b_bn (BatchNormalization) (None, 32, 32, 1344) 5376        block5b_dwconv[0][0]             \n",
            "__________________________________________________________________________________________________\n",
            "block5b_activation (Activation) (None, 32, 32, 1344) 0           block5b_bn[0][0]                 \n",
            "__________________________________________________________________________________________________\n",
            "block5b_se_squeeze (GlobalAvera (None, 1344)         0           block5b_activation[0][0]         \n",
            "__________________________________________________________________________________________________\n",
            "block5b_se_reshape (Reshape)    (None, 1, 1, 1344)   0           block5b_se_squeeze[0][0]         \n",
            "__________________________________________________________________________________________________\n",
            "block5b_se_reduce (Conv2D)      (None, 1, 1, 56)     75320       block5b_se_reshape[0][0]         \n",
            "__________________________________________________________________________________________________\n",
            "block5b_se_expand (Conv2D)      (None, 1, 1, 1344)   76608       block5b_se_reduce[0][0]          \n",
            "__________________________________________________________________________________________________\n",
            "block5b_se_excite (Multiply)    (None, 32, 32, 1344) 0           block5b_activation[0][0]         \n",
            "                                                                 block5b_se_expand[0][0]          \n",
            "__________________________________________________________________________________________________\n",
            "block5b_project_conv (Conv2D)   (None, 32, 32, 224)  301056      block5b_se_excite[0][0]          \n",
            "__________________________________________________________________________________________________\n",
            "block5b_project_bn (BatchNormal (None, 32, 32, 224)  896         block5b_project_conv[0][0]       \n",
            "__________________________________________________________________________________________________\n",
            "block5b_drop (Dropout)          (None, 32, 32, 224)  0           block5b_project_bn[0][0]         \n",
            "__________________________________________________________________________________________________\n",
            "block5b_add (Add)               (None, 32, 32, 224)  0           block5b_drop[0][0]               \n",
            "                                                                 block5a_project_bn[0][0]         \n",
            "__________________________________________________________________________________________________\n",
            "block5c_expand_conv (Conv2D)    (None, 32, 32, 1344) 301056      block5b_add[0][0]                \n",
            "__________________________________________________________________________________________________\n",
            "block5c_expand_bn (BatchNormali (None, 32, 32, 1344) 5376        block5c_expand_conv[0][0]        \n",
            "__________________________________________________________________________________________________\n",
            "block5c_expand_activation (Acti (None, 32, 32, 1344) 0           block5c_expand_bn[0][0]          \n",
            "__________________________________________________________________________________________________\n",
            "block5c_dwconv (DepthwiseConv2D (None, 32, 32, 1344) 33600       block5c_expand_activation[0][0]  \n",
            "__________________________________________________________________________________________________\n",
            "block5c_bn (BatchNormalization) (None, 32, 32, 1344) 5376        block5c_dwconv[0][0]             \n",
            "__________________________________________________________________________________________________\n",
            "block5c_activation (Activation) (None, 32, 32, 1344) 0           block5c_bn[0][0]                 \n",
            "__________________________________________________________________________________________________\n",
            "block5c_se_squeeze (GlobalAvera (None, 1344)         0           block5c_activation[0][0]         \n",
            "__________________________________________________________________________________________________\n",
            "block5c_se_reshape (Reshape)    (None, 1, 1, 1344)   0           block5c_se_squeeze[0][0]         \n",
            "__________________________________________________________________________________________________\n",
            "block5c_se_reduce (Conv2D)      (None, 1, 1, 56)     75320       block5c_se_reshape[0][0]         \n",
            "__________________________________________________________________________________________________\n",
            "block5c_se_expand (Conv2D)      (None, 1, 1, 1344)   76608       block5c_se_reduce[0][0]          \n",
            "__________________________________________________________________________________________________\n",
            "block5c_se_excite (Multiply)    (None, 32, 32, 1344) 0           block5c_activation[0][0]         \n",
            "                                                                 block5c_se_expand[0][0]          \n",
            "__________________________________________________________________________________________________\n",
            "block5c_project_conv (Conv2D)   (None, 32, 32, 224)  301056      block5c_se_excite[0][0]          \n",
            "__________________________________________________________________________________________________\n",
            "block5c_project_bn (BatchNormal (None, 32, 32, 224)  896         block5c_project_conv[0][0]       \n",
            "__________________________________________________________________________________________________\n",
            "block5c_drop (Dropout)          (None, 32, 32, 224)  0           block5c_project_bn[0][0]         \n",
            "__________________________________________________________________________________________________\n",
            "block5c_add (Add)               (None, 32, 32, 224)  0           block5c_drop[0][0]               \n",
            "                                                                 block5b_add[0][0]                \n",
            "__________________________________________________________________________________________________\n",
            "block5d_expand_conv (Conv2D)    (None, 32, 32, 1344) 301056      block5c_add[0][0]                \n",
            "__________________________________________________________________________________________________\n",
            "block5d_expand_bn (BatchNormali (None, 32, 32, 1344) 5376        block5d_expand_conv[0][0]        \n",
            "__________________________________________________________________________________________________\n",
            "block5d_expand_activation (Acti (None, 32, 32, 1344) 0           block5d_expand_bn[0][0]          \n",
            "__________________________________________________________________________________________________\n",
            "block5d_dwconv (DepthwiseConv2D (None, 32, 32, 1344) 33600       block5d_expand_activation[0][0]  \n",
            "__________________________________________________________________________________________________\n",
            "block5d_bn (BatchNormalization) (None, 32, 32, 1344) 5376        block5d_dwconv[0][0]             \n",
            "__________________________________________________________________________________________________\n",
            "block5d_activation (Activation) (None, 32, 32, 1344) 0           block5d_bn[0][0]                 \n",
            "__________________________________________________________________________________________________\n",
            "block5d_se_squeeze (GlobalAvera (None, 1344)         0           block5d_activation[0][0]         \n",
            "__________________________________________________________________________________________________\n",
            "block5d_se_reshape (Reshape)    (None, 1, 1, 1344)   0           block5d_se_squeeze[0][0]         \n",
            "__________________________________________________________________________________________________\n",
            "block5d_se_reduce (Conv2D)      (None, 1, 1, 56)     75320       block5d_se_reshape[0][0]         \n",
            "__________________________________________________________________________________________________\n",
            "block5d_se_expand (Conv2D)      (None, 1, 1, 1344)   76608       block5d_se_reduce[0][0]          \n",
            "__________________________________________________________________________________________________\n",
            "block5d_se_excite (Multiply)    (None, 32, 32, 1344) 0           block5d_activation[0][0]         \n",
            "                                                                 block5d_se_expand[0][0]          \n",
            "__________________________________________________________________________________________________\n",
            "block5d_project_conv (Conv2D)   (None, 32, 32, 224)  301056      block5d_se_excite[0][0]          \n",
            "__________________________________________________________________________________________________\n",
            "block5d_project_bn (BatchNormal (None, 32, 32, 224)  896         block5d_project_conv[0][0]       \n",
            "__________________________________________________________________________________________________\n",
            "block5d_drop (Dropout)          (None, 32, 32, 224)  0           block5d_project_bn[0][0]         \n",
            "__________________________________________________________________________________________________\n",
            "block5d_add (Add)               (None, 32, 32, 224)  0           block5d_drop[0][0]               \n",
            "                                                                 block5c_add[0][0]                \n",
            "__________________________________________________________________________________________________\n",
            "block5e_expand_conv (Conv2D)    (None, 32, 32, 1344) 301056      block5d_add[0][0]                \n",
            "__________________________________________________________________________________________________\n",
            "block5e_expand_bn (BatchNormali (None, 32, 32, 1344) 5376        block5e_expand_conv[0][0]        \n",
            "__________________________________________________________________________________________________\n",
            "block5e_expand_activation (Acti (None, 32, 32, 1344) 0           block5e_expand_bn[0][0]          \n",
            "__________________________________________________________________________________________________\n",
            "block5e_dwconv (DepthwiseConv2D (None, 32, 32, 1344) 33600       block5e_expand_activation[0][0]  \n",
            "__________________________________________________________________________________________________\n",
            "block5e_bn (BatchNormalization) (None, 32, 32, 1344) 5376        block5e_dwconv[0][0]             \n",
            "__________________________________________________________________________________________________\n",
            "block5e_activation (Activation) (None, 32, 32, 1344) 0           block5e_bn[0][0]                 \n",
            "__________________________________________________________________________________________________\n",
            "block5e_se_squeeze (GlobalAvera (None, 1344)         0           block5e_activation[0][0]         \n",
            "__________________________________________________________________________________________________\n",
            "block5e_se_reshape (Reshape)    (None, 1, 1, 1344)   0           block5e_se_squeeze[0][0]         \n",
            "__________________________________________________________________________________________________\n",
            "block5e_se_reduce (Conv2D)      (None, 1, 1, 56)     75320       block5e_se_reshape[0][0]         \n",
            "__________________________________________________________________________________________________\n",
            "block5e_se_expand (Conv2D)      (None, 1, 1, 1344)   76608       block5e_se_reduce[0][0]          \n",
            "__________________________________________________________________________________________________\n",
            "block5e_se_excite (Multiply)    (None, 32, 32, 1344) 0           block5e_activation[0][0]         \n",
            "                                                                 block5e_se_expand[0][0]          \n",
            "__________________________________________________________________________________________________\n",
            "block5e_project_conv (Conv2D)   (None, 32, 32, 224)  301056      block5e_se_excite[0][0]          \n",
            "__________________________________________________________________________________________________\n",
            "block5e_project_bn (BatchNormal (None, 32, 32, 224)  896         block5e_project_conv[0][0]       \n",
            "__________________________________________________________________________________________________\n",
            "block5e_drop (Dropout)          (None, 32, 32, 224)  0           block5e_project_bn[0][0]         \n",
            "__________________________________________________________________________________________________\n",
            "block5e_add (Add)               (None, 32, 32, 224)  0           block5e_drop[0][0]               \n",
            "                                                                 block5d_add[0][0]                \n",
            "__________________________________________________________________________________________________\n",
            "block5f_expand_conv (Conv2D)    (None, 32, 32, 1344) 301056      block5e_add[0][0]                \n",
            "__________________________________________________________________________________________________\n",
            "block5f_expand_bn (BatchNormali (None, 32, 32, 1344) 5376        block5f_expand_conv[0][0]        \n",
            "__________________________________________________________________________________________________\n",
            "block5f_expand_activation (Acti (None, 32, 32, 1344) 0           block5f_expand_bn[0][0]          \n",
            "__________________________________________________________________________________________________\n",
            "block5f_dwconv (DepthwiseConv2D (None, 32, 32, 1344) 33600       block5f_expand_activation[0][0]  \n",
            "__________________________________________________________________________________________________\n",
            "block5f_bn (BatchNormalization) (None, 32, 32, 1344) 5376        block5f_dwconv[0][0]             \n",
            "__________________________________________________________________________________________________\n",
            "block5f_activation (Activation) (None, 32, 32, 1344) 0           block5f_bn[0][0]                 \n",
            "__________________________________________________________________________________________________\n",
            "block5f_se_squeeze (GlobalAvera (None, 1344)         0           block5f_activation[0][0]         \n",
            "__________________________________________________________________________________________________\n",
            "block5f_se_reshape (Reshape)    (None, 1, 1, 1344)   0           block5f_se_squeeze[0][0]         \n",
            "__________________________________________________________________________________________________\n",
            "block5f_se_reduce (Conv2D)      (None, 1, 1, 56)     75320       block5f_se_reshape[0][0]         \n",
            "__________________________________________________________________________________________________\n",
            "block5f_se_expand (Conv2D)      (None, 1, 1, 1344)   76608       block5f_se_reduce[0][0]          \n",
            "__________________________________________________________________________________________________\n",
            "block5f_se_excite (Multiply)    (None, 32, 32, 1344) 0           block5f_activation[0][0]         \n",
            "                                                                 block5f_se_expand[0][0]          \n",
            "__________________________________________________________________________________________________\n",
            "block5f_project_conv (Conv2D)   (None, 32, 32, 224)  301056      block5f_se_excite[0][0]          \n",
            "__________________________________________________________________________________________________\n",
            "block5f_project_bn (BatchNormal (None, 32, 32, 224)  896         block5f_project_conv[0][0]       \n",
            "__________________________________________________________________________________________________\n",
            "block5f_drop (Dropout)          (None, 32, 32, 224)  0           block5f_project_bn[0][0]         \n",
            "__________________________________________________________________________________________________\n",
            "block5f_add (Add)               (None, 32, 32, 224)  0           block5f_drop[0][0]               \n",
            "                                                                 block5e_add[0][0]                \n",
            "__________________________________________________________________________________________________\n",
            "block5g_expand_conv (Conv2D)    (None, 32, 32, 1344) 301056      block5f_add[0][0]                \n",
            "__________________________________________________________________________________________________\n",
            "block5g_expand_bn (BatchNormali (None, 32, 32, 1344) 5376        block5g_expand_conv[0][0]        \n",
            "__________________________________________________________________________________________________\n",
            "block5g_expand_activation (Acti (None, 32, 32, 1344) 0           block5g_expand_bn[0][0]          \n",
            "__________________________________________________________________________________________________\n",
            "block5g_dwconv (DepthwiseConv2D (None, 32, 32, 1344) 33600       block5g_expand_activation[0][0]  \n",
            "__________________________________________________________________________________________________\n",
            "block5g_bn (BatchNormalization) (None, 32, 32, 1344) 5376        block5g_dwconv[0][0]             \n",
            "__________________________________________________________________________________________________\n",
            "block5g_activation (Activation) (None, 32, 32, 1344) 0           block5g_bn[0][0]                 \n",
            "__________________________________________________________________________________________________\n",
            "block5g_se_squeeze (GlobalAvera (None, 1344)         0           block5g_activation[0][0]         \n",
            "__________________________________________________________________________________________________\n",
            "block5g_se_reshape (Reshape)    (None, 1, 1, 1344)   0           block5g_se_squeeze[0][0]         \n",
            "__________________________________________________________________________________________________\n",
            "block5g_se_reduce (Conv2D)      (None, 1, 1, 56)     75320       block5g_se_reshape[0][0]         \n",
            "__________________________________________________________________________________________________\n",
            "block5g_se_expand (Conv2D)      (None, 1, 1, 1344)   76608       block5g_se_reduce[0][0]          \n",
            "__________________________________________________________________________________________________\n",
            "block5g_se_excite (Multiply)    (None, 32, 32, 1344) 0           block5g_activation[0][0]         \n",
            "                                                                 block5g_se_expand[0][0]          \n",
            "__________________________________________________________________________________________________\n",
            "block5g_project_conv (Conv2D)   (None, 32, 32, 224)  301056      block5g_se_excite[0][0]          \n",
            "__________________________________________________________________________________________________\n",
            "block5g_project_bn (BatchNormal (None, 32, 32, 224)  896         block5g_project_conv[0][0]       \n",
            "__________________________________________________________________________________________________\n",
            "block5g_drop (Dropout)          (None, 32, 32, 224)  0           block5g_project_bn[0][0]         \n",
            "__________________________________________________________________________________________________\n",
            "block5g_add (Add)               (None, 32, 32, 224)  0           block5g_drop[0][0]               \n",
            "                                                                 block5f_add[0][0]                \n",
            "__________________________________________________________________________________________________\n",
            "block5h_expand_conv (Conv2D)    (None, 32, 32, 1344) 301056      block5g_add[0][0]                \n",
            "__________________________________________________________________________________________________\n",
            "block5h_expand_bn (BatchNormali (None, 32, 32, 1344) 5376        block5h_expand_conv[0][0]        \n",
            "__________________________________________________________________________________________________\n",
            "block5h_expand_activation (Acti (None, 32, 32, 1344) 0           block5h_expand_bn[0][0]          \n",
            "__________________________________________________________________________________________________\n",
            "block5h_dwconv (DepthwiseConv2D (None, 32, 32, 1344) 33600       block5h_expand_activation[0][0]  \n",
            "__________________________________________________________________________________________________\n",
            "block5h_bn (BatchNormalization) (None, 32, 32, 1344) 5376        block5h_dwconv[0][0]             \n",
            "__________________________________________________________________________________________________\n",
            "block5h_activation (Activation) (None, 32, 32, 1344) 0           block5h_bn[0][0]                 \n",
            "__________________________________________________________________________________________________\n",
            "block5h_se_squeeze (GlobalAvera (None, 1344)         0           block5h_activation[0][0]         \n",
            "__________________________________________________________________________________________________\n",
            "block5h_se_reshape (Reshape)    (None, 1, 1, 1344)   0           block5h_se_squeeze[0][0]         \n",
            "__________________________________________________________________________________________________\n",
            "block5h_se_reduce (Conv2D)      (None, 1, 1, 56)     75320       block5h_se_reshape[0][0]         \n",
            "__________________________________________________________________________________________________\n",
            "block5h_se_expand (Conv2D)      (None, 1, 1, 1344)   76608       block5h_se_reduce[0][0]          \n",
            "__________________________________________________________________________________________________\n",
            "block5h_se_excite (Multiply)    (None, 32, 32, 1344) 0           block5h_activation[0][0]         \n",
            "                                                                 block5h_se_expand[0][0]          \n",
            "__________________________________________________________________________________________________\n",
            "block5h_project_conv (Conv2D)   (None, 32, 32, 224)  301056      block5h_se_excite[0][0]          \n",
            "__________________________________________________________________________________________________\n",
            "block5h_project_bn (BatchNormal (None, 32, 32, 224)  896         block5h_project_conv[0][0]       \n",
            "__________________________________________________________________________________________________\n",
            "block5h_drop (Dropout)          (None, 32, 32, 224)  0           block5h_project_bn[0][0]         \n",
            "__________________________________________________________________________________________________\n",
            "block5h_add (Add)               (None, 32, 32, 224)  0           block5h_drop[0][0]               \n",
            "                                                                 block5g_add[0][0]                \n",
            "__________________________________________________________________________________________________\n",
            "block5i_expand_conv (Conv2D)    (None, 32, 32, 1344) 301056      block5h_add[0][0]                \n",
            "__________________________________________________________________________________________________\n",
            "block5i_expand_bn (BatchNormali (None, 32, 32, 1344) 5376        block5i_expand_conv[0][0]        \n",
            "__________________________________________________________________________________________________\n",
            "block5i_expand_activation (Acti (None, 32, 32, 1344) 0           block5i_expand_bn[0][0]          \n",
            "__________________________________________________________________________________________________\n",
            "block5i_dwconv (DepthwiseConv2D (None, 32, 32, 1344) 33600       block5i_expand_activation[0][0]  \n",
            "__________________________________________________________________________________________________\n",
            "block5i_bn (BatchNormalization) (None, 32, 32, 1344) 5376        block5i_dwconv[0][0]             \n",
            "__________________________________________________________________________________________________\n",
            "block5i_activation (Activation) (None, 32, 32, 1344) 0           block5i_bn[0][0]                 \n",
            "__________________________________________________________________________________________________\n",
            "block5i_se_squeeze (GlobalAvera (None, 1344)         0           block5i_activation[0][0]         \n",
            "__________________________________________________________________________________________________\n",
            "block5i_se_reshape (Reshape)    (None, 1, 1, 1344)   0           block5i_se_squeeze[0][0]         \n",
            "__________________________________________________________________________________________________\n",
            "block5i_se_reduce (Conv2D)      (None, 1, 1, 56)     75320       block5i_se_reshape[0][0]         \n",
            "__________________________________________________________________________________________________\n",
            "block5i_se_expand (Conv2D)      (None, 1, 1, 1344)   76608       block5i_se_reduce[0][0]          \n",
            "__________________________________________________________________________________________________\n",
            "block5i_se_excite (Multiply)    (None, 32, 32, 1344) 0           block5i_activation[0][0]         \n",
            "                                                                 block5i_se_expand[0][0]          \n",
            "__________________________________________________________________________________________________\n",
            "block5i_project_conv (Conv2D)   (None, 32, 32, 224)  301056      block5i_se_excite[0][0]          \n",
            "__________________________________________________________________________________________________\n",
            "block5i_project_bn (BatchNormal (None, 32, 32, 224)  896         block5i_project_conv[0][0]       \n",
            "__________________________________________________________________________________________________\n",
            "block5i_drop (Dropout)          (None, 32, 32, 224)  0           block5i_project_bn[0][0]         \n",
            "__________________________________________________________________________________________________\n",
            "block5i_add (Add)               (None, 32, 32, 224)  0           block5i_drop[0][0]               \n",
            "                                                                 block5h_add[0][0]                \n",
            "__________________________________________________________________________________________________\n",
            "block5j_expand_conv (Conv2D)    (None, 32, 32, 1344) 301056      block5i_add[0][0]                \n",
            "__________________________________________________________________________________________________\n",
            "block5j_expand_bn (BatchNormali (None, 32, 32, 1344) 5376        block5j_expand_conv[0][0]        \n",
            "__________________________________________________________________________________________________\n",
            "block5j_expand_activation (Acti (None, 32, 32, 1344) 0           block5j_expand_bn[0][0]          \n",
            "__________________________________________________________________________________________________\n",
            "block5j_dwconv (DepthwiseConv2D (None, 32, 32, 1344) 33600       block5j_expand_activation[0][0]  \n",
            "__________________________________________________________________________________________________\n",
            "block5j_bn (BatchNormalization) (None, 32, 32, 1344) 5376        block5j_dwconv[0][0]             \n",
            "__________________________________________________________________________________________________\n",
            "block5j_activation (Activation) (None, 32, 32, 1344) 0           block5j_bn[0][0]                 \n",
            "__________________________________________________________________________________________________\n",
            "block5j_se_squeeze (GlobalAvera (None, 1344)         0           block5j_activation[0][0]         \n",
            "__________________________________________________________________________________________________\n",
            "block5j_se_reshape (Reshape)    (None, 1, 1, 1344)   0           block5j_se_squeeze[0][0]         \n",
            "__________________________________________________________________________________________________\n",
            "block5j_se_reduce (Conv2D)      (None, 1, 1, 56)     75320       block5j_se_reshape[0][0]         \n",
            "__________________________________________________________________________________________________\n",
            "block5j_se_expand (Conv2D)      (None, 1, 1, 1344)   76608       block5j_se_reduce[0][0]          \n",
            "__________________________________________________________________________________________________\n",
            "block5j_se_excite (Multiply)    (None, 32, 32, 1344) 0           block5j_activation[0][0]         \n",
            "                                                                 block5j_se_expand[0][0]          \n",
            "__________________________________________________________________________________________________\n",
            "block5j_project_conv (Conv2D)   (None, 32, 32, 224)  301056      block5j_se_excite[0][0]          \n",
            "__________________________________________________________________________________________________\n",
            "block5j_project_bn (BatchNormal (None, 32, 32, 224)  896         block5j_project_conv[0][0]       \n",
            "__________________________________________________________________________________________________\n",
            "block5j_drop (Dropout)          (None, 32, 32, 224)  0           block5j_project_bn[0][0]         \n",
            "__________________________________________________________________________________________________\n",
            "block5j_add (Add)               (None, 32, 32, 224)  0           block5j_drop[0][0]               \n",
            "                                                                 block5i_add[0][0]                \n",
            "__________________________________________________________________________________________________\n",
            "block6a_expand_conv (Conv2D)    (None, 32, 32, 1344) 301056      block5j_add[0][0]                \n",
            "__________________________________________________________________________________________________\n",
            "block6a_expand_bn (BatchNormali (None, 32, 32, 1344) 5376        block6a_expand_conv[0][0]        \n",
            "__________________________________________________________________________________________________\n",
            "block6a_expand_activation (Acti (None, 32, 32, 1344) 0           block6a_expand_bn[0][0]          \n",
            "__________________________________________________________________________________________________\n",
            "block6a_dwconv_pad (ZeroPadding (None, 35, 35, 1344) 0           block6a_expand_activation[0][0]  \n",
            "__________________________________________________________________________________________________\n",
            "block6a_dwconv (DepthwiseConv2D (None, 16, 16, 1344) 33600       block6a_dwconv_pad[0][0]         \n",
            "__________________________________________________________________________________________________\n",
            "block6a_bn (BatchNormalization) (None, 16, 16, 1344) 5376        block6a_dwconv[0][0]             \n",
            "__________________________________________________________________________________________________\n",
            "block6a_activation (Activation) (None, 16, 16, 1344) 0           block6a_bn[0][0]                 \n",
            "__________________________________________________________________________________________________\n",
            "block6a_se_squeeze (GlobalAvera (None, 1344)         0           block6a_activation[0][0]         \n",
            "__________________________________________________________________________________________________\n",
            "block6a_se_reshape (Reshape)    (None, 1, 1, 1344)   0           block6a_se_squeeze[0][0]         \n",
            "__________________________________________________________________________________________________\n",
            "block6a_se_reduce (Conv2D)      (None, 1, 1, 56)     75320       block6a_se_reshape[0][0]         \n",
            "__________________________________________________________________________________________________\n",
            "block6a_se_expand (Conv2D)      (None, 1, 1, 1344)   76608       block6a_se_reduce[0][0]          \n",
            "__________________________________________________________________________________________________\n",
            "block6a_se_excite (Multiply)    (None, 16, 16, 1344) 0           block6a_activation[0][0]         \n",
            "                                                                 block6a_se_expand[0][0]          \n",
            "__________________________________________________________________________________________________\n",
            "block6a_project_conv (Conv2D)   (None, 16, 16, 384)  516096      block6a_se_excite[0][0]          \n",
            "__________________________________________________________________________________________________\n",
            "block6a_project_bn (BatchNormal (None, 16, 16, 384)  1536        block6a_project_conv[0][0]       \n",
            "__________________________________________________________________________________________________\n",
            "block6b_expand_conv (Conv2D)    (None, 16, 16, 2304) 884736      block6a_project_bn[0][0]         \n",
            "__________________________________________________________________________________________________\n",
            "block6b_expand_bn (BatchNormali (None, 16, 16, 2304) 9216        block6b_expand_conv[0][0]        \n",
            "__________________________________________________________________________________________________\n",
            "block6b_expand_activation (Acti (None, 16, 16, 2304) 0           block6b_expand_bn[0][0]          \n",
            "__________________________________________________________________________________________________\n",
            "block6b_dwconv (DepthwiseConv2D (None, 16, 16, 2304) 57600       block6b_expand_activation[0][0]  \n",
            "__________________________________________________________________________________________________\n",
            "block6b_bn (BatchNormalization) (None, 16, 16, 2304) 9216        block6b_dwconv[0][0]             \n",
            "__________________________________________________________________________________________________\n",
            "block6b_activation (Activation) (None, 16, 16, 2304) 0           block6b_bn[0][0]                 \n",
            "__________________________________________________________________________________________________\n",
            "block6b_se_squeeze (GlobalAvera (None, 2304)         0           block6b_activation[0][0]         \n",
            "__________________________________________________________________________________________________\n",
            "block6b_se_reshape (Reshape)    (None, 1, 1, 2304)   0           block6b_se_squeeze[0][0]         \n",
            "__________________________________________________________________________________________________\n",
            "block6b_se_reduce (Conv2D)      (None, 1, 1, 96)     221280      block6b_se_reshape[0][0]         \n",
            "__________________________________________________________________________________________________\n",
            "block6b_se_expand (Conv2D)      (None, 1, 1, 2304)   223488      block6b_se_reduce[0][0]          \n",
            "__________________________________________________________________________________________________\n",
            "block6b_se_excite (Multiply)    (None, 16, 16, 2304) 0           block6b_activation[0][0]         \n",
            "                                                                 block6b_se_expand[0][0]          \n",
            "__________________________________________________________________________________________________\n",
            "block6b_project_conv (Conv2D)   (None, 16, 16, 384)  884736      block6b_se_excite[0][0]          \n",
            "__________________________________________________________________________________________________\n",
            "block6b_project_bn (BatchNormal (None, 16, 16, 384)  1536        block6b_project_conv[0][0]       \n",
            "__________________________________________________________________________________________________\n",
            "block6b_drop (Dropout)          (None, 16, 16, 384)  0           block6b_project_bn[0][0]         \n",
            "__________________________________________________________________________________________________\n",
            "block6b_add (Add)               (None, 16, 16, 384)  0           block6b_drop[0][0]               \n",
            "                                                                 block6a_project_bn[0][0]         \n",
            "__________________________________________________________________________________________________\n",
            "block6c_expand_conv (Conv2D)    (None, 16, 16, 2304) 884736      block6b_add[0][0]                \n",
            "__________________________________________________________________________________________________\n",
            "block6c_expand_bn (BatchNormali (None, 16, 16, 2304) 9216        block6c_expand_conv[0][0]        \n",
            "__________________________________________________________________________________________________\n",
            "block6c_expand_activation (Acti (None, 16, 16, 2304) 0           block6c_expand_bn[0][0]          \n",
            "__________________________________________________________________________________________________\n",
            "block6c_dwconv (DepthwiseConv2D (None, 16, 16, 2304) 57600       block6c_expand_activation[0][0]  \n",
            "__________________________________________________________________________________________________\n",
            "block6c_bn (BatchNormalization) (None, 16, 16, 2304) 9216        block6c_dwconv[0][0]             \n",
            "__________________________________________________________________________________________________\n",
            "block6c_activation (Activation) (None, 16, 16, 2304) 0           block6c_bn[0][0]                 \n",
            "__________________________________________________________________________________________________\n",
            "block6c_se_squeeze (GlobalAvera (None, 2304)         0           block6c_activation[0][0]         \n",
            "__________________________________________________________________________________________________\n",
            "block6c_se_reshape (Reshape)    (None, 1, 1, 2304)   0           block6c_se_squeeze[0][0]         \n",
            "__________________________________________________________________________________________________\n",
            "block6c_se_reduce (Conv2D)      (None, 1, 1, 96)     221280      block6c_se_reshape[0][0]         \n",
            "__________________________________________________________________________________________________\n",
            "block6c_se_expand (Conv2D)      (None, 1, 1, 2304)   223488      block6c_se_reduce[0][0]          \n",
            "__________________________________________________________________________________________________\n",
            "block6c_se_excite (Multiply)    (None, 16, 16, 2304) 0           block6c_activation[0][0]         \n",
            "                                                                 block6c_se_expand[0][0]          \n",
            "__________________________________________________________________________________________________\n",
            "block6c_project_conv (Conv2D)   (None, 16, 16, 384)  884736      block6c_se_excite[0][0]          \n",
            "__________________________________________________________________________________________________\n",
            "block6c_project_bn (BatchNormal (None, 16, 16, 384)  1536        block6c_project_conv[0][0]       \n",
            "__________________________________________________________________________________________________\n",
            "block6c_drop (Dropout)          (None, 16, 16, 384)  0           block6c_project_bn[0][0]         \n",
            "__________________________________________________________________________________________________\n",
            "block6c_add (Add)               (None, 16, 16, 384)  0           block6c_drop[0][0]               \n",
            "                                                                 block6b_add[0][0]                \n",
            "__________________________________________________________________________________________________\n",
            "block6d_expand_conv (Conv2D)    (None, 16, 16, 2304) 884736      block6c_add[0][0]                \n",
            "__________________________________________________________________________________________________\n",
            "block6d_expand_bn (BatchNormali (None, 16, 16, 2304) 9216        block6d_expand_conv[0][0]        \n",
            "__________________________________________________________________________________________________\n",
            "block6d_expand_activation (Acti (None, 16, 16, 2304) 0           block6d_expand_bn[0][0]          \n",
            "__________________________________________________________________________________________________\n",
            "block6d_dwconv (DepthwiseConv2D (None, 16, 16, 2304) 57600       block6d_expand_activation[0][0]  \n",
            "__________________________________________________________________________________________________\n",
            "block6d_bn (BatchNormalization) (None, 16, 16, 2304) 9216        block6d_dwconv[0][0]             \n",
            "__________________________________________________________________________________________________\n",
            "block6d_activation (Activation) (None, 16, 16, 2304) 0           block6d_bn[0][0]                 \n",
            "__________________________________________________________________________________________________\n",
            "block6d_se_squeeze (GlobalAvera (None, 2304)         0           block6d_activation[0][0]         \n",
            "__________________________________________________________________________________________________\n",
            "block6d_se_reshape (Reshape)    (None, 1, 1, 2304)   0           block6d_se_squeeze[0][0]         \n",
            "__________________________________________________________________________________________________\n",
            "block6d_se_reduce (Conv2D)      (None, 1, 1, 96)     221280      block6d_se_reshape[0][0]         \n",
            "__________________________________________________________________________________________________\n",
            "block6d_se_expand (Conv2D)      (None, 1, 1, 2304)   223488      block6d_se_reduce[0][0]          \n",
            "__________________________________________________________________________________________________\n",
            "block6d_se_excite (Multiply)    (None, 16, 16, 2304) 0           block6d_activation[0][0]         \n",
            "                                                                 block6d_se_expand[0][0]          \n",
            "__________________________________________________________________________________________________\n",
            "block6d_project_conv (Conv2D)   (None, 16, 16, 384)  884736      block6d_se_excite[0][0]          \n",
            "__________________________________________________________________________________________________\n",
            "block6d_project_bn (BatchNormal (None, 16, 16, 384)  1536        block6d_project_conv[0][0]       \n",
            "__________________________________________________________________________________________________\n",
            "block6d_drop (Dropout)          (None, 16, 16, 384)  0           block6d_project_bn[0][0]         \n",
            "__________________________________________________________________________________________________\n",
            "block6d_add (Add)               (None, 16, 16, 384)  0           block6d_drop[0][0]               \n",
            "                                                                 block6c_add[0][0]                \n",
            "__________________________________________________________________________________________________\n",
            "block6e_expand_conv (Conv2D)    (None, 16, 16, 2304) 884736      block6d_add[0][0]                \n",
            "__________________________________________________________________________________________________\n",
            "block6e_expand_bn (BatchNormali (None, 16, 16, 2304) 9216        block6e_expand_conv[0][0]        \n",
            "__________________________________________________________________________________________________\n",
            "block6e_expand_activation (Acti (None, 16, 16, 2304) 0           block6e_expand_bn[0][0]          \n",
            "__________________________________________________________________________________________________\n",
            "block6e_dwconv (DepthwiseConv2D (None, 16, 16, 2304) 57600       block6e_expand_activation[0][0]  \n",
            "__________________________________________________________________________________________________\n",
            "block6e_bn (BatchNormalization) (None, 16, 16, 2304) 9216        block6e_dwconv[0][0]             \n",
            "__________________________________________________________________________________________________\n",
            "block6e_activation (Activation) (None, 16, 16, 2304) 0           block6e_bn[0][0]                 \n",
            "__________________________________________________________________________________________________\n",
            "block6e_se_squeeze (GlobalAvera (None, 2304)         0           block6e_activation[0][0]         \n",
            "__________________________________________________________________________________________________\n",
            "block6e_se_reshape (Reshape)    (None, 1, 1, 2304)   0           block6e_se_squeeze[0][0]         \n",
            "__________________________________________________________________________________________________\n",
            "block6e_se_reduce (Conv2D)      (None, 1, 1, 96)     221280      block6e_se_reshape[0][0]         \n",
            "__________________________________________________________________________________________________\n",
            "block6e_se_expand (Conv2D)      (None, 1, 1, 2304)   223488      block6e_se_reduce[0][0]          \n",
            "__________________________________________________________________________________________________\n",
            "block6e_se_excite (Multiply)    (None, 16, 16, 2304) 0           block6e_activation[0][0]         \n",
            "                                                                 block6e_se_expand[0][0]          \n",
            "__________________________________________________________________________________________________\n",
            "block6e_project_conv (Conv2D)   (None, 16, 16, 384)  884736      block6e_se_excite[0][0]          \n",
            "__________________________________________________________________________________________________\n",
            "block6e_project_bn (BatchNormal (None, 16, 16, 384)  1536        block6e_project_conv[0][0]       \n",
            "__________________________________________________________________________________________________\n",
            "block6e_drop (Dropout)          (None, 16, 16, 384)  0           block6e_project_bn[0][0]         \n",
            "__________________________________________________________________________________________________\n",
            "block6e_add (Add)               (None, 16, 16, 384)  0           block6e_drop[0][0]               \n",
            "                                                                 block6d_add[0][0]                \n",
            "__________________________________________________________________________________________________\n",
            "block6f_expand_conv (Conv2D)    (None, 16, 16, 2304) 884736      block6e_add[0][0]                \n",
            "__________________________________________________________________________________________________\n",
            "block6f_expand_bn (BatchNormali (None, 16, 16, 2304) 9216        block6f_expand_conv[0][0]        \n",
            "__________________________________________________________________________________________________\n",
            "block6f_expand_activation (Acti (None, 16, 16, 2304) 0           block6f_expand_bn[0][0]          \n",
            "__________________________________________________________________________________________________\n",
            "block6f_dwconv (DepthwiseConv2D (None, 16, 16, 2304) 57600       block6f_expand_activation[0][0]  \n",
            "__________________________________________________________________________________________________\n",
            "block6f_bn (BatchNormalization) (None, 16, 16, 2304) 9216        block6f_dwconv[0][0]             \n",
            "__________________________________________________________________________________________________\n",
            "block6f_activation (Activation) (None, 16, 16, 2304) 0           block6f_bn[0][0]                 \n",
            "__________________________________________________________________________________________________\n",
            "block6f_se_squeeze (GlobalAvera (None, 2304)         0           block6f_activation[0][0]         \n",
            "__________________________________________________________________________________________________\n",
            "block6f_se_reshape (Reshape)    (None, 1, 1, 2304)   0           block6f_se_squeeze[0][0]         \n",
            "__________________________________________________________________________________________________\n",
            "block6f_se_reduce (Conv2D)      (None, 1, 1, 96)     221280      block6f_se_reshape[0][0]         \n",
            "__________________________________________________________________________________________________\n",
            "block6f_se_expand (Conv2D)      (None, 1, 1, 2304)   223488      block6f_se_reduce[0][0]          \n",
            "__________________________________________________________________________________________________\n",
            "block6f_se_excite (Multiply)    (None, 16, 16, 2304) 0           block6f_activation[0][0]         \n",
            "                                                                 block6f_se_expand[0][0]          \n",
            "__________________________________________________________________________________________________\n",
            "block6f_project_conv (Conv2D)   (None, 16, 16, 384)  884736      block6f_se_excite[0][0]          \n",
            "__________________________________________________________________________________________________\n",
            "block6f_project_bn (BatchNormal (None, 16, 16, 384)  1536        block6f_project_conv[0][0]       \n",
            "__________________________________________________________________________________________________\n",
            "block6f_drop (Dropout)          (None, 16, 16, 384)  0           block6f_project_bn[0][0]         \n",
            "__________________________________________________________________________________________________\n",
            "block6f_add (Add)               (None, 16, 16, 384)  0           block6f_drop[0][0]               \n",
            "                                                                 block6e_add[0][0]                \n",
            "__________________________________________________________________________________________________\n",
            "block6g_expand_conv (Conv2D)    (None, 16, 16, 2304) 884736      block6f_add[0][0]                \n",
            "__________________________________________________________________________________________________\n",
            "block6g_expand_bn (BatchNormali (None, 16, 16, 2304) 9216        block6g_expand_conv[0][0]        \n",
            "__________________________________________________________________________________________________\n",
            "block6g_expand_activation (Acti (None, 16, 16, 2304) 0           block6g_expand_bn[0][0]          \n",
            "__________________________________________________________________________________________________\n",
            "block6g_dwconv (DepthwiseConv2D (None, 16, 16, 2304) 57600       block6g_expand_activation[0][0]  \n",
            "__________________________________________________________________________________________________\n",
            "block6g_bn (BatchNormalization) (None, 16, 16, 2304) 9216        block6g_dwconv[0][0]             \n",
            "__________________________________________________________________________________________________\n",
            "block6g_activation (Activation) (None, 16, 16, 2304) 0           block6g_bn[0][0]                 \n",
            "__________________________________________________________________________________________________\n",
            "block6g_se_squeeze (GlobalAvera (None, 2304)         0           block6g_activation[0][0]         \n",
            "__________________________________________________________________________________________________\n",
            "block6g_se_reshape (Reshape)    (None, 1, 1, 2304)   0           block6g_se_squeeze[0][0]         \n",
            "__________________________________________________________________________________________________\n",
            "block6g_se_reduce (Conv2D)      (None, 1, 1, 96)     221280      block6g_se_reshape[0][0]         \n",
            "__________________________________________________________________________________________________\n",
            "block6g_se_expand (Conv2D)      (None, 1, 1, 2304)   223488      block6g_se_reduce[0][0]          \n",
            "__________________________________________________________________________________________________\n",
            "block6g_se_excite (Multiply)    (None, 16, 16, 2304) 0           block6g_activation[0][0]         \n",
            "                                                                 block6g_se_expand[0][0]          \n",
            "__________________________________________________________________________________________________\n",
            "block6g_project_conv (Conv2D)   (None, 16, 16, 384)  884736      block6g_se_excite[0][0]          \n",
            "__________________________________________________________________________________________________\n",
            "block6g_project_bn (BatchNormal (None, 16, 16, 384)  1536        block6g_project_conv[0][0]       \n",
            "__________________________________________________________________________________________________\n",
            "block6g_drop (Dropout)          (None, 16, 16, 384)  0           block6g_project_bn[0][0]         \n",
            "__________________________________________________________________________________________________\n",
            "block6g_add (Add)               (None, 16, 16, 384)  0           block6g_drop[0][0]               \n",
            "                                                                 block6f_add[0][0]                \n",
            "__________________________________________________________________________________________________\n",
            "block6h_expand_conv (Conv2D)    (None, 16, 16, 2304) 884736      block6g_add[0][0]                \n",
            "__________________________________________________________________________________________________\n",
            "block6h_expand_bn (BatchNormali (None, 16, 16, 2304) 9216        block6h_expand_conv[0][0]        \n",
            "__________________________________________________________________________________________________\n",
            "block6h_expand_activation (Acti (None, 16, 16, 2304) 0           block6h_expand_bn[0][0]          \n",
            "__________________________________________________________________________________________________\n",
            "block6h_dwconv (DepthwiseConv2D (None, 16, 16, 2304) 57600       block6h_expand_activation[0][0]  \n",
            "__________________________________________________________________________________________________\n",
            "block6h_bn (BatchNormalization) (None, 16, 16, 2304) 9216        block6h_dwconv[0][0]             \n",
            "__________________________________________________________________________________________________\n",
            "block6h_activation (Activation) (None, 16, 16, 2304) 0           block6h_bn[0][0]                 \n",
            "__________________________________________________________________________________________________\n",
            "block6h_se_squeeze (GlobalAvera (None, 2304)         0           block6h_activation[0][0]         \n",
            "__________________________________________________________________________________________________\n",
            "block6h_se_reshape (Reshape)    (None, 1, 1, 2304)   0           block6h_se_squeeze[0][0]         \n",
            "__________________________________________________________________________________________________\n",
            "block6h_se_reduce (Conv2D)      (None, 1, 1, 96)     221280      block6h_se_reshape[0][0]         \n",
            "__________________________________________________________________________________________________\n",
            "block6h_se_expand (Conv2D)      (None, 1, 1, 2304)   223488      block6h_se_reduce[0][0]          \n",
            "__________________________________________________________________________________________________\n",
            "block6h_se_excite (Multiply)    (None, 16, 16, 2304) 0           block6h_activation[0][0]         \n",
            "                                                                 block6h_se_expand[0][0]          \n",
            "__________________________________________________________________________________________________\n",
            "block6h_project_conv (Conv2D)   (None, 16, 16, 384)  884736      block6h_se_excite[0][0]          \n",
            "__________________________________________________________________________________________________\n",
            "block6h_project_bn (BatchNormal (None, 16, 16, 384)  1536        block6h_project_conv[0][0]       \n",
            "__________________________________________________________________________________________________\n",
            "block6h_drop (Dropout)          (None, 16, 16, 384)  0           block6h_project_bn[0][0]         \n",
            "__________________________________________________________________________________________________\n",
            "block6h_add (Add)               (None, 16, 16, 384)  0           block6h_drop[0][0]               \n",
            "                                                                 block6g_add[0][0]                \n",
            "__________________________________________________________________________________________________\n",
            "block6i_expand_conv (Conv2D)    (None, 16, 16, 2304) 884736      block6h_add[0][0]                \n",
            "__________________________________________________________________________________________________\n",
            "block6i_expand_bn (BatchNormali (None, 16, 16, 2304) 9216        block6i_expand_conv[0][0]        \n",
            "__________________________________________________________________________________________________\n",
            "block6i_expand_activation (Acti (None, 16, 16, 2304) 0           block6i_expand_bn[0][0]          \n",
            "__________________________________________________________________________________________________\n",
            "block6i_dwconv (DepthwiseConv2D (None, 16, 16, 2304) 57600       block6i_expand_activation[0][0]  \n",
            "__________________________________________________________________________________________________\n",
            "block6i_bn (BatchNormalization) (None, 16, 16, 2304) 9216        block6i_dwconv[0][0]             \n",
            "__________________________________________________________________________________________________\n",
            "block6i_activation (Activation) (None, 16, 16, 2304) 0           block6i_bn[0][0]                 \n",
            "__________________________________________________________________________________________________\n",
            "block6i_se_squeeze (GlobalAvera (None, 2304)         0           block6i_activation[0][0]         \n",
            "__________________________________________________________________________________________________\n",
            "block6i_se_reshape (Reshape)    (None, 1, 1, 2304)   0           block6i_se_squeeze[0][0]         \n",
            "__________________________________________________________________________________________________\n",
            "block6i_se_reduce (Conv2D)      (None, 1, 1, 96)     221280      block6i_se_reshape[0][0]         \n",
            "__________________________________________________________________________________________________\n",
            "block6i_se_expand (Conv2D)      (None, 1, 1, 2304)   223488      block6i_se_reduce[0][0]          \n",
            "__________________________________________________________________________________________________\n",
            "block6i_se_excite (Multiply)    (None, 16, 16, 2304) 0           block6i_activation[0][0]         \n",
            "                                                                 block6i_se_expand[0][0]          \n",
            "__________________________________________________________________________________________________\n",
            "block6i_project_conv (Conv2D)   (None, 16, 16, 384)  884736      block6i_se_excite[0][0]          \n",
            "__________________________________________________________________________________________________\n",
            "block6i_project_bn (BatchNormal (None, 16, 16, 384)  1536        block6i_project_conv[0][0]       \n",
            "__________________________________________________________________________________________________\n",
            "block6i_drop (Dropout)          (None, 16, 16, 384)  0           block6i_project_bn[0][0]         \n",
            "__________________________________________________________________________________________________\n",
            "block6i_add (Add)               (None, 16, 16, 384)  0           block6i_drop[0][0]               \n",
            "                                                                 block6h_add[0][0]                \n",
            "__________________________________________________________________________________________________\n",
            "block6j_expand_conv (Conv2D)    (None, 16, 16, 2304) 884736      block6i_add[0][0]                \n",
            "__________________________________________________________________________________________________\n",
            "block6j_expand_bn (BatchNormali (None, 16, 16, 2304) 9216        block6j_expand_conv[0][0]        \n",
            "__________________________________________________________________________________________________\n",
            "block6j_expand_activation (Acti (None, 16, 16, 2304) 0           block6j_expand_bn[0][0]          \n",
            "__________________________________________________________________________________________________\n",
            "block6j_dwconv (DepthwiseConv2D (None, 16, 16, 2304) 57600       block6j_expand_activation[0][0]  \n",
            "__________________________________________________________________________________________________\n",
            "block6j_bn (BatchNormalization) (None, 16, 16, 2304) 9216        block6j_dwconv[0][0]             \n",
            "__________________________________________________________________________________________________\n",
            "block6j_activation (Activation) (None, 16, 16, 2304) 0           block6j_bn[0][0]                 \n",
            "__________________________________________________________________________________________________\n",
            "block6j_se_squeeze (GlobalAvera (None, 2304)         0           block6j_activation[0][0]         \n",
            "__________________________________________________________________________________________________\n",
            "block6j_se_reshape (Reshape)    (None, 1, 1, 2304)   0           block6j_se_squeeze[0][0]         \n",
            "__________________________________________________________________________________________________\n",
            "block6j_se_reduce (Conv2D)      (None, 1, 1, 96)     221280      block6j_se_reshape[0][0]         \n",
            "__________________________________________________________________________________________________\n",
            "block6j_se_expand (Conv2D)      (None, 1, 1, 2304)   223488      block6j_se_reduce[0][0]          \n",
            "__________________________________________________________________________________________________\n",
            "block6j_se_excite (Multiply)    (None, 16, 16, 2304) 0           block6j_activation[0][0]         \n",
            "                                                                 block6j_se_expand[0][0]          \n",
            "__________________________________________________________________________________________________\n",
            "block6j_project_conv (Conv2D)   (None, 16, 16, 384)  884736      block6j_se_excite[0][0]          \n",
            "__________________________________________________________________________________________________\n",
            "block6j_project_bn (BatchNormal (None, 16, 16, 384)  1536        block6j_project_conv[0][0]       \n",
            "__________________________________________________________________________________________________\n",
            "block6j_drop (Dropout)          (None, 16, 16, 384)  0           block6j_project_bn[0][0]         \n",
            "__________________________________________________________________________________________________\n",
            "block6j_add (Add)               (None, 16, 16, 384)  0           block6j_drop[0][0]               \n",
            "                                                                 block6i_add[0][0]                \n",
            "__________________________________________________________________________________________________\n",
            "block6k_expand_conv (Conv2D)    (None, 16, 16, 2304) 884736      block6j_add[0][0]                \n",
            "__________________________________________________________________________________________________\n",
            "block6k_expand_bn (BatchNormali (None, 16, 16, 2304) 9216        block6k_expand_conv[0][0]        \n",
            "__________________________________________________________________________________________________\n",
            "block6k_expand_activation (Acti (None, 16, 16, 2304) 0           block6k_expand_bn[0][0]          \n",
            "__________________________________________________________________________________________________\n",
            "block6k_dwconv (DepthwiseConv2D (None, 16, 16, 2304) 57600       block6k_expand_activation[0][0]  \n",
            "__________________________________________________________________________________________________\n",
            "block6k_bn (BatchNormalization) (None, 16, 16, 2304) 9216        block6k_dwconv[0][0]             \n",
            "__________________________________________________________________________________________________\n",
            "block6k_activation (Activation) (None, 16, 16, 2304) 0           block6k_bn[0][0]                 \n",
            "__________________________________________________________________________________________________\n",
            "block6k_se_squeeze (GlobalAvera (None, 2304)         0           block6k_activation[0][0]         \n",
            "__________________________________________________________________________________________________\n",
            "block6k_se_reshape (Reshape)    (None, 1, 1, 2304)   0           block6k_se_squeeze[0][0]         \n",
            "__________________________________________________________________________________________________\n",
            "block6k_se_reduce (Conv2D)      (None, 1, 1, 96)     221280      block6k_se_reshape[0][0]         \n",
            "__________________________________________________________________________________________________\n",
            "block6k_se_expand (Conv2D)      (None, 1, 1, 2304)   223488      block6k_se_reduce[0][0]          \n",
            "__________________________________________________________________________________________________\n",
            "block6k_se_excite (Multiply)    (None, 16, 16, 2304) 0           block6k_activation[0][0]         \n",
            "                                                                 block6k_se_expand[0][0]          \n",
            "__________________________________________________________________________________________________\n",
            "block6k_project_conv (Conv2D)   (None, 16, 16, 384)  884736      block6k_se_excite[0][0]          \n",
            "__________________________________________________________________________________________________\n",
            "block6k_project_bn (BatchNormal (None, 16, 16, 384)  1536        block6k_project_conv[0][0]       \n",
            "__________________________________________________________________________________________________\n",
            "block6k_drop (Dropout)          (None, 16, 16, 384)  0           block6k_project_bn[0][0]         \n",
            "__________________________________________________________________________________________________\n",
            "block6k_add (Add)               (None, 16, 16, 384)  0           block6k_drop[0][0]               \n",
            "                                                                 block6j_add[0][0]                \n",
            "__________________________________________________________________________________________________\n",
            "block6l_expand_conv (Conv2D)    (None, 16, 16, 2304) 884736      block6k_add[0][0]                \n",
            "__________________________________________________________________________________________________\n",
            "block6l_expand_bn (BatchNormali (None, 16, 16, 2304) 9216        block6l_expand_conv[0][0]        \n",
            "__________________________________________________________________________________________________\n",
            "block6l_expand_activation (Acti (None, 16, 16, 2304) 0           block6l_expand_bn[0][0]          \n",
            "__________________________________________________________________________________________________\n",
            "block6l_dwconv (DepthwiseConv2D (None, 16, 16, 2304) 57600       block6l_expand_activation[0][0]  \n",
            "__________________________________________________________________________________________________\n",
            "block6l_bn (BatchNormalization) (None, 16, 16, 2304) 9216        block6l_dwconv[0][0]             \n",
            "__________________________________________________________________________________________________\n",
            "block6l_activation (Activation) (None, 16, 16, 2304) 0           block6l_bn[0][0]                 \n",
            "__________________________________________________________________________________________________\n",
            "block6l_se_squeeze (GlobalAvera (None, 2304)         0           block6l_activation[0][0]         \n",
            "__________________________________________________________________________________________________\n",
            "block6l_se_reshape (Reshape)    (None, 1, 1, 2304)   0           block6l_se_squeeze[0][0]         \n",
            "__________________________________________________________________________________________________\n",
            "block6l_se_reduce (Conv2D)      (None, 1, 1, 96)     221280      block6l_se_reshape[0][0]         \n",
            "__________________________________________________________________________________________________\n",
            "block6l_se_expand (Conv2D)      (None, 1, 1, 2304)   223488      block6l_se_reduce[0][0]          \n",
            "__________________________________________________________________________________________________\n",
            "block6l_se_excite (Multiply)    (None, 16, 16, 2304) 0           block6l_activation[0][0]         \n",
            "                                                                 block6l_se_expand[0][0]          \n",
            "__________________________________________________________________________________________________\n",
            "block6l_project_conv (Conv2D)   (None, 16, 16, 384)  884736      block6l_se_excite[0][0]          \n",
            "__________________________________________________________________________________________________\n",
            "block6l_project_bn (BatchNormal (None, 16, 16, 384)  1536        block6l_project_conv[0][0]       \n",
            "__________________________________________________________________________________________________\n",
            "block6l_drop (Dropout)          (None, 16, 16, 384)  0           block6l_project_bn[0][0]         \n",
            "__________________________________________________________________________________________________\n",
            "block6l_add (Add)               (None, 16, 16, 384)  0           block6l_drop[0][0]               \n",
            "                                                                 block6k_add[0][0]                \n",
            "__________________________________________________________________________________________________\n",
            "block6m_expand_conv (Conv2D)    (None, 16, 16, 2304) 884736      block6l_add[0][0]                \n",
            "__________________________________________________________________________________________________\n",
            "block6m_expand_bn (BatchNormali (None, 16, 16, 2304) 9216        block6m_expand_conv[0][0]        \n",
            "__________________________________________________________________________________________________\n",
            "block6m_expand_activation (Acti (None, 16, 16, 2304) 0           block6m_expand_bn[0][0]          \n",
            "__________________________________________________________________________________________________\n",
            "block6m_dwconv (DepthwiseConv2D (None, 16, 16, 2304) 57600       block6m_expand_activation[0][0]  \n",
            "__________________________________________________________________________________________________\n",
            "block6m_bn (BatchNormalization) (None, 16, 16, 2304) 9216        block6m_dwconv[0][0]             \n",
            "__________________________________________________________________________________________________\n",
            "block6m_activation (Activation) (None, 16, 16, 2304) 0           block6m_bn[0][0]                 \n",
            "__________________________________________________________________________________________________\n",
            "block6m_se_squeeze (GlobalAvera (None, 2304)         0           block6m_activation[0][0]         \n",
            "__________________________________________________________________________________________________\n",
            "block6m_se_reshape (Reshape)    (None, 1, 1, 2304)   0           block6m_se_squeeze[0][0]         \n",
            "__________________________________________________________________________________________________\n",
            "block6m_se_reduce (Conv2D)      (None, 1, 1, 96)     221280      block6m_se_reshape[0][0]         \n",
            "__________________________________________________________________________________________________\n",
            "block6m_se_expand (Conv2D)      (None, 1, 1, 2304)   223488      block6m_se_reduce[0][0]          \n",
            "__________________________________________________________________________________________________\n",
            "block6m_se_excite (Multiply)    (None, 16, 16, 2304) 0           block6m_activation[0][0]         \n",
            "                                                                 block6m_se_expand[0][0]          \n",
            "__________________________________________________________________________________________________\n",
            "block6m_project_conv (Conv2D)   (None, 16, 16, 384)  884736      block6m_se_excite[0][0]          \n",
            "__________________________________________________________________________________________________\n",
            "block6m_project_bn (BatchNormal (None, 16, 16, 384)  1536        block6m_project_conv[0][0]       \n",
            "__________________________________________________________________________________________________\n",
            "block6m_drop (Dropout)          (None, 16, 16, 384)  0           block6m_project_bn[0][0]         \n",
            "__________________________________________________________________________________________________\n",
            "block6m_add (Add)               (None, 16, 16, 384)  0           block6m_drop[0][0]               \n",
            "                                                                 block6l_add[0][0]                \n",
            "__________________________________________________________________________________________________\n",
            "block7a_expand_conv (Conv2D)    (None, 16, 16, 2304) 884736      block6m_add[0][0]                \n",
            "__________________________________________________________________________________________________\n",
            "block7a_expand_bn (BatchNormali (None, 16, 16, 2304) 9216        block7a_expand_conv[0][0]        \n",
            "__________________________________________________________________________________________________\n",
            "block7a_expand_activation (Acti (None, 16, 16, 2304) 0           block7a_expand_bn[0][0]          \n",
            "__________________________________________________________________________________________________\n",
            "block7a_dwconv (DepthwiseConv2D (None, 16, 16, 2304) 20736       block7a_expand_activation[0][0]  \n",
            "__________________________________________________________________________________________________\n",
            "block7a_bn (BatchNormalization) (None, 16, 16, 2304) 9216        block7a_dwconv[0][0]             \n",
            "__________________________________________________________________________________________________\n",
            "block7a_activation (Activation) (None, 16, 16, 2304) 0           block7a_bn[0][0]                 \n",
            "__________________________________________________________________________________________________\n",
            "block7a_se_squeeze (GlobalAvera (None, 2304)         0           block7a_activation[0][0]         \n",
            "__________________________________________________________________________________________________\n",
            "block7a_se_reshape (Reshape)    (None, 1, 1, 2304)   0           block7a_se_squeeze[0][0]         \n",
            "__________________________________________________________________________________________________\n",
            "block7a_se_reduce (Conv2D)      (None, 1, 1, 96)     221280      block7a_se_reshape[0][0]         \n",
            "__________________________________________________________________________________________________\n",
            "block7a_se_expand (Conv2D)      (None, 1, 1, 2304)   223488      block7a_se_reduce[0][0]          \n",
            "__________________________________________________________________________________________________\n",
            "block7a_se_excite (Multiply)    (None, 16, 16, 2304) 0           block7a_activation[0][0]         \n",
            "                                                                 block7a_se_expand[0][0]          \n",
            "__________________________________________________________________________________________________\n",
            "block7a_project_conv (Conv2D)   (None, 16, 16, 640)  1474560     block7a_se_excite[0][0]          \n",
            "__________________________________________________________________________________________________\n",
            "block7a_project_bn (BatchNormal (None, 16, 16, 640)  2560        block7a_project_conv[0][0]       \n",
            "__________________________________________________________________________________________________\n",
            "block7b_expand_conv (Conv2D)    (None, 16, 16, 3840) 2457600     block7a_project_bn[0][0]         \n",
            "__________________________________________________________________________________________________\n",
            "block7b_expand_bn (BatchNormali (None, 16, 16, 3840) 15360       block7b_expand_conv[0][0]        \n",
            "__________________________________________________________________________________________________\n",
            "block7b_expand_activation (Acti (None, 16, 16, 3840) 0           block7b_expand_bn[0][0]          \n",
            "__________________________________________________________________________________________________\n",
            "block7b_dwconv (DepthwiseConv2D (None, 16, 16, 3840) 34560       block7b_expand_activation[0][0]  \n",
            "__________________________________________________________________________________________________\n",
            "block7b_bn (BatchNormalization) (None, 16, 16, 3840) 15360       block7b_dwconv[0][0]             \n",
            "__________________________________________________________________________________________________\n",
            "block7b_activation (Activation) (None, 16, 16, 3840) 0           block7b_bn[0][0]                 \n",
            "__________________________________________________________________________________________________\n",
            "block7b_se_squeeze (GlobalAvera (None, 3840)         0           block7b_activation[0][0]         \n",
            "__________________________________________________________________________________________________\n",
            "block7b_se_reshape (Reshape)    (None, 1, 1, 3840)   0           block7b_se_squeeze[0][0]         \n",
            "__________________________________________________________________________________________________\n",
            "block7b_se_reduce (Conv2D)      (None, 1, 1, 160)    614560      block7b_se_reshape[0][0]         \n",
            "__________________________________________________________________________________________________\n",
            "block7b_se_expand (Conv2D)      (None, 1, 1, 3840)   618240      block7b_se_reduce[0][0]          \n",
            "__________________________________________________________________________________________________\n",
            "block7b_se_excite (Multiply)    (None, 16, 16, 3840) 0           block7b_activation[0][0]         \n",
            "                                                                 block7b_se_expand[0][0]          \n",
            "__________________________________________________________________________________________________\n",
            "block7b_project_conv (Conv2D)   (None, 16, 16, 640)  2457600     block7b_se_excite[0][0]          \n",
            "__________________________________________________________________________________________________\n",
            "block7b_project_bn (BatchNormal (None, 16, 16, 640)  2560        block7b_project_conv[0][0]       \n",
            "__________________________________________________________________________________________________\n",
            "block7b_drop (Dropout)          (None, 16, 16, 640)  0           block7b_project_bn[0][0]         \n",
            "__________________________________________________________________________________________________\n",
            "block7b_add (Add)               (None, 16, 16, 640)  0           block7b_drop[0][0]               \n",
            "                                                                 block7a_project_bn[0][0]         \n",
            "__________________________________________________________________________________________________\n",
            "block7c_expand_conv (Conv2D)    (None, 16, 16, 3840) 2457600     block7b_add[0][0]                \n",
            "__________________________________________________________________________________________________\n",
            "block7c_expand_bn (BatchNormali (None, 16, 16, 3840) 15360       block7c_expand_conv[0][0]        \n",
            "__________________________________________________________________________________________________\n",
            "block7c_expand_activation (Acti (None, 16, 16, 3840) 0           block7c_expand_bn[0][0]          \n",
            "__________________________________________________________________________________________________\n",
            "block7c_dwconv (DepthwiseConv2D (None, 16, 16, 3840) 34560       block7c_expand_activation[0][0]  \n",
            "__________________________________________________________________________________________________\n",
            "block7c_bn (BatchNormalization) (None, 16, 16, 3840) 15360       block7c_dwconv[0][0]             \n",
            "__________________________________________________________________________________________________\n",
            "block7c_activation (Activation) (None, 16, 16, 3840) 0           block7c_bn[0][0]                 \n",
            "__________________________________________________________________________________________________\n",
            "block7c_se_squeeze (GlobalAvera (None, 3840)         0           block7c_activation[0][0]         \n",
            "__________________________________________________________________________________________________\n",
            "block7c_se_reshape (Reshape)    (None, 1, 1, 3840)   0           block7c_se_squeeze[0][0]         \n",
            "__________________________________________________________________________________________________\n",
            "block7c_se_reduce (Conv2D)      (None, 1, 1, 160)    614560      block7c_se_reshape[0][0]         \n",
            "__________________________________________________________________________________________________\n",
            "block7c_se_expand (Conv2D)      (None, 1, 1, 3840)   618240      block7c_se_reduce[0][0]          \n",
            "__________________________________________________________________________________________________\n",
            "block7c_se_excite (Multiply)    (None, 16, 16, 3840) 0           block7c_activation[0][0]         \n",
            "                                                                 block7c_se_expand[0][0]          \n",
            "__________________________________________________________________________________________________\n",
            "block7c_project_conv (Conv2D)   (None, 16, 16, 640)  2457600     block7c_se_excite[0][0]          \n",
            "__________________________________________________________________________________________________\n",
            "block7c_project_bn (BatchNormal (None, 16, 16, 640)  2560        block7c_project_conv[0][0]       \n",
            "__________________________________________________________________________________________________\n",
            "block7c_drop (Dropout)          (None, 16, 16, 640)  0           block7c_project_bn[0][0]         \n",
            "__________________________________________________________________________________________________\n",
            "block7c_add (Add)               (None, 16, 16, 640)  0           block7c_drop[0][0]               \n",
            "                                                                 block7b_add[0][0]                \n",
            "__________________________________________________________________________________________________\n",
            "block7d_expand_conv (Conv2D)    (None, 16, 16, 3840) 2457600     block7c_add[0][0]                \n",
            "__________________________________________________________________________________________________\n",
            "block7d_expand_bn (BatchNormali (None, 16, 16, 3840) 15360       block7d_expand_conv[0][0]        \n",
            "__________________________________________________________________________________________________\n",
            "block7d_expand_activation (Acti (None, 16, 16, 3840) 0           block7d_expand_bn[0][0]          \n",
            "__________________________________________________________________________________________________\n",
            "block7d_dwconv (DepthwiseConv2D (None, 16, 16, 3840) 34560       block7d_expand_activation[0][0]  \n",
            "__________________________________________________________________________________________________\n",
            "block7d_bn (BatchNormalization) (None, 16, 16, 3840) 15360       block7d_dwconv[0][0]             \n",
            "__________________________________________________________________________________________________\n",
            "block7d_activation (Activation) (None, 16, 16, 3840) 0           block7d_bn[0][0]                 \n",
            "__________________________________________________________________________________________________\n",
            "block7d_se_squeeze (GlobalAvera (None, 3840)         0           block7d_activation[0][0]         \n",
            "__________________________________________________________________________________________________\n",
            "block7d_se_reshape (Reshape)    (None, 1, 1, 3840)   0           block7d_se_squeeze[0][0]         \n",
            "__________________________________________________________________________________________________\n",
            "block7d_se_reduce (Conv2D)      (None, 1, 1, 160)    614560      block7d_se_reshape[0][0]         \n",
            "__________________________________________________________________________________________________\n",
            "block7d_se_expand (Conv2D)      (None, 1, 1, 3840)   618240      block7d_se_reduce[0][0]          \n",
            "__________________________________________________________________________________________________\n",
            "block7d_se_excite (Multiply)    (None, 16, 16, 3840) 0           block7d_activation[0][0]         \n",
            "                                                                 block7d_se_expand[0][0]          \n",
            "__________________________________________________________________________________________________\n",
            "block7d_project_conv (Conv2D)   (None, 16, 16, 640)  2457600     block7d_se_excite[0][0]          \n",
            "__________________________________________________________________________________________________\n",
            "block7d_project_bn (BatchNormal (None, 16, 16, 640)  2560        block7d_project_conv[0][0]       \n",
            "__________________________________________________________________________________________________\n",
            "block7d_drop (Dropout)          (None, 16, 16, 640)  0           block7d_project_bn[0][0]         \n",
            "__________________________________________________________________________________________________\n",
            "block7d_add (Add)               (None, 16, 16, 640)  0           block7d_drop[0][0]               \n",
            "                                                                 block7c_add[0][0]                \n",
            "__________________________________________________________________________________________________\n",
            "up_sampling2d (UpSampling2D)    (None, 32, 32, 640)  0           block7d_add[0][0]                \n",
            "__________________________________________________________________________________________________\n",
            "up_sampling2d_1 (UpSampling2D)  (None, 32, 32, 384)  0           block6m_add[0][0]                \n",
            "__________________________________________________________________________________________________\n",
            "conv2d (Conv2D)                 (None, 32, 32, 512)  2949632     up_sampling2d[0][0]              \n",
            "__________________________________________________________________________________________________\n",
            "concatenate (Concatenate)       (None, 32, 32, 896)  0           up_sampling2d_1[0][0]            \n",
            "                                                                 conv2d[0][0]                     \n",
            "__________________________________________________________________________________________________\n",
            "conv2d_1 (Conv2D)               (None, 32, 32, 256)  2064640     concatenate[0][0]                \n",
            "__________________________________________________________________________________________________\n",
            "up_sampling2d_3 (UpSampling2D)  (None, 64, 64, 160)  0           block4g_add[0][0]                \n",
            "__________________________________________________________________________________________________\n",
            "up_sampling2d_2 (UpSampling2D)  (None, 64, 64, 256)  0           conv2d_1[0][0]                   \n",
            "__________________________________________________________________________________________________\n",
            "concatenate_1 (Concatenate)     (None, 64, 64, 416)  0           up_sampling2d_3[0][0]            \n",
            "                                                                 up_sampling2d_2[0][0]            \n",
            "__________________________________________________________________________________________________\n",
            "conv2d_2 (Conv2D)               (None, 64, 64, 128)  479360      concatenate_1[0][0]              \n",
            "__________________________________________________________________________________________________\n",
            "up_sampling2d_5 (UpSampling2D)  (None, 128, 128, 80) 0           block3g_add[0][0]                \n",
            "__________________________________________________________________________________________________\n",
            "up_sampling2d_4 (UpSampling2D)  (None, 128, 128, 128 0           conv2d_2[0][0]                   \n",
            "__________________________________________________________________________________________________\n",
            "concatenate_2 (Concatenate)     (None, 128, 128, 208 0           up_sampling2d_5[0][0]            \n",
            "                                                                 up_sampling2d_4[0][0]            \n",
            "__________________________________________________________________________________________________\n",
            "conv2d_3 (Conv2D)               (None, 128, 128, 64) 119872      concatenate_2[0][0]              \n",
            "__________________________________________________________________________________________________\n",
            "up_sampling2d_7 (UpSampling2D)  (None, 256, 256, 48) 0           block2g_add[0][0]                \n",
            "__________________________________________________________________________________________________\n",
            "up_sampling2d_6 (UpSampling2D)  (None, 256, 256, 64) 0           conv2d_3[0][0]                   \n",
            "__________________________________________________________________________________________________\n",
            "concatenate_3 (Concatenate)     (None, 256, 256, 112 0           up_sampling2d_7[0][0]            \n",
            "                                                                 up_sampling2d_6[0][0]            \n",
            "__________________________________________________________________________________________________\n",
            "conv2d_4 (Conv2D)               (None, 256, 256, 16) 16144       concatenate_3[0][0]              \n",
            "__________________________________________________________________________________________________\n",
            "up_sampling2d_8 (UpSampling2D)  (None, 512, 512, 16) 0           conv2d_4[0][0]                   \n",
            "__________________________________________________________________________________________________\n",
            "conv2d_5 (Conv2D)               (None, 512, 512, 3)  51          up_sampling2d_8[0][0]            \n",
            "==================================================================================================\n",
            "Total params: 68,078,746\n",
            "Trainable params: 67,773,139\n",
            "Non-trainable params: 305,607\n",
            "__________________________________________________________________________________________________\n",
            "input_1                            ----> Trainable: False\n",
            "rescaling                          ----> Trainable: False\n",
            "normalization                      ----> Trainable: False\n",
            "stem_conv_pad                      ----> Trainable: False\n",
            "stem_conv                          ----> Trainable: False\n",
            "stem_bn                            ----> Trainable: False\n",
            "stem_activation                    ----> Trainable: False\n",
            "block1a_dwconv                     ----> Trainable: False\n",
            "block1a_bn                         ----> Trainable: False\n",
            "block1a_activation                 ----> Trainable: False\n",
            "block1a_se_squeeze                 ----> Trainable: False\n",
            "block1a_se_reshape                 ----> Trainable: False\n",
            "block1a_se_reduce                  ----> Trainable: False\n",
            "block1a_se_expand                  ----> Trainable: False\n",
            "block1a_se_excite                  ----> Trainable: False\n",
            "block1a_project_conv               ----> Trainable: False\n",
            "block1a_project_bn                 ----> Trainable: False\n",
            "block1b_dwconv                     ----> Trainable: False\n",
            "block1b_bn                         ----> Trainable: False\n",
            "block1b_activation                 ----> Trainable: False\n",
            "block1b_se_squeeze                 ----> Trainable: False\n",
            "block1b_se_reshape                 ----> Trainable: False\n",
            "block1b_se_reduce                  ----> Trainable: False\n",
            "block1b_se_expand                  ----> Trainable: False\n",
            "block1b_se_excite                  ----> Trainable: False\n",
            "block1b_project_conv               ----> Trainable: False\n",
            "block1b_project_bn                 ----> Trainable: False\n",
            "block1b_drop                       ----> Trainable: False\n",
            "block1b_add                        ----> Trainable: False\n",
            "block1c_dwconv                     ----> Trainable: False\n",
            "block1c_bn                         ----> Trainable: False\n",
            "block1c_activation                 ----> Trainable: False\n",
            "block1c_se_squeeze                 ----> Trainable: False\n",
            "block1c_se_reshape                 ----> Trainable: False\n",
            "block1c_se_reduce                  ----> Trainable: False\n",
            "block1c_se_expand                  ----> Trainable: False\n",
            "block1c_se_excite                  ----> Trainable: False\n",
            "block1c_project_conv               ----> Trainable: False\n",
            "block1c_project_bn                 ----> Trainable: False\n",
            "block1c_drop                       ----> Trainable: False\n",
            "block1c_add                        ----> Trainable: False\n",
            "block1d_dwconv                     ----> Trainable: False\n",
            "block1d_bn                         ----> Trainable: False\n",
            "block1d_activation                 ----> Trainable: False\n",
            "block1d_se_squeeze                 ----> Trainable: False\n",
            "block1d_se_reshape                 ----> Trainable: False\n",
            "block1d_se_reduce                  ----> Trainable: False\n",
            "block1d_se_expand                  ----> Trainable: False\n",
            "block1d_se_excite                  ----> Trainable: False\n",
            "block1d_project_conv               ----> Trainable: False\n",
            "block1d_project_bn                 ----> Trainable: False\n",
            "block1d_drop                       ----> Trainable: False\n",
            "block1d_add                        ----> Trainable: False\n",
            "block2a_expand_conv                ----> Trainable: False\n",
            "block2a_expand_bn                  ----> Trainable: False\n",
            "block2a_expand_activation          ----> Trainable: False\n",
            "block2a_dwconv_pad                 ----> Trainable: False\n",
            "block2a_dwconv                     ----> Trainable: False\n",
            "block2a_bn                         ----> Trainable: False\n",
            "block2a_activation                 ----> Trainable: False\n",
            "block2a_se_squeeze                 ----> Trainable: False\n",
            "block2a_se_reshape                 ----> Trainable: False\n",
            "block2a_se_reduce                  ----> Trainable: False\n",
            "block2a_se_expand                  ----> Trainable: False\n",
            "block2a_se_excite                  ----> Trainable: False\n",
            "block2a_project_conv               ----> Trainable: False\n",
            "block2a_project_bn                 ----> Trainable: False\n",
            "block2b_expand_conv                ----> Trainable: False\n",
            "block2b_expand_bn                  ----> Trainable: False\n",
            "block2b_expand_activation          ----> Trainable: False\n",
            "block2b_dwconv                     ----> Trainable: False\n",
            "block2b_bn                         ----> Trainable: False\n",
            "block2b_activation                 ----> Trainable: False\n",
            "block2b_se_squeeze                 ----> Trainable: False\n",
            "block2b_se_reshape                 ----> Trainable: False\n",
            "block2b_se_reduce                  ----> Trainable: False\n",
            "block2b_se_expand                  ----> Trainable: False\n",
            "block2b_se_excite                  ----> Trainable: False\n",
            "block2b_project_conv               ----> Trainable: False\n",
            "block2b_project_bn                 ----> Trainable: False\n",
            "block2b_drop                       ----> Trainable: False\n",
            "block2b_add                        ----> Trainable: False\n",
            "block2c_expand_conv                ----> Trainable: False\n",
            "block2c_expand_bn                  ----> Trainable: False\n",
            "block2c_expand_activation          ----> Trainable: False\n",
            "block2c_dwconv                     ----> Trainable: False\n",
            "block2c_bn                         ----> Trainable: False\n",
            "block2c_activation                 ----> Trainable: False\n",
            "block2c_se_squeeze                 ----> Trainable: False\n",
            "block2c_se_reshape                 ----> Trainable: False\n",
            "block2c_se_reduce                  ----> Trainable: False\n",
            "block2c_se_expand                  ----> Trainable: False\n",
            "block2c_se_excite                  ----> Trainable: False\n",
            "block2c_project_conv               ----> Trainable: False\n",
            "block2c_project_bn                 ----> Trainable: False\n",
            "block2c_drop                       ----> Trainable: False\n",
            "block2c_add                        ----> Trainable: False\n",
            "block2d_expand_conv                ----> Trainable: False\n",
            "block2d_expand_bn                  ----> Trainable: False\n",
            "block2d_expand_activation          ----> Trainable: False\n",
            "block2d_dwconv                     ----> Trainable: False\n",
            "block2d_bn                         ----> Trainable: False\n",
            "block2d_activation                 ----> Trainable: False\n",
            "block2d_se_squeeze                 ----> Trainable: False\n",
            "block2d_se_reshape                 ----> Trainable: False\n",
            "block2d_se_reduce                  ----> Trainable: False\n",
            "block2d_se_expand                  ----> Trainable: False\n",
            "block2d_se_excite                  ----> Trainable: False\n",
            "block2d_project_conv               ----> Trainable: False\n",
            "block2d_project_bn                 ----> Trainable: False\n",
            "block2d_drop                       ----> Trainable: False\n",
            "block2d_add                        ----> Trainable: False\n",
            "block2e_expand_conv                ----> Trainable: False\n",
            "block2e_expand_bn                  ----> Trainable: False\n",
            "block2e_expand_activation          ----> Trainable: False\n",
            "block2e_dwconv                     ----> Trainable: False\n",
            "block2e_bn                         ----> Trainable: False\n",
            "block2e_activation                 ----> Trainable: False\n",
            "block2e_se_squeeze                 ----> Trainable: False\n",
            "block2e_se_reshape                 ----> Trainable: False\n",
            "block2e_se_reduce                  ----> Trainable: False\n",
            "block2e_se_expand                  ----> Trainable: False\n",
            "block2e_se_excite                  ----> Trainable: False\n",
            "block2e_project_conv               ----> Trainable: False\n",
            "block2e_project_bn                 ----> Trainable: False\n",
            "block2e_drop                       ----> Trainable: False\n",
            "block2e_add                        ----> Trainable: False\n",
            "block2f_expand_conv                ----> Trainable: False\n",
            "block2f_expand_bn                  ----> Trainable: False\n",
            "block2f_expand_activation          ----> Trainable: False\n",
            "block2f_dwconv                     ----> Trainable: False\n",
            "block2f_bn                         ----> Trainable: False\n",
            "block2f_activation                 ----> Trainable: False\n",
            "block2f_se_squeeze                 ----> Trainable: False\n",
            "block2f_se_reshape                 ----> Trainable: False\n",
            "block2f_se_reduce                  ----> Trainable: False\n",
            "block2f_se_expand                  ----> Trainable: False\n",
            "block2f_se_excite                  ----> Trainable: False\n",
            "block2f_project_conv               ----> Trainable: False\n",
            "block2f_project_bn                 ----> Trainable: False\n",
            "block2f_drop                       ----> Trainable: False\n",
            "block2f_add                        ----> Trainable: False\n",
            "block2g_expand_conv                ----> Trainable: False\n",
            "block2g_expand_bn                  ----> Trainable: False\n",
            "block2g_expand_activation          ----> Trainable: False\n",
            "block2g_dwconv                     ----> Trainable: False\n",
            "block2g_bn                         ----> Trainable: False\n",
            "block2g_activation                 ----> Trainable: False\n",
            "block2g_se_squeeze                 ----> Trainable: False\n",
            "block2g_se_reshape                 ----> Trainable: False\n",
            "block2g_se_reduce                  ----> Trainable: False\n",
            "block2g_se_expand                  ----> Trainable: False\n",
            "block2g_se_excite                  ----> Trainable: False\n",
            "block2g_project_conv               ----> Trainable: False\n",
            "block2g_project_bn                 ----> Trainable: False\n",
            "block2g_drop                       ----> Trainable: False\n",
            "block2g_add                        ----> Trainable: False\n",
            "block3a_expand_conv                ----> Trainable: False\n",
            "block3a_expand_bn                  ----> Trainable: False\n",
            "block3a_expand_activation          ----> Trainable: False\n",
            "block3a_dwconv_pad                 ----> Trainable: False\n",
            "block3a_dwconv                     ----> Trainable: False\n",
            "block3a_bn                         ----> Trainable: False\n",
            "block3a_activation                 ----> Trainable: False\n",
            "block3a_se_squeeze                 ----> Trainable: False\n",
            "block3a_se_reshape                 ----> Trainable: False\n",
            "block3a_se_reduce                  ----> Trainable: False\n",
            "block3a_se_expand                  ----> Trainable: False\n",
            "block3a_se_excite                  ----> Trainable: False\n",
            "block3a_project_conv               ----> Trainable: False\n",
            "block3a_project_bn                 ----> Trainable: False\n",
            "block3b_expand_conv                ----> Trainable: False\n",
            "block3b_expand_bn                  ----> Trainable: False\n",
            "block3b_expand_activation          ----> Trainable: False\n",
            "block3b_dwconv                     ----> Trainable: False\n",
            "block3b_bn                         ----> Trainable: False\n",
            "block3b_activation                 ----> Trainable: False\n",
            "block3b_se_squeeze                 ----> Trainable: False\n",
            "block3b_se_reshape                 ----> Trainable: False\n",
            "block3b_se_reduce                  ----> Trainable: False\n",
            "block3b_se_expand                  ----> Trainable: False\n",
            "block3b_se_excite                  ----> Trainable: False\n",
            "block3b_project_conv               ----> Trainable: False\n",
            "block3b_project_bn                 ----> Trainable: False\n",
            "block3b_drop                       ----> Trainable: False\n",
            "block3b_add                        ----> Trainable: False\n",
            "block3c_expand_conv                ----> Trainable: False\n",
            "block3c_expand_bn                  ----> Trainable: False\n",
            "block3c_expand_activation          ----> Trainable: False\n",
            "block3c_dwconv                     ----> Trainable: False\n",
            "block3c_bn                         ----> Trainable: False\n",
            "block3c_activation                 ----> Trainable: False\n",
            "block3c_se_squeeze                 ----> Trainable: False\n",
            "block3c_se_reshape                 ----> Trainable: False\n",
            "block3c_se_reduce                  ----> Trainable: False\n",
            "block3c_se_expand                  ----> Trainable: False\n",
            "block3c_se_excite                  ----> Trainable: False\n",
            "block3c_project_conv               ----> Trainable: False\n",
            "block3c_project_bn                 ----> Trainable: False\n",
            "block3c_drop                       ----> Trainable: False\n",
            "block3c_add                        ----> Trainable: False\n",
            "block3d_expand_conv                ----> Trainable: False\n",
            "block3d_expand_bn                  ----> Trainable: False\n",
            "block3d_expand_activation          ----> Trainable: False\n",
            "block3d_dwconv                     ----> Trainable: False\n",
            "block3d_bn                         ----> Trainable: False\n",
            "block3d_activation                 ----> Trainable: False\n",
            "block3d_se_squeeze                 ----> Trainable: False\n",
            "block3d_se_reshape                 ----> Trainable: False\n",
            "block3d_se_reduce                  ----> Trainable: False\n",
            "block3d_se_expand                  ----> Trainable: False\n",
            "block3d_se_excite                  ----> Trainable: False\n",
            "block3d_project_conv               ----> Trainable: False\n",
            "block3d_project_bn                 ----> Trainable: False\n",
            "block3d_drop                       ----> Trainable: False\n",
            "block3d_add                        ----> Trainable: False\n",
            "block3e_expand_conv                ----> Trainable: False\n",
            "block3e_expand_bn                  ----> Trainable: False\n",
            "block3e_expand_activation          ----> Trainable: False\n",
            "block3e_dwconv                     ----> Trainable: False\n",
            "block3e_bn                         ----> Trainable: False\n",
            "block3e_activation                 ----> Trainable: False\n",
            "block3e_se_squeeze                 ----> Trainable: False\n",
            "block3e_se_reshape                 ----> Trainable: False\n",
            "block3e_se_reduce                  ----> Trainable: False\n",
            "block3e_se_expand                  ----> Trainable: False\n",
            "block3e_se_excite                  ----> Trainable: False\n",
            "block3e_project_conv               ----> Trainable: False\n",
            "block3e_project_bn                 ----> Trainable: False\n",
            "block3e_drop                       ----> Trainable: False\n",
            "block3e_add                        ----> Trainable: False\n",
            "block3f_expand_conv                ----> Trainable: False\n",
            "block3f_expand_bn                  ----> Trainable: False\n",
            "block3f_expand_activation          ----> Trainable: False\n",
            "block3f_dwconv                     ----> Trainable: False\n",
            "block3f_bn                         ----> Trainable: False\n",
            "block3f_activation                 ----> Trainable: False\n",
            "block3f_se_squeeze                 ----> Trainable: False\n",
            "block3f_se_reshape                 ----> Trainable: False\n",
            "block3f_se_reduce                  ----> Trainable: False\n",
            "block3f_se_expand                  ----> Trainable: False\n",
            "block3f_se_excite                  ----> Trainable: False\n",
            "block3f_project_conv               ----> Trainable: False\n",
            "block3f_project_bn                 ----> Trainable: False\n",
            "block3f_drop                       ----> Trainable: False\n",
            "block3f_add                        ----> Trainable: False\n",
            "block3g_expand_conv                ----> Trainable: False\n",
            "block3g_expand_bn                  ----> Trainable: False\n",
            "block3g_expand_activation          ----> Trainable: False\n",
            "block3g_dwconv                     ----> Trainable: False\n",
            "block3g_bn                         ----> Trainable: False\n",
            "block3g_activation                 ----> Trainable: False\n",
            "block3g_se_squeeze                 ----> Trainable: False\n",
            "block3g_se_reshape                 ----> Trainable: False\n",
            "block3g_se_reduce                  ----> Trainable: False\n",
            "block3g_se_expand                  ----> Trainable: False\n",
            "block3g_se_excite                  ----> Trainable: False\n",
            "block3g_project_conv               ----> Trainable: False\n",
            "block3g_project_bn                 ----> Trainable: False\n",
            "block3g_drop                       ----> Trainable: False\n",
            "block3g_add                        ----> Trainable: False\n",
            "block4a_expand_conv                ----> Trainable: False\n",
            "block4a_expand_bn                  ----> Trainable: False\n",
            "block4a_expand_activation          ----> Trainable: False\n",
            "block4a_dwconv_pad                 ----> Trainable: False\n",
            "block4a_dwconv                     ----> Trainable: False\n",
            "block4a_bn                         ----> Trainable: False\n",
            "block4a_activation                 ----> Trainable: False\n",
            "block4a_se_squeeze                 ----> Trainable: False\n",
            "block4a_se_reshape                 ----> Trainable: False\n",
            "block4a_se_reduce                  ----> Trainable: False\n",
            "block4a_se_expand                  ----> Trainable: False\n",
            "block4a_se_excite                  ----> Trainable: False\n",
            "block4a_project_conv               ----> Trainable: False\n",
            "block4a_project_bn                 ----> Trainable: False\n",
            "block4b_expand_conv                ----> Trainable: False\n",
            "block4b_expand_bn                  ----> Trainable: False\n",
            "block4b_expand_activation          ----> Trainable: False\n",
            "block4b_dwconv                     ----> Trainable: False\n",
            "block4b_bn                         ----> Trainable: False\n",
            "block4b_activation                 ----> Trainable: False\n",
            "block4b_se_squeeze                 ----> Trainable: False\n",
            "block4b_se_reshape                 ----> Trainable: False\n",
            "block4b_se_reduce                  ----> Trainable: False\n",
            "block4b_se_expand                  ----> Trainable: False\n",
            "block4b_se_excite                  ----> Trainable: False\n",
            "block4b_project_conv               ----> Trainable: False\n",
            "block4b_project_bn                 ----> Trainable: False\n",
            "block4b_drop                       ----> Trainable: False\n",
            "block4b_add                        ----> Trainable: False\n",
            "block4c_expand_conv                ----> Trainable: False\n",
            "block4c_expand_bn                  ----> Trainable: False\n",
            "block4c_expand_activation          ----> Trainable: False\n",
            "block4c_dwconv                     ----> Trainable: False\n",
            "block4c_bn                         ----> Trainable: False\n",
            "block4c_activation                 ----> Trainable: False\n",
            "block4c_se_squeeze                 ----> Trainable: False\n",
            "block4c_se_reshape                 ----> Trainable: False\n",
            "block4c_se_reduce                  ----> Trainable: False\n",
            "block4c_se_expand                  ----> Trainable: False\n",
            "block4c_se_excite                  ----> Trainable: False\n",
            "block4c_project_conv               ----> Trainable: False\n",
            "block4c_project_bn                 ----> Trainable: False\n",
            "block4c_drop                       ----> Trainable: False\n",
            "block4c_add                        ----> Trainable: False\n",
            "block4d_expand_conv                ----> Trainable: False\n",
            "block4d_expand_bn                  ----> Trainable: False\n",
            "block4d_expand_activation          ----> Trainable: False\n",
            "block4d_dwconv                     ----> Trainable: False\n",
            "block4d_bn                         ----> Trainable: False\n",
            "block4d_activation                 ----> Trainable: False\n",
            "block4d_se_squeeze                 ----> Trainable: False\n",
            "block4d_se_reshape                 ----> Trainable: False\n",
            "block4d_se_reduce                  ----> Trainable: False\n",
            "block4d_se_expand                  ----> Trainable: False\n",
            "block4d_se_excite                  ----> Trainable: False\n",
            "block4d_project_conv               ----> Trainable: False\n",
            "block4d_project_bn                 ----> Trainable: False\n",
            "block4d_drop                       ----> Trainable: False\n",
            "block4d_add                        ----> Trainable: False\n",
            "block4e_expand_conv                ----> Trainable: False\n",
            "block4e_expand_bn                  ----> Trainable: False\n",
            "block4e_expand_activation          ----> Trainable: False\n",
            "block4e_dwconv                     ----> Trainable: False\n",
            "block4e_bn                         ----> Trainable: False\n",
            "block4e_activation                 ----> Trainable: False\n",
            "block4e_se_squeeze                 ----> Trainable: False\n",
            "block4e_se_reshape                 ----> Trainable: False\n",
            "block4e_se_reduce                  ----> Trainable: False\n",
            "block4e_se_expand                  ----> Trainable: False\n",
            "block4e_se_excite                  ----> Trainable: False\n",
            "block4e_project_conv               ----> Trainable: False\n",
            "block4e_project_bn                 ----> Trainable: False\n",
            "block4e_drop                       ----> Trainable: False\n",
            "block4e_add                        ----> Trainable: False\n",
            "block4f_expand_conv                ----> Trainable: False\n",
            "block4f_expand_bn                  ----> Trainable: False\n",
            "block4f_expand_activation          ----> Trainable: False\n",
            "block4f_dwconv                     ----> Trainable: False\n",
            "block4f_bn                         ----> Trainable: False\n",
            "block4f_activation                 ----> Trainable: False\n",
            "block4f_se_squeeze                 ----> Trainable: False\n",
            "block4f_se_reshape                 ----> Trainable: False\n",
            "block4f_se_reduce                  ----> Trainable: False\n",
            "block4f_se_expand                  ----> Trainable: False\n",
            "block4f_se_excite                  ----> Trainable: False\n",
            "block4f_project_conv               ----> Trainable: False\n",
            "block4f_project_bn                 ----> Trainable: False\n",
            "block4f_drop                       ----> Trainable: False\n",
            "block4f_add                        ----> Trainable: False\n",
            "block4g_expand_conv                ----> Trainable: False\n",
            "block4g_expand_bn                  ----> Trainable: False\n",
            "block4g_expand_activation          ----> Trainable: False\n",
            "block4g_dwconv                     ----> Trainable: False\n",
            "block4g_bn                         ----> Trainable: False\n",
            "block4g_activation                 ----> Trainable: False\n",
            "block4g_se_squeeze                 ----> Trainable: False\n",
            "block4g_se_reshape                 ----> Trainable: False\n",
            "block4g_se_reduce                  ----> Trainable: False\n",
            "block4g_se_expand                  ----> Trainable: False\n",
            "block4g_se_excite                  ----> Trainable: False\n",
            "block4g_project_conv               ----> Trainable: False\n",
            "block4g_project_bn                 ----> Trainable: False\n",
            "block4g_drop                       ----> Trainable: False\n",
            "block4g_add                        ----> Trainable: False\n",
            "block4h_expand_conv                ----> Trainable: False\n",
            "block4h_expand_bn                  ----> Trainable: False\n",
            "block4h_expand_activation          ----> Trainable: False\n",
            "block4h_dwconv                     ----> Trainable: False\n",
            "block4h_bn                         ----> Trainable: False\n",
            "block4h_activation                 ----> Trainable: False\n",
            "block4h_se_squeeze                 ----> Trainable: False\n",
            "block4h_se_reshape                 ----> Trainable: False\n",
            "block4h_se_reduce                  ----> Trainable: False\n",
            "block4h_se_expand                  ----> Trainable: False\n",
            "block4h_se_excite                  ----> Trainable: False\n",
            "block4h_project_conv               ----> Trainable: False\n",
            "block4h_project_bn                 ----> Trainable: False\n",
            "block4h_drop                       ----> Trainable: False\n",
            "block4h_add                        ----> Trainable: False\n",
            "block4i_expand_conv                ----> Trainable: False\n",
            "block4i_expand_bn                  ----> Trainable: False\n",
            "block4i_expand_activation          ----> Trainable: False\n",
            "block4i_dwconv                     ----> Trainable: False\n",
            "block4i_bn                         ----> Trainable: False\n",
            "block4i_activation                 ----> Trainable: False\n",
            "block4i_se_squeeze                 ----> Trainable: False\n",
            "block4i_se_reshape                 ----> Trainable: False\n",
            "block4i_se_reduce                  ----> Trainable: False\n",
            "block4i_se_expand                  ----> Trainable: False\n",
            "block4i_se_excite                  ----> Trainable: False\n",
            "block4i_project_conv               ----> Trainable: False\n",
            "block4i_project_bn                 ----> Trainable: False\n",
            "block4i_drop                       ----> Trainable: False\n",
            "block4i_add                        ----> Trainable: False\n",
            "block4j_expand_conv                ----> Trainable: False\n",
            "block4j_expand_bn                  ----> Trainable: False\n",
            "block4j_expand_activation          ----> Trainable: False\n",
            "block4j_dwconv                     ----> Trainable: False\n",
            "block4j_bn                         ----> Trainable: False\n",
            "block4j_activation                 ----> Trainable: False\n",
            "block4j_se_squeeze                 ----> Trainable: False\n",
            "block4j_se_reshape                 ----> Trainable: False\n",
            "block4j_se_reduce                  ----> Trainable: False\n",
            "block4j_se_expand                  ----> Trainable: False\n",
            "block4j_se_excite                  ----> Trainable: False\n",
            "block4j_project_conv               ----> Trainable: False\n",
            "block4j_project_bn                 ----> Trainable: False\n",
            "block4j_drop                       ----> Trainable: False\n",
            "block4j_add                        ----> Trainable: False\n",
            "block5a_expand_conv                ----> Trainable: False\n",
            "block5a_expand_bn                  ----> Trainable: False\n",
            "block5a_expand_activation          ----> Trainable: False\n",
            "block5a_dwconv                     ----> Trainable: False\n",
            "block5a_bn                         ----> Trainable: False\n",
            "block5a_activation                 ----> Trainable: False\n",
            "block5a_se_squeeze                 ----> Trainable: False\n",
            "block5a_se_reshape                 ----> Trainable: False\n",
            "block5a_se_reduce                  ----> Trainable: False\n",
            "block5a_se_expand                  ----> Trainable: False\n",
            "block5a_se_excite                  ----> Trainable: False\n",
            "block5a_project_conv               ----> Trainable: False\n",
            "block5a_project_bn                 ----> Trainable: False\n",
            "block5b_expand_conv                ----> Trainable: False\n",
            "block5b_expand_bn                  ----> Trainable: False\n",
            "block5b_expand_activation          ----> Trainable: False\n",
            "block5b_dwconv                     ----> Trainable: False\n",
            "block5b_bn                         ----> Trainable: False\n",
            "block5b_activation                 ----> Trainable: False\n",
            "block5b_se_squeeze                 ----> Trainable: False\n",
            "block5b_se_reshape                 ----> Trainable: False\n",
            "block5b_se_reduce                  ----> Trainable: False\n",
            "block5b_se_expand                  ----> Trainable: False\n",
            "block5b_se_excite                  ----> Trainable: False\n",
            "block5b_project_conv               ----> Trainable: False\n",
            "block5b_project_bn                 ----> Trainable: False\n",
            "block5b_drop                       ----> Trainable: False\n",
            "block5b_add                        ----> Trainable: False\n",
            "block5c_expand_conv                ----> Trainable: False\n",
            "block5c_expand_bn                  ----> Trainable: False\n",
            "block5c_expand_activation          ----> Trainable: False\n",
            "block5c_dwconv                     ----> Trainable: False\n",
            "block5c_bn                         ----> Trainable: False\n",
            "block5c_activation                 ----> Trainable: False\n",
            "block5c_se_squeeze                 ----> Trainable: False\n",
            "block5c_se_reshape                 ----> Trainable: False\n",
            "block5c_se_reduce                  ----> Trainable: False\n",
            "block5c_se_expand                  ----> Trainable: False\n",
            "block5c_se_excite                  ----> Trainable: False\n",
            "block5c_project_conv               ----> Trainable: False\n",
            "block5c_project_bn                 ----> Trainable: False\n",
            "block5c_drop                       ----> Trainable: False\n",
            "block5c_add                        ----> Trainable: False\n",
            "block5d_expand_conv                ----> Trainable: False\n",
            "block5d_expand_bn                  ----> Trainable: False\n",
            "block5d_expand_activation          ----> Trainable: False\n",
            "block5d_dwconv                     ----> Trainable: False\n",
            "block5d_bn                         ----> Trainable: False\n",
            "block5d_activation                 ----> Trainable: False\n",
            "block5d_se_squeeze                 ----> Trainable: False\n",
            "block5d_se_reshape                 ----> Trainable: False\n",
            "block5d_se_reduce                  ----> Trainable: False\n",
            "block5d_se_expand                  ----> Trainable: False\n",
            "block5d_se_excite                  ----> Trainable: False\n",
            "block5d_project_conv               ----> Trainable: False\n",
            "block5d_project_bn                 ----> Trainable: False\n",
            "block5d_drop                       ----> Trainable: False\n",
            "block5d_add                        ----> Trainable: False\n",
            "block5e_expand_conv                ----> Trainable: False\n",
            "block5e_expand_bn                  ----> Trainable: False\n",
            "block5e_expand_activation          ----> Trainable: False\n",
            "block5e_dwconv                     ----> Trainable: False\n",
            "block5e_bn                         ----> Trainable: False\n",
            "block5e_activation                 ----> Trainable: False\n",
            "block5e_se_squeeze                 ----> Trainable: False\n",
            "block5e_se_reshape                 ----> Trainable: False\n",
            "block5e_se_reduce                  ----> Trainable: False\n",
            "block5e_se_expand                  ----> Trainable: False\n",
            "block5e_se_excite                  ----> Trainable: False\n",
            "block5e_project_conv               ----> Trainable: False\n",
            "block5e_project_bn                 ----> Trainable: False\n",
            "block5e_drop                       ----> Trainable: False\n",
            "block5e_add                        ----> Trainable: False\n",
            "block5f_expand_conv                ----> Trainable: False\n",
            "block5f_expand_bn                  ----> Trainable: False\n",
            "block5f_expand_activation          ----> Trainable: False\n",
            "block5f_dwconv                     ----> Trainable: False\n",
            "block5f_bn                         ----> Trainable: False\n",
            "block5f_activation                 ----> Trainable: False\n",
            "block5f_se_squeeze                 ----> Trainable: False\n",
            "block5f_se_reshape                 ----> Trainable: False\n",
            "block5f_se_reduce                  ----> Trainable: False\n",
            "block5f_se_expand                  ----> Trainable: False\n",
            "block5f_se_excite                  ----> Trainable: False\n",
            "block5f_project_conv               ----> Trainable: False\n",
            "block5f_project_bn                 ----> Trainable: False\n",
            "block5f_drop                       ----> Trainable: False\n",
            "block5f_add                        ----> Trainable: False\n",
            "block5g_expand_conv                ----> Trainable: False\n",
            "block5g_expand_bn                  ----> Trainable: False\n",
            "block5g_expand_activation          ----> Trainable: False\n",
            "block5g_dwconv                     ----> Trainable: False\n",
            "block5g_bn                         ----> Trainable: False\n",
            "block5g_activation                 ----> Trainable: False\n",
            "block5g_se_squeeze                 ----> Trainable: False\n",
            "block5g_se_reshape                 ----> Trainable: False\n",
            "block5g_se_reduce                  ----> Trainable: False\n",
            "block5g_se_expand                  ----> Trainable: False\n",
            "block5g_se_excite                  ----> Trainable: False\n",
            "block5g_project_conv               ----> Trainable: False\n",
            "block5g_project_bn                 ----> Trainable: False\n",
            "block5g_drop                       ----> Trainable: False\n",
            "block5g_add                        ----> Trainable: False\n",
            "block5h_expand_conv                ----> Trainable: False\n",
            "block5h_expand_bn                  ----> Trainable: False\n",
            "block5h_expand_activation          ----> Trainable: False\n",
            "block5h_dwconv                     ----> Trainable: False\n",
            "block5h_bn                         ----> Trainable: False\n",
            "block5h_activation                 ----> Trainable: False\n",
            "block5h_se_squeeze                 ----> Trainable: False\n",
            "block5h_se_reshape                 ----> Trainable: False\n",
            "block5h_se_reduce                  ----> Trainable: False\n",
            "block5h_se_expand                  ----> Trainable: False\n",
            "block5h_se_excite                  ----> Trainable: False\n",
            "block5h_project_conv               ----> Trainable: False\n",
            "block5h_project_bn                 ----> Trainable: False\n",
            "block5h_drop                       ----> Trainable: False\n",
            "block5h_add                        ----> Trainable: False\n",
            "block5i_expand_conv                ----> Trainable: False\n",
            "block5i_expand_bn                  ----> Trainable: False\n",
            "block5i_expand_activation          ----> Trainable: False\n",
            "block5i_dwconv                     ----> Trainable: False\n",
            "block5i_bn                         ----> Trainable: False\n",
            "block5i_activation                 ----> Trainable: False\n",
            "block5i_se_squeeze                 ----> Trainable: False\n",
            "block5i_se_reshape                 ----> Trainable: False\n",
            "block5i_se_reduce                  ----> Trainable: False\n",
            "block5i_se_expand                  ----> Trainable: False\n",
            "block5i_se_excite                  ----> Trainable: False\n",
            "block5i_project_conv               ----> Trainable: False\n",
            "block5i_project_bn                 ----> Trainable: False\n",
            "block5i_drop                       ----> Trainable: False\n",
            "block5i_add                        ----> Trainable: False\n",
            "block5j_expand_conv                ----> Trainable: False\n",
            "block5j_expand_bn                  ----> Trainable: False\n",
            "block5j_expand_activation          ----> Trainable: False\n",
            "block5j_dwconv                     ----> Trainable: False\n",
            "block5j_bn                         ----> Trainable: False\n",
            "block5j_activation                 ----> Trainable: False\n",
            "block5j_se_squeeze                 ----> Trainable: False\n",
            "block5j_se_reshape                 ----> Trainable: False\n",
            "block5j_se_reduce                  ----> Trainable: False\n",
            "block5j_se_expand                  ----> Trainable: False\n",
            "block5j_se_excite                  ----> Trainable: False\n",
            "block5j_project_conv               ----> Trainable: False\n",
            "block5j_project_bn                 ----> Trainable: False\n",
            "block5j_drop                       ----> Trainable: False\n",
            "block5j_add                        ----> Trainable: False\n",
            "block6a_expand_conv                ----> Trainable: True\n",
            "block6a_expand_bn                  ----> Trainable: False\n",
            "block6a_expand_activation          ----> Trainable: True\n",
            "block6a_dwconv_pad                 ----> Trainable: True\n",
            "block6a_dwconv                     ----> Trainable: True\n",
            "block6a_bn                         ----> Trainable: False\n",
            "block6a_activation                 ----> Trainable: True\n",
            "block6a_se_squeeze                 ----> Trainable: True\n",
            "block6a_se_reshape                 ----> Trainable: True\n",
            "block6a_se_reduce                  ----> Trainable: True\n",
            "block6a_se_expand                  ----> Trainable: True\n",
            "block6a_se_excite                  ----> Trainable: True\n",
            "block6a_project_conv               ----> Trainable: True\n",
            "block6a_project_bn                 ----> Trainable: False\n",
            "block6b_expand_conv                ----> Trainable: True\n",
            "block6b_expand_bn                  ----> Trainable: False\n",
            "block6b_expand_activation          ----> Trainable: True\n",
            "block6b_dwconv                     ----> Trainable: True\n",
            "block6b_bn                         ----> Trainable: False\n",
            "block6b_activation                 ----> Trainable: True\n",
            "block6b_se_squeeze                 ----> Trainable: True\n",
            "block6b_se_reshape                 ----> Trainable: True\n",
            "block6b_se_reduce                  ----> Trainable: True\n",
            "block6b_se_expand                  ----> Trainable: True\n",
            "block6b_se_excite                  ----> Trainable: True\n",
            "block6b_project_conv               ----> Trainable: True\n",
            "block6b_project_bn                 ----> Trainable: False\n",
            "block6b_drop                       ----> Trainable: True\n",
            "block6b_add                        ----> Trainable: True\n",
            "block6c_expand_conv                ----> Trainable: True\n",
            "block6c_expand_bn                  ----> Trainable: False\n",
            "block6c_expand_activation          ----> Trainable: True\n",
            "block6c_dwconv                     ----> Trainable: True\n",
            "block6c_bn                         ----> Trainable: False\n",
            "block6c_activation                 ----> Trainable: True\n",
            "block6c_se_squeeze                 ----> Trainable: True\n",
            "block6c_se_reshape                 ----> Trainable: True\n",
            "block6c_se_reduce                  ----> Trainable: True\n",
            "block6c_se_expand                  ----> Trainable: True\n",
            "block6c_se_excite                  ----> Trainable: True\n",
            "block6c_project_conv               ----> Trainable: True\n",
            "block6c_project_bn                 ----> Trainable: False\n",
            "block6c_drop                       ----> Trainable: True\n",
            "block6c_add                        ----> Trainable: True\n",
            "block6d_expand_conv                ----> Trainable: True\n",
            "block6d_expand_bn                  ----> Trainable: False\n",
            "block6d_expand_activation          ----> Trainable: True\n",
            "block6d_dwconv                     ----> Trainable: True\n",
            "block6d_bn                         ----> Trainable: False\n",
            "block6d_activation                 ----> Trainable: True\n",
            "block6d_se_squeeze                 ----> Trainable: True\n",
            "block6d_se_reshape                 ----> Trainable: True\n",
            "block6d_se_reduce                  ----> Trainable: True\n",
            "block6d_se_expand                  ----> Trainable: True\n",
            "block6d_se_excite                  ----> Trainable: True\n",
            "block6d_project_conv               ----> Trainable: True\n",
            "block6d_project_bn                 ----> Trainable: False\n",
            "block6d_drop                       ----> Trainable: True\n",
            "block6d_add                        ----> Trainable: True\n",
            "block6e_expand_conv                ----> Trainable: True\n",
            "block6e_expand_bn                  ----> Trainable: False\n",
            "block6e_expand_activation          ----> Trainable: True\n",
            "block6e_dwconv                     ----> Trainable: True\n",
            "block6e_bn                         ----> Trainable: False\n",
            "block6e_activation                 ----> Trainable: True\n",
            "block6e_se_squeeze                 ----> Trainable: True\n",
            "block6e_se_reshape                 ----> Trainable: True\n",
            "block6e_se_reduce                  ----> Trainable: True\n",
            "block6e_se_expand                  ----> Trainable: True\n",
            "block6e_se_excite                  ----> Trainable: True\n",
            "block6e_project_conv               ----> Trainable: True\n",
            "block6e_project_bn                 ----> Trainable: False\n",
            "block6e_drop                       ----> Trainable: True\n",
            "block6e_add                        ----> Trainable: True\n",
            "block6f_expand_conv                ----> Trainable: True\n",
            "block6f_expand_bn                  ----> Trainable: False\n",
            "block6f_expand_activation          ----> Trainable: True\n",
            "block6f_dwconv                     ----> Trainable: True\n",
            "block6f_bn                         ----> Trainable: False\n",
            "block6f_activation                 ----> Trainable: True\n",
            "block6f_se_squeeze                 ----> Trainable: True\n",
            "block6f_se_reshape                 ----> Trainable: True\n",
            "block6f_se_reduce                  ----> Trainable: True\n",
            "block6f_se_expand                  ----> Trainable: True\n",
            "block6f_se_excite                  ----> Trainable: True\n",
            "block6f_project_conv               ----> Trainable: True\n",
            "block6f_project_bn                 ----> Trainable: False\n",
            "block6f_drop                       ----> Trainable: True\n",
            "block6f_add                        ----> Trainable: True\n",
            "block6g_expand_conv                ----> Trainable: True\n",
            "block6g_expand_bn                  ----> Trainable: False\n",
            "block6g_expand_activation          ----> Trainable: True\n",
            "block6g_dwconv                     ----> Trainable: True\n",
            "block6g_bn                         ----> Trainable: False\n",
            "block6g_activation                 ----> Trainable: True\n",
            "block6g_se_squeeze                 ----> Trainable: True\n",
            "block6g_se_reshape                 ----> Trainable: True\n",
            "block6g_se_reduce                  ----> Trainable: True\n",
            "block6g_se_expand                  ----> Trainable: True\n",
            "block6g_se_excite                  ----> Trainable: True\n",
            "block6g_project_conv               ----> Trainable: True\n",
            "block6g_project_bn                 ----> Trainable: False\n",
            "block6g_drop                       ----> Trainable: True\n",
            "block6g_add                        ----> Trainable: True\n",
            "block6h_expand_conv                ----> Trainable: True\n",
            "block6h_expand_bn                  ----> Trainable: False\n",
            "block6h_expand_activation          ----> Trainable: True\n",
            "block6h_dwconv                     ----> Trainable: True\n",
            "block6h_bn                         ----> Trainable: False\n",
            "block6h_activation                 ----> Trainable: True\n",
            "block6h_se_squeeze                 ----> Trainable: True\n",
            "block6h_se_reshape                 ----> Trainable: True\n",
            "block6h_se_reduce                  ----> Trainable: True\n",
            "block6h_se_expand                  ----> Trainable: True\n",
            "block6h_se_excite                  ----> Trainable: True\n",
            "block6h_project_conv               ----> Trainable: True\n",
            "block6h_project_bn                 ----> Trainable: False\n",
            "block6h_drop                       ----> Trainable: True\n",
            "block6h_add                        ----> Trainable: True\n",
            "block6i_expand_conv                ----> Trainable: True\n",
            "block6i_expand_bn                  ----> Trainable: False\n",
            "block6i_expand_activation          ----> Trainable: True\n",
            "block6i_dwconv                     ----> Trainable: True\n",
            "block6i_bn                         ----> Trainable: False\n",
            "block6i_activation                 ----> Trainable: True\n",
            "block6i_se_squeeze                 ----> Trainable: True\n",
            "block6i_se_reshape                 ----> Trainable: True\n",
            "block6i_se_reduce                  ----> Trainable: True\n",
            "block6i_se_expand                  ----> Trainable: True\n",
            "block6i_se_excite                  ----> Trainable: True\n",
            "block6i_project_conv               ----> Trainable: True\n",
            "block6i_project_bn                 ----> Trainable: False\n",
            "block6i_drop                       ----> Trainable: True\n",
            "block6i_add                        ----> Trainable: True\n",
            "block6j_expand_conv                ----> Trainable: True\n",
            "block6j_expand_bn                  ----> Trainable: False\n",
            "block6j_expand_activation          ----> Trainable: True\n",
            "block6j_dwconv                     ----> Trainable: True\n",
            "block6j_bn                         ----> Trainable: False\n",
            "block6j_activation                 ----> Trainable: True\n",
            "block6j_se_squeeze                 ----> Trainable: True\n",
            "block6j_se_reshape                 ----> Trainable: True\n",
            "block6j_se_reduce                  ----> Trainable: True\n",
            "block6j_se_expand                  ----> Trainable: True\n",
            "block6j_se_excite                  ----> Trainable: True\n",
            "block6j_project_conv               ----> Trainable: True\n",
            "block6j_project_bn                 ----> Trainable: False\n",
            "block6j_drop                       ----> Trainable: True\n",
            "block6j_add                        ----> Trainable: True\n",
            "block6k_expand_conv                ----> Trainable: True\n",
            "block6k_expand_bn                  ----> Trainable: False\n",
            "block6k_expand_activation          ----> Trainable: True\n",
            "block6k_dwconv                     ----> Trainable: True\n",
            "block6k_bn                         ----> Trainable: False\n",
            "block6k_activation                 ----> Trainable: True\n",
            "block6k_se_squeeze                 ----> Trainable: True\n",
            "block6k_se_reshape                 ----> Trainable: True\n",
            "block6k_se_reduce                  ----> Trainable: True\n",
            "block6k_se_expand                  ----> Trainable: True\n",
            "block6k_se_excite                  ----> Trainable: True\n",
            "block6k_project_conv               ----> Trainable: True\n",
            "block6k_project_bn                 ----> Trainable: False\n",
            "block6k_drop                       ----> Trainable: True\n",
            "block6k_add                        ----> Trainable: True\n",
            "block6l_expand_conv                ----> Trainable: True\n",
            "block6l_expand_bn                  ----> Trainable: False\n",
            "block6l_expand_activation          ----> Trainable: True\n",
            "block6l_dwconv                     ----> Trainable: True\n",
            "block6l_bn                         ----> Trainable: False\n",
            "block6l_activation                 ----> Trainable: True\n",
            "block6l_se_squeeze                 ----> Trainable: True\n",
            "block6l_se_reshape                 ----> Trainable: True\n",
            "block6l_se_reduce                  ----> Trainable: True\n",
            "block6l_se_expand                  ----> Trainable: True\n",
            "block6l_se_excite                  ----> Trainable: True\n",
            "block6l_project_conv               ----> Trainable: True\n",
            "block6l_project_bn                 ----> Trainable: False\n",
            "block6l_drop                       ----> Trainable: True\n",
            "block6l_add                        ----> Trainable: True\n",
            "block6m_expand_conv                ----> Trainable: True\n",
            "block6m_expand_bn                  ----> Trainable: False\n",
            "block6m_expand_activation          ----> Trainable: True\n",
            "block6m_dwconv                     ----> Trainable: True\n",
            "block6m_bn                         ----> Trainable: False\n",
            "block6m_activation                 ----> Trainable: True\n",
            "block6m_se_squeeze                 ----> Trainable: True\n",
            "block6m_se_reshape                 ----> Trainable: True\n",
            "block6m_se_reduce                  ----> Trainable: True\n",
            "block6m_se_expand                  ----> Trainable: True\n",
            "block6m_se_excite                  ----> Trainable: True\n",
            "block6m_project_conv               ----> Trainable: True\n",
            "block6m_project_bn                 ----> Trainable: False\n",
            "block6m_drop                       ----> Trainable: True\n",
            "block6m_add                        ----> Trainable: True\n",
            "block7a_expand_conv                ----> Trainable: True\n",
            "block7a_expand_bn                  ----> Trainable: False\n",
            "block7a_expand_activation          ----> Trainable: True\n",
            "block7a_dwconv                     ----> Trainable: True\n",
            "block7a_bn                         ----> Trainable: False\n",
            "block7a_activation                 ----> Trainable: True\n",
            "block7a_se_squeeze                 ----> Trainable: True\n",
            "block7a_se_reshape                 ----> Trainable: True\n",
            "block7a_se_reduce                  ----> Trainable: True\n",
            "block7a_se_expand                  ----> Trainable: True\n",
            "block7a_se_excite                  ----> Trainable: True\n",
            "block7a_project_conv               ----> Trainable: True\n",
            "block7a_project_bn                 ----> Trainable: False\n",
            "block7b_expand_conv                ----> Trainable: True\n",
            "block7b_expand_bn                  ----> Trainable: False\n",
            "block7b_expand_activation          ----> Trainable: True\n",
            "block7b_dwconv                     ----> Trainable: True\n",
            "block7b_bn                         ----> Trainable: False\n",
            "block7b_activation                 ----> Trainable: True\n",
            "block7b_se_squeeze                 ----> Trainable: True\n",
            "block7b_se_reshape                 ----> Trainable: True\n",
            "block7b_se_reduce                  ----> Trainable: True\n",
            "block7b_se_expand                  ----> Trainable: True\n",
            "block7b_se_excite                  ----> Trainable: True\n",
            "block7b_project_conv               ----> Trainable: True\n",
            "block7b_project_bn                 ----> Trainable: False\n",
            "block7b_drop                       ----> Trainable: True\n",
            "block7b_add                        ----> Trainable: True\n",
            "block7c_expand_conv                ----> Trainable: True\n",
            "block7c_expand_bn                  ----> Trainable: False\n",
            "block7c_expand_activation          ----> Trainable: True\n",
            "block7c_dwconv                     ----> Trainable: True\n",
            "block7c_bn                         ----> Trainable: False\n",
            "block7c_activation                 ----> Trainable: True\n",
            "block7c_se_squeeze                 ----> Trainable: True\n",
            "block7c_se_reshape                 ----> Trainable: True\n",
            "block7c_se_reduce                  ----> Trainable: True\n",
            "block7c_se_expand                  ----> Trainable: True\n",
            "block7c_se_excite                  ----> Trainable: True\n",
            "block7c_project_conv               ----> Trainable: True\n",
            "block7c_project_bn                 ----> Trainable: False\n",
            "block7c_drop                       ----> Trainable: True\n",
            "block7c_add                        ----> Trainable: True\n",
            "block7d_expand_conv                ----> Trainable: True\n",
            "block7d_expand_bn                  ----> Trainable: False\n",
            "block7d_expand_activation          ----> Trainable: True\n",
            "block7d_dwconv                     ----> Trainable: True\n",
            "block7d_bn                         ----> Trainable: False\n",
            "block7d_activation                 ----> Trainable: True\n",
            "block7d_se_squeeze                 ----> Trainable: True\n",
            "block7d_se_reshape                 ----> Trainable: True\n",
            "block7d_se_reduce                  ----> Trainable: True\n",
            "block7d_se_expand                  ----> Trainable: True\n",
            "block7d_se_excite                  ----> Trainable: True\n",
            "block7d_project_conv               ----> Trainable: True\n",
            "block7d_project_bn                 ----> Trainable: False\n",
            "block7d_drop                       ----> Trainable: True\n",
            "block7d_add                        ----> Trainable: True\n",
            "up_sampling2d                      ----> Trainable: True\n",
            "up_sampling2d_1                    ----> Trainable: True\n",
            "conv2d                             ----> Trainable: True\n",
            "concatenate                        ----> Trainable: True\n",
            "conv2d_1                           ----> Trainable: True\n",
            "up_sampling2d_3                    ----> Trainable: True\n",
            "up_sampling2d_2                    ----> Trainable: True\n",
            "concatenate_1                      ----> Trainable: True\n",
            "conv2d_2                           ----> Trainable: True\n",
            "up_sampling2d_5                    ----> Trainable: True\n",
            "up_sampling2d_4                    ----> Trainable: True\n",
            "concatenate_2                      ----> Trainable: True\n",
            "conv2d_3                           ----> Trainable: True\n",
            "up_sampling2d_7                    ----> Trainable: True\n",
            "up_sampling2d_6                    ----> Trainable: True\n",
            "concatenate_3                      ----> Trainable: True\n",
            "conv2d_4                           ----> Trainable: True\n",
            "up_sampling2d_8                    ----> Trainable: True\n",
            "conv2d_5                           ----> Trainable: True\n",
            "Model: \"sequential\"\n",
            "_________________________________________________________________\n",
            "Layer (type)                 Output Shape              Param #   \n",
            "=================================================================\n",
            "model (Functional)           (None, 512, 512, 3)       68078746  \n",
            "=================================================================\n",
            "Total params: 68,078,746\n",
            "Trainable params: 55,266,939\n",
            "Non-trainable params: 12,811,807\n",
            "_________________________________________________________________\n",
            "Epoch 1/50\n",
            "770/770 [==============================] - 1848s 2s/step - loss: 0.9078 - accuracy: 0.9270 - meanIoU: 0.5130 - val_loss: 0.2201 - val_accuracy: 0.9631 - val_meanIoU: 0.5422\n",
            "Epoch 2/50\n",
            "770/770 [==============================] - 1803s 2s/step - loss: 0.2566 - accuracy: 0.9506 - meanIoU: 0.6337 - val_loss: 0.1672 - val_accuracy: 0.9660 - val_meanIoU: 0.5776\n",
            "Epoch 3/50\n",
            "770/770 [==============================] - 1794s 2s/step - loss: 0.1924 - accuracy: 0.9566 - meanIoU: 0.6777 - val_loss: 0.1468 - val_accuracy: 0.9676 - val_meanIoU: 0.6022\n",
            "Epoch 4/50\n",
            "770/770 [==============================] - 1761s 2s/step - loss: 0.1630 - accuracy: 0.9608 - meanIoU: 0.7087 - val_loss: 0.1449 - val_accuracy: 0.9677 - val_meanIoU: 0.6214\n",
            "Epoch 5/50\n",
            "168/770 [=====>........................] - ETA: 21:47 - loss: 0.1569 - accuracy: 0.9619 - meanIoU: 0.7219"
          ],
          "name": "stdout"
        }
      ]
    },
    {
      "cell_type": "markdown",
      "metadata": {
        "id": "WuVw1q_NnFJh"
      },
      "source": [
        "# Predictions from the network"
      ]
    },
    {
      "cell_type": "code",
      "metadata": {
        "id": "1Gf_AhcG44oY"
      },
      "source": [
        "apply_data_augmentation = True\r\n",
        "\r\n",
        "img_h = int(512)\r\n",
        "img_w = int(512)\r\n",
        "\r\n",
        "num_classes = 3\r\n",
        "\r\n",
        "bs = 1\r\n",
        "\r\n",
        "[img_data_gen, mask_data_gen] = data_generator(apply_data_augmentation)\r\n",
        "\r\n",
        "[train_dataset, dataset, valid_dataset, dataset_valid] = create_dataset(img_data_gen, mask_data_gen, img_h = img_h, img_w = img_w, bs = bs, num_classes = num_classes)\r\n",
        "\r\n",
        "model = define_transfer_learning(input_size = (img_h, img_w, 3))\r\n",
        "\r\n",
        "exps_dir = os.path.join('/content/drive/My Drive/Challenge_2/', 'segmentation_experiments')\r\n",
        "model_name = 'eff-Unet_fine_tuning_PATCH_512x512_STRIDE_1_SparseWeightedLoss' \r\n",
        "exp_dir = os.path.join(exps_dir, model_name)\r\n",
        "ckpt_dir = os.path.join(exp_dir, 'ckpts')\r\n",
        "latest = tf.train.latest_checkpoint(ckpt_dir)\r\n",
        "print(latest)\r\n",
        "\r\n",
        "model.load_weights(latest)"
      ],
      "execution_count": null,
      "outputs": []
    },
    {
      "cell_type": "code",
      "metadata": {
        "id": "zo1JbCO5nFJh",
        "scrolled": false
      },
      "source": [
        "import time\n",
        "import matplotlib.pyplot as plt\n",
        "\n",
        "from PIL import Image\n",
        "\n",
        "%matplotlib inline\n",
        "\n",
        "iterator = iter(valid_dataset)"
      ],
      "execution_count": null,
      "outputs": []
    },
    {
      "cell_type": "code",
      "metadata": {
        "id": "Sva_yDy07BoF"
      },
      "source": [
        "image, target = next(iterator)"
      ],
      "execution_count": null,
      "outputs": []
    },
    {
      "cell_type": "code",
      "metadata": {
        "colab": {
          "base_uri": "https://localhost:8080/",
          "height": 200
        },
        "id": "M75UjH7xxS7J",
        "outputId": "f60bee81-c7a7-4160-d425-679a8b6715ef"
      },
      "source": [
        "fig, ax = plt.subplots(1, 3, figsize=(8, 8))\n",
        "fig.show()\n",
        "\n",
        "image = image[0]\n",
        "target = target[0, ..., 0]\n",
        "\n",
        "out_sigmoid = model.predict(x=tf.expand_dims(image, 0))\n",
        "\n",
        "# Get predicted class as the index corresponding to the maximum value in the vector probability\n",
        "predicted_class = tf.argmax(out_sigmoid, -1)\n",
        "\n",
        "#out_sigmoid.shape\n",
        "#print(tf.argmax(out_sigmoid, -1).shape)\n",
        "\n",
        "predicted_class = predicted_class[0, ...]\n",
        "\n",
        "# Assign colors (just for visualization)\n",
        "target_img = np.zeros([target.shape[0], target.shape[1], 3])\n",
        "prediction_img = np.zeros([target.shape[0], target.shape[1], 3])\n",
        "\n",
        "target_img[np.where(target == 0)] = [0, 0, 0]\n",
        "for i in range(1, 3):\n",
        "  target_img[np.where(target == i)] = np.array(colors[i-1])[:3] * 255\n",
        "\n",
        "prediction_img[np.where(predicted_class == 0)] = [0, 0, 0]\n",
        "for i in range(1, 3):\n",
        "  prediction_img[np.where(predicted_class == i)] = np.array(colors[i-1])[:3] * 255\n",
        "\n",
        "ax[0].imshow(np.uint8(image)) # 1st: Image\n",
        "ax[1].imshow(np.uint8(target_img)) # 2nd: Target mask\n",
        "ax[2].imshow(np.uint8(prediction_img)) #3rd: Predicted mask\n",
        "\n",
        "fig.canvas.draw()\n",
        "time.sleep(1)"
      ],
      "execution_count": null,
      "outputs": [
        {
          "output_type": "execute_result",
          "data": {
            "text/plain": [
              "<matplotlib.image.AxesImage at 0x7f7c522e9b38>"
            ]
          },
          "metadata": {
            "tags": []
          },
          "execution_count": 86
        },
        {
          "output_type": "execute_result",
          "data": {
            "text/plain": [
              "<matplotlib.image.AxesImage at 0x7f7c5230f4a8>"
            ]
          },
          "metadata": {
            "tags": []
          },
          "execution_count": 86
        },
        {
          "output_type": "execute_result",
          "data": {
            "text/plain": [
              "<matplotlib.image.AxesImage at 0x7f7c53cefeb8>"
            ]
          },
          "metadata": {
            "tags": []
          },
          "execution_count": 86
        },
        {
          "output_type": "display_data",
          "data": {
            "image/png": "[encoded data removed]",
            "text/plain": [
              "<Figure size 576x576 with 3 Axes>"
            ]
          },
          "metadata": {
            "tags": [],
            "needs_background": "light"
          }
        }
      ]
    },
    {
      "cell_type": "markdown",
      "metadata": {
        "id": "3F4z0YRCPv91"
      },
      "source": [
        "# Create prediction.json"
      ]
    },
    {
      "cell_type": "code",
      "metadata": {
        "id": "2pcyiJAJarDo"
      },
      "source": [
        "if SPLIT_DATASET == False:\r\n",
        "  ! unzip '/content/drive/My Drive/Challenge_2/Development_Dataset.zip'"
      ],
      "execution_count": null,
      "outputs": []
    },
    {
      "cell_type": "code",
      "metadata": {
        "id": "iXWigXycuzfA"
      },
      "source": [
        "def rle_encode(img):\n",
        "  '''\n",
        "  img: numpy array, 1 - foreground, 0 - background\n",
        "  Returns run length as string formatted\n",
        "  '''\n",
        "  pixels = img.flatten()\n",
        "  pixels = np.concatenate([[0], pixels, [0]])\n",
        "  runs = np.where(pixels[1:] != pixels[:-1])[0] + 1\n",
        "  runs[1::2] -= runs[::2]\n",
        "  \n",
        "  return ' '.join(str(x) for x in runs)"
      ],
      "execution_count": null,
      "outputs": []
    },
    {
      "cell_type": "code",
      "metadata": {
        "id": "3S6aBsqW60dM"
      },
      "source": [
        "import json\r\n",
        "\r\n",
        "\r\n",
        "# The submission file will be a zip file containing the a\r\n",
        "# submission.json file.\r\n",
        "\r\n",
        "# It must have the following structure:\r\n",
        "\r\n",
        "# - image name (without any extension, e.g., png, jpg, etc.)\r\n",
        "#   - shape: shape of the original image as list [Height, Width]\r\n",
        "#   - team: team of the original image. One in {'Bipbip', 'Pead', 'Roseau', 'Weedelec'}\r\n",
        "#   - crop: crop of the original image. One in {'Haricot', 'Mais'}\r\n",
        "#   - segmentation: prediction (as a dict)\r\n",
        "#     - crop: RLE encoded crop segmentation (no weed)\r\n",
        "#     - weed: RLE encoded weed segmentation (no crop)\r\n",
        "\r\n",
        "# Please refer to the folder structure of the given dataset to fill\r\n",
        "# the team and crop keys.\r\n",
        "\r\n",
        "if USE_TILING == True:\r\n",
        "\r\n",
        "  teams = ['Bipbip', 'Pead', 'Roseau', 'Weedelec']\r\n",
        "  plants = ['Haricot', 'Mais']\r\n",
        "\r\n",
        "  submission_dict = {}\r\n",
        "\r\n",
        "  patch_height = 512\r\n",
        "  patch_width = 512\r\n",
        "  h_stride = 0.25\r\n",
        "  w_stride = 0.25\r\n",
        "\r\n",
        "  for t in teams:\r\n",
        "    for p in plants:\r\n",
        "\r\n",
        "      tmp_path = '/content/Test_Final/' + t + '/' + p + '/' + 'Images'\r\n",
        "      \r\n",
        "      image_filenames = os.listdir(tmp_path)\r\n",
        "\r\n",
        "      for img_name in image_filenames:\r\n",
        "        \r\n",
        "        tmp_path = '/content/Test_Final/' + t + '/' + p + '/' + 'Images'\r\n",
        "        tmp_path = os.path.join(tmp_path, img_name)\r\n",
        "        img = Image.open(tmp_path).convert('RGB')\r\n",
        "        \r\n",
        "        img_name = img_name.split('.')[0]\r\n",
        "\r\n",
        "        submission_dict[img_name] = {}\r\n",
        "        submission_dict[img_name]['shape'] = [img.height, img.width]\r\n",
        "        submission_dict[img_name]['team'] = t\r\n",
        "        submission_dict[img_name]['crop'] = p\r\n",
        "        submission_dict[img_name]['segmentation'] = {}\r\n",
        "\r\n",
        "        # Resize image for the network\r\n",
        "        w, h = img.size\r\n",
        "\r\n",
        "        # Getting the np array with the batch dimension\r\n",
        "        img_array = np.array(img)\r\n",
        "        \r\n",
        "        # Tiling\r\n",
        "        patches, image_dict = create_patches(img_array, patch_height=patch_height, patch_width=patch_width, h_stride=h_stride, w_stride=w_stride)\r\n",
        "\r\n",
        "        patches_predict = []\r\n",
        "\r\n",
        "        for i in range(len(patches)):\r\n",
        "          \r\n",
        "          patch_array = patches[i]\r\n",
        "\r\n",
        "          patch_array = np.expand_dims(patch_array, 0) # insert batch dimension\r\n",
        "\r\n",
        "          # Prediction from the model\r\n",
        "          out = model.predict(x = patch_array)\r\n",
        "\r\n",
        "          #patch_array = np.reshape(patch_array, patch_array.shape[1:])\r\n",
        "          out = out[0, ...]\r\n",
        "          #print(out.shape)\r\n",
        "          \r\n",
        "          patches_predict.append(out)\r\n",
        "\r\n",
        "        # Stitch patches into the imge prediction\r\n",
        "        out = stitch_patch(patches = patches_predict, image_dict = image_dict, h_stride = h_stride, w_stride = w_stride, channel = 3)\r\n",
        "        \r\n",
        "        out = np.array(out)\r\n",
        "\r\n",
        "        # Getting the numpy array with prediction\r\n",
        "        mask_arr = tf.argmax(out, -1)\r\n",
        "        mask_arr = mask_arr.numpy()\r\n",
        "        #mask_arr = out\r\n",
        "        \r\n",
        "        # RLE encoding\r\n",
        "        # crop\r\n",
        "        rle_encoded_crop = rle_encode(mask_arr == 1)\r\n",
        "        # weed\r\n",
        "        rle_encoded_weed = rle_encode(mask_arr == 2)\r\n",
        "\r\n",
        "        submission_dict[img_name]['segmentation']['crop'] = rle_encoded_crop\r\n",
        "        submission_dict[img_name]['segmentation']['weed'] = rle_encoded_weed\r\n",
        "        \r\n",
        "\r\n",
        "  # Finally, save the results into the submission.json file\r\n",
        "  with open('/content/submission.json', 'w') as f:\r\n",
        "    json.dump(submission_dict, f)\r\n",
        "\r\n",
        "  ! mkdir '/content/drive/My Drive/Challenge_2/submission'\r\n",
        "  ! rm '/content/drive/My Drive/Challenge_2/submission/submission.json'\r\n",
        "  ! cp '/content/submission.json' '/content/drive/My Drive/Challenge_2/submission/submission.json'"
      ],
      "execution_count": null,
      "outputs": []
    },
    {
      "cell_type": "code",
      "metadata": {
        "id": "Yz_8-fx52lAb"
      },
      "source": [
        "import json\r\n",
        "\r\n",
        "# The submission file will be a zip file containing the a\r\n",
        "# submission.json file.\r\n",
        "\r\n",
        "# It must have the following structure:\r\n",
        "\r\n",
        "# - image name (without any extension, e.g., png, jpg, etc.)\r\n",
        "#   - shape: shape of the original image as list [Height, Width]\r\n",
        "#   - team: team of the original image. One in {'Bipbip', 'Pead', 'Roseau', 'Weedelec'}\r\n",
        "#   - crop: crop of the original image. One in {'Haricot', 'Mais'}\r\n",
        "#   - segmentation: prediction (as a dict)\r\n",
        "#     - crop: RLE encoded crop segmentation (no weed)\r\n",
        "#     - weed: RLE encoded weed segmentation (no crop)\r\n",
        "\r\n",
        "# Please refer to the folder structure of the given dataset to fill\r\n",
        "# the team and crop keys.\r\n",
        "\r\n",
        "if USE_TILING == False:\r\n",
        "\r\n",
        "  teams = ['Bipbip', 'Pead', 'Roseau', 'Weedelec']\r\n",
        "  plants = ['Haricot', 'Mais']\r\n",
        "\r\n",
        "  submission_dict = {}\r\n",
        "\r\n",
        "  for t in teams:\r\n",
        "    for p in plants:\r\n",
        "\r\n",
        "      tmp_path = '/content/Development_Dataset/Test_Dev/' + t + '/' + p + '/' + 'Images'\r\n",
        "      \r\n",
        "      image_filenames = os.listdir(tmp_path)\r\n",
        "\r\n",
        "      for img_name in image_filenames:\r\n",
        "        \r\n",
        "        tmp_path = '/content/Development_Dataset/Test_Dev/' + t + '/' + p + '/' + 'Images'\r\n",
        "        tmp_path = os.path.join(tmp_path, img_name)\r\n",
        "        img = Image.open(tmp_path).convert('RGB')\r\n",
        "        \r\n",
        "        img_name = img_name.split('.')[0]\r\n",
        "\r\n",
        "        submission_dict[img_name] = {}\r\n",
        "        submission_dict[img_name]['shape'] = [img.height, img.width]\r\n",
        "        submission_dict[img_name]['team'] = t\r\n",
        "        submission_dict[img_name]['crop'] = p\r\n",
        "        submission_dict[img_name]['segmentation'] = {}\r\n",
        "\r\n",
        "        # Resize image for the network\r\n",
        "        w, h = img.size\r\n",
        "\r\n",
        "        img_h = int(896)\r\n",
        "        img_w = int(1280)\r\n",
        "        img = img.resize((img_w, img_h)) #size – The requested size in pixels, as a 2-tuple: (width, height). !!!!!!!!!!! ATTENTION !!!!!!!!! PIL function\r\n",
        "\r\n",
        "        # Getting the np array with the batch dimension\r\n",
        "        img_array = np.array(img)\r\n",
        "        \r\n",
        "        # Data Normalization\r\n",
        "        #img_array = mask_image(img_array)\r\n",
        "\r\n",
        "        img_array = np.expand_dims(img_array, 0) # insert batch dimension\r\n",
        "\r\n",
        "        # Prediction from the model\r\n",
        "        out = model.predict(x=img_array)\r\n",
        "        \r\n",
        "        # Resize of the output\r\n",
        "        out = tf.image.resize(out, size=[h, w], method = 'nearest').numpy()\r\n",
        "\r\n",
        "        # Getting the numpy array with prediction\r\n",
        "        mask_arr = tf.argmax(out, -1)\r\n",
        "        mask_arr = mask_arr.numpy()\r\n",
        "        \r\n",
        "        # RLE encoding\r\n",
        "        # crop\r\n",
        "        rle_encoded_crop = rle_encode(mask_arr == 1)\r\n",
        "        # weed\r\n",
        "        rle_encoded_weed = rle_encode(mask_arr == 2)\r\n",
        "\r\n",
        "        submission_dict[img_name]['segmentation']['crop'] = rle_encoded_crop\r\n",
        "        submission_dict[img_name]['segmentation']['weed'] = rle_encoded_weed\r\n",
        "        \r\n",
        "\r\n",
        "  # Finally, save the results into the submission.json file\r\n",
        "  with open('/content/submission.json', 'w') as f:\r\n",
        "    json.dump(submission_dict, f)\r\n",
        "\r\n",
        "  ! mkdir '/content/drive/My Drive/Challenge_2/submission'\r\n",
        "  ! rm '/content/drive/My Drive/Challenge_2/submission/submission.json'\r\n",
        "  ! cp '/content/submission.json' '/content/drive/My Drive/Challenge_2/submission/submission.json'"
      ],
      "execution_count": null,
      "outputs": []
    },
    {
      "cell_type": "markdown",
      "metadata": {
        "id": "6cQNo7h_kLmB"
      },
      "source": [
        "# Class weights"
      ]
    },
    {
      "cell_type": "code",
      "metadata": {
        "id": "NscDImPNkKdp"
      },
      "source": [
        "def ENet_weighing(image_files, num_classes=4):\r\n",
        "    '''\r\n",
        "    The custom class weighing function as seen in the ENet paper.\r\n",
        "    INPUTS:\r\n",
        "    - image_files(list): a list of image_filenames which element can be read immediately\r\n",
        "    OUTPUTS:\r\n",
        "    - class_weights(list): a list of class weights where each index represents each class label and the element is the class weight for that label.\r\n",
        "    '''\r\n",
        "    #initialize dictionary with all 0\r\n",
        "    label_to_frequency = {}\r\n",
        "    for i in range(num_classes):\r\n",
        "        label_to_frequency[i] = 0\r\n",
        "\r\n",
        "    for n in range(len(image_files)):\r\n",
        "        image = np.load(image_files[n])\r\n",
        "\r\n",
        "        #For each label in each image, sum up the frequency of the label and add it to label_to_frequency dict\r\n",
        "        for i in range(num_classes):\r\n",
        "            class_mask = np.equal(image, i)\r\n",
        "            class_mask = class_mask.astype(np.float32)\r\n",
        "            class_frequency = np.sum(class_mask)\r\n",
        "\r\n",
        "            label_to_frequency[i] += class_frequency\r\n",
        "\r\n",
        "    #perform the weighing function label-wise and append the label's class weights to class_weights\r\n",
        "    class_weights = []\r\n",
        "    total_frequency = sum(label_to_frequency.values())\r\n",
        "    for label, frequency in label_to_frequency.items():\r\n",
        "        class_weight = 1 / np.log(1.02 + (frequency / total_frequency))\r\n",
        "        class_weights.append(class_weight)\r\n",
        "\r\n",
        "    #Set the last class_weight to 0.0\r\n",
        " #   class_weights[-1] = 0.0\r\n",
        "\r\n",
        "    return class_weights\r\n",
        "\r\n",
        "def median_frequency_balancing(image_files, num_classes=3):\r\n",
        "    '''\r\n",
        "    Perform median frequency balancing on the image files, given by the formula:\r\n",
        "    f = Median_freq_c / total_freq_c\r\n",
        "    where median_freq_c is the median frequency of the class for all pixels of C that appeared in images\r\n",
        "    and total_freq_c is the total number of pixels of c in the total pixels of the images where c appeared.\r\n",
        "    INPUTS:\r\n",
        "    - image_files(list): a list of image_filenames which element can be read immediately\r\n",
        "    - num_classes(int): the number of classes of pixels in all images\r\n",
        "    OUTPUTS:\r\n",
        "    - class_weights(list): a list of class weights where each index represents each class label and the element is the class weight for that label.\r\n",
        "    '''\r\n",
        "    # Initialize all the labels key with a list value\r\n",
        "    label_to_frequency_dict = {}\r\n",
        "    for i in range(num_classes):\r\n",
        "        label_to_frequency_dict[i] = []\r\n",
        "\r\n",
        "    for n in range(len(image_files)):\r\n",
        "      image = np.load(image_files[n])\r\n",
        "\r\n",
        "      #For each image sum up the frequency of each label in that image and append to the dictionary if frequency is positive.\r\n",
        "      for i in range(num_classes):\r\n",
        "        class_mask = np.equal(image, i)\r\n",
        "        class_mask = class_mask.astype(np.float32)\r\n",
        "        class_frequency = np.sum(class_mask)\r\n",
        "\r\n",
        "        if class_frequency != 0.0:\r\n",
        "            label_to_frequency_dict[i].append(class_frequency)\r\n",
        "\r\n",
        "    class_weights = []\r\n",
        "\r\n",
        "    #Get the total pixels to calculate total_frequency later\r\n",
        "    total_pixels = 0\r\n",
        "    for frequencies in label_to_frequency_dict.values():\r\n",
        "        total_pixels += sum(frequencies)\r\n",
        "    print('total_pixels=', total_pixels)\r\n",
        "    for i, j in label_to_frequency_dict.items():\r\n",
        "        j = sorted(j) #To obtain the median, we got to sort the frequencies\r\n",
        "\r\n",
        "        median_frequency = np.median(j) / sum(j)\r\n",
        "        total_frequency = sum(j) / total_pixels\r\n",
        "        median_frequency_balanced = median_frequency / total_frequency\r\n",
        "        class_weights.append(median_frequency_balanced)\r\n",
        "\r\n",
        "    #Set the last class_weight to 0.0 as it's the background class\r\n",
        " #   class_weights[-1] = 0.0\r\n",
        "\r\n",
        "    return class_weights"
      ],
      "execution_count": null,
      "outputs": []
    },
    {
      "cell_type": "code",
      "metadata": {
        "id": "lxjtgCJKk3GB"
      },
      "source": [
        "tmp_path = os.path.join(cwd, 'Development_Dataset_processed', 'training', 'masks')\r\n",
        "image_dir = os.path.expanduser(tmp_path)\r\n",
        "image_files_training = [os.path.join(image_dir, file) for file in os.listdir(image_dir) if file.endswith('.npy')]\r\n",
        "\r\n",
        "tmp_path = os.path.join(cwd, 'Development_Dataset_processed', 'validation', 'masks')\r\n",
        "image_dir = os.path.expanduser(tmp_path)\r\n",
        "image_files_validation = [os.path.join(image_dir, file) for file in os.listdir(image_dir) if file.endswith('.npy')]\r\n",
        "\r\n",
        "image_files = []\r\n",
        "for i in image_files_training:\r\n",
        "  image_files.append(i)\r\n",
        "for i in image_files_validation:\r\n",
        "  image_files.append(i)\r\n",
        "#print('image_files:', image_files)\r\n",
        "\r\n",
        "print()\r\n",
        "\r\n",
        "class_weights = median_frequency_balancing(image_files, num_classes = 3)\r\n",
        "print('--------------------------------------------------------------------------------------------------------------')\r\n",
        "print('median_frequency_balancing class_weights:', class_weights)\r\n",
        "print('--------------------------------------------------------------------------------------------------------------')\r\n",
        "class_weights = ENet_weighing(image_files, num_classes = 3)\r\n",
        "print('ENet_weighing class_weights:', class_weights)\r\n",
        "\r\n",
        "# Output of the functions for all the training images:\r\n",
        "# -----------------------\r\n",
        "# median_frequency_balancing class_weights: [0.0006417555956420423, 0.011047978584875455, 0.009338345742752394]\r\n",
        "# -----------------------\r\n",
        "# ENet_weighing class_weights: [1.5133127348818056, 14.139274748955497, 20.349217406952828]\r\n",
        "# -----------------------\r\n",
        "\r\n",
        "# Output of the functions for tiles used in training , i.e. 512x512 with stride 512x512 without tiles with only background class:\r\n",
        "# --------------------------------------------------------------------------------------------------------------\r\n",
        "# median_frequency_balancing class_weights: [0.00010145875413826707, 0.0008271125128646854, 0.000824721833679426]\r\n",
        "# --------------------------------------------------------------------------------------------------------------\r\n",
        "# ENet_weighing class_weights: [1.5873569250876223, 9.230189796529002, 15.199551899561888]"
      ],
      "execution_count": null,
      "outputs": []
    },
    {
      "cell_type": "code",
      "metadata": {
        "id": "eiEt_R9_HCp5"
      },
      "source": [
        "# --------------------------\r\n",
        "# Simple frequency weighting\r\n",
        "# --------------------------\r\n",
        "\r\n",
        "#if SPLIT_DATASET == False:\r\n",
        "#  ! unzip '/content/drive/My Drive/Challenge_2/Development_Dataset.zip'\r\n",
        "\r\n",
        "teams = ['Bipbip', 'Pead', 'Roseau', 'Weedelec']\r\n",
        "plants = ['Haricot', 'Mais']\r\n",
        "\r\n",
        "values = [0, 0, 0]\r\n",
        "tot = 0\r\n",
        "\r\n",
        "for t in teams:\r\n",
        "  for p in plants:\r\n",
        "\r\n",
        "    tmp_path = '/content/Development_Dataset/Training/' + t + '/' + p + '/' + 'Masks'\r\n",
        "    image_filenames = os.listdir(tmp_path)\r\n",
        "\r\n",
        "    for img_name in image_filenames:\r\n",
        "\r\n",
        "      tmp_path = '/content/Development_Dataset/Training/' + t + '/' + p + '/' + 'Masks'\r\n",
        "      tmp_path = os.path.join(tmp_path, str(img_name))\r\n",
        "      \r\n",
        "      mask = Image.open(tmp_path).convert('RGB')\r\n",
        "\r\n",
        "      mask_arr = np.array(mask)\r\n",
        "    \r\n",
        "      # RGB to target\r\n",
        "      # -------------\r\n",
        "      new_mask_arr = np.zeros(mask_arr.shape[:2], dtype=mask_arr.dtype)\r\n",
        "\r\n",
        "      # Use RGB dictionary in 'RGBtoTarget.txt' to convert RGB to target\r\n",
        "      new_mask_arr[np.where(np.all(mask_arr == [0, 0, 0], axis=-1))] = 0\r\n",
        "      new_mask_arr[np.where(np.all(mask_arr == [254, 124, 18], axis=-1))] = 0\r\n",
        "      new_mask_arr[np.where(np.all(mask_arr == [255, 255, 255], axis=-1))] = 1\r\n",
        "      new_mask_arr[np.where(np.all(mask_arr == [216, 67, 82], axis=-1))] = 2\r\n",
        "\r\n",
        "      mask_arr = np.expand_dims(new_mask_arr, -1)\r\n",
        "      mask_arr = mask_arr.flatten()\r\n",
        "\r\n",
        "      for i in mask_arr:\r\n",
        "        tot = tot + 1\r\n",
        "        if i == 0:                         # Background\r\n",
        "          values[0] = values[0] + 1\r\n",
        "        elif i == 1:                        # Crop\r\n",
        "          values[1] = values[1] + 1\r\n",
        "        else:                               # Weed\r\n",
        "          values[2] = values[2] + 1\r\n",
        "\r\n",
        "weights = [0, 0, 0]\r\n",
        "\r\n",
        "min = np.min(values) \r\n",
        "index_min = np.argmin(values)\r\n",
        "\r\n",
        "for x in range(len(values)):\r\n",
        "  if not x == index_min:\r\n",
        "      weights[x] = min / values[x]\r\n",
        "  else:\r\n",
        "      weights[x] = 1\r\n",
        "\r\n",
        "weights\r\n",
        "\r\n",
        "# Output:\r\n",
        "# [0.029090525163313275, 0.5006609157489574, 1]"
      ],
      "execution_count": null,
      "outputs": []
    }
  ]
}