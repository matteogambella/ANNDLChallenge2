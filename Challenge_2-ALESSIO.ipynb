{
  "nbformat": 4,
  "nbformat_minor": 0,
  "metadata": {
    "colab": {
      "name": "Challenge_2.ipynb",
      "provenance": []
    },
    "kernelspec": {
      "name": "python3",
      "display_name": "Python 3"
    },
    "accelerator": "GPU"
  },
  "cells": [
    {
      "cell_type": "markdown",
      "metadata": {
        "id": "KyUc4ExGLLbF"
      },
      "source": [
        "\n",
        "\n",
        "# Initial Setup\n",
        "\n"
      ]
    },
    {
      "cell_type": "code",
      "metadata": {
        "id": "I5FnwOggnFIl"
      },
      "source": [
        "from IPython.core.interactiveshell import InteractiveShell\n",
        "InteractiveShell.ast_node_interactivity = \"all\""
      ],
      "execution_count": 1,
      "outputs": []
    },
    {
      "cell_type": "code",
      "metadata": {
        "id": "tOBDSA9BnFIx"
      },
      "source": [
        "import os\n",
        "import tensorflow as tf\n",
        "import tensorflow_addons as tfa\n",
        "import numpy as np\n",
        "\n",
        "# Set the seed for random operations. \n",
        "# Letting experiments to be reproducible. \n",
        "SEED = 1234\n",
        "tf.random.set_seed(SEED) \n",
        "np.random.seed(SEED)\n",
        "\n",
        "# Get current working directory\n",
        "cwd = os.getcwd()"
      ],
      "execution_count": 2,
      "outputs": []
    },
    {
      "cell_type": "code",
      "metadata": {
        "id": "Z8bhsWQnnU-i",
        "colab": {
          "base_uri": "https://localhost:8080/"
        },
        "outputId": "65c2cae6-f4bd-43b3-a7c3-ed9757486a4a"
      },
      "source": [
        "# Mounting google drive\n",
        "from google.colab import drive\n",
        "drive.mount('/content/drive', force_remount=True)"
      ],
      "execution_count": 3,
      "outputs": [
        {
          "output_type": "stream",
          "text": [
            "Mounted at /content/drive\n"
          ],
          "name": "stdout"
        }
      ]
    },
    {
      "cell_type": "code",
      "metadata": {
        "id": "z71JI888L2zX",
        "colab": {
          "base_uri": "https://localhost:8080/"
        },
        "outputId": "82116ed6-0917-48a9-c274-2915d445bb6a"
      },
      "source": [
        "gpu_info = !nvidia-smi\n",
        "gpu_info = '\\n'.join(gpu_info)\n",
        "if gpu_info.find('failed') >= 0:\n",
        "  print('Select the Runtime > \"Change runtime type\" menu to enable a GPU accelerator, ')\n",
        "  print('and then re-execute this cell.')\n",
        "else:\n",
        "  print(gpu_info)"
      ],
      "execution_count": 4,
      "outputs": [
        {
          "output_type": "stream",
          "text": [
            "Wed Dec  9 00:38:24 2020       \n",
            "+-----------------------------------------------------------------------------+\n",
            "| NVIDIA-SMI 455.45.01    Driver Version: 418.67       CUDA Version: 10.1     |\n",
            "|-------------------------------+----------------------+----------------------+\n",
            "| GPU  Name        Persistence-M| Bus-Id        Disp.A | Volatile Uncorr. ECC |\n",
            "| Fan  Temp  Perf  Pwr:Usage/Cap|         Memory-Usage | GPU-Util  Compute M. |\n",
            "|                               |                      |               MIG M. |\n",
            "|===============================+======================+======================|\n",
            "|   0  Tesla P100-PCIE...  Off  | 00000000:00:04.0 Off |                    0 |\n",
            "| N/A   37C    P0    29W / 250W |      0MiB / 16280MiB |      0%      Default |\n",
            "|                               |                      |                 ERR! |\n",
            "+-------------------------------+----------------------+----------------------+\n",
            "                                                                               \n",
            "+-----------------------------------------------------------------------------+\n",
            "| Processes:                                                                  |\n",
            "|  GPU   GI   CI        PID   Type   Process name                  GPU Memory |\n",
            "|        ID   ID                                                   Usage      |\n",
            "|=============================================================================|\n",
            "|  No running processes found                                                 |\n",
            "+-----------------------------------------------------------------------------+\n"
          ],
          "name": "stdout"
        }
      ]
    },
    {
      "cell_type": "markdown",
      "metadata": {
        "id": "Y3YuYsag_dzQ"
      },
      "source": [
        "# Dataset Retrieval"
      ]
    },
    {
      "cell_type": "code",
      "metadata": {
        "id": "X6qWgVbfK9yb"
      },
      "source": [
        "# Option to set to true the first time to RETRIEVE the dataset and create the\n",
        "# folder structure. If set to false it expects the dataset to be already \n",
        "# splitted and zipped in your drive in the directory \"Challenge_2\".\n",
        "SPLIT_DATASET = True\n",
        "\n",
        "# This option let you use your dataset_split.json file, that must be located in \n",
        "# your drive in the directory \"Challenge_2\", for the dataset split.\n",
        "# Is considered only if SPLIT_DATASET == True since if SPLIT_DATASET == \n",
        "# False the dataset is expected to be already splitted and zipped in your\n",
        "# drive in the directory \"Challenge_2\".\n",
        "LOAD_FROM_JSON = False"
      ],
      "execution_count": 12,
      "outputs": []
    },
    {
      "cell_type": "markdown",
      "metadata": {
        "id": "vft06Bo3L_v2"
      },
      "source": [
        "### Cells executed if: SPLIT_DATASET = True "
      ]
    },
    {
      "cell_type": "code",
      "metadata": {
        "id": "PGkFRgnosvZh"
      },
      "source": [
        "if SPLIT_DATASET == True:\n",
        "  ! unzip '/content/drive/My Drive/Challenge_2/Development_Dataset.zip'"
      ],
      "execution_count": null,
      "outputs": []
    },
    {
      "cell_type": "code",
      "metadata": {
        "id": "3keO3T59xm2C"
      },
      "source": [
        "# -----------------------------\n",
        "# Create the dataset_split.json \n",
        "# -----------------------------\n",
        "if SPLIT_DATASET == True and LOAD_FROM_JSON == False:\n",
        "\n",
        "  from PIL import Image\n",
        "  import json\n",
        "  \n",
        "  VALIDATION_SPLIT = 0.15\n",
        "\n",
        "  split = {}\n",
        "  split['training'] = {}\n",
        "  split['validation'] = {}\n",
        "\n",
        "  teams = ['Bipbip', 'Pead', 'Roseau', 'Weedelec']\n",
        "  plants = ['Haricot', 'Mais']\n",
        "\n",
        "  # Random seed for reproducibility\n",
        "  np.random.seed(SEED)\n",
        "\n",
        "  for t in teams:\n",
        "\n",
        "    split['training'][t] = {}\n",
        "    split['validation'][t] = {}\n",
        "\n",
        "    for p in plants:\n",
        "\n",
        "      split['training'][t][p] = []      \n",
        "      split['validation'][t][p] = []\n",
        "\n",
        "      image_filenames = os.listdir('/content/Development_Dataset/Training/' + t + '/' + p + '/' + 'Images')\n",
        "      # Shuffle the images to get a random split\n",
        "      np.random.shuffle(image_filenames)\n",
        "          \n",
        "      # Create training split\n",
        "      for i in range(int(len(image_filenames) * (1 - VALIDATION_SPLIT))):\n",
        "        image_name = image_filenames[i].split('.')\n",
        "        split['training'][t][p].append(image_name)\n",
        "\n",
        "      \n",
        "      # Create validation split\n",
        "      for j in range(i + 1, len(image_filenames)):\n",
        "        image_name = image_filenames[j].split('.')\n",
        "        split['validation'][t][p].append(image_name)\n",
        "\n",
        "  with open(os.path.join(cwd, 'dataset_split.json'), 'w') as f:\n",
        "    json.dump(split, f)\n",
        "\n",
        "  ! cp '/content/dataset_split.json' '/content/drive/My Drive/Challenge_2/dataset_split.json'"
      ],
      "execution_count": 23,
      "outputs": []
    },
    {
      "cell_type": "code",
      "metadata": {
        "id": "ZA65-S5D5tKx",
        "colab": {
          "base_uri": "https://localhost:8080/",
          "height": 1000
        },
        "outputId": "6fdeae9a-8cb1-437c-cbc8-6906fd42e1b7"
      },
      "source": [
        "# ------------------------------------------\n",
        "# Create the splitted dataset directory tree \n",
        "# ------------------------------------------\n",
        "if SPLIT_DATASET == True:\n",
        "  import shutil\n",
        "  \n",
        "  # Use your dataset_split.json \n",
        "  # ---------------------------\n",
        "  if LOAD_FROM_JSON == True:\n",
        "    import json\n",
        "    f = open('/content/drive/My Drive/Challenge_2/dataset_split.json')\n",
        "    split = json.load(f) \n",
        "  # ---------------------------\n",
        "\n",
        "\n",
        "  # Create the folder for the splitted dataset\n",
        "  # ------------------------------------------\n",
        "  ! mkdir '/content/Development_Dataset_15'\n",
        "\n",
        "  ! mkdir '/content/Development_Dataset_15/training'\n",
        "  ! mkdir '/content/Development_Dataset_15/training/images'\n",
        "  ! mkdir '/content/Development_Dataset_15/training/masks'\n",
        "\n",
        "  ! mkdir '/content/Development_Dataset_15/validation'\n",
        "  ! mkdir '/content/Development_Dataset_15/validation/images'\n",
        "  ! mkdir '/content/Development_Dataset_15/validation/masks'\n",
        "  # ------------------------------------------\n",
        "\n",
        "  teams = ['Bipbip', 'Pead', 'Roseau', 'Weedelec']\n",
        "  plants = ['Haricot', 'Mais']\n",
        "\n",
        "  for t in teams:\n",
        "    for p in plants:\n",
        "\n",
        "      for img_name in split['training'][t][p]:\n",
        "        \n",
        "        src_path = os.path.join(cwd, 'Development_Dataset/Training/' + t + '/' + p + '/' + 'Images', img_name[0] + '.' + img_name[1])\n",
        "        dst_path = os.path.join(cwd, 'Development_Dataset_15/training/images')\n",
        "        shutil.move(src_path, dst_path)\n",
        "\n",
        "        src_path = os.path.join(cwd, 'Development_Dataset/Training/' + t + '/' + p + '/' + 'Masks', img_name[0] + '.png')\n",
        "        dst_path = os.path.join(cwd, 'Development_Dataset_15/training/masks')\n",
        "        shutil.move(src_path, dst_path)\n",
        "\n",
        "      for img_name in split['validation'][t][p]:\n",
        "    \n",
        "        src_path = os.path.join(cwd, 'Development_Dataset/Training/' + t + '/' + p + '/' + 'Images', img_name[0] + '.' + img_name[1])\n",
        "        dst_path = os.path.join(cwd, 'Development_Dataset_15/validation/images')\n",
        "        shutil.move(src_path, dst_path)\n",
        "    \n",
        "        src_path = os.path.join(cwd, 'Development_Dataset/Training/' + t + '/' + p + '/' + 'Masks', img_name[0] + '.png')\n",
        "        dst_path = os.path.join(cwd, 'Development_Dataset_15/validation/masks')\n",
        "        shutil.move(src_path, dst_path)\n",
        "  ! ls"
      ],
      "execution_count": 24,
      "outputs": [
        {
          "output_type": "execute_result",
          "data": {
            "application/vnd.google.colaboratory.intrinsic+json": {
              "type": "string"
            },
            "text/plain": [
              "'/content/Development_Dataset_15/training/images/Bipbip_haricot_im_05991.jpg'"
            ]
          },
          "metadata": {
            "tags": []
          },
          "execution_count": 24
        },
        {
          "output_type": "execute_result",
          "data": {
            "application/vnd.google.colaboratory.intrinsic+json": {
              "type": "string"
            },
            "text/plain": [
              "'/content/Development_Dataset_15/training/masks/Bipbip_haricot_im_05991.png'"
            ]
          },
          "metadata": {
            "tags": []
          },
          "execution_count": 24
        },
        {
          "output_type": "execute_result",
          "data": {
            "application/vnd.google.colaboratory.intrinsic+json": {
              "type": "string"
            },
            "text/plain": [
              "'/content/Development_Dataset_15/training/images/Bipbip_haricot_im_00321.jpg'"
            ]
          },
          "metadata": {
            "tags": []
          },
          "execution_count": 24
        },
        {
          "output_type": "execute_result",
          "data": {
            "application/vnd.google.colaboratory.intrinsic+json": {
              "type": "string"
            },
            "text/plain": [
              "'/content/Development_Dataset_15/training/masks/Bipbip_haricot_im_00321.png'"
            ]
          },
          "metadata": {
            "tags": []
          },
          "execution_count": 24
        },
        {
          "output_type": "execute_result",
          "data": {
            "application/vnd.google.colaboratory.intrinsic+json": {
              "type": "string"
            },
            "text/plain": [
              "'/content/Development_Dataset_15/training/images/Bipbip_haricot_im_03751.jpg'"
            ]
          },
          "metadata": {
            "tags": []
          },
          "execution_count": 24
        },
        {
          "output_type": "execute_result",
          "data": {
            "application/vnd.google.colaboratory.intrinsic+json": {
              "type": "string"
            },
            "text/plain": [
              "'/content/Development_Dataset_15/training/masks/Bipbip_haricot_im_03751.png'"
            ]
          },
          "metadata": {
            "tags": []
          },
          "execution_count": 24
        },
        {
          "output_type": "execute_result",
          "data": {
            "application/vnd.google.colaboratory.intrinsic+json": {
              "type": "string"
            },
            "text/plain": [
              "'/content/Development_Dataset_15/training/images/Bipbip_haricot_im_08141.jpg'"
            ]
          },
          "metadata": {
            "tags": []
          },
          "execution_count": 24
        },
        {
          "output_type": "execute_result",
          "data": {
            "application/vnd.google.colaboratory.intrinsic+json": {
              "type": "string"
            },
            "text/plain": [
              "'/content/Development_Dataset_15/training/masks/Bipbip_haricot_im_08141.png'"
            ]
          },
          "metadata": {
            "tags": []
          },
          "execution_count": 24
        },
        {
          "output_type": "execute_result",
          "data": {
            "application/vnd.google.colaboratory.intrinsic+json": {
              "type": "string"
            },
            "text/plain": [
              "'/content/Development_Dataset_15/training/images/Bipbip_haricot_im_01021.jpg'"
            ]
          },
          "metadata": {
            "tags": []
          },
          "execution_count": 24
        },
        {
          "output_type": "execute_result",
          "data": {
            "application/vnd.google.colaboratory.intrinsic+json": {
              "type": "string"
            },
            "text/plain": [
              "'/content/Development_Dataset_15/training/masks/Bipbip_haricot_im_01021.png'"
            ]
          },
          "metadata": {
            "tags": []
          },
          "execution_count": 24
        },
        {
          "output_type": "execute_result",
          "data": {
            "application/vnd.google.colaboratory.intrinsic+json": {
              "type": "string"
            },
            "text/plain": [
              "'/content/Development_Dataset_15/training/images/Bipbip_haricot_im_00391.jpg'"
            ]
          },
          "metadata": {
            "tags": []
          },
          "execution_count": 24
        },
        {
          "output_type": "execute_result",
          "data": {
            "application/vnd.google.colaboratory.intrinsic+json": {
              "type": "string"
            },
            "text/plain": [
              "'/content/Development_Dataset_15/training/masks/Bipbip_haricot_im_00391.png'"
            ]
          },
          "metadata": {
            "tags": []
          },
          "execution_count": 24
        },
        {
          "output_type": "execute_result",
          "data": {
            "application/vnd.google.colaboratory.intrinsic+json": {
              "type": "string"
            },
            "text/plain": [
              "'/content/Development_Dataset_15/training/images/Bipbip_haricot_im_04991.jpg'"
            ]
          },
          "metadata": {
            "tags": []
          },
          "execution_count": 24
        },
        {
          "output_type": "execute_result",
          "data": {
            "application/vnd.google.colaboratory.intrinsic+json": {
              "type": "string"
            },
            "text/plain": [
              "'/content/Development_Dataset_15/training/masks/Bipbip_haricot_im_04991.png'"
            ]
          },
          "metadata": {
            "tags": []
          },
          "execution_count": 24
        },
        {
          "output_type": "execute_result",
          "data": {
            "application/vnd.google.colaboratory.intrinsic+json": {
              "type": "string"
            },
            "text/plain": [
              "'/content/Development_Dataset_15/training/images/Bipbip_haricot_im_07071.jpg'"
            ]
          },
          "metadata": {
            "tags": []
          },
          "execution_count": 24
        },
        {
          "output_type": "execute_result",
          "data": {
            "application/vnd.google.colaboratory.intrinsic+json": {
              "type": "string"
            },
            "text/plain": [
              "'/content/Development_Dataset_15/training/masks/Bipbip_haricot_im_07071.png'"
            ]
          },
          "metadata": {
            "tags": []
          },
          "execution_count": 24
        },
        {
          "output_type": "execute_result",
          "data": {
            "application/vnd.google.colaboratory.intrinsic+json": {
              "type": "string"
            },
            "text/plain": [
              "'/content/Development_Dataset_15/training/images/Bipbip_haricot_im_02301.jpg'"
            ]
          },
          "metadata": {
            "tags": []
          },
          "execution_count": 24
        },
        {
          "output_type": "execute_result",
          "data": {
            "application/vnd.google.colaboratory.intrinsic+json": {
              "type": "string"
            },
            "text/plain": [
              "'/content/Development_Dataset_15/training/masks/Bipbip_haricot_im_02301.png'"
            ]
          },
          "metadata": {
            "tags": []
          },
          "execution_count": 24
        },
        {
          "output_type": "execute_result",
          "data": {
            "application/vnd.google.colaboratory.intrinsic+json": {
              "type": "string"
            },
            "text/plain": [
              "'/content/Development_Dataset_15/training/images/Bipbip_haricot_im_05421.jpg'"
            ]
          },
          "metadata": {
            "tags": []
          },
          "execution_count": 24
        },
        {
          "output_type": "execute_result",
          "data": {
            "application/vnd.google.colaboratory.intrinsic+json": {
              "type": "string"
            },
            "text/plain": [
              "'/content/Development_Dataset_15/training/masks/Bipbip_haricot_im_05421.png'"
            ]
          },
          "metadata": {
            "tags": []
          },
          "execution_count": 24
        },
        {
          "output_type": "execute_result",
          "data": {
            "application/vnd.google.colaboratory.intrinsic+json": {
              "type": "string"
            },
            "text/plain": [
              "'/content/Development_Dataset_15/training/images/Bipbip_haricot_im_05911.jpg'"
            ]
          },
          "metadata": {
            "tags": []
          },
          "execution_count": 24
        },
        {
          "output_type": "execute_result",
          "data": {
            "application/vnd.google.colaboratory.intrinsic+json": {
              "type": "string"
            },
            "text/plain": [
              "'/content/Development_Dataset_15/training/masks/Bipbip_haricot_im_05911.png'"
            ]
          },
          "metadata": {
            "tags": []
          },
          "execution_count": 24
        },
        {
          "output_type": "execute_result",
          "data": {
            "application/vnd.google.colaboratory.intrinsic+json": {
              "type": "string"
            },
            "text/plain": [
              "'/content/Development_Dataset_15/training/images/Bipbip_haricot_im_05741.jpg'"
            ]
          },
          "metadata": {
            "tags": []
          },
          "execution_count": 24
        },
        {
          "output_type": "execute_result",
          "data": {
            "application/vnd.google.colaboratory.intrinsic+json": {
              "type": "string"
            },
            "text/plain": [
              "'/content/Development_Dataset_15/training/masks/Bipbip_haricot_im_05741.png'"
            ]
          },
          "metadata": {
            "tags": []
          },
          "execution_count": 24
        },
        {
          "output_type": "execute_result",
          "data": {
            "application/vnd.google.colaboratory.intrinsic+json": {
              "type": "string"
            },
            "text/plain": [
              "'/content/Development_Dataset_15/training/images/Bipbip_haricot_im_07941.jpg'"
            ]
          },
          "metadata": {
            "tags": []
          },
          "execution_count": 24
        },
        {
          "output_type": "execute_result",
          "data": {
            "application/vnd.google.colaboratory.intrinsic+json": {
              "type": "string"
            },
            "text/plain": [
              "'/content/Development_Dataset_15/training/masks/Bipbip_haricot_im_07941.png'"
            ]
          },
          "metadata": {
            "tags": []
          },
          "execution_count": 24
        },
        {
          "output_type": "execute_result",
          "data": {
            "application/vnd.google.colaboratory.intrinsic+json": {
              "type": "string"
            },
            "text/plain": [
              "'/content/Development_Dataset_15/training/images/Bipbip_haricot_im_04591.jpg'"
            ]
          },
          "metadata": {
            "tags": []
          },
          "execution_count": 24
        },
        {
          "output_type": "execute_result",
          "data": {
            "application/vnd.google.colaboratory.intrinsic+json": {
              "type": "string"
            },
            "text/plain": [
              "'/content/Development_Dataset_15/training/masks/Bipbip_haricot_im_04591.png'"
            ]
          },
          "metadata": {
            "tags": []
          },
          "execution_count": 24
        },
        {
          "output_type": "execute_result",
          "data": {
            "application/vnd.google.colaboratory.intrinsic+json": {
              "type": "string"
            },
            "text/plain": [
              "'/content/Development_Dataset_15/training/images/Bipbip_haricot_im_05411.jpg'"
            ]
          },
          "metadata": {
            "tags": []
          },
          "execution_count": 24
        },
        {
          "output_type": "execute_result",
          "data": {
            "application/vnd.google.colaboratory.intrinsic+json": {
              "type": "string"
            },
            "text/plain": [
              "'/content/Development_Dataset_15/training/masks/Bipbip_haricot_im_05411.png'"
            ]
          },
          "metadata": {
            "tags": []
          },
          "execution_count": 24
        },
        {
          "output_type": "execute_result",
          "data": {
            "application/vnd.google.colaboratory.intrinsic+json": {
              "type": "string"
            },
            "text/plain": [
              "'/content/Development_Dataset_15/training/images/Bipbip_haricot_im_03041.jpg'"
            ]
          },
          "metadata": {
            "tags": []
          },
          "execution_count": 24
        },
        {
          "output_type": "execute_result",
          "data": {
            "application/vnd.google.colaboratory.intrinsic+json": {
              "type": "string"
            },
            "text/plain": [
              "'/content/Development_Dataset_15/training/masks/Bipbip_haricot_im_03041.png'"
            ]
          },
          "metadata": {
            "tags": []
          },
          "execution_count": 24
        },
        {
          "output_type": "execute_result",
          "data": {
            "application/vnd.google.colaboratory.intrinsic+json": {
              "type": "string"
            },
            "text/plain": [
              "'/content/Development_Dataset_15/training/images/Bipbip_haricot_im_05571.jpg'"
            ]
          },
          "metadata": {
            "tags": []
          },
          "execution_count": 24
        },
        {
          "output_type": "execute_result",
          "data": {
            "application/vnd.google.colaboratory.intrinsic+json": {
              "type": "string"
            },
            "text/plain": [
              "'/content/Development_Dataset_15/training/masks/Bipbip_haricot_im_05571.png'"
            ]
          },
          "metadata": {
            "tags": []
          },
          "execution_count": 24
        },
        {
          "output_type": "execute_result",
          "data": {
            "application/vnd.google.colaboratory.intrinsic+json": {
              "type": "string"
            },
            "text/plain": [
              "'/content/Development_Dataset_15/training/images/Bipbip_haricot_im_08371.jpg'"
            ]
          },
          "metadata": {
            "tags": []
          },
          "execution_count": 24
        },
        {
          "output_type": "execute_result",
          "data": {
            "application/vnd.google.colaboratory.intrinsic+json": {
              "type": "string"
            },
            "text/plain": [
              "'/content/Development_Dataset_15/training/masks/Bipbip_haricot_im_08371.png'"
            ]
          },
          "metadata": {
            "tags": []
          },
          "execution_count": 24
        },
        {
          "output_type": "execute_result",
          "data": {
            "application/vnd.google.colaboratory.intrinsic+json": {
              "type": "string"
            },
            "text/plain": [
              "'/content/Development_Dataset_15/training/images/Bipbip_haricot_im_07861.jpg'"
            ]
          },
          "metadata": {
            "tags": []
          },
          "execution_count": 24
        },
        {
          "output_type": "execute_result",
          "data": {
            "application/vnd.google.colaboratory.intrinsic+json": {
              "type": "string"
            },
            "text/plain": [
              "'/content/Development_Dataset_15/training/masks/Bipbip_haricot_im_07861.png'"
            ]
          },
          "metadata": {
            "tags": []
          },
          "execution_count": 24
        },
        {
          "output_type": "execute_result",
          "data": {
            "application/vnd.google.colaboratory.intrinsic+json": {
              "type": "string"
            },
            "text/plain": [
              "'/content/Development_Dataset_15/training/images/Bipbip_haricot_im_02171.jpg'"
            ]
          },
          "metadata": {
            "tags": []
          },
          "execution_count": 24
        },
        {
          "output_type": "execute_result",
          "data": {
            "application/vnd.google.colaboratory.intrinsic+json": {
              "type": "string"
            },
            "text/plain": [
              "'/content/Development_Dataset_15/training/masks/Bipbip_haricot_im_02171.png'"
            ]
          },
          "metadata": {
            "tags": []
          },
          "execution_count": 24
        },
        {
          "output_type": "execute_result",
          "data": {
            "application/vnd.google.colaboratory.intrinsic+json": {
              "type": "string"
            },
            "text/plain": [
              "'/content/Development_Dataset_15/training/images/Bipbip_haricot_im_06851.jpg'"
            ]
          },
          "metadata": {
            "tags": []
          },
          "execution_count": 24
        },
        {
          "output_type": "execute_result",
          "data": {
            "application/vnd.google.colaboratory.intrinsic+json": {
              "type": "string"
            },
            "text/plain": [
              "'/content/Development_Dataset_15/training/masks/Bipbip_haricot_im_06851.png'"
            ]
          },
          "metadata": {
            "tags": []
          },
          "execution_count": 24
        },
        {
          "output_type": "execute_result",
          "data": {
            "application/vnd.google.colaboratory.intrinsic+json": {
              "type": "string"
            },
            "text/plain": [
              "'/content/Development_Dataset_15/training/images/Bipbip_haricot_im_02651.jpg'"
            ]
          },
          "metadata": {
            "tags": []
          },
          "execution_count": 24
        },
        {
          "output_type": "execute_result",
          "data": {
            "application/vnd.google.colaboratory.intrinsic+json": {
              "type": "string"
            },
            "text/plain": [
              "'/content/Development_Dataset_15/training/masks/Bipbip_haricot_im_02651.png'"
            ]
          },
          "metadata": {
            "tags": []
          },
          "execution_count": 24
        },
        {
          "output_type": "execute_result",
          "data": {
            "application/vnd.google.colaboratory.intrinsic+json": {
              "type": "string"
            },
            "text/plain": [
              "'/content/Development_Dataset_15/training/images/Bipbip_haricot_im_01451.jpg'"
            ]
          },
          "metadata": {
            "tags": []
          },
          "execution_count": 24
        },
        {
          "output_type": "execute_result",
          "data": {
            "application/vnd.google.colaboratory.intrinsic+json": {
              "type": "string"
            },
            "text/plain": [
              "'/content/Development_Dataset_15/training/masks/Bipbip_haricot_im_01451.png'"
            ]
          },
          "metadata": {
            "tags": []
          },
          "execution_count": 24
        },
        {
          "output_type": "execute_result",
          "data": {
            "application/vnd.google.colaboratory.intrinsic+json": {
              "type": "string"
            },
            "text/plain": [
              "'/content/Development_Dataset_15/training/images/Bipbip_haricot_im_07591.jpg'"
            ]
          },
          "metadata": {
            "tags": []
          },
          "execution_count": 24
        },
        {
          "output_type": "execute_result",
          "data": {
            "application/vnd.google.colaboratory.intrinsic+json": {
              "type": "string"
            },
            "text/plain": [
              "'/content/Development_Dataset_15/training/masks/Bipbip_haricot_im_07591.png'"
            ]
          },
          "metadata": {
            "tags": []
          },
          "execution_count": 24
        },
        {
          "output_type": "execute_result",
          "data": {
            "application/vnd.google.colaboratory.intrinsic+json": {
              "type": "string"
            },
            "text/plain": [
              "'/content/Development_Dataset_15/training/images/Bipbip_haricot_im_06481.jpg'"
            ]
          },
          "metadata": {
            "tags": []
          },
          "execution_count": 24
        },
        {
          "output_type": "execute_result",
          "data": {
            "application/vnd.google.colaboratory.intrinsic+json": {
              "type": "string"
            },
            "text/plain": [
              "'/content/Development_Dataset_15/training/masks/Bipbip_haricot_im_06481.png'"
            ]
          },
          "metadata": {
            "tags": []
          },
          "execution_count": 24
        },
        {
          "output_type": "execute_result",
          "data": {
            "application/vnd.google.colaboratory.intrinsic+json": {
              "type": "string"
            },
            "text/plain": [
              "'/content/Development_Dataset_15/training/images/Bipbip_haricot_im_02231.jpg'"
            ]
          },
          "metadata": {
            "tags": []
          },
          "execution_count": 24
        },
        {
          "output_type": "execute_result",
          "data": {
            "application/vnd.google.colaboratory.intrinsic+json": {
              "type": "string"
            },
            "text/plain": [
              "'/content/Development_Dataset_15/training/masks/Bipbip_haricot_im_02231.png'"
            ]
          },
          "metadata": {
            "tags": []
          },
          "execution_count": 24
        },
        {
          "output_type": "execute_result",
          "data": {
            "application/vnd.google.colaboratory.intrinsic+json": {
              "type": "string"
            },
            "text/plain": [
              "'/content/Development_Dataset_15/training/images/Bipbip_haricot_im_05141.jpg'"
            ]
          },
          "metadata": {
            "tags": []
          },
          "execution_count": 24
        },
        {
          "output_type": "execute_result",
          "data": {
            "application/vnd.google.colaboratory.intrinsic+json": {
              "type": "string"
            },
            "text/plain": [
              "'/content/Development_Dataset_15/training/masks/Bipbip_haricot_im_05141.png'"
            ]
          },
          "metadata": {
            "tags": []
          },
          "execution_count": 24
        },
        {
          "output_type": "execute_result",
          "data": {
            "application/vnd.google.colaboratory.intrinsic+json": {
              "type": "string"
            },
            "text/plain": [
              "'/content/Development_Dataset_15/training/images/Bipbip_haricot_im_03291.jpg'"
            ]
          },
          "metadata": {
            "tags": []
          },
          "execution_count": 24
        },
        {
          "output_type": "execute_result",
          "data": {
            "application/vnd.google.colaboratory.intrinsic+json": {
              "type": "string"
            },
            "text/plain": [
              "'/content/Development_Dataset_15/training/masks/Bipbip_haricot_im_03291.png'"
            ]
          },
          "metadata": {
            "tags": []
          },
          "execution_count": 24
        },
        {
          "output_type": "execute_result",
          "data": {
            "application/vnd.google.colaboratory.intrinsic+json": {
              "type": "string"
            },
            "text/plain": [
              "'/content/Development_Dataset_15/training/images/Bipbip_haricot_im_01821.jpg'"
            ]
          },
          "metadata": {
            "tags": []
          },
          "execution_count": 24
        },
        {
          "output_type": "execute_result",
          "data": {
            "application/vnd.google.colaboratory.intrinsic+json": {
              "type": "string"
            },
            "text/plain": [
              "'/content/Development_Dataset_15/training/masks/Bipbip_haricot_im_01821.png'"
            ]
          },
          "metadata": {
            "tags": []
          },
          "execution_count": 24
        },
        {
          "output_type": "execute_result",
          "data": {
            "application/vnd.google.colaboratory.intrinsic+json": {
              "type": "string"
            },
            "text/plain": [
              "'/content/Development_Dataset_15/training/images/Bipbip_haricot_im_01731.jpg'"
            ]
          },
          "metadata": {
            "tags": []
          },
          "execution_count": 24
        },
        {
          "output_type": "execute_result",
          "data": {
            "application/vnd.google.colaboratory.intrinsic+json": {
              "type": "string"
            },
            "text/plain": [
              "'/content/Development_Dataset_15/training/masks/Bipbip_haricot_im_01731.png'"
            ]
          },
          "metadata": {
            "tags": []
          },
          "execution_count": 24
        },
        {
          "output_type": "execute_result",
          "data": {
            "application/vnd.google.colaboratory.intrinsic+json": {
              "type": "string"
            },
            "text/plain": [
              "'/content/Development_Dataset_15/training/images/Bipbip_haricot_im_06941.jpg'"
            ]
          },
          "metadata": {
            "tags": []
          },
          "execution_count": 24
        },
        {
          "output_type": "execute_result",
          "data": {
            "application/vnd.google.colaboratory.intrinsic+json": {
              "type": "string"
            },
            "text/plain": [
              "'/content/Development_Dataset_15/training/masks/Bipbip_haricot_im_06941.png'"
            ]
          },
          "metadata": {
            "tags": []
          },
          "execution_count": 24
        },
        {
          "output_type": "execute_result",
          "data": {
            "application/vnd.google.colaboratory.intrinsic+json": {
              "type": "string"
            },
            "text/plain": [
              "'/content/Development_Dataset_15/training/images/Bipbip_haricot_im_06241.jpg'"
            ]
          },
          "metadata": {
            "tags": []
          },
          "execution_count": 24
        },
        {
          "output_type": "execute_result",
          "data": {
            "application/vnd.google.colaboratory.intrinsic+json": {
              "type": "string"
            },
            "text/plain": [
              "'/content/Development_Dataset_15/training/masks/Bipbip_haricot_im_06241.png'"
            ]
          },
          "metadata": {
            "tags": []
          },
          "execution_count": 24
        },
        {
          "output_type": "execute_result",
          "data": {
            "application/vnd.google.colaboratory.intrinsic+json": {
              "type": "string"
            },
            "text/plain": [
              "'/content/Development_Dataset_15/training/images/Bipbip_haricot_im_04301.jpg'"
            ]
          },
          "metadata": {
            "tags": []
          },
          "execution_count": 24
        },
        {
          "output_type": "execute_result",
          "data": {
            "application/vnd.google.colaboratory.intrinsic+json": {
              "type": "string"
            },
            "text/plain": [
              "'/content/Development_Dataset_15/training/masks/Bipbip_haricot_im_04301.png'"
            ]
          },
          "metadata": {
            "tags": []
          },
          "execution_count": 24
        },
        {
          "output_type": "execute_result",
          "data": {
            "application/vnd.google.colaboratory.intrinsic+json": {
              "type": "string"
            },
            "text/plain": [
              "'/content/Development_Dataset_15/training/images/Bipbip_haricot_im_06041.jpg'"
            ]
          },
          "metadata": {
            "tags": []
          },
          "execution_count": 24
        },
        {
          "output_type": "execute_result",
          "data": {
            "application/vnd.google.colaboratory.intrinsic+json": {
              "type": "string"
            },
            "text/plain": [
              "'/content/Development_Dataset_15/training/masks/Bipbip_haricot_im_06041.png'"
            ]
          },
          "metadata": {
            "tags": []
          },
          "execution_count": 24
        },
        {
          "output_type": "execute_result",
          "data": {
            "application/vnd.google.colaboratory.intrinsic+json": {
              "type": "string"
            },
            "text/plain": [
              "'/content/Development_Dataset_15/training/images/Bipbip_haricot_im_01631.jpg'"
            ]
          },
          "metadata": {
            "tags": []
          },
          "execution_count": 24
        },
        {
          "output_type": "execute_result",
          "data": {
            "application/vnd.google.colaboratory.intrinsic+json": {
              "type": "string"
            },
            "text/plain": [
              "'/content/Development_Dataset_15/training/masks/Bipbip_haricot_im_01631.png'"
            ]
          },
          "metadata": {
            "tags": []
          },
          "execution_count": 24
        },
        {
          "output_type": "execute_result",
          "data": {
            "application/vnd.google.colaboratory.intrinsic+json": {
              "type": "string"
            },
            "text/plain": [
              "'/content/Development_Dataset_15/training/images/Bipbip_haricot_im_07531.jpg'"
            ]
          },
          "metadata": {
            "tags": []
          },
          "execution_count": 24
        },
        {
          "output_type": "execute_result",
          "data": {
            "application/vnd.google.colaboratory.intrinsic+json": {
              "type": "string"
            },
            "text/plain": [
              "'/content/Development_Dataset_15/training/masks/Bipbip_haricot_im_07531.png'"
            ]
          },
          "metadata": {
            "tags": []
          },
          "execution_count": 24
        },
        {
          "output_type": "execute_result",
          "data": {
            "application/vnd.google.colaboratory.intrinsic+json": {
              "type": "string"
            },
            "text/plain": [
              "'/content/Development_Dataset_15/training/images/Bipbip_haricot_im_05531.jpg'"
            ]
          },
          "metadata": {
            "tags": []
          },
          "execution_count": 24
        },
        {
          "output_type": "execute_result",
          "data": {
            "application/vnd.google.colaboratory.intrinsic+json": {
              "type": "string"
            },
            "text/plain": [
              "'/content/Development_Dataset_15/training/masks/Bipbip_haricot_im_05531.png'"
            ]
          },
          "metadata": {
            "tags": []
          },
          "execution_count": 24
        },
        {
          "output_type": "execute_result",
          "data": {
            "application/vnd.google.colaboratory.intrinsic+json": {
              "type": "string"
            },
            "text/plain": [
              "'/content/Development_Dataset_15/training/images/Bipbip_haricot_im_01091.jpg'"
            ]
          },
          "metadata": {
            "tags": []
          },
          "execution_count": 24
        },
        {
          "output_type": "execute_result",
          "data": {
            "application/vnd.google.colaboratory.intrinsic+json": {
              "type": "string"
            },
            "text/plain": [
              "'/content/Development_Dataset_15/training/masks/Bipbip_haricot_im_01091.png'"
            ]
          },
          "metadata": {
            "tags": []
          },
          "execution_count": 24
        },
        {
          "output_type": "execute_result",
          "data": {
            "application/vnd.google.colaboratory.intrinsic+json": {
              "type": "string"
            },
            "text/plain": [
              "'/content/Development_Dataset_15/training/images/Bipbip_haricot_im_07781.jpg'"
            ]
          },
          "metadata": {
            "tags": []
          },
          "execution_count": 24
        },
        {
          "output_type": "execute_result",
          "data": {
            "application/vnd.google.colaboratory.intrinsic+json": {
              "type": "string"
            },
            "text/plain": [
              "'/content/Development_Dataset_15/training/masks/Bipbip_haricot_im_07781.png'"
            ]
          },
          "metadata": {
            "tags": []
          },
          "execution_count": 24
        },
        {
          "output_type": "execute_result",
          "data": {
            "application/vnd.google.colaboratory.intrinsic+json": {
              "type": "string"
            },
            "text/plain": [
              "'/content/Development_Dataset_15/training/images/Bipbip_haricot_im_03231.jpg'"
            ]
          },
          "metadata": {
            "tags": []
          },
          "execution_count": 24
        },
        {
          "output_type": "execute_result",
          "data": {
            "application/vnd.google.colaboratory.intrinsic+json": {
              "type": "string"
            },
            "text/plain": [
              "'/content/Development_Dataset_15/training/masks/Bipbip_haricot_im_03231.png'"
            ]
          },
          "metadata": {
            "tags": []
          },
          "execution_count": 24
        },
        {
          "output_type": "execute_result",
          "data": {
            "application/vnd.google.colaboratory.intrinsic+json": {
              "type": "string"
            },
            "text/plain": [
              "'/content/Development_Dataset_15/training/images/Bipbip_haricot_im_03111.jpg'"
            ]
          },
          "metadata": {
            "tags": []
          },
          "execution_count": 24
        },
        {
          "output_type": "execute_result",
          "data": {
            "application/vnd.google.colaboratory.intrinsic+json": {
              "type": "string"
            },
            "text/plain": [
              "'/content/Development_Dataset_15/training/masks/Bipbip_haricot_im_03111.png'"
            ]
          },
          "metadata": {
            "tags": []
          },
          "execution_count": 24
        },
        {
          "output_type": "execute_result",
          "data": {
            "application/vnd.google.colaboratory.intrinsic+json": {
              "type": "string"
            },
            "text/plain": [
              "'/content/Development_Dataset_15/training/images/Bipbip_haricot_im_06641.jpg'"
            ]
          },
          "metadata": {
            "tags": []
          },
          "execution_count": 24
        },
        {
          "output_type": "execute_result",
          "data": {
            "application/vnd.google.colaboratory.intrinsic+json": {
              "type": "string"
            },
            "text/plain": [
              "'/content/Development_Dataset_15/training/masks/Bipbip_haricot_im_06641.png'"
            ]
          },
          "metadata": {
            "tags": []
          },
          "execution_count": 24
        },
        {
          "output_type": "execute_result",
          "data": {
            "application/vnd.google.colaboratory.intrinsic+json": {
              "type": "string"
            },
            "text/plain": [
              "'/content/Development_Dataset_15/training/images/Bipbip_haricot_im_02531.jpg'"
            ]
          },
          "metadata": {
            "tags": []
          },
          "execution_count": 24
        },
        {
          "output_type": "execute_result",
          "data": {
            "application/vnd.google.colaboratory.intrinsic+json": {
              "type": "string"
            },
            "text/plain": [
              "'/content/Development_Dataset_15/training/masks/Bipbip_haricot_im_02531.png'"
            ]
          },
          "metadata": {
            "tags": []
          },
          "execution_count": 24
        },
        {
          "output_type": "execute_result",
          "data": {
            "application/vnd.google.colaboratory.intrinsic+json": {
              "type": "string"
            },
            "text/plain": [
              "'/content/Development_Dataset_15/training/images/Bipbip_haricot_im_08221.jpg'"
            ]
          },
          "metadata": {
            "tags": []
          },
          "execution_count": 24
        },
        {
          "output_type": "execute_result",
          "data": {
            "application/vnd.google.colaboratory.intrinsic+json": {
              "type": "string"
            },
            "text/plain": [
              "'/content/Development_Dataset_15/training/masks/Bipbip_haricot_im_08221.png'"
            ]
          },
          "metadata": {
            "tags": []
          },
          "execution_count": 24
        },
        {
          "output_type": "execute_result",
          "data": {
            "application/vnd.google.colaboratory.intrinsic+json": {
              "type": "string"
            },
            "text/plain": [
              "'/content/Development_Dataset_15/training/images/Bipbip_haricot_im_03461.jpg'"
            ]
          },
          "metadata": {
            "tags": []
          },
          "execution_count": 24
        },
        {
          "output_type": "execute_result",
          "data": {
            "application/vnd.google.colaboratory.intrinsic+json": {
              "type": "string"
            },
            "text/plain": [
              "'/content/Development_Dataset_15/training/masks/Bipbip_haricot_im_03461.png'"
            ]
          },
          "metadata": {
            "tags": []
          },
          "execution_count": 24
        },
        {
          "output_type": "execute_result",
          "data": {
            "application/vnd.google.colaboratory.intrinsic+json": {
              "type": "string"
            },
            "text/plain": [
              "'/content/Development_Dataset_15/training/images/Bipbip_haricot_im_01911.jpg'"
            ]
          },
          "metadata": {
            "tags": []
          },
          "execution_count": 24
        },
        {
          "output_type": "execute_result",
          "data": {
            "application/vnd.google.colaboratory.intrinsic+json": {
              "type": "string"
            },
            "text/plain": [
              "'/content/Development_Dataset_15/training/masks/Bipbip_haricot_im_01911.png'"
            ]
          },
          "metadata": {
            "tags": []
          },
          "execution_count": 24
        },
        {
          "output_type": "execute_result",
          "data": {
            "application/vnd.google.colaboratory.intrinsic+json": {
              "type": "string"
            },
            "text/plain": [
              "'/content/Development_Dataset_15/training/images/Bipbip_haricot_im_07131.jpg'"
            ]
          },
          "metadata": {
            "tags": []
          },
          "execution_count": 24
        },
        {
          "output_type": "execute_result",
          "data": {
            "application/vnd.google.colaboratory.intrinsic+json": {
              "type": "string"
            },
            "text/plain": [
              "'/content/Development_Dataset_15/training/masks/Bipbip_haricot_im_07131.png'"
            ]
          },
          "metadata": {
            "tags": []
          },
          "execution_count": 24
        },
        {
          "output_type": "execute_result",
          "data": {
            "application/vnd.google.colaboratory.intrinsic+json": {
              "type": "string"
            },
            "text/plain": [
              "'/content/Development_Dataset_15/training/images/Bipbip_haricot_im_03571.jpg'"
            ]
          },
          "metadata": {
            "tags": []
          },
          "execution_count": 24
        },
        {
          "output_type": "execute_result",
          "data": {
            "application/vnd.google.colaboratory.intrinsic+json": {
              "type": "string"
            },
            "text/plain": [
              "'/content/Development_Dataset_15/training/masks/Bipbip_haricot_im_03571.png'"
            ]
          },
          "metadata": {
            "tags": []
          },
          "execution_count": 24
        },
        {
          "output_type": "execute_result",
          "data": {
            "application/vnd.google.colaboratory.intrinsic+json": {
              "type": "string"
            },
            "text/plain": [
              "'/content/Development_Dataset_15/training/images/Bipbip_haricot_im_01541.jpg'"
            ]
          },
          "metadata": {
            "tags": []
          },
          "execution_count": 24
        },
        {
          "output_type": "execute_result",
          "data": {
            "application/vnd.google.colaboratory.intrinsic+json": {
              "type": "string"
            },
            "text/plain": [
              "'/content/Development_Dataset_15/training/masks/Bipbip_haricot_im_01541.png'"
            ]
          },
          "metadata": {
            "tags": []
          },
          "execution_count": 24
        },
        {
          "output_type": "execute_result",
          "data": {
            "application/vnd.google.colaboratory.intrinsic+json": {
              "type": "string"
            },
            "text/plain": [
              "'/content/Development_Dataset_15/training/images/Bipbip_haricot_im_05461.jpg'"
            ]
          },
          "metadata": {
            "tags": []
          },
          "execution_count": 24
        },
        {
          "output_type": "execute_result",
          "data": {
            "application/vnd.google.colaboratory.intrinsic+json": {
              "type": "string"
            },
            "text/plain": [
              "'/content/Development_Dataset_15/training/masks/Bipbip_haricot_im_05461.png'"
            ]
          },
          "metadata": {
            "tags": []
          },
          "execution_count": 24
        },
        {
          "output_type": "execute_result",
          "data": {
            "application/vnd.google.colaboratory.intrinsic+json": {
              "type": "string"
            },
            "text/plain": [
              "'/content/Development_Dataset_15/training/images/Bipbip_haricot_im_06531.jpg'"
            ]
          },
          "metadata": {
            "tags": []
          },
          "execution_count": 24
        },
        {
          "output_type": "execute_result",
          "data": {
            "application/vnd.google.colaboratory.intrinsic+json": {
              "type": "string"
            },
            "text/plain": [
              "'/content/Development_Dataset_15/training/masks/Bipbip_haricot_im_06531.png'"
            ]
          },
          "metadata": {
            "tags": []
          },
          "execution_count": 24
        },
        {
          "output_type": "execute_result",
          "data": {
            "application/vnd.google.colaboratory.intrinsic+json": {
              "type": "string"
            },
            "text/plain": [
              "'/content/Development_Dataset_15/training/images/Bipbip_haricot_im_03531.jpg'"
            ]
          },
          "metadata": {
            "tags": []
          },
          "execution_count": 24
        },
        {
          "output_type": "execute_result",
          "data": {
            "application/vnd.google.colaboratory.intrinsic+json": {
              "type": "string"
            },
            "text/plain": [
              "'/content/Development_Dataset_15/training/masks/Bipbip_haricot_im_03531.png'"
            ]
          },
          "metadata": {
            "tags": []
          },
          "execution_count": 24
        },
        {
          "output_type": "execute_result",
          "data": {
            "application/vnd.google.colaboratory.intrinsic+json": {
              "type": "string"
            },
            "text/plain": [
              "'/content/Development_Dataset_15/training/images/Bipbip_haricot_im_03281.jpg'"
            ]
          },
          "metadata": {
            "tags": []
          },
          "execution_count": 24
        },
        {
          "output_type": "execute_result",
          "data": {
            "application/vnd.google.colaboratory.intrinsic+json": {
              "type": "string"
            },
            "text/plain": [
              "'/content/Development_Dataset_15/training/masks/Bipbip_haricot_im_03281.png'"
            ]
          },
          "metadata": {
            "tags": []
          },
          "execution_count": 24
        },
        {
          "output_type": "execute_result",
          "data": {
            "application/vnd.google.colaboratory.intrinsic+json": {
              "type": "string"
            },
            "text/plain": [
              "'/content/Development_Dataset_15/training/images/Bipbip_haricot_im_03841.jpg'"
            ]
          },
          "metadata": {
            "tags": []
          },
          "execution_count": 24
        },
        {
          "output_type": "execute_result",
          "data": {
            "application/vnd.google.colaboratory.intrinsic+json": {
              "type": "string"
            },
            "text/plain": [
              "'/content/Development_Dataset_15/training/masks/Bipbip_haricot_im_03841.png'"
            ]
          },
          "metadata": {
            "tags": []
          },
          "execution_count": 24
        },
        {
          "output_type": "execute_result",
          "data": {
            "application/vnd.google.colaboratory.intrinsic+json": {
              "type": "string"
            },
            "text/plain": [
              "'/content/Development_Dataset_15/training/images/Bipbip_haricot_im_04741.jpg'"
            ]
          },
          "metadata": {
            "tags": []
          },
          "execution_count": 24
        },
        {
          "output_type": "execute_result",
          "data": {
            "application/vnd.google.colaboratory.intrinsic+json": {
              "type": "string"
            },
            "text/plain": [
              "'/content/Development_Dataset_15/training/masks/Bipbip_haricot_im_04741.png'"
            ]
          },
          "metadata": {
            "tags": []
          },
          "execution_count": 24
        },
        {
          "output_type": "execute_result",
          "data": {
            "application/vnd.google.colaboratory.intrinsic+json": {
              "type": "string"
            },
            "text/plain": [
              "'/content/Development_Dataset_15/training/images/Bipbip_haricot_im_00871.jpg'"
            ]
          },
          "metadata": {
            "tags": []
          },
          "execution_count": 24
        },
        {
          "output_type": "execute_result",
          "data": {
            "application/vnd.google.colaboratory.intrinsic+json": {
              "type": "string"
            },
            "text/plain": [
              "'/content/Development_Dataset_15/training/masks/Bipbip_haricot_im_00871.png'"
            ]
          },
          "metadata": {
            "tags": []
          },
          "execution_count": 24
        },
        {
          "output_type": "execute_result",
          "data": {
            "application/vnd.google.colaboratory.intrinsic+json": {
              "type": "string"
            },
            "text/plain": [
              "'/content/Development_Dataset_15/training/images/Bipbip_haricot_im_05111.jpg'"
            ]
          },
          "metadata": {
            "tags": []
          },
          "execution_count": 24
        },
        {
          "output_type": "execute_result",
          "data": {
            "application/vnd.google.colaboratory.intrinsic+json": {
              "type": "string"
            },
            "text/plain": [
              "'/content/Development_Dataset_15/training/masks/Bipbip_haricot_im_05111.png'"
            ]
          },
          "metadata": {
            "tags": []
          },
          "execution_count": 24
        },
        {
          "output_type": "execute_result",
          "data": {
            "application/vnd.google.colaboratory.intrinsic+json": {
              "type": "string"
            },
            "text/plain": [
              "'/content/Development_Dataset_15/training/images/Bipbip_haricot_im_04851.jpg'"
            ]
          },
          "metadata": {
            "tags": []
          },
          "execution_count": 24
        },
        {
          "output_type": "execute_result",
          "data": {
            "application/vnd.google.colaboratory.intrinsic+json": {
              "type": "string"
            },
            "text/plain": [
              "'/content/Development_Dataset_15/training/masks/Bipbip_haricot_im_04851.png'"
            ]
          },
          "metadata": {
            "tags": []
          },
          "execution_count": 24
        },
        {
          "output_type": "execute_result",
          "data": {
            "application/vnd.google.colaboratory.intrinsic+json": {
              "type": "string"
            },
            "text/plain": [
              "'/content/Development_Dataset_15/training/images/Bipbip_haricot_im_04031.jpg'"
            ]
          },
          "metadata": {
            "tags": []
          },
          "execution_count": 24
        },
        {
          "output_type": "execute_result",
          "data": {
            "application/vnd.google.colaboratory.intrinsic+json": {
              "type": "string"
            },
            "text/plain": [
              "'/content/Development_Dataset_15/training/masks/Bipbip_haricot_im_04031.png'"
            ]
          },
          "metadata": {
            "tags": []
          },
          "execution_count": 24
        },
        {
          "output_type": "execute_result",
          "data": {
            "application/vnd.google.colaboratory.intrinsic+json": {
              "type": "string"
            },
            "text/plain": [
              "'/content/Development_Dataset_15/training/images/Bipbip_haricot_im_00451.jpg'"
            ]
          },
          "metadata": {
            "tags": []
          },
          "execution_count": 24
        },
        {
          "output_type": "execute_result",
          "data": {
            "application/vnd.google.colaboratory.intrinsic+json": {
              "type": "string"
            },
            "text/plain": [
              "'/content/Development_Dataset_15/training/masks/Bipbip_haricot_im_00451.png'"
            ]
          },
          "metadata": {
            "tags": []
          },
          "execution_count": 24
        },
        {
          "output_type": "execute_result",
          "data": {
            "application/vnd.google.colaboratory.intrinsic+json": {
              "type": "string"
            },
            "text/plain": [
              "'/content/Development_Dataset_15/training/images/Bipbip_haricot_im_00651.jpg'"
            ]
          },
          "metadata": {
            "tags": []
          },
          "execution_count": 24
        },
        {
          "output_type": "execute_result",
          "data": {
            "application/vnd.google.colaboratory.intrinsic+json": {
              "type": "string"
            },
            "text/plain": [
              "'/content/Development_Dataset_15/training/masks/Bipbip_haricot_im_00651.png'"
            ]
          },
          "metadata": {
            "tags": []
          },
          "execution_count": 24
        },
        {
          "output_type": "execute_result",
          "data": {
            "application/vnd.google.colaboratory.intrinsic+json": {
              "type": "string"
            },
            "text/plain": [
              "'/content/Development_Dataset_15/training/images/Bipbip_haricot_im_07481.jpg'"
            ]
          },
          "metadata": {
            "tags": []
          },
          "execution_count": 24
        },
        {
          "output_type": "execute_result",
          "data": {
            "application/vnd.google.colaboratory.intrinsic+json": {
              "type": "string"
            },
            "text/plain": [
              "'/content/Development_Dataset_15/training/masks/Bipbip_haricot_im_07481.png'"
            ]
          },
          "metadata": {
            "tags": []
          },
          "execution_count": 24
        },
        {
          "output_type": "execute_result",
          "data": {
            "application/vnd.google.colaboratory.intrinsic+json": {
              "type": "string"
            },
            "text/plain": [
              "'/content/Development_Dataset_15/training/images/Bipbip_haricot_im_05481.jpg'"
            ]
          },
          "metadata": {
            "tags": []
          },
          "execution_count": 24
        },
        {
          "output_type": "execute_result",
          "data": {
            "application/vnd.google.colaboratory.intrinsic+json": {
              "type": "string"
            },
            "text/plain": [
              "'/content/Development_Dataset_15/training/masks/Bipbip_haricot_im_05481.png'"
            ]
          },
          "metadata": {
            "tags": []
          },
          "execution_count": 24
        },
        {
          "output_type": "execute_result",
          "data": {
            "application/vnd.google.colaboratory.intrinsic+json": {
              "type": "string"
            },
            "text/plain": [
              "'/content/Development_Dataset_15/training/images/Bipbip_haricot_im_05301.jpg'"
            ]
          },
          "metadata": {
            "tags": []
          },
          "execution_count": 24
        },
        {
          "output_type": "execute_result",
          "data": {
            "application/vnd.google.colaboratory.intrinsic+json": {
              "type": "string"
            },
            "text/plain": [
              "'/content/Development_Dataset_15/training/masks/Bipbip_haricot_im_05301.png'"
            ]
          },
          "metadata": {
            "tags": []
          },
          "execution_count": 24
        },
        {
          "output_type": "execute_result",
          "data": {
            "application/vnd.google.colaboratory.intrinsic+json": {
              "type": "string"
            },
            "text/plain": [
              "'/content/Development_Dataset_15/training/images/Bipbip_haricot_im_06801.jpg'"
            ]
          },
          "metadata": {
            "tags": []
          },
          "execution_count": 24
        },
        {
          "output_type": "execute_result",
          "data": {
            "application/vnd.google.colaboratory.intrinsic+json": {
              "type": "string"
            },
            "text/plain": [
              "'/content/Development_Dataset_15/training/masks/Bipbip_haricot_im_06801.png'"
            ]
          },
          "metadata": {
            "tags": []
          },
          "execution_count": 24
        },
        {
          "output_type": "execute_result",
          "data": {
            "application/vnd.google.colaboratory.intrinsic+json": {
              "type": "string"
            },
            "text/plain": [
              "'/content/Development_Dataset_15/training/images/Bipbip_haricot_im_05231.jpg'"
            ]
          },
          "metadata": {
            "tags": []
          },
          "execution_count": 24
        },
        {
          "output_type": "execute_result",
          "data": {
            "application/vnd.google.colaboratory.intrinsic+json": {
              "type": "string"
            },
            "text/plain": [
              "'/content/Development_Dataset_15/training/masks/Bipbip_haricot_im_05231.png'"
            ]
          },
          "metadata": {
            "tags": []
          },
          "execution_count": 24
        },
        {
          "output_type": "execute_result",
          "data": {
            "application/vnd.google.colaboratory.intrinsic+json": {
              "type": "string"
            },
            "text/plain": [
              "'/content/Development_Dataset_15/training/images/Bipbip_haricot_im_06401.jpg'"
            ]
          },
          "metadata": {
            "tags": []
          },
          "execution_count": 24
        },
        {
          "output_type": "execute_result",
          "data": {
            "application/vnd.google.colaboratory.intrinsic+json": {
              "type": "string"
            },
            "text/plain": [
              "'/content/Development_Dataset_15/training/masks/Bipbip_haricot_im_06401.png'"
            ]
          },
          "metadata": {
            "tags": []
          },
          "execution_count": 24
        },
        {
          "output_type": "execute_result",
          "data": {
            "application/vnd.google.colaboratory.intrinsic+json": {
              "type": "string"
            },
            "text/plain": [
              "'/content/Development_Dataset_15/training/images/Bipbip_haricot_im_01271.jpg'"
            ]
          },
          "metadata": {
            "tags": []
          },
          "execution_count": 24
        },
        {
          "output_type": "execute_result",
          "data": {
            "application/vnd.google.colaboratory.intrinsic+json": {
              "type": "string"
            },
            "text/plain": [
              "'/content/Development_Dataset_15/training/masks/Bipbip_haricot_im_01271.png'"
            ]
          },
          "metadata": {
            "tags": []
          },
          "execution_count": 24
        },
        {
          "output_type": "execute_result",
          "data": {
            "application/vnd.google.colaboratory.intrinsic+json": {
              "type": "string"
            },
            "text/plain": [
              "'/content/Development_Dataset_15/training/images/Bipbip_haricot_im_03961.jpg'"
            ]
          },
          "metadata": {
            "tags": []
          },
          "execution_count": 24
        },
        {
          "output_type": "execute_result",
          "data": {
            "application/vnd.google.colaboratory.intrinsic+json": {
              "type": "string"
            },
            "text/plain": [
              "'/content/Development_Dataset_15/training/masks/Bipbip_haricot_im_03961.png'"
            ]
          },
          "metadata": {
            "tags": []
          },
          "execution_count": 24
        },
        {
          "output_type": "execute_result",
          "data": {
            "application/vnd.google.colaboratory.intrinsic+json": {
              "type": "string"
            },
            "text/plain": [
              "'/content/Development_Dataset_15/training/images/Bipbip_haricot_im_05041.jpg'"
            ]
          },
          "metadata": {
            "tags": []
          },
          "execution_count": 24
        },
        {
          "output_type": "execute_result",
          "data": {
            "application/vnd.google.colaboratory.intrinsic+json": {
              "type": "string"
            },
            "text/plain": [
              "'/content/Development_Dataset_15/training/masks/Bipbip_haricot_im_05041.png'"
            ]
          },
          "metadata": {
            "tags": []
          },
          "execution_count": 24
        },
        {
          "output_type": "execute_result",
          "data": {
            "application/vnd.google.colaboratory.intrinsic+json": {
              "type": "string"
            },
            "text/plain": [
              "'/content/Development_Dataset_15/training/images/Bipbip_haricot_im_06341.jpg'"
            ]
          },
          "metadata": {
            "tags": []
          },
          "execution_count": 24
        },
        {
          "output_type": "execute_result",
          "data": {
            "application/vnd.google.colaboratory.intrinsic+json": {
              "type": "string"
            },
            "text/plain": [
              "'/content/Development_Dataset_15/training/masks/Bipbip_haricot_im_06341.png'"
            ]
          },
          "metadata": {
            "tags": []
          },
          "execution_count": 24
        },
        {
          "output_type": "execute_result",
          "data": {
            "application/vnd.google.colaboratory.intrinsic+json": {
              "type": "string"
            },
            "text/plain": [
              "'/content/Development_Dataset_15/training/images/Bipbip_haricot_im_00511.jpg'"
            ]
          },
          "metadata": {
            "tags": []
          },
          "execution_count": 24
        },
        {
          "output_type": "execute_result",
          "data": {
            "application/vnd.google.colaboratory.intrinsic+json": {
              "type": "string"
            },
            "text/plain": [
              "'/content/Development_Dataset_15/training/masks/Bipbip_haricot_im_00511.png'"
            ]
          },
          "metadata": {
            "tags": []
          },
          "execution_count": 24
        },
        {
          "output_type": "execute_result",
          "data": {
            "application/vnd.google.colaboratory.intrinsic+json": {
              "type": "string"
            },
            "text/plain": [
              "'/content/Development_Dataset_15/training/images/Bipbip_haricot_im_04791.jpg'"
            ]
          },
          "metadata": {
            "tags": []
          },
          "execution_count": 24
        },
        {
          "output_type": "execute_result",
          "data": {
            "application/vnd.google.colaboratory.intrinsic+json": {
              "type": "string"
            },
            "text/plain": [
              "'/content/Development_Dataset_15/training/masks/Bipbip_haricot_im_04791.png'"
            ]
          },
          "metadata": {
            "tags": []
          },
          "execution_count": 24
        },
        {
          "output_type": "execute_result",
          "data": {
            "application/vnd.google.colaboratory.intrinsic+json": {
              "type": "string"
            },
            "text/plain": [
              "'/content/Development_Dataset_15/training/images/Bipbip_haricot_im_04541.jpg'"
            ]
          },
          "metadata": {
            "tags": []
          },
          "execution_count": 24
        },
        {
          "output_type": "execute_result",
          "data": {
            "application/vnd.google.colaboratory.intrinsic+json": {
              "type": "string"
            },
            "text/plain": [
              "'/content/Development_Dataset_15/training/masks/Bipbip_haricot_im_04541.png'"
            ]
          },
          "metadata": {
            "tags": []
          },
          "execution_count": 24
        },
        {
          "output_type": "execute_result",
          "data": {
            "application/vnd.google.colaboratory.intrinsic+json": {
              "type": "string"
            },
            "text/plain": [
              "'/content/Development_Dataset_15/training/images/Bipbip_haricot_im_00801.jpg'"
            ]
          },
          "metadata": {
            "tags": []
          },
          "execution_count": 24
        },
        {
          "output_type": "execute_result",
          "data": {
            "application/vnd.google.colaboratory.intrinsic+json": {
              "type": "string"
            },
            "text/plain": [
              "'/content/Development_Dataset_15/training/masks/Bipbip_haricot_im_00801.png'"
            ]
          },
          "metadata": {
            "tags": []
          },
          "execution_count": 24
        },
        {
          "output_type": "execute_result",
          "data": {
            "application/vnd.google.colaboratory.intrinsic+json": {
              "type": "string"
            },
            "text/plain": [
              "'/content/Development_Dataset_15/training/images/Bipbip_haricot_im_03481.jpg'"
            ]
          },
          "metadata": {
            "tags": []
          },
          "execution_count": 24
        },
        {
          "output_type": "execute_result",
          "data": {
            "application/vnd.google.colaboratory.intrinsic+json": {
              "type": "string"
            },
            "text/plain": [
              "'/content/Development_Dataset_15/training/masks/Bipbip_haricot_im_03481.png'"
            ]
          },
          "metadata": {
            "tags": []
          },
          "execution_count": 24
        },
        {
          "output_type": "execute_result",
          "data": {
            "application/vnd.google.colaboratory.intrinsic+json": {
              "type": "string"
            },
            "text/plain": [
              "'/content/Development_Dataset_15/validation/images/Bipbip_haricot_im_02351.jpg'"
            ]
          },
          "metadata": {
            "tags": []
          },
          "execution_count": 24
        },
        {
          "output_type": "execute_result",
          "data": {
            "application/vnd.google.colaboratory.intrinsic+json": {
              "type": "string"
            },
            "text/plain": [
              "'/content/Development_Dataset_15/validation/masks/Bipbip_haricot_im_02351.png'"
            ]
          },
          "metadata": {
            "tags": []
          },
          "execution_count": 24
        },
        {
          "output_type": "execute_result",
          "data": {
            "application/vnd.google.colaboratory.intrinsic+json": {
              "type": "string"
            },
            "text/plain": [
              "'/content/Development_Dataset_15/validation/images/Bipbip_haricot_im_07701.jpg'"
            ]
          },
          "metadata": {
            "tags": []
          },
          "execution_count": 24
        },
        {
          "output_type": "execute_result",
          "data": {
            "application/vnd.google.colaboratory.intrinsic+json": {
              "type": "string"
            },
            "text/plain": [
              "'/content/Development_Dataset_15/validation/masks/Bipbip_haricot_im_07701.png'"
            ]
          },
          "metadata": {
            "tags": []
          },
          "execution_count": 24
        },
        {
          "output_type": "execute_result",
          "data": {
            "application/vnd.google.colaboratory.intrinsic+json": {
              "type": "string"
            },
            "text/plain": [
              "'/content/Development_Dataset_15/validation/images/Bipbip_haricot_im_06151.jpg'"
            ]
          },
          "metadata": {
            "tags": []
          },
          "execution_count": 24
        },
        {
          "output_type": "execute_result",
          "data": {
            "application/vnd.google.colaboratory.intrinsic+json": {
              "type": "string"
            },
            "text/plain": [
              "'/content/Development_Dataset_15/validation/masks/Bipbip_haricot_im_06151.png'"
            ]
          },
          "metadata": {
            "tags": []
          },
          "execution_count": 24
        },
        {
          "output_type": "execute_result",
          "data": {
            "application/vnd.google.colaboratory.intrinsic+json": {
              "type": "string"
            },
            "text/plain": [
              "'/content/Development_Dataset_15/validation/images/Bipbip_haricot_im_05351.jpg'"
            ]
          },
          "metadata": {
            "tags": []
          },
          "execution_count": 24
        },
        {
          "output_type": "execute_result",
          "data": {
            "application/vnd.google.colaboratory.intrinsic+json": {
              "type": "string"
            },
            "text/plain": [
              "'/content/Development_Dataset_15/validation/masks/Bipbip_haricot_im_05351.png'"
            ]
          },
          "metadata": {
            "tags": []
          },
          "execution_count": 24
        },
        {
          "output_type": "execute_result",
          "data": {
            "application/vnd.google.colaboratory.intrinsic+json": {
              "type": "string"
            },
            "text/plain": [
              "'/content/Development_Dataset_15/validation/images/Bipbip_haricot_im_06901.jpg'"
            ]
          },
          "metadata": {
            "tags": []
          },
          "execution_count": 24
        },
        {
          "output_type": "execute_result",
          "data": {
            "application/vnd.google.colaboratory.intrinsic+json": {
              "type": "string"
            },
            "text/plain": [
              "'/content/Development_Dataset_15/validation/masks/Bipbip_haricot_im_06901.png'"
            ]
          },
          "metadata": {
            "tags": []
          },
          "execution_count": 24
        },
        {
          "output_type": "execute_result",
          "data": {
            "application/vnd.google.colaboratory.intrinsic+json": {
              "type": "string"
            },
            "text/plain": [
              "'/content/Development_Dataset_15/validation/images/Bipbip_haricot_im_03611.jpg'"
            ]
          },
          "metadata": {
            "tags": []
          },
          "execution_count": 24
        },
        {
          "output_type": "execute_result",
          "data": {
            "application/vnd.google.colaboratory.intrinsic+json": {
              "type": "string"
            },
            "text/plain": [
              "'/content/Development_Dataset_15/validation/masks/Bipbip_haricot_im_03611.png'"
            ]
          },
          "metadata": {
            "tags": []
          },
          "execution_count": 24
        },
        {
          "output_type": "execute_result",
          "data": {
            "application/vnd.google.colaboratory.intrinsic+json": {
              "type": "string"
            },
            "text/plain": [
              "'/content/Development_Dataset_15/validation/images/Bipbip_haricot_im_05361.jpg'"
            ]
          },
          "metadata": {
            "tags": []
          },
          "execution_count": 24
        },
        {
          "output_type": "execute_result",
          "data": {
            "application/vnd.google.colaboratory.intrinsic+json": {
              "type": "string"
            },
            "text/plain": [
              "'/content/Development_Dataset_15/validation/masks/Bipbip_haricot_im_05361.png'"
            ]
          },
          "metadata": {
            "tags": []
          },
          "execution_count": 24
        },
        {
          "output_type": "execute_result",
          "data": {
            "application/vnd.google.colaboratory.intrinsic+json": {
              "type": "string"
            },
            "text/plain": [
              "'/content/Development_Dataset_15/validation/images/Bipbip_haricot_im_07011.jpg'"
            ]
          },
          "metadata": {
            "tags": []
          },
          "execution_count": 24
        },
        {
          "output_type": "execute_result",
          "data": {
            "application/vnd.google.colaboratory.intrinsic+json": {
              "type": "string"
            },
            "text/plain": [
              "'/content/Development_Dataset_15/validation/masks/Bipbip_haricot_im_07011.png'"
            ]
          },
          "metadata": {
            "tags": []
          },
          "execution_count": 24
        },
        {
          "output_type": "execute_result",
          "data": {
            "application/vnd.google.colaboratory.intrinsic+json": {
              "type": "string"
            },
            "text/plain": [
              "'/content/Development_Dataset_15/validation/images/Bipbip_haricot_im_08071.jpg'"
            ]
          },
          "metadata": {
            "tags": []
          },
          "execution_count": 24
        },
        {
          "output_type": "execute_result",
          "data": {
            "application/vnd.google.colaboratory.intrinsic+json": {
              "type": "string"
            },
            "text/plain": [
              "'/content/Development_Dataset_15/validation/masks/Bipbip_haricot_im_08071.png'"
            ]
          },
          "metadata": {
            "tags": []
          },
          "execution_count": 24
        },
        {
          "output_type": "execute_result",
          "data": {
            "application/vnd.google.colaboratory.intrinsic+json": {
              "type": "string"
            },
            "text/plain": [
              "'/content/Development_Dataset_15/validation/images/Bipbip_haricot_im_04401.jpg'"
            ]
          },
          "metadata": {
            "tags": []
          },
          "execution_count": 24
        },
        {
          "output_type": "execute_result",
          "data": {
            "application/vnd.google.colaboratory.intrinsic+json": {
              "type": "string"
            },
            "text/plain": [
              "'/content/Development_Dataset_15/validation/masks/Bipbip_haricot_im_04401.png'"
            ]
          },
          "metadata": {
            "tags": []
          },
          "execution_count": 24
        },
        {
          "output_type": "execute_result",
          "data": {
            "application/vnd.google.colaboratory.intrinsic+json": {
              "type": "string"
            },
            "text/plain": [
              "'/content/Development_Dataset_15/validation/images/Bipbip_haricot_im_03411.jpg'"
            ]
          },
          "metadata": {
            "tags": []
          },
          "execution_count": 24
        },
        {
          "output_type": "execute_result",
          "data": {
            "application/vnd.google.colaboratory.intrinsic+json": {
              "type": "string"
            },
            "text/plain": [
              "'/content/Development_Dataset_15/validation/masks/Bipbip_haricot_im_03411.png'"
            ]
          },
          "metadata": {
            "tags": []
          },
          "execution_count": 24
        },
        {
          "output_type": "execute_result",
          "data": {
            "application/vnd.google.colaboratory.intrinsic+json": {
              "type": "string"
            },
            "text/plain": [
              "'/content/Development_Dataset_15/validation/images/Bipbip_haricot_im_06691.jpg'"
            ]
          },
          "metadata": {
            "tags": []
          },
          "execution_count": 24
        },
        {
          "output_type": "execute_result",
          "data": {
            "application/vnd.google.colaboratory.intrinsic+json": {
              "type": "string"
            },
            "text/plain": [
              "'/content/Development_Dataset_15/validation/masks/Bipbip_haricot_im_06691.png'"
            ]
          },
          "metadata": {
            "tags": []
          },
          "execution_count": 24
        },
        {
          "output_type": "execute_result",
          "data": {
            "application/vnd.google.colaboratory.intrinsic+json": {
              "type": "string"
            },
            "text/plain": [
              "'/content/Development_Dataset_15/validation/images/Bipbip_haricot_im_06101.jpg'"
            ]
          },
          "metadata": {
            "tags": []
          },
          "execution_count": 24
        },
        {
          "output_type": "execute_result",
          "data": {
            "application/vnd.google.colaboratory.intrinsic+json": {
              "type": "string"
            },
            "text/plain": [
              "'/content/Development_Dataset_15/validation/masks/Bipbip_haricot_im_06101.png'"
            ]
          },
          "metadata": {
            "tags": []
          },
          "execution_count": 24
        },
        {
          "output_type": "execute_result",
          "data": {
            "application/vnd.google.colaboratory.intrinsic+json": {
              "type": "string"
            },
            "text/plain": [
              "'/content/Development_Dataset_15/validation/images/Bipbip_haricot_im_07371.jpg'"
            ]
          },
          "metadata": {
            "tags": []
          },
          "execution_count": 24
        },
        {
          "output_type": "execute_result",
          "data": {
            "application/vnd.google.colaboratory.intrinsic+json": {
              "type": "string"
            },
            "text/plain": [
              "'/content/Development_Dataset_15/validation/masks/Bipbip_haricot_im_07371.png'"
            ]
          },
          "metadata": {
            "tags": []
          },
          "execution_count": 24
        },
        {
          "output_type": "execute_result",
          "data": {
            "application/vnd.google.colaboratory.intrinsic+json": {
              "type": "string"
            },
            "text/plain": [
              "'/content/Development_Dataset_15/training/images/Bipbip_mais_im_03811.jpg'"
            ]
          },
          "metadata": {
            "tags": []
          },
          "execution_count": 24
        },
        {
          "output_type": "execute_result",
          "data": {
            "application/vnd.google.colaboratory.intrinsic+json": {
              "type": "string"
            },
            "text/plain": [
              "'/content/Development_Dataset_15/training/masks/Bipbip_mais_im_03811.png'"
            ]
          },
          "metadata": {
            "tags": []
          },
          "execution_count": 24
        },
        {
          "output_type": "execute_result",
          "data": {
            "application/vnd.google.colaboratory.intrinsic+json": {
              "type": "string"
            },
            "text/plain": [
              "'/content/Development_Dataset_15/training/images/Bipbip_mais_im_03871.jpg'"
            ]
          },
          "metadata": {
            "tags": []
          },
          "execution_count": 24
        },
        {
          "output_type": "execute_result",
          "data": {
            "application/vnd.google.colaboratory.intrinsic+json": {
              "type": "string"
            },
            "text/plain": [
              "'/content/Development_Dataset_15/training/masks/Bipbip_mais_im_03871.png'"
            ]
          },
          "metadata": {
            "tags": []
          },
          "execution_count": 24
        },
        {
          "output_type": "execute_result",
          "data": {
            "application/vnd.google.colaboratory.intrinsic+json": {
              "type": "string"
            },
            "text/plain": [
              "'/content/Development_Dataset_15/training/images/Bipbip_mais_im_05801.jpg'"
            ]
          },
          "metadata": {
            "tags": []
          },
          "execution_count": 24
        },
        {
          "output_type": "execute_result",
          "data": {
            "application/vnd.google.colaboratory.intrinsic+json": {
              "type": "string"
            },
            "text/plain": [
              "'/content/Development_Dataset_15/training/masks/Bipbip_mais_im_05801.png'"
            ]
          },
          "metadata": {
            "tags": []
          },
          "execution_count": 24
        },
        {
          "output_type": "execute_result",
          "data": {
            "application/vnd.google.colaboratory.intrinsic+json": {
              "type": "string"
            },
            "text/plain": [
              "'/content/Development_Dataset_15/training/images/Bipbip_mais_im_09921.jpg'"
            ]
          },
          "metadata": {
            "tags": []
          },
          "execution_count": 24
        },
        {
          "output_type": "execute_result",
          "data": {
            "application/vnd.google.colaboratory.intrinsic+json": {
              "type": "string"
            },
            "text/plain": [
              "'/content/Development_Dataset_15/training/masks/Bipbip_mais_im_09921.png'"
            ]
          },
          "metadata": {
            "tags": []
          },
          "execution_count": 24
        },
        {
          "output_type": "execute_result",
          "data": {
            "application/vnd.google.colaboratory.intrinsic+json": {
              "type": "string"
            },
            "text/plain": [
              "'/content/Development_Dataset_15/training/images/Bipbip_mais_im_08121.jpg'"
            ]
          },
          "metadata": {
            "tags": []
          },
          "execution_count": 24
        },
        {
          "output_type": "execute_result",
          "data": {
            "application/vnd.google.colaboratory.intrinsic+json": {
              "type": "string"
            },
            "text/plain": [
              "'/content/Development_Dataset_15/training/masks/Bipbip_mais_im_08121.png'"
            ]
          },
          "metadata": {
            "tags": []
          },
          "execution_count": 24
        },
        {
          "output_type": "execute_result",
          "data": {
            "application/vnd.google.colaboratory.intrinsic+json": {
              "type": "string"
            },
            "text/plain": [
              "'/content/Development_Dataset_15/training/images/Bipbip_mais_im_09641.jpg'"
            ]
          },
          "metadata": {
            "tags": []
          },
          "execution_count": 24
        },
        {
          "output_type": "execute_result",
          "data": {
            "application/vnd.google.colaboratory.intrinsic+json": {
              "type": "string"
            },
            "text/plain": [
              "'/content/Development_Dataset_15/training/masks/Bipbip_mais_im_09641.png'"
            ]
          },
          "metadata": {
            "tags": []
          },
          "execution_count": 24
        },
        {
          "output_type": "execute_result",
          "data": {
            "application/vnd.google.colaboratory.intrinsic+json": {
              "type": "string"
            },
            "text/plain": [
              "'/content/Development_Dataset_15/training/images/Bipbip_mais_im_09841.jpg'"
            ]
          },
          "metadata": {
            "tags": []
          },
          "execution_count": 24
        },
        {
          "output_type": "execute_result",
          "data": {
            "application/vnd.google.colaboratory.intrinsic+json": {
              "type": "string"
            },
            "text/plain": [
              "'/content/Development_Dataset_15/training/masks/Bipbip_mais_im_09841.png'"
            ]
          },
          "metadata": {
            "tags": []
          },
          "execution_count": 24
        },
        {
          "output_type": "execute_result",
          "data": {
            "application/vnd.google.colaboratory.intrinsic+json": {
              "type": "string"
            },
            "text/plain": [
              "'/content/Development_Dataset_15/training/images/Bipbip_mais_im_08381.jpg'"
            ]
          },
          "metadata": {
            "tags": []
          },
          "execution_count": 24
        },
        {
          "output_type": "execute_result",
          "data": {
            "application/vnd.google.colaboratory.intrinsic+json": {
              "type": "string"
            },
            "text/plain": [
              "'/content/Development_Dataset_15/training/masks/Bipbip_mais_im_08381.png'"
            ]
          },
          "metadata": {
            "tags": []
          },
          "execution_count": 24
        },
        {
          "output_type": "execute_result",
          "data": {
            "application/vnd.google.colaboratory.intrinsic+json": {
              "type": "string"
            },
            "text/plain": [
              "'/content/Development_Dataset_15/training/images/Bipbip_mais_im_06691.jpg'"
            ]
          },
          "metadata": {
            "tags": []
          },
          "execution_count": 24
        },
        {
          "output_type": "execute_result",
          "data": {
            "application/vnd.google.colaboratory.intrinsic+json": {
              "type": "string"
            },
            "text/plain": [
              "'/content/Development_Dataset_15/training/masks/Bipbip_mais_im_06691.png'"
            ]
          },
          "metadata": {
            "tags": []
          },
          "execution_count": 24
        },
        {
          "output_type": "execute_result",
          "data": {
            "application/vnd.google.colaboratory.intrinsic+json": {
              "type": "string"
            },
            "text/plain": [
              "'/content/Development_Dataset_15/training/images/Bipbip_mais_im_09231.jpg'"
            ]
          },
          "metadata": {
            "tags": []
          },
          "execution_count": 24
        },
        {
          "output_type": "execute_result",
          "data": {
            "application/vnd.google.colaboratory.intrinsic+json": {
              "type": "string"
            },
            "text/plain": [
              "'/content/Development_Dataset_15/training/masks/Bipbip_mais_im_09231.png'"
            ]
          },
          "metadata": {
            "tags": []
          },
          "execution_count": 24
        },
        {
          "output_type": "execute_result",
          "data": {
            "application/vnd.google.colaboratory.intrinsic+json": {
              "type": "string"
            },
            "text/plain": [
              "'/content/Development_Dataset_15/training/images/Bipbip_mais_im_08511.jpg'"
            ]
          },
          "metadata": {
            "tags": []
          },
          "execution_count": 24
        },
        {
          "output_type": "execute_result",
          "data": {
            "application/vnd.google.colaboratory.intrinsic+json": {
              "type": "string"
            },
            "text/plain": [
              "'/content/Development_Dataset_15/training/masks/Bipbip_mais_im_08511.png'"
            ]
          },
          "metadata": {
            "tags": []
          },
          "execution_count": 24
        },
        {
          "output_type": "execute_result",
          "data": {
            "application/vnd.google.colaboratory.intrinsic+json": {
              "type": "string"
            },
            "text/plain": [
              "'/content/Development_Dataset_15/training/images/Bipbip_mais_im_02461.jpg'"
            ]
          },
          "metadata": {
            "tags": []
          },
          "execution_count": 24
        },
        {
          "output_type": "execute_result",
          "data": {
            "application/vnd.google.colaboratory.intrinsic+json": {
              "type": "string"
            },
            "text/plain": [
              "'/content/Development_Dataset_15/training/masks/Bipbip_mais_im_02461.png'"
            ]
          },
          "metadata": {
            "tags": []
          },
          "execution_count": 24
        },
        {
          "output_type": "execute_result",
          "data": {
            "application/vnd.google.colaboratory.intrinsic+json": {
              "type": "string"
            },
            "text/plain": [
              "'/content/Development_Dataset_15/training/images/Bipbip_mais_im_06141.jpg'"
            ]
          },
          "metadata": {
            "tags": []
          },
          "execution_count": 24
        },
        {
          "output_type": "execute_result",
          "data": {
            "application/vnd.google.colaboratory.intrinsic+json": {
              "type": "string"
            },
            "text/plain": [
              "'/content/Development_Dataset_15/training/masks/Bipbip_mais_im_06141.png'"
            ]
          },
          "metadata": {
            "tags": []
          },
          "execution_count": 24
        },
        {
          "output_type": "execute_result",
          "data": {
            "application/vnd.google.colaboratory.intrinsic+json": {
              "type": "string"
            },
            "text/plain": [
              "'/content/Development_Dataset_15/training/images/Bipbip_mais_im_10231.jpg'"
            ]
          },
          "metadata": {
            "tags": []
          },
          "execution_count": 24
        },
        {
          "output_type": "execute_result",
          "data": {
            "application/vnd.google.colaboratory.intrinsic+json": {
              "type": "string"
            },
            "text/plain": [
              "'/content/Development_Dataset_15/training/masks/Bipbip_mais_im_10231.png'"
            ]
          },
          "metadata": {
            "tags": []
          },
          "execution_count": 24
        },
        {
          "output_type": "execute_result",
          "data": {
            "application/vnd.google.colaboratory.intrinsic+json": {
              "type": "string"
            },
            "text/plain": [
              "'/content/Development_Dataset_15/training/images/Bipbip_mais_im_10161.jpg'"
            ]
          },
          "metadata": {
            "tags": []
          },
          "execution_count": 24
        },
        {
          "output_type": "execute_result",
          "data": {
            "application/vnd.google.colaboratory.intrinsic+json": {
              "type": "string"
            },
            "text/plain": [
              "'/content/Development_Dataset_15/training/masks/Bipbip_mais_im_10161.png'"
            ]
          },
          "metadata": {
            "tags": []
          },
          "execution_count": 24
        },
        {
          "output_type": "execute_result",
          "data": {
            "application/vnd.google.colaboratory.intrinsic+json": {
              "type": "string"
            },
            "text/plain": [
              "'/content/Development_Dataset_15/training/images/Bipbip_mais_im_01461.jpg'"
            ]
          },
          "metadata": {
            "tags": []
          },
          "execution_count": 24
        },
        {
          "output_type": "execute_result",
          "data": {
            "application/vnd.google.colaboratory.intrinsic+json": {
              "type": "string"
            },
            "text/plain": [
              "'/content/Development_Dataset_15/training/masks/Bipbip_mais_im_01461.png'"
            ]
          },
          "metadata": {
            "tags": []
          },
          "execution_count": 24
        },
        {
          "output_type": "execute_result",
          "data": {
            "application/vnd.google.colaboratory.intrinsic+json": {
              "type": "string"
            },
            "text/plain": [
              "'/content/Development_Dataset_15/training/images/Bipbip_mais_im_10691.jpg'"
            ]
          },
          "metadata": {
            "tags": []
          },
          "execution_count": 24
        },
        {
          "output_type": "execute_result",
          "data": {
            "application/vnd.google.colaboratory.intrinsic+json": {
              "type": "string"
            },
            "text/plain": [
              "'/content/Development_Dataset_15/training/masks/Bipbip_mais_im_10691.png'"
            ]
          },
          "metadata": {
            "tags": []
          },
          "execution_count": 24
        },
        {
          "output_type": "execute_result",
          "data": {
            "application/vnd.google.colaboratory.intrinsic+json": {
              "type": "string"
            },
            "text/plain": [
              "'/content/Development_Dataset_15/training/images/Bipbip_mais_im_01751.jpg'"
            ]
          },
          "metadata": {
            "tags": []
          },
          "execution_count": 24
        },
        {
          "output_type": "execute_result",
          "data": {
            "application/vnd.google.colaboratory.intrinsic+json": {
              "type": "string"
            },
            "text/plain": [
              "'/content/Development_Dataset_15/training/masks/Bipbip_mais_im_01751.png'"
            ]
          },
          "metadata": {
            "tags": []
          },
          "execution_count": 24
        },
        {
          "output_type": "execute_result",
          "data": {
            "application/vnd.google.colaboratory.intrinsic+json": {
              "type": "string"
            },
            "text/plain": [
              "'/content/Development_Dataset_15/training/images/Bipbip_mais_im_03391.jpg'"
            ]
          },
          "metadata": {
            "tags": []
          },
          "execution_count": 24
        },
        {
          "output_type": "execute_result",
          "data": {
            "application/vnd.google.colaboratory.intrinsic+json": {
              "type": "string"
            },
            "text/plain": [
              "'/content/Development_Dataset_15/training/masks/Bipbip_mais_im_03391.png'"
            ]
          },
          "metadata": {
            "tags": []
          },
          "execution_count": 24
        },
        {
          "output_type": "execute_result",
          "data": {
            "application/vnd.google.colaboratory.intrinsic+json": {
              "type": "string"
            },
            "text/plain": [
              "'/content/Development_Dataset_15/training/images/Bipbip_mais_im_01561.jpg'"
            ]
          },
          "metadata": {
            "tags": []
          },
          "execution_count": 24
        },
        {
          "output_type": "execute_result",
          "data": {
            "application/vnd.google.colaboratory.intrinsic+json": {
              "type": "string"
            },
            "text/plain": [
              "'/content/Development_Dataset_15/training/masks/Bipbip_mais_im_01561.png'"
            ]
          },
          "metadata": {
            "tags": []
          },
          "execution_count": 24
        },
        {
          "output_type": "execute_result",
          "data": {
            "application/vnd.google.colaboratory.intrinsic+json": {
              "type": "string"
            },
            "text/plain": [
              "'/content/Development_Dataset_15/training/images/Bipbip_mais_im_04621.jpg'"
            ]
          },
          "metadata": {
            "tags": []
          },
          "execution_count": 24
        },
        {
          "output_type": "execute_result",
          "data": {
            "application/vnd.google.colaboratory.intrinsic+json": {
              "type": "string"
            },
            "text/plain": [
              "'/content/Development_Dataset_15/training/masks/Bipbip_mais_im_04621.png'"
            ]
          },
          "metadata": {
            "tags": []
          },
          "execution_count": 24
        },
        {
          "output_type": "execute_result",
          "data": {
            "application/vnd.google.colaboratory.intrinsic+json": {
              "type": "string"
            },
            "text/plain": [
              "'/content/Development_Dataset_15/training/images/Bipbip_mais_im_02371.jpg'"
            ]
          },
          "metadata": {
            "tags": []
          },
          "execution_count": 24
        },
        {
          "output_type": "execute_result",
          "data": {
            "application/vnd.google.colaboratory.intrinsic+json": {
              "type": "string"
            },
            "text/plain": [
              "'/content/Development_Dataset_15/training/masks/Bipbip_mais_im_02371.png'"
            ]
          },
          "metadata": {
            "tags": []
          },
          "execution_count": 24
        },
        {
          "output_type": "execute_result",
          "data": {
            "application/vnd.google.colaboratory.intrinsic+json": {
              "type": "string"
            },
            "text/plain": [
              "'/content/Development_Dataset_15/training/images/Bipbip_mais_im_07041.jpg'"
            ]
          },
          "metadata": {
            "tags": []
          },
          "execution_count": 24
        },
        {
          "output_type": "execute_result",
          "data": {
            "application/vnd.google.colaboratory.intrinsic+json": {
              "type": "string"
            },
            "text/plain": [
              "'/content/Development_Dataset_15/training/masks/Bipbip_mais_im_07041.png'"
            ]
          },
          "metadata": {
            "tags": []
          },
          "execution_count": 24
        },
        {
          "output_type": "execute_result",
          "data": {
            "application/vnd.google.colaboratory.intrinsic+json": {
              "type": "string"
            },
            "text/plain": [
              "'/content/Development_Dataset_15/training/images/Bipbip_mais_im_02891.jpg'"
            ]
          },
          "metadata": {
            "tags": []
          },
          "execution_count": 24
        },
        {
          "output_type": "execute_result",
          "data": {
            "application/vnd.google.colaboratory.intrinsic+json": {
              "type": "string"
            },
            "text/plain": [
              "'/content/Development_Dataset_15/training/masks/Bipbip_mais_im_02891.png'"
            ]
          },
          "metadata": {
            "tags": []
          },
          "execution_count": 24
        },
        {
          "output_type": "execute_result",
          "data": {
            "application/vnd.google.colaboratory.intrinsic+json": {
              "type": "string"
            },
            "text/plain": [
              "'/content/Development_Dataset_15/training/images/Bipbip_mais_im_02731.jpg'"
            ]
          },
          "metadata": {
            "tags": []
          },
          "execution_count": 24
        },
        {
          "output_type": "execute_result",
          "data": {
            "application/vnd.google.colaboratory.intrinsic+json": {
              "type": "string"
            },
            "text/plain": [
              "'/content/Development_Dataset_15/training/masks/Bipbip_mais_im_02731.png'"
            ]
          },
          "metadata": {
            "tags": []
          },
          "execution_count": 24
        },
        {
          "output_type": "execute_result",
          "data": {
            "application/vnd.google.colaboratory.intrinsic+json": {
              "type": "string"
            },
            "text/plain": [
              "'/content/Development_Dataset_15/training/images/Bipbip_mais_im_06961.jpg'"
            ]
          },
          "metadata": {
            "tags": []
          },
          "execution_count": 24
        },
        {
          "output_type": "execute_result",
          "data": {
            "application/vnd.google.colaboratory.intrinsic+json": {
              "type": "string"
            },
            "text/plain": [
              "'/content/Development_Dataset_15/training/masks/Bipbip_mais_im_06961.png'"
            ]
          },
          "metadata": {
            "tags": []
          },
          "execution_count": 24
        },
        {
          "output_type": "execute_result",
          "data": {
            "application/vnd.google.colaboratory.intrinsic+json": {
              "type": "string"
            },
            "text/plain": [
              "'/content/Development_Dataset_15/training/images/Bipbip_mais_im_01601.jpg'"
            ]
          },
          "metadata": {
            "tags": []
          },
          "execution_count": 24
        },
        {
          "output_type": "execute_result",
          "data": {
            "application/vnd.google.colaboratory.intrinsic+json": {
              "type": "string"
            },
            "text/plain": [
              "'/content/Development_Dataset_15/training/masks/Bipbip_mais_im_01601.png'"
            ]
          },
          "metadata": {
            "tags": []
          },
          "execution_count": 24
        },
        {
          "output_type": "execute_result",
          "data": {
            "application/vnd.google.colaboratory.intrinsic+json": {
              "type": "string"
            },
            "text/plain": [
              "'/content/Development_Dataset_15/training/images/Bipbip_mais_im_07181.jpg'"
            ]
          },
          "metadata": {
            "tags": []
          },
          "execution_count": 24
        },
        {
          "output_type": "execute_result",
          "data": {
            "application/vnd.google.colaboratory.intrinsic+json": {
              "type": "string"
            },
            "text/plain": [
              "'/content/Development_Dataset_15/training/masks/Bipbip_mais_im_07181.png'"
            ]
          },
          "metadata": {
            "tags": []
          },
          "execution_count": 24
        },
        {
          "output_type": "execute_result",
          "data": {
            "application/vnd.google.colaboratory.intrinsic+json": {
              "type": "string"
            },
            "text/plain": [
              "'/content/Development_Dataset_15/training/images/Bipbip_mais_im_07831.jpg'"
            ]
          },
          "metadata": {
            "tags": []
          },
          "execution_count": 24
        },
        {
          "output_type": "execute_result",
          "data": {
            "application/vnd.google.colaboratory.intrinsic+json": {
              "type": "string"
            },
            "text/plain": [
              "'/content/Development_Dataset_15/training/masks/Bipbip_mais_im_07831.png'"
            ]
          },
          "metadata": {
            "tags": []
          },
          "execution_count": 24
        },
        {
          "output_type": "execute_result",
          "data": {
            "application/vnd.google.colaboratory.intrinsic+json": {
              "type": "string"
            },
            "text/plain": [
              "'/content/Development_Dataset_15/training/images/Bipbip_mais_im_10851.jpg'"
            ]
          },
          "metadata": {
            "tags": []
          },
          "execution_count": 24
        },
        {
          "output_type": "execute_result",
          "data": {
            "application/vnd.google.colaboratory.intrinsic+json": {
              "type": "string"
            },
            "text/plain": [
              "'/content/Development_Dataset_15/training/masks/Bipbip_mais_im_10851.png'"
            ]
          },
          "metadata": {
            "tags": []
          },
          "execution_count": 24
        },
        {
          "output_type": "execute_result",
          "data": {
            "application/vnd.google.colaboratory.intrinsic+json": {
              "type": "string"
            },
            "text/plain": [
              "'/content/Development_Dataset_15/training/images/Bipbip_mais_im_03691.jpg'"
            ]
          },
          "metadata": {
            "tags": []
          },
          "execution_count": 24
        },
        {
          "output_type": "execute_result",
          "data": {
            "application/vnd.google.colaboratory.intrinsic+json": {
              "type": "string"
            },
            "text/plain": [
              "'/content/Development_Dataset_15/training/masks/Bipbip_mais_im_03691.png'"
            ]
          },
          "metadata": {
            "tags": []
          },
          "execution_count": 24
        },
        {
          "output_type": "execute_result",
          "data": {
            "application/vnd.google.colaboratory.intrinsic+json": {
              "type": "string"
            },
            "text/plain": [
              "'/content/Development_Dataset_15/training/images/Bipbip_mais_im_05031.jpg'"
            ]
          },
          "metadata": {
            "tags": []
          },
          "execution_count": 24
        },
        {
          "output_type": "execute_result",
          "data": {
            "application/vnd.google.colaboratory.intrinsic+json": {
              "type": "string"
            },
            "text/plain": [
              "'/content/Development_Dataset_15/training/masks/Bipbip_mais_im_05031.png'"
            ]
          },
          "metadata": {
            "tags": []
          },
          "execution_count": 24
        },
        {
          "output_type": "execute_result",
          "data": {
            "application/vnd.google.colaboratory.intrinsic+json": {
              "type": "string"
            },
            "text/plain": [
              "'/content/Development_Dataset_15/training/images/Bipbip_mais_im_04781.jpg'"
            ]
          },
          "metadata": {
            "tags": []
          },
          "execution_count": 24
        },
        {
          "output_type": "execute_result",
          "data": {
            "application/vnd.google.colaboratory.intrinsic+json": {
              "type": "string"
            },
            "text/plain": [
              "'/content/Development_Dataset_15/training/masks/Bipbip_mais_im_04781.png'"
            ]
          },
          "metadata": {
            "tags": []
          },
          "execution_count": 24
        },
        {
          "output_type": "execute_result",
          "data": {
            "application/vnd.google.colaboratory.intrinsic+json": {
              "type": "string"
            },
            "text/plain": [
              "'/content/Development_Dataset_15/training/images/Bipbip_mais_im_03181.jpg'"
            ]
          },
          "metadata": {
            "tags": []
          },
          "execution_count": 24
        },
        {
          "output_type": "execute_result",
          "data": {
            "application/vnd.google.colaboratory.intrinsic+json": {
              "type": "string"
            },
            "text/plain": [
              "'/content/Development_Dataset_15/training/masks/Bipbip_mais_im_03181.png'"
            ]
          },
          "metadata": {
            "tags": []
          },
          "execution_count": 24
        },
        {
          "output_type": "execute_result",
          "data": {
            "application/vnd.google.colaboratory.intrinsic+json": {
              "type": "string"
            },
            "text/plain": [
              "'/content/Development_Dataset_15/training/images/Bipbip_mais_im_10301.jpg'"
            ]
          },
          "metadata": {
            "tags": []
          },
          "execution_count": 24
        },
        {
          "output_type": "execute_result",
          "data": {
            "application/vnd.google.colaboratory.intrinsic+json": {
              "type": "string"
            },
            "text/plain": [
              "'/content/Development_Dataset_15/training/masks/Bipbip_mais_im_10301.png'"
            ]
          },
          "metadata": {
            "tags": []
          },
          "execution_count": 24
        },
        {
          "output_type": "execute_result",
          "data": {
            "application/vnd.google.colaboratory.intrinsic+json": {
              "type": "string"
            },
            "text/plain": [
              "'/content/Development_Dataset_15/training/images/Bipbip_mais_im_02411.jpg'"
            ]
          },
          "metadata": {
            "tags": []
          },
          "execution_count": 24
        },
        {
          "output_type": "execute_result",
          "data": {
            "application/vnd.google.colaboratory.intrinsic+json": {
              "type": "string"
            },
            "text/plain": [
              "'/content/Development_Dataset_15/training/masks/Bipbip_mais_im_02411.png'"
            ]
          },
          "metadata": {
            "tags": []
          },
          "execution_count": 24
        },
        {
          "output_type": "execute_result",
          "data": {
            "application/vnd.google.colaboratory.intrinsic+json": {
              "type": "string"
            },
            "text/plain": [
              "'/content/Development_Dataset_15/training/images/Bipbip_mais_im_08441.jpg'"
            ]
          },
          "metadata": {
            "tags": []
          },
          "execution_count": 24
        },
        {
          "output_type": "execute_result",
          "data": {
            "application/vnd.google.colaboratory.intrinsic+json": {
              "type": "string"
            },
            "text/plain": [
              "'/content/Development_Dataset_15/training/masks/Bipbip_mais_im_08441.png'"
            ]
          },
          "metadata": {
            "tags": []
          },
          "execution_count": 24
        },
        {
          "output_type": "execute_result",
          "data": {
            "application/vnd.google.colaboratory.intrinsic+json": {
              "type": "string"
            },
            "text/plain": [
              "'/content/Development_Dataset_15/training/images/Bipbip_mais_im_01391.jpg'"
            ]
          },
          "metadata": {
            "tags": []
          },
          "execution_count": 24
        },
        {
          "output_type": "execute_result",
          "data": {
            "application/vnd.google.colaboratory.intrinsic+json": {
              "type": "string"
            },
            "text/plain": [
              "'/content/Development_Dataset_15/training/masks/Bipbip_mais_im_01391.png'"
            ]
          },
          "metadata": {
            "tags": []
          },
          "execution_count": 24
        },
        {
          "output_type": "execute_result",
          "data": {
            "application/vnd.google.colaboratory.intrinsic+json": {
              "type": "string"
            },
            "text/plain": [
              "'/content/Development_Dataset_15/training/images/Bipbip_mais_im_07271.jpg'"
            ]
          },
          "metadata": {
            "tags": []
          },
          "execution_count": 24
        },
        {
          "output_type": "execute_result",
          "data": {
            "application/vnd.google.colaboratory.intrinsic+json": {
              "type": "string"
            },
            "text/plain": [
              "'/content/Development_Dataset_15/training/masks/Bipbip_mais_im_07271.png'"
            ]
          },
          "metadata": {
            "tags": []
          },
          "execution_count": 24
        },
        {
          "output_type": "execute_result",
          "data": {
            "application/vnd.google.colaboratory.intrinsic+json": {
              "type": "string"
            },
            "text/plain": [
              "'/content/Development_Dataset_15/training/images/Bipbip_mais_im_10081.jpg'"
            ]
          },
          "metadata": {
            "tags": []
          },
          "execution_count": 24
        },
        {
          "output_type": "execute_result",
          "data": {
            "application/vnd.google.colaboratory.intrinsic+json": {
              "type": "string"
            },
            "text/plain": [
              "'/content/Development_Dataset_15/training/masks/Bipbip_mais_im_10081.png'"
            ]
          },
          "metadata": {
            "tags": []
          },
          "execution_count": 24
        },
        {
          "output_type": "execute_result",
          "data": {
            "application/vnd.google.colaboratory.intrinsic+json": {
              "type": "string"
            },
            "text/plain": [
              "'/content/Development_Dataset_15/training/images/Bipbip_mais_im_02281.jpg'"
            ]
          },
          "metadata": {
            "tags": []
          },
          "execution_count": 24
        },
        {
          "output_type": "execute_result",
          "data": {
            "application/vnd.google.colaboratory.intrinsic+json": {
              "type": "string"
            },
            "text/plain": [
              "'/content/Development_Dataset_15/training/masks/Bipbip_mais_im_02281.png'"
            ]
          },
          "metadata": {
            "tags": []
          },
          "execution_count": 24
        },
        {
          "output_type": "execute_result",
          "data": {
            "application/vnd.google.colaboratory.intrinsic+json": {
              "type": "string"
            },
            "text/plain": [
              "'/content/Development_Dataset_15/training/images/Bipbip_mais_im_03121.jpg'"
            ]
          },
          "metadata": {
            "tags": []
          },
          "execution_count": 24
        },
        {
          "output_type": "execute_result",
          "data": {
            "application/vnd.google.colaboratory.intrinsic+json": {
              "type": "string"
            },
            "text/plain": [
              "'/content/Development_Dataset_15/training/masks/Bipbip_mais_im_03121.png'"
            ]
          },
          "metadata": {
            "tags": []
          },
          "execution_count": 24
        },
        {
          "output_type": "execute_result",
          "data": {
            "application/vnd.google.colaboratory.intrinsic+json": {
              "type": "string"
            },
            "text/plain": [
              "'/content/Development_Dataset_15/training/images/Bipbip_mais_im_09501.jpg'"
            ]
          },
          "metadata": {
            "tags": []
          },
          "execution_count": 24
        },
        {
          "output_type": "execute_result",
          "data": {
            "application/vnd.google.colaboratory.intrinsic+json": {
              "type": "string"
            },
            "text/plain": [
              "'/content/Development_Dataset_15/training/masks/Bipbip_mais_im_09501.png'"
            ]
          },
          "metadata": {
            "tags": []
          },
          "execution_count": 24
        },
        {
          "output_type": "execute_result",
          "data": {
            "application/vnd.google.colaboratory.intrinsic+json": {
              "type": "string"
            },
            "text/plain": [
              "'/content/Development_Dataset_15/training/images/Bipbip_mais_im_08661.jpg'"
            ]
          },
          "metadata": {
            "tags": []
          },
          "execution_count": 24
        },
        {
          "output_type": "execute_result",
          "data": {
            "application/vnd.google.colaboratory.intrinsic+json": {
              "type": "string"
            },
            "text/plain": [
              "'/content/Development_Dataset_15/training/masks/Bipbip_mais_im_08661.png'"
            ]
          },
          "metadata": {
            "tags": []
          },
          "execution_count": 24
        },
        {
          "output_type": "execute_result",
          "data": {
            "application/vnd.google.colaboratory.intrinsic+json": {
              "type": "string"
            },
            "text/plain": [
              "'/content/Development_Dataset_15/training/images/Bipbip_mais_im_01871.jpg'"
            ]
          },
          "metadata": {
            "tags": []
          },
          "execution_count": 24
        },
        {
          "output_type": "execute_result",
          "data": {
            "application/vnd.google.colaboratory.intrinsic+json": {
              "type": "string"
            },
            "text/plain": [
              "'/content/Development_Dataset_15/training/masks/Bipbip_mais_im_01871.png'"
            ]
          },
          "metadata": {
            "tags": []
          },
          "execution_count": 24
        },
        {
          "output_type": "execute_result",
          "data": {
            "application/vnd.google.colaboratory.intrinsic+json": {
              "type": "string"
            },
            "text/plain": [
              "'/content/Development_Dataset_15/training/images/Bipbip_mais_im_02691.jpg'"
            ]
          },
          "metadata": {
            "tags": []
          },
          "execution_count": 24
        },
        {
          "output_type": "execute_result",
          "data": {
            "application/vnd.google.colaboratory.intrinsic+json": {
              "type": "string"
            },
            "text/plain": [
              "'/content/Development_Dataset_15/training/masks/Bipbip_mais_im_02691.png'"
            ]
          },
          "metadata": {
            "tags": []
          },
          "execution_count": 24
        },
        {
          "output_type": "execute_result",
          "data": {
            "application/vnd.google.colaboratory.intrinsic+json": {
              "type": "string"
            },
            "text/plain": [
              "'/content/Development_Dataset_15/training/images/Bipbip_mais_im_07531.jpg'"
            ]
          },
          "metadata": {
            "tags": []
          },
          "execution_count": 24
        },
        {
          "output_type": "execute_result",
          "data": {
            "application/vnd.google.colaboratory.intrinsic+json": {
              "type": "string"
            },
            "text/plain": [
              "'/content/Development_Dataset_15/training/masks/Bipbip_mais_im_07531.png'"
            ]
          },
          "metadata": {
            "tags": []
          },
          "execution_count": 24
        },
        {
          "output_type": "execute_result",
          "data": {
            "application/vnd.google.colaboratory.intrinsic+json": {
              "type": "string"
            },
            "text/plain": [
              "'/content/Development_Dataset_15/training/images/Bipbip_mais_im_05451.jpg'"
            ]
          },
          "metadata": {
            "tags": []
          },
          "execution_count": 24
        },
        {
          "output_type": "execute_result",
          "data": {
            "application/vnd.google.colaboratory.intrinsic+json": {
              "type": "string"
            },
            "text/plain": [
              "'/content/Development_Dataset_15/training/masks/Bipbip_mais_im_05451.png'"
            ]
          },
          "metadata": {
            "tags": []
          },
          "execution_count": 24
        },
        {
          "output_type": "execute_result",
          "data": {
            "application/vnd.google.colaboratory.intrinsic+json": {
              "type": "string"
            },
            "text/plain": [
              "'/content/Development_Dataset_15/training/images/Bipbip_mais_im_08061.jpg'"
            ]
          },
          "metadata": {
            "tags": []
          },
          "execution_count": 24
        },
        {
          "output_type": "execute_result",
          "data": {
            "application/vnd.google.colaboratory.intrinsic+json": {
              "type": "string"
            },
            "text/plain": [
              "'/content/Development_Dataset_15/training/masks/Bipbip_mais_im_08061.png'"
            ]
          },
          "metadata": {
            "tags": []
          },
          "execution_count": 24
        },
        {
          "output_type": "execute_result",
          "data": {
            "application/vnd.google.colaboratory.intrinsic+json": {
              "type": "string"
            },
            "text/plain": [
              "'/content/Development_Dataset_15/training/images/Bipbip_mais_im_06071.jpg'"
            ]
          },
          "metadata": {
            "tags": []
          },
          "execution_count": 24
        },
        {
          "output_type": "execute_result",
          "data": {
            "application/vnd.google.colaboratory.intrinsic+json": {
              "type": "string"
            },
            "text/plain": [
              "'/content/Development_Dataset_15/training/masks/Bipbip_mais_im_06071.png'"
            ]
          },
          "metadata": {
            "tags": []
          },
          "execution_count": 24
        },
        {
          "output_type": "execute_result",
          "data": {
            "application/vnd.google.colaboratory.intrinsic+json": {
              "type": "string"
            },
            "text/plain": [
              "'/content/Development_Dataset_15/training/images/Bipbip_mais_im_03511.jpg'"
            ]
          },
          "metadata": {
            "tags": []
          },
          "execution_count": 24
        },
        {
          "output_type": "execute_result",
          "data": {
            "application/vnd.google.colaboratory.intrinsic+json": {
              "type": "string"
            },
            "text/plain": [
              "'/content/Development_Dataset_15/training/masks/Bipbip_mais_im_03511.png'"
            ]
          },
          "metadata": {
            "tags": []
          },
          "execution_count": 24
        },
        {
          "output_type": "execute_result",
          "data": {
            "application/vnd.google.colaboratory.intrinsic+json": {
              "type": "string"
            },
            "text/plain": [
              "'/content/Development_Dataset_15/training/images/Bipbip_mais_im_04501.jpg'"
            ]
          },
          "metadata": {
            "tags": []
          },
          "execution_count": 24
        },
        {
          "output_type": "execute_result",
          "data": {
            "application/vnd.google.colaboratory.intrinsic+json": {
              "type": "string"
            },
            "text/plain": [
              "'/content/Development_Dataset_15/training/masks/Bipbip_mais_im_04501.png'"
            ]
          },
          "metadata": {
            "tags": []
          },
          "execution_count": 24
        },
        {
          "output_type": "execute_result",
          "data": {
            "application/vnd.google.colaboratory.intrinsic+json": {
              "type": "string"
            },
            "text/plain": [
              "'/content/Development_Dataset_15/training/images/Bipbip_mais_im_07991.jpg'"
            ]
          },
          "metadata": {
            "tags": []
          },
          "execution_count": 24
        },
        {
          "output_type": "execute_result",
          "data": {
            "application/vnd.google.colaboratory.intrinsic+json": {
              "type": "string"
            },
            "text/plain": [
              "'/content/Development_Dataset_15/training/masks/Bipbip_mais_im_07991.png'"
            ]
          },
          "metadata": {
            "tags": []
          },
          "execution_count": 24
        },
        {
          "output_type": "execute_result",
          "data": {
            "application/vnd.google.colaboratory.intrinsic+json": {
              "type": "string"
            },
            "text/plain": [
              "'/content/Development_Dataset_15/training/images/Bipbip_mais_im_04671.jpg'"
            ]
          },
          "metadata": {
            "tags": []
          },
          "execution_count": 24
        },
        {
          "output_type": "execute_result",
          "data": {
            "application/vnd.google.colaboratory.intrinsic+json": {
              "type": "string"
            },
            "text/plain": [
              "'/content/Development_Dataset_15/training/masks/Bipbip_mais_im_04671.png'"
            ]
          },
          "metadata": {
            "tags": []
          },
          "execution_count": 24
        },
        {
          "output_type": "execute_result",
          "data": {
            "application/vnd.google.colaboratory.intrinsic+json": {
              "type": "string"
            },
            "text/plain": [
              "'/content/Development_Dataset_15/training/images/Bipbip_mais_im_08811.jpg'"
            ]
          },
          "metadata": {
            "tags": []
          },
          "execution_count": 24
        },
        {
          "output_type": "execute_result",
          "data": {
            "application/vnd.google.colaboratory.intrinsic+json": {
              "type": "string"
            },
            "text/plain": [
              "'/content/Development_Dataset_15/training/masks/Bipbip_mais_im_08811.png'"
            ]
          },
          "metadata": {
            "tags": []
          },
          "execution_count": 24
        },
        {
          "output_type": "execute_result",
          "data": {
            "application/vnd.google.colaboratory.intrinsic+json": {
              "type": "string"
            },
            "text/plain": [
              "'/content/Development_Dataset_15/training/images/Bipbip_mais_im_06541.jpg'"
            ]
          },
          "metadata": {
            "tags": []
          },
          "execution_count": 24
        },
        {
          "output_type": "execute_result",
          "data": {
            "application/vnd.google.colaboratory.intrinsic+json": {
              "type": "string"
            },
            "text/plain": [
              "'/content/Development_Dataset_15/training/masks/Bipbip_mais_im_06541.png'"
            ]
          },
          "metadata": {
            "tags": []
          },
          "execution_count": 24
        },
        {
          "output_type": "execute_result",
          "data": {
            "application/vnd.google.colaboratory.intrinsic+json": {
              "type": "string"
            },
            "text/plain": [
              "'/content/Development_Dataset_15/training/images/Bipbip_mais_im_01681.jpg'"
            ]
          },
          "metadata": {
            "tags": []
          },
          "execution_count": 24
        },
        {
          "output_type": "execute_result",
          "data": {
            "application/vnd.google.colaboratory.intrinsic+json": {
              "type": "string"
            },
            "text/plain": [
              "'/content/Development_Dataset_15/training/masks/Bipbip_mais_im_01681.png'"
            ]
          },
          "metadata": {
            "tags": []
          },
          "execution_count": 24
        },
        {
          "output_type": "execute_result",
          "data": {
            "application/vnd.google.colaboratory.intrinsic+json": {
              "type": "string"
            },
            "text/plain": [
              "'/content/Development_Dataset_15/training/images/Bipbip_mais_im_03231.jpg'"
            ]
          },
          "metadata": {
            "tags": []
          },
          "execution_count": 24
        },
        {
          "output_type": "execute_result",
          "data": {
            "application/vnd.google.colaboratory.intrinsic+json": {
              "type": "string"
            },
            "text/plain": [
              "'/content/Development_Dataset_15/training/masks/Bipbip_mais_im_03231.png'"
            ]
          },
          "metadata": {
            "tags": []
          },
          "execution_count": 24
        },
        {
          "output_type": "execute_result",
          "data": {
            "application/vnd.google.colaboratory.intrinsic+json": {
              "type": "string"
            },
            "text/plain": [
              "'/content/Development_Dataset_15/training/images/Bipbip_mais_im_10771.jpg'"
            ]
          },
          "metadata": {
            "tags": []
          },
          "execution_count": 24
        },
        {
          "output_type": "execute_result",
          "data": {
            "application/vnd.google.colaboratory.intrinsic+json": {
              "type": "string"
            },
            "text/plain": [
              "'/content/Development_Dataset_15/training/masks/Bipbip_mais_im_10771.png'"
            ]
          },
          "metadata": {
            "tags": []
          },
          "execution_count": 24
        },
        {
          "output_type": "execute_result",
          "data": {
            "application/vnd.google.colaboratory.intrinsic+json": {
              "type": "string"
            },
            "text/plain": [
              "'/content/Development_Dataset_15/training/images/Bipbip_mais_im_08731.jpg'"
            ]
          },
          "metadata": {
            "tags": []
          },
          "execution_count": 24
        },
        {
          "output_type": "execute_result",
          "data": {
            "application/vnd.google.colaboratory.intrinsic+json": {
              "type": "string"
            },
            "text/plain": [
              "'/content/Development_Dataset_15/training/masks/Bipbip_mais_im_08731.png'"
            ]
          },
          "metadata": {
            "tags": []
          },
          "execution_count": 24
        },
        {
          "output_type": "execute_result",
          "data": {
            "application/vnd.google.colaboratory.intrinsic+json": {
              "type": "string"
            },
            "text/plain": [
              "'/content/Development_Dataset_15/training/images/Bipbip_mais_im_05871.jpg'"
            ]
          },
          "metadata": {
            "tags": []
          },
          "execution_count": 24
        },
        {
          "output_type": "execute_result",
          "data": {
            "application/vnd.google.colaboratory.intrinsic+json": {
              "type": "string"
            },
            "text/plain": [
              "'/content/Development_Dataset_15/training/masks/Bipbip_mais_im_05871.png'"
            ]
          },
          "metadata": {
            "tags": []
          },
          "execution_count": 24
        },
        {
          "output_type": "execute_result",
          "data": {
            "application/vnd.google.colaboratory.intrinsic+json": {
              "type": "string"
            },
            "text/plain": [
              "'/content/Development_Dataset_15/training/images/Bipbip_mais_im_08321.jpg'"
            ]
          },
          "metadata": {
            "tags": []
          },
          "execution_count": 24
        },
        {
          "output_type": "execute_result",
          "data": {
            "application/vnd.google.colaboratory.intrinsic+json": {
              "type": "string"
            },
            "text/plain": [
              "'/content/Development_Dataset_15/training/masks/Bipbip_mais_im_08321.png'"
            ]
          },
          "metadata": {
            "tags": []
          },
          "execution_count": 24
        },
        {
          "output_type": "execute_result",
          "data": {
            "application/vnd.google.colaboratory.intrinsic+json": {
              "type": "string"
            },
            "text/plain": [
              "'/content/Development_Dataset_15/training/images/Bipbip_mais_im_03581.jpg'"
            ]
          },
          "metadata": {
            "tags": []
          },
          "execution_count": 24
        },
        {
          "output_type": "execute_result",
          "data": {
            "application/vnd.google.colaboratory.intrinsic+json": {
              "type": "string"
            },
            "text/plain": [
              "'/content/Development_Dataset_15/training/masks/Bipbip_mais_im_03581.png'"
            ]
          },
          "metadata": {
            "tags": []
          },
          "execution_count": 24
        },
        {
          "output_type": "execute_result",
          "data": {
            "application/vnd.google.colaboratory.intrinsic+json": {
              "type": "string"
            },
            "text/plain": [
              "'/content/Development_Dataset_15/training/images/Bipbip_mais_im_02511.jpg'"
            ]
          },
          "metadata": {
            "tags": []
          },
          "execution_count": 24
        },
        {
          "output_type": "execute_result",
          "data": {
            "application/vnd.google.colaboratory.intrinsic+json": {
              "type": "string"
            },
            "text/plain": [
              "'/content/Development_Dataset_15/training/masks/Bipbip_mais_im_02511.png'"
            ]
          },
          "metadata": {
            "tags": []
          },
          "execution_count": 24
        },
        {
          "output_type": "execute_result",
          "data": {
            "application/vnd.google.colaboratory.intrinsic+json": {
              "type": "string"
            },
            "text/plain": [
              "'/content/Development_Dataset_15/training/images/Bipbip_mais_im_07351.jpg'"
            ]
          },
          "metadata": {
            "tags": []
          },
          "execution_count": 24
        },
        {
          "output_type": "execute_result",
          "data": {
            "application/vnd.google.colaboratory.intrinsic+json": {
              "type": "string"
            },
            "text/plain": [
              "'/content/Development_Dataset_15/training/masks/Bipbip_mais_im_07351.png'"
            ]
          },
          "metadata": {
            "tags": []
          },
          "execution_count": 24
        },
        {
          "output_type": "execute_result",
          "data": {
            "application/vnd.google.colaboratory.intrinsic+json": {
              "type": "string"
            },
            "text/plain": [
              "'/content/Development_Dataset_15/training/images/Bipbip_mais_im_02941.jpg'"
            ]
          },
          "metadata": {
            "tags": []
          },
          "execution_count": 24
        },
        {
          "output_type": "execute_result",
          "data": {
            "application/vnd.google.colaboratory.intrinsic+json": {
              "type": "string"
            },
            "text/plain": [
              "'/content/Development_Dataset_15/training/masks/Bipbip_mais_im_02941.png'"
            ]
          },
          "metadata": {
            "tags": []
          },
          "execution_count": 24
        },
        {
          "output_type": "execute_result",
          "data": {
            "application/vnd.google.colaboratory.intrinsic+json": {
              "type": "string"
            },
            "text/plain": [
              "'/content/Development_Dataset_15/training/images/Bipbip_mais_im_09711.jpg'"
            ]
          },
          "metadata": {
            "tags": []
          },
          "execution_count": 24
        },
        {
          "output_type": "execute_result",
          "data": {
            "application/vnd.google.colaboratory.intrinsic+json": {
              "type": "string"
            },
            "text/plain": [
              "'/content/Development_Dataset_15/training/masks/Bipbip_mais_im_09711.png'"
            ]
          },
          "metadata": {
            "tags": []
          },
          "execution_count": 24
        },
        {
          "output_type": "execute_result",
          "data": {
            "application/vnd.google.colaboratory.intrinsic+json": {
              "type": "string"
            },
            "text/plain": [
              "'/content/Development_Dataset_15/training/images/Bipbip_mais_im_04031.jpg'"
            ]
          },
          "metadata": {
            "tags": []
          },
          "execution_count": 24
        },
        {
          "output_type": "execute_result",
          "data": {
            "application/vnd.google.colaboratory.intrinsic+json": {
              "type": "string"
            },
            "text/plain": [
              "'/content/Development_Dataset_15/training/masks/Bipbip_mais_im_04031.png'"
            ]
          },
          "metadata": {
            "tags": []
          },
          "execution_count": 24
        },
        {
          "output_type": "execute_result",
          "data": {
            "application/vnd.google.colaboratory.intrinsic+json": {
              "type": "string"
            },
            "text/plain": [
              "'/content/Development_Dataset_15/training/images/Bipbip_mais_im_05221.jpg'"
            ]
          },
          "metadata": {
            "tags": []
          },
          "execution_count": 24
        },
        {
          "output_type": "execute_result",
          "data": {
            "application/vnd.google.colaboratory.intrinsic+json": {
              "type": "string"
            },
            "text/plain": [
              "'/content/Development_Dataset_15/training/masks/Bipbip_mais_im_05221.png'"
            ]
          },
          "metadata": {
            "tags": []
          },
          "execution_count": 24
        },
        {
          "output_type": "execute_result",
          "data": {
            "application/vnd.google.colaboratory.intrinsic+json": {
              "type": "string"
            },
            "text/plain": [
              "'/content/Development_Dataset_15/training/images/Bipbip_mais_im_08261.jpg'"
            ]
          },
          "metadata": {
            "tags": []
          },
          "execution_count": 24
        },
        {
          "output_type": "execute_result",
          "data": {
            "application/vnd.google.colaboratory.intrinsic+json": {
              "type": "string"
            },
            "text/plain": [
              "'/content/Development_Dataset_15/training/masks/Bipbip_mais_im_08261.png'"
            ]
          },
          "metadata": {
            "tags": []
          },
          "execution_count": 24
        },
        {
          "output_type": "execute_result",
          "data": {
            "application/vnd.google.colaboratory.intrinsic+json": {
              "type": "string"
            },
            "text/plain": [
              "'/content/Development_Dataset_15/training/images/Bipbip_mais_im_10371.jpg'"
            ]
          },
          "metadata": {
            "tags": []
          },
          "execution_count": 24
        },
        {
          "output_type": "execute_result",
          "data": {
            "application/vnd.google.colaboratory.intrinsic+json": {
              "type": "string"
            },
            "text/plain": [
              "'/content/Development_Dataset_15/training/masks/Bipbip_mais_im_10371.png'"
            ]
          },
          "metadata": {
            "tags": []
          },
          "execution_count": 24
        },
        {
          "output_type": "execute_result",
          "data": {
            "application/vnd.google.colaboratory.intrinsic+json": {
              "type": "string"
            },
            "text/plain": [
              "'/content/Development_Dataset_15/training/images/Bipbip_mais_im_03921.jpg'"
            ]
          },
          "metadata": {
            "tags": []
          },
          "execution_count": 24
        },
        {
          "output_type": "execute_result",
          "data": {
            "application/vnd.google.colaboratory.intrinsic+json": {
              "type": "string"
            },
            "text/plain": [
              "'/content/Development_Dataset_15/training/masks/Bipbip_mais_im_03921.png'"
            ]
          },
          "metadata": {
            "tags": []
          },
          "execution_count": 24
        },
        {
          "output_type": "execute_result",
          "data": {
            "application/vnd.google.colaboratory.intrinsic+json": {
              "type": "string"
            },
            "text/plain": [
              "'/content/Development_Dataset_15/training/images/Bipbip_mais_im_02151.jpg'"
            ]
          },
          "metadata": {
            "tags": []
          },
          "execution_count": 24
        },
        {
          "output_type": "execute_result",
          "data": {
            "application/vnd.google.colaboratory.intrinsic+json": {
              "type": "string"
            },
            "text/plain": [
              "'/content/Development_Dataset_15/training/masks/Bipbip_mais_im_02151.png'"
            ]
          },
          "metadata": {
            "tags": []
          },
          "execution_count": 24
        },
        {
          "output_type": "execute_result",
          "data": {
            "application/vnd.google.colaboratory.intrinsic+json": {
              "type": "string"
            },
            "text/plain": [
              "'/content/Development_Dataset_15/training/images/Bipbip_mais_im_08581.jpg'"
            ]
          },
          "metadata": {
            "tags": []
          },
          "execution_count": 24
        },
        {
          "output_type": "execute_result",
          "data": {
            "application/vnd.google.colaboratory.intrinsic+json": {
              "type": "string"
            },
            "text/plain": [
              "'/content/Development_Dataset_15/training/masks/Bipbip_mais_im_08581.png'"
            ]
          },
          "metadata": {
            "tags": []
          },
          "execution_count": 24
        },
        {
          "output_type": "execute_result",
          "data": {
            "application/vnd.google.colaboratory.intrinsic+json": {
              "type": "string"
            },
            "text/plain": [
              "'/content/Development_Dataset_15/training/images/Bipbip_mais_im_05691.jpg'"
            ]
          },
          "metadata": {
            "tags": []
          },
          "execution_count": 24
        },
        {
          "output_type": "execute_result",
          "data": {
            "application/vnd.google.colaboratory.intrinsic+json": {
              "type": "string"
            },
            "text/plain": [
              "'/content/Development_Dataset_15/training/masks/Bipbip_mais_im_05691.png'"
            ]
          },
          "metadata": {
            "tags": []
          },
          "execution_count": 24
        },
        {
          "output_type": "execute_result",
          "data": {
            "application/vnd.google.colaboratory.intrinsic+json": {
              "type": "string"
            },
            "text/plain": [
              "'/content/Development_Dataset_15/training/images/Bipbip_mais_im_07451.jpg'"
            ]
          },
          "metadata": {
            "tags": []
          },
          "execution_count": 24
        },
        {
          "output_type": "execute_result",
          "data": {
            "application/vnd.google.colaboratory.intrinsic+json": {
              "type": "string"
            },
            "text/plain": [
              "'/content/Development_Dataset_15/training/masks/Bipbip_mais_im_07451.png'"
            ]
          },
          "metadata": {
            "tags": []
          },
          "execution_count": 24
        },
        {
          "output_type": "execute_result",
          "data": {
            "application/vnd.google.colaboratory.intrinsic+json": {
              "type": "string"
            },
            "text/plain": [
              "'/content/Development_Dataset_15/validation/images/Bipbip_mais_im_11121.jpg'"
            ]
          },
          "metadata": {
            "tags": []
          },
          "execution_count": 24
        },
        {
          "output_type": "execute_result",
          "data": {
            "application/vnd.google.colaboratory.intrinsic+json": {
              "type": "string"
            },
            "text/plain": [
              "'/content/Development_Dataset_15/validation/masks/Bipbip_mais_im_11121.png'"
            ]
          },
          "metadata": {
            "tags": []
          },
          "execution_count": 24
        },
        {
          "output_type": "execute_result",
          "data": {
            "application/vnd.google.colaboratory.intrinsic+json": {
              "type": "string"
            },
            "text/plain": [
              "'/content/Development_Dataset_15/validation/images/Bipbip_mais_im_10001.jpg'"
            ]
          },
          "metadata": {
            "tags": []
          },
          "execution_count": 24
        },
        {
          "output_type": "execute_result",
          "data": {
            "application/vnd.google.colaboratory.intrinsic+json": {
              "type": "string"
            },
            "text/plain": [
              "'/content/Development_Dataset_15/validation/masks/Bipbip_mais_im_10001.png'"
            ]
          },
          "metadata": {
            "tags": []
          },
          "execution_count": 24
        },
        {
          "output_type": "execute_result",
          "data": {
            "application/vnd.google.colaboratory.intrinsic+json": {
              "type": "string"
            },
            "text/plain": [
              "'/content/Development_Dataset_15/validation/images/Bipbip_mais_im_02781.jpg'"
            ]
          },
          "metadata": {
            "tags": []
          },
          "execution_count": 24
        },
        {
          "output_type": "execute_result",
          "data": {
            "application/vnd.google.colaboratory.intrinsic+json": {
              "type": "string"
            },
            "text/plain": [
              "'/content/Development_Dataset_15/validation/masks/Bipbip_mais_im_02781.png'"
            ]
          },
          "metadata": {
            "tags": []
          },
          "execution_count": 24
        },
        {
          "output_type": "execute_result",
          "data": {
            "application/vnd.google.colaboratory.intrinsic+json": {
              "type": "string"
            },
            "text/plain": [
              "'/content/Development_Dataset_15/validation/images/Bipbip_mais_im_03291.jpg'"
            ]
          },
          "metadata": {
            "tags": []
          },
          "execution_count": 24
        },
        {
          "output_type": "execute_result",
          "data": {
            "application/vnd.google.colaboratory.intrinsic+json": {
              "type": "string"
            },
            "text/plain": [
              "'/content/Development_Dataset_15/validation/masks/Bipbip_mais_im_03291.png'"
            ]
          },
          "metadata": {
            "tags": []
          },
          "execution_count": 24
        },
        {
          "output_type": "execute_result",
          "data": {
            "application/vnd.google.colaboratory.intrinsic+json": {
              "type": "string"
            },
            "text/plain": [
              "'/content/Development_Dataset_15/validation/images/Bipbip_mais_im_05381.jpg'"
            ]
          },
          "metadata": {
            "tags": []
          },
          "execution_count": 24
        },
        {
          "output_type": "execute_result",
          "data": {
            "application/vnd.google.colaboratory.intrinsic+json": {
              "type": "string"
            },
            "text/plain": [
              "'/content/Development_Dataset_15/validation/masks/Bipbip_mais_im_05381.png'"
            ]
          },
          "metadata": {
            "tags": []
          },
          "execution_count": 24
        },
        {
          "output_type": "execute_result",
          "data": {
            "application/vnd.google.colaboratory.intrinsic+json": {
              "type": "string"
            },
            "text/plain": [
              "'/content/Development_Dataset_15/validation/images/Bipbip_mais_im_09311.jpg'"
            ]
          },
          "metadata": {
            "tags": []
          },
          "execution_count": 24
        },
        {
          "output_type": "execute_result",
          "data": {
            "application/vnd.google.colaboratory.intrinsic+json": {
              "type": "string"
            },
            "text/plain": [
              "'/content/Development_Dataset_15/validation/masks/Bipbip_mais_im_09311.png'"
            ]
          },
          "metadata": {
            "tags": []
          },
          "execution_count": 24
        },
        {
          "output_type": "execute_result",
          "data": {
            "application/vnd.google.colaboratory.intrinsic+json": {
              "type": "string"
            },
            "text/plain": [
              "'/content/Development_Dataset_15/validation/images/Bipbip_mais_im_05281.jpg'"
            ]
          },
          "metadata": {
            "tags": []
          },
          "execution_count": 24
        },
        {
          "output_type": "execute_result",
          "data": {
            "application/vnd.google.colaboratory.intrinsic+json": {
              "type": "string"
            },
            "text/plain": [
              "'/content/Development_Dataset_15/validation/masks/Bipbip_mais_im_05281.png'"
            ]
          },
          "metadata": {
            "tags": []
          },
          "execution_count": 24
        },
        {
          "output_type": "execute_result",
          "data": {
            "application/vnd.google.colaboratory.intrinsic+json": {
              "type": "string"
            },
            "text/plain": [
              "'/content/Development_Dataset_15/validation/images/Bipbip_mais_im_07911.jpg'"
            ]
          },
          "metadata": {
            "tags": []
          },
          "execution_count": 24
        },
        {
          "output_type": "execute_result",
          "data": {
            "application/vnd.google.colaboratory.intrinsic+json": {
              "type": "string"
            },
            "text/plain": [
              "'/content/Development_Dataset_15/validation/masks/Bipbip_mais_im_07911.png'"
            ]
          },
          "metadata": {
            "tags": []
          },
          "execution_count": 24
        },
        {
          "output_type": "execute_result",
          "data": {
            "application/vnd.google.colaboratory.intrinsic+json": {
              "type": "string"
            },
            "text/plain": [
              "'/content/Development_Dataset_15/validation/images/Bipbip_mais_im_07761.jpg'"
            ]
          },
          "metadata": {
            "tags": []
          },
          "execution_count": 24
        },
        {
          "output_type": "execute_result",
          "data": {
            "application/vnd.google.colaboratory.intrinsic+json": {
              "type": "string"
            },
            "text/plain": [
              "'/content/Development_Dataset_15/validation/masks/Bipbip_mais_im_07761.png'"
            ]
          },
          "metadata": {
            "tags": []
          },
          "execution_count": 24
        },
        {
          "output_type": "execute_result",
          "data": {
            "application/vnd.google.colaboratory.intrinsic+json": {
              "type": "string"
            },
            "text/plain": [
              "'/content/Development_Dataset_15/validation/images/Bipbip_mais_im_11221.jpg'"
            ]
          },
          "metadata": {
            "tags": []
          },
          "execution_count": 24
        },
        {
          "output_type": "execute_result",
          "data": {
            "application/vnd.google.colaboratory.intrinsic+json": {
              "type": "string"
            },
            "text/plain": [
              "'/content/Development_Dataset_15/validation/masks/Bipbip_mais_im_11221.png'"
            ]
          },
          "metadata": {
            "tags": []
          },
          "execution_count": 24
        },
        {
          "output_type": "execute_result",
          "data": {
            "application/vnd.google.colaboratory.intrinsic+json": {
              "type": "string"
            },
            "text/plain": [
              "'/content/Development_Dataset_15/validation/images/Bipbip_mais_im_04911.jpg'"
            ]
          },
          "metadata": {
            "tags": []
          },
          "execution_count": 24
        },
        {
          "output_type": "execute_result",
          "data": {
            "application/vnd.google.colaboratory.intrinsic+json": {
              "type": "string"
            },
            "text/plain": [
              "'/content/Development_Dataset_15/validation/masks/Bipbip_mais_im_04911.png'"
            ]
          },
          "metadata": {
            "tags": []
          },
          "execution_count": 24
        },
        {
          "output_type": "execute_result",
          "data": {
            "application/vnd.google.colaboratory.intrinsic+json": {
              "type": "string"
            },
            "text/plain": [
              "'/content/Development_Dataset_15/validation/images/Bipbip_mais_im_03751.jpg'"
            ]
          },
          "metadata": {
            "tags": []
          },
          "execution_count": 24
        },
        {
          "output_type": "execute_result",
          "data": {
            "application/vnd.google.colaboratory.intrinsic+json": {
              "type": "string"
            },
            "text/plain": [
              "'/content/Development_Dataset_15/validation/masks/Bipbip_mais_im_03751.png'"
            ]
          },
          "metadata": {
            "tags": []
          },
          "execution_count": 24
        },
        {
          "output_type": "execute_result",
          "data": {
            "application/vnd.google.colaboratory.intrinsic+json": {
              "type": "string"
            },
            "text/plain": [
              "'/content/Development_Dataset_15/validation/images/Bipbip_mais_im_01511.jpg'"
            ]
          },
          "metadata": {
            "tags": []
          },
          "execution_count": 24
        },
        {
          "output_type": "execute_result",
          "data": {
            "application/vnd.google.colaboratory.intrinsic+json": {
              "type": "string"
            },
            "text/plain": [
              "'/content/Development_Dataset_15/validation/masks/Bipbip_mais_im_01511.png'"
            ]
          },
          "metadata": {
            "tags": []
          },
          "execution_count": 24
        },
        {
          "output_type": "execute_result",
          "data": {
            "application/vnd.google.colaboratory.intrinsic+json": {
              "type": "string"
            },
            "text/plain": [
              "'/content/Development_Dataset_15/validation/images/Bipbip_mais_im_04561.jpg'"
            ]
          },
          "metadata": {
            "tags": []
          },
          "execution_count": 24
        },
        {
          "output_type": "execute_result",
          "data": {
            "application/vnd.google.colaboratory.intrinsic+json": {
              "type": "string"
            },
            "text/plain": [
              "'/content/Development_Dataset_15/validation/masks/Bipbip_mais_im_04561.png'"
            ]
          },
          "metadata": {
            "tags": []
          },
          "execution_count": 24
        },
        {
          "output_type": "execute_result",
          "data": {
            "application/vnd.google.colaboratory.intrinsic+json": {
              "type": "string"
            },
            "text/plain": [
              "'/content/Development_Dataset_15/training/images/Pead_haricot_00249_i750.jpg'"
            ]
          },
          "metadata": {
            "tags": []
          },
          "execution_count": 24
        },
        {
          "output_type": "execute_result",
          "data": {
            "application/vnd.google.colaboratory.intrinsic+json": {
              "type": "string"
            },
            "text/plain": [
              "'/content/Development_Dataset_15/training/masks/Pead_haricot_00249_i750.png'"
            ]
          },
          "metadata": {
            "tags": []
          },
          "execution_count": 24
        },
        {
          "output_type": "execute_result",
          "data": {
            "application/vnd.google.colaboratory.intrinsic+json": {
              "type": "string"
            },
            "text/plain": [
              "'/content/Development_Dataset_15/training/images/Pead_haricot_00592_i750.jpg'"
            ]
          },
          "metadata": {
            "tags": []
          },
          "execution_count": 24
        },
        {
          "output_type": "execute_result",
          "data": {
            "application/vnd.google.colaboratory.intrinsic+json": {
              "type": "string"
            },
            "text/plain": [
              "'/content/Development_Dataset_15/training/masks/Pead_haricot_00592_i750.png'"
            ]
          },
          "metadata": {
            "tags": []
          },
          "execution_count": 24
        },
        {
          "output_type": "execute_result",
          "data": {
            "application/vnd.google.colaboratory.intrinsic+json": {
              "type": "string"
            },
            "text/plain": [
              "'/content/Development_Dataset_15/training/images/Pead_haricot_00066_i750.jpg'"
            ]
          },
          "metadata": {
            "tags": []
          },
          "execution_count": 24
        },
        {
          "output_type": "execute_result",
          "data": {
            "application/vnd.google.colaboratory.intrinsic+json": {
              "type": "string"
            },
            "text/plain": [
              "'/content/Development_Dataset_15/training/masks/Pead_haricot_00066_i750.png'"
            ]
          },
          "metadata": {
            "tags": []
          },
          "execution_count": 24
        },
        {
          "output_type": "execute_result",
          "data": {
            "application/vnd.google.colaboratory.intrinsic+json": {
              "type": "string"
            },
            "text/plain": [
              "'/content/Development_Dataset_15/training/images/Pead_haricot_00277_i750.jpg'"
            ]
          },
          "metadata": {
            "tags": []
          },
          "execution_count": 24
        },
        {
          "output_type": "execute_result",
          "data": {
            "application/vnd.google.colaboratory.intrinsic+json": {
              "type": "string"
            },
            "text/plain": [
              "'/content/Development_Dataset_15/training/masks/Pead_haricot_00277_i750.png'"
            ]
          },
          "metadata": {
            "tags": []
          },
          "execution_count": 24
        },
        {
          "output_type": "execute_result",
          "data": {
            "application/vnd.google.colaboratory.intrinsic+json": {
              "type": "string"
            },
            "text/plain": [
              "'/content/Development_Dataset_15/training/images/Pead_haricot_00124_i750.jpg'"
            ]
          },
          "metadata": {
            "tags": []
          },
          "execution_count": 24
        },
        {
          "output_type": "execute_result",
          "data": {
            "application/vnd.google.colaboratory.intrinsic+json": {
              "type": "string"
            },
            "text/plain": [
              "'/content/Development_Dataset_15/training/masks/Pead_haricot_00124_i750.png'"
            ]
          },
          "metadata": {
            "tags": []
          },
          "execution_count": 24
        },
        {
          "output_type": "execute_result",
          "data": {
            "application/vnd.google.colaboratory.intrinsic+json": {
              "type": "string"
            },
            "text/plain": [
              "'/content/Development_Dataset_15/training/images/Pead_haricot_00319_i750.jpg'"
            ]
          },
          "metadata": {
            "tags": []
          },
          "execution_count": 24
        },
        {
          "output_type": "execute_result",
          "data": {
            "application/vnd.google.colaboratory.intrinsic+json": {
              "type": "string"
            },
            "text/plain": [
              "'/content/Development_Dataset_15/training/masks/Pead_haricot_00319_i750.png'"
            ]
          },
          "metadata": {
            "tags": []
          },
          "execution_count": 24
        },
        {
          "output_type": "execute_result",
          "data": {
            "application/vnd.google.colaboratory.intrinsic+json": {
              "type": "string"
            },
            "text/plain": [
              "'/content/Development_Dataset_15/training/images/Pead_haricot_00522_i750.jpg'"
            ]
          },
          "metadata": {
            "tags": []
          },
          "execution_count": 24
        },
        {
          "output_type": "execute_result",
          "data": {
            "application/vnd.google.colaboratory.intrinsic+json": {
              "type": "string"
            },
            "text/plain": [
              "'/content/Development_Dataset_15/training/masks/Pead_haricot_00522_i750.png'"
            ]
          },
          "metadata": {
            "tags": []
          },
          "execution_count": 24
        },
        {
          "output_type": "execute_result",
          "data": {
            "application/vnd.google.colaboratory.intrinsic+json": {
              "type": "string"
            },
            "text/plain": [
              "'/content/Development_Dataset_15/training/images/Pead_haricot_00350_i750.jpg'"
            ]
          },
          "metadata": {
            "tags": []
          },
          "execution_count": 24
        },
        {
          "output_type": "execute_result",
          "data": {
            "application/vnd.google.colaboratory.intrinsic+json": {
              "type": "string"
            },
            "text/plain": [
              "'/content/Development_Dataset_15/training/masks/Pead_haricot_00350_i750.png'"
            ]
          },
          "metadata": {
            "tags": []
          },
          "execution_count": 24
        },
        {
          "output_type": "execute_result",
          "data": {
            "application/vnd.google.colaboratory.intrinsic+json": {
              "type": "string"
            },
            "text/plain": [
              "'/content/Development_Dataset_15/training/images/Pead_haricot_00476_i750.jpg'"
            ]
          },
          "metadata": {
            "tags": []
          },
          "execution_count": 24
        },
        {
          "output_type": "execute_result",
          "data": {
            "application/vnd.google.colaboratory.intrinsic+json": {
              "type": "string"
            },
            "text/plain": [
              "'/content/Development_Dataset_15/training/masks/Pead_haricot_00476_i750.png'"
            ]
          },
          "metadata": {
            "tags": []
          },
          "execution_count": 24
        },
        {
          "output_type": "execute_result",
          "data": {
            "application/vnd.google.colaboratory.intrinsic+json": {
              "type": "string"
            },
            "text/plain": [
              "'/content/Development_Dataset_15/training/images/Pead_haricot_00724_i750.jpg'"
            ]
          },
          "metadata": {
            "tags": []
          },
          "execution_count": 24
        },
        {
          "output_type": "execute_result",
          "data": {
            "application/vnd.google.colaboratory.intrinsic+json": {
              "type": "string"
            },
            "text/plain": [
              "'/content/Development_Dataset_15/training/masks/Pead_haricot_00724_i750.png'"
            ]
          },
          "metadata": {
            "tags": []
          },
          "execution_count": 24
        },
        {
          "output_type": "execute_result",
          "data": {
            "application/vnd.google.colaboratory.intrinsic+json": {
              "type": "string"
            },
            "text/plain": [
              "'/content/Development_Dataset_15/training/images/Pead_haricot_00236_i750.jpg'"
            ]
          },
          "metadata": {
            "tags": []
          },
          "execution_count": 24
        },
        {
          "output_type": "execute_result",
          "data": {
            "application/vnd.google.colaboratory.intrinsic+json": {
              "type": "string"
            },
            "text/plain": [
              "'/content/Development_Dataset_15/training/masks/Pead_haricot_00236_i750.png'"
            ]
          },
          "metadata": {
            "tags": []
          },
          "execution_count": 24
        },
        {
          "output_type": "execute_result",
          "data": {
            "application/vnd.google.colaboratory.intrinsic+json": {
              "type": "string"
            },
            "text/plain": [
              "'/content/Development_Dataset_15/training/images/Pead_haricot_00069_i750.jpg'"
            ]
          },
          "metadata": {
            "tags": []
          },
          "execution_count": 24
        },
        {
          "output_type": "execute_result",
          "data": {
            "application/vnd.google.colaboratory.intrinsic+json": {
              "type": "string"
            },
            "text/plain": [
              "'/content/Development_Dataset_15/training/masks/Pead_haricot_00069_i750.png'"
            ]
          },
          "metadata": {
            "tags": []
          },
          "execution_count": 24
        },
        {
          "output_type": "execute_result",
          "data": {
            "application/vnd.google.colaboratory.intrinsic+json": {
              "type": "string"
            },
            "text/plain": [
              "'/content/Development_Dataset_15/training/images/Pead_haricot_00079_i750.jpg'"
            ]
          },
          "metadata": {
            "tags": []
          },
          "execution_count": 24
        },
        {
          "output_type": "execute_result",
          "data": {
            "application/vnd.google.colaboratory.intrinsic+json": {
              "type": "string"
            },
            "text/plain": [
              "'/content/Development_Dataset_15/training/masks/Pead_haricot_00079_i750.png'"
            ]
          },
          "metadata": {
            "tags": []
          },
          "execution_count": 24
        },
        {
          "output_type": "execute_result",
          "data": {
            "application/vnd.google.colaboratory.intrinsic+json": {
              "type": "string"
            },
            "text/plain": [
              "'/content/Development_Dataset_15/training/images/Pead_haricot_00589_i750.jpg'"
            ]
          },
          "metadata": {
            "tags": []
          },
          "execution_count": 24
        },
        {
          "output_type": "execute_result",
          "data": {
            "application/vnd.google.colaboratory.intrinsic+json": {
              "type": "string"
            },
            "text/plain": [
              "'/content/Development_Dataset_15/training/masks/Pead_haricot_00589_i750.png'"
            ]
          },
          "metadata": {
            "tags": []
          },
          "execution_count": 24
        },
        {
          "output_type": "execute_result",
          "data": {
            "application/vnd.google.colaboratory.intrinsic+json": {
              "type": "string"
            },
            "text/plain": [
              "'/content/Development_Dataset_15/training/images/Pead_haricot_00273_i750.jpg'"
            ]
          },
          "metadata": {
            "tags": []
          },
          "execution_count": 24
        },
        {
          "output_type": "execute_result",
          "data": {
            "application/vnd.google.colaboratory.intrinsic+json": {
              "type": "string"
            },
            "text/plain": [
              "'/content/Development_Dataset_15/training/masks/Pead_haricot_00273_i750.png'"
            ]
          },
          "metadata": {
            "tags": []
          },
          "execution_count": 24
        },
        {
          "output_type": "execute_result",
          "data": {
            "application/vnd.google.colaboratory.intrinsic+json": {
              "type": "string"
            },
            "text/plain": [
              "'/content/Development_Dataset_15/training/images/Pead_haricot_00372_i750.jpg'"
            ]
          },
          "metadata": {
            "tags": []
          },
          "execution_count": 24
        },
        {
          "output_type": "execute_result",
          "data": {
            "application/vnd.google.colaboratory.intrinsic+json": {
              "type": "string"
            },
            "text/plain": [
              "'/content/Development_Dataset_15/training/masks/Pead_haricot_00372_i750.png'"
            ]
          },
          "metadata": {
            "tags": []
          },
          "execution_count": 24
        },
        {
          "output_type": "execute_result",
          "data": {
            "application/vnd.google.colaboratory.intrinsic+json": {
              "type": "string"
            },
            "text/plain": [
              "'/content/Development_Dataset_15/training/images/Pead_haricot_00359_i750.jpg'"
            ]
          },
          "metadata": {
            "tags": []
          },
          "execution_count": 24
        },
        {
          "output_type": "execute_result",
          "data": {
            "application/vnd.google.colaboratory.intrinsic+json": {
              "type": "string"
            },
            "text/plain": [
              "'/content/Development_Dataset_15/training/masks/Pead_haricot_00359_i750.png'"
            ]
          },
          "metadata": {
            "tags": []
          },
          "execution_count": 24
        },
        {
          "output_type": "execute_result",
          "data": {
            "application/vnd.google.colaboratory.intrinsic+json": {
              "type": "string"
            },
            "text/plain": [
              "'/content/Development_Dataset_15/training/images/Pead_haricot_00544_i750.jpg'"
            ]
          },
          "metadata": {
            "tags": []
          },
          "execution_count": 24
        },
        {
          "output_type": "execute_result",
          "data": {
            "application/vnd.google.colaboratory.intrinsic+json": {
              "type": "string"
            },
            "text/plain": [
              "'/content/Development_Dataset_15/training/masks/Pead_haricot_00544_i750.png'"
            ]
          },
          "metadata": {
            "tags": []
          },
          "execution_count": 24
        },
        {
          "output_type": "execute_result",
          "data": {
            "application/vnd.google.colaboratory.intrinsic+json": {
              "type": "string"
            },
            "text/plain": [
              "'/content/Development_Dataset_15/training/images/Pead_haricot_00167_i750.jpg'"
            ]
          },
          "metadata": {
            "tags": []
          },
          "execution_count": 24
        },
        {
          "output_type": "execute_result",
          "data": {
            "application/vnd.google.colaboratory.intrinsic+json": {
              "type": "string"
            },
            "text/plain": [
              "'/content/Development_Dataset_15/training/masks/Pead_haricot_00167_i750.png'"
            ]
          },
          "metadata": {
            "tags": []
          },
          "execution_count": 24
        },
        {
          "output_type": "execute_result",
          "data": {
            "application/vnd.google.colaboratory.intrinsic+json": {
              "type": "string"
            },
            "text/plain": [
              "'/content/Development_Dataset_15/training/images/Pead_haricot_00668_i750.jpg'"
            ]
          },
          "metadata": {
            "tags": []
          },
          "execution_count": 24
        },
        {
          "output_type": "execute_result",
          "data": {
            "application/vnd.google.colaboratory.intrinsic+json": {
              "type": "string"
            },
            "text/plain": [
              "'/content/Development_Dataset_15/training/masks/Pead_haricot_00668_i750.png'"
            ]
          },
          "metadata": {
            "tags": []
          },
          "execution_count": 24
        },
        {
          "output_type": "execute_result",
          "data": {
            "application/vnd.google.colaboratory.intrinsic+json": {
              "type": "string"
            },
            "text/plain": [
              "'/content/Development_Dataset_15/training/images/Pead_haricot_00419_i750.jpg'"
            ]
          },
          "metadata": {
            "tags": []
          },
          "execution_count": 24
        },
        {
          "output_type": "execute_result",
          "data": {
            "application/vnd.google.colaboratory.intrinsic+json": {
              "type": "string"
            },
            "text/plain": [
              "'/content/Development_Dataset_15/training/masks/Pead_haricot_00419_i750.png'"
            ]
          },
          "metadata": {
            "tags": []
          },
          "execution_count": 24
        },
        {
          "output_type": "execute_result",
          "data": {
            "application/vnd.google.colaboratory.intrinsic+json": {
              "type": "string"
            },
            "text/plain": [
              "'/content/Development_Dataset_15/training/images/Pead_haricot_00608_i750.jpg'"
            ]
          },
          "metadata": {
            "tags": []
          },
          "execution_count": 24
        },
        {
          "output_type": "execute_result",
          "data": {
            "application/vnd.google.colaboratory.intrinsic+json": {
              "type": "string"
            },
            "text/plain": [
              "'/content/Development_Dataset_15/training/masks/Pead_haricot_00608_i750.png'"
            ]
          },
          "metadata": {
            "tags": []
          },
          "execution_count": 24
        },
        {
          "output_type": "execute_result",
          "data": {
            "application/vnd.google.colaboratory.intrinsic+json": {
              "type": "string"
            },
            "text/plain": [
              "'/content/Development_Dataset_15/training/images/Pead_haricot_00644_i750.jpg'"
            ]
          },
          "metadata": {
            "tags": []
          },
          "execution_count": 24
        },
        {
          "output_type": "execute_result",
          "data": {
            "application/vnd.google.colaboratory.intrinsic+json": {
              "type": "string"
            },
            "text/plain": [
              "'/content/Development_Dataset_15/training/masks/Pead_haricot_00644_i750.png'"
            ]
          },
          "metadata": {
            "tags": []
          },
          "execution_count": 24
        },
        {
          "output_type": "execute_result",
          "data": {
            "application/vnd.google.colaboratory.intrinsic+json": {
              "type": "string"
            },
            "text/plain": [
              "'/content/Development_Dataset_15/training/images/Pead_haricot_00525_i750.jpg'"
            ]
          },
          "metadata": {
            "tags": []
          },
          "execution_count": 24
        },
        {
          "output_type": "execute_result",
          "data": {
            "application/vnd.google.colaboratory.intrinsic+json": {
              "type": "string"
            },
            "text/plain": [
              "'/content/Development_Dataset_15/training/masks/Pead_haricot_00525_i750.png'"
            ]
          },
          "metadata": {
            "tags": []
          },
          "execution_count": 24
        },
        {
          "output_type": "execute_result",
          "data": {
            "application/vnd.google.colaboratory.intrinsic+json": {
              "type": "string"
            },
            "text/plain": [
              "'/content/Development_Dataset_15/training/images/Pead_haricot_00691_i750.jpg'"
            ]
          },
          "metadata": {
            "tags": []
          },
          "execution_count": 24
        },
        {
          "output_type": "execute_result",
          "data": {
            "application/vnd.google.colaboratory.intrinsic+json": {
              "type": "string"
            },
            "text/plain": [
              "'/content/Development_Dataset_15/training/masks/Pead_haricot_00691_i750.png'"
            ]
          },
          "metadata": {
            "tags": []
          },
          "execution_count": 24
        },
        {
          "output_type": "execute_result",
          "data": {
            "application/vnd.google.colaboratory.intrinsic+json": {
              "type": "string"
            },
            "text/plain": [
              "'/content/Development_Dataset_15/training/images/Pead_haricot_00221_i750.jpg'"
            ]
          },
          "metadata": {
            "tags": []
          },
          "execution_count": 24
        },
        {
          "output_type": "execute_result",
          "data": {
            "application/vnd.google.colaboratory.intrinsic+json": {
              "type": "string"
            },
            "text/plain": [
              "'/content/Development_Dataset_15/training/masks/Pead_haricot_00221_i750.png'"
            ]
          },
          "metadata": {
            "tags": []
          },
          "execution_count": 24
        },
        {
          "output_type": "execute_result",
          "data": {
            "application/vnd.google.colaboratory.intrinsic+json": {
              "type": "string"
            },
            "text/plain": [
              "'/content/Development_Dataset_15/training/images/Pead_haricot_00047_i750.jpg'"
            ]
          },
          "metadata": {
            "tags": []
          },
          "execution_count": 24
        },
        {
          "output_type": "execute_result",
          "data": {
            "application/vnd.google.colaboratory.intrinsic+json": {
              "type": "string"
            },
            "text/plain": [
              "'/content/Development_Dataset_15/training/masks/Pead_haricot_00047_i750.png'"
            ]
          },
          "metadata": {
            "tags": []
          },
          "execution_count": 24
        },
        {
          "output_type": "execute_result",
          "data": {
            "application/vnd.google.colaboratory.intrinsic+json": {
              "type": "string"
            },
            "text/plain": [
              "'/content/Development_Dataset_15/training/images/Pead_haricot_00662_i750.jpg'"
            ]
          },
          "metadata": {
            "tags": []
          },
          "execution_count": 24
        },
        {
          "output_type": "execute_result",
          "data": {
            "application/vnd.google.colaboratory.intrinsic+json": {
              "type": "string"
            },
            "text/plain": [
              "'/content/Development_Dataset_15/training/masks/Pead_haricot_00662_i750.png'"
            ]
          },
          "metadata": {
            "tags": []
          },
          "execution_count": 24
        },
        {
          "output_type": "execute_result",
          "data": {
            "application/vnd.google.colaboratory.intrinsic+json": {
              "type": "string"
            },
            "text/plain": [
              "'/content/Development_Dataset_15/training/images/Pead_haricot_00103_i750.jpg'"
            ]
          },
          "metadata": {
            "tags": []
          },
          "execution_count": 24
        },
        {
          "output_type": "execute_result",
          "data": {
            "application/vnd.google.colaboratory.intrinsic+json": {
              "type": "string"
            },
            "text/plain": [
              "'/content/Development_Dataset_15/training/masks/Pead_haricot_00103_i750.png'"
            ]
          },
          "metadata": {
            "tags": []
          },
          "execution_count": 24
        },
        {
          "output_type": "execute_result",
          "data": {
            "application/vnd.google.colaboratory.intrinsic+json": {
              "type": "string"
            },
            "text/plain": [
              "'/content/Development_Dataset_15/training/images/Pead_haricot_00454_i750.jpg'"
            ]
          },
          "metadata": {
            "tags": []
          },
          "execution_count": 24
        },
        {
          "output_type": "execute_result",
          "data": {
            "application/vnd.google.colaboratory.intrinsic+json": {
              "type": "string"
            },
            "text/plain": [
              "'/content/Development_Dataset_15/training/masks/Pead_haricot_00454_i750.png'"
            ]
          },
          "metadata": {
            "tags": []
          },
          "execution_count": 24
        },
        {
          "output_type": "execute_result",
          "data": {
            "application/vnd.google.colaboratory.intrinsic+json": {
              "type": "string"
            },
            "text/plain": [
              "'/content/Development_Dataset_15/training/images/Pead_haricot_00172_i750.jpg'"
            ]
          },
          "metadata": {
            "tags": []
          },
          "execution_count": 24
        },
        {
          "output_type": "execute_result",
          "data": {
            "application/vnd.google.colaboratory.intrinsic+json": {
              "type": "string"
            },
            "text/plain": [
              "'/content/Development_Dataset_15/training/masks/Pead_haricot_00172_i750.png'"
            ]
          },
          "metadata": {
            "tags": []
          },
          "execution_count": 24
        },
        {
          "output_type": "execute_result",
          "data": {
            "application/vnd.google.colaboratory.intrinsic+json": {
              "type": "string"
            },
            "text/plain": [
              "'/content/Development_Dataset_15/training/images/Pead_haricot_00712_i750.jpg'"
            ]
          },
          "metadata": {
            "tags": []
          },
          "execution_count": 24
        },
        {
          "output_type": "execute_result",
          "data": {
            "application/vnd.google.colaboratory.intrinsic+json": {
              "type": "string"
            },
            "text/plain": [
              "'/content/Development_Dataset_15/training/masks/Pead_haricot_00712_i750.png'"
            ]
          },
          "metadata": {
            "tags": []
          },
          "execution_count": 24
        },
        {
          "output_type": "execute_result",
          "data": {
            "application/vnd.google.colaboratory.intrinsic+json": {
              "type": "string"
            },
            "text/plain": [
              "'/content/Development_Dataset_15/training/images/Pead_haricot_00443_i750.jpg'"
            ]
          },
          "metadata": {
            "tags": []
          },
          "execution_count": 24
        },
        {
          "output_type": "execute_result",
          "data": {
            "application/vnd.google.colaboratory.intrinsic+json": {
              "type": "string"
            },
            "text/plain": [
              "'/content/Development_Dataset_15/training/masks/Pead_haricot_00443_i750.png'"
            ]
          },
          "metadata": {
            "tags": []
          },
          "execution_count": 24
        },
        {
          "output_type": "execute_result",
          "data": {
            "application/vnd.google.colaboratory.intrinsic+json": {
              "type": "string"
            },
            "text/plain": [
              "'/content/Development_Dataset_15/training/images/Pead_haricot_00362_i750.jpg'"
            ]
          },
          "metadata": {
            "tags": []
          },
          "execution_count": 24
        },
        {
          "output_type": "execute_result",
          "data": {
            "application/vnd.google.colaboratory.intrinsic+json": {
              "type": "string"
            },
            "text/plain": [
              "'/content/Development_Dataset_15/training/masks/Pead_haricot_00362_i750.png'"
            ]
          },
          "metadata": {
            "tags": []
          },
          "execution_count": 24
        },
        {
          "output_type": "execute_result",
          "data": {
            "application/vnd.google.colaboratory.intrinsic+json": {
              "type": "string"
            },
            "text/plain": [
              "'/content/Development_Dataset_15/training/images/Pead_haricot_00233_i750.jpg'"
            ]
          },
          "metadata": {
            "tags": []
          },
          "execution_count": 24
        },
        {
          "output_type": "execute_result",
          "data": {
            "application/vnd.google.colaboratory.intrinsic+json": {
              "type": "string"
            },
            "text/plain": [
              "'/content/Development_Dataset_15/training/masks/Pead_haricot_00233_i750.png'"
            ]
          },
          "metadata": {
            "tags": []
          },
          "execution_count": 24
        },
        {
          "output_type": "execute_result",
          "data": {
            "application/vnd.google.colaboratory.intrinsic+json": {
              "type": "string"
            },
            "text/plain": [
              "'/content/Development_Dataset_15/training/images/Pead_haricot_00482_i750.jpg'"
            ]
          },
          "metadata": {
            "tags": []
          },
          "execution_count": 24
        },
        {
          "output_type": "execute_result",
          "data": {
            "application/vnd.google.colaboratory.intrinsic+json": {
              "type": "string"
            },
            "text/plain": [
              "'/content/Development_Dataset_15/training/masks/Pead_haricot_00482_i750.png'"
            ]
          },
          "metadata": {
            "tags": []
          },
          "execution_count": 24
        },
        {
          "output_type": "execute_result",
          "data": {
            "application/vnd.google.colaboratory.intrinsic+json": {
              "type": "string"
            },
            "text/plain": [
              "'/content/Development_Dataset_15/training/images/Pead_haricot_00586_i750.jpg'"
            ]
          },
          "metadata": {
            "tags": []
          },
          "execution_count": 24
        },
        {
          "output_type": "execute_result",
          "data": {
            "application/vnd.google.colaboratory.intrinsic+json": {
              "type": "string"
            },
            "text/plain": [
              "'/content/Development_Dataset_15/training/masks/Pead_haricot_00586_i750.png'"
            ]
          },
          "metadata": {
            "tags": []
          },
          "execution_count": 24
        },
        {
          "output_type": "execute_result",
          "data": {
            "application/vnd.google.colaboratory.intrinsic+json": {
              "type": "string"
            },
            "text/plain": [
              "'/content/Development_Dataset_15/training/images/Pead_haricot_00110_i750.jpg'"
            ]
          },
          "metadata": {
            "tags": []
          },
          "execution_count": 24
        },
        {
          "output_type": "execute_result",
          "data": {
            "application/vnd.google.colaboratory.intrinsic+json": {
              "type": "string"
            },
            "text/plain": [
              "'/content/Development_Dataset_15/training/masks/Pead_haricot_00110_i750.png'"
            ]
          },
          "metadata": {
            "tags": []
          },
          "execution_count": 24
        },
        {
          "output_type": "execute_result",
          "data": {
            "application/vnd.google.colaboratory.intrinsic+json": {
              "type": "string"
            },
            "text/plain": [
              "'/content/Development_Dataset_15/training/images/Pead_haricot_00721_i750.jpg'"
            ]
          },
          "metadata": {
            "tags": []
          },
          "execution_count": 24
        },
        {
          "output_type": "execute_result",
          "data": {
            "application/vnd.google.colaboratory.intrinsic+json": {
              "type": "string"
            },
            "text/plain": [
              "'/content/Development_Dataset_15/training/masks/Pead_haricot_00721_i750.png'"
            ]
          },
          "metadata": {
            "tags": []
          },
          "execution_count": 24
        },
        {
          "output_type": "execute_result",
          "data": {
            "application/vnd.google.colaboratory.intrinsic+json": {
              "type": "string"
            },
            "text/plain": [
              "'/content/Development_Dataset_15/training/images/Pead_haricot_00547_i750.jpg'"
            ]
          },
          "metadata": {
            "tags": []
          },
          "execution_count": 24
        },
        {
          "output_type": "execute_result",
          "data": {
            "application/vnd.google.colaboratory.intrinsic+json": {
              "type": "string"
            },
            "text/plain": [
              "'/content/Development_Dataset_15/training/masks/Pead_haricot_00547_i750.png'"
            ]
          },
          "metadata": {
            "tags": []
          },
          "execution_count": 24
        },
        {
          "output_type": "execute_result",
          "data": {
            "application/vnd.google.colaboratory.intrinsic+json": {
              "type": "string"
            },
            "text/plain": [
              "'/content/Development_Dataset_15/training/images/Pead_haricot_00485_i750.jpg'"
            ]
          },
          "metadata": {
            "tags": []
          },
          "execution_count": 24
        },
        {
          "output_type": "execute_result",
          "data": {
            "application/vnd.google.colaboratory.intrinsic+json": {
              "type": "string"
            },
            "text/plain": [
              "'/content/Development_Dataset_15/training/masks/Pead_haricot_00485_i750.png'"
            ]
          },
          "metadata": {
            "tags": []
          },
          "execution_count": 24
        },
        {
          "output_type": "execute_result",
          "data": {
            "application/vnd.google.colaboratory.intrinsic+json": {
              "type": "string"
            },
            "text/plain": [
              "'/content/Development_Dataset_15/training/images/Pead_haricot_00127_i750.jpg'"
            ]
          },
          "metadata": {
            "tags": []
          },
          "execution_count": 24
        },
        {
          "output_type": "execute_result",
          "data": {
            "application/vnd.google.colaboratory.intrinsic+json": {
              "type": "string"
            },
            "text/plain": [
              "'/content/Development_Dataset_15/training/masks/Pead_haricot_00127_i750.png'"
            ]
          },
          "metadata": {
            "tags": []
          },
          "execution_count": 24
        },
        {
          "output_type": "execute_result",
          "data": {
            "application/vnd.google.colaboratory.intrinsic+json": {
              "type": "string"
            },
            "text/plain": [
              "'/content/Development_Dataset_15/training/images/Pead_haricot_00652_i750.jpg'"
            ]
          },
          "metadata": {
            "tags": []
          },
          "execution_count": 24
        },
        {
          "output_type": "execute_result",
          "data": {
            "application/vnd.google.colaboratory.intrinsic+json": {
              "type": "string"
            },
            "text/plain": [
              "'/content/Development_Dataset_15/training/masks/Pead_haricot_00652_i750.png'"
            ]
          },
          "metadata": {
            "tags": []
          },
          "execution_count": 24
        },
        {
          "output_type": "execute_result",
          "data": {
            "application/vnd.google.colaboratory.intrinsic+json": {
              "type": "string"
            },
            "text/plain": [
              "'/content/Development_Dataset_15/training/images/Pead_haricot_00711_i750.jpg'"
            ]
          },
          "metadata": {
            "tags": []
          },
          "execution_count": 24
        },
        {
          "output_type": "execute_result",
          "data": {
            "application/vnd.google.colaboratory.intrinsic+json": {
              "type": "string"
            },
            "text/plain": [
              "'/content/Development_Dataset_15/training/masks/Pead_haricot_00711_i750.png'"
            ]
          },
          "metadata": {
            "tags": []
          },
          "execution_count": 24
        },
        {
          "output_type": "execute_result",
          "data": {
            "application/vnd.google.colaboratory.intrinsic+json": {
              "type": "string"
            },
            "text/plain": [
              "'/content/Development_Dataset_15/training/images/Pead_haricot_00426_i750.jpg'"
            ]
          },
          "metadata": {
            "tags": []
          },
          "execution_count": 24
        },
        {
          "output_type": "execute_result",
          "data": {
            "application/vnd.google.colaboratory.intrinsic+json": {
              "type": "string"
            },
            "text/plain": [
              "'/content/Development_Dataset_15/training/masks/Pead_haricot_00426_i750.png'"
            ]
          },
          "metadata": {
            "tags": []
          },
          "execution_count": 24
        },
        {
          "output_type": "execute_result",
          "data": {
            "application/vnd.google.colaboratory.intrinsic+json": {
              "type": "string"
            },
            "text/plain": [
              "'/content/Development_Dataset_15/training/images/Pead_haricot_00440_i750.jpg'"
            ]
          },
          "metadata": {
            "tags": []
          },
          "execution_count": 24
        },
        {
          "output_type": "execute_result",
          "data": {
            "application/vnd.google.colaboratory.intrinsic+json": {
              "type": "string"
            },
            "text/plain": [
              "'/content/Development_Dataset_15/training/masks/Pead_haricot_00440_i750.png'"
            ]
          },
          "metadata": {
            "tags": []
          },
          "execution_count": 24
        },
        {
          "output_type": "execute_result",
          "data": {
            "application/vnd.google.colaboratory.intrinsic+json": {
              "type": "string"
            },
            "text/plain": [
              "'/content/Development_Dataset_15/training/images/Pead_haricot_00466_i750.jpg'"
            ]
          },
          "metadata": {
            "tags": []
          },
          "execution_count": 24
        },
        {
          "output_type": "execute_result",
          "data": {
            "application/vnd.google.colaboratory.intrinsic+json": {
              "type": "string"
            },
            "text/plain": [
              "'/content/Development_Dataset_15/training/masks/Pead_haricot_00466_i750.png'"
            ]
          },
          "metadata": {
            "tags": []
          },
          "execution_count": 24
        },
        {
          "output_type": "execute_result",
          "data": {
            "application/vnd.google.colaboratory.intrinsic+json": {
              "type": "string"
            },
            "text/plain": [
              "'/content/Development_Dataset_15/training/images/Pead_haricot_00457_i750.jpg'"
            ]
          },
          "metadata": {
            "tags": []
          },
          "execution_count": 24
        },
        {
          "output_type": "execute_result",
          "data": {
            "application/vnd.google.colaboratory.intrinsic+json": {
              "type": "string"
            },
            "text/plain": [
              "'/content/Development_Dataset_15/training/masks/Pead_haricot_00457_i750.png'"
            ]
          },
          "metadata": {
            "tags": []
          },
          "execution_count": 24
        },
        {
          "output_type": "execute_result",
          "data": {
            "application/vnd.google.colaboratory.intrinsic+json": {
              "type": "string"
            },
            "text/plain": [
              "'/content/Development_Dataset_15/training/images/Pead_haricot_00538_i750.jpg'"
            ]
          },
          "metadata": {
            "tags": []
          },
          "execution_count": 24
        },
        {
          "output_type": "execute_result",
          "data": {
            "application/vnd.google.colaboratory.intrinsic+json": {
              "type": "string"
            },
            "text/plain": [
              "'/content/Development_Dataset_15/training/masks/Pead_haricot_00538_i750.png'"
            ]
          },
          "metadata": {
            "tags": []
          },
          "execution_count": 24
        },
        {
          "output_type": "execute_result",
          "data": {
            "application/vnd.google.colaboratory.intrinsic+json": {
              "type": "string"
            },
            "text/plain": [
              "'/content/Development_Dataset_15/training/images/Pead_haricot_00516_i750.jpg'"
            ]
          },
          "metadata": {
            "tags": []
          },
          "execution_count": 24
        },
        {
          "output_type": "execute_result",
          "data": {
            "application/vnd.google.colaboratory.intrinsic+json": {
              "type": "string"
            },
            "text/plain": [
              "'/content/Development_Dataset_15/training/masks/Pead_haricot_00516_i750.png'"
            ]
          },
          "metadata": {
            "tags": []
          },
          "execution_count": 24
        },
        {
          "output_type": "execute_result",
          "data": {
            "application/vnd.google.colaboratory.intrinsic+json": {
              "type": "string"
            },
            "text/plain": [
              "'/content/Development_Dataset_15/training/images/Pead_haricot_00479_i750.jpg'"
            ]
          },
          "metadata": {
            "tags": []
          },
          "execution_count": 24
        },
        {
          "output_type": "execute_result",
          "data": {
            "application/vnd.google.colaboratory.intrinsic+json": {
              "type": "string"
            },
            "text/plain": [
              "'/content/Development_Dataset_15/training/masks/Pead_haricot_00479_i750.png'"
            ]
          },
          "metadata": {
            "tags": []
          },
          "execution_count": 24
        },
        {
          "output_type": "execute_result",
          "data": {
            "application/vnd.google.colaboratory.intrinsic+json": {
              "type": "string"
            },
            "text/plain": [
              "'/content/Development_Dataset_15/training/images/Pead_haricot_00310_i750.jpg'"
            ]
          },
          "metadata": {
            "tags": []
          },
          "execution_count": 24
        },
        {
          "output_type": "execute_result",
          "data": {
            "application/vnd.google.colaboratory.intrinsic+json": {
              "type": "string"
            },
            "text/plain": [
              "'/content/Development_Dataset_15/training/masks/Pead_haricot_00310_i750.png'"
            ]
          },
          "metadata": {
            "tags": []
          },
          "execution_count": 24
        },
        {
          "output_type": "execute_result",
          "data": {
            "application/vnd.google.colaboratory.intrinsic+json": {
              "type": "string"
            },
            "text/plain": [
              "'/content/Development_Dataset_15/training/images/Pead_haricot_00171_i750.jpg'"
            ]
          },
          "metadata": {
            "tags": []
          },
          "execution_count": 24
        },
        {
          "output_type": "execute_result",
          "data": {
            "application/vnd.google.colaboratory.intrinsic+json": {
              "type": "string"
            },
            "text/plain": [
              "'/content/Development_Dataset_15/training/masks/Pead_haricot_00171_i750.png'"
            ]
          },
          "metadata": {
            "tags": []
          },
          "execution_count": 24
        },
        {
          "output_type": "execute_result",
          "data": {
            "application/vnd.google.colaboratory.intrinsic+json": {
              "type": "string"
            },
            "text/plain": [
              "'/content/Development_Dataset_15/training/images/Pead_haricot_00437_i750.jpg'"
            ]
          },
          "metadata": {
            "tags": []
          },
          "execution_count": 24
        },
        {
          "output_type": "execute_result",
          "data": {
            "application/vnd.google.colaboratory.intrinsic+json": {
              "type": "string"
            },
            "text/plain": [
              "'/content/Development_Dataset_15/training/masks/Pead_haricot_00437_i750.png'"
            ]
          },
          "metadata": {
            "tags": []
          },
          "execution_count": 24
        },
        {
          "output_type": "execute_result",
          "data": {
            "application/vnd.google.colaboratory.intrinsic+json": {
              "type": "string"
            },
            "text/plain": [
              "'/content/Development_Dataset_15/training/images/Pead_haricot_00300_i750.jpg'"
            ]
          },
          "metadata": {
            "tags": []
          },
          "execution_count": 24
        },
        {
          "output_type": "execute_result",
          "data": {
            "application/vnd.google.colaboratory.intrinsic+json": {
              "type": "string"
            },
            "text/plain": [
              "'/content/Development_Dataset_15/training/masks/Pead_haricot_00300_i750.png'"
            ]
          },
          "metadata": {
            "tags": []
          },
          "execution_count": 24
        },
        {
          "output_type": "execute_result",
          "data": {
            "application/vnd.google.colaboratory.intrinsic+json": {
              "type": "string"
            },
            "text/plain": [
              "'/content/Development_Dataset_15/training/images/Pead_haricot_00707_i750.jpg'"
            ]
          },
          "metadata": {
            "tags": []
          },
          "execution_count": 24
        },
        {
          "output_type": "execute_result",
          "data": {
            "application/vnd.google.colaboratory.intrinsic+json": {
              "type": "string"
            },
            "text/plain": [
              "'/content/Development_Dataset_15/training/masks/Pead_haricot_00707_i750.png'"
            ]
          },
          "metadata": {
            "tags": []
          },
          "execution_count": 24
        },
        {
          "output_type": "execute_result",
          "data": {
            "application/vnd.google.colaboratory.intrinsic+json": {
              "type": "string"
            },
            "text/plain": [
              "'/content/Development_Dataset_15/training/images/Pead_haricot_00153_i750.jpg'"
            ]
          },
          "metadata": {
            "tags": []
          },
          "execution_count": 24
        },
        {
          "output_type": "execute_result",
          "data": {
            "application/vnd.google.colaboratory.intrinsic+json": {
              "type": "string"
            },
            "text/plain": [
              "'/content/Development_Dataset_15/training/masks/Pead_haricot_00153_i750.png'"
            ]
          },
          "metadata": {
            "tags": []
          },
          "execution_count": 24
        },
        {
          "output_type": "execute_result",
          "data": {
            "application/vnd.google.colaboratory.intrinsic+json": {
              "type": "string"
            },
            "text/plain": [
              "'/content/Development_Dataset_15/training/images/Pead_haricot_00460_i750.jpg'"
            ]
          },
          "metadata": {
            "tags": []
          },
          "execution_count": 24
        },
        {
          "output_type": "execute_result",
          "data": {
            "application/vnd.google.colaboratory.intrinsic+json": {
              "type": "string"
            },
            "text/plain": [
              "'/content/Development_Dataset_15/training/masks/Pead_haricot_00460_i750.png'"
            ]
          },
          "metadata": {
            "tags": []
          },
          "execution_count": 24
        },
        {
          "output_type": "execute_result",
          "data": {
            "application/vnd.google.colaboratory.intrinsic+json": {
              "type": "string"
            },
            "text/plain": [
              "'/content/Development_Dataset_15/training/images/Pead_haricot_00496_i750.jpg'"
            ]
          },
          "metadata": {
            "tags": []
          },
          "execution_count": 24
        },
        {
          "output_type": "execute_result",
          "data": {
            "application/vnd.google.colaboratory.intrinsic+json": {
              "type": "string"
            },
            "text/plain": [
              "'/content/Development_Dataset_15/training/masks/Pead_haricot_00496_i750.png'"
            ]
          },
          "metadata": {
            "tags": []
          },
          "execution_count": 24
        },
        {
          "output_type": "execute_result",
          "data": {
            "application/vnd.google.colaboratory.intrinsic+json": {
              "type": "string"
            },
            "text/plain": [
              "'/content/Development_Dataset_15/training/images/Pead_haricot_00701_i750.jpg'"
            ]
          },
          "metadata": {
            "tags": []
          },
          "execution_count": 24
        },
        {
          "output_type": "execute_result",
          "data": {
            "application/vnd.google.colaboratory.intrinsic+json": {
              "type": "string"
            },
            "text/plain": [
              "'/content/Development_Dataset_15/training/masks/Pead_haricot_00701_i750.png'"
            ]
          },
          "metadata": {
            "tags": []
          },
          "execution_count": 24
        },
        {
          "output_type": "execute_result",
          "data": {
            "application/vnd.google.colaboratory.intrinsic+json": {
              "type": "string"
            },
            "text/plain": [
              "'/content/Development_Dataset_15/training/images/Pead_haricot_00215_i750.jpg'"
            ]
          },
          "metadata": {
            "tags": []
          },
          "execution_count": 24
        },
        {
          "output_type": "execute_result",
          "data": {
            "application/vnd.google.colaboratory.intrinsic+json": {
              "type": "string"
            },
            "text/plain": [
              "'/content/Development_Dataset_15/training/masks/Pead_haricot_00215_i750.png'"
            ]
          },
          "metadata": {
            "tags": []
          },
          "execution_count": 24
        },
        {
          "output_type": "execute_result",
          "data": {
            "application/vnd.google.colaboratory.intrinsic+json": {
              "type": "string"
            },
            "text/plain": [
              "'/content/Development_Dataset_15/training/images/Pead_haricot_00622_i750.jpg'"
            ]
          },
          "metadata": {
            "tags": []
          },
          "execution_count": 24
        },
        {
          "output_type": "execute_result",
          "data": {
            "application/vnd.google.colaboratory.intrinsic+json": {
              "type": "string"
            },
            "text/plain": [
              "'/content/Development_Dataset_15/training/masks/Pead_haricot_00622_i750.png'"
            ]
          },
          "metadata": {
            "tags": []
          },
          "execution_count": 24
        },
        {
          "output_type": "execute_result",
          "data": {
            "application/vnd.google.colaboratory.intrinsic+json": {
              "type": "string"
            },
            "text/plain": [
              "'/content/Development_Dataset_15/training/images/Pead_haricot_00541_i750.jpg'"
            ]
          },
          "metadata": {
            "tags": []
          },
          "execution_count": 24
        },
        {
          "output_type": "execute_result",
          "data": {
            "application/vnd.google.colaboratory.intrinsic+json": {
              "type": "string"
            },
            "text/plain": [
              "'/content/Development_Dataset_15/training/masks/Pead_haricot_00541_i750.png'"
            ]
          },
          "metadata": {
            "tags": []
          },
          "execution_count": 24
        },
        {
          "output_type": "execute_result",
          "data": {
            "application/vnd.google.colaboratory.intrinsic+json": {
              "type": "string"
            },
            "text/plain": [
              "'/content/Development_Dataset_15/training/images/Pead_haricot_00294_i750.jpg'"
            ]
          },
          "metadata": {
            "tags": []
          },
          "execution_count": 24
        },
        {
          "output_type": "execute_result",
          "data": {
            "application/vnd.google.colaboratory.intrinsic+json": {
              "type": "string"
            },
            "text/plain": [
              "'/content/Development_Dataset_15/training/masks/Pead_haricot_00294_i750.png'"
            ]
          },
          "metadata": {
            "tags": []
          },
          "execution_count": 24
        },
        {
          "output_type": "execute_result",
          "data": {
            "application/vnd.google.colaboratory.intrinsic+json": {
              "type": "string"
            },
            "text/plain": [
              "'/content/Development_Dataset_15/training/images/Pead_haricot_00688_i750.jpg'"
            ]
          },
          "metadata": {
            "tags": []
          },
          "execution_count": 24
        },
        {
          "output_type": "execute_result",
          "data": {
            "application/vnd.google.colaboratory.intrinsic+json": {
              "type": "string"
            },
            "text/plain": [
              "'/content/Development_Dataset_15/training/masks/Pead_haricot_00688_i750.png'"
            ]
          },
          "metadata": {
            "tags": []
          },
          "execution_count": 24
        },
        {
          "output_type": "execute_result",
          "data": {
            "application/vnd.google.colaboratory.intrinsic+json": {
              "type": "string"
            },
            "text/plain": [
              "'/content/Development_Dataset_15/training/images/Pead_haricot_00332_i750.jpg'"
            ]
          },
          "metadata": {
            "tags": []
          },
          "execution_count": 24
        },
        {
          "output_type": "execute_result",
          "data": {
            "application/vnd.google.colaboratory.intrinsic+json": {
              "type": "string"
            },
            "text/plain": [
              "'/content/Development_Dataset_15/training/masks/Pead_haricot_00332_i750.png'"
            ]
          },
          "metadata": {
            "tags": []
          },
          "execution_count": 24
        },
        {
          "output_type": "execute_result",
          "data": {
            "application/vnd.google.colaboratory.intrinsic+json": {
              "type": "string"
            },
            "text/plain": [
              "'/content/Development_Dataset_15/training/images/Pead_haricot_00602_i750.jpg'"
            ]
          },
          "metadata": {
            "tags": []
          },
          "execution_count": 24
        },
        {
          "output_type": "execute_result",
          "data": {
            "application/vnd.google.colaboratory.intrinsic+json": {
              "type": "string"
            },
            "text/plain": [
              "'/content/Development_Dataset_15/training/masks/Pead_haricot_00602_i750.png'"
            ]
          },
          "metadata": {
            "tags": []
          },
          "execution_count": 24
        },
        {
          "output_type": "execute_result",
          "data": {
            "application/vnd.google.colaboratory.intrinsic+json": {
              "type": "string"
            },
            "text/plain": [
              "'/content/Development_Dataset_15/training/images/Pead_haricot_00685_i750.jpg'"
            ]
          },
          "metadata": {
            "tags": []
          },
          "execution_count": 24
        },
        {
          "output_type": "execute_result",
          "data": {
            "application/vnd.google.colaboratory.intrinsic+json": {
              "type": "string"
            },
            "text/plain": [
              "'/content/Development_Dataset_15/training/masks/Pead_haricot_00685_i750.png'"
            ]
          },
          "metadata": {
            "tags": []
          },
          "execution_count": 24
        },
        {
          "output_type": "execute_result",
          "data": {
            "application/vnd.google.colaboratory.intrinsic+json": {
              "type": "string"
            },
            "text/plain": [
              "'/content/Development_Dataset_15/training/images/Pead_haricot_00503_i750.jpg'"
            ]
          },
          "metadata": {
            "tags": []
          },
          "execution_count": 24
        },
        {
          "output_type": "execute_result",
          "data": {
            "application/vnd.google.colaboratory.intrinsic+json": {
              "type": "string"
            },
            "text/plain": [
              "'/content/Development_Dataset_15/training/masks/Pead_haricot_00503_i750.png'"
            ]
          },
          "metadata": {
            "tags": []
          },
          "execution_count": 24
        },
        {
          "output_type": "execute_result",
          "data": {
            "application/vnd.google.colaboratory.intrinsic+json": {
              "type": "string"
            },
            "text/plain": [
              "'/content/Development_Dataset_15/training/images/Pead_haricot_00730_i750.jpg'"
            ]
          },
          "metadata": {
            "tags": []
          },
          "execution_count": 24
        },
        {
          "output_type": "execute_result",
          "data": {
            "application/vnd.google.colaboratory.intrinsic+json": {
              "type": "string"
            },
            "text/plain": [
              "'/content/Development_Dataset_15/training/masks/Pead_haricot_00730_i750.png'"
            ]
          },
          "metadata": {
            "tags": []
          },
          "execution_count": 24
        },
        {
          "output_type": "execute_result",
          "data": {
            "application/vnd.google.colaboratory.intrinsic+json": {
              "type": "string"
            },
            "text/plain": [
              "'/content/Development_Dataset_15/training/images/Pead_haricot_00665_i750.jpg'"
            ]
          },
          "metadata": {
            "tags": []
          },
          "execution_count": 24
        },
        {
          "output_type": "execute_result",
          "data": {
            "application/vnd.google.colaboratory.intrinsic+json": {
              "type": "string"
            },
            "text/plain": [
              "'/content/Development_Dataset_15/training/masks/Pead_haricot_00665_i750.png'"
            ]
          },
          "metadata": {
            "tags": []
          },
          "execution_count": 24
        },
        {
          "output_type": "execute_result",
          "data": {
            "application/vnd.google.colaboratory.intrinsic+json": {
              "type": "string"
            },
            "text/plain": [
              "'/content/Development_Dataset_15/training/images/Pead_haricot_00218_i750.jpg'"
            ]
          },
          "metadata": {
            "tags": []
          },
          "execution_count": 24
        },
        {
          "output_type": "execute_result",
          "data": {
            "application/vnd.google.colaboratory.intrinsic+json": {
              "type": "string"
            },
            "text/plain": [
              "'/content/Development_Dataset_15/training/masks/Pead_haricot_00218_i750.png'"
            ]
          },
          "metadata": {
            "tags": []
          },
          "execution_count": 24
        },
        {
          "output_type": "execute_result",
          "data": {
            "application/vnd.google.colaboratory.intrinsic+json": {
              "type": "string"
            },
            "text/plain": [
              "'/content/Development_Dataset_15/training/images/Pead_haricot_00006_i750.jpg'"
            ]
          },
          "metadata": {
            "tags": []
          },
          "execution_count": 24
        },
        {
          "output_type": "execute_result",
          "data": {
            "application/vnd.google.colaboratory.intrinsic+json": {
              "type": "string"
            },
            "text/plain": [
              "'/content/Development_Dataset_15/training/masks/Pead_haricot_00006_i750.png'"
            ]
          },
          "metadata": {
            "tags": []
          },
          "execution_count": 24
        },
        {
          "output_type": "execute_result",
          "data": {
            "application/vnd.google.colaboratory.intrinsic+json": {
              "type": "string"
            },
            "text/plain": [
              "'/content/Development_Dataset_15/training/images/Pead_haricot_00671_i750.jpg'"
            ]
          },
          "metadata": {
            "tags": []
          },
          "execution_count": 24
        },
        {
          "output_type": "execute_result",
          "data": {
            "application/vnd.google.colaboratory.intrinsic+json": {
              "type": "string"
            },
            "text/plain": [
              "'/content/Development_Dataset_15/training/masks/Pead_haricot_00671_i750.png'"
            ]
          },
          "metadata": {
            "tags": []
          },
          "execution_count": 24
        },
        {
          "output_type": "execute_result",
          "data": {
            "application/vnd.google.colaboratory.intrinsic+json": {
              "type": "string"
            },
            "text/plain": [
              "'/content/Development_Dataset_15/training/images/Pead_haricot_00403_i750.jpg'"
            ]
          },
          "metadata": {
            "tags": []
          },
          "execution_count": 24
        },
        {
          "output_type": "execute_result",
          "data": {
            "application/vnd.google.colaboratory.intrinsic+json": {
              "type": "string"
            },
            "text/plain": [
              "'/content/Development_Dataset_15/training/masks/Pead_haricot_00403_i750.png'"
            ]
          },
          "metadata": {
            "tags": []
          },
          "execution_count": 24
        },
        {
          "output_type": "execute_result",
          "data": {
            "application/vnd.google.colaboratory.intrinsic+json": {
              "type": "string"
            },
            "text/plain": [
              "'/content/Development_Dataset_15/training/images/Pead_haricot_00649_i750.jpg'"
            ]
          },
          "metadata": {
            "tags": []
          },
          "execution_count": 24
        },
        {
          "output_type": "execute_result",
          "data": {
            "application/vnd.google.colaboratory.intrinsic+json": {
              "type": "string"
            },
            "text/plain": [
              "'/content/Development_Dataset_15/training/masks/Pead_haricot_00649_i750.png'"
            ]
          },
          "metadata": {
            "tags": []
          },
          "execution_count": 24
        },
        {
          "output_type": "execute_result",
          "data": {
            "application/vnd.google.colaboratory.intrinsic+json": {
              "type": "string"
            },
            "text/plain": [
              "'/content/Development_Dataset_15/validation/images/Pead_haricot_00089_i750.jpg'"
            ]
          },
          "metadata": {
            "tags": []
          },
          "execution_count": 24
        },
        {
          "output_type": "execute_result",
          "data": {
            "application/vnd.google.colaboratory.intrinsic+json": {
              "type": "string"
            },
            "text/plain": [
              "'/content/Development_Dataset_15/validation/masks/Pead_haricot_00089_i750.png'"
            ]
          },
          "metadata": {
            "tags": []
          },
          "execution_count": 24
        },
        {
          "output_type": "execute_result",
          "data": {
            "application/vnd.google.colaboratory.intrinsic+json": {
              "type": "string"
            },
            "text/plain": [
              "'/content/Development_Dataset_15/validation/images/Pead_haricot_00356_i750.jpg'"
            ]
          },
          "metadata": {
            "tags": []
          },
          "execution_count": 24
        },
        {
          "output_type": "execute_result",
          "data": {
            "application/vnd.google.colaboratory.intrinsic+json": {
              "type": "string"
            },
            "text/plain": [
              "'/content/Development_Dataset_15/validation/masks/Pead_haricot_00356_i750.png'"
            ]
          },
          "metadata": {
            "tags": []
          },
          "execution_count": 24
        },
        {
          "output_type": "execute_result",
          "data": {
            "application/vnd.google.colaboratory.intrinsic+json": {
              "type": "string"
            },
            "text/plain": [
              "'/content/Development_Dataset_15/validation/images/Pead_haricot_00535_i750.jpg'"
            ]
          },
          "metadata": {
            "tags": []
          },
          "execution_count": 24
        },
        {
          "output_type": "execute_result",
          "data": {
            "application/vnd.google.colaboratory.intrinsic+json": {
              "type": "string"
            },
            "text/plain": [
              "'/content/Development_Dataset_15/validation/masks/Pead_haricot_00535_i750.png'"
            ]
          },
          "metadata": {
            "tags": []
          },
          "execution_count": 24
        },
        {
          "output_type": "execute_result",
          "data": {
            "application/vnd.google.colaboratory.intrinsic+json": {
              "type": "string"
            },
            "text/plain": [
              "'/content/Development_Dataset_15/validation/images/Pead_haricot_00506_i750.jpg'"
            ]
          },
          "metadata": {
            "tags": []
          },
          "execution_count": 24
        },
        {
          "output_type": "execute_result",
          "data": {
            "application/vnd.google.colaboratory.intrinsic+json": {
              "type": "string"
            },
            "text/plain": [
              "'/content/Development_Dataset_15/validation/masks/Pead_haricot_00506_i750.png'"
            ]
          },
          "metadata": {
            "tags": []
          },
          "execution_count": 24
        },
        {
          "output_type": "execute_result",
          "data": {
            "application/vnd.google.colaboratory.intrinsic+json": {
              "type": "string"
            },
            "text/plain": [
              "'/content/Development_Dataset_15/validation/images/Pead_haricot_00150_i750.jpg'"
            ]
          },
          "metadata": {
            "tags": []
          },
          "execution_count": 24
        },
        {
          "output_type": "execute_result",
          "data": {
            "application/vnd.google.colaboratory.intrinsic+json": {
              "type": "string"
            },
            "text/plain": [
              "'/content/Development_Dataset_15/validation/masks/Pead_haricot_00150_i750.png'"
            ]
          },
          "metadata": {
            "tags": []
          },
          "execution_count": 24
        },
        {
          "output_type": "execute_result",
          "data": {
            "application/vnd.google.colaboratory.intrinsic+json": {
              "type": "string"
            },
            "text/plain": [
              "'/content/Development_Dataset_15/validation/images/Pead_haricot_00016_i750.jpg'"
            ]
          },
          "metadata": {
            "tags": []
          },
          "execution_count": 24
        },
        {
          "output_type": "execute_result",
          "data": {
            "application/vnd.google.colaboratory.intrinsic+json": {
              "type": "string"
            },
            "text/plain": [
              "'/content/Development_Dataset_15/validation/masks/Pead_haricot_00016_i750.png'"
            ]
          },
          "metadata": {
            "tags": []
          },
          "execution_count": 24
        },
        {
          "output_type": "execute_result",
          "data": {
            "application/vnd.google.colaboratory.intrinsic+json": {
              "type": "string"
            },
            "text/plain": [
              "'/content/Development_Dataset_15/validation/images/Pead_haricot_00422_i750.jpg'"
            ]
          },
          "metadata": {
            "tags": []
          },
          "execution_count": 24
        },
        {
          "output_type": "execute_result",
          "data": {
            "application/vnd.google.colaboratory.intrinsic+json": {
              "type": "string"
            },
            "text/plain": [
              "'/content/Development_Dataset_15/validation/masks/Pead_haricot_00422_i750.png'"
            ]
          },
          "metadata": {
            "tags": []
          },
          "execution_count": 24
        },
        {
          "output_type": "execute_result",
          "data": {
            "application/vnd.google.colaboratory.intrinsic+json": {
              "type": "string"
            },
            "text/plain": [
              "'/content/Development_Dataset_15/validation/images/Pead_haricot_00585_i750.jpg'"
            ]
          },
          "metadata": {
            "tags": []
          },
          "execution_count": 24
        },
        {
          "output_type": "execute_result",
          "data": {
            "application/vnd.google.colaboratory.intrinsic+json": {
              "type": "string"
            },
            "text/plain": [
              "'/content/Development_Dataset_15/validation/masks/Pead_haricot_00585_i750.png'"
            ]
          },
          "metadata": {
            "tags": []
          },
          "execution_count": 24
        },
        {
          "output_type": "execute_result",
          "data": {
            "application/vnd.google.colaboratory.intrinsic+json": {
              "type": "string"
            },
            "text/plain": [
              "'/content/Development_Dataset_15/validation/images/Pead_haricot_00625_i750.jpg'"
            ]
          },
          "metadata": {
            "tags": []
          },
          "execution_count": 24
        },
        {
          "output_type": "execute_result",
          "data": {
            "application/vnd.google.colaboratory.intrinsic+json": {
              "type": "string"
            },
            "text/plain": [
              "'/content/Development_Dataset_15/validation/masks/Pead_haricot_00625_i750.png'"
            ]
          },
          "metadata": {
            "tags": []
          },
          "execution_count": 24
        },
        {
          "output_type": "execute_result",
          "data": {
            "application/vnd.google.colaboratory.intrinsic+json": {
              "type": "string"
            },
            "text/plain": [
              "'/content/Development_Dataset_15/validation/images/Pead_haricot_00107_i750.jpg'"
            ]
          },
          "metadata": {
            "tags": []
          },
          "execution_count": 24
        },
        {
          "output_type": "execute_result",
          "data": {
            "application/vnd.google.colaboratory.intrinsic+json": {
              "type": "string"
            },
            "text/plain": [
              "'/content/Development_Dataset_15/validation/masks/Pead_haricot_00107_i750.png'"
            ]
          },
          "metadata": {
            "tags": []
          },
          "execution_count": 24
        },
        {
          "output_type": "execute_result",
          "data": {
            "application/vnd.google.colaboratory.intrinsic+json": {
              "type": "string"
            },
            "text/plain": [
              "'/content/Development_Dataset_15/validation/images/Pead_haricot_00121_i750.jpg'"
            ]
          },
          "metadata": {
            "tags": []
          },
          "execution_count": 24
        },
        {
          "output_type": "execute_result",
          "data": {
            "application/vnd.google.colaboratory.intrinsic+json": {
              "type": "string"
            },
            "text/plain": [
              "'/content/Development_Dataset_15/validation/masks/Pead_haricot_00121_i750.png'"
            ]
          },
          "metadata": {
            "tags": []
          },
          "execution_count": 24
        },
        {
          "output_type": "execute_result",
          "data": {
            "application/vnd.google.colaboratory.intrinsic+json": {
              "type": "string"
            },
            "text/plain": [
              "'/content/Development_Dataset_15/validation/images/Pead_haricot_00147_i750.jpg'"
            ]
          },
          "metadata": {
            "tags": []
          },
          "execution_count": 24
        },
        {
          "output_type": "execute_result",
          "data": {
            "application/vnd.google.colaboratory.intrinsic+json": {
              "type": "string"
            },
            "text/plain": [
              "'/content/Development_Dataset_15/validation/masks/Pead_haricot_00147_i750.png'"
            ]
          },
          "metadata": {
            "tags": []
          },
          "execution_count": 24
        },
        {
          "output_type": "execute_result",
          "data": {
            "application/vnd.google.colaboratory.intrinsic+json": {
              "type": "string"
            },
            "text/plain": [
              "'/content/Development_Dataset_15/validation/images/Pead_haricot_00313_i750.jpg'"
            ]
          },
          "metadata": {
            "tags": []
          },
          "execution_count": 24
        },
        {
          "output_type": "execute_result",
          "data": {
            "application/vnd.google.colaboratory.intrinsic+json": {
              "type": "string"
            },
            "text/plain": [
              "'/content/Development_Dataset_15/validation/masks/Pead_haricot_00313_i750.png'"
            ]
          },
          "metadata": {
            "tags": []
          },
          "execution_count": 24
        },
        {
          "output_type": "execute_result",
          "data": {
            "application/vnd.google.colaboratory.intrinsic+json": {
              "type": "string"
            },
            "text/plain": [
              "'/content/Development_Dataset_15/validation/images/Pead_haricot_00322_i750.jpg'"
            ]
          },
          "metadata": {
            "tags": []
          },
          "execution_count": 24
        },
        {
          "output_type": "execute_result",
          "data": {
            "application/vnd.google.colaboratory.intrinsic+json": {
              "type": "string"
            },
            "text/plain": [
              "'/content/Development_Dataset_15/validation/masks/Pead_haricot_00322_i750.png'"
            ]
          },
          "metadata": {
            "tags": []
          },
          "execution_count": 24
        },
        {
          "output_type": "execute_result",
          "data": {
            "application/vnd.google.colaboratory.intrinsic+json": {
              "type": "string"
            },
            "text/plain": [
              "'/content/Development_Dataset_15/training/images/Pead_mais_00739_i900.jpg'"
            ]
          },
          "metadata": {
            "tags": []
          },
          "execution_count": 24
        },
        {
          "output_type": "execute_result",
          "data": {
            "application/vnd.google.colaboratory.intrinsic+json": {
              "type": "string"
            },
            "text/plain": [
              "'/content/Development_Dataset_15/training/masks/Pead_mais_00739_i900.png'"
            ]
          },
          "metadata": {
            "tags": []
          },
          "execution_count": 24
        },
        {
          "output_type": "execute_result",
          "data": {
            "application/vnd.google.colaboratory.intrinsic+json": {
              "type": "string"
            },
            "text/plain": [
              "'/content/Development_Dataset_15/training/images/Pead_mais_00375_i900.jpg'"
            ]
          },
          "metadata": {
            "tags": []
          },
          "execution_count": 24
        },
        {
          "output_type": "execute_result",
          "data": {
            "application/vnd.google.colaboratory.intrinsic+json": {
              "type": "string"
            },
            "text/plain": [
              "'/content/Development_Dataset_15/training/masks/Pead_mais_00375_i900.png'"
            ]
          },
          "metadata": {
            "tags": []
          },
          "execution_count": 24
        },
        {
          "output_type": "execute_result",
          "data": {
            "application/vnd.google.colaboratory.intrinsic+json": {
              "type": "string"
            },
            "text/plain": [
              "'/content/Development_Dataset_15/training/images/Pead_mais_00148_i900.jpg'"
            ]
          },
          "metadata": {
            "tags": []
          },
          "execution_count": 24
        },
        {
          "output_type": "execute_result",
          "data": {
            "application/vnd.google.colaboratory.intrinsic+json": {
              "type": "string"
            },
            "text/plain": [
              "'/content/Development_Dataset_15/training/masks/Pead_mais_00148_i900.png'"
            ]
          },
          "metadata": {
            "tags": []
          },
          "execution_count": 24
        },
        {
          "output_type": "execute_result",
          "data": {
            "application/vnd.google.colaboratory.intrinsic+json": {
              "type": "string"
            },
            "text/plain": [
              "'/content/Development_Dataset_15/training/images/Pead_mais_00727_i900.jpg'"
            ]
          },
          "metadata": {
            "tags": []
          },
          "execution_count": 24
        },
        {
          "output_type": "execute_result",
          "data": {
            "application/vnd.google.colaboratory.intrinsic+json": {
              "type": "string"
            },
            "text/plain": [
              "'/content/Development_Dataset_15/training/masks/Pead_mais_00727_i900.png'"
            ]
          },
          "metadata": {
            "tags": []
          },
          "execution_count": 24
        },
        {
          "output_type": "execute_result",
          "data": {
            "application/vnd.google.colaboratory.intrinsic+json": {
              "type": "string"
            },
            "text/plain": [
              "'/content/Development_Dataset_15/training/images/Pead_mais_00496_i900.jpg'"
            ]
          },
          "metadata": {
            "tags": []
          },
          "execution_count": 24
        },
        {
          "output_type": "execute_result",
          "data": {
            "application/vnd.google.colaboratory.intrinsic+json": {
              "type": "string"
            },
            "text/plain": [
              "'/content/Development_Dataset_15/training/masks/Pead_mais_00496_i900.png'"
            ]
          },
          "metadata": {
            "tags": []
          },
          "execution_count": 24
        },
        {
          "output_type": "execute_result",
          "data": {
            "application/vnd.google.colaboratory.intrinsic+json": {
              "type": "string"
            },
            "text/plain": [
              "'/content/Development_Dataset_15/training/images/Pead_mais_00535_i900.jpg'"
            ]
          },
          "metadata": {
            "tags": []
          },
          "execution_count": 24
        },
        {
          "output_type": "execute_result",
          "data": {
            "application/vnd.google.colaboratory.intrinsic+json": {
              "type": "string"
            },
            "text/plain": [
              "'/content/Development_Dataset_15/training/masks/Pead_mais_00535_i900.png'"
            ]
          },
          "metadata": {
            "tags": []
          },
          "execution_count": 24
        },
        {
          "output_type": "execute_result",
          "data": {
            "application/vnd.google.colaboratory.intrinsic+json": {
              "type": "string"
            },
            "text/plain": [
              "'/content/Development_Dataset_15/training/images/Pead_mais_00371_i900.jpg'"
            ]
          },
          "metadata": {
            "tags": []
          },
          "execution_count": 24
        },
        {
          "output_type": "execute_result",
          "data": {
            "application/vnd.google.colaboratory.intrinsic+json": {
              "type": "string"
            },
            "text/plain": [
              "'/content/Development_Dataset_15/training/masks/Pead_mais_00371_i900.png'"
            ]
          },
          "metadata": {
            "tags": []
          },
          "execution_count": 24
        },
        {
          "output_type": "execute_result",
          "data": {
            "application/vnd.google.colaboratory.intrinsic+json": {
              "type": "string"
            },
            "text/plain": [
              "'/content/Development_Dataset_15/training/images/Pead_mais_00126_i900.jpg'"
            ]
          },
          "metadata": {
            "tags": []
          },
          "execution_count": 24
        },
        {
          "output_type": "execute_result",
          "data": {
            "application/vnd.google.colaboratory.intrinsic+json": {
              "type": "string"
            },
            "text/plain": [
              "'/content/Development_Dataset_15/training/masks/Pead_mais_00126_i900.png'"
            ]
          },
          "metadata": {
            "tags": []
          },
          "execution_count": 24
        },
        {
          "output_type": "execute_result",
          "data": {
            "application/vnd.google.colaboratory.intrinsic+json": {
              "type": "string"
            },
            "text/plain": [
              "'/content/Development_Dataset_15/training/images/Pead_mais_00062_i900.jpg'"
            ]
          },
          "metadata": {
            "tags": []
          },
          "execution_count": 24
        },
        {
          "output_type": "execute_result",
          "data": {
            "application/vnd.google.colaboratory.intrinsic+json": {
              "type": "string"
            },
            "text/plain": [
              "'/content/Development_Dataset_15/training/masks/Pead_mais_00062_i900.png'"
            ]
          },
          "metadata": {
            "tags": []
          },
          "execution_count": 24
        },
        {
          "output_type": "execute_result",
          "data": {
            "application/vnd.google.colaboratory.intrinsic+json": {
              "type": "string"
            },
            "text/plain": [
              "'/content/Development_Dataset_15/training/images/Pead_mais_00416_i900.jpg'"
            ]
          },
          "metadata": {
            "tags": []
          },
          "execution_count": 24
        },
        {
          "output_type": "execute_result",
          "data": {
            "application/vnd.google.colaboratory.intrinsic+json": {
              "type": "string"
            },
            "text/plain": [
              "'/content/Development_Dataset_15/training/masks/Pead_mais_00416_i900.png'"
            ]
          },
          "metadata": {
            "tags": []
          },
          "execution_count": 24
        },
        {
          "output_type": "execute_result",
          "data": {
            "application/vnd.google.colaboratory.intrinsic+json": {
              "type": "string"
            },
            "text/plain": [
              "'/content/Development_Dataset_15/training/images/Pead_mais_00662_i900.jpg'"
            ]
          },
          "metadata": {
            "tags": []
          },
          "execution_count": 24
        },
        {
          "output_type": "execute_result",
          "data": {
            "application/vnd.google.colaboratory.intrinsic+json": {
              "type": "string"
            },
            "text/plain": [
              "'/content/Development_Dataset_15/training/masks/Pead_mais_00662_i900.png'"
            ]
          },
          "metadata": {
            "tags": []
          },
          "execution_count": 24
        },
        {
          "output_type": "execute_result",
          "data": {
            "application/vnd.google.colaboratory.intrinsic+json": {
              "type": "string"
            },
            "text/plain": [
              "'/content/Development_Dataset_15/training/images/Pead_mais_00105_i900.jpg'"
            ]
          },
          "metadata": {
            "tags": []
          },
          "execution_count": 24
        },
        {
          "output_type": "execute_result",
          "data": {
            "application/vnd.google.colaboratory.intrinsic+json": {
              "type": "string"
            },
            "text/plain": [
              "'/content/Development_Dataset_15/training/masks/Pead_mais_00105_i900.png'"
            ]
          },
          "metadata": {
            "tags": []
          },
          "execution_count": 24
        },
        {
          "output_type": "execute_result",
          "data": {
            "application/vnd.google.colaboratory.intrinsic+json": {
              "type": "string"
            },
            "text/plain": [
              "'/content/Development_Dataset_15/training/images/Pead_mais_00291_i900.jpg'"
            ]
          },
          "metadata": {
            "tags": []
          },
          "execution_count": 24
        },
        {
          "output_type": "execute_result",
          "data": {
            "application/vnd.google.colaboratory.intrinsic+json": {
              "type": "string"
            },
            "text/plain": [
              "'/content/Development_Dataset_15/training/masks/Pead_mais_00291_i900.png'"
            ]
          },
          "metadata": {
            "tags": []
          },
          "execution_count": 24
        },
        {
          "output_type": "execute_result",
          "data": {
            "application/vnd.google.colaboratory.intrinsic+json": {
              "type": "string"
            },
            "text/plain": [
              "'/content/Development_Dataset_15/training/images/Pead_mais_00666_i900.jpg'"
            ]
          },
          "metadata": {
            "tags": []
          },
          "execution_count": 24
        },
        {
          "output_type": "execute_result",
          "data": {
            "application/vnd.google.colaboratory.intrinsic+json": {
              "type": "string"
            },
            "text/plain": [
              "'/content/Development_Dataset_15/training/masks/Pead_mais_00666_i900.png'"
            ]
          },
          "metadata": {
            "tags": []
          },
          "execution_count": 24
        },
        {
          "output_type": "execute_result",
          "data": {
            "application/vnd.google.colaboratory.intrinsic+json": {
              "type": "string"
            },
            "text/plain": [
              "'/content/Development_Dataset_15/training/images/Pead_mais_00809_i900.jpg'"
            ]
          },
          "metadata": {
            "tags": []
          },
          "execution_count": 24
        },
        {
          "output_type": "execute_result",
          "data": {
            "application/vnd.google.colaboratory.intrinsic+json": {
              "type": "string"
            },
            "text/plain": [
              "'/content/Development_Dataset_15/training/masks/Pead_mais_00809_i900.png'"
            ]
          },
          "metadata": {
            "tags": []
          },
          "execution_count": 24
        },
        {
          "output_type": "execute_result",
          "data": {
            "application/vnd.google.colaboratory.intrinsic+json": {
              "type": "string"
            },
            "text/plain": [
              "'/content/Development_Dataset_15/training/images/Pead_mais_00265_i900.jpg'"
            ]
          },
          "metadata": {
            "tags": []
          },
          "execution_count": 24
        },
        {
          "output_type": "execute_result",
          "data": {
            "application/vnd.google.colaboratory.intrinsic+json": {
              "type": "string"
            },
            "text/plain": [
              "'/content/Development_Dataset_15/training/masks/Pead_mais_00265_i900.png'"
            ]
          },
          "metadata": {
            "tags": []
          },
          "execution_count": 24
        },
        {
          "output_type": "execute_result",
          "data": {
            "application/vnd.google.colaboratory.intrinsic+json": {
              "type": "string"
            },
            "text/plain": [
              "'/content/Development_Dataset_15/training/images/Pead_mais_00407_i900.jpg'"
            ]
          },
          "metadata": {
            "tags": []
          },
          "execution_count": 24
        },
        {
          "output_type": "execute_result",
          "data": {
            "application/vnd.google.colaboratory.intrinsic+json": {
              "type": "string"
            },
            "text/plain": [
              "'/content/Development_Dataset_15/training/masks/Pead_mais_00407_i900.png'"
            ]
          },
          "metadata": {
            "tags": []
          },
          "execution_count": 24
        },
        {
          "output_type": "execute_result",
          "data": {
            "application/vnd.google.colaboratory.intrinsic+json": {
              "type": "string"
            },
            "text/plain": [
              "'/content/Development_Dataset_15/training/images/Pead_mais_00471_i900.jpg'"
            ]
          },
          "metadata": {
            "tags": []
          },
          "execution_count": 24
        },
        {
          "output_type": "execute_result",
          "data": {
            "application/vnd.google.colaboratory.intrinsic+json": {
              "type": "string"
            },
            "text/plain": [
              "'/content/Development_Dataset_15/training/masks/Pead_mais_00471_i900.png'"
            ]
          },
          "metadata": {
            "tags": []
          },
          "execution_count": 24
        },
        {
          "output_type": "execute_result",
          "data": {
            "application/vnd.google.colaboratory.intrinsic+json": {
              "type": "string"
            },
            "text/plain": [
              "'/content/Development_Dataset_15/training/images/Pead_mais_00118_i900.jpg'"
            ]
          },
          "metadata": {
            "tags": []
          },
          "execution_count": 24
        },
        {
          "output_type": "execute_result",
          "data": {
            "application/vnd.google.colaboratory.intrinsic+json": {
              "type": "string"
            },
            "text/plain": [
              "'/content/Development_Dataset_15/training/masks/Pead_mais_00118_i900.png'"
            ]
          },
          "metadata": {
            "tags": []
          },
          "execution_count": 24
        },
        {
          "output_type": "execute_result",
          "data": {
            "application/vnd.google.colaboratory.intrinsic+json": {
              "type": "string"
            },
            "text/plain": [
              "'/content/Development_Dataset_15/training/images/Pead_mais_00333_i900.jpg'"
            ]
          },
          "metadata": {
            "tags": []
          },
          "execution_count": 24
        },
        {
          "output_type": "execute_result",
          "data": {
            "application/vnd.google.colaboratory.intrinsic+json": {
              "type": "string"
            },
            "text/plain": [
              "'/content/Development_Dataset_15/training/masks/Pead_mais_00333_i900.png'"
            ]
          },
          "metadata": {
            "tags": []
          },
          "execution_count": 24
        },
        {
          "output_type": "execute_result",
          "data": {
            "application/vnd.google.colaboratory.intrinsic+json": {
              "type": "string"
            },
            "text/plain": [
              "'/content/Development_Dataset_15/training/images/Pead_mais_00367_i900.jpg'"
            ]
          },
          "metadata": {
            "tags": []
          },
          "execution_count": 24
        },
        {
          "output_type": "execute_result",
          "data": {
            "application/vnd.google.colaboratory.intrinsic+json": {
              "type": "string"
            },
            "text/plain": [
              "'/content/Development_Dataset_15/training/masks/Pead_mais_00367_i900.png'"
            ]
          },
          "metadata": {
            "tags": []
          },
          "execution_count": 24
        },
        {
          "output_type": "execute_result",
          "data": {
            "application/vnd.google.colaboratory.intrinsic+json": {
              "type": "string"
            },
            "text/plain": [
              "'/content/Development_Dataset_15/training/images/Pead_mais_00165_i900.jpg'"
            ]
          },
          "metadata": {
            "tags": []
          },
          "execution_count": 24
        },
        {
          "output_type": "execute_result",
          "data": {
            "application/vnd.google.colaboratory.intrinsic+json": {
              "type": "string"
            },
            "text/plain": [
              "'/content/Development_Dataset_15/training/masks/Pead_mais_00165_i900.png'"
            ]
          },
          "metadata": {
            "tags": []
          },
          "execution_count": 24
        },
        {
          "output_type": "execute_result",
          "data": {
            "application/vnd.google.colaboratory.intrinsic+json": {
              "type": "string"
            },
            "text/plain": [
              "'/content/Development_Dataset_15/training/images/Pead_mais_00431_i900.jpg'"
            ]
          },
          "metadata": {
            "tags": []
          },
          "execution_count": 24
        },
        {
          "output_type": "execute_result",
          "data": {
            "application/vnd.google.colaboratory.intrinsic+json": {
              "type": "string"
            },
            "text/plain": [
              "'/content/Development_Dataset_15/training/masks/Pead_mais_00431_i900.png'"
            ]
          },
          "metadata": {
            "tags": []
          },
          "execution_count": 24
        },
        {
          "output_type": "execute_result",
          "data": {
            "application/vnd.google.colaboratory.intrinsic+json": {
              "type": "string"
            },
            "text/plain": [
              "'/content/Development_Dataset_15/training/images/Pead_mais_00249_i900.jpg'"
            ]
          },
          "metadata": {
            "tags": []
          },
          "execution_count": 24
        },
        {
          "output_type": "execute_result",
          "data": {
            "application/vnd.google.colaboratory.intrinsic+json": {
              "type": "string"
            },
            "text/plain": [
              "'/content/Development_Dataset_15/training/masks/Pead_mais_00249_i900.png'"
            ]
          },
          "metadata": {
            "tags": []
          },
          "execution_count": 24
        },
        {
          "output_type": "execute_result",
          "data": {
            "application/vnd.google.colaboratory.intrinsic+json": {
              "type": "string"
            },
            "text/plain": [
              "'/content/Development_Dataset_15/training/images/Pead_mais_00070_i900.jpg'"
            ]
          },
          "metadata": {
            "tags": []
          },
          "execution_count": 24
        },
        {
          "output_type": "execute_result",
          "data": {
            "application/vnd.google.colaboratory.intrinsic+json": {
              "type": "string"
            },
            "text/plain": [
              "'/content/Development_Dataset_15/training/masks/Pead_mais_00070_i900.png'"
            ]
          },
          "metadata": {
            "tags": []
          },
          "execution_count": 24
        },
        {
          "output_type": "execute_result",
          "data": {
            "application/vnd.google.colaboratory.intrinsic+json": {
              "type": "string"
            },
            "text/plain": [
              "'/content/Development_Dataset_15/training/images/Pead_mais_00451_i900.jpg'"
            ]
          },
          "metadata": {
            "tags": []
          },
          "execution_count": 24
        },
        {
          "output_type": "execute_result",
          "data": {
            "application/vnd.google.colaboratory.intrinsic+json": {
              "type": "string"
            },
            "text/plain": [
              "'/content/Development_Dataset_15/training/masks/Pead_mais_00451_i900.png'"
            ]
          },
          "metadata": {
            "tags": []
          },
          "execution_count": 24
        },
        {
          "output_type": "execute_result",
          "data": {
            "application/vnd.google.colaboratory.intrinsic+json": {
              "type": "string"
            },
            "text/plain": [
              "'/content/Development_Dataset_15/training/images/Pead_mais_00792_i900.jpg'"
            ]
          },
          "metadata": {
            "tags": []
          },
          "execution_count": 24
        },
        {
          "output_type": "execute_result",
          "data": {
            "application/vnd.google.colaboratory.intrinsic+json": {
              "type": "string"
            },
            "text/plain": [
              "'/content/Development_Dataset_15/training/masks/Pead_mais_00792_i900.png'"
            ]
          },
          "metadata": {
            "tags": []
          },
          "execution_count": 24
        },
        {
          "output_type": "execute_result",
          "data": {
            "application/vnd.google.colaboratory.intrinsic+json": {
              "type": "string"
            },
            "text/plain": [
              "'/content/Development_Dataset_15/training/images/Pead_mais_00050_i900.jpg'"
            ]
          },
          "metadata": {
            "tags": []
          },
          "execution_count": 24
        },
        {
          "output_type": "execute_result",
          "data": {
            "application/vnd.google.colaboratory.intrinsic+json": {
              "type": "string"
            },
            "text/plain": [
              "'/content/Development_Dataset_15/training/masks/Pead_mais_00050_i900.png'"
            ]
          },
          "metadata": {
            "tags": []
          },
          "execution_count": 24
        },
        {
          "output_type": "execute_result",
          "data": {
            "application/vnd.google.colaboratory.intrinsic+json": {
              "type": "string"
            },
            "text/plain": [
              "'/content/Development_Dataset_15/training/images/Pead_mais_00635_i900.jpg'"
            ]
          },
          "metadata": {
            "tags": []
          },
          "execution_count": 24
        },
        {
          "output_type": "execute_result",
          "data": {
            "application/vnd.google.colaboratory.intrinsic+json": {
              "type": "string"
            },
            "text/plain": [
              "'/content/Development_Dataset_15/training/masks/Pead_mais_00635_i900.png'"
            ]
          },
          "metadata": {
            "tags": []
          },
          "execution_count": 24
        },
        {
          "output_type": "execute_result",
          "data": {
            "application/vnd.google.colaboratory.intrinsic+json": {
              "type": "string"
            },
            "text/plain": [
              "'/content/Development_Dataset_15/training/images/Pead_mais_00278_i900.jpg'"
            ]
          },
          "metadata": {
            "tags": []
          },
          "execution_count": 24
        },
        {
          "output_type": "execute_result",
          "data": {
            "application/vnd.google.colaboratory.intrinsic+json": {
              "type": "string"
            },
            "text/plain": [
              "'/content/Development_Dataset_15/training/masks/Pead_mais_00278_i900.png'"
            ]
          },
          "metadata": {
            "tags": []
          },
          "execution_count": 24
        },
        {
          "output_type": "execute_result",
          "data": {
            "application/vnd.google.colaboratory.intrinsic+json": {
              "type": "string"
            },
            "text/plain": [
              "'/content/Development_Dataset_15/training/images/Pead_mais_00647_i900.jpg'"
            ]
          },
          "metadata": {
            "tags": []
          },
          "execution_count": 24
        },
        {
          "output_type": "execute_result",
          "data": {
            "application/vnd.google.colaboratory.intrinsic+json": {
              "type": "string"
            },
            "text/plain": [
              "'/content/Development_Dataset_15/training/masks/Pead_mais_00647_i900.png'"
            ]
          },
          "metadata": {
            "tags": []
          },
          "execution_count": 24
        },
        {
          "output_type": "execute_result",
          "data": {
            "application/vnd.google.colaboratory.intrinsic+json": {
              "type": "string"
            },
            "text/plain": [
              "'/content/Development_Dataset_15/training/images/Pead_mais_00515_i900.jpg'"
            ]
          },
          "metadata": {
            "tags": []
          },
          "execution_count": 24
        },
        {
          "output_type": "execute_result",
          "data": {
            "application/vnd.google.colaboratory.intrinsic+json": {
              "type": "string"
            },
            "text/plain": [
              "'/content/Development_Dataset_15/training/masks/Pead_mais_00515_i900.png'"
            ]
          },
          "metadata": {
            "tags": []
          },
          "execution_count": 24
        },
        {
          "output_type": "execute_result",
          "data": {
            "application/vnd.google.colaboratory.intrinsic+json": {
              "type": "string"
            },
            "text/plain": [
              "'/content/Development_Dataset_15/training/images/Pead_mais_00215_i900.jpg'"
            ]
          },
          "metadata": {
            "tags": []
          },
          "execution_count": 24
        },
        {
          "output_type": "execute_result",
          "data": {
            "application/vnd.google.colaboratory.intrinsic+json": {
              "type": "string"
            },
            "text/plain": [
              "'/content/Development_Dataset_15/training/masks/Pead_mais_00215_i900.png'"
            ]
          },
          "metadata": {
            "tags": []
          },
          "execution_count": 24
        },
        {
          "output_type": "execute_result",
          "data": {
            "application/vnd.google.colaboratory.intrinsic+json": {
              "type": "string"
            },
            "text/plain": [
              "'/content/Development_Dataset_15/training/images/Pead_mais_00038_i900.jpg'"
            ]
          },
          "metadata": {
            "tags": []
          },
          "execution_count": 24
        },
        {
          "output_type": "execute_result",
          "data": {
            "application/vnd.google.colaboratory.intrinsic+json": {
              "type": "string"
            },
            "text/plain": [
              "'/content/Development_Dataset_15/training/masks/Pead_mais_00038_i900.png'"
            ]
          },
          "metadata": {
            "tags": []
          },
          "execution_count": 24
        },
        {
          "output_type": "execute_result",
          "data": {
            "application/vnd.google.colaboratory.intrinsic+json": {
              "type": "string"
            },
            "text/plain": [
              "'/content/Development_Dataset_15/training/images/Pead_mais_00699_i900.jpg'"
            ]
          },
          "metadata": {
            "tags": []
          },
          "execution_count": 24
        },
        {
          "output_type": "execute_result",
          "data": {
            "application/vnd.google.colaboratory.intrinsic+json": {
              "type": "string"
            },
            "text/plain": [
              "'/content/Development_Dataset_15/training/masks/Pead_mais_00699_i900.png'"
            ]
          },
          "metadata": {
            "tags": []
          },
          "execution_count": 24
        },
        {
          "output_type": "execute_result",
          "data": {
            "application/vnd.google.colaboratory.intrinsic+json": {
              "type": "string"
            },
            "text/plain": [
              "'/content/Development_Dataset_15/training/images/Pead_mais_00475_i900.jpg'"
            ]
          },
          "metadata": {
            "tags": []
          },
          "execution_count": 24
        },
        {
          "output_type": "execute_result",
          "data": {
            "application/vnd.google.colaboratory.intrinsic+json": {
              "type": "string"
            },
            "text/plain": [
              "'/content/Development_Dataset_15/training/masks/Pead_mais_00475_i900.png'"
            ]
          },
          "metadata": {
            "tags": []
          },
          "execution_count": 24
        },
        {
          "output_type": "execute_result",
          "data": {
            "application/vnd.google.colaboratory.intrinsic+json": {
              "type": "string"
            },
            "text/plain": [
              "'/content/Development_Dataset_15/training/images/Pead_mais_00492_i900.jpg'"
            ]
          },
          "metadata": {
            "tags": []
          },
          "execution_count": 24
        },
        {
          "output_type": "execute_result",
          "data": {
            "application/vnd.google.colaboratory.intrinsic+json": {
              "type": "string"
            },
            "text/plain": [
              "'/content/Development_Dataset_15/training/masks/Pead_mais_00492_i900.png'"
            ]
          },
          "metadata": {
            "tags": []
          },
          "execution_count": 24
        },
        {
          "output_type": "execute_result",
          "data": {
            "application/vnd.google.colaboratory.intrinsic+json": {
              "type": "string"
            },
            "text/plain": [
              "'/content/Development_Dataset_15/training/images/Pead_mais_00805_i900.jpg'"
            ]
          },
          "metadata": {
            "tags": []
          },
          "execution_count": 24
        },
        {
          "output_type": "execute_result",
          "data": {
            "application/vnd.google.colaboratory.intrinsic+json": {
              "type": "string"
            },
            "text/plain": [
              "'/content/Development_Dataset_15/training/masks/Pead_mais_00805_i900.png'"
            ]
          },
          "metadata": {
            "tags": []
          },
          "execution_count": 24
        },
        {
          "output_type": "execute_result",
          "data": {
            "application/vnd.google.colaboratory.intrinsic+json": {
              "type": "string"
            },
            "text/plain": [
              "'/content/Development_Dataset_15/training/images/Pead_mais_00455_i900.jpg'"
            ]
          },
          "metadata": {
            "tags": []
          },
          "execution_count": 24
        },
        {
          "output_type": "execute_result",
          "data": {
            "application/vnd.google.colaboratory.intrinsic+json": {
              "type": "string"
            },
            "text/plain": [
              "'/content/Development_Dataset_15/training/masks/Pead_mais_00455_i900.png'"
            ]
          },
          "metadata": {
            "tags": []
          },
          "execution_count": 24
        },
        {
          "output_type": "execute_result",
          "data": {
            "application/vnd.google.colaboratory.intrinsic+json": {
              "type": "string"
            },
            "text/plain": [
              "'/content/Development_Dataset_15/training/images/Pead_mais_00304_i900.jpg'"
            ]
          },
          "metadata": {
            "tags": []
          },
          "execution_count": 24
        },
        {
          "output_type": "execute_result",
          "data": {
            "application/vnd.google.colaboratory.intrinsic+json": {
              "type": "string"
            },
            "text/plain": [
              "'/content/Development_Dataset_15/training/masks/Pead_mais_00304_i900.png'"
            ]
          },
          "metadata": {
            "tags": []
          },
          "execution_count": 24
        },
        {
          "output_type": "execute_result",
          "data": {
            "application/vnd.google.colaboratory.intrinsic+json": {
              "type": "string"
            },
            "text/plain": [
              "'/content/Development_Dataset_15/training/images/Pead_mais_00447_i900.jpg'"
            ]
          },
          "metadata": {
            "tags": []
          },
          "execution_count": 24
        },
        {
          "output_type": "execute_result",
          "data": {
            "application/vnd.google.colaboratory.intrinsic+json": {
              "type": "string"
            },
            "text/plain": [
              "'/content/Development_Dataset_15/training/masks/Pead_mais_00447_i900.png'"
            ]
          },
          "metadata": {
            "tags": []
          },
          "execution_count": 24
        },
        {
          "output_type": "execute_result",
          "data": {
            "application/vnd.google.colaboratory.intrinsic+json": {
              "type": "string"
            },
            "text/plain": [
              "'/content/Development_Dataset_15/training/images/Pead_mais_00687_i900.jpg'"
            ]
          },
          "metadata": {
            "tags": []
          },
          "execution_count": 24
        },
        {
          "output_type": "execute_result",
          "data": {
            "application/vnd.google.colaboratory.intrinsic+json": {
              "type": "string"
            },
            "text/plain": [
              "'/content/Development_Dataset_15/training/masks/Pead_mais_00687_i900.png'"
            ]
          },
          "metadata": {
            "tags": []
          },
          "execution_count": 24
        },
        {
          "output_type": "execute_result",
          "data": {
            "application/vnd.google.colaboratory.intrinsic+json": {
              "type": "string"
            },
            "text/plain": [
              "'/content/Development_Dataset_15/training/images/Pead_mais_00500_i900.jpg'"
            ]
          },
          "metadata": {
            "tags": []
          },
          "execution_count": 24
        },
        {
          "output_type": "execute_result",
          "data": {
            "application/vnd.google.colaboratory.intrinsic+json": {
              "type": "string"
            },
            "text/plain": [
              "'/content/Development_Dataset_15/training/masks/Pead_mais_00500_i900.png'"
            ]
          },
          "metadata": {
            "tags": []
          },
          "execution_count": 24
        },
        {
          "output_type": "execute_result",
          "data": {
            "application/vnd.google.colaboratory.intrinsic+json": {
              "type": "string"
            },
            "text/plain": [
              "'/content/Development_Dataset_15/training/images/Pead_mais_00443_i900.jpg'"
            ]
          },
          "metadata": {
            "tags": []
          },
          "execution_count": 24
        },
        {
          "output_type": "execute_result",
          "data": {
            "application/vnd.google.colaboratory.intrinsic+json": {
              "type": "string"
            },
            "text/plain": [
              "'/content/Development_Dataset_15/training/masks/Pead_mais_00443_i900.png'"
            ]
          },
          "metadata": {
            "tags": []
          },
          "execution_count": 24
        },
        {
          "output_type": "execute_result",
          "data": {
            "application/vnd.google.colaboratory.intrinsic+json": {
              "type": "string"
            },
            "text/plain": [
              "'/content/Development_Dataset_15/training/images/Pead_mais_00748_i900.jpg'"
            ]
          },
          "metadata": {
            "tags": []
          },
          "execution_count": 24
        },
        {
          "output_type": "execute_result",
          "data": {
            "application/vnd.google.colaboratory.intrinsic+json": {
              "type": "string"
            },
            "text/plain": [
              "'/content/Development_Dataset_15/training/masks/Pead_mais_00748_i900.png'"
            ]
          },
          "metadata": {
            "tags": []
          },
          "execution_count": 24
        },
        {
          "output_type": "execute_result",
          "data": {
            "application/vnd.google.colaboratory.intrinsic+json": {
              "type": "string"
            },
            "text/plain": [
              "'/content/Development_Dataset_15/training/images/Pead_mais_00411_i900.jpg'"
            ]
          },
          "metadata": {
            "tags": []
          },
          "execution_count": 24
        },
        {
          "output_type": "execute_result",
          "data": {
            "application/vnd.google.colaboratory.intrinsic+json": {
              "type": "string"
            },
            "text/plain": [
              "'/content/Development_Dataset_15/training/masks/Pead_mais_00411_i900.png'"
            ]
          },
          "metadata": {
            "tags": []
          },
          "execution_count": 24
        },
        {
          "output_type": "execute_result",
          "data": {
            "application/vnd.google.colaboratory.intrinsic+json": {
              "type": "string"
            },
            "text/plain": [
              "'/content/Development_Dataset_15/training/images/Pead_mais_00139_i900.jpg'"
            ]
          },
          "metadata": {
            "tags": []
          },
          "execution_count": 24
        },
        {
          "output_type": "execute_result",
          "data": {
            "application/vnd.google.colaboratory.intrinsic+json": {
              "type": "string"
            },
            "text/plain": [
              "'/content/Development_Dataset_15/training/masks/Pead_mais_00139_i900.png'"
            ]
          },
          "metadata": {
            "tags": []
          },
          "execution_count": 24
        },
        {
          "output_type": "execute_result",
          "data": {
            "application/vnd.google.colaboratory.intrinsic+json": {
              "type": "string"
            },
            "text/plain": [
              "'/content/Development_Dataset_15/training/images/Pead_mais_00233_i900.jpg'"
            ]
          },
          "metadata": {
            "tags": []
          },
          "execution_count": 24
        },
        {
          "output_type": "execute_result",
          "data": {
            "application/vnd.google.colaboratory.intrinsic+json": {
              "type": "string"
            },
            "text/plain": [
              "'/content/Development_Dataset_15/training/masks/Pead_mais_00233_i900.png'"
            ]
          },
          "metadata": {
            "tags": []
          },
          "execution_count": 24
        },
        {
          "output_type": "execute_result",
          "data": {
            "application/vnd.google.colaboratory.intrinsic+json": {
              "type": "string"
            },
            "text/plain": [
              "'/content/Development_Dataset_15/training/images/Pead_mais_00186_i900.jpg'"
            ]
          },
          "metadata": {
            "tags": []
          },
          "execution_count": 24
        },
        {
          "output_type": "execute_result",
          "data": {
            "application/vnd.google.colaboratory.intrinsic+json": {
              "type": "string"
            },
            "text/plain": [
              "'/content/Development_Dataset_15/training/masks/Pead_mais_00186_i900.png'"
            ]
          },
          "metadata": {
            "tags": []
          },
          "execution_count": 24
        },
        {
          "output_type": "execute_result",
          "data": {
            "application/vnd.google.colaboratory.intrinsic+json": {
              "type": "string"
            },
            "text/plain": [
              "'/content/Development_Dataset_15/training/images/Pead_mais_00615_i900.jpg'"
            ]
          },
          "metadata": {
            "tags": []
          },
          "execution_count": 24
        },
        {
          "output_type": "execute_result",
          "data": {
            "application/vnd.google.colaboratory.intrinsic+json": {
              "type": "string"
            },
            "text/plain": [
              "'/content/Development_Dataset_15/training/masks/Pead_mais_00615_i900.png'"
            ]
          },
          "metadata": {
            "tags": []
          },
          "execution_count": 24
        },
        {
          "output_type": "execute_result",
          "data": {
            "application/vnd.google.colaboratory.intrinsic+json": {
              "type": "string"
            },
            "text/plain": [
              "'/content/Development_Dataset_15/training/images/Pead_mais_00658_i900.jpg'"
            ]
          },
          "metadata": {
            "tags": []
          },
          "execution_count": 24
        },
        {
          "output_type": "execute_result",
          "data": {
            "application/vnd.google.colaboratory.intrinsic+json": {
              "type": "string"
            },
            "text/plain": [
              "'/content/Development_Dataset_15/training/masks/Pead_mais_00658_i900.png'"
            ]
          },
          "metadata": {
            "tags": []
          },
          "execution_count": 24
        },
        {
          "output_type": "execute_result",
          "data": {
            "application/vnd.google.colaboratory.intrinsic+json": {
              "type": "string"
            },
            "text/plain": [
              "'/content/Development_Dataset_15/training/images/Pead_mais_00097_i900.jpg'"
            ]
          },
          "metadata": {
            "tags": []
          },
          "execution_count": 24
        },
        {
          "output_type": "execute_result",
          "data": {
            "application/vnd.google.colaboratory.intrinsic+json": {
              "type": "string"
            },
            "text/plain": [
              "'/content/Development_Dataset_15/training/masks/Pead_mais_00097_i900.png'"
            ]
          },
          "metadata": {
            "tags": []
          },
          "execution_count": 24
        },
        {
          "output_type": "execute_result",
          "data": {
            "application/vnd.google.colaboratory.intrinsic+json": {
              "type": "string"
            },
            "text/plain": [
              "'/content/Development_Dataset_15/training/images/Pead_mais_00169_i900.jpg'"
            ]
          },
          "metadata": {
            "tags": []
          },
          "execution_count": 24
        },
        {
          "output_type": "execute_result",
          "data": {
            "application/vnd.google.colaboratory.intrinsic+json": {
              "type": "string"
            },
            "text/plain": [
              "'/content/Development_Dataset_15/training/masks/Pead_mais_00169_i900.png'"
            ]
          },
          "metadata": {
            "tags": []
          },
          "execution_count": 24
        },
        {
          "output_type": "execute_result",
          "data": {
            "application/vnd.google.colaboratory.intrinsic+json": {
              "type": "string"
            },
            "text/plain": [
              "'/content/Development_Dataset_15/training/images/Pead_mais_00287_i900.jpg'"
            ]
          },
          "metadata": {
            "tags": []
          },
          "execution_count": 24
        },
        {
          "output_type": "execute_result",
          "data": {
            "application/vnd.google.colaboratory.intrinsic+json": {
              "type": "string"
            },
            "text/plain": [
              "'/content/Development_Dataset_15/training/masks/Pead_mais_00287_i900.png'"
            ]
          },
          "metadata": {
            "tags": []
          },
          "execution_count": 24
        },
        {
          "output_type": "execute_result",
          "data": {
            "application/vnd.google.colaboratory.intrinsic+json": {
              "type": "string"
            },
            "text/plain": [
              "'/content/Development_Dataset_15/training/images/Pead_mais_00788_i900.jpg'"
            ]
          },
          "metadata": {
            "tags": []
          },
          "execution_count": 24
        },
        {
          "output_type": "execute_result",
          "data": {
            "application/vnd.google.colaboratory.intrinsic+json": {
              "type": "string"
            },
            "text/plain": [
              "'/content/Development_Dataset_15/training/masks/Pead_mais_00788_i900.png'"
            ]
          },
          "metadata": {
            "tags": []
          },
          "execution_count": 24
        },
        {
          "output_type": "execute_result",
          "data": {
            "application/vnd.google.colaboratory.intrinsic+json": {
              "type": "string"
            },
            "text/plain": [
              "'/content/Development_Dataset_15/training/images/Pead_mais_00511_i900.jpg'"
            ]
          },
          "metadata": {
            "tags": []
          },
          "execution_count": 24
        },
        {
          "output_type": "execute_result",
          "data": {
            "application/vnd.google.colaboratory.intrinsic+json": {
              "type": "string"
            },
            "text/plain": [
              "'/content/Development_Dataset_15/training/masks/Pead_mais_00511_i900.png'"
            ]
          },
          "metadata": {
            "tags": []
          },
          "execution_count": 24
        },
        {
          "output_type": "execute_result",
          "data": {
            "application/vnd.google.colaboratory.intrinsic+json": {
              "type": "string"
            },
            "text/plain": [
              "'/content/Development_Dataset_15/training/images/Pead_mais_00283_i900.jpg'"
            ]
          },
          "metadata": {
            "tags": []
          },
          "execution_count": 24
        },
        {
          "output_type": "execute_result",
          "data": {
            "application/vnd.google.colaboratory.intrinsic+json": {
              "type": "string"
            },
            "text/plain": [
              "'/content/Development_Dataset_15/training/masks/Pead_mais_00283_i900.png'"
            ]
          },
          "metadata": {
            "tags": []
          },
          "execution_count": 24
        },
        {
          "output_type": "execute_result",
          "data": {
            "application/vnd.google.colaboratory.intrinsic+json": {
              "type": "string"
            },
            "text/plain": [
              "'/content/Development_Dataset_15/training/images/Pead_mais_00683_i900.jpg'"
            ]
          },
          "metadata": {
            "tags": []
          },
          "execution_count": 24
        },
        {
          "output_type": "execute_result",
          "data": {
            "application/vnd.google.colaboratory.intrinsic+json": {
              "type": "string"
            },
            "text/plain": [
              "'/content/Development_Dataset_15/training/masks/Pead_mais_00683_i900.png'"
            ]
          },
          "metadata": {
            "tags": []
          },
          "execution_count": 24
        },
        {
          "output_type": "execute_result",
          "data": {
            "application/vnd.google.colaboratory.intrinsic+json": {
              "type": "string"
            },
            "text/plain": [
              "'/content/Development_Dataset_15/training/images/Pead_mais_00552_i900.jpg'"
            ]
          },
          "metadata": {
            "tags": []
          },
          "execution_count": 24
        },
        {
          "output_type": "execute_result",
          "data": {
            "application/vnd.google.colaboratory.intrinsic+json": {
              "type": "string"
            },
            "text/plain": [
              "'/content/Development_Dataset_15/training/masks/Pead_mais_00552_i900.png'"
            ]
          },
          "metadata": {
            "tags": []
          },
          "execution_count": 24
        },
        {
          "output_type": "execute_result",
          "data": {
            "application/vnd.google.colaboratory.intrinsic+json": {
              "type": "string"
            },
            "text/plain": [
              "'/content/Development_Dataset_15/training/images/Pead_mais_00801_i900.jpg'"
            ]
          },
          "metadata": {
            "tags": []
          },
          "execution_count": 24
        },
        {
          "output_type": "execute_result",
          "data": {
            "application/vnd.google.colaboratory.intrinsic+json": {
              "type": "string"
            },
            "text/plain": [
              "'/content/Development_Dataset_15/training/masks/Pead_mais_00801_i900.png'"
            ]
          },
          "metadata": {
            "tags": []
          },
          "execution_count": 24
        },
        {
          "output_type": "execute_result",
          "data": {
            "application/vnd.google.colaboratory.intrinsic+json": {
              "type": "string"
            },
            "text/plain": [
              "'/content/Development_Dataset_15/training/images/Pead_mais_00639_i900.jpg'"
            ]
          },
          "metadata": {
            "tags": []
          },
          "execution_count": 24
        },
        {
          "output_type": "execute_result",
          "data": {
            "application/vnd.google.colaboratory.intrinsic+json": {
              "type": "string"
            },
            "text/plain": [
              "'/content/Development_Dataset_15/training/masks/Pead_mais_00639_i900.png'"
            ]
          },
          "metadata": {
            "tags": []
          },
          "execution_count": 24
        },
        {
          "output_type": "execute_result",
          "data": {
            "application/vnd.google.colaboratory.intrinsic+json": {
              "type": "string"
            },
            "text/plain": [
              "'/content/Development_Dataset_15/training/images/Pead_mais_00101_i900.jpg'"
            ]
          },
          "metadata": {
            "tags": []
          },
          "execution_count": 24
        },
        {
          "output_type": "execute_result",
          "data": {
            "application/vnd.google.colaboratory.intrinsic+json": {
              "type": "string"
            },
            "text/plain": [
              "'/content/Development_Dataset_15/training/masks/Pead_mais_00101_i900.png'"
            ]
          },
          "metadata": {
            "tags": []
          },
          "execution_count": 24
        },
        {
          "output_type": "execute_result",
          "data": {
            "application/vnd.google.colaboratory.intrinsic+json": {
              "type": "string"
            },
            "text/plain": [
              "'/content/Development_Dataset_15/training/images/Pead_mais_00603_i900.jpg'"
            ]
          },
          "metadata": {
            "tags": []
          },
          "execution_count": 24
        },
        {
          "output_type": "execute_result",
          "data": {
            "application/vnd.google.colaboratory.intrinsic+json": {
              "type": "string"
            },
            "text/plain": [
              "'/content/Development_Dataset_15/training/masks/Pead_mais_00603_i900.png'"
            ]
          },
          "metadata": {
            "tags": []
          },
          "execution_count": 24
        },
        {
          "output_type": "execute_result",
          "data": {
            "application/vnd.google.colaboratory.intrinsic+json": {
              "type": "string"
            },
            "text/plain": [
              "'/content/Development_Dataset_15/training/images/Pead_mais_00580_i900.jpg'"
            ]
          },
          "metadata": {
            "tags": []
          },
          "execution_count": 24
        },
        {
          "output_type": "execute_result",
          "data": {
            "application/vnd.google.colaboratory.intrinsic+json": {
              "type": "string"
            },
            "text/plain": [
              "'/content/Development_Dataset_15/training/masks/Pead_mais_00580_i900.png'"
            ]
          },
          "metadata": {
            "tags": []
          },
          "execution_count": 24
        },
        {
          "output_type": "execute_result",
          "data": {
            "application/vnd.google.colaboratory.intrinsic+json": {
              "type": "string"
            },
            "text/plain": [
              "'/content/Development_Dataset_15/training/images/Pead_mais_00780_i900.jpg'"
            ]
          },
          "metadata": {
            "tags": []
          },
          "execution_count": 24
        },
        {
          "output_type": "execute_result",
          "data": {
            "application/vnd.google.colaboratory.intrinsic+json": {
              "type": "string"
            },
            "text/plain": [
              "'/content/Development_Dataset_15/training/masks/Pead_mais_00780_i900.png'"
            ]
          },
          "metadata": {
            "tags": []
          },
          "execution_count": 24
        },
        {
          "output_type": "execute_result",
          "data": {
            "application/vnd.google.colaboratory.intrinsic+json": {
              "type": "string"
            },
            "text/plain": [
              "'/content/Development_Dataset_15/training/images/Pead_mais_00764_i900.jpg'"
            ]
          },
          "metadata": {
            "tags": []
          },
          "execution_count": 24
        },
        {
          "output_type": "execute_result",
          "data": {
            "application/vnd.google.colaboratory.intrinsic+json": {
              "type": "string"
            },
            "text/plain": [
              "'/content/Development_Dataset_15/training/masks/Pead_mais_00764_i900.png'"
            ]
          },
          "metadata": {
            "tags": []
          },
          "execution_count": 24
        },
        {
          "output_type": "execute_result",
          "data": {
            "application/vnd.google.colaboratory.intrinsic+json": {
              "type": "string"
            },
            "text/plain": [
              "'/content/Development_Dataset_15/training/images/Pead_mais_00054_i900.jpg'"
            ]
          },
          "metadata": {
            "tags": []
          },
          "execution_count": 24
        },
        {
          "output_type": "execute_result",
          "data": {
            "application/vnd.google.colaboratory.intrinsic+json": {
              "type": "string"
            },
            "text/plain": [
              "'/content/Development_Dataset_15/training/masks/Pead_mais_00054_i900.png'"
            ]
          },
          "metadata": {
            "tags": []
          },
          "execution_count": 24
        },
        {
          "output_type": "execute_result",
          "data": {
            "application/vnd.google.colaboratory.intrinsic+json": {
              "type": "string"
            },
            "text/plain": [
              "'/content/Development_Dataset_15/training/images/Pead_mais_00210_i900.jpg'"
            ]
          },
          "metadata": {
            "tags": []
          },
          "execution_count": 24
        },
        {
          "output_type": "execute_result",
          "data": {
            "application/vnd.google.colaboratory.intrinsic+json": {
              "type": "string"
            },
            "text/plain": [
              "'/content/Development_Dataset_15/training/masks/Pead_mais_00210_i900.png'"
            ]
          },
          "metadata": {
            "tags": []
          },
          "execution_count": 24
        },
        {
          "output_type": "execute_result",
          "data": {
            "application/vnd.google.colaboratory.intrinsic+json": {
              "type": "string"
            },
            "text/plain": [
              "'/content/Development_Dataset_15/training/images/Pead_mais_00257_i900.jpg'"
            ]
          },
          "metadata": {
            "tags": []
          },
          "execution_count": 24
        },
        {
          "output_type": "execute_result",
          "data": {
            "application/vnd.google.colaboratory.intrinsic+json": {
              "type": "string"
            },
            "text/plain": [
              "'/content/Development_Dataset_15/training/masks/Pead_mais_00257_i900.png'"
            ]
          },
          "metadata": {
            "tags": []
          },
          "execution_count": 24
        },
        {
          "output_type": "execute_result",
          "data": {
            "application/vnd.google.colaboratory.intrinsic+json": {
              "type": "string"
            },
            "text/plain": [
              "'/content/Development_Dataset_15/training/images/Pead_mais_00643_i900.jpg'"
            ]
          },
          "metadata": {
            "tags": []
          },
          "execution_count": 24
        },
        {
          "output_type": "execute_result",
          "data": {
            "application/vnd.google.colaboratory.intrinsic+json": {
              "type": "string"
            },
            "text/plain": [
              "'/content/Development_Dataset_15/training/masks/Pead_mais_00643_i900.png'"
            ]
          },
          "metadata": {
            "tags": []
          },
          "execution_count": 24
        },
        {
          "output_type": "execute_result",
          "data": {
            "application/vnd.google.colaboratory.intrinsic+json": {
              "type": "string"
            },
            "text/plain": [
              "'/content/Development_Dataset_15/training/images/Pead_mais_00194_i900.jpg'"
            ]
          },
          "metadata": {
            "tags": []
          },
          "execution_count": 24
        },
        {
          "output_type": "execute_result",
          "data": {
            "application/vnd.google.colaboratory.intrinsic+json": {
              "type": "string"
            },
            "text/plain": [
              "'/content/Development_Dataset_15/training/masks/Pead_mais_00194_i900.png'"
            ]
          },
          "metadata": {
            "tags": []
          },
          "execution_count": 24
        },
        {
          "output_type": "execute_result",
          "data": {
            "application/vnd.google.colaboratory.intrinsic+json": {
              "type": "string"
            },
            "text/plain": [
              "'/content/Development_Dataset_15/training/images/Pead_mais_00312_i900.jpg'"
            ]
          },
          "metadata": {
            "tags": []
          },
          "execution_count": 24
        },
        {
          "output_type": "execute_result",
          "data": {
            "application/vnd.google.colaboratory.intrinsic+json": {
              "type": "string"
            },
            "text/plain": [
              "'/content/Development_Dataset_15/training/masks/Pead_mais_00312_i900.png'"
            ]
          },
          "metadata": {
            "tags": []
          },
          "execution_count": 24
        },
        {
          "output_type": "execute_result",
          "data": {
            "application/vnd.google.colaboratory.intrinsic+json": {
              "type": "string"
            },
            "text/plain": [
              "'/content/Development_Dataset_15/training/images/Pead_mais_00093_i900.jpg'"
            ]
          },
          "metadata": {
            "tags": []
          },
          "execution_count": 24
        },
        {
          "output_type": "execute_result",
          "data": {
            "application/vnd.google.colaboratory.intrinsic+json": {
              "type": "string"
            },
            "text/plain": [
              "'/content/Development_Dataset_15/training/masks/Pead_mais_00093_i900.png'"
            ]
          },
          "metadata": {
            "tags": []
          },
          "execution_count": 24
        },
        {
          "output_type": "execute_result",
          "data": {
            "application/vnd.google.colaboratory.intrinsic+json": {
              "type": "string"
            },
            "text/plain": [
              "'/content/Development_Dataset_15/training/images/Pead_mais_00817_i900.jpg'"
            ]
          },
          "metadata": {
            "tags": []
          },
          "execution_count": 24
        },
        {
          "output_type": "execute_result",
          "data": {
            "application/vnd.google.colaboratory.intrinsic+json": {
              "type": "string"
            },
            "text/plain": [
              "'/content/Development_Dataset_15/training/masks/Pead_mais_00817_i900.png'"
            ]
          },
          "metadata": {
            "tags": []
          },
          "execution_count": 24
        },
        {
          "output_type": "execute_result",
          "data": {
            "application/vnd.google.colaboratory.intrinsic+json": {
              "type": "string"
            },
            "text/plain": [
              "'/content/Development_Dataset_15/training/images/Pead_mais_00631_i900.jpg'"
            ]
          },
          "metadata": {
            "tags": []
          },
          "execution_count": 24
        },
        {
          "output_type": "execute_result",
          "data": {
            "application/vnd.google.colaboratory.intrinsic+json": {
              "type": "string"
            },
            "text/plain": [
              "'/content/Development_Dataset_15/training/masks/Pead_mais_00631_i900.png'"
            ]
          },
          "metadata": {
            "tags": []
          },
          "execution_count": 24
        },
        {
          "output_type": "execute_result",
          "data": {
            "application/vnd.google.colaboratory.intrinsic+json": {
              "type": "string"
            },
            "text/plain": [
              "'/content/Development_Dataset_15/training/images/Pead_mais_00564_i900.jpg'"
            ]
          },
          "metadata": {
            "tags": []
          },
          "execution_count": 24
        },
        {
          "output_type": "execute_result",
          "data": {
            "application/vnd.google.colaboratory.intrinsic+json": {
              "type": "string"
            },
            "text/plain": [
              "'/content/Development_Dataset_15/training/masks/Pead_mais_00564_i900.png'"
            ]
          },
          "metadata": {
            "tags": []
          },
          "execution_count": 24
        },
        {
          "output_type": "execute_result",
          "data": {
            "application/vnd.google.colaboratory.intrinsic+json": {
              "type": "string"
            },
            "text/plain": [
              "'/content/Development_Dataset_15/validation/images/Pead_mais_00813_i900.jpg'"
            ]
          },
          "metadata": {
            "tags": []
          },
          "execution_count": 24
        },
        {
          "output_type": "execute_result",
          "data": {
            "application/vnd.google.colaboratory.intrinsic+json": {
              "type": "string"
            },
            "text/plain": [
              "'/content/Development_Dataset_15/validation/masks/Pead_mais_00813_i900.png'"
            ]
          },
          "metadata": {
            "tags": []
          },
          "execution_count": 24
        },
        {
          "output_type": "execute_result",
          "data": {
            "application/vnd.google.colaboratory.intrinsic+json": {
              "type": "string"
            },
            "text/plain": [
              "'/content/Development_Dataset_15/validation/images/Pead_mais_00152_i900.jpg'"
            ]
          },
          "metadata": {
            "tags": []
          },
          "execution_count": 24
        },
        {
          "output_type": "execute_result",
          "data": {
            "application/vnd.google.colaboratory.intrinsic+json": {
              "type": "string"
            },
            "text/plain": [
              "'/content/Development_Dataset_15/validation/masks/Pead_mais_00152_i900.png'"
            ]
          },
          "metadata": {
            "tags": []
          },
          "execution_count": 24
        },
        {
          "output_type": "execute_result",
          "data": {
            "application/vnd.google.colaboratory.intrinsic+json": {
              "type": "string"
            },
            "text/plain": [
              "'/content/Development_Dataset_15/validation/images/Pead_mais_00355_i900.jpg'"
            ]
          },
          "metadata": {
            "tags": []
          },
          "execution_count": 24
        },
        {
          "output_type": "execute_result",
          "data": {
            "application/vnd.google.colaboratory.intrinsic+json": {
              "type": "string"
            },
            "text/plain": [
              "'/content/Development_Dataset_15/validation/masks/Pead_mais_00355_i900.png'"
            ]
          },
          "metadata": {
            "tags": []
          },
          "execution_count": 24
        },
        {
          "output_type": "execute_result",
          "data": {
            "application/vnd.google.colaboratory.intrinsic+json": {
              "type": "string"
            },
            "text/plain": [
              "'/content/Development_Dataset_15/validation/images/Pead_mais_00329_i900.jpg'"
            ]
          },
          "metadata": {
            "tags": []
          },
          "execution_count": 24
        },
        {
          "output_type": "execute_result",
          "data": {
            "application/vnd.google.colaboratory.intrinsic+json": {
              "type": "string"
            },
            "text/plain": [
              "'/content/Development_Dataset_15/validation/masks/Pead_mais_00329_i900.png'"
            ]
          },
          "metadata": {
            "tags": []
          },
          "execution_count": 24
        },
        {
          "output_type": "execute_result",
          "data": {
            "application/vnd.google.colaboratory.intrinsic+json": {
              "type": "string"
            },
            "text/plain": [
              "'/content/Development_Dataset_15/validation/images/Pead_mais_00143_i900.jpg'"
            ]
          },
          "metadata": {
            "tags": []
          },
          "execution_count": 24
        },
        {
          "output_type": "execute_result",
          "data": {
            "application/vnd.google.colaboratory.intrinsic+json": {
              "type": "string"
            },
            "text/plain": [
              "'/content/Development_Dataset_15/validation/masks/Pead_mais_00143_i900.png'"
            ]
          },
          "metadata": {
            "tags": []
          },
          "execution_count": 24
        },
        {
          "output_type": "execute_result",
          "data": {
            "application/vnd.google.colaboratory.intrinsic+json": {
              "type": "string"
            },
            "text/plain": [
              "'/content/Development_Dataset_15/validation/images/Pead_mais_00539_i900.jpg'"
            ]
          },
          "metadata": {
            "tags": []
          },
          "execution_count": 24
        },
        {
          "output_type": "execute_result",
          "data": {
            "application/vnd.google.colaboratory.intrinsic+json": {
              "type": "string"
            },
            "text/plain": [
              "'/content/Development_Dataset_15/validation/masks/Pead_mais_00539_i900.png'"
            ]
          },
          "metadata": {
            "tags": []
          },
          "execution_count": 24
        },
        {
          "output_type": "execute_result",
          "data": {
            "application/vnd.google.colaboratory.intrinsic+json": {
              "type": "string"
            },
            "text/plain": [
              "'/content/Development_Dataset_15/validation/images/Pead_mais_00768_i900.jpg'"
            ]
          },
          "metadata": {
            "tags": []
          },
          "execution_count": 24
        },
        {
          "output_type": "execute_result",
          "data": {
            "application/vnd.google.colaboratory.intrinsic+json": {
              "type": "string"
            },
            "text/plain": [
              "'/content/Development_Dataset_15/validation/masks/Pead_mais_00768_i900.png'"
            ]
          },
          "metadata": {
            "tags": []
          },
          "execution_count": 24
        },
        {
          "output_type": "execute_result",
          "data": {
            "application/vnd.google.colaboratory.intrinsic+json": {
              "type": "string"
            },
            "text/plain": [
              "'/content/Development_Dataset_15/validation/images/Pead_mais_00122_i900.jpg'"
            ]
          },
          "metadata": {
            "tags": []
          },
          "execution_count": 24
        },
        {
          "output_type": "execute_result",
          "data": {
            "application/vnd.google.colaboratory.intrinsic+json": {
              "type": "string"
            },
            "text/plain": [
              "'/content/Development_Dataset_15/validation/masks/Pead_mais_00122_i900.png'"
            ]
          },
          "metadata": {
            "tags": []
          },
          "execution_count": 24
        },
        {
          "output_type": "execute_result",
          "data": {
            "application/vnd.google.colaboratory.intrinsic+json": {
              "type": "string"
            },
            "text/plain": [
              "'/content/Development_Dataset_15/validation/images/Pead_mais_00058_i900.jpg'"
            ]
          },
          "metadata": {
            "tags": []
          },
          "execution_count": 24
        },
        {
          "output_type": "execute_result",
          "data": {
            "application/vnd.google.colaboratory.intrinsic+json": {
              "type": "string"
            },
            "text/plain": [
              "'/content/Development_Dataset_15/validation/masks/Pead_mais_00058_i900.png'"
            ]
          },
          "metadata": {
            "tags": []
          },
          "execution_count": 24
        },
        {
          "output_type": "execute_result",
          "data": {
            "application/vnd.google.colaboratory.intrinsic+json": {
              "type": "string"
            },
            "text/plain": [
              "'/content/Development_Dataset_15/validation/images/Pead_mais_00599_i900.jpg'"
            ]
          },
          "metadata": {
            "tags": []
          },
          "execution_count": 24
        },
        {
          "output_type": "execute_result",
          "data": {
            "application/vnd.google.colaboratory.intrinsic+json": {
              "type": "string"
            },
            "text/plain": [
              "'/content/Development_Dataset_15/validation/masks/Pead_mais_00599_i900.png'"
            ]
          },
          "metadata": {
            "tags": []
          },
          "execution_count": 24
        },
        {
          "output_type": "execute_result",
          "data": {
            "application/vnd.google.colaboratory.intrinsic+json": {
              "type": "string"
            },
            "text/plain": [
              "'/content/Development_Dataset_15/validation/images/Pead_mais_00531_i900.jpg'"
            ]
          },
          "metadata": {
            "tags": []
          },
          "execution_count": 24
        },
        {
          "output_type": "execute_result",
          "data": {
            "application/vnd.google.colaboratory.intrinsic+json": {
              "type": "string"
            },
            "text/plain": [
              "'/content/Development_Dataset_15/validation/masks/Pead_mais_00531_i900.png'"
            ]
          },
          "metadata": {
            "tags": []
          },
          "execution_count": 24
        },
        {
          "output_type": "execute_result",
          "data": {
            "application/vnd.google.colaboratory.intrinsic+json": {
              "type": "string"
            },
            "text/plain": [
              "'/content/Development_Dataset_15/validation/images/Pead_mais_00046_i900.jpg'"
            ]
          },
          "metadata": {
            "tags": []
          },
          "execution_count": 24
        },
        {
          "output_type": "execute_result",
          "data": {
            "application/vnd.google.colaboratory.intrinsic+json": {
              "type": "string"
            },
            "text/plain": [
              "'/content/Development_Dataset_15/validation/masks/Pead_mais_00046_i900.png'"
            ]
          },
          "metadata": {
            "tags": []
          },
          "execution_count": 24
        },
        {
          "output_type": "execute_result",
          "data": {
            "application/vnd.google.colaboratory.intrinsic+json": {
              "type": "string"
            },
            "text/plain": [
              "'/content/Development_Dataset_15/validation/images/Pead_mais_00034_i900.jpg'"
            ]
          },
          "metadata": {
            "tags": []
          },
          "execution_count": 24
        },
        {
          "output_type": "execute_result",
          "data": {
            "application/vnd.google.colaboratory.intrinsic+json": {
              "type": "string"
            },
            "text/plain": [
              "'/content/Development_Dataset_15/validation/masks/Pead_mais_00034_i900.png'"
            ]
          },
          "metadata": {
            "tags": []
          },
          "execution_count": 24
        },
        {
          "output_type": "execute_result",
          "data": {
            "application/vnd.google.colaboratory.intrinsic+json": {
              "type": "string"
            },
            "text/plain": [
              "'/content/Development_Dataset_15/validation/images/Pead_mais_00325_i900.jpg'"
            ]
          },
          "metadata": {
            "tags": []
          },
          "execution_count": 24
        },
        {
          "output_type": "execute_result",
          "data": {
            "application/vnd.google.colaboratory.intrinsic+json": {
              "type": "string"
            },
            "text/plain": [
              "'/content/Development_Dataset_15/validation/masks/Pead_mais_00325_i900.png'"
            ]
          },
          "metadata": {
            "tags": []
          },
          "execution_count": 24
        },
        {
          "output_type": "execute_result",
          "data": {
            "application/vnd.google.colaboratory.intrinsic+json": {
              "type": "string"
            },
            "text/plain": [
              "'/content/Development_Dataset_15/training/images/Roseau_haricot_0120_false.png'"
            ]
          },
          "metadata": {
            "tags": []
          },
          "execution_count": 24
        },
        {
          "output_type": "execute_result",
          "data": {
            "application/vnd.google.colaboratory.intrinsic+json": {
              "type": "string"
            },
            "text/plain": [
              "'/content/Development_Dataset_15/training/masks/Roseau_haricot_0120_false.png'"
            ]
          },
          "metadata": {
            "tags": []
          },
          "execution_count": 24
        },
        {
          "output_type": "execute_result",
          "data": {
            "application/vnd.google.colaboratory.intrinsic+json": {
              "type": "string"
            },
            "text/plain": [
              "'/content/Development_Dataset_15/training/images/Roseau_haricot_0240_false.png'"
            ]
          },
          "metadata": {
            "tags": []
          },
          "execution_count": 24
        },
        {
          "output_type": "execute_result",
          "data": {
            "application/vnd.google.colaboratory.intrinsic+json": {
              "type": "string"
            },
            "text/plain": [
              "'/content/Development_Dataset_15/training/masks/Roseau_haricot_0240_false.png'"
            ]
          },
          "metadata": {
            "tags": []
          },
          "execution_count": 24
        },
        {
          "output_type": "execute_result",
          "data": {
            "application/vnd.google.colaboratory.intrinsic+json": {
              "type": "string"
            },
            "text/plain": [
              "'/content/Development_Dataset_15/training/images/Roseau_haricot_0412_false.png'"
            ]
          },
          "metadata": {
            "tags": []
          },
          "execution_count": 24
        },
        {
          "output_type": "execute_result",
          "data": {
            "application/vnd.google.colaboratory.intrinsic+json": {
              "type": "string"
            },
            "text/plain": [
              "'/content/Development_Dataset_15/training/masks/Roseau_haricot_0412_false.png'"
            ]
          },
          "metadata": {
            "tags": []
          },
          "execution_count": 24
        },
        {
          "output_type": "execute_result",
          "data": {
            "application/vnd.google.colaboratory.intrinsic+json": {
              "type": "string"
            },
            "text/plain": [
              "'/content/Development_Dataset_15/training/images/Roseau_haricot_0280_false.png'"
            ]
          },
          "metadata": {
            "tags": []
          },
          "execution_count": 24
        },
        {
          "output_type": "execute_result",
          "data": {
            "application/vnd.google.colaboratory.intrinsic+json": {
              "type": "string"
            },
            "text/plain": [
              "'/content/Development_Dataset_15/training/masks/Roseau_haricot_0280_false.png'"
            ]
          },
          "metadata": {
            "tags": []
          },
          "execution_count": 24
        },
        {
          "output_type": "execute_result",
          "data": {
            "application/vnd.google.colaboratory.intrinsic+json": {
              "type": "string"
            },
            "text/plain": [
              "'/content/Development_Dataset_15/training/images/Roseau_haricot_0050_false.png'"
            ]
          },
          "metadata": {
            "tags": []
          },
          "execution_count": 24
        },
        {
          "output_type": "execute_result",
          "data": {
            "application/vnd.google.colaboratory.intrinsic+json": {
              "type": "string"
            },
            "text/plain": [
              "'/content/Development_Dataset_15/training/masks/Roseau_haricot_0050_false.png'"
            ]
          },
          "metadata": {
            "tags": []
          },
          "execution_count": 24
        },
        {
          "output_type": "execute_result",
          "data": {
            "application/vnd.google.colaboratory.intrinsic+json": {
              "type": "string"
            },
            "text/plain": [
              "'/content/Development_Dataset_15/training/images/Roseau_haricot_0268_false.png'"
            ]
          },
          "metadata": {
            "tags": []
          },
          "execution_count": 24
        },
        {
          "output_type": "execute_result",
          "data": {
            "application/vnd.google.colaboratory.intrinsic+json": {
              "type": "string"
            },
            "text/plain": [
              "'/content/Development_Dataset_15/training/masks/Roseau_haricot_0268_false.png'"
            ]
          },
          "metadata": {
            "tags": []
          },
          "execution_count": 24
        },
        {
          "output_type": "execute_result",
          "data": {
            "application/vnd.google.colaboratory.intrinsic+json": {
              "type": "string"
            },
            "text/plain": [
              "'/content/Development_Dataset_15/training/images/Roseau_haricot_0248_false.png'"
            ]
          },
          "metadata": {
            "tags": []
          },
          "execution_count": 24
        },
        {
          "output_type": "execute_result",
          "data": {
            "application/vnd.google.colaboratory.intrinsic+json": {
              "type": "string"
            },
            "text/plain": [
              "'/content/Development_Dataset_15/training/masks/Roseau_haricot_0248_false.png'"
            ]
          },
          "metadata": {
            "tags": []
          },
          "execution_count": 24
        },
        {
          "output_type": "execute_result",
          "data": {
            "application/vnd.google.colaboratory.intrinsic+json": {
              "type": "string"
            },
            "text/plain": [
              "'/content/Development_Dataset_15/training/images/Roseau_haricot_0104_false.png'"
            ]
          },
          "metadata": {
            "tags": []
          },
          "execution_count": 24
        },
        {
          "output_type": "execute_result",
          "data": {
            "application/vnd.google.colaboratory.intrinsic+json": {
              "type": "string"
            },
            "text/plain": [
              "'/content/Development_Dataset_15/training/masks/Roseau_haricot_0104_false.png'"
            ]
          },
          "metadata": {
            "tags": []
          },
          "execution_count": 24
        },
        {
          "output_type": "execute_result",
          "data": {
            "application/vnd.google.colaboratory.intrinsic+json": {
              "type": "string"
            },
            "text/plain": [
              "'/content/Development_Dataset_15/training/images/Roseau_haricot_0392_false.png'"
            ]
          },
          "metadata": {
            "tags": []
          },
          "execution_count": 24
        },
        {
          "output_type": "execute_result",
          "data": {
            "application/vnd.google.colaboratory.intrinsic+json": {
              "type": "string"
            },
            "text/plain": [
              "'/content/Development_Dataset_15/training/masks/Roseau_haricot_0392_false.png'"
            ]
          },
          "metadata": {
            "tags": []
          },
          "execution_count": 24
        },
        {
          "output_type": "execute_result",
          "data": {
            "application/vnd.google.colaboratory.intrinsic+json": {
              "type": "string"
            },
            "text/plain": [
              "'/content/Development_Dataset_15/training/images/Roseau_haricot_0168_false.png'"
            ]
          },
          "metadata": {
            "tags": []
          },
          "execution_count": 24
        },
        {
          "output_type": "execute_result",
          "data": {
            "application/vnd.google.colaboratory.intrinsic+json": {
              "type": "string"
            },
            "text/plain": [
              "'/content/Development_Dataset_15/training/masks/Roseau_haricot_0168_false.png'"
            ]
          },
          "metadata": {
            "tags": []
          },
          "execution_count": 24
        },
        {
          "output_type": "execute_result",
          "data": {
            "application/vnd.google.colaboratory.intrinsic+json": {
              "type": "string"
            },
            "text/plain": [
              "'/content/Development_Dataset_15/training/images/Roseau_haricot_0208_false.png'"
            ]
          },
          "metadata": {
            "tags": []
          },
          "execution_count": 24
        },
        {
          "output_type": "execute_result",
          "data": {
            "application/vnd.google.colaboratory.intrinsic+json": {
              "type": "string"
            },
            "text/plain": [
              "'/content/Development_Dataset_15/training/masks/Roseau_haricot_0208_false.png'"
            ]
          },
          "metadata": {
            "tags": []
          },
          "execution_count": 24
        },
        {
          "output_type": "execute_result",
          "data": {
            "application/vnd.google.colaboratory.intrinsic+json": {
              "type": "string"
            },
            "text/plain": [
              "'/content/Development_Dataset_15/training/images/Roseau_haricot_0100_false.png'"
            ]
          },
          "metadata": {
            "tags": []
          },
          "execution_count": 24
        },
        {
          "output_type": "execute_result",
          "data": {
            "application/vnd.google.colaboratory.intrinsic+json": {
              "type": "string"
            },
            "text/plain": [
              "'/content/Development_Dataset_15/training/masks/Roseau_haricot_0100_false.png'"
            ]
          },
          "metadata": {
            "tags": []
          },
          "execution_count": 24
        },
        {
          "output_type": "execute_result",
          "data": {
            "application/vnd.google.colaboratory.intrinsic+json": {
              "type": "string"
            },
            "text/plain": [
              "'/content/Development_Dataset_15/training/images/Roseau_haricot_0244_false.png'"
            ]
          },
          "metadata": {
            "tags": []
          },
          "execution_count": 24
        },
        {
          "output_type": "execute_result",
          "data": {
            "application/vnd.google.colaboratory.intrinsic+json": {
              "type": "string"
            },
            "text/plain": [
              "'/content/Development_Dataset_15/training/masks/Roseau_haricot_0244_false.png'"
            ]
          },
          "metadata": {
            "tags": []
          },
          "execution_count": 24
        },
        {
          "output_type": "execute_result",
          "data": {
            "application/vnd.google.colaboratory.intrinsic+json": {
              "type": "string"
            },
            "text/plain": [
              "'/content/Development_Dataset_15/training/images/Roseau_haricot_0316_false.png'"
            ]
          },
          "metadata": {
            "tags": []
          },
          "execution_count": 24
        },
        {
          "output_type": "execute_result",
          "data": {
            "application/vnd.google.colaboratory.intrinsic+json": {
              "type": "string"
            },
            "text/plain": [
              "'/content/Development_Dataset_15/training/masks/Roseau_haricot_0316_false.png'"
            ]
          },
          "metadata": {
            "tags": []
          },
          "execution_count": 24
        },
        {
          "output_type": "execute_result",
          "data": {
            "application/vnd.google.colaboratory.intrinsic+json": {
              "type": "string"
            },
            "text/plain": [
              "'/content/Development_Dataset_15/training/images/Roseau_haricot_0130_false.png'"
            ]
          },
          "metadata": {
            "tags": []
          },
          "execution_count": 24
        },
        {
          "output_type": "execute_result",
          "data": {
            "application/vnd.google.colaboratory.intrinsic+json": {
              "type": "string"
            },
            "text/plain": [
              "'/content/Development_Dataset_15/training/masks/Roseau_haricot_0130_false.png'"
            ]
          },
          "metadata": {
            "tags": []
          },
          "execution_count": 24
        },
        {
          "output_type": "execute_result",
          "data": {
            "application/vnd.google.colaboratory.intrinsic+json": {
              "type": "string"
            },
            "text/plain": [
              "'/content/Development_Dataset_15/training/images/Roseau_haricot_0042_false.png'"
            ]
          },
          "metadata": {
            "tags": []
          },
          "execution_count": 24
        },
        {
          "output_type": "execute_result",
          "data": {
            "application/vnd.google.colaboratory.intrinsic+json": {
              "type": "string"
            },
            "text/plain": [
              "'/content/Development_Dataset_15/training/masks/Roseau_haricot_0042_false.png'"
            ]
          },
          "metadata": {
            "tags": []
          },
          "execution_count": 24
        },
        {
          "output_type": "execute_result",
          "data": {
            "application/vnd.google.colaboratory.intrinsic+json": {
              "type": "string"
            },
            "text/plain": [
              "'/content/Development_Dataset_15/training/images/Roseau_haricot_0158_false.png'"
            ]
          },
          "metadata": {
            "tags": []
          },
          "execution_count": 24
        },
        {
          "output_type": "execute_result",
          "data": {
            "application/vnd.google.colaboratory.intrinsic+json": {
              "type": "string"
            },
            "text/plain": [
              "'/content/Development_Dataset_15/training/masks/Roseau_haricot_0158_false.png'"
            ]
          },
          "metadata": {
            "tags": []
          },
          "execution_count": 24
        },
        {
          "output_type": "execute_result",
          "data": {
            "application/vnd.google.colaboratory.intrinsic+json": {
              "type": "string"
            },
            "text/plain": [
              "'/content/Development_Dataset_15/training/images/Roseau_haricot_0092_false.png'"
            ]
          },
          "metadata": {
            "tags": []
          },
          "execution_count": 24
        },
        {
          "output_type": "execute_result",
          "data": {
            "application/vnd.google.colaboratory.intrinsic+json": {
              "type": "string"
            },
            "text/plain": [
              "'/content/Development_Dataset_15/training/masks/Roseau_haricot_0092_false.png'"
            ]
          },
          "metadata": {
            "tags": []
          },
          "execution_count": 24
        },
        {
          "output_type": "execute_result",
          "data": {
            "application/vnd.google.colaboratory.intrinsic+json": {
              "type": "string"
            },
            "text/plain": [
              "'/content/Development_Dataset_15/training/images/Roseau_haricot_0388_false.png'"
            ]
          },
          "metadata": {
            "tags": []
          },
          "execution_count": 24
        },
        {
          "output_type": "execute_result",
          "data": {
            "application/vnd.google.colaboratory.intrinsic+json": {
              "type": "string"
            },
            "text/plain": [
              "'/content/Development_Dataset_15/training/masks/Roseau_haricot_0388_false.png'"
            ]
          },
          "metadata": {
            "tags": []
          },
          "execution_count": 24
        },
        {
          "output_type": "execute_result",
          "data": {
            "application/vnd.google.colaboratory.intrinsic+json": {
              "type": "string"
            },
            "text/plain": [
              "'/content/Development_Dataset_15/training/images/Roseau_haricot_0164_false.png'"
            ]
          },
          "metadata": {
            "tags": []
          },
          "execution_count": 24
        },
        {
          "output_type": "execute_result",
          "data": {
            "application/vnd.google.colaboratory.intrinsic+json": {
              "type": "string"
            },
            "text/plain": [
              "'/content/Development_Dataset_15/training/masks/Roseau_haricot_0164_false.png'"
            ]
          },
          "metadata": {
            "tags": []
          },
          "execution_count": 24
        },
        {
          "output_type": "execute_result",
          "data": {
            "application/vnd.google.colaboratory.intrinsic+json": {
              "type": "string"
            },
            "text/plain": [
              "'/content/Development_Dataset_15/training/images/Roseau_haricot_0422_false.png'"
            ]
          },
          "metadata": {
            "tags": []
          },
          "execution_count": 24
        },
        {
          "output_type": "execute_result",
          "data": {
            "application/vnd.google.colaboratory.intrinsic+json": {
              "type": "string"
            },
            "text/plain": [
              "'/content/Development_Dataset_15/training/masks/Roseau_haricot_0422_false.png'"
            ]
          },
          "metadata": {
            "tags": []
          },
          "execution_count": 24
        },
        {
          "output_type": "execute_result",
          "data": {
            "application/vnd.google.colaboratory.intrinsic+json": {
              "type": "string"
            },
            "text/plain": [
              "'/content/Development_Dataset_15/training/images/Roseau_haricot_0160_false.png'"
            ]
          },
          "metadata": {
            "tags": []
          },
          "execution_count": 24
        },
        {
          "output_type": "execute_result",
          "data": {
            "application/vnd.google.colaboratory.intrinsic+json": {
              "type": "string"
            },
            "text/plain": [
              "'/content/Development_Dataset_15/training/masks/Roseau_haricot_0160_false.png'"
            ]
          },
          "metadata": {
            "tags": []
          },
          "execution_count": 24
        },
        {
          "output_type": "execute_result",
          "data": {
            "application/vnd.google.colaboratory.intrinsic+json": {
              "type": "string"
            },
            "text/plain": [
              "'/content/Development_Dataset_15/training/images/Roseau_haricot_0078_false.png'"
            ]
          },
          "metadata": {
            "tags": []
          },
          "execution_count": 24
        },
        {
          "output_type": "execute_result",
          "data": {
            "application/vnd.google.colaboratory.intrinsic+json": {
              "type": "string"
            },
            "text/plain": [
              "'/content/Development_Dataset_15/training/masks/Roseau_haricot_0078_false.png'"
            ]
          },
          "metadata": {
            "tags": []
          },
          "execution_count": 24
        },
        {
          "output_type": "execute_result",
          "data": {
            "application/vnd.google.colaboratory.intrinsic+json": {
              "type": "string"
            },
            "text/plain": [
              "'/content/Development_Dataset_15/training/images/Roseau_haricot_0288_false.png'"
            ]
          },
          "metadata": {
            "tags": []
          },
          "execution_count": 24
        },
        {
          "output_type": "execute_result",
          "data": {
            "application/vnd.google.colaboratory.intrinsic+json": {
              "type": "string"
            },
            "text/plain": [
              "'/content/Development_Dataset_15/training/masks/Roseau_haricot_0288_false.png'"
            ]
          },
          "metadata": {
            "tags": []
          },
          "execution_count": 24
        },
        {
          "output_type": "execute_result",
          "data": {
            "application/vnd.google.colaboratory.intrinsic+json": {
              "type": "string"
            },
            "text/plain": [
              "'/content/Development_Dataset_15/training/images/Roseau_haricot_0304_false.png'"
            ]
          },
          "metadata": {
            "tags": []
          },
          "execution_count": 24
        },
        {
          "output_type": "execute_result",
          "data": {
            "application/vnd.google.colaboratory.intrinsic+json": {
              "type": "string"
            },
            "text/plain": [
              "'/content/Development_Dataset_15/training/masks/Roseau_haricot_0304_false.png'"
            ]
          },
          "metadata": {
            "tags": []
          },
          "execution_count": 24
        },
        {
          "output_type": "execute_result",
          "data": {
            "application/vnd.google.colaboratory.intrinsic+json": {
              "type": "string"
            },
            "text/plain": [
              "'/content/Development_Dataset_15/training/images/Roseau_haricot_0410_false.png'"
            ]
          },
          "metadata": {
            "tags": []
          },
          "execution_count": 24
        },
        {
          "output_type": "execute_result",
          "data": {
            "application/vnd.google.colaboratory.intrinsic+json": {
              "type": "string"
            },
            "text/plain": [
              "'/content/Development_Dataset_15/training/masks/Roseau_haricot_0410_false.png'"
            ]
          },
          "metadata": {
            "tags": []
          },
          "execution_count": 24
        },
        {
          "output_type": "execute_result",
          "data": {
            "application/vnd.google.colaboratory.intrinsic+json": {
              "type": "string"
            },
            "text/plain": [
              "'/content/Development_Dataset_15/training/images/Roseau_haricot_0026_false.png'"
            ]
          },
          "metadata": {
            "tags": []
          },
          "execution_count": 24
        },
        {
          "output_type": "execute_result",
          "data": {
            "application/vnd.google.colaboratory.intrinsic+json": {
              "type": "string"
            },
            "text/plain": [
              "'/content/Development_Dataset_15/training/masks/Roseau_haricot_0026_false.png'"
            ]
          },
          "metadata": {
            "tags": []
          },
          "execution_count": 24
        },
        {
          "output_type": "execute_result",
          "data": {
            "application/vnd.google.colaboratory.intrinsic+json": {
              "type": "string"
            },
            "text/plain": [
              "'/content/Development_Dataset_15/training/images/Roseau_haricot_0176_false.png'"
            ]
          },
          "metadata": {
            "tags": []
          },
          "execution_count": 24
        },
        {
          "output_type": "execute_result",
          "data": {
            "application/vnd.google.colaboratory.intrinsic+json": {
              "type": "string"
            },
            "text/plain": [
              "'/content/Development_Dataset_15/training/masks/Roseau_haricot_0176_false.png'"
            ]
          },
          "metadata": {
            "tags": []
          },
          "execution_count": 24
        },
        {
          "output_type": "execute_result",
          "data": {
            "application/vnd.google.colaboratory.intrinsic+json": {
              "type": "string"
            },
            "text/plain": [
              "'/content/Development_Dataset_15/training/images/Roseau_haricot_0014_false.png'"
            ]
          },
          "metadata": {
            "tags": []
          },
          "execution_count": 24
        },
        {
          "output_type": "execute_result",
          "data": {
            "application/vnd.google.colaboratory.intrinsic+json": {
              "type": "string"
            },
            "text/plain": [
              "'/content/Development_Dataset_15/training/masks/Roseau_haricot_0014_false.png'"
            ]
          },
          "metadata": {
            "tags": []
          },
          "execution_count": 24
        },
        {
          "output_type": "execute_result",
          "data": {
            "application/vnd.google.colaboratory.intrinsic+json": {
              "type": "string"
            },
            "text/plain": [
              "'/content/Development_Dataset_15/training/images/Roseau_haricot_0046_false.png'"
            ]
          },
          "metadata": {
            "tags": []
          },
          "execution_count": 24
        },
        {
          "output_type": "execute_result",
          "data": {
            "application/vnd.google.colaboratory.intrinsic+json": {
              "type": "string"
            },
            "text/plain": [
              "'/content/Development_Dataset_15/training/masks/Roseau_haricot_0046_false.png'"
            ]
          },
          "metadata": {
            "tags": []
          },
          "execution_count": 24
        },
        {
          "output_type": "execute_result",
          "data": {
            "application/vnd.google.colaboratory.intrinsic+json": {
              "type": "string"
            },
            "text/plain": [
              "'/content/Development_Dataset_15/training/images/Roseau_haricot_0118_false.png'"
            ]
          },
          "metadata": {
            "tags": []
          },
          "execution_count": 24
        },
        {
          "output_type": "execute_result",
          "data": {
            "application/vnd.google.colaboratory.intrinsic+json": {
              "type": "string"
            },
            "text/plain": [
              "'/content/Development_Dataset_15/training/masks/Roseau_haricot_0118_false.png'"
            ]
          },
          "metadata": {
            "tags": []
          },
          "execution_count": 24
        },
        {
          "output_type": "execute_result",
          "data": {
            "application/vnd.google.colaboratory.intrinsic+json": {
              "type": "string"
            },
            "text/plain": [
              "'/content/Development_Dataset_15/training/images/Roseau_haricot_0236_false.png'"
            ]
          },
          "metadata": {
            "tags": []
          },
          "execution_count": 24
        },
        {
          "output_type": "execute_result",
          "data": {
            "application/vnd.google.colaboratory.intrinsic+json": {
              "type": "string"
            },
            "text/plain": [
              "'/content/Development_Dataset_15/training/masks/Roseau_haricot_0236_false.png'"
            ]
          },
          "metadata": {
            "tags": []
          },
          "execution_count": 24
        },
        {
          "output_type": "execute_result",
          "data": {
            "application/vnd.google.colaboratory.intrinsic+json": {
              "type": "string"
            },
            "text/plain": [
              "'/content/Development_Dataset_15/training/images/Roseau_haricot_0054_false.png'"
            ]
          },
          "metadata": {
            "tags": []
          },
          "execution_count": 24
        },
        {
          "output_type": "execute_result",
          "data": {
            "application/vnd.google.colaboratory.intrinsic+json": {
              "type": "string"
            },
            "text/plain": [
              "'/content/Development_Dataset_15/training/masks/Roseau_haricot_0054_false.png'"
            ]
          },
          "metadata": {
            "tags": []
          },
          "execution_count": 24
        },
        {
          "output_type": "execute_result",
          "data": {
            "application/vnd.google.colaboratory.intrinsic+json": {
              "type": "string"
            },
            "text/plain": [
              "'/content/Development_Dataset_15/training/images/Roseau_haricot_0400_false.png'"
            ]
          },
          "metadata": {
            "tags": []
          },
          "execution_count": 24
        },
        {
          "output_type": "execute_result",
          "data": {
            "application/vnd.google.colaboratory.intrinsic+json": {
              "type": "string"
            },
            "text/plain": [
              "'/content/Development_Dataset_15/training/masks/Roseau_haricot_0400_false.png'"
            ]
          },
          "metadata": {
            "tags": []
          },
          "execution_count": 24
        },
        {
          "output_type": "execute_result",
          "data": {
            "application/vnd.google.colaboratory.intrinsic+json": {
              "type": "string"
            },
            "text/plain": [
              "'/content/Development_Dataset_15/training/images/Roseau_haricot_0062_false.png'"
            ]
          },
          "metadata": {
            "tags": []
          },
          "execution_count": 24
        },
        {
          "output_type": "execute_result",
          "data": {
            "application/vnd.google.colaboratory.intrinsic+json": {
              "type": "string"
            },
            "text/plain": [
              "'/content/Development_Dataset_15/training/masks/Roseau_haricot_0062_false.png'"
            ]
          },
          "metadata": {
            "tags": []
          },
          "execution_count": 24
        },
        {
          "output_type": "execute_result",
          "data": {
            "application/vnd.google.colaboratory.intrinsic+json": {
              "type": "string"
            },
            "text/plain": [
              "'/content/Development_Dataset_15/training/images/Roseau_haricot_0126_false.png'"
            ]
          },
          "metadata": {
            "tags": []
          },
          "execution_count": 24
        },
        {
          "output_type": "execute_result",
          "data": {
            "application/vnd.google.colaboratory.intrinsic+json": {
              "type": "string"
            },
            "text/plain": [
              "'/content/Development_Dataset_15/training/masks/Roseau_haricot_0126_false.png'"
            ]
          },
          "metadata": {
            "tags": []
          },
          "execution_count": 24
        },
        {
          "output_type": "execute_result",
          "data": {
            "application/vnd.google.colaboratory.intrinsic+json": {
              "type": "string"
            },
            "text/plain": [
              "'/content/Development_Dataset_15/training/images/Roseau_haricot_0124_false.png'"
            ]
          },
          "metadata": {
            "tags": []
          },
          "execution_count": 24
        },
        {
          "output_type": "execute_result",
          "data": {
            "application/vnd.google.colaboratory.intrinsic+json": {
              "type": "string"
            },
            "text/plain": [
              "'/content/Development_Dataset_15/training/masks/Roseau_haricot_0124_false.png'"
            ]
          },
          "metadata": {
            "tags": []
          },
          "execution_count": 24
        },
        {
          "output_type": "execute_result",
          "data": {
            "application/vnd.google.colaboratory.intrinsic+json": {
              "type": "string"
            },
            "text/plain": [
              "'/content/Development_Dataset_15/training/images/Roseau_haricot_0022_false.png'"
            ]
          },
          "metadata": {
            "tags": []
          },
          "execution_count": 24
        },
        {
          "output_type": "execute_result",
          "data": {
            "application/vnd.google.colaboratory.intrinsic+json": {
              "type": "string"
            },
            "text/plain": [
              "'/content/Development_Dataset_15/training/masks/Roseau_haricot_0022_false.png'"
            ]
          },
          "metadata": {
            "tags": []
          },
          "execution_count": 24
        },
        {
          "output_type": "execute_result",
          "data": {
            "application/vnd.google.colaboratory.intrinsic+json": {
              "type": "string"
            },
            "text/plain": [
              "'/content/Development_Dataset_15/training/images/Roseau_haricot_0148_false.png'"
            ]
          },
          "metadata": {
            "tags": []
          },
          "execution_count": 24
        },
        {
          "output_type": "execute_result",
          "data": {
            "application/vnd.google.colaboratory.intrinsic+json": {
              "type": "string"
            },
            "text/plain": [
              "'/content/Development_Dataset_15/training/masks/Roseau_haricot_0148_false.png'"
            ]
          },
          "metadata": {
            "tags": []
          },
          "execution_count": 24
        },
        {
          "output_type": "execute_result",
          "data": {
            "application/vnd.google.colaboratory.intrinsic+json": {
              "type": "string"
            },
            "text/plain": [
              "'/content/Development_Dataset_15/training/images/Roseau_haricot_0360_false.png'"
            ]
          },
          "metadata": {
            "tags": []
          },
          "execution_count": 24
        },
        {
          "output_type": "execute_result",
          "data": {
            "application/vnd.google.colaboratory.intrinsic+json": {
              "type": "string"
            },
            "text/plain": [
              "'/content/Development_Dataset_15/training/masks/Roseau_haricot_0360_false.png'"
            ]
          },
          "metadata": {
            "tags": []
          },
          "execution_count": 24
        },
        {
          "output_type": "execute_result",
          "data": {
            "application/vnd.google.colaboratory.intrinsic+json": {
              "type": "string"
            },
            "text/plain": [
              "'/content/Development_Dataset_15/training/images/Roseau_haricot_0404_false.png'"
            ]
          },
          "metadata": {
            "tags": []
          },
          "execution_count": 24
        },
        {
          "output_type": "execute_result",
          "data": {
            "application/vnd.google.colaboratory.intrinsic+json": {
              "type": "string"
            },
            "text/plain": [
              "'/content/Development_Dataset_15/training/masks/Roseau_haricot_0404_false.png'"
            ]
          },
          "metadata": {
            "tags": []
          },
          "execution_count": 24
        },
        {
          "output_type": "execute_result",
          "data": {
            "application/vnd.google.colaboratory.intrinsic+json": {
              "type": "string"
            },
            "text/plain": [
              "'/content/Development_Dataset_15/training/images/Roseau_haricot_0272_false.png'"
            ]
          },
          "metadata": {
            "tags": []
          },
          "execution_count": 24
        },
        {
          "output_type": "execute_result",
          "data": {
            "application/vnd.google.colaboratory.intrinsic+json": {
              "type": "string"
            },
            "text/plain": [
              "'/content/Development_Dataset_15/training/masks/Roseau_haricot_0272_false.png'"
            ]
          },
          "metadata": {
            "tags": []
          },
          "execution_count": 24
        },
        {
          "output_type": "execute_result",
          "data": {
            "application/vnd.google.colaboratory.intrinsic+json": {
              "type": "string"
            },
            "text/plain": [
              "'/content/Development_Dataset_15/training/images/Roseau_haricot_0284_false.png'"
            ]
          },
          "metadata": {
            "tags": []
          },
          "execution_count": 24
        },
        {
          "output_type": "execute_result",
          "data": {
            "application/vnd.google.colaboratory.intrinsic+json": {
              "type": "string"
            },
            "text/plain": [
              "'/content/Development_Dataset_15/training/masks/Roseau_haricot_0284_false.png'"
            ]
          },
          "metadata": {
            "tags": []
          },
          "execution_count": 24
        },
        {
          "output_type": "execute_result",
          "data": {
            "application/vnd.google.colaboratory.intrinsic+json": {
              "type": "string"
            },
            "text/plain": [
              "'/content/Development_Dataset_15/training/images/Roseau_haricot_0008_false.png'"
            ]
          },
          "metadata": {
            "tags": []
          },
          "execution_count": 24
        },
        {
          "output_type": "execute_result",
          "data": {
            "application/vnd.google.colaboratory.intrinsic+json": {
              "type": "string"
            },
            "text/plain": [
              "'/content/Development_Dataset_15/training/masks/Roseau_haricot_0008_false.png'"
            ]
          },
          "metadata": {
            "tags": []
          },
          "execution_count": 24
        },
        {
          "output_type": "execute_result",
          "data": {
            "application/vnd.google.colaboratory.intrinsic+json": {
              "type": "string"
            },
            "text/plain": [
              "'/content/Development_Dataset_15/training/images/Roseau_haricot_0418_false.png'"
            ]
          },
          "metadata": {
            "tags": []
          },
          "execution_count": 24
        },
        {
          "output_type": "execute_result",
          "data": {
            "application/vnd.google.colaboratory.intrinsic+json": {
              "type": "string"
            },
            "text/plain": [
              "'/content/Development_Dataset_15/training/masks/Roseau_haricot_0418_false.png'"
            ]
          },
          "metadata": {
            "tags": []
          },
          "execution_count": 24
        },
        {
          "output_type": "execute_result",
          "data": {
            "application/vnd.google.colaboratory.intrinsic+json": {
              "type": "string"
            },
            "text/plain": [
              "'/content/Development_Dataset_15/training/images/Roseau_haricot_0408_false.png'"
            ]
          },
          "metadata": {
            "tags": []
          },
          "execution_count": 24
        },
        {
          "output_type": "execute_result",
          "data": {
            "application/vnd.google.colaboratory.intrinsic+json": {
              "type": "string"
            },
            "text/plain": [
              "'/content/Development_Dataset_15/training/masks/Roseau_haricot_0408_false.png'"
            ]
          },
          "metadata": {
            "tags": []
          },
          "execution_count": 24
        },
        {
          "output_type": "execute_result",
          "data": {
            "application/vnd.google.colaboratory.intrinsic+json": {
              "type": "string"
            },
            "text/plain": [
              "'/content/Development_Dataset_15/training/images/Roseau_haricot_0406_false.png'"
            ]
          },
          "metadata": {
            "tags": []
          },
          "execution_count": 24
        },
        {
          "output_type": "execute_result",
          "data": {
            "application/vnd.google.colaboratory.intrinsic+json": {
              "type": "string"
            },
            "text/plain": [
              "'/content/Development_Dataset_15/training/masks/Roseau_haricot_0406_false.png'"
            ]
          },
          "metadata": {
            "tags": []
          },
          "execution_count": 24
        },
        {
          "output_type": "execute_result",
          "data": {
            "application/vnd.google.colaboratory.intrinsic+json": {
              "type": "string"
            },
            "text/plain": [
              "'/content/Development_Dataset_15/training/images/Roseau_haricot_0096_false.png'"
            ]
          },
          "metadata": {
            "tags": []
          },
          "execution_count": 24
        },
        {
          "output_type": "execute_result",
          "data": {
            "application/vnd.google.colaboratory.intrinsic+json": {
              "type": "string"
            },
            "text/plain": [
              "'/content/Development_Dataset_15/training/masks/Roseau_haricot_0096_false.png'"
            ]
          },
          "metadata": {
            "tags": []
          },
          "execution_count": 24
        },
        {
          "output_type": "execute_result",
          "data": {
            "application/vnd.google.colaboratory.intrinsic+json": {
              "type": "string"
            },
            "text/plain": [
              "'/content/Development_Dataset_15/training/images/Roseau_haricot_0016_false.png'"
            ]
          },
          "metadata": {
            "tags": []
          },
          "execution_count": 24
        },
        {
          "output_type": "execute_result",
          "data": {
            "application/vnd.google.colaboratory.intrinsic+json": {
              "type": "string"
            },
            "text/plain": [
              "'/content/Development_Dataset_15/training/masks/Roseau_haricot_0016_false.png'"
            ]
          },
          "metadata": {
            "tags": []
          },
          "execution_count": 24
        },
        {
          "output_type": "execute_result",
          "data": {
            "application/vnd.google.colaboratory.intrinsic+json": {
              "type": "string"
            },
            "text/plain": [
              "'/content/Development_Dataset_15/training/images/Roseau_haricot_0070_false.png'"
            ]
          },
          "metadata": {
            "tags": []
          },
          "execution_count": 24
        },
        {
          "output_type": "execute_result",
          "data": {
            "application/vnd.google.colaboratory.intrinsic+json": {
              "type": "string"
            },
            "text/plain": [
              "'/content/Development_Dataset_15/training/masks/Roseau_haricot_0070_false.png'"
            ]
          },
          "metadata": {
            "tags": []
          },
          "execution_count": 24
        },
        {
          "output_type": "execute_result",
          "data": {
            "application/vnd.google.colaboratory.intrinsic+json": {
              "type": "string"
            },
            "text/plain": [
              "'/content/Development_Dataset_15/training/images/Roseau_haricot_0020_false.png'"
            ]
          },
          "metadata": {
            "tags": []
          },
          "execution_count": 24
        },
        {
          "output_type": "execute_result",
          "data": {
            "application/vnd.google.colaboratory.intrinsic+json": {
              "type": "string"
            },
            "text/plain": [
              "'/content/Development_Dataset_15/training/masks/Roseau_haricot_0020_false.png'"
            ]
          },
          "metadata": {
            "tags": []
          },
          "execution_count": 24
        },
        {
          "output_type": "execute_result",
          "data": {
            "application/vnd.google.colaboratory.intrinsic+json": {
              "type": "string"
            },
            "text/plain": [
              "'/content/Development_Dataset_15/training/images/Roseau_haricot_0184_false.png'"
            ]
          },
          "metadata": {
            "tags": []
          },
          "execution_count": 24
        },
        {
          "output_type": "execute_result",
          "data": {
            "application/vnd.google.colaboratory.intrinsic+json": {
              "type": "string"
            },
            "text/plain": [
              "'/content/Development_Dataset_15/training/masks/Roseau_haricot_0184_false.png'"
            ]
          },
          "metadata": {
            "tags": []
          },
          "execution_count": 24
        },
        {
          "output_type": "execute_result",
          "data": {
            "application/vnd.google.colaboratory.intrinsic+json": {
              "type": "string"
            },
            "text/plain": [
              "'/content/Development_Dataset_15/training/images/Roseau_haricot_0112_false.png'"
            ]
          },
          "metadata": {
            "tags": []
          },
          "execution_count": 24
        },
        {
          "output_type": "execute_result",
          "data": {
            "application/vnd.google.colaboratory.intrinsic+json": {
              "type": "string"
            },
            "text/plain": [
              "'/content/Development_Dataset_15/training/masks/Roseau_haricot_0112_false.png'"
            ]
          },
          "metadata": {
            "tags": []
          },
          "execution_count": 24
        },
        {
          "output_type": "execute_result",
          "data": {
            "application/vnd.google.colaboratory.intrinsic+json": {
              "type": "string"
            },
            "text/plain": [
              "'/content/Development_Dataset_15/training/images/Roseau_haricot_0152_false.png'"
            ]
          },
          "metadata": {
            "tags": []
          },
          "execution_count": 24
        },
        {
          "output_type": "execute_result",
          "data": {
            "application/vnd.google.colaboratory.intrinsic+json": {
              "type": "string"
            },
            "text/plain": [
              "'/content/Development_Dataset_15/training/masks/Roseau_haricot_0152_false.png'"
            ]
          },
          "metadata": {
            "tags": []
          },
          "execution_count": 24
        },
        {
          "output_type": "execute_result",
          "data": {
            "application/vnd.google.colaboratory.intrinsic+json": {
              "type": "string"
            },
            "text/plain": [
              "'/content/Development_Dataset_15/training/images/Roseau_haricot_0420_false.png'"
            ]
          },
          "metadata": {
            "tags": []
          },
          "execution_count": 24
        },
        {
          "output_type": "execute_result",
          "data": {
            "application/vnd.google.colaboratory.intrinsic+json": {
              "type": "string"
            },
            "text/plain": [
              "'/content/Development_Dataset_15/training/masks/Roseau_haricot_0420_false.png'"
            ]
          },
          "metadata": {
            "tags": []
          },
          "execution_count": 24
        },
        {
          "output_type": "execute_result",
          "data": {
            "application/vnd.google.colaboratory.intrinsic+json": {
              "type": "string"
            },
            "text/plain": [
              "'/content/Development_Dataset_15/training/images/Roseau_haricot_0344_false.png'"
            ]
          },
          "metadata": {
            "tags": []
          },
          "execution_count": 24
        },
        {
          "output_type": "execute_result",
          "data": {
            "application/vnd.google.colaboratory.intrinsic+json": {
              "type": "string"
            },
            "text/plain": [
              "'/content/Development_Dataset_15/training/masks/Roseau_haricot_0344_false.png'"
            ]
          },
          "metadata": {
            "tags": []
          },
          "execution_count": 24
        },
        {
          "output_type": "execute_result",
          "data": {
            "application/vnd.google.colaboratory.intrinsic+json": {
              "type": "string"
            },
            "text/plain": [
              "'/content/Development_Dataset_15/training/images/Roseau_haricot_0088_false.png'"
            ]
          },
          "metadata": {
            "tags": []
          },
          "execution_count": 24
        },
        {
          "output_type": "execute_result",
          "data": {
            "application/vnd.google.colaboratory.intrinsic+json": {
              "type": "string"
            },
            "text/plain": [
              "'/content/Development_Dataset_15/training/masks/Roseau_haricot_0088_false.png'"
            ]
          },
          "metadata": {
            "tags": []
          },
          "execution_count": 24
        },
        {
          "output_type": "execute_result",
          "data": {
            "application/vnd.google.colaboratory.intrinsic+json": {
              "type": "string"
            },
            "text/plain": [
              "'/content/Development_Dataset_15/training/images/Roseau_haricot_0172_false.png'"
            ]
          },
          "metadata": {
            "tags": []
          },
          "execution_count": 24
        },
        {
          "output_type": "execute_result",
          "data": {
            "application/vnd.google.colaboratory.intrinsic+json": {
              "type": "string"
            },
            "text/plain": [
              "'/content/Development_Dataset_15/training/masks/Roseau_haricot_0172_false.png'"
            ]
          },
          "metadata": {
            "tags": []
          },
          "execution_count": 24
        },
        {
          "output_type": "execute_result",
          "data": {
            "application/vnd.google.colaboratory.intrinsic+json": {
              "type": "string"
            },
            "text/plain": [
              "'/content/Development_Dataset_15/training/images/Roseau_haricot_0384_false.png'"
            ]
          },
          "metadata": {
            "tags": []
          },
          "execution_count": 24
        },
        {
          "output_type": "execute_result",
          "data": {
            "application/vnd.google.colaboratory.intrinsic+json": {
              "type": "string"
            },
            "text/plain": [
              "'/content/Development_Dataset_15/training/masks/Roseau_haricot_0384_false.png'"
            ]
          },
          "metadata": {
            "tags": []
          },
          "execution_count": 24
        },
        {
          "output_type": "execute_result",
          "data": {
            "application/vnd.google.colaboratory.intrinsic+json": {
              "type": "string"
            },
            "text/plain": [
              "'/content/Development_Dataset_15/training/images/Roseau_haricot_0318_false.png'"
            ]
          },
          "metadata": {
            "tags": []
          },
          "execution_count": 24
        },
        {
          "output_type": "execute_result",
          "data": {
            "application/vnd.google.colaboratory.intrinsic+json": {
              "type": "string"
            },
            "text/plain": [
              "'/content/Development_Dataset_15/training/masks/Roseau_haricot_0318_false.png'"
            ]
          },
          "metadata": {
            "tags": []
          },
          "execution_count": 24
        },
        {
          "output_type": "execute_result",
          "data": {
            "application/vnd.google.colaboratory.intrinsic+json": {
              "type": "string"
            },
            "text/plain": [
              "'/content/Development_Dataset_15/training/images/Roseau_haricot_0138_false.png'"
            ]
          },
          "metadata": {
            "tags": []
          },
          "execution_count": 24
        },
        {
          "output_type": "execute_result",
          "data": {
            "application/vnd.google.colaboratory.intrinsic+json": {
              "type": "string"
            },
            "text/plain": [
              "'/content/Development_Dataset_15/training/masks/Roseau_haricot_0138_false.png'"
            ]
          },
          "metadata": {
            "tags": []
          },
          "execution_count": 24
        },
        {
          "output_type": "execute_result",
          "data": {
            "application/vnd.google.colaboratory.intrinsic+json": {
              "type": "string"
            },
            "text/plain": [
              "'/content/Development_Dataset_15/training/images/Roseau_haricot_0352_false.png'"
            ]
          },
          "metadata": {
            "tags": []
          },
          "execution_count": 24
        },
        {
          "output_type": "execute_result",
          "data": {
            "application/vnd.google.colaboratory.intrinsic+json": {
              "type": "string"
            },
            "text/plain": [
              "'/content/Development_Dataset_15/training/masks/Roseau_haricot_0352_false.png'"
            ]
          },
          "metadata": {
            "tags": []
          },
          "execution_count": 24
        },
        {
          "output_type": "execute_result",
          "data": {
            "application/vnd.google.colaboratory.intrinsic+json": {
              "type": "string"
            },
            "text/plain": [
              "'/content/Development_Dataset_15/training/images/Roseau_haricot_0348_false.png'"
            ]
          },
          "metadata": {
            "tags": []
          },
          "execution_count": 24
        },
        {
          "output_type": "execute_result",
          "data": {
            "application/vnd.google.colaboratory.intrinsic+json": {
              "type": "string"
            },
            "text/plain": [
              "'/content/Development_Dataset_15/training/masks/Roseau_haricot_0348_false.png'"
            ]
          },
          "metadata": {
            "tags": []
          },
          "execution_count": 24
        },
        {
          "output_type": "execute_result",
          "data": {
            "application/vnd.google.colaboratory.intrinsic+json": {
              "type": "string"
            },
            "text/plain": [
              "'/content/Development_Dataset_15/training/images/Roseau_haricot_0312_false.png'"
            ]
          },
          "metadata": {
            "tags": []
          },
          "execution_count": 24
        },
        {
          "output_type": "execute_result",
          "data": {
            "application/vnd.google.colaboratory.intrinsic+json": {
              "type": "string"
            },
            "text/plain": [
              "'/content/Development_Dataset_15/training/masks/Roseau_haricot_0312_false.png'"
            ]
          },
          "metadata": {
            "tags": []
          },
          "execution_count": 24
        },
        {
          "output_type": "execute_result",
          "data": {
            "application/vnd.google.colaboratory.intrinsic+json": {
              "type": "string"
            },
            "text/plain": [
              "'/content/Development_Dataset_15/training/images/Roseau_haricot_0204_false.png'"
            ]
          },
          "metadata": {
            "tags": []
          },
          "execution_count": 24
        },
        {
          "output_type": "execute_result",
          "data": {
            "application/vnd.google.colaboratory.intrinsic+json": {
              "type": "string"
            },
            "text/plain": [
              "'/content/Development_Dataset_15/training/masks/Roseau_haricot_0204_false.png'"
            ]
          },
          "metadata": {
            "tags": []
          },
          "execution_count": 24
        },
        {
          "output_type": "execute_result",
          "data": {
            "application/vnd.google.colaboratory.intrinsic+json": {
              "type": "string"
            },
            "text/plain": [
              "'/content/Development_Dataset_15/training/images/Roseau_haricot_0180_false.png'"
            ]
          },
          "metadata": {
            "tags": []
          },
          "execution_count": 24
        },
        {
          "output_type": "execute_result",
          "data": {
            "application/vnd.google.colaboratory.intrinsic+json": {
              "type": "string"
            },
            "text/plain": [
              "'/content/Development_Dataset_15/training/masks/Roseau_haricot_0180_false.png'"
            ]
          },
          "metadata": {
            "tags": []
          },
          "execution_count": 24
        },
        {
          "output_type": "execute_result",
          "data": {
            "application/vnd.google.colaboratory.intrinsic+json": {
              "type": "string"
            },
            "text/plain": [
              "'/content/Development_Dataset_15/training/images/Roseau_haricot_0114_false.png'"
            ]
          },
          "metadata": {
            "tags": []
          },
          "execution_count": 24
        },
        {
          "output_type": "execute_result",
          "data": {
            "application/vnd.google.colaboratory.intrinsic+json": {
              "type": "string"
            },
            "text/plain": [
              "'/content/Development_Dataset_15/training/masks/Roseau_haricot_0114_false.png'"
            ]
          },
          "metadata": {
            "tags": []
          },
          "execution_count": 24
        },
        {
          "output_type": "execute_result",
          "data": {
            "application/vnd.google.colaboratory.intrinsic+json": {
              "type": "string"
            },
            "text/plain": [
              "'/content/Development_Dataset_15/training/images/Roseau_haricot_0308_false.png'"
            ]
          },
          "metadata": {
            "tags": []
          },
          "execution_count": 24
        },
        {
          "output_type": "execute_result",
          "data": {
            "application/vnd.google.colaboratory.intrinsic+json": {
              "type": "string"
            },
            "text/plain": [
              "'/content/Development_Dataset_15/training/masks/Roseau_haricot_0308_false.png'"
            ]
          },
          "metadata": {
            "tags": []
          },
          "execution_count": 24
        },
        {
          "output_type": "execute_result",
          "data": {
            "application/vnd.google.colaboratory.intrinsic+json": {
              "type": "string"
            },
            "text/plain": [
              "'/content/Development_Dataset_15/training/images/Roseau_haricot_0336_false.png'"
            ]
          },
          "metadata": {
            "tags": []
          },
          "execution_count": 24
        },
        {
          "output_type": "execute_result",
          "data": {
            "application/vnd.google.colaboratory.intrinsic+json": {
              "type": "string"
            },
            "text/plain": [
              "'/content/Development_Dataset_15/training/masks/Roseau_haricot_0336_false.png'"
            ]
          },
          "metadata": {
            "tags": []
          },
          "execution_count": 24
        },
        {
          "output_type": "execute_result",
          "data": {
            "application/vnd.google.colaboratory.intrinsic+json": {
              "type": "string"
            },
            "text/plain": [
              "'/content/Development_Dataset_15/training/images/Roseau_haricot_0024_false.png'"
            ]
          },
          "metadata": {
            "tags": []
          },
          "execution_count": 24
        },
        {
          "output_type": "execute_result",
          "data": {
            "application/vnd.google.colaboratory.intrinsic+json": {
              "type": "string"
            },
            "text/plain": [
              "'/content/Development_Dataset_15/training/masks/Roseau_haricot_0024_false.png'"
            ]
          },
          "metadata": {
            "tags": []
          },
          "execution_count": 24
        },
        {
          "output_type": "execute_result",
          "data": {
            "application/vnd.google.colaboratory.intrinsic+json": {
              "type": "string"
            },
            "text/plain": [
              "'/content/Development_Dataset_15/training/images/Roseau_haricot_0356_false.png'"
            ]
          },
          "metadata": {
            "tags": []
          },
          "execution_count": 24
        },
        {
          "output_type": "execute_result",
          "data": {
            "application/vnd.google.colaboratory.intrinsic+json": {
              "type": "string"
            },
            "text/plain": [
              "'/content/Development_Dataset_15/training/masks/Roseau_haricot_0356_false.png'"
            ]
          },
          "metadata": {
            "tags": []
          },
          "execution_count": 24
        },
        {
          "output_type": "execute_result",
          "data": {
            "application/vnd.google.colaboratory.intrinsic+json": {
              "type": "string"
            },
            "text/plain": [
              "'/content/Development_Dataset_15/training/images/Roseau_haricot_0260_false.png'"
            ]
          },
          "metadata": {
            "tags": []
          },
          "execution_count": 24
        },
        {
          "output_type": "execute_result",
          "data": {
            "application/vnd.google.colaboratory.intrinsic+json": {
              "type": "string"
            },
            "text/plain": [
              "'/content/Development_Dataset_15/training/masks/Roseau_haricot_0260_false.png'"
            ]
          },
          "metadata": {
            "tags": []
          },
          "execution_count": 24
        },
        {
          "output_type": "execute_result",
          "data": {
            "application/vnd.google.colaboratory.intrinsic+json": {
              "type": "string"
            },
            "text/plain": [
              "'/content/Development_Dataset_15/training/images/Roseau_haricot_0082_false.png'"
            ]
          },
          "metadata": {
            "tags": []
          },
          "execution_count": 24
        },
        {
          "output_type": "execute_result",
          "data": {
            "application/vnd.google.colaboratory.intrinsic+json": {
              "type": "string"
            },
            "text/plain": [
              "'/content/Development_Dataset_15/training/masks/Roseau_haricot_0082_false.png'"
            ]
          },
          "metadata": {
            "tags": []
          },
          "execution_count": 24
        },
        {
          "output_type": "execute_result",
          "data": {
            "application/vnd.google.colaboratory.intrinsic+json": {
              "type": "string"
            },
            "text/plain": [
              "'/content/Development_Dataset_15/training/images/Roseau_haricot_0264_false.png'"
            ]
          },
          "metadata": {
            "tags": []
          },
          "execution_count": 24
        },
        {
          "output_type": "execute_result",
          "data": {
            "application/vnd.google.colaboratory.intrinsic+json": {
              "type": "string"
            },
            "text/plain": [
              "'/content/Development_Dataset_15/training/masks/Roseau_haricot_0264_false.png'"
            ]
          },
          "metadata": {
            "tags": []
          },
          "execution_count": 24
        },
        {
          "output_type": "execute_result",
          "data": {
            "application/vnd.google.colaboratory.intrinsic+json": {
              "type": "string"
            },
            "text/plain": [
              "'/content/Development_Dataset_15/training/images/Roseau_haricot_0122_false.png'"
            ]
          },
          "metadata": {
            "tags": []
          },
          "execution_count": 24
        },
        {
          "output_type": "execute_result",
          "data": {
            "application/vnd.google.colaboratory.intrinsic+json": {
              "type": "string"
            },
            "text/plain": [
              "'/content/Development_Dataset_15/training/masks/Roseau_haricot_0122_false.png'"
            ]
          },
          "metadata": {
            "tags": []
          },
          "execution_count": 24
        },
        {
          "output_type": "execute_result",
          "data": {
            "application/vnd.google.colaboratory.intrinsic+json": {
              "type": "string"
            },
            "text/plain": [
              "'/content/Development_Dataset_15/training/images/Roseau_haricot_0340_false.png'"
            ]
          },
          "metadata": {
            "tags": []
          },
          "execution_count": 24
        },
        {
          "output_type": "execute_result",
          "data": {
            "application/vnd.google.colaboratory.intrinsic+json": {
              "type": "string"
            },
            "text/plain": [
              "'/content/Development_Dataset_15/training/masks/Roseau_haricot_0340_false.png'"
            ]
          },
          "metadata": {
            "tags": []
          },
          "execution_count": 24
        },
        {
          "output_type": "execute_result",
          "data": {
            "application/vnd.google.colaboratory.intrinsic+json": {
              "type": "string"
            },
            "text/plain": [
              "'/content/Development_Dataset_15/validation/images/Roseau_haricot_0252_false.png'"
            ]
          },
          "metadata": {
            "tags": []
          },
          "execution_count": 24
        },
        {
          "output_type": "execute_result",
          "data": {
            "application/vnd.google.colaboratory.intrinsic+json": {
              "type": "string"
            },
            "text/plain": [
              "'/content/Development_Dataset_15/validation/masks/Roseau_haricot_0252_false.png'"
            ]
          },
          "metadata": {
            "tags": []
          },
          "execution_count": 24
        },
        {
          "output_type": "execute_result",
          "data": {
            "application/vnd.google.colaboratory.intrinsic+json": {
              "type": "string"
            },
            "text/plain": [
              "'/content/Development_Dataset_15/validation/images/Roseau_haricot_0012_false.png'"
            ]
          },
          "metadata": {
            "tags": []
          },
          "execution_count": 24
        },
        {
          "output_type": "execute_result",
          "data": {
            "application/vnd.google.colaboratory.intrinsic+json": {
              "type": "string"
            },
            "text/plain": [
              "'/content/Development_Dataset_15/validation/masks/Roseau_haricot_0012_false.png'"
            ]
          },
          "metadata": {
            "tags": []
          },
          "execution_count": 24
        },
        {
          "output_type": "execute_result",
          "data": {
            "application/vnd.google.colaboratory.intrinsic+json": {
              "type": "string"
            },
            "text/plain": [
              "'/content/Development_Dataset_15/validation/images/Roseau_haricot_0232_false.png'"
            ]
          },
          "metadata": {
            "tags": []
          },
          "execution_count": 24
        },
        {
          "output_type": "execute_result",
          "data": {
            "application/vnd.google.colaboratory.intrinsic+json": {
              "type": "string"
            },
            "text/plain": [
              "'/content/Development_Dataset_15/validation/masks/Roseau_haricot_0232_false.png'"
            ]
          },
          "metadata": {
            "tags": []
          },
          "execution_count": 24
        },
        {
          "output_type": "execute_result",
          "data": {
            "application/vnd.google.colaboratory.intrinsic+json": {
              "type": "string"
            },
            "text/plain": [
              "'/content/Development_Dataset_15/validation/images/Roseau_haricot_0034_false.png'"
            ]
          },
          "metadata": {
            "tags": []
          },
          "execution_count": 24
        },
        {
          "output_type": "execute_result",
          "data": {
            "application/vnd.google.colaboratory.intrinsic+json": {
              "type": "string"
            },
            "text/plain": [
              "'/content/Development_Dataset_15/validation/masks/Roseau_haricot_0034_false.png'"
            ]
          },
          "metadata": {
            "tags": []
          },
          "execution_count": 24
        },
        {
          "output_type": "execute_result",
          "data": {
            "application/vnd.google.colaboratory.intrinsic+json": {
              "type": "string"
            },
            "text/plain": [
              "'/content/Development_Dataset_15/validation/images/Roseau_haricot_0116_false.png'"
            ]
          },
          "metadata": {
            "tags": []
          },
          "execution_count": 24
        },
        {
          "output_type": "execute_result",
          "data": {
            "application/vnd.google.colaboratory.intrinsic+json": {
              "type": "string"
            },
            "text/plain": [
              "'/content/Development_Dataset_15/validation/masks/Roseau_haricot_0116_false.png'"
            ]
          },
          "metadata": {
            "tags": []
          },
          "execution_count": 24
        },
        {
          "output_type": "execute_result",
          "data": {
            "application/vnd.google.colaboratory.intrinsic+json": {
              "type": "string"
            },
            "text/plain": [
              "'/content/Development_Dataset_15/validation/images/Roseau_haricot_0212_false.png'"
            ]
          },
          "metadata": {
            "tags": []
          },
          "execution_count": 24
        },
        {
          "output_type": "execute_result",
          "data": {
            "application/vnd.google.colaboratory.intrinsic+json": {
              "type": "string"
            },
            "text/plain": [
              "'/content/Development_Dataset_15/validation/masks/Roseau_haricot_0212_false.png'"
            ]
          },
          "metadata": {
            "tags": []
          },
          "execution_count": 24
        },
        {
          "output_type": "execute_result",
          "data": {
            "application/vnd.google.colaboratory.intrinsic+json": {
              "type": "string"
            },
            "text/plain": [
              "'/content/Development_Dataset_15/validation/images/Roseau_haricot_0058_false.png'"
            ]
          },
          "metadata": {
            "tags": []
          },
          "execution_count": 24
        },
        {
          "output_type": "execute_result",
          "data": {
            "application/vnd.google.colaboratory.intrinsic+json": {
              "type": "string"
            },
            "text/plain": [
              "'/content/Development_Dataset_15/validation/masks/Roseau_haricot_0058_false.png'"
            ]
          },
          "metadata": {
            "tags": []
          },
          "execution_count": 24
        },
        {
          "output_type": "execute_result",
          "data": {
            "application/vnd.google.colaboratory.intrinsic+json": {
              "type": "string"
            },
            "text/plain": [
              "'/content/Development_Dataset_15/validation/images/Roseau_haricot_0192_false.png'"
            ]
          },
          "metadata": {
            "tags": []
          },
          "execution_count": 24
        },
        {
          "output_type": "execute_result",
          "data": {
            "application/vnd.google.colaboratory.intrinsic+json": {
              "type": "string"
            },
            "text/plain": [
              "'/content/Development_Dataset_15/validation/masks/Roseau_haricot_0192_false.png'"
            ]
          },
          "metadata": {
            "tags": []
          },
          "execution_count": 24
        },
        {
          "output_type": "execute_result",
          "data": {
            "application/vnd.google.colaboratory.intrinsic+json": {
              "type": "string"
            },
            "text/plain": [
              "'/content/Development_Dataset_15/validation/images/Roseau_haricot_0276_false.png'"
            ]
          },
          "metadata": {
            "tags": []
          },
          "execution_count": 24
        },
        {
          "output_type": "execute_result",
          "data": {
            "application/vnd.google.colaboratory.intrinsic+json": {
              "type": "string"
            },
            "text/plain": [
              "'/content/Development_Dataset_15/validation/masks/Roseau_haricot_0276_false.png'"
            ]
          },
          "metadata": {
            "tags": []
          },
          "execution_count": 24
        },
        {
          "output_type": "execute_result",
          "data": {
            "application/vnd.google.colaboratory.intrinsic+json": {
              "type": "string"
            },
            "text/plain": [
              "'/content/Development_Dataset_15/validation/images/Roseau_haricot_0332_false.png'"
            ]
          },
          "metadata": {
            "tags": []
          },
          "execution_count": 24
        },
        {
          "output_type": "execute_result",
          "data": {
            "application/vnd.google.colaboratory.intrinsic+json": {
              "type": "string"
            },
            "text/plain": [
              "'/content/Development_Dataset_15/validation/masks/Roseau_haricot_0332_false.png'"
            ]
          },
          "metadata": {
            "tags": []
          },
          "execution_count": 24
        },
        {
          "output_type": "execute_result",
          "data": {
            "application/vnd.google.colaboratory.intrinsic+json": {
              "type": "string"
            },
            "text/plain": [
              "'/content/Development_Dataset_15/validation/images/Roseau_haricot_0364_false.png'"
            ]
          },
          "metadata": {
            "tags": []
          },
          "execution_count": 24
        },
        {
          "output_type": "execute_result",
          "data": {
            "application/vnd.google.colaboratory.intrinsic+json": {
              "type": "string"
            },
            "text/plain": [
              "'/content/Development_Dataset_15/validation/masks/Roseau_haricot_0364_false.png'"
            ]
          },
          "metadata": {
            "tags": []
          },
          "execution_count": 24
        },
        {
          "output_type": "execute_result",
          "data": {
            "application/vnd.google.colaboratory.intrinsic+json": {
              "type": "string"
            },
            "text/plain": [
              "'/content/Development_Dataset_15/validation/images/Roseau_haricot_0324_false.png'"
            ]
          },
          "metadata": {
            "tags": []
          },
          "execution_count": 24
        },
        {
          "output_type": "execute_result",
          "data": {
            "application/vnd.google.colaboratory.intrinsic+json": {
              "type": "string"
            },
            "text/plain": [
              "'/content/Development_Dataset_15/validation/masks/Roseau_haricot_0324_false.png'"
            ]
          },
          "metadata": {
            "tags": []
          },
          "execution_count": 24
        },
        {
          "output_type": "execute_result",
          "data": {
            "application/vnd.google.colaboratory.intrinsic+json": {
              "type": "string"
            },
            "text/plain": [
              "'/content/Development_Dataset_15/validation/images/Roseau_haricot_0380_false.png'"
            ]
          },
          "metadata": {
            "tags": []
          },
          "execution_count": 24
        },
        {
          "output_type": "execute_result",
          "data": {
            "application/vnd.google.colaboratory.intrinsic+json": {
              "type": "string"
            },
            "text/plain": [
              "'/content/Development_Dataset_15/validation/masks/Roseau_haricot_0380_false.png'"
            ]
          },
          "metadata": {
            "tags": []
          },
          "execution_count": 24
        },
        {
          "output_type": "execute_result",
          "data": {
            "application/vnd.google.colaboratory.intrinsic+json": {
              "type": "string"
            },
            "text/plain": [
              "'/content/Development_Dataset_15/validation/images/Roseau_haricot_0200_false.png'"
            ]
          },
          "metadata": {
            "tags": []
          },
          "execution_count": 24
        },
        {
          "output_type": "execute_result",
          "data": {
            "application/vnd.google.colaboratory.intrinsic+json": {
              "type": "string"
            },
            "text/plain": [
              "'/content/Development_Dataset_15/validation/masks/Roseau_haricot_0200_false.png'"
            ]
          },
          "metadata": {
            "tags": []
          },
          "execution_count": 24
        },
        {
          "output_type": "execute_result",
          "data": {
            "application/vnd.google.colaboratory.intrinsic+json": {
              "type": "string"
            },
            "text/plain": [
              "'/content/Development_Dataset_15/training/images/Roseau_mais_0320_false.png'"
            ]
          },
          "metadata": {
            "tags": []
          },
          "execution_count": 24
        },
        {
          "output_type": "execute_result",
          "data": {
            "application/vnd.google.colaboratory.intrinsic+json": {
              "type": "string"
            },
            "text/plain": [
              "'/content/Development_Dataset_15/training/masks/Roseau_mais_0320_false.png'"
            ]
          },
          "metadata": {
            "tags": []
          },
          "execution_count": 24
        },
        {
          "output_type": "execute_result",
          "data": {
            "application/vnd.google.colaboratory.intrinsic+json": {
              "type": "string"
            },
            "text/plain": [
              "'/content/Development_Dataset_15/training/images/Roseau_mais_0208_false.png'"
            ]
          },
          "metadata": {
            "tags": []
          },
          "execution_count": 24
        },
        {
          "output_type": "execute_result",
          "data": {
            "application/vnd.google.colaboratory.intrinsic+json": {
              "type": "string"
            },
            "text/plain": [
              "'/content/Development_Dataset_15/training/masks/Roseau_mais_0208_false.png'"
            ]
          },
          "metadata": {
            "tags": []
          },
          "execution_count": 24
        },
        {
          "output_type": "execute_result",
          "data": {
            "application/vnd.google.colaboratory.intrinsic+json": {
              "type": "string"
            },
            "text/plain": [
              "'/content/Development_Dataset_15/training/images/Roseau_mais_0110_false.png'"
            ]
          },
          "metadata": {
            "tags": []
          },
          "execution_count": 24
        },
        {
          "output_type": "execute_result",
          "data": {
            "application/vnd.google.colaboratory.intrinsic+json": {
              "type": "string"
            },
            "text/plain": [
              "'/content/Development_Dataset_15/training/masks/Roseau_mais_0110_false.png'"
            ]
          },
          "metadata": {
            "tags": []
          },
          "execution_count": 24
        },
        {
          "output_type": "execute_result",
          "data": {
            "application/vnd.google.colaboratory.intrinsic+json": {
              "type": "string"
            },
            "text/plain": [
              "'/content/Development_Dataset_15/training/images/Roseau_mais_0028_false.png'"
            ]
          },
          "metadata": {
            "tags": []
          },
          "execution_count": 24
        },
        {
          "output_type": "execute_result",
          "data": {
            "application/vnd.google.colaboratory.intrinsic+json": {
              "type": "string"
            },
            "text/plain": [
              "'/content/Development_Dataset_15/training/masks/Roseau_mais_0028_false.png'"
            ]
          },
          "metadata": {
            "tags": []
          },
          "execution_count": 24
        },
        {
          "output_type": "execute_result",
          "data": {
            "application/vnd.google.colaboratory.intrinsic+json": {
              "type": "string"
            },
            "text/plain": [
              "'/content/Development_Dataset_15/training/images/Roseau_mais_0126_false.png'"
            ]
          },
          "metadata": {
            "tags": []
          },
          "execution_count": 24
        },
        {
          "output_type": "execute_result",
          "data": {
            "application/vnd.google.colaboratory.intrinsic+json": {
              "type": "string"
            },
            "text/plain": [
              "'/content/Development_Dataset_15/training/masks/Roseau_mais_0126_false.png'"
            ]
          },
          "metadata": {
            "tags": []
          },
          "execution_count": 24
        },
        {
          "output_type": "execute_result",
          "data": {
            "application/vnd.google.colaboratory.intrinsic+json": {
              "type": "string"
            },
            "text/plain": [
              "'/content/Development_Dataset_15/training/images/Roseau_mais_0212_false.png'"
            ]
          },
          "metadata": {
            "tags": []
          },
          "execution_count": 24
        },
        {
          "output_type": "execute_result",
          "data": {
            "application/vnd.google.colaboratory.intrinsic+json": {
              "type": "string"
            },
            "text/plain": [
              "'/content/Development_Dataset_15/training/masks/Roseau_mais_0212_false.png'"
            ]
          },
          "metadata": {
            "tags": []
          },
          "execution_count": 24
        },
        {
          "output_type": "execute_result",
          "data": {
            "application/vnd.google.colaboratory.intrinsic+json": {
              "type": "string"
            },
            "text/plain": [
              "'/content/Development_Dataset_15/training/images/Roseau_mais_0090_false.png'"
            ]
          },
          "metadata": {
            "tags": []
          },
          "execution_count": 24
        },
        {
          "output_type": "execute_result",
          "data": {
            "application/vnd.google.colaboratory.intrinsic+json": {
              "type": "string"
            },
            "text/plain": [
              "'/content/Development_Dataset_15/training/masks/Roseau_mais_0090_false.png'"
            ]
          },
          "metadata": {
            "tags": []
          },
          "execution_count": 24
        },
        {
          "output_type": "execute_result",
          "data": {
            "application/vnd.google.colaboratory.intrinsic+json": {
              "type": "string"
            },
            "text/plain": [
              "'/content/Development_Dataset_15/training/images/Roseau_mais_0092_false.png'"
            ]
          },
          "metadata": {
            "tags": []
          },
          "execution_count": 24
        },
        {
          "output_type": "execute_result",
          "data": {
            "application/vnd.google.colaboratory.intrinsic+json": {
              "type": "string"
            },
            "text/plain": [
              "'/content/Development_Dataset_15/training/masks/Roseau_mais_0092_false.png'"
            ]
          },
          "metadata": {
            "tags": []
          },
          "execution_count": 24
        },
        {
          "output_type": "execute_result",
          "data": {
            "application/vnd.google.colaboratory.intrinsic+json": {
              "type": "string"
            },
            "text/plain": [
              "'/content/Development_Dataset_15/training/images/Roseau_mais_0132_false.png'"
            ]
          },
          "metadata": {
            "tags": []
          },
          "execution_count": 24
        },
        {
          "output_type": "execute_result",
          "data": {
            "application/vnd.google.colaboratory.intrinsic+json": {
              "type": "string"
            },
            "text/plain": [
              "'/content/Development_Dataset_15/training/masks/Roseau_mais_0132_false.png'"
            ]
          },
          "metadata": {
            "tags": []
          },
          "execution_count": 24
        },
        {
          "output_type": "execute_result",
          "data": {
            "application/vnd.google.colaboratory.intrinsic+json": {
              "type": "string"
            },
            "text/plain": [
              "'/content/Development_Dataset_15/training/images/Roseau_mais_0054_false.png'"
            ]
          },
          "metadata": {
            "tags": []
          },
          "execution_count": 24
        },
        {
          "output_type": "execute_result",
          "data": {
            "application/vnd.google.colaboratory.intrinsic+json": {
              "type": "string"
            },
            "text/plain": [
              "'/content/Development_Dataset_15/training/masks/Roseau_mais_0054_false.png'"
            ]
          },
          "metadata": {
            "tags": []
          },
          "execution_count": 24
        },
        {
          "output_type": "execute_result",
          "data": {
            "application/vnd.google.colaboratory.intrinsic+json": {
              "type": "string"
            },
            "text/plain": [
              "'/content/Development_Dataset_15/training/images/Roseau_mais_0148_false.png'"
            ]
          },
          "metadata": {
            "tags": []
          },
          "execution_count": 24
        },
        {
          "output_type": "execute_result",
          "data": {
            "application/vnd.google.colaboratory.intrinsic+json": {
              "type": "string"
            },
            "text/plain": [
              "'/content/Development_Dataset_15/training/masks/Roseau_mais_0148_false.png'"
            ]
          },
          "metadata": {
            "tags": []
          },
          "execution_count": 24
        },
        {
          "output_type": "execute_result",
          "data": {
            "application/vnd.google.colaboratory.intrinsic+json": {
              "type": "string"
            },
            "text/plain": [
              "'/content/Development_Dataset_15/training/images/Roseau_mais_0042_false.png'"
            ]
          },
          "metadata": {
            "tags": []
          },
          "execution_count": 24
        },
        {
          "output_type": "execute_result",
          "data": {
            "application/vnd.google.colaboratory.intrinsic+json": {
              "type": "string"
            },
            "text/plain": [
              "'/content/Development_Dataset_15/training/masks/Roseau_mais_0042_false.png'"
            ]
          },
          "metadata": {
            "tags": []
          },
          "execution_count": 24
        },
        {
          "output_type": "execute_result",
          "data": {
            "application/vnd.google.colaboratory.intrinsic+json": {
              "type": "string"
            },
            "text/plain": [
              "'/content/Development_Dataset_15/training/images/Roseau_mais_0124_false.png'"
            ]
          },
          "metadata": {
            "tags": []
          },
          "execution_count": 24
        },
        {
          "output_type": "execute_result",
          "data": {
            "application/vnd.google.colaboratory.intrinsic+json": {
              "type": "string"
            },
            "text/plain": [
              "'/content/Development_Dataset_15/training/masks/Roseau_mais_0124_false.png'"
            ]
          },
          "metadata": {
            "tags": []
          },
          "execution_count": 24
        },
        {
          "output_type": "execute_result",
          "data": {
            "application/vnd.google.colaboratory.intrinsic+json": {
              "type": "string"
            },
            "text/plain": [
              "'/content/Development_Dataset_15/training/images/Roseau_mais_0266_false.png'"
            ]
          },
          "metadata": {
            "tags": []
          },
          "execution_count": 24
        },
        {
          "output_type": "execute_result",
          "data": {
            "application/vnd.google.colaboratory.intrinsic+json": {
              "type": "string"
            },
            "text/plain": [
              "'/content/Development_Dataset_15/training/masks/Roseau_mais_0266_false.png'"
            ]
          },
          "metadata": {
            "tags": []
          },
          "execution_count": 24
        },
        {
          "output_type": "execute_result",
          "data": {
            "application/vnd.google.colaboratory.intrinsic+json": {
              "type": "string"
            },
            "text/plain": [
              "'/content/Development_Dataset_15/training/images/Roseau_mais_0034_false.png'"
            ]
          },
          "metadata": {
            "tags": []
          },
          "execution_count": 24
        },
        {
          "output_type": "execute_result",
          "data": {
            "application/vnd.google.colaboratory.intrinsic+json": {
              "type": "string"
            },
            "text/plain": [
              "'/content/Development_Dataset_15/training/masks/Roseau_mais_0034_false.png'"
            ]
          },
          "metadata": {
            "tags": []
          },
          "execution_count": 24
        },
        {
          "output_type": "execute_result",
          "data": {
            "application/vnd.google.colaboratory.intrinsic+json": {
              "type": "string"
            },
            "text/plain": [
              "'/content/Development_Dataset_15/training/images/Roseau_mais_0346_false.png'"
            ]
          },
          "metadata": {
            "tags": []
          },
          "execution_count": 24
        },
        {
          "output_type": "execute_result",
          "data": {
            "application/vnd.google.colaboratory.intrinsic+json": {
              "type": "string"
            },
            "text/plain": [
              "'/content/Development_Dataset_15/training/masks/Roseau_mais_0346_false.png'"
            ]
          },
          "metadata": {
            "tags": []
          },
          "execution_count": 24
        },
        {
          "output_type": "execute_result",
          "data": {
            "application/vnd.google.colaboratory.intrinsic+json": {
              "type": "string"
            },
            "text/plain": [
              "'/content/Development_Dataset_15/training/images/Roseau_mais_0072_false.png'"
            ]
          },
          "metadata": {
            "tags": []
          },
          "execution_count": 24
        },
        {
          "output_type": "execute_result",
          "data": {
            "application/vnd.google.colaboratory.intrinsic+json": {
              "type": "string"
            },
            "text/plain": [
              "'/content/Development_Dataset_15/training/masks/Roseau_mais_0072_false.png'"
            ]
          },
          "metadata": {
            "tags": []
          },
          "execution_count": 24
        },
        {
          "output_type": "execute_result",
          "data": {
            "application/vnd.google.colaboratory.intrinsic+json": {
              "type": "string"
            },
            "text/plain": [
              "'/content/Development_Dataset_15/training/images/Roseau_mais_0280_false.png'"
            ]
          },
          "metadata": {
            "tags": []
          },
          "execution_count": 24
        },
        {
          "output_type": "execute_result",
          "data": {
            "application/vnd.google.colaboratory.intrinsic+json": {
              "type": "string"
            },
            "text/plain": [
              "'/content/Development_Dataset_15/training/masks/Roseau_mais_0280_false.png'"
            ]
          },
          "metadata": {
            "tags": []
          },
          "execution_count": 24
        },
        {
          "output_type": "execute_result",
          "data": {
            "application/vnd.google.colaboratory.intrinsic+json": {
              "type": "string"
            },
            "text/plain": [
              "'/content/Development_Dataset_15/training/images/Roseau_mais_0368_false.png'"
            ]
          },
          "metadata": {
            "tags": []
          },
          "execution_count": 24
        },
        {
          "output_type": "execute_result",
          "data": {
            "application/vnd.google.colaboratory.intrinsic+json": {
              "type": "string"
            },
            "text/plain": [
              "'/content/Development_Dataset_15/training/masks/Roseau_mais_0368_false.png'"
            ]
          },
          "metadata": {
            "tags": []
          },
          "execution_count": 24
        },
        {
          "output_type": "execute_result",
          "data": {
            "application/vnd.google.colaboratory.intrinsic+json": {
              "type": "string"
            },
            "text/plain": [
              "'/content/Development_Dataset_15/training/images/Roseau_mais_0258_false.png'"
            ]
          },
          "metadata": {
            "tags": []
          },
          "execution_count": 24
        },
        {
          "output_type": "execute_result",
          "data": {
            "application/vnd.google.colaboratory.intrinsic+json": {
              "type": "string"
            },
            "text/plain": [
              "'/content/Development_Dataset_15/training/masks/Roseau_mais_0258_false.png'"
            ]
          },
          "metadata": {
            "tags": []
          },
          "execution_count": 24
        },
        {
          "output_type": "execute_result",
          "data": {
            "application/vnd.google.colaboratory.intrinsic+json": {
              "type": "string"
            },
            "text/plain": [
              "'/content/Development_Dataset_15/training/images/Roseau_mais_0352_false.png'"
            ]
          },
          "metadata": {
            "tags": []
          },
          "execution_count": 24
        },
        {
          "output_type": "execute_result",
          "data": {
            "application/vnd.google.colaboratory.intrinsic+json": {
              "type": "string"
            },
            "text/plain": [
              "'/content/Development_Dataset_15/training/masks/Roseau_mais_0352_false.png'"
            ]
          },
          "metadata": {
            "tags": []
          },
          "execution_count": 24
        },
        {
          "output_type": "execute_result",
          "data": {
            "application/vnd.google.colaboratory.intrinsic+json": {
              "type": "string"
            },
            "text/plain": [
              "'/content/Development_Dataset_15/training/images/Roseau_mais_0182_false.png'"
            ]
          },
          "metadata": {
            "tags": []
          },
          "execution_count": 24
        },
        {
          "output_type": "execute_result",
          "data": {
            "application/vnd.google.colaboratory.intrinsic+json": {
              "type": "string"
            },
            "text/plain": [
              "'/content/Development_Dataset_15/training/masks/Roseau_mais_0182_false.png'"
            ]
          },
          "metadata": {
            "tags": []
          },
          "execution_count": 24
        },
        {
          "output_type": "execute_result",
          "data": {
            "application/vnd.google.colaboratory.intrinsic+json": {
              "type": "string"
            },
            "text/plain": [
              "'/content/Development_Dataset_15/training/images/Roseau_mais_0298_false.png'"
            ]
          },
          "metadata": {
            "tags": []
          },
          "execution_count": 24
        },
        {
          "output_type": "execute_result",
          "data": {
            "application/vnd.google.colaboratory.intrinsic+json": {
              "type": "string"
            },
            "text/plain": [
              "'/content/Development_Dataset_15/training/masks/Roseau_mais_0298_false.png'"
            ]
          },
          "metadata": {
            "tags": []
          },
          "execution_count": 24
        },
        {
          "output_type": "execute_result",
          "data": {
            "application/vnd.google.colaboratory.intrinsic+json": {
              "type": "string"
            },
            "text/plain": [
              "'/content/Development_Dataset_15/training/images/Roseau_mais_0140_false.png'"
            ]
          },
          "metadata": {
            "tags": []
          },
          "execution_count": 24
        },
        {
          "output_type": "execute_result",
          "data": {
            "application/vnd.google.colaboratory.intrinsic+json": {
              "type": "string"
            },
            "text/plain": [
              "'/content/Development_Dataset_15/training/masks/Roseau_mais_0140_false.png'"
            ]
          },
          "metadata": {
            "tags": []
          },
          "execution_count": 24
        },
        {
          "output_type": "execute_result",
          "data": {
            "application/vnd.google.colaboratory.intrinsic+json": {
              "type": "string"
            },
            "text/plain": [
              "'/content/Development_Dataset_15/training/images/Roseau_mais_0228_false.png'"
            ]
          },
          "metadata": {
            "tags": []
          },
          "execution_count": 24
        },
        {
          "output_type": "execute_result",
          "data": {
            "application/vnd.google.colaboratory.intrinsic+json": {
              "type": "string"
            },
            "text/plain": [
              "'/content/Development_Dataset_15/training/masks/Roseau_mais_0228_false.png'"
            ]
          },
          "metadata": {
            "tags": []
          },
          "execution_count": 24
        },
        {
          "output_type": "execute_result",
          "data": {
            "application/vnd.google.colaboratory.intrinsic+json": {
              "type": "string"
            },
            "text/plain": [
              "'/content/Development_Dataset_15/training/images/Roseau_mais_0052_false.png'"
            ]
          },
          "metadata": {
            "tags": []
          },
          "execution_count": 24
        },
        {
          "output_type": "execute_result",
          "data": {
            "application/vnd.google.colaboratory.intrinsic+json": {
              "type": "string"
            },
            "text/plain": [
              "'/content/Development_Dataset_15/training/masks/Roseau_mais_0052_false.png'"
            ]
          },
          "metadata": {
            "tags": []
          },
          "execution_count": 24
        },
        {
          "output_type": "execute_result",
          "data": {
            "application/vnd.google.colaboratory.intrinsic+json": {
              "type": "string"
            },
            "text/plain": [
              "'/content/Development_Dataset_15/training/images/Roseau_mais_0248_false.png'"
            ]
          },
          "metadata": {
            "tags": []
          },
          "execution_count": 24
        },
        {
          "output_type": "execute_result",
          "data": {
            "application/vnd.google.colaboratory.intrinsic+json": {
              "type": "string"
            },
            "text/plain": [
              "'/content/Development_Dataset_15/training/masks/Roseau_mais_0248_false.png'"
            ]
          },
          "metadata": {
            "tags": []
          },
          "execution_count": 24
        },
        {
          "output_type": "execute_result",
          "data": {
            "application/vnd.google.colaboratory.intrinsic+json": {
              "type": "string"
            },
            "text/plain": [
              "'/content/Development_Dataset_15/training/images/Roseau_mais_0136_false.png'"
            ]
          },
          "metadata": {
            "tags": []
          },
          "execution_count": 24
        },
        {
          "output_type": "execute_result",
          "data": {
            "application/vnd.google.colaboratory.intrinsic+json": {
              "type": "string"
            },
            "text/plain": [
              "'/content/Development_Dataset_15/training/masks/Roseau_mais_0136_false.png'"
            ]
          },
          "metadata": {
            "tags": []
          },
          "execution_count": 24
        },
        {
          "output_type": "execute_result",
          "data": {
            "application/vnd.google.colaboratory.intrinsic+json": {
              "type": "string"
            },
            "text/plain": [
              "'/content/Development_Dataset_15/training/images/Roseau_mais_0180_false.png'"
            ]
          },
          "metadata": {
            "tags": []
          },
          "execution_count": 24
        },
        {
          "output_type": "execute_result",
          "data": {
            "application/vnd.google.colaboratory.intrinsic+json": {
              "type": "string"
            },
            "text/plain": [
              "'/content/Development_Dataset_15/training/masks/Roseau_mais_0180_false.png'"
            ]
          },
          "metadata": {
            "tags": []
          },
          "execution_count": 24
        },
        {
          "output_type": "execute_result",
          "data": {
            "application/vnd.google.colaboratory.intrinsic+json": {
              "type": "string"
            },
            "text/plain": [
              "'/content/Development_Dataset_15/training/images/Roseau_mais_0296_false.png'"
            ]
          },
          "metadata": {
            "tags": []
          },
          "execution_count": 24
        },
        {
          "output_type": "execute_result",
          "data": {
            "application/vnd.google.colaboratory.intrinsic+json": {
              "type": "string"
            },
            "text/plain": [
              "'/content/Development_Dataset_15/training/masks/Roseau_mais_0296_false.png'"
            ]
          },
          "metadata": {
            "tags": []
          },
          "execution_count": 24
        },
        {
          "output_type": "execute_result",
          "data": {
            "application/vnd.google.colaboratory.intrinsic+json": {
              "type": "string"
            },
            "text/plain": [
              "'/content/Development_Dataset_15/training/images/Roseau_mais_0192_false.png'"
            ]
          },
          "metadata": {
            "tags": []
          },
          "execution_count": 24
        },
        {
          "output_type": "execute_result",
          "data": {
            "application/vnd.google.colaboratory.intrinsic+json": {
              "type": "string"
            },
            "text/plain": [
              "'/content/Development_Dataset_15/training/masks/Roseau_mais_0192_false.png'"
            ]
          },
          "metadata": {
            "tags": []
          },
          "execution_count": 24
        },
        {
          "output_type": "execute_result",
          "data": {
            "application/vnd.google.colaboratory.intrinsic+json": {
              "type": "string"
            },
            "text/plain": [
              "'/content/Development_Dataset_15/training/images/Roseau_mais_0294_false.png'"
            ]
          },
          "metadata": {
            "tags": []
          },
          "execution_count": 24
        },
        {
          "output_type": "execute_result",
          "data": {
            "application/vnd.google.colaboratory.intrinsic+json": {
              "type": "string"
            },
            "text/plain": [
              "'/content/Development_Dataset_15/training/masks/Roseau_mais_0294_false.png'"
            ]
          },
          "metadata": {
            "tags": []
          },
          "execution_count": 24
        },
        {
          "output_type": "execute_result",
          "data": {
            "application/vnd.google.colaboratory.intrinsic+json": {
              "type": "string"
            },
            "text/plain": [
              "'/content/Development_Dataset_15/training/images/Roseau_mais_0278_false.png'"
            ]
          },
          "metadata": {
            "tags": []
          },
          "execution_count": 24
        },
        {
          "output_type": "execute_result",
          "data": {
            "application/vnd.google.colaboratory.intrinsic+json": {
              "type": "string"
            },
            "text/plain": [
              "'/content/Development_Dataset_15/training/masks/Roseau_mais_0278_false.png'"
            ]
          },
          "metadata": {
            "tags": []
          },
          "execution_count": 24
        },
        {
          "output_type": "execute_result",
          "data": {
            "application/vnd.google.colaboratory.intrinsic+json": {
              "type": "string"
            },
            "text/plain": [
              "'/content/Development_Dataset_15/training/images/Roseau_mais_0168_false.png'"
            ]
          },
          "metadata": {
            "tags": []
          },
          "execution_count": 24
        },
        {
          "output_type": "execute_result",
          "data": {
            "application/vnd.google.colaboratory.intrinsic+json": {
              "type": "string"
            },
            "text/plain": [
              "'/content/Development_Dataset_15/training/masks/Roseau_mais_0168_false.png'"
            ]
          },
          "metadata": {
            "tags": []
          },
          "execution_count": 24
        },
        {
          "output_type": "execute_result",
          "data": {
            "application/vnd.google.colaboratory.intrinsic+json": {
              "type": "string"
            },
            "text/plain": [
              "'/content/Development_Dataset_15/training/images/Roseau_mais_0290_false.png'"
            ]
          },
          "metadata": {
            "tags": []
          },
          "execution_count": 24
        },
        {
          "output_type": "execute_result",
          "data": {
            "application/vnd.google.colaboratory.intrinsic+json": {
              "type": "string"
            },
            "text/plain": [
              "'/content/Development_Dataset_15/training/masks/Roseau_mais_0290_false.png'"
            ]
          },
          "metadata": {
            "tags": []
          },
          "execution_count": 24
        },
        {
          "output_type": "execute_result",
          "data": {
            "application/vnd.google.colaboratory.intrinsic+json": {
              "type": "string"
            },
            "text/plain": [
              "'/content/Development_Dataset_15/training/images/Roseau_mais_0164_false.png'"
            ]
          },
          "metadata": {
            "tags": []
          },
          "execution_count": 24
        },
        {
          "output_type": "execute_result",
          "data": {
            "application/vnd.google.colaboratory.intrinsic+json": {
              "type": "string"
            },
            "text/plain": [
              "'/content/Development_Dataset_15/training/masks/Roseau_mais_0164_false.png'"
            ]
          },
          "metadata": {
            "tags": []
          },
          "execution_count": 24
        },
        {
          "output_type": "execute_result",
          "data": {
            "application/vnd.google.colaboratory.intrinsic+json": {
              "type": "string"
            },
            "text/plain": [
              "'/content/Development_Dataset_15/training/images/Roseau_mais_0032_false.png'"
            ]
          },
          "metadata": {
            "tags": []
          },
          "execution_count": 24
        },
        {
          "output_type": "execute_result",
          "data": {
            "application/vnd.google.colaboratory.intrinsic+json": {
              "type": "string"
            },
            "text/plain": [
              "'/content/Development_Dataset_15/training/masks/Roseau_mais_0032_false.png'"
            ]
          },
          "metadata": {
            "tags": []
          },
          "execution_count": 24
        },
        {
          "output_type": "execute_result",
          "data": {
            "application/vnd.google.colaboratory.intrinsic+json": {
              "type": "string"
            },
            "text/plain": [
              "'/content/Development_Dataset_15/training/images/Roseau_mais_0044_false.png'"
            ]
          },
          "metadata": {
            "tags": []
          },
          "execution_count": 24
        },
        {
          "output_type": "execute_result",
          "data": {
            "application/vnd.google.colaboratory.intrinsic+json": {
              "type": "string"
            },
            "text/plain": [
              "'/content/Development_Dataset_15/training/masks/Roseau_mais_0044_false.png'"
            ]
          },
          "metadata": {
            "tags": []
          },
          "execution_count": 24
        },
        {
          "output_type": "execute_result",
          "data": {
            "application/vnd.google.colaboratory.intrinsic+json": {
              "type": "string"
            },
            "text/plain": [
              "'/content/Development_Dataset_15/training/images/Roseau_mais_0194_false.png'"
            ]
          },
          "metadata": {
            "tags": []
          },
          "execution_count": 24
        },
        {
          "output_type": "execute_result",
          "data": {
            "application/vnd.google.colaboratory.intrinsic+json": {
              "type": "string"
            },
            "text/plain": [
              "'/content/Development_Dataset_15/training/masks/Roseau_mais_0194_false.png'"
            ]
          },
          "metadata": {
            "tags": []
          },
          "execution_count": 24
        },
        {
          "output_type": "execute_result",
          "data": {
            "application/vnd.google.colaboratory.intrinsic+json": {
              "type": "string"
            },
            "text/plain": [
              "'/content/Development_Dataset_15/training/images/Roseau_mais_0144_false.png'"
            ]
          },
          "metadata": {
            "tags": []
          },
          "execution_count": 24
        },
        {
          "output_type": "execute_result",
          "data": {
            "application/vnd.google.colaboratory.intrinsic+json": {
              "type": "string"
            },
            "text/plain": [
              "'/content/Development_Dataset_15/training/masks/Roseau_mais_0144_false.png'"
            ]
          },
          "metadata": {
            "tags": []
          },
          "execution_count": 24
        },
        {
          "output_type": "execute_result",
          "data": {
            "application/vnd.google.colaboratory.intrinsic+json": {
              "type": "string"
            },
            "text/plain": [
              "'/content/Development_Dataset_15/training/images/Roseau_mais_0156_false.png'"
            ]
          },
          "metadata": {
            "tags": []
          },
          "execution_count": 24
        },
        {
          "output_type": "execute_result",
          "data": {
            "application/vnd.google.colaboratory.intrinsic+json": {
              "type": "string"
            },
            "text/plain": [
              "'/content/Development_Dataset_15/training/masks/Roseau_mais_0156_false.png'"
            ]
          },
          "metadata": {
            "tags": []
          },
          "execution_count": 24
        },
        {
          "output_type": "execute_result",
          "data": {
            "application/vnd.google.colaboratory.intrinsic+json": {
              "type": "string"
            },
            "text/plain": [
              "'/content/Development_Dataset_15/training/images/Roseau_mais_0206_false.png'"
            ]
          },
          "metadata": {
            "tags": []
          },
          "execution_count": 24
        },
        {
          "output_type": "execute_result",
          "data": {
            "application/vnd.google.colaboratory.intrinsic+json": {
              "type": "string"
            },
            "text/plain": [
              "'/content/Development_Dataset_15/training/masks/Roseau_mais_0206_false.png'"
            ]
          },
          "metadata": {
            "tags": []
          },
          "execution_count": 24
        },
        {
          "output_type": "execute_result",
          "data": {
            "application/vnd.google.colaboratory.intrinsic+json": {
              "type": "string"
            },
            "text/plain": [
              "'/content/Development_Dataset_15/training/images/Roseau_mais_0170_false.png'"
            ]
          },
          "metadata": {
            "tags": []
          },
          "execution_count": 24
        },
        {
          "output_type": "execute_result",
          "data": {
            "application/vnd.google.colaboratory.intrinsic+json": {
              "type": "string"
            },
            "text/plain": [
              "'/content/Development_Dataset_15/training/masks/Roseau_mais_0170_false.png'"
            ]
          },
          "metadata": {
            "tags": []
          },
          "execution_count": 24
        },
        {
          "output_type": "execute_result",
          "data": {
            "application/vnd.google.colaboratory.intrinsic+json": {
              "type": "string"
            },
            "text/plain": [
              "'/content/Development_Dataset_15/training/images/Roseau_mais_0318_false.png'"
            ]
          },
          "metadata": {
            "tags": []
          },
          "execution_count": 24
        },
        {
          "output_type": "execute_result",
          "data": {
            "application/vnd.google.colaboratory.intrinsic+json": {
              "type": "string"
            },
            "text/plain": [
              "'/content/Development_Dataset_15/training/masks/Roseau_mais_0318_false.png'"
            ]
          },
          "metadata": {
            "tags": []
          },
          "execution_count": 24
        },
        {
          "output_type": "execute_result",
          "data": {
            "application/vnd.google.colaboratory.intrinsic+json": {
              "type": "string"
            },
            "text/plain": [
              "'/content/Development_Dataset_15/training/images/Roseau_mais_0304_false.png'"
            ]
          },
          "metadata": {
            "tags": []
          },
          "execution_count": 24
        },
        {
          "output_type": "execute_result",
          "data": {
            "application/vnd.google.colaboratory.intrinsic+json": {
              "type": "string"
            },
            "text/plain": [
              "'/content/Development_Dataset_15/training/masks/Roseau_mais_0304_false.png'"
            ]
          },
          "metadata": {
            "tags": []
          },
          "execution_count": 24
        },
        {
          "output_type": "execute_result",
          "data": {
            "application/vnd.google.colaboratory.intrinsic+json": {
              "type": "string"
            },
            "text/plain": [
              "'/content/Development_Dataset_15/training/images/Roseau_mais_0234_false.png'"
            ]
          },
          "metadata": {
            "tags": []
          },
          "execution_count": 24
        },
        {
          "output_type": "execute_result",
          "data": {
            "application/vnd.google.colaboratory.intrinsic+json": {
              "type": "string"
            },
            "text/plain": [
              "'/content/Development_Dataset_15/training/masks/Roseau_mais_0234_false.png'"
            ]
          },
          "metadata": {
            "tags": []
          },
          "execution_count": 24
        },
        {
          "output_type": "execute_result",
          "data": {
            "application/vnd.google.colaboratory.intrinsic+json": {
              "type": "string"
            },
            "text/plain": [
              "'/content/Development_Dataset_15/training/images/Roseau_mais_0222_false.png'"
            ]
          },
          "metadata": {
            "tags": []
          },
          "execution_count": 24
        },
        {
          "output_type": "execute_result",
          "data": {
            "application/vnd.google.colaboratory.intrinsic+json": {
              "type": "string"
            },
            "text/plain": [
              "'/content/Development_Dataset_15/training/masks/Roseau_mais_0222_false.png'"
            ]
          },
          "metadata": {
            "tags": []
          },
          "execution_count": 24
        },
        {
          "output_type": "execute_result",
          "data": {
            "application/vnd.google.colaboratory.intrinsic+json": {
              "type": "string"
            },
            "text/plain": [
              "'/content/Development_Dataset_15/training/images/Roseau_mais_0260_false.png'"
            ]
          },
          "metadata": {
            "tags": []
          },
          "execution_count": 24
        },
        {
          "output_type": "execute_result",
          "data": {
            "application/vnd.google.colaboratory.intrinsic+json": {
              "type": "string"
            },
            "text/plain": [
              "'/content/Development_Dataset_15/training/masks/Roseau_mais_0260_false.png'"
            ]
          },
          "metadata": {
            "tags": []
          },
          "execution_count": 24
        },
        {
          "output_type": "execute_result",
          "data": {
            "application/vnd.google.colaboratory.intrinsic+json": {
              "type": "string"
            },
            "text/plain": [
              "'/content/Development_Dataset_15/training/images/Roseau_mais_0284_false.png'"
            ]
          },
          "metadata": {
            "tags": []
          },
          "execution_count": 24
        },
        {
          "output_type": "execute_result",
          "data": {
            "application/vnd.google.colaboratory.intrinsic+json": {
              "type": "string"
            },
            "text/plain": [
              "'/content/Development_Dataset_15/training/masks/Roseau_mais_0284_false.png'"
            ]
          },
          "metadata": {
            "tags": []
          },
          "execution_count": 24
        },
        {
          "output_type": "execute_result",
          "data": {
            "application/vnd.google.colaboratory.intrinsic+json": {
              "type": "string"
            },
            "text/plain": [
              "'/content/Development_Dataset_15/training/images/Roseau_mais_0010_false.png'"
            ]
          },
          "metadata": {
            "tags": []
          },
          "execution_count": 24
        },
        {
          "output_type": "execute_result",
          "data": {
            "application/vnd.google.colaboratory.intrinsic+json": {
              "type": "string"
            },
            "text/plain": [
              "'/content/Development_Dataset_15/training/masks/Roseau_mais_0010_false.png'"
            ]
          },
          "metadata": {
            "tags": []
          },
          "execution_count": 24
        },
        {
          "output_type": "execute_result",
          "data": {
            "application/vnd.google.colaboratory.intrinsic+json": {
              "type": "string"
            },
            "text/plain": [
              "'/content/Development_Dataset_15/training/images/Roseau_mais_0088_false.png'"
            ]
          },
          "metadata": {
            "tags": []
          },
          "execution_count": 24
        },
        {
          "output_type": "execute_result",
          "data": {
            "application/vnd.google.colaboratory.intrinsic+json": {
              "type": "string"
            },
            "text/plain": [
              "'/content/Development_Dataset_15/training/masks/Roseau_mais_0088_false.png'"
            ]
          },
          "metadata": {
            "tags": []
          },
          "execution_count": 24
        },
        {
          "output_type": "execute_result",
          "data": {
            "application/vnd.google.colaboratory.intrinsic+json": {
              "type": "string"
            },
            "text/plain": [
              "'/content/Development_Dataset_15/training/images/Roseau_mais_0230_false.png'"
            ]
          },
          "metadata": {
            "tags": []
          },
          "execution_count": 24
        },
        {
          "output_type": "execute_result",
          "data": {
            "application/vnd.google.colaboratory.intrinsic+json": {
              "type": "string"
            },
            "text/plain": [
              "'/content/Development_Dataset_15/training/masks/Roseau_mais_0230_false.png'"
            ]
          },
          "metadata": {
            "tags": []
          },
          "execution_count": 24
        },
        {
          "output_type": "execute_result",
          "data": {
            "application/vnd.google.colaboratory.intrinsic+json": {
              "type": "string"
            },
            "text/plain": [
              "'/content/Development_Dataset_15/training/images/Roseau_mais_0358_false.png'"
            ]
          },
          "metadata": {
            "tags": []
          },
          "execution_count": 24
        },
        {
          "output_type": "execute_result",
          "data": {
            "application/vnd.google.colaboratory.intrinsic+json": {
              "type": "string"
            },
            "text/plain": [
              "'/content/Development_Dataset_15/training/masks/Roseau_mais_0358_false.png'"
            ]
          },
          "metadata": {
            "tags": []
          },
          "execution_count": 24
        },
        {
          "output_type": "execute_result",
          "data": {
            "application/vnd.google.colaboratory.intrinsic+json": {
              "type": "string"
            },
            "text/plain": [
              "'/content/Development_Dataset_15/training/images/Roseau_mais_0306_false.png'"
            ]
          },
          "metadata": {
            "tags": []
          },
          "execution_count": 24
        },
        {
          "output_type": "execute_result",
          "data": {
            "application/vnd.google.colaboratory.intrinsic+json": {
              "type": "string"
            },
            "text/plain": [
              "'/content/Development_Dataset_15/training/masks/Roseau_mais_0306_false.png'"
            ]
          },
          "metadata": {
            "tags": []
          },
          "execution_count": 24
        },
        {
          "output_type": "execute_result",
          "data": {
            "application/vnd.google.colaboratory.intrinsic+json": {
              "type": "string"
            },
            "text/plain": [
              "'/content/Development_Dataset_15/training/images/Roseau_mais_0150_false.png'"
            ]
          },
          "metadata": {
            "tags": []
          },
          "execution_count": 24
        },
        {
          "output_type": "execute_result",
          "data": {
            "application/vnd.google.colaboratory.intrinsic+json": {
              "type": "string"
            },
            "text/plain": [
              "'/content/Development_Dataset_15/training/masks/Roseau_mais_0150_false.png'"
            ]
          },
          "metadata": {
            "tags": []
          },
          "execution_count": 24
        },
        {
          "output_type": "execute_result",
          "data": {
            "application/vnd.google.colaboratory.intrinsic+json": {
              "type": "string"
            },
            "text/plain": [
              "'/content/Development_Dataset_15/training/images/Roseau_mais_0178_false.png'"
            ]
          },
          "metadata": {
            "tags": []
          },
          "execution_count": 24
        },
        {
          "output_type": "execute_result",
          "data": {
            "application/vnd.google.colaboratory.intrinsic+json": {
              "type": "string"
            },
            "text/plain": [
              "'/content/Development_Dataset_15/training/masks/Roseau_mais_0178_false.png'"
            ]
          },
          "metadata": {
            "tags": []
          },
          "execution_count": 24
        },
        {
          "output_type": "execute_result",
          "data": {
            "application/vnd.google.colaboratory.intrinsic+json": {
              "type": "string"
            },
            "text/plain": [
              "'/content/Development_Dataset_15/training/images/Roseau_mais_0064_false.png'"
            ]
          },
          "metadata": {
            "tags": []
          },
          "execution_count": 24
        },
        {
          "output_type": "execute_result",
          "data": {
            "application/vnd.google.colaboratory.intrinsic+json": {
              "type": "string"
            },
            "text/plain": [
              "'/content/Development_Dataset_15/training/masks/Roseau_mais_0064_false.png'"
            ]
          },
          "metadata": {
            "tags": []
          },
          "execution_count": 24
        },
        {
          "output_type": "execute_result",
          "data": {
            "application/vnd.google.colaboratory.intrinsic+json": {
              "type": "string"
            },
            "text/plain": [
              "'/content/Development_Dataset_15/training/images/Roseau_mais_0334_false.png'"
            ]
          },
          "metadata": {
            "tags": []
          },
          "execution_count": 24
        },
        {
          "output_type": "execute_result",
          "data": {
            "application/vnd.google.colaboratory.intrinsic+json": {
              "type": "string"
            },
            "text/plain": [
              "'/content/Development_Dataset_15/training/masks/Roseau_mais_0334_false.png'"
            ]
          },
          "metadata": {
            "tags": []
          },
          "execution_count": 24
        },
        {
          "output_type": "execute_result",
          "data": {
            "application/vnd.google.colaboratory.intrinsic+json": {
              "type": "string"
            },
            "text/plain": [
              "'/content/Development_Dataset_15/training/images/Roseau_mais_0018_false.png'"
            ]
          },
          "metadata": {
            "tags": []
          },
          "execution_count": 24
        },
        {
          "output_type": "execute_result",
          "data": {
            "application/vnd.google.colaboratory.intrinsic+json": {
              "type": "string"
            },
            "text/plain": [
              "'/content/Development_Dataset_15/training/masks/Roseau_mais_0018_false.png'"
            ]
          },
          "metadata": {
            "tags": []
          },
          "execution_count": 24
        },
        {
          "output_type": "execute_result",
          "data": {
            "application/vnd.google.colaboratory.intrinsic+json": {
              "type": "string"
            },
            "text/plain": [
              "'/content/Development_Dataset_15/training/images/Roseau_mais_0022_false.png'"
            ]
          },
          "metadata": {
            "tags": []
          },
          "execution_count": 24
        },
        {
          "output_type": "execute_result",
          "data": {
            "application/vnd.google.colaboratory.intrinsic+json": {
              "type": "string"
            },
            "text/plain": [
              "'/content/Development_Dataset_15/training/masks/Roseau_mais_0022_false.png'"
            ]
          },
          "metadata": {
            "tags": []
          },
          "execution_count": 24
        },
        {
          "output_type": "execute_result",
          "data": {
            "application/vnd.google.colaboratory.intrinsic+json": {
              "type": "string"
            },
            "text/plain": [
              "'/content/Development_Dataset_15/training/images/Roseau_mais_0138_false.png'"
            ]
          },
          "metadata": {
            "tags": []
          },
          "execution_count": 24
        },
        {
          "output_type": "execute_result",
          "data": {
            "application/vnd.google.colaboratory.intrinsic+json": {
              "type": "string"
            },
            "text/plain": [
              "'/content/Development_Dataset_15/training/masks/Roseau_mais_0138_false.png'"
            ]
          },
          "metadata": {
            "tags": []
          },
          "execution_count": 24
        },
        {
          "output_type": "execute_result",
          "data": {
            "application/vnd.google.colaboratory.intrinsic+json": {
              "type": "string"
            },
            "text/plain": [
              "'/content/Development_Dataset_15/training/images/Roseau_mais_0302_false.png'"
            ]
          },
          "metadata": {
            "tags": []
          },
          "execution_count": 24
        },
        {
          "output_type": "execute_result",
          "data": {
            "application/vnd.google.colaboratory.intrinsic+json": {
              "type": "string"
            },
            "text/plain": [
              "'/content/Development_Dataset_15/training/masks/Roseau_mais_0302_false.png'"
            ]
          },
          "metadata": {
            "tags": []
          },
          "execution_count": 24
        },
        {
          "output_type": "execute_result",
          "data": {
            "application/vnd.google.colaboratory.intrinsic+json": {
              "type": "string"
            },
            "text/plain": [
              "'/content/Development_Dataset_15/training/images/Roseau_mais_0336_false.png'"
            ]
          },
          "metadata": {
            "tags": []
          },
          "execution_count": 24
        },
        {
          "output_type": "execute_result",
          "data": {
            "application/vnd.google.colaboratory.intrinsic+json": {
              "type": "string"
            },
            "text/plain": [
              "'/content/Development_Dataset_15/training/masks/Roseau_mais_0336_false.png'"
            ]
          },
          "metadata": {
            "tags": []
          },
          "execution_count": 24
        },
        {
          "output_type": "execute_result",
          "data": {
            "application/vnd.google.colaboratory.intrinsic+json": {
              "type": "string"
            },
            "text/plain": [
              "'/content/Development_Dataset_15/training/images/Roseau_mais_0120_false.png'"
            ]
          },
          "metadata": {
            "tags": []
          },
          "execution_count": 24
        },
        {
          "output_type": "execute_result",
          "data": {
            "application/vnd.google.colaboratory.intrinsic+json": {
              "type": "string"
            },
            "text/plain": [
              "'/content/Development_Dataset_15/training/masks/Roseau_mais_0120_false.png'"
            ]
          },
          "metadata": {
            "tags": []
          },
          "execution_count": 24
        },
        {
          "output_type": "execute_result",
          "data": {
            "application/vnd.google.colaboratory.intrinsic+json": {
              "type": "string"
            },
            "text/plain": [
              "'/content/Development_Dataset_15/training/images/Roseau_mais_0240_false.png'"
            ]
          },
          "metadata": {
            "tags": []
          },
          "execution_count": 24
        },
        {
          "output_type": "execute_result",
          "data": {
            "application/vnd.google.colaboratory.intrinsic+json": {
              "type": "string"
            },
            "text/plain": [
              "'/content/Development_Dataset_15/training/masks/Roseau_mais_0240_false.png'"
            ]
          },
          "metadata": {
            "tags": []
          },
          "execution_count": 24
        },
        {
          "output_type": "execute_result",
          "data": {
            "application/vnd.google.colaboratory.intrinsic+json": {
              "type": "string"
            },
            "text/plain": [
              "'/content/Development_Dataset_15/training/images/Roseau_mais_0096_false.png'"
            ]
          },
          "metadata": {
            "tags": []
          },
          "execution_count": 24
        },
        {
          "output_type": "execute_result",
          "data": {
            "application/vnd.google.colaboratory.intrinsic+json": {
              "type": "string"
            },
            "text/plain": [
              "'/content/Development_Dataset_15/training/masks/Roseau_mais_0096_false.png'"
            ]
          },
          "metadata": {
            "tags": []
          },
          "execution_count": 24
        },
        {
          "output_type": "execute_result",
          "data": {
            "application/vnd.google.colaboratory.intrinsic+json": {
              "type": "string"
            },
            "text/plain": [
              "'/content/Development_Dataset_15/training/images/Roseau_mais_0356_false.png'"
            ]
          },
          "metadata": {
            "tags": []
          },
          "execution_count": 24
        },
        {
          "output_type": "execute_result",
          "data": {
            "application/vnd.google.colaboratory.intrinsic+json": {
              "type": "string"
            },
            "text/plain": [
              "'/content/Development_Dataset_15/training/masks/Roseau_mais_0356_false.png'"
            ]
          },
          "metadata": {
            "tags": []
          },
          "execution_count": 24
        },
        {
          "output_type": "execute_result",
          "data": {
            "application/vnd.google.colaboratory.intrinsic+json": {
              "type": "string"
            },
            "text/plain": [
              "'/content/Development_Dataset_15/training/images/Roseau_mais_0062_false.png'"
            ]
          },
          "metadata": {
            "tags": []
          },
          "execution_count": 24
        },
        {
          "output_type": "execute_result",
          "data": {
            "application/vnd.google.colaboratory.intrinsic+json": {
              "type": "string"
            },
            "text/plain": [
              "'/content/Development_Dataset_15/training/masks/Roseau_mais_0062_false.png'"
            ]
          },
          "metadata": {
            "tags": []
          },
          "execution_count": 24
        },
        {
          "output_type": "execute_result",
          "data": {
            "application/vnd.google.colaboratory.intrinsic+json": {
              "type": "string"
            },
            "text/plain": [
              "'/content/Development_Dataset_15/training/images/Roseau_mais_0232_false.png'"
            ]
          },
          "metadata": {
            "tags": []
          },
          "execution_count": 24
        },
        {
          "output_type": "execute_result",
          "data": {
            "application/vnd.google.colaboratory.intrinsic+json": {
              "type": "string"
            },
            "text/plain": [
              "'/content/Development_Dataset_15/training/masks/Roseau_mais_0232_false.png'"
            ]
          },
          "metadata": {
            "tags": []
          },
          "execution_count": 24
        },
        {
          "output_type": "execute_result",
          "data": {
            "application/vnd.google.colaboratory.intrinsic+json": {
              "type": "string"
            },
            "text/plain": [
              "'/content/Development_Dataset_15/training/images/Roseau_mais_0330_false.png'"
            ]
          },
          "metadata": {
            "tags": []
          },
          "execution_count": 24
        },
        {
          "output_type": "execute_result",
          "data": {
            "application/vnd.google.colaboratory.intrinsic+json": {
              "type": "string"
            },
            "text/plain": [
              "'/content/Development_Dataset_15/training/masks/Roseau_mais_0330_false.png'"
            ]
          },
          "metadata": {
            "tags": []
          },
          "execution_count": 24
        },
        {
          "output_type": "execute_result",
          "data": {
            "application/vnd.google.colaboratory.intrinsic+json": {
              "type": "string"
            },
            "text/plain": [
              "'/content/Development_Dataset_15/training/images/Roseau_mais_0236_false.png'"
            ]
          },
          "metadata": {
            "tags": []
          },
          "execution_count": 24
        },
        {
          "output_type": "execute_result",
          "data": {
            "application/vnd.google.colaboratory.intrinsic+json": {
              "type": "string"
            },
            "text/plain": [
              "'/content/Development_Dataset_15/training/masks/Roseau_mais_0236_false.png'"
            ]
          },
          "metadata": {
            "tags": []
          },
          "execution_count": 24
        },
        {
          "output_type": "execute_result",
          "data": {
            "application/vnd.google.colaboratory.intrinsic+json": {
              "type": "string"
            },
            "text/plain": [
              "'/content/Development_Dataset_15/training/images/Roseau_mais_0344_false.png'"
            ]
          },
          "metadata": {
            "tags": []
          },
          "execution_count": 24
        },
        {
          "output_type": "execute_result",
          "data": {
            "application/vnd.google.colaboratory.intrinsic+json": {
              "type": "string"
            },
            "text/plain": [
              "'/content/Development_Dataset_15/training/masks/Roseau_mais_0344_false.png'"
            ]
          },
          "metadata": {
            "tags": []
          },
          "execution_count": 24
        },
        {
          "output_type": "execute_result",
          "data": {
            "application/vnd.google.colaboratory.intrinsic+json": {
              "type": "string"
            },
            "text/plain": [
              "'/content/Development_Dataset_15/training/images/Roseau_mais_0158_false.png'"
            ]
          },
          "metadata": {
            "tags": []
          },
          "execution_count": 24
        },
        {
          "output_type": "execute_result",
          "data": {
            "application/vnd.google.colaboratory.intrinsic+json": {
              "type": "string"
            },
            "text/plain": [
              "'/content/Development_Dataset_15/training/masks/Roseau_mais_0158_false.png'"
            ]
          },
          "metadata": {
            "tags": []
          },
          "execution_count": 24
        },
        {
          "output_type": "execute_result",
          "data": {
            "application/vnd.google.colaboratory.intrinsic+json": {
              "type": "string"
            },
            "text/plain": [
              "'/content/Development_Dataset_15/training/images/Roseau_mais_0166_false.png'"
            ]
          },
          "metadata": {
            "tags": []
          },
          "execution_count": 24
        },
        {
          "output_type": "execute_result",
          "data": {
            "application/vnd.google.colaboratory.intrinsic+json": {
              "type": "string"
            },
            "text/plain": [
              "'/content/Development_Dataset_15/training/masks/Roseau_mais_0166_false.png'"
            ]
          },
          "metadata": {
            "tags": []
          },
          "execution_count": 24
        },
        {
          "output_type": "execute_result",
          "data": {
            "application/vnd.google.colaboratory.intrinsic+json": {
              "type": "string"
            },
            "text/plain": [
              "'/content/Development_Dataset_15/training/images/Roseau_mais_0070_false.png'"
            ]
          },
          "metadata": {
            "tags": []
          },
          "execution_count": 24
        },
        {
          "output_type": "execute_result",
          "data": {
            "application/vnd.google.colaboratory.intrinsic+json": {
              "type": "string"
            },
            "text/plain": [
              "'/content/Development_Dataset_15/training/masks/Roseau_mais_0070_false.png'"
            ]
          },
          "metadata": {
            "tags": []
          },
          "execution_count": 24
        },
        {
          "output_type": "execute_result",
          "data": {
            "application/vnd.google.colaboratory.intrinsic+json": {
              "type": "string"
            },
            "text/plain": [
              "'/content/Development_Dataset_15/training/images/Roseau_mais_0118_false.png'"
            ]
          },
          "metadata": {
            "tags": []
          },
          "execution_count": 24
        },
        {
          "output_type": "execute_result",
          "data": {
            "application/vnd.google.colaboratory.intrinsic+json": {
              "type": "string"
            },
            "text/plain": [
              "'/content/Development_Dataset_15/training/masks/Roseau_mais_0118_false.png'"
            ]
          },
          "metadata": {
            "tags": []
          },
          "execution_count": 24
        },
        {
          "output_type": "execute_result",
          "data": {
            "application/vnd.google.colaboratory.intrinsic+json": {
              "type": "string"
            },
            "text/plain": [
              "'/content/Development_Dataset_15/validation/images/Roseau_mais_0310_false.png'"
            ]
          },
          "metadata": {
            "tags": []
          },
          "execution_count": 24
        },
        {
          "output_type": "execute_result",
          "data": {
            "application/vnd.google.colaboratory.intrinsic+json": {
              "type": "string"
            },
            "text/plain": [
              "'/content/Development_Dataset_15/validation/masks/Roseau_mais_0310_false.png'"
            ]
          },
          "metadata": {
            "tags": []
          },
          "execution_count": 24
        },
        {
          "output_type": "execute_result",
          "data": {
            "application/vnd.google.colaboratory.intrinsic+json": {
              "type": "string"
            },
            "text/plain": [
              "'/content/Development_Dataset_15/validation/images/Roseau_mais_0134_false.png'"
            ]
          },
          "metadata": {
            "tags": []
          },
          "execution_count": 24
        },
        {
          "output_type": "execute_result",
          "data": {
            "application/vnd.google.colaboratory.intrinsic+json": {
              "type": "string"
            },
            "text/plain": [
              "'/content/Development_Dataset_15/validation/masks/Roseau_mais_0134_false.png'"
            ]
          },
          "metadata": {
            "tags": []
          },
          "execution_count": 24
        },
        {
          "output_type": "execute_result",
          "data": {
            "application/vnd.google.colaboratory.intrinsic+json": {
              "type": "string"
            },
            "text/plain": [
              "'/content/Development_Dataset_15/validation/images/Roseau_mais_0238_false.png'"
            ]
          },
          "metadata": {
            "tags": []
          },
          "execution_count": 24
        },
        {
          "output_type": "execute_result",
          "data": {
            "application/vnd.google.colaboratory.intrinsic+json": {
              "type": "string"
            },
            "text/plain": [
              "'/content/Development_Dataset_15/validation/masks/Roseau_mais_0238_false.png'"
            ]
          },
          "metadata": {
            "tags": []
          },
          "execution_count": 24
        },
        {
          "output_type": "execute_result",
          "data": {
            "application/vnd.google.colaboratory.intrinsic+json": {
              "type": "string"
            },
            "text/plain": [
              "'/content/Development_Dataset_15/validation/images/Roseau_mais_0146_false.png'"
            ]
          },
          "metadata": {
            "tags": []
          },
          "execution_count": 24
        },
        {
          "output_type": "execute_result",
          "data": {
            "application/vnd.google.colaboratory.intrinsic+json": {
              "type": "string"
            },
            "text/plain": [
              "'/content/Development_Dataset_15/validation/masks/Roseau_mais_0146_false.png'"
            ]
          },
          "metadata": {
            "tags": []
          },
          "execution_count": 24
        },
        {
          "output_type": "execute_result",
          "data": {
            "application/vnd.google.colaboratory.intrinsic+json": {
              "type": "string"
            },
            "text/plain": [
              "'/content/Development_Dataset_15/validation/images/Roseau_mais_0276_false.png'"
            ]
          },
          "metadata": {
            "tags": []
          },
          "execution_count": 24
        },
        {
          "output_type": "execute_result",
          "data": {
            "application/vnd.google.colaboratory.intrinsic+json": {
              "type": "string"
            },
            "text/plain": [
              "'/content/Development_Dataset_15/validation/masks/Roseau_mais_0276_false.png'"
            ]
          },
          "metadata": {
            "tags": []
          },
          "execution_count": 24
        },
        {
          "output_type": "execute_result",
          "data": {
            "application/vnd.google.colaboratory.intrinsic+json": {
              "type": "string"
            },
            "text/plain": [
              "'/content/Development_Dataset_15/validation/images/Roseau_mais_0262_false.png'"
            ]
          },
          "metadata": {
            "tags": []
          },
          "execution_count": 24
        },
        {
          "output_type": "execute_result",
          "data": {
            "application/vnd.google.colaboratory.intrinsic+json": {
              "type": "string"
            },
            "text/plain": [
              "'/content/Development_Dataset_15/validation/masks/Roseau_mais_0262_false.png'"
            ]
          },
          "metadata": {
            "tags": []
          },
          "execution_count": 24
        },
        {
          "output_type": "execute_result",
          "data": {
            "application/vnd.google.colaboratory.intrinsic+json": {
              "type": "string"
            },
            "text/plain": [
              "'/content/Development_Dataset_15/validation/images/Roseau_mais_0326_false.png'"
            ]
          },
          "metadata": {
            "tags": []
          },
          "execution_count": 24
        },
        {
          "output_type": "execute_result",
          "data": {
            "application/vnd.google.colaboratory.intrinsic+json": {
              "type": "string"
            },
            "text/plain": [
              "'/content/Development_Dataset_15/validation/masks/Roseau_mais_0326_false.png'"
            ]
          },
          "metadata": {
            "tags": []
          },
          "execution_count": 24
        },
        {
          "output_type": "execute_result",
          "data": {
            "application/vnd.google.colaboratory.intrinsic+json": {
              "type": "string"
            },
            "text/plain": [
              "'/content/Development_Dataset_15/validation/images/Roseau_mais_0254_false.png'"
            ]
          },
          "metadata": {
            "tags": []
          },
          "execution_count": 24
        },
        {
          "output_type": "execute_result",
          "data": {
            "application/vnd.google.colaboratory.intrinsic+json": {
              "type": "string"
            },
            "text/plain": [
              "'/content/Development_Dataset_15/validation/masks/Roseau_mais_0254_false.png'"
            ]
          },
          "metadata": {
            "tags": []
          },
          "execution_count": 24
        },
        {
          "output_type": "execute_result",
          "data": {
            "application/vnd.google.colaboratory.intrinsic+json": {
              "type": "string"
            },
            "text/plain": [
              "'/content/Development_Dataset_15/validation/images/Roseau_mais_0012_false.png'"
            ]
          },
          "metadata": {
            "tags": []
          },
          "execution_count": 24
        },
        {
          "output_type": "execute_result",
          "data": {
            "application/vnd.google.colaboratory.intrinsic+json": {
              "type": "string"
            },
            "text/plain": [
              "'/content/Development_Dataset_15/validation/masks/Roseau_mais_0012_false.png'"
            ]
          },
          "metadata": {
            "tags": []
          },
          "execution_count": 24
        },
        {
          "output_type": "execute_result",
          "data": {
            "application/vnd.google.colaboratory.intrinsic+json": {
              "type": "string"
            },
            "text/plain": [
              "'/content/Development_Dataset_15/validation/images/Roseau_mais_0106_false.png'"
            ]
          },
          "metadata": {
            "tags": []
          },
          "execution_count": 24
        },
        {
          "output_type": "execute_result",
          "data": {
            "application/vnd.google.colaboratory.intrinsic+json": {
              "type": "string"
            },
            "text/plain": [
              "'/content/Development_Dataset_15/validation/masks/Roseau_mais_0106_false.png'"
            ]
          },
          "metadata": {
            "tags": []
          },
          "execution_count": 24
        },
        {
          "output_type": "execute_result",
          "data": {
            "application/vnd.google.colaboratory.intrinsic+json": {
              "type": "string"
            },
            "text/plain": [
              "'/content/Development_Dataset_15/validation/images/Roseau_mais_0264_false.png'"
            ]
          },
          "metadata": {
            "tags": []
          },
          "execution_count": 24
        },
        {
          "output_type": "execute_result",
          "data": {
            "application/vnd.google.colaboratory.intrinsic+json": {
              "type": "string"
            },
            "text/plain": [
              "'/content/Development_Dataset_15/validation/masks/Roseau_mais_0264_false.png'"
            ]
          },
          "metadata": {
            "tags": []
          },
          "execution_count": 24
        },
        {
          "output_type": "execute_result",
          "data": {
            "application/vnd.google.colaboratory.intrinsic+json": {
              "type": "string"
            },
            "text/plain": [
              "'/content/Development_Dataset_15/validation/images/Roseau_mais_0312_false.png'"
            ]
          },
          "metadata": {
            "tags": []
          },
          "execution_count": 24
        },
        {
          "output_type": "execute_result",
          "data": {
            "application/vnd.google.colaboratory.intrinsic+json": {
              "type": "string"
            },
            "text/plain": [
              "'/content/Development_Dataset_15/validation/masks/Roseau_mais_0312_false.png'"
            ]
          },
          "metadata": {
            "tags": []
          },
          "execution_count": 24
        },
        {
          "output_type": "execute_result",
          "data": {
            "application/vnd.google.colaboratory.intrinsic+json": {
              "type": "string"
            },
            "text/plain": [
              "'/content/Development_Dataset_15/validation/images/Roseau_mais_0268_false.png'"
            ]
          },
          "metadata": {
            "tags": []
          },
          "execution_count": 24
        },
        {
          "output_type": "execute_result",
          "data": {
            "application/vnd.google.colaboratory.intrinsic+json": {
              "type": "string"
            },
            "text/plain": [
              "'/content/Development_Dataset_15/validation/masks/Roseau_mais_0268_false.png'"
            ]
          },
          "metadata": {
            "tags": []
          },
          "execution_count": 24
        },
        {
          "output_type": "execute_result",
          "data": {
            "application/vnd.google.colaboratory.intrinsic+json": {
              "type": "string"
            },
            "text/plain": [
              "'/content/Development_Dataset_15/validation/images/Roseau_mais_0038_false.png'"
            ]
          },
          "metadata": {
            "tags": []
          },
          "execution_count": 24
        },
        {
          "output_type": "execute_result",
          "data": {
            "application/vnd.google.colaboratory.intrinsic+json": {
              "type": "string"
            },
            "text/plain": [
              "'/content/Development_Dataset_15/validation/masks/Roseau_mais_0038_false.png'"
            ]
          },
          "metadata": {
            "tags": []
          },
          "execution_count": 24
        },
        {
          "output_type": "execute_result",
          "data": {
            "application/vnd.google.colaboratory.intrinsic+json": {
              "type": "string"
            },
            "text/plain": [
              "'/content/Development_Dataset_15/training/images/Weedelec_haricot_2019-09-25T114506-32.jpg'"
            ]
          },
          "metadata": {
            "tags": []
          },
          "execution_count": 24
        },
        {
          "output_type": "execute_result",
          "data": {
            "application/vnd.google.colaboratory.intrinsic+json": {
              "type": "string"
            },
            "text/plain": [
              "'/content/Development_Dataset_15/training/masks/Weedelec_haricot_2019-09-25T114506-32.png'"
            ]
          },
          "metadata": {
            "tags": []
          },
          "execution_count": 24
        },
        {
          "output_type": "execute_result",
          "data": {
            "application/vnd.google.colaboratory.intrinsic+json": {
              "type": "string"
            },
            "text/plain": [
              "'/content/Development_Dataset_15/training/images/Weedelec_haricot_2019-09-25T115924-363.jpg'"
            ]
          },
          "metadata": {
            "tags": []
          },
          "execution_count": 24
        },
        {
          "output_type": "execute_result",
          "data": {
            "application/vnd.google.colaboratory.intrinsic+json": {
              "type": "string"
            },
            "text/plain": [
              "'/content/Development_Dataset_15/training/masks/Weedelec_haricot_2019-09-25T115924-363.png'"
            ]
          },
          "metadata": {
            "tags": []
          },
          "execution_count": 24
        },
        {
          "output_type": "execute_result",
          "data": {
            "application/vnd.google.colaboratory.intrinsic+json": {
              "type": "string"
            },
            "text/plain": [
              "'/content/Development_Dataset_15/training/images/Weedelec_haricot_2019-09-25T114918-129.jpg'"
            ]
          },
          "metadata": {
            "tags": []
          },
          "execution_count": 24
        },
        {
          "output_type": "execute_result",
          "data": {
            "application/vnd.google.colaboratory.intrinsic+json": {
              "type": "string"
            },
            "text/plain": [
              "'/content/Development_Dataset_15/training/masks/Weedelec_haricot_2019-09-25T114918-129.png'"
            ]
          },
          "metadata": {
            "tags": []
          },
          "execution_count": 24
        },
        {
          "output_type": "execute_result",
          "data": {
            "application/vnd.google.colaboratory.intrinsic+json": {
              "type": "string"
            },
            "text/plain": [
              "'/content/Development_Dataset_15/training/images/Weedelec_haricot_2019-09-25T114434-20.jpg'"
            ]
          },
          "metadata": {
            "tags": []
          },
          "execution_count": 24
        },
        {
          "output_type": "execute_result",
          "data": {
            "application/vnd.google.colaboratory.intrinsic+json": {
              "type": "string"
            },
            "text/plain": [
              "'/content/Development_Dataset_15/training/masks/Weedelec_haricot_2019-09-25T114434-20.png'"
            ]
          },
          "metadata": {
            "tags": []
          },
          "execution_count": 24
        },
        {
          "output_type": "execute_result",
          "data": {
            "application/vnd.google.colaboratory.intrinsic+json": {
              "type": "string"
            },
            "text/plain": [
              "'/content/Development_Dataset_15/training/images/Weedelec_haricot_2019-09-25T114639-68.jpg'"
            ]
          },
          "metadata": {
            "tags": []
          },
          "execution_count": 24
        },
        {
          "output_type": "execute_result",
          "data": {
            "application/vnd.google.colaboratory.intrinsic+json": {
              "type": "string"
            },
            "text/plain": [
              "'/content/Development_Dataset_15/training/masks/Weedelec_haricot_2019-09-25T114639-68.png'"
            ]
          },
          "metadata": {
            "tags": []
          },
          "execution_count": 24
        },
        {
          "output_type": "execute_result",
          "data": {
            "application/vnd.google.colaboratory.intrinsic+json": {
              "type": "string"
            },
            "text/plain": [
              "'/content/Development_Dataset_15/training/images/Weedelec_haricot_2019-09-25T115851-350.jpg'"
            ]
          },
          "metadata": {
            "tags": []
          },
          "execution_count": 24
        },
        {
          "output_type": "execute_result",
          "data": {
            "application/vnd.google.colaboratory.intrinsic+json": {
              "type": "string"
            },
            "text/plain": [
              "'/content/Development_Dataset_15/training/masks/Weedelec_haricot_2019-09-25T115851-350.png'"
            ]
          },
          "metadata": {
            "tags": []
          },
          "execution_count": 24
        },
        {
          "output_type": "execute_result",
          "data": {
            "application/vnd.google.colaboratory.intrinsic+json": {
              "type": "string"
            },
            "text/plain": [
              "'/content/Development_Dataset_15/training/images/Weedelec_haricot_2019-09-25T114705-78.jpg'"
            ]
          },
          "metadata": {
            "tags": []
          },
          "execution_count": 24
        },
        {
          "output_type": "execute_result",
          "data": {
            "application/vnd.google.colaboratory.intrinsic+json": {
              "type": "string"
            },
            "text/plain": [
              "'/content/Development_Dataset_15/training/masks/Weedelec_haricot_2019-09-25T114705-78.png'"
            ]
          },
          "metadata": {
            "tags": []
          },
          "execution_count": 24
        },
        {
          "output_type": "execute_result",
          "data": {
            "application/vnd.google.colaboratory.intrinsic+json": {
              "type": "string"
            },
            "text/plain": [
              "'/content/Development_Dataset_15/training/images/Weedelec_haricot_2019-09-25T120138-415.jpg'"
            ]
          },
          "metadata": {
            "tags": []
          },
          "execution_count": 24
        },
        {
          "output_type": "execute_result",
          "data": {
            "application/vnd.google.colaboratory.intrinsic+json": {
              "type": "string"
            },
            "text/plain": [
              "'/content/Development_Dataset_15/training/masks/Weedelec_haricot_2019-09-25T120138-415.png'"
            ]
          },
          "metadata": {
            "tags": []
          },
          "execution_count": 24
        },
        {
          "output_type": "execute_result",
          "data": {
            "application/vnd.google.colaboratory.intrinsic+json": {
              "type": "string"
            },
            "text/plain": [
              "'/content/Development_Dataset_15/training/images/Weedelec_haricot_2019-09-25T115618-291.jpg'"
            ]
          },
          "metadata": {
            "tags": []
          },
          "execution_count": 24
        },
        {
          "output_type": "execute_result",
          "data": {
            "application/vnd.google.colaboratory.intrinsic+json": {
              "type": "string"
            },
            "text/plain": [
              "'/content/Development_Dataset_15/training/masks/Weedelec_haricot_2019-09-25T115618-291.png'"
            ]
          },
          "metadata": {
            "tags": []
          },
          "execution_count": 24
        },
        {
          "output_type": "execute_result",
          "data": {
            "application/vnd.google.colaboratory.intrinsic+json": {
              "type": "string"
            },
            "text/plain": [
              "'/content/Development_Dataset_15/training/images/Weedelec_haricot_2019-09-25T115639-299.jpg'"
            ]
          },
          "metadata": {
            "tags": []
          },
          "execution_count": 24
        },
        {
          "output_type": "execute_result",
          "data": {
            "application/vnd.google.colaboratory.intrinsic+json": {
              "type": "string"
            },
            "text/plain": [
              "'/content/Development_Dataset_15/training/masks/Weedelec_haricot_2019-09-25T115639-299.png'"
            ]
          },
          "metadata": {
            "tags": []
          },
          "execution_count": 24
        },
        {
          "output_type": "execute_result",
          "data": {
            "application/vnd.google.colaboratory.intrinsic+json": {
              "type": "string"
            },
            "text/plain": [
              "'/content/Development_Dataset_15/training/images/Weedelec_haricot_2019-09-25T115039-160.jpg'"
            ]
          },
          "metadata": {
            "tags": []
          },
          "execution_count": 24
        },
        {
          "output_type": "execute_result",
          "data": {
            "application/vnd.google.colaboratory.intrinsic+json": {
              "type": "string"
            },
            "text/plain": [
              "'/content/Development_Dataset_15/training/masks/Weedelec_haricot_2019-09-25T115039-160.png'"
            ]
          },
          "metadata": {
            "tags": []
          },
          "execution_count": 24
        },
        {
          "output_type": "execute_result",
          "data": {
            "application/vnd.google.colaboratory.intrinsic+json": {
              "type": "string"
            },
            "text/plain": [
              "'/content/Development_Dataset_15/training/images/Weedelec_haricot_2019-09-25T115439-253.jpg'"
            ]
          },
          "metadata": {
            "tags": []
          },
          "execution_count": 24
        },
        {
          "output_type": "execute_result",
          "data": {
            "application/vnd.google.colaboratory.intrinsic+json": {
              "type": "string"
            },
            "text/plain": [
              "'/content/Development_Dataset_15/training/masks/Weedelec_haricot_2019-09-25T115439-253.png'"
            ]
          },
          "metadata": {
            "tags": []
          },
          "execution_count": 24
        },
        {
          "output_type": "execute_result",
          "data": {
            "application/vnd.google.colaboratory.intrinsic+json": {
              "type": "string"
            },
            "text/plain": [
              "'/content/Development_Dataset_15/training/images/Weedelec_haricot_2019-09-25T115454-259.jpg'"
            ]
          },
          "metadata": {
            "tags": []
          },
          "execution_count": 24
        },
        {
          "output_type": "execute_result",
          "data": {
            "application/vnd.google.colaboratory.intrinsic+json": {
              "type": "string"
            },
            "text/plain": [
              "'/content/Development_Dataset_15/training/masks/Weedelec_haricot_2019-09-25T115454-259.png'"
            ]
          },
          "metadata": {
            "tags": []
          },
          "execution_count": 24
        },
        {
          "output_type": "execute_result",
          "data": {
            "application/vnd.google.colaboratory.intrinsic+json": {
              "type": "string"
            },
            "text/plain": [
              "'/content/Development_Dataset_15/training/images/Weedelec_haricot_2019-09-25T120202-424.jpg'"
            ]
          },
          "metadata": {
            "tags": []
          },
          "execution_count": 24
        },
        {
          "output_type": "execute_result",
          "data": {
            "application/vnd.google.colaboratory.intrinsic+json": {
              "type": "string"
            },
            "text/plain": [
              "'/content/Development_Dataset_15/training/masks/Weedelec_haricot_2019-09-25T120202-424.png'"
            ]
          },
          "metadata": {
            "tags": []
          },
          "execution_count": 24
        },
        {
          "output_type": "execute_result",
          "data": {
            "application/vnd.google.colaboratory.intrinsic+json": {
              "type": "string"
            },
            "text/plain": [
              "'/content/Development_Dataset_15/training/images/Weedelec_haricot_2019-09-25T120024-386.jpg'"
            ]
          },
          "metadata": {
            "tags": []
          },
          "execution_count": 24
        },
        {
          "output_type": "execute_result",
          "data": {
            "application/vnd.google.colaboratory.intrinsic+json": {
              "type": "string"
            },
            "text/plain": [
              "'/content/Development_Dataset_15/training/masks/Weedelec_haricot_2019-09-25T120024-386.png'"
            ]
          },
          "metadata": {
            "tags": []
          },
          "execution_count": 24
        },
        {
          "output_type": "execute_result",
          "data": {
            "application/vnd.google.colaboratory.intrinsic+json": {
              "type": "string"
            },
            "text/plain": [
              "'/content/Development_Dataset_15/training/images/Weedelec_haricot_2019-09-25T115115-174.jpg'"
            ]
          },
          "metadata": {
            "tags": []
          },
          "execution_count": 24
        },
        {
          "output_type": "execute_result",
          "data": {
            "application/vnd.google.colaboratory.intrinsic+json": {
              "type": "string"
            },
            "text/plain": [
              "'/content/Development_Dataset_15/training/masks/Weedelec_haricot_2019-09-25T115115-174.png'"
            ]
          },
          "metadata": {
            "tags": []
          },
          "execution_count": 24
        },
        {
          "output_type": "execute_result",
          "data": {
            "application/vnd.google.colaboratory.intrinsic+json": {
              "type": "string"
            },
            "text/plain": [
              "'/content/Development_Dataset_15/training/images/Weedelec_haricot_2019-09-25T114844-116.jpg'"
            ]
          },
          "metadata": {
            "tags": []
          },
          "execution_count": 24
        },
        {
          "output_type": "execute_result",
          "data": {
            "application/vnd.google.colaboratory.intrinsic+json": {
              "type": "string"
            },
            "text/plain": [
              "'/content/Development_Dataset_15/training/masks/Weedelec_haricot_2019-09-25T114844-116.png'"
            ]
          },
          "metadata": {
            "tags": []
          },
          "execution_count": 24
        },
        {
          "output_type": "execute_result",
          "data": {
            "application/vnd.google.colaboratory.intrinsic+json": {
              "type": "string"
            },
            "text/plain": [
              "'/content/Development_Dataset_15/training/images/Weedelec_haricot_2019-09-25T115046-163.jpg'"
            ]
          },
          "metadata": {
            "tags": []
          },
          "execution_count": 24
        },
        {
          "output_type": "execute_result",
          "data": {
            "application/vnd.google.colaboratory.intrinsic+json": {
              "type": "string"
            },
            "text/plain": [
              "'/content/Development_Dataset_15/training/masks/Weedelec_haricot_2019-09-25T115046-163.png'"
            ]
          },
          "metadata": {
            "tags": []
          },
          "execution_count": 24
        },
        {
          "output_type": "execute_result",
          "data": {
            "application/vnd.google.colaboratory.intrinsic+json": {
              "type": "string"
            },
            "text/plain": [
              "'/content/Development_Dataset_15/training/images/Weedelec_haricot_2019-09-25T114629-64.jpg'"
            ]
          },
          "metadata": {
            "tags": []
          },
          "execution_count": 24
        },
        {
          "output_type": "execute_result",
          "data": {
            "application/vnd.google.colaboratory.intrinsic+json": {
              "type": "string"
            },
            "text/plain": [
              "'/content/Development_Dataset_15/training/masks/Weedelec_haricot_2019-09-25T114629-64.png'"
            ]
          },
          "metadata": {
            "tags": []
          },
          "execution_count": 24
        },
        {
          "output_type": "execute_result",
          "data": {
            "application/vnd.google.colaboratory.intrinsic+json": {
              "type": "string"
            },
            "text/plain": [
              "'/content/Development_Dataset_15/training/images/Weedelec_haricot_2019-09-25T114752-96.jpg'"
            ]
          },
          "metadata": {
            "tags": []
          },
          "execution_count": 24
        },
        {
          "output_type": "execute_result",
          "data": {
            "application/vnd.google.colaboratory.intrinsic+json": {
              "type": "string"
            },
            "text/plain": [
              "'/content/Development_Dataset_15/training/masks/Weedelec_haricot_2019-09-25T114752-96.png'"
            ]
          },
          "metadata": {
            "tags": []
          },
          "execution_count": 24
        },
        {
          "output_type": "execute_result",
          "data": {
            "application/vnd.google.colaboratory.intrinsic+json": {
              "type": "string"
            },
            "text/plain": [
              "'/content/Development_Dataset_15/training/images/Weedelec_haricot_2019-09-25T115135-182.jpg'"
            ]
          },
          "metadata": {
            "tags": []
          },
          "execution_count": 24
        },
        {
          "output_type": "execute_result",
          "data": {
            "application/vnd.google.colaboratory.intrinsic+json": {
              "type": "string"
            },
            "text/plain": [
              "'/content/Development_Dataset_15/training/masks/Weedelec_haricot_2019-09-25T115135-182.png'"
            ]
          },
          "metadata": {
            "tags": []
          },
          "execution_count": 24
        },
        {
          "output_type": "execute_result",
          "data": {
            "application/vnd.google.colaboratory.intrinsic+json": {
              "type": "string"
            },
            "text/plain": [
              "'/content/Development_Dataset_15/training/images/Weedelec_haricot_2019-09-25T115239-207.jpg'"
            ]
          },
          "metadata": {
            "tags": []
          },
          "execution_count": 24
        },
        {
          "output_type": "execute_result",
          "data": {
            "application/vnd.google.colaboratory.intrinsic+json": {
              "type": "string"
            },
            "text/plain": [
              "'/content/Development_Dataset_15/training/masks/Weedelec_haricot_2019-09-25T115239-207.png'"
            ]
          },
          "metadata": {
            "tags": []
          },
          "execution_count": 24
        },
        {
          "output_type": "execute_result",
          "data": {
            "application/vnd.google.colaboratory.intrinsic+json": {
              "type": "string"
            },
            "text/plain": [
              "'/content/Development_Dataset_15/training/images/Weedelec_haricot_2019-09-25T115751-327.jpg'"
            ]
          },
          "metadata": {
            "tags": []
          },
          "execution_count": 24
        },
        {
          "output_type": "execute_result",
          "data": {
            "application/vnd.google.colaboratory.intrinsic+json": {
              "type": "string"
            },
            "text/plain": [
              "'/content/Development_Dataset_15/training/masks/Weedelec_haricot_2019-09-25T115751-327.png'"
            ]
          },
          "metadata": {
            "tags": []
          },
          "execution_count": 24
        },
        {
          "output_type": "execute_result",
          "data": {
            "application/vnd.google.colaboratory.intrinsic+json": {
              "type": "string"
            },
            "text/plain": [
              "'/content/Development_Dataset_15/training/images/Weedelec_haricot_2019-09-25T114757-98.jpg'"
            ]
          },
          "metadata": {
            "tags": []
          },
          "execution_count": 24
        },
        {
          "output_type": "execute_result",
          "data": {
            "application/vnd.google.colaboratory.intrinsic+json": {
              "type": "string"
            },
            "text/plain": [
              "'/content/Development_Dataset_15/training/masks/Weedelec_haricot_2019-09-25T114757-98.png'"
            ]
          },
          "metadata": {
            "tags": []
          },
          "execution_count": 24
        },
        {
          "output_type": "execute_result",
          "data": {
            "application/vnd.google.colaboratory.intrinsic+json": {
              "type": "string"
            },
            "text/plain": [
              "'/content/Development_Dataset_15/training/images/Weedelec_haricot_2019-09-25T114445-24.jpg'"
            ]
          },
          "metadata": {
            "tags": []
          },
          "execution_count": 24
        },
        {
          "output_type": "execute_result",
          "data": {
            "application/vnd.google.colaboratory.intrinsic+json": {
              "type": "string"
            },
            "text/plain": [
              "'/content/Development_Dataset_15/training/masks/Weedelec_haricot_2019-09-25T114445-24.png'"
            ]
          },
          "metadata": {
            "tags": []
          },
          "execution_count": 24
        },
        {
          "output_type": "execute_result",
          "data": {
            "application/vnd.google.colaboratory.intrinsic+json": {
              "type": "string"
            },
            "text/plain": [
              "'/content/Development_Dataset_15/training/images/Weedelec_haricot_2019-09-25T114905-124.jpg'"
            ]
          },
          "metadata": {
            "tags": []
          },
          "execution_count": 24
        },
        {
          "output_type": "execute_result",
          "data": {
            "application/vnd.google.colaboratory.intrinsic+json": {
              "type": "string"
            },
            "text/plain": [
              "'/content/Development_Dataset_15/training/masks/Weedelec_haricot_2019-09-25T114905-124.png'"
            ]
          },
          "metadata": {
            "tags": []
          },
          "execution_count": 24
        },
        {
          "output_type": "execute_result",
          "data": {
            "application/vnd.google.colaboratory.intrinsic+json": {
              "type": "string"
            },
            "text/plain": [
              "'/content/Development_Dataset_15/training/images/Weedelec_haricot_2019-09-25T115057-167.jpg'"
            ]
          },
          "metadata": {
            "tags": []
          },
          "execution_count": 24
        },
        {
          "output_type": "execute_result",
          "data": {
            "application/vnd.google.colaboratory.intrinsic+json": {
              "type": "string"
            },
            "text/plain": [
              "'/content/Development_Dataset_15/training/masks/Weedelec_haricot_2019-09-25T115057-167.png'"
            ]
          },
          "metadata": {
            "tags": []
          },
          "execution_count": 24
        },
        {
          "output_type": "execute_result",
          "data": {
            "application/vnd.google.colaboratory.intrinsic+json": {
              "type": "string"
            },
            "text/plain": [
              "'/content/Development_Dataset_15/training/images/Weedelec_haricot_2019-09-25T115130-180.jpg'"
            ]
          },
          "metadata": {
            "tags": []
          },
          "execution_count": 24
        },
        {
          "output_type": "execute_result",
          "data": {
            "application/vnd.google.colaboratory.intrinsic+json": {
              "type": "string"
            },
            "text/plain": [
              "'/content/Development_Dataset_15/training/masks/Weedelec_haricot_2019-09-25T115130-180.png'"
            ]
          },
          "metadata": {
            "tags": []
          },
          "execution_count": 24
        },
        {
          "output_type": "execute_result",
          "data": {
            "application/vnd.google.colaboratory.intrinsic+json": {
              "type": "string"
            },
            "text/plain": [
              "'/content/Development_Dataset_15/training/images/Weedelec_haricot_2019-09-25T115041-161.jpg'"
            ]
          },
          "metadata": {
            "tags": []
          },
          "execution_count": 24
        },
        {
          "output_type": "execute_result",
          "data": {
            "application/vnd.google.colaboratory.intrinsic+json": {
              "type": "string"
            },
            "text/plain": [
              "'/content/Development_Dataset_15/training/masks/Weedelec_haricot_2019-09-25T115041-161.png'"
            ]
          },
          "metadata": {
            "tags": []
          },
          "execution_count": 24
        },
        {
          "output_type": "execute_result",
          "data": {
            "application/vnd.google.colaboratory.intrinsic+json": {
              "type": "string"
            },
            "text/plain": [
              "'/content/Development_Dataset_15/training/images/Weedelec_haricot_2019-09-25T115052-165.jpg'"
            ]
          },
          "metadata": {
            "tags": []
          },
          "execution_count": 24
        },
        {
          "output_type": "execute_result",
          "data": {
            "application/vnd.google.colaboratory.intrinsic+json": {
              "type": "string"
            },
            "text/plain": [
              "'/content/Development_Dataset_15/training/masks/Weedelec_haricot_2019-09-25T115052-165.png'"
            ]
          },
          "metadata": {
            "tags": []
          },
          "execution_count": 24
        },
        {
          "output_type": "execute_result",
          "data": {
            "application/vnd.google.colaboratory.intrinsic+json": {
              "type": "string"
            },
            "text/plain": [
              "'/content/Development_Dataset_15/training/images/Weedelec_haricot_2019-09-25T115720-315.jpg'"
            ]
          },
          "metadata": {
            "tags": []
          },
          "execution_count": 24
        },
        {
          "output_type": "execute_result",
          "data": {
            "application/vnd.google.colaboratory.intrinsic+json": {
              "type": "string"
            },
            "text/plain": [
              "'/content/Development_Dataset_15/training/masks/Weedelec_haricot_2019-09-25T115720-315.png'"
            ]
          },
          "metadata": {
            "tags": []
          },
          "execution_count": 24
        },
        {
          "output_type": "execute_result",
          "data": {
            "application/vnd.google.colaboratory.intrinsic+json": {
              "type": "string"
            },
            "text/plain": [
              "'/content/Development_Dataset_15/training/images/Weedelec_haricot_2019-09-25T115730-319.jpg'"
            ]
          },
          "metadata": {
            "tags": []
          },
          "execution_count": 24
        },
        {
          "output_type": "execute_result",
          "data": {
            "application/vnd.google.colaboratory.intrinsic+json": {
              "type": "string"
            },
            "text/plain": [
              "'/content/Development_Dataset_15/training/masks/Weedelec_haricot_2019-09-25T115730-319.png'"
            ]
          },
          "metadata": {
            "tags": []
          },
          "execution_count": 24
        },
        {
          "output_type": "execute_result",
          "data": {
            "application/vnd.google.colaboratory.intrinsic+json": {
              "type": "string"
            },
            "text/plain": [
              "'/content/Development_Dataset_15/training/images/Weedelec_haricot_2019-09-25T115741-323.jpg'"
            ]
          },
          "metadata": {
            "tags": []
          },
          "execution_count": 24
        },
        {
          "output_type": "execute_result",
          "data": {
            "application/vnd.google.colaboratory.intrinsic+json": {
              "type": "string"
            },
            "text/plain": [
              "'/content/Development_Dataset_15/training/masks/Weedelec_haricot_2019-09-25T115741-323.png'"
            ]
          },
          "metadata": {
            "tags": []
          },
          "execution_count": 24
        },
        {
          "output_type": "execute_result",
          "data": {
            "application/vnd.google.colaboratory.intrinsic+json": {
              "type": "string"
            },
            "text/plain": [
              "'/content/Development_Dataset_15/training/images/Weedelec_haricot_2019-09-25T120036-391.jpg'"
            ]
          },
          "metadata": {
            "tags": []
          },
          "execution_count": 24
        },
        {
          "output_type": "execute_result",
          "data": {
            "application/vnd.google.colaboratory.intrinsic+json": {
              "type": "string"
            },
            "text/plain": [
              "'/content/Development_Dataset_15/training/masks/Weedelec_haricot_2019-09-25T120036-391.png'"
            ]
          },
          "metadata": {
            "tags": []
          },
          "execution_count": 24
        },
        {
          "output_type": "execute_result",
          "data": {
            "application/vnd.google.colaboratory.intrinsic+json": {
              "type": "string"
            },
            "text/plain": [
              "'/content/Development_Dataset_15/training/images/Weedelec_haricot_2019-09-25T120105-402.jpg'"
            ]
          },
          "metadata": {
            "tags": []
          },
          "execution_count": 24
        },
        {
          "output_type": "execute_result",
          "data": {
            "application/vnd.google.colaboratory.intrinsic+json": {
              "type": "string"
            },
            "text/plain": [
              "'/content/Development_Dataset_15/training/masks/Weedelec_haricot_2019-09-25T120105-402.png'"
            ]
          },
          "metadata": {
            "tags": []
          },
          "execution_count": 24
        },
        {
          "output_type": "execute_result",
          "data": {
            "application/vnd.google.colaboratory.intrinsic+json": {
              "type": "string"
            },
            "text/plain": [
              "'/content/Development_Dataset_15/training/images/Weedelec_haricot_2019-09-25T114455-28.jpg'"
            ]
          },
          "metadata": {
            "tags": []
          },
          "execution_count": 24
        },
        {
          "output_type": "execute_result",
          "data": {
            "application/vnd.google.colaboratory.intrinsic+json": {
              "type": "string"
            },
            "text/plain": [
              "'/content/Development_Dataset_15/training/masks/Weedelec_haricot_2019-09-25T114455-28.png'"
            ]
          },
          "metadata": {
            "tags": []
          },
          "execution_count": 24
        },
        {
          "output_type": "execute_result",
          "data": {
            "application/vnd.google.colaboratory.intrinsic+json": {
              "type": "string"
            },
            "text/plain": [
              "'/content/Development_Dataset_15/training/images/Weedelec_haricot_2019-09-25T115153-189.jpg'"
            ]
          },
          "metadata": {
            "tags": []
          },
          "execution_count": 24
        },
        {
          "output_type": "execute_result",
          "data": {
            "application/vnd.google.colaboratory.intrinsic+json": {
              "type": "string"
            },
            "text/plain": [
              "'/content/Development_Dataset_15/training/masks/Weedelec_haricot_2019-09-25T115153-189.png'"
            ]
          },
          "metadata": {
            "tags": []
          },
          "execution_count": 24
        },
        {
          "output_type": "execute_result",
          "data": {
            "application/vnd.google.colaboratory.intrinsic+json": {
              "type": "string"
            },
            "text/plain": [
              "'/content/Development_Dataset_15/training/images/Weedelec_haricot_2019-09-25T114358-6.jpg'"
            ]
          },
          "metadata": {
            "tags": []
          },
          "execution_count": 24
        },
        {
          "output_type": "execute_result",
          "data": {
            "application/vnd.google.colaboratory.intrinsic+json": {
              "type": "string"
            },
            "text/plain": [
              "'/content/Development_Dataset_15/training/masks/Weedelec_haricot_2019-09-25T114358-6.png'"
            ]
          },
          "metadata": {
            "tags": []
          },
          "execution_count": 24
        },
        {
          "output_type": "execute_result",
          "data": {
            "application/vnd.google.colaboratory.intrinsic+json": {
              "type": "string"
            },
            "text/plain": [
              "'/content/Development_Dataset_15/training/images/Weedelec_haricot_2019-09-25T115049-164.jpg'"
            ]
          },
          "metadata": {
            "tags": []
          },
          "execution_count": 24
        },
        {
          "output_type": "execute_result",
          "data": {
            "application/vnd.google.colaboratory.intrinsic+json": {
              "type": "string"
            },
            "text/plain": [
              "'/content/Development_Dataset_15/training/masks/Weedelec_haricot_2019-09-25T115049-164.png'"
            ]
          },
          "metadata": {
            "tags": []
          },
          "execution_count": 24
        },
        {
          "output_type": "execute_result",
          "data": {
            "application/vnd.google.colaboratory.intrinsic+json": {
              "type": "string"
            },
            "text/plain": [
              "'/content/Development_Dataset_15/training/images/Weedelec_haricot_2019-09-25T114532-42.jpg'"
            ]
          },
          "metadata": {
            "tags": []
          },
          "execution_count": 24
        },
        {
          "output_type": "execute_result",
          "data": {
            "application/vnd.google.colaboratory.intrinsic+json": {
              "type": "string"
            },
            "text/plain": [
              "'/content/Development_Dataset_15/training/masks/Weedelec_haricot_2019-09-25T114532-42.png'"
            ]
          },
          "metadata": {
            "tags": []
          },
          "execution_count": 24
        },
        {
          "output_type": "execute_result",
          "data": {
            "application/vnd.google.colaboratory.intrinsic+json": {
              "type": "string"
            },
            "text/plain": [
              "'/content/Development_Dataset_15/training/images/Weedelec_haricot_2019-09-25T114921-130.jpg'"
            ]
          },
          "metadata": {
            "tags": []
          },
          "execution_count": 24
        },
        {
          "output_type": "execute_result",
          "data": {
            "application/vnd.google.colaboratory.intrinsic+json": {
              "type": "string"
            },
            "text/plain": [
              "'/content/Development_Dataset_15/training/masks/Weedelec_haricot_2019-09-25T114921-130.png'"
            ]
          },
          "metadata": {
            "tags": []
          },
          "execution_count": 24
        },
        {
          "output_type": "execute_result",
          "data": {
            "application/vnd.google.colaboratory.intrinsic+json": {
              "type": "string"
            },
            "text/plain": [
              "'/content/Development_Dataset_15/training/images/Weedelec_haricot_2019-09-25T115649-303.jpg'"
            ]
          },
          "metadata": {
            "tags": []
          },
          "execution_count": 24
        },
        {
          "output_type": "execute_result",
          "data": {
            "application/vnd.google.colaboratory.intrinsic+json": {
              "type": "string"
            },
            "text/plain": [
              "'/content/Development_Dataset_15/training/masks/Weedelec_haricot_2019-09-25T115649-303.png'"
            ]
          },
          "metadata": {
            "tags": []
          },
          "execution_count": 24
        },
        {
          "output_type": "execute_result",
          "data": {
            "application/vnd.google.colaboratory.intrinsic+json": {
              "type": "string"
            },
            "text/plain": [
              "'/content/Development_Dataset_15/training/images/Weedelec_haricot_2019-09-25T115404-240.jpg'"
            ]
          },
          "metadata": {
            "tags": []
          },
          "execution_count": 24
        },
        {
          "output_type": "execute_result",
          "data": {
            "application/vnd.google.colaboratory.intrinsic+json": {
              "type": "string"
            },
            "text/plain": [
              "'/content/Development_Dataset_15/training/masks/Weedelec_haricot_2019-09-25T115404-240.png'"
            ]
          },
          "metadata": {
            "tags": []
          },
          "execution_count": 24
        },
        {
          "output_type": "execute_result",
          "data": {
            "application/vnd.google.colaboratory.intrinsic+json": {
              "type": "string"
            },
            "text/plain": [
              "'/content/Development_Dataset_15/training/images/Weedelec_haricot_2019-09-25T115843-347.jpg'"
            ]
          },
          "metadata": {
            "tags": []
          },
          "execution_count": 24
        },
        {
          "output_type": "execute_result",
          "data": {
            "application/vnd.google.colaboratory.intrinsic+json": {
              "type": "string"
            },
            "text/plain": [
              "'/content/Development_Dataset_15/training/masks/Weedelec_haricot_2019-09-25T115843-347.png'"
            ]
          },
          "metadata": {
            "tags": []
          },
          "execution_count": 24
        },
        {
          "output_type": "execute_result",
          "data": {
            "application/vnd.google.colaboratory.intrinsic+json": {
              "type": "string"
            },
            "text/plain": [
              "'/content/Development_Dataset_15/training/images/Weedelec_haricot_2019-09-25T115932-366.jpg'"
            ]
          },
          "metadata": {
            "tags": []
          },
          "execution_count": 24
        },
        {
          "output_type": "execute_result",
          "data": {
            "application/vnd.google.colaboratory.intrinsic+json": {
              "type": "string"
            },
            "text/plain": [
              "'/content/Development_Dataset_15/training/masks/Weedelec_haricot_2019-09-25T115932-366.png'"
            ]
          },
          "metadata": {
            "tags": []
          },
          "execution_count": 24
        },
        {
          "output_type": "execute_result",
          "data": {
            "application/vnd.google.colaboratory.intrinsic+json": {
              "type": "string"
            },
            "text/plain": [
              "'/content/Development_Dataset_15/training/images/Weedelec_haricot_2019-09-25T114644-70.jpg'"
            ]
          },
          "metadata": {
            "tags": []
          },
          "execution_count": 24
        },
        {
          "output_type": "execute_result",
          "data": {
            "application/vnd.google.colaboratory.intrinsic+json": {
              "type": "string"
            },
            "text/plain": [
              "'/content/Development_Dataset_15/training/masks/Weedelec_haricot_2019-09-25T114644-70.png'"
            ]
          },
          "metadata": {
            "tags": []
          },
          "execution_count": 24
        },
        {
          "output_type": "execute_result",
          "data": {
            "application/vnd.google.colaboratory.intrinsic+json": {
              "type": "string"
            },
            "text/plain": [
              "'/content/Development_Dataset_15/training/images/Weedelec_haricot_2019-09-25T114603-54.jpg'"
            ]
          },
          "metadata": {
            "tags": []
          },
          "execution_count": 24
        },
        {
          "output_type": "execute_result",
          "data": {
            "application/vnd.google.colaboratory.intrinsic+json": {
              "type": "string"
            },
            "text/plain": [
              "'/content/Development_Dataset_15/training/masks/Weedelec_haricot_2019-09-25T114603-54.png'"
            ]
          },
          "metadata": {
            "tags": []
          },
          "execution_count": 24
        },
        {
          "output_type": "execute_result",
          "data": {
            "application/vnd.google.colaboratory.intrinsic+json": {
              "type": "string"
            },
            "text/plain": [
              "'/content/Development_Dataset_15/training/images/Weedelec_haricot_2019-09-25T120212-428.jpg'"
            ]
          },
          "metadata": {
            "tags": []
          },
          "execution_count": 24
        },
        {
          "output_type": "execute_result",
          "data": {
            "application/vnd.google.colaboratory.intrinsic+json": {
              "type": "string"
            },
            "text/plain": [
              "'/content/Development_Dataset_15/training/masks/Weedelec_haricot_2019-09-25T120212-428.png'"
            ]
          },
          "metadata": {
            "tags": []
          },
          "execution_count": 24
        },
        {
          "output_type": "execute_result",
          "data": {
            "application/vnd.google.colaboratory.intrinsic+json": {
              "type": "string"
            },
            "text/plain": [
              "'/content/Development_Dataset_15/training/images/Weedelec_haricot_2019-09-25T115607-287.jpg'"
            ]
          },
          "metadata": {
            "tags": []
          },
          "execution_count": 24
        },
        {
          "output_type": "execute_result",
          "data": {
            "application/vnd.google.colaboratory.intrinsic+json": {
              "type": "string"
            },
            "text/plain": [
              "'/content/Development_Dataset_15/training/masks/Weedelec_haricot_2019-09-25T115607-287.png'"
            ]
          },
          "metadata": {
            "tags": []
          },
          "execution_count": 24
        },
        {
          "output_type": "execute_result",
          "data": {
            "application/vnd.google.colaboratory.intrinsic+json": {
              "type": "string"
            },
            "text/plain": [
              "'/content/Development_Dataset_15/training/images/Weedelec_haricot_2019-09-25T114850-118.jpg'"
            ]
          },
          "metadata": {
            "tags": []
          },
          "execution_count": 24
        },
        {
          "output_type": "execute_result",
          "data": {
            "application/vnd.google.colaboratory.intrinsic+json": {
              "type": "string"
            },
            "text/plain": [
              "'/content/Development_Dataset_15/training/masks/Weedelec_haricot_2019-09-25T114850-118.png'"
            ]
          },
          "metadata": {
            "tags": []
          },
          "execution_count": 24
        },
        {
          "output_type": "execute_result",
          "data": {
            "application/vnd.google.colaboratory.intrinsic+json": {
              "type": "string"
            },
            "text/plain": [
              "'/content/Development_Dataset_15/training/images/Weedelec_haricot_2019-09-25T115510-265.jpg'"
            ]
          },
          "metadata": {
            "tags": []
          },
          "execution_count": 24
        },
        {
          "output_type": "execute_result",
          "data": {
            "application/vnd.google.colaboratory.intrinsic+json": {
              "type": "string"
            },
            "text/plain": [
              "'/content/Development_Dataset_15/training/masks/Weedelec_haricot_2019-09-25T115510-265.png'"
            ]
          },
          "metadata": {
            "tags": []
          },
          "execution_count": 24
        },
        {
          "output_type": "execute_result",
          "data": {
            "application/vnd.google.colaboratory.intrinsic+json": {
              "type": "string"
            },
            "text/plain": [
              "'/content/Development_Dataset_15/training/images/Weedelec_haricot_2019-09-25T114623-62.jpg'"
            ]
          },
          "metadata": {
            "tags": []
          },
          "execution_count": 24
        },
        {
          "output_type": "execute_result",
          "data": {
            "application/vnd.google.colaboratory.intrinsic+json": {
              "type": "string"
            },
            "text/plain": [
              "'/content/Development_Dataset_15/training/masks/Weedelec_haricot_2019-09-25T114623-62.png'"
            ]
          },
          "metadata": {
            "tags": []
          },
          "execution_count": 24
        },
        {
          "output_type": "execute_result",
          "data": {
            "application/vnd.google.colaboratory.intrinsic+json": {
              "type": "string"
            },
            "text/plain": [
              "'/content/Development_Dataset_15/training/images/Weedelec_haricot_2019-09-25T115036-159.jpg'"
            ]
          },
          "metadata": {
            "tags": []
          },
          "execution_count": 24
        },
        {
          "output_type": "execute_result",
          "data": {
            "application/vnd.google.colaboratory.intrinsic+json": {
              "type": "string"
            },
            "text/plain": [
              "'/content/Development_Dataset_15/training/masks/Weedelec_haricot_2019-09-25T115036-159.png'"
            ]
          },
          "metadata": {
            "tags": []
          },
          "execution_count": 24
        },
        {
          "output_type": "execute_result",
          "data": {
            "application/vnd.google.colaboratory.intrinsic+json": {
              "type": "string"
            },
            "text/plain": [
              "'/content/Development_Dataset_15/training/images/Weedelec_haricot_2019-09-25T114424-16.jpg'"
            ]
          },
          "metadata": {
            "tags": []
          },
          "execution_count": 24
        },
        {
          "output_type": "execute_result",
          "data": {
            "application/vnd.google.colaboratory.intrinsic+json": {
              "type": "string"
            },
            "text/plain": [
              "'/content/Development_Dataset_15/training/masks/Weedelec_haricot_2019-09-25T114424-16.png'"
            ]
          },
          "metadata": {
            "tags": []
          },
          "execution_count": 24
        },
        {
          "output_type": "execute_result",
          "data": {
            "application/vnd.google.colaboratory.intrinsic+json": {
              "type": "string"
            },
            "text/plain": [
              "'/content/Development_Dataset_15/training/images/Weedelec_haricot_2019-09-25T120054-398.jpg'"
            ]
          },
          "metadata": {
            "tags": []
          },
          "execution_count": 24
        },
        {
          "output_type": "execute_result",
          "data": {
            "application/vnd.google.colaboratory.intrinsic+json": {
              "type": "string"
            },
            "text/plain": [
              "'/content/Development_Dataset_15/training/masks/Weedelec_haricot_2019-09-25T120054-398.png'"
            ]
          },
          "metadata": {
            "tags": []
          },
          "execution_count": 24
        },
        {
          "output_type": "execute_result",
          "data": {
            "application/vnd.google.colaboratory.intrinsic+json": {
              "type": "string"
            },
            "text/plain": [
              "'/content/Development_Dataset_15/training/images/Weedelec_haricot_2019-09-25T120013-382.jpg'"
            ]
          },
          "metadata": {
            "tags": []
          },
          "execution_count": 24
        },
        {
          "output_type": "execute_result",
          "data": {
            "application/vnd.google.colaboratory.intrinsic+json": {
              "type": "string"
            },
            "text/plain": [
              "'/content/Development_Dataset_15/training/masks/Weedelec_haricot_2019-09-25T120013-382.png'"
            ]
          },
          "metadata": {
            "tags": []
          },
          "execution_count": 24
        },
        {
          "output_type": "execute_result",
          "data": {
            "application/vnd.google.colaboratory.intrinsic+json": {
              "type": "string"
            },
            "text/plain": [
              "'/content/Development_Dataset_15/training/images/Weedelec_haricot_2019-09-25T115428-249.jpg'"
            ]
          },
          "metadata": {
            "tags": []
          },
          "execution_count": 24
        },
        {
          "output_type": "execute_result",
          "data": {
            "application/vnd.google.colaboratory.intrinsic+json": {
              "type": "string"
            },
            "text/plain": [
              "'/content/Development_Dataset_15/training/masks/Weedelec_haricot_2019-09-25T115428-249.png'"
            ]
          },
          "metadata": {
            "tags": []
          },
          "execution_count": 24
        },
        {
          "output_type": "execute_result",
          "data": {
            "application/vnd.google.colaboratory.intrinsic+json": {
              "type": "string"
            },
            "text/plain": [
              "'/content/Development_Dataset_15/training/images/Weedelec_haricot_2019-09-25T115952-374.jpg'"
            ]
          },
          "metadata": {
            "tags": []
          },
          "execution_count": 24
        },
        {
          "output_type": "execute_result",
          "data": {
            "application/vnd.google.colaboratory.intrinsic+json": {
              "type": "string"
            },
            "text/plain": [
              "'/content/Development_Dataset_15/training/masks/Weedelec_haricot_2019-09-25T115952-374.png'"
            ]
          },
          "metadata": {
            "tags": []
          },
          "execution_count": 24
        },
        {
          "output_type": "execute_result",
          "data": {
            "application/vnd.google.colaboratory.intrinsic+json": {
              "type": "string"
            },
            "text/plain": [
              "'/content/Development_Dataset_15/training/images/Weedelec_haricot_2019-09-25T114913-127.jpg'"
            ]
          },
          "metadata": {
            "tags": []
          },
          "execution_count": 24
        },
        {
          "output_type": "execute_result",
          "data": {
            "application/vnd.google.colaboratory.intrinsic+json": {
              "type": "string"
            },
            "text/plain": [
              "'/content/Development_Dataset_15/training/masks/Weedelec_haricot_2019-09-25T114913-127.png'"
            ]
          },
          "metadata": {
            "tags": []
          },
          "execution_count": 24
        },
        {
          "output_type": "execute_result",
          "data": {
            "application/vnd.google.colaboratory.intrinsic+json": {
              "type": "string"
            },
            "text/plain": [
              "'/content/Development_Dataset_15/training/images/Weedelec_haricot_2019-09-25T114527-40.jpg'"
            ]
          },
          "metadata": {
            "tags": []
          },
          "execution_count": 24
        },
        {
          "output_type": "execute_result",
          "data": {
            "application/vnd.google.colaboratory.intrinsic+json": {
              "type": "string"
            },
            "text/plain": [
              "'/content/Development_Dataset_15/training/masks/Weedelec_haricot_2019-09-25T114527-40.png'"
            ]
          },
          "metadata": {
            "tags": []
          },
          "execution_count": 24
        },
        {
          "output_type": "execute_result",
          "data": {
            "application/vnd.google.colaboratory.intrinsic+json": {
              "type": "string"
            },
            "text/plain": [
              "'/content/Development_Dataset_15/training/images/Weedelec_haricot_2019-09-25T115059-168.jpg'"
            ]
          },
          "metadata": {
            "tags": []
          },
          "execution_count": 24
        },
        {
          "output_type": "execute_result",
          "data": {
            "application/vnd.google.colaboratory.intrinsic+json": {
              "type": "string"
            },
            "text/plain": [
              "'/content/Development_Dataset_15/training/masks/Weedelec_haricot_2019-09-25T115059-168.png'"
            ]
          },
          "metadata": {
            "tags": []
          },
          "execution_count": 24
        },
        {
          "output_type": "execute_result",
          "data": {
            "application/vnd.google.colaboratory.intrinsic+json": {
              "type": "string"
            },
            "text/plain": [
              "'/content/Development_Dataset_15/training/images/Weedelec_haricot_2019-09-25T114655-74.jpg'"
            ]
          },
          "metadata": {
            "tags": []
          },
          "execution_count": 24
        },
        {
          "output_type": "execute_result",
          "data": {
            "application/vnd.google.colaboratory.intrinsic+json": {
              "type": "string"
            },
            "text/plain": [
              "'/content/Development_Dataset_15/training/masks/Weedelec_haricot_2019-09-25T114655-74.png'"
            ]
          },
          "metadata": {
            "tags": []
          },
          "execution_count": 24
        },
        {
          "output_type": "execute_result",
          "data": {
            "application/vnd.google.colaboratory.intrinsic+json": {
              "type": "string"
            },
            "text/plain": [
              "'/content/Development_Dataset_15/training/images/Weedelec_haricot_2019-09-25T114516-36.jpg'"
            ]
          },
          "metadata": {
            "tags": []
          },
          "execution_count": 24
        },
        {
          "output_type": "execute_result",
          "data": {
            "application/vnd.google.colaboratory.intrinsic+json": {
              "type": "string"
            },
            "text/plain": [
              "'/content/Development_Dataset_15/training/masks/Weedelec_haricot_2019-09-25T114516-36.png'"
            ]
          },
          "metadata": {
            "tags": []
          },
          "execution_count": 24
        },
        {
          "output_type": "execute_result",
          "data": {
            "application/vnd.google.colaboratory.intrinsic+json": {
              "type": "string"
            },
            "text/plain": [
              "'/content/Development_Dataset_15/training/images/Weedelec_haricot_2019-09-25T120125-410.jpg'"
            ]
          },
          "metadata": {
            "tags": []
          },
          "execution_count": 24
        },
        {
          "output_type": "execute_result",
          "data": {
            "application/vnd.google.colaboratory.intrinsic+json": {
              "type": "string"
            },
            "text/plain": [
              "'/content/Development_Dataset_15/training/masks/Weedelec_haricot_2019-09-25T120125-410.png'"
            ]
          },
          "metadata": {
            "tags": []
          },
          "execution_count": 24
        },
        {
          "output_type": "execute_result",
          "data": {
            "application/vnd.google.colaboratory.intrinsic+json": {
              "type": "string"
            },
            "text/plain": [
              "'/content/Development_Dataset_15/training/images/Weedelec_haricot_2019-09-25T114403-8.jpg'"
            ]
          },
          "metadata": {
            "tags": []
          },
          "execution_count": 24
        },
        {
          "output_type": "execute_result",
          "data": {
            "application/vnd.google.colaboratory.intrinsic+json": {
              "type": "string"
            },
            "text/plain": [
              "'/content/Development_Dataset_15/training/masks/Weedelec_haricot_2019-09-25T114403-8.png'"
            ]
          },
          "metadata": {
            "tags": []
          },
          "execution_count": 24
        },
        {
          "output_type": "execute_result",
          "data": {
            "application/vnd.google.colaboratory.intrinsic+json": {
              "type": "string"
            },
            "text/plain": [
              "'/content/Development_Dataset_15/training/images/Weedelec_haricot_2019-09-25T114450-26.jpg'"
            ]
          },
          "metadata": {
            "tags": []
          },
          "execution_count": 24
        },
        {
          "output_type": "execute_result",
          "data": {
            "application/vnd.google.colaboratory.intrinsic+json": {
              "type": "string"
            },
            "text/plain": [
              "'/content/Development_Dataset_15/training/masks/Weedelec_haricot_2019-09-25T114450-26.png'"
            ]
          },
          "metadata": {
            "tags": []
          },
          "execution_count": 24
        },
        {
          "output_type": "execute_result",
          "data": {
            "application/vnd.google.colaboratory.intrinsic+json": {
              "type": "string"
            },
            "text/plain": [
              "'/content/Development_Dataset_15/training/images/Weedelec_haricot_2019-09-25T115420-246.jpg'"
            ]
          },
          "metadata": {
            "tags": []
          },
          "execution_count": 24
        },
        {
          "output_type": "execute_result",
          "data": {
            "application/vnd.google.colaboratory.intrinsic+json": {
              "type": "string"
            },
            "text/plain": [
              "'/content/Development_Dataset_15/training/masks/Weedelec_haricot_2019-09-25T115420-246.png'"
            ]
          },
          "metadata": {
            "tags": []
          },
          "execution_count": 24
        },
        {
          "output_type": "execute_result",
          "data": {
            "application/vnd.google.colaboratory.intrinsic+json": {
              "type": "string"
            },
            "text/plain": [
              "'/content/Development_Dataset_15/training/images/Weedelec_haricot_2019-09-25T114957-144.jpg'"
            ]
          },
          "metadata": {
            "tags": []
          },
          "execution_count": 24
        },
        {
          "output_type": "execute_result",
          "data": {
            "application/vnd.google.colaboratory.intrinsic+json": {
              "type": "string"
            },
            "text/plain": [
              "'/content/Development_Dataset_15/training/masks/Weedelec_haricot_2019-09-25T114957-144.png'"
            ]
          },
          "metadata": {
            "tags": []
          },
          "execution_count": 24
        },
        {
          "output_type": "execute_result",
          "data": {
            "application/vnd.google.colaboratory.intrinsic+json": {
              "type": "string"
            },
            "text/plain": [
              "'/content/Development_Dataset_15/training/images/Weedelec_haricot_2019-09-25T115710-311.jpg'"
            ]
          },
          "metadata": {
            "tags": []
          },
          "execution_count": 24
        },
        {
          "output_type": "execute_result",
          "data": {
            "application/vnd.google.colaboratory.intrinsic+json": {
              "type": "string"
            },
            "text/plain": [
              "'/content/Development_Dataset_15/training/masks/Weedelec_haricot_2019-09-25T115710-311.png'"
            ]
          },
          "metadata": {
            "tags": []
          },
          "execution_count": 24
        },
        {
          "output_type": "execute_result",
          "data": {
            "application/vnd.google.colaboratory.intrinsic+json": {
              "type": "string"
            },
            "text/plain": [
              "'/content/Development_Dataset_15/training/images/Weedelec_haricot_2019-09-25T120235-437.jpg'"
            ]
          },
          "metadata": {
            "tags": []
          },
          "execution_count": 24
        },
        {
          "output_type": "execute_result",
          "data": {
            "application/vnd.google.colaboratory.intrinsic+json": {
              "type": "string"
            },
            "text/plain": [
              "'/content/Development_Dataset_15/training/masks/Weedelec_haricot_2019-09-25T120235-437.png'"
            ]
          },
          "metadata": {
            "tags": []
          },
          "execution_count": 24
        },
        {
          "output_type": "execute_result",
          "data": {
            "application/vnd.google.colaboratory.intrinsic+json": {
              "type": "string"
            },
            "text/plain": [
              "'/content/Development_Dataset_15/training/images/Weedelec_haricot_2019-09-25T120115-406.jpg'"
            ]
          },
          "metadata": {
            "tags": []
          },
          "execution_count": 24
        },
        {
          "output_type": "execute_result",
          "data": {
            "application/vnd.google.colaboratory.intrinsic+json": {
              "type": "string"
            },
            "text/plain": [
              "'/content/Development_Dataset_15/training/masks/Weedelec_haricot_2019-09-25T120115-406.png'"
            ]
          },
          "metadata": {
            "tags": []
          },
          "execution_count": 24
        },
        {
          "output_type": "execute_result",
          "data": {
            "application/vnd.google.colaboratory.intrinsic+json": {
              "type": "string"
            },
            "text/plain": [
              "'/content/Development_Dataset_15/training/images/Weedelec_haricot_2019-09-25T115518-268.jpg'"
            ]
          },
          "metadata": {
            "tags": []
          },
          "execution_count": 24
        },
        {
          "output_type": "execute_result",
          "data": {
            "application/vnd.google.colaboratory.intrinsic+json": {
              "type": "string"
            },
            "text/plain": [
              "'/content/Development_Dataset_15/training/masks/Weedelec_haricot_2019-09-25T115518-268.png'"
            ]
          },
          "metadata": {
            "tags": []
          },
          "execution_count": 24
        },
        {
          "output_type": "execute_result",
          "data": {
            "application/vnd.google.colaboratory.intrinsic+json": {
              "type": "string"
            },
            "text/plain": [
              "'/content/Development_Dataset_15/training/images/Weedelec_haricot_2019-09-25T114741-92.jpg'"
            ]
          },
          "metadata": {
            "tags": []
          },
          "execution_count": 24
        },
        {
          "output_type": "execute_result",
          "data": {
            "application/vnd.google.colaboratory.intrinsic+json": {
              "type": "string"
            },
            "text/plain": [
              "'/content/Development_Dataset_15/training/masks/Weedelec_haricot_2019-09-25T114741-92.png'"
            ]
          },
          "metadata": {
            "tags": []
          },
          "execution_count": 24
        },
        {
          "output_type": "execute_result",
          "data": {
            "application/vnd.google.colaboratory.intrinsic+json": {
              "type": "string"
            },
            "text/plain": [
              "'/content/Development_Dataset_15/training/images/Weedelec_haricot_2019-09-25T115917-360.jpg'"
            ]
          },
          "metadata": {
            "tags": []
          },
          "execution_count": 24
        },
        {
          "output_type": "execute_result",
          "data": {
            "application/vnd.google.colaboratory.intrinsic+json": {
              "type": "string"
            },
            "text/plain": [
              "'/content/Development_Dataset_15/training/masks/Weedelec_haricot_2019-09-25T115917-360.png'"
            ]
          },
          "metadata": {
            "tags": []
          },
          "execution_count": 24
        },
        {
          "output_type": "execute_result",
          "data": {
            "application/vnd.google.colaboratory.intrinsic+json": {
              "type": "string"
            },
            "text/plain": [
              "'/content/Development_Dataset_15/training/images/Weedelec_haricot_2019-09-25T120005-379.jpg'"
            ]
          },
          "metadata": {
            "tags": []
          },
          "execution_count": 24
        },
        {
          "output_type": "execute_result",
          "data": {
            "application/vnd.google.colaboratory.intrinsic+json": {
              "type": "string"
            },
            "text/plain": [
              "'/content/Development_Dataset_15/training/masks/Weedelec_haricot_2019-09-25T120005-379.png'"
            ]
          },
          "metadata": {
            "tags": []
          },
          "execution_count": 24
        },
        {
          "output_type": "execute_result",
          "data": {
            "application/vnd.google.colaboratory.intrinsic+json": {
              "type": "string"
            },
            "text/plain": [
              "'/content/Development_Dataset_15/training/images/Weedelec_haricot_2019-09-25T115836-344.jpg'"
            ]
          },
          "metadata": {
            "tags": []
          },
          "execution_count": 24
        },
        {
          "output_type": "execute_result",
          "data": {
            "application/vnd.google.colaboratory.intrinsic+json": {
              "type": "string"
            },
            "text/plain": [
              "'/content/Development_Dataset_15/training/masks/Weedelec_haricot_2019-09-25T115836-344.png'"
            ]
          },
          "metadata": {
            "tags": []
          },
          "execution_count": 24
        },
        {
          "output_type": "execute_result",
          "data": {
            "application/vnd.google.colaboratory.intrinsic+json": {
              "type": "string"
            },
            "text/plain": [
              "'/content/Development_Dataset_15/validation/images/Weedelec_haricot_2019-09-25T115228-203.jpg'"
            ]
          },
          "metadata": {
            "tags": []
          },
          "execution_count": 24
        },
        {
          "output_type": "execute_result",
          "data": {
            "application/vnd.google.colaboratory.intrinsic+json": {
              "type": "string"
            },
            "text/plain": [
              "'/content/Development_Dataset_15/validation/masks/Weedelec_haricot_2019-09-25T115228-203.png'"
            ]
          },
          "metadata": {
            "tags": []
          },
          "execution_count": 24
        },
        {
          "output_type": "execute_result",
          "data": {
            "application/vnd.google.colaboratory.intrinsic+json": {
              "type": "string"
            },
            "text/plain": [
              "'/content/Development_Dataset_15/validation/images/Weedelec_haricot_2019-09-25T114736-90.jpg'"
            ]
          },
          "metadata": {
            "tags": []
          },
          "execution_count": 24
        },
        {
          "output_type": "execute_result",
          "data": {
            "application/vnd.google.colaboratory.intrinsic+json": {
              "type": "string"
            },
            "text/plain": [
              "'/content/Development_Dataset_15/validation/masks/Weedelec_haricot_2019-09-25T114736-90.png'"
            ]
          },
          "metadata": {
            "tags": []
          },
          "execution_count": 24
        },
        {
          "output_type": "execute_result",
          "data": {
            "application/vnd.google.colaboratory.intrinsic+json": {
              "type": "string"
            },
            "text/plain": [
              "'/content/Development_Dataset_15/validation/images/Weedelec_haricot_2019-09-25T114650-72.jpg'"
            ]
          },
          "metadata": {
            "tags": []
          },
          "execution_count": 24
        },
        {
          "output_type": "execute_result",
          "data": {
            "application/vnd.google.colaboratory.intrinsic+json": {
              "type": "string"
            },
            "text/plain": [
              "'/content/Development_Dataset_15/validation/masks/Weedelec_haricot_2019-09-25T114650-72.png'"
            ]
          },
          "metadata": {
            "tags": []
          },
          "execution_count": 24
        },
        {
          "output_type": "execute_result",
          "data": {
            "application/vnd.google.colaboratory.intrinsic+json": {
              "type": "string"
            },
            "text/plain": [
              "'/content/Development_Dataset_15/validation/images/Weedelec_haricot_2019-09-25T115446-256.jpg'"
            ]
          },
          "metadata": {
            "tags": []
          },
          "execution_count": 24
        },
        {
          "output_type": "execute_result",
          "data": {
            "application/vnd.google.colaboratory.intrinsic+json": {
              "type": "string"
            },
            "text/plain": [
              "'/content/Development_Dataset_15/validation/masks/Weedelec_haricot_2019-09-25T115446-256.png'"
            ]
          },
          "metadata": {
            "tags": []
          },
          "execution_count": 24
        },
        {
          "output_type": "execute_result",
          "data": {
            "application/vnd.google.colaboratory.intrinsic+json": {
              "type": "string"
            },
            "text/plain": [
              "'/content/Development_Dataset_15/validation/images/Weedelec_haricot_2019-09-25T114618-60.jpg'"
            ]
          },
          "metadata": {
            "tags": []
          },
          "execution_count": 24
        },
        {
          "output_type": "execute_result",
          "data": {
            "application/vnd.google.colaboratory.intrinsic+json": {
              "type": "string"
            },
            "text/plain": [
              "'/content/Development_Dataset_15/validation/masks/Weedelec_haricot_2019-09-25T114618-60.png'"
            ]
          },
          "metadata": {
            "tags": []
          },
          "execution_count": 24
        },
        {
          "output_type": "execute_result",
          "data": {
            "application/vnd.google.colaboratory.intrinsic+json": {
              "type": "string"
            },
            "text/plain": [
              "'/content/Development_Dataset_15/validation/images/Weedelec_haricot_2019-09-25T115028-156.jpg'"
            ]
          },
          "metadata": {
            "tags": []
          },
          "execution_count": 24
        },
        {
          "output_type": "execute_result",
          "data": {
            "application/vnd.google.colaboratory.intrinsic+json": {
              "type": "string"
            },
            "text/plain": [
              "'/content/Development_Dataset_15/validation/masks/Weedelec_haricot_2019-09-25T115028-156.png'"
            ]
          },
          "metadata": {
            "tags": []
          },
          "execution_count": 24
        },
        {
          "output_type": "execute_result",
          "data": {
            "application/vnd.google.colaboratory.intrinsic+json": {
              "type": "string"
            },
            "text/plain": [
              "'/content/Development_Dataset_15/validation/images/Weedelec_haricot_2019-09-25T115754-328.jpg'"
            ]
          },
          "metadata": {
            "tags": []
          },
          "execution_count": 24
        },
        {
          "output_type": "execute_result",
          "data": {
            "application/vnd.google.colaboratory.intrinsic+json": {
              "type": "string"
            },
            "text/plain": [
              "'/content/Development_Dataset_15/validation/masks/Weedelec_haricot_2019-09-25T115754-328.png'"
            ]
          },
          "metadata": {
            "tags": []
          },
          "execution_count": 24
        },
        {
          "output_type": "execute_result",
          "data": {
            "application/vnd.google.colaboratory.intrinsic+json": {
              "type": "string"
            },
            "text/plain": [
              "'/content/Development_Dataset_15/validation/images/Weedelec_haricot_2019-09-25T114934-135.jpg'"
            ]
          },
          "metadata": {
            "tags": []
          },
          "execution_count": 24
        },
        {
          "output_type": "execute_result",
          "data": {
            "application/vnd.google.colaboratory.intrinsic+json": {
              "type": "string"
            },
            "text/plain": [
              "'/content/Development_Dataset_15/validation/masks/Weedelec_haricot_2019-09-25T114934-135.png'"
            ]
          },
          "metadata": {
            "tags": []
          },
          "execution_count": 24
        },
        {
          "output_type": "execute_result",
          "data": {
            "application/vnd.google.colaboratory.intrinsic+json": {
              "type": "string"
            },
            "text/plain": [
              "'/content/Development_Dataset_15/validation/images/Weedelec_haricot_2019-09-25T115533-274.jpg'"
            ]
          },
          "metadata": {
            "tags": []
          },
          "execution_count": 24
        },
        {
          "output_type": "execute_result",
          "data": {
            "application/vnd.google.colaboratory.intrinsic+json": {
              "type": "string"
            },
            "text/plain": [
              "'/content/Development_Dataset_15/validation/masks/Weedelec_haricot_2019-09-25T115533-274.png'"
            ]
          },
          "metadata": {
            "tags": []
          },
          "execution_count": 24
        },
        {
          "output_type": "execute_result",
          "data": {
            "application/vnd.google.colaboratory.intrinsic+json": {
              "type": "string"
            },
            "text/plain": [
              "'/content/Development_Dataset_15/validation/images/Weedelec_haricot_2019-09-25T115541-277.jpg'"
            ]
          },
          "metadata": {
            "tags": []
          },
          "execution_count": 24
        },
        {
          "output_type": "execute_result",
          "data": {
            "application/vnd.google.colaboratory.intrinsic+json": {
              "type": "string"
            },
            "text/plain": [
              "'/content/Development_Dataset_15/validation/masks/Weedelec_haricot_2019-09-25T115541-277.png'"
            ]
          },
          "metadata": {
            "tags": []
          },
          "execution_count": 24
        },
        {
          "output_type": "execute_result",
          "data": {
            "application/vnd.google.colaboratory.intrinsic+json": {
              "type": "string"
            },
            "text/plain": [
              "'/content/Development_Dataset_15/validation/images/Weedelec_haricot_2019-09-25T115502-262.jpg'"
            ]
          },
          "metadata": {
            "tags": []
          },
          "execution_count": 24
        },
        {
          "output_type": "execute_result",
          "data": {
            "application/vnd.google.colaboratory.intrinsic+json": {
              "type": "string"
            },
            "text/plain": [
              "'/content/Development_Dataset_15/validation/masks/Weedelec_haricot_2019-09-25T115502-262.png'"
            ]
          },
          "metadata": {
            "tags": []
          },
          "execution_count": 24
        },
        {
          "output_type": "execute_result",
          "data": {
            "application/vnd.google.colaboratory.intrinsic+json": {
              "type": "string"
            },
            "text/plain": [
              "'/content/Development_Dataset_15/validation/images/Weedelec_haricot_2019-09-25T115549-280.jpg'"
            ]
          },
          "metadata": {
            "tags": []
          },
          "execution_count": 24
        },
        {
          "output_type": "execute_result",
          "data": {
            "application/vnd.google.colaboratory.intrinsic+json": {
              "type": "string"
            },
            "text/plain": [
              "'/content/Development_Dataset_15/validation/masks/Weedelec_haricot_2019-09-25T115549-280.png'"
            ]
          },
          "metadata": {
            "tags": []
          },
          "execution_count": 24
        },
        {
          "output_type": "execute_result",
          "data": {
            "application/vnd.google.colaboratory.intrinsic+json": {
              "type": "string"
            },
            "text/plain": [
              "'/content/Development_Dataset_15/validation/images/Weedelec_haricot_2019-09-25T115054-166.jpg'"
            ]
          },
          "metadata": {
            "tags": []
          },
          "execution_count": 24
        },
        {
          "output_type": "execute_result",
          "data": {
            "application/vnd.google.colaboratory.intrinsic+json": {
              "type": "string"
            },
            "text/plain": [
              "'/content/Development_Dataset_15/validation/masks/Weedelec_haricot_2019-09-25T115054-166.png'"
            ]
          },
          "metadata": {
            "tags": []
          },
          "execution_count": 24
        },
        {
          "output_type": "execute_result",
          "data": {
            "application/vnd.google.colaboratory.intrinsic+json": {
              "type": "string"
            },
            "text/plain": [
              "'/content/Development_Dataset_15/validation/images/Weedelec_haricot_2019-09-25T115412-243.jpg'"
            ]
          },
          "metadata": {
            "tags": []
          },
          "execution_count": 24
        },
        {
          "output_type": "execute_result",
          "data": {
            "application/vnd.google.colaboratory.intrinsic+json": {
              "type": "string"
            },
            "text/plain": [
              "'/content/Development_Dataset_15/validation/masks/Weedelec_haricot_2019-09-25T115412-243.png'"
            ]
          },
          "metadata": {
            "tags": []
          },
          "execution_count": 24
        },
        {
          "output_type": "execute_result",
          "data": {
            "application/vnd.google.colaboratory.intrinsic+json": {
              "type": "string"
            },
            "text/plain": [
              "'/content/Development_Dataset_15/training/images/Weedelec_mais_2019-09-25T122054-358.jpg'"
            ]
          },
          "metadata": {
            "tags": []
          },
          "execution_count": 24
        },
        {
          "output_type": "execute_result",
          "data": {
            "application/vnd.google.colaboratory.intrinsic+json": {
              "type": "string"
            },
            "text/plain": [
              "'/content/Development_Dataset_15/training/masks/Weedelec_mais_2019-09-25T122054-358.png'"
            ]
          },
          "metadata": {
            "tags": []
          },
          "execution_count": 24
        },
        {
          "output_type": "execute_result",
          "data": {
            "application/vnd.google.colaboratory.intrinsic+json": {
              "type": "string"
            },
            "text/plain": [
              "'/content/Development_Dataset_15/training/images/Weedelec_mais_2019-09-25T120828-68.jpg'"
            ]
          },
          "metadata": {
            "tags": []
          },
          "execution_count": 24
        },
        {
          "output_type": "execute_result",
          "data": {
            "application/vnd.google.colaboratory.intrinsic+json": {
              "type": "string"
            },
            "text/plain": [
              "'/content/Development_Dataset_15/training/masks/Weedelec_mais_2019-09-25T120828-68.png'"
            ]
          },
          "metadata": {
            "tags": []
          },
          "execution_count": 24
        },
        {
          "output_type": "execute_result",
          "data": {
            "application/vnd.google.colaboratory.intrinsic+json": {
              "type": "string"
            },
            "text/plain": [
              "'/content/Development_Dataset_15/training/images/Weedelec_mais_2019-09-25T121622-252.jpg'"
            ]
          },
          "metadata": {
            "tags": []
          },
          "execution_count": 24
        },
        {
          "output_type": "execute_result",
          "data": {
            "application/vnd.google.colaboratory.intrinsic+json": {
              "type": "string"
            },
            "text/plain": [
              "'/content/Development_Dataset_15/training/masks/Weedelec_mais_2019-09-25T121622-252.png'"
            ]
          },
          "metadata": {
            "tags": []
          },
          "execution_count": 24
        },
        {
          "output_type": "execute_result",
          "data": {
            "application/vnd.google.colaboratory.intrinsic+json": {
              "type": "string"
            },
            "text/plain": [
              "'/content/Development_Dataset_15/training/images/Weedelec_mais_2019-09-25T120851-77.jpg'"
            ]
          },
          "metadata": {
            "tags": []
          },
          "execution_count": 24
        },
        {
          "output_type": "execute_result",
          "data": {
            "application/vnd.google.colaboratory.intrinsic+json": {
              "type": "string"
            },
            "text/plain": [
              "'/content/Development_Dataset_15/training/masks/Weedelec_mais_2019-09-25T120851-77.png'"
            ]
          },
          "metadata": {
            "tags": []
          },
          "execution_count": 24
        },
        {
          "output_type": "execute_result",
          "data": {
            "application/vnd.google.colaboratory.intrinsic+json": {
              "type": "string"
            },
            "text/plain": [
              "'/content/Development_Dataset_15/training/images/Weedelec_mais_2019-09-25T122339-423.jpg'"
            ]
          },
          "metadata": {
            "tags": []
          },
          "execution_count": 24
        },
        {
          "output_type": "execute_result",
          "data": {
            "application/vnd.google.colaboratory.intrinsic+json": {
              "type": "string"
            },
            "text/plain": [
              "'/content/Development_Dataset_15/training/masks/Weedelec_mais_2019-09-25T122339-423.png'"
            ]
          },
          "metadata": {
            "tags": []
          },
          "execution_count": 24
        },
        {
          "output_type": "execute_result",
          "data": {
            "application/vnd.google.colaboratory.intrinsic+json": {
              "type": "string"
            },
            "text/plain": [
              "'/content/Development_Dataset_15/training/images/Weedelec_mais_2019-09-25T122212-389.jpg'"
            ]
          },
          "metadata": {
            "tags": []
          },
          "execution_count": 24
        },
        {
          "output_type": "execute_result",
          "data": {
            "application/vnd.google.colaboratory.intrinsic+json": {
              "type": "string"
            },
            "text/plain": [
              "'/content/Development_Dataset_15/training/masks/Weedelec_mais_2019-09-25T122212-389.png'"
            ]
          },
          "metadata": {
            "tags": []
          },
          "execution_count": 24
        },
        {
          "output_type": "execute_result",
          "data": {
            "application/vnd.google.colaboratory.intrinsic+json": {
              "type": "string"
            },
            "text/plain": [
              "'/content/Development_Dataset_15/training/images/Weedelec_mais_2019-09-25T121413-202.jpg'"
            ]
          },
          "metadata": {
            "tags": []
          },
          "execution_count": 24
        },
        {
          "output_type": "execute_result",
          "data": {
            "application/vnd.google.colaboratory.intrinsic+json": {
              "type": "string"
            },
            "text/plain": [
              "'/content/Development_Dataset_15/training/masks/Weedelec_mais_2019-09-25T121413-202.png'"
            ]
          },
          "metadata": {
            "tags": []
          },
          "execution_count": 24
        },
        {
          "output_type": "execute_result",
          "data": {
            "application/vnd.google.colaboratory.intrinsic+json": {
              "type": "string"
            },
            "text/plain": [
              "'/content/Development_Dataset_15/training/images/Weedelec_mais_2019-09-25T121334-187.jpg'"
            ]
          },
          "metadata": {
            "tags": []
          },
          "execution_count": 24
        },
        {
          "output_type": "execute_result",
          "data": {
            "application/vnd.google.colaboratory.intrinsic+json": {
              "type": "string"
            },
            "text/plain": [
              "'/content/Development_Dataset_15/training/masks/Weedelec_mais_2019-09-25T121334-187.png'"
            ]
          },
          "metadata": {
            "tags": []
          },
          "execution_count": 24
        },
        {
          "output_type": "execute_result",
          "data": {
            "application/vnd.google.colaboratory.intrinsic+json": {
              "type": "string"
            },
            "text/plain": [
              "'/content/Development_Dataset_15/training/images/Weedelec_mais_2019-09-25T122033-350.jpg'"
            ]
          },
          "metadata": {
            "tags": []
          },
          "execution_count": 24
        },
        {
          "output_type": "execute_result",
          "data": {
            "application/vnd.google.colaboratory.intrinsic+json": {
              "type": "string"
            },
            "text/plain": [
              "'/content/Development_Dataset_15/training/masks/Weedelec_mais_2019-09-25T122033-350.png'"
            ]
          },
          "metadata": {
            "tags": []
          },
          "execution_count": 24
        },
        {
          "output_type": "execute_result",
          "data": {
            "application/vnd.google.colaboratory.intrinsic+json": {
              "type": "string"
            },
            "text/plain": [
              "'/content/Development_Dataset_15/training/images/Weedelec_mais_2019-09-25T122023-346.jpg'"
            ]
          },
          "metadata": {
            "tags": []
          },
          "execution_count": 24
        },
        {
          "output_type": "execute_result",
          "data": {
            "application/vnd.google.colaboratory.intrinsic+json": {
              "type": "string"
            },
            "text/plain": [
              "'/content/Development_Dataset_15/training/masks/Weedelec_mais_2019-09-25T122023-346.png'"
            ]
          },
          "metadata": {
            "tags": []
          },
          "execution_count": 24
        },
        {
          "output_type": "execute_result",
          "data": {
            "application/vnd.google.colaboratory.intrinsic+json": {
              "type": "string"
            },
            "text/plain": [
              "'/content/Development_Dataset_15/training/images/Weedelec_mais_2019-09-25T121609-247.jpg'"
            ]
          },
          "metadata": {
            "tags": []
          },
          "execution_count": 24
        },
        {
          "output_type": "execute_result",
          "data": {
            "application/vnd.google.colaboratory.intrinsic+json": {
              "type": "string"
            },
            "text/plain": [
              "'/content/Development_Dataset_15/training/masks/Weedelec_mais_2019-09-25T121609-247.png'"
            ]
          },
          "metadata": {
            "tags": []
          },
          "execution_count": 24
        },
        {
          "output_type": "execute_result",
          "data": {
            "application/vnd.google.colaboratory.intrinsic+json": {
              "type": "string"
            },
            "text/plain": [
              "'/content/Development_Dataset_15/training/images/Weedelec_mais_2019-09-25T121230-162.jpg'"
            ]
          },
          "metadata": {
            "tags": []
          },
          "execution_count": 24
        },
        {
          "output_type": "execute_result",
          "data": {
            "application/vnd.google.colaboratory.intrinsic+json": {
              "type": "string"
            },
            "text/plain": [
              "'/content/Development_Dataset_15/training/masks/Weedelec_mais_2019-09-25T121230-162.png'"
            ]
          },
          "metadata": {
            "tags": []
          },
          "execution_count": 24
        },
        {
          "output_type": "execute_result",
          "data": {
            "application/vnd.google.colaboratory.intrinsic+json": {
              "type": "string"
            },
            "text/plain": [
              "'/content/Development_Dataset_15/training/images/Weedelec_mais_2019-09-25T120909-84.jpg'"
            ]
          },
          "metadata": {
            "tags": []
          },
          "execution_count": 24
        },
        {
          "output_type": "execute_result",
          "data": {
            "application/vnd.google.colaboratory.intrinsic+json": {
              "type": "string"
            },
            "text/plain": [
              "'/content/Development_Dataset_15/training/masks/Weedelec_mais_2019-09-25T120909-84.png'"
            ]
          },
          "metadata": {
            "tags": []
          },
          "execution_count": 24
        },
        {
          "output_type": "execute_result",
          "data": {
            "application/vnd.google.colaboratory.intrinsic+json": {
              "type": "string"
            },
            "text/plain": [
              "'/content/Development_Dataset_15/training/images/Weedelec_mais_2019-09-25T122016-343.jpg'"
            ]
          },
          "metadata": {
            "tags": []
          },
          "execution_count": 24
        },
        {
          "output_type": "execute_result",
          "data": {
            "application/vnd.google.colaboratory.intrinsic+json": {
              "type": "string"
            },
            "text/plain": [
              "'/content/Development_Dataset_15/training/masks/Weedelec_mais_2019-09-25T122016-343.png'"
            ]
          },
          "metadata": {
            "tags": []
          },
          "execution_count": 24
        },
        {
          "output_type": "execute_result",
          "data": {
            "application/vnd.google.colaboratory.intrinsic+json": {
              "type": "string"
            },
            "text/plain": [
              "'/content/Development_Dataset_15/training/images/Weedelec_mais_2019-09-25T121118-134.jpg'"
            ]
          },
          "metadata": {
            "tags": []
          },
          "execution_count": 24
        },
        {
          "output_type": "execute_result",
          "data": {
            "application/vnd.google.colaboratory.intrinsic+json": {
              "type": "string"
            },
            "text/plain": [
              "'/content/Development_Dataset_15/training/masks/Weedelec_mais_2019-09-25T121118-134.png'"
            ]
          },
          "metadata": {
            "tags": []
          },
          "execution_count": 24
        },
        {
          "output_type": "execute_result",
          "data": {
            "application/vnd.google.colaboratory.intrinsic+json": {
              "type": "string"
            },
            "text/plain": [
              "'/content/Development_Dataset_15/training/images/Weedelec_mais_2019-09-25T120754-55.jpg'"
            ]
          },
          "metadata": {
            "tags": []
          },
          "execution_count": 24
        },
        {
          "output_type": "execute_result",
          "data": {
            "application/vnd.google.colaboratory.intrinsic+json": {
              "type": "string"
            },
            "text/plain": [
              "'/content/Development_Dataset_15/training/masks/Weedelec_mais_2019-09-25T120754-55.png'"
            ]
          },
          "metadata": {
            "tags": []
          },
          "execution_count": 24
        },
        {
          "output_type": "execute_result",
          "data": {
            "application/vnd.google.colaboratory.intrinsic+json": {
              "type": "string"
            },
            "text/plain": [
              "'/content/Development_Dataset_15/training/images/Weedelec_mais_2019-09-25T120933-93.jpg'"
            ]
          },
          "metadata": {
            "tags": []
          },
          "execution_count": 24
        },
        {
          "output_type": "execute_result",
          "data": {
            "application/vnd.google.colaboratory.intrinsic+json": {
              "type": "string"
            },
            "text/plain": [
              "'/content/Development_Dataset_15/training/masks/Weedelec_mais_2019-09-25T120933-93.png'"
            ]
          },
          "metadata": {
            "tags": []
          },
          "execution_count": 24
        },
        {
          "output_type": "execute_result",
          "data": {
            "application/vnd.google.colaboratory.intrinsic+json": {
              "type": "string"
            },
            "text/plain": [
              "'/content/Development_Dataset_15/training/images/Weedelec_mais_2019-09-25T120820-65.jpg'"
            ]
          },
          "metadata": {
            "tags": []
          },
          "execution_count": 24
        },
        {
          "output_type": "execute_result",
          "data": {
            "application/vnd.google.colaboratory.intrinsic+json": {
              "type": "string"
            },
            "text/plain": [
              "'/content/Development_Dataset_15/training/masks/Weedelec_mais_2019-09-25T120820-65.png'"
            ]
          },
          "metadata": {
            "tags": []
          },
          "execution_count": 24
        },
        {
          "output_type": "execute_result",
          "data": {
            "application/vnd.google.colaboratory.intrinsic+json": {
              "type": "string"
            },
            "text/plain": [
              "'/content/Development_Dataset_15/training/images/Weedelec_mais_2019-09-25T121924-323.jpg'"
            ]
          },
          "metadata": {
            "tags": []
          },
          "execution_count": 24
        },
        {
          "output_type": "execute_result",
          "data": {
            "application/vnd.google.colaboratory.intrinsic+json": {
              "type": "string"
            },
            "text/plain": [
              "'/content/Development_Dataset_15/training/masks/Weedelec_mais_2019-09-25T121924-323.png'"
            ]
          },
          "metadata": {
            "tags": []
          },
          "execution_count": 24
        },
        {
          "output_type": "execute_result",
          "data": {
            "application/vnd.google.colaboratory.intrinsic+json": {
              "type": "string"
            },
            "text/plain": [
              "'/content/Development_Dataset_15/training/images/Weedelec_mais_2019-09-25T121643-260.jpg'"
            ]
          },
          "metadata": {
            "tags": []
          },
          "execution_count": 24
        },
        {
          "output_type": "execute_result",
          "data": {
            "application/vnd.google.colaboratory.intrinsic+json": {
              "type": "string"
            },
            "text/plain": [
              "'/content/Development_Dataset_15/training/masks/Weedelec_mais_2019-09-25T121643-260.png'"
            ]
          },
          "metadata": {
            "tags": []
          },
          "execution_count": 24
        },
        {
          "output_type": "execute_result",
          "data": {
            "application/vnd.google.colaboratory.intrinsic+json": {
              "type": "string"
            },
            "text/plain": [
              "'/content/Development_Dataset_15/training/images/Weedelec_mais_2019-09-25T120710-38.jpg'"
            ]
          },
          "metadata": {
            "tags": []
          },
          "execution_count": 24
        },
        {
          "output_type": "execute_result",
          "data": {
            "application/vnd.google.colaboratory.intrinsic+json": {
              "type": "string"
            },
            "text/plain": [
              "'/content/Development_Dataset_15/training/masks/Weedelec_mais_2019-09-25T120710-38.png'"
            ]
          },
          "metadata": {
            "tags": []
          },
          "execution_count": 24
        },
        {
          "output_type": "execute_result",
          "data": {
            "application/vnd.google.colaboratory.intrinsic+json": {
              "type": "string"
            },
            "text/plain": [
              "'/content/Development_Dataset_15/training/images/Weedelec_mais_2019-09-25T121437-211.jpg'"
            ]
          },
          "metadata": {
            "tags": []
          },
          "execution_count": 24
        },
        {
          "output_type": "execute_result",
          "data": {
            "application/vnd.google.colaboratory.intrinsic+json": {
              "type": "string"
            },
            "text/plain": [
              "'/content/Development_Dataset_15/training/masks/Weedelec_mais_2019-09-25T121437-211.png'"
            ]
          },
          "metadata": {
            "tags": []
          },
          "execution_count": 24
        },
        {
          "output_type": "execute_result",
          "data": {
            "application/vnd.google.colaboratory.intrinsic+json": {
              "type": "string"
            },
            "text/plain": [
              "'/content/Development_Dataset_15/training/images/Weedelec_mais_2019-09-25T120600-11.jpg'"
            ]
          },
          "metadata": {
            "tags": []
          },
          "execution_count": 24
        },
        {
          "output_type": "execute_result",
          "data": {
            "application/vnd.google.colaboratory.intrinsic+json": {
              "type": "string"
            },
            "text/plain": [
              "'/content/Development_Dataset_15/training/masks/Weedelec_mais_2019-09-25T120600-11.png'"
            ]
          },
          "metadata": {
            "tags": []
          },
          "execution_count": 24
        },
        {
          "output_type": "execute_result",
          "data": {
            "application/vnd.google.colaboratory.intrinsic+json": {
              "type": "string"
            },
            "text/plain": [
              "'/content/Development_Dataset_15/training/images/Weedelec_mais_2019-09-25T122041-353.jpg'"
            ]
          },
          "metadata": {
            "tags": []
          },
          "execution_count": 24
        },
        {
          "output_type": "execute_result",
          "data": {
            "application/vnd.google.colaboratory.intrinsic+json": {
              "type": "string"
            },
            "text/plain": [
              "'/content/Development_Dataset_15/training/masks/Weedelec_mais_2019-09-25T122041-353.png'"
            ]
          },
          "metadata": {
            "tags": []
          },
          "execution_count": 24
        },
        {
          "output_type": "execute_result",
          "data": {
            "application/vnd.google.colaboratory.intrinsic+json": {
              "type": "string"
            },
            "text/plain": [
              "'/content/Development_Dataset_15/training/images/Weedelec_mais_2019-09-25T121821-298.jpg'"
            ]
          },
          "metadata": {
            "tags": []
          },
          "execution_count": 24
        },
        {
          "output_type": "execute_result",
          "data": {
            "application/vnd.google.colaboratory.intrinsic+json": {
              "type": "string"
            },
            "text/plain": [
              "'/content/Development_Dataset_15/training/masks/Weedelec_mais_2019-09-25T121821-298.png'"
            ]
          },
          "metadata": {
            "tags": []
          },
          "execution_count": 24
        },
        {
          "output_type": "execute_result",
          "data": {
            "application/vnd.google.colaboratory.intrinsic+json": {
              "type": "string"
            },
            "text/plain": [
              "'/content/Development_Dataset_15/training/images/Weedelec_mais_2019-09-25T121706-269.jpg'"
            ]
          },
          "metadata": {
            "tags": []
          },
          "execution_count": 24
        },
        {
          "output_type": "execute_result",
          "data": {
            "application/vnd.google.colaboratory.intrinsic+json": {
              "type": "string"
            },
            "text/plain": [
              "'/content/Development_Dataset_15/training/masks/Weedelec_mais_2019-09-25T121706-269.png'"
            ]
          },
          "metadata": {
            "tags": []
          },
          "execution_count": 24
        },
        {
          "output_type": "execute_result",
          "data": {
            "application/vnd.google.colaboratory.intrinsic+json": {
              "type": "string"
            },
            "text/plain": [
              "'/content/Development_Dataset_15/training/images/Weedelec_mais_2019-09-25T121955-335.jpg'"
            ]
          },
          "metadata": {
            "tags": []
          },
          "execution_count": 24
        },
        {
          "output_type": "execute_result",
          "data": {
            "application/vnd.google.colaboratory.intrinsic+json": {
              "type": "string"
            },
            "text/plain": [
              "'/content/Development_Dataset_15/training/masks/Weedelec_mais_2019-09-25T121955-335.png'"
            ]
          },
          "metadata": {
            "tags": []
          },
          "execution_count": 24
        },
        {
          "output_type": "execute_result",
          "data": {
            "application/vnd.google.colaboratory.intrinsic+json": {
              "type": "string"
            },
            "text/plain": [
              "'/content/Development_Dataset_15/training/images/Weedelec_mais_2019-09-25T121220-158.jpg'"
            ]
          },
          "metadata": {
            "tags": []
          },
          "execution_count": 24
        },
        {
          "output_type": "execute_result",
          "data": {
            "application/vnd.google.colaboratory.intrinsic+json": {
              "type": "string"
            },
            "text/plain": [
              "'/content/Development_Dataset_15/training/masks/Weedelec_mais_2019-09-25T121220-158.png'"
            ]
          },
          "metadata": {
            "tags": []
          },
          "execution_count": 24
        },
        {
          "output_type": "execute_result",
          "data": {
            "application/vnd.google.colaboratory.intrinsic+json": {
              "type": "string"
            },
            "text/plain": [
              "'/content/Development_Dataset_15/training/images/Weedelec_mais_2019-09-25T122204-386.jpg'"
            ]
          },
          "metadata": {
            "tags": []
          },
          "execution_count": 24
        },
        {
          "output_type": "execute_result",
          "data": {
            "application/vnd.google.colaboratory.intrinsic+json": {
              "type": "string"
            },
            "text/plain": [
              "'/content/Development_Dataset_15/training/masks/Weedelec_mais_2019-09-25T122204-386.png'"
            ]
          },
          "metadata": {
            "tags": []
          },
          "execution_count": 24
        },
        {
          "output_type": "execute_result",
          "data": {
            "application/vnd.google.colaboratory.intrinsic+json": {
              "type": "string"
            },
            "text/plain": [
              "'/content/Development_Dataset_15/training/images/Weedelec_mais_2019-09-25T122149-380.jpg'"
            ]
          },
          "metadata": {
            "tags": []
          },
          "execution_count": 24
        },
        {
          "output_type": "execute_result",
          "data": {
            "application/vnd.google.colaboratory.intrinsic+json": {
              "type": "string"
            },
            "text/plain": [
              "'/content/Development_Dataset_15/training/masks/Weedelec_mais_2019-09-25T122149-380.png'"
            ]
          },
          "metadata": {
            "tags": []
          },
          "execution_count": 24
        },
        {
          "output_type": "execute_result",
          "data": {
            "application/vnd.google.colaboratory.intrinsic+json": {
              "type": "string"
            },
            "text/plain": [
              "'/content/Development_Dataset_15/training/images/Weedelec_mais_2019-09-25T121429-208.jpg'"
            ]
          },
          "metadata": {
            "tags": []
          },
          "execution_count": 24
        },
        {
          "output_type": "execute_result",
          "data": {
            "application/vnd.google.colaboratory.intrinsic+json": {
              "type": "string"
            },
            "text/plain": [
              "'/content/Development_Dataset_15/training/masks/Weedelec_mais_2019-09-25T121429-208.png'"
            ]
          },
          "metadata": {
            "tags": []
          },
          "execution_count": 24
        },
        {
          "output_type": "execute_result",
          "data": {
            "application/vnd.google.colaboratory.intrinsic+json": {
              "type": "string"
            },
            "text/plain": [
              "'/content/Development_Dataset_15/training/images/Weedelec_mais_2019-09-25T122240-400.jpg'"
            ]
          },
          "metadata": {
            "tags": []
          },
          "execution_count": 24
        },
        {
          "output_type": "execute_result",
          "data": {
            "application/vnd.google.colaboratory.intrinsic+json": {
              "type": "string"
            },
            "text/plain": [
              "'/content/Development_Dataset_15/training/masks/Weedelec_mais_2019-09-25T122240-400.png'"
            ]
          },
          "metadata": {
            "tags": []
          },
          "execution_count": 24
        },
        {
          "output_type": "execute_result",
          "data": {
            "application/vnd.google.colaboratory.intrinsic+json": {
              "type": "string"
            },
            "text/plain": [
              "'/content/Development_Dataset_15/training/images/Weedelec_mais_2019-09-25T121253-171.jpg'"
            ]
          },
          "metadata": {
            "tags": []
          },
          "execution_count": 24
        },
        {
          "output_type": "execute_result",
          "data": {
            "application/vnd.google.colaboratory.intrinsic+json": {
              "type": "string"
            },
            "text/plain": [
              "'/content/Development_Dataset_15/training/masks/Weedelec_mais_2019-09-25T121253-171.png'"
            ]
          },
          "metadata": {
            "tags": []
          },
          "execution_count": 24
        },
        {
          "output_type": "execute_result",
          "data": {
            "application/vnd.google.colaboratory.intrinsic+json": {
              "type": "string"
            },
            "text/plain": [
              "'/content/Development_Dataset_15/training/images/Weedelec_mais_2019-09-25T120718-41.jpg'"
            ]
          },
          "metadata": {
            "tags": []
          },
          "execution_count": 24
        },
        {
          "output_type": "execute_result",
          "data": {
            "application/vnd.google.colaboratory.intrinsic+json": {
              "type": "string"
            },
            "text/plain": [
              "'/content/Development_Dataset_15/training/masks/Weedelec_mais_2019-09-25T120718-41.png'"
            ]
          },
          "metadata": {
            "tags": []
          },
          "execution_count": 24
        },
        {
          "output_type": "execute_result",
          "data": {
            "application/vnd.google.colaboratory.intrinsic+json": {
              "type": "string"
            },
            "text/plain": [
              "'/content/Development_Dataset_15/training/images/Weedelec_mais_2019-09-25T121932-326.jpg'"
            ]
          },
          "metadata": {
            "tags": []
          },
          "execution_count": 24
        },
        {
          "output_type": "execute_result",
          "data": {
            "application/vnd.google.colaboratory.intrinsic+json": {
              "type": "string"
            },
            "text/plain": [
              "'/content/Development_Dataset_15/training/masks/Weedelec_mais_2019-09-25T121932-326.png'"
            ]
          },
          "metadata": {
            "tags": []
          },
          "execution_count": 24
        },
        {
          "output_type": "execute_result",
          "data": {
            "application/vnd.google.colaboratory.intrinsic+json": {
              "type": "string"
            },
            "text/plain": [
              "'/content/Development_Dataset_15/training/images/Weedelec_mais_2019-09-25T121945-331.jpg'"
            ]
          },
          "metadata": {
            "tags": []
          },
          "execution_count": 24
        },
        {
          "output_type": "execute_result",
          "data": {
            "application/vnd.google.colaboratory.intrinsic+json": {
              "type": "string"
            },
            "text/plain": [
              "'/content/Development_Dataset_15/training/masks/Weedelec_mais_2019-09-25T121945-331.png'"
            ]
          },
          "metadata": {
            "tags": []
          },
          "execution_count": 24
        },
        {
          "output_type": "execute_result",
          "data": {
            "application/vnd.google.colaboratory.intrinsic+json": {
              "type": "string"
            },
            "text/plain": [
              "'/content/Development_Dataset_15/training/images/Weedelec_mais_2019-09-25T122137-375.jpg'"
            ]
          },
          "metadata": {
            "tags": []
          },
          "execution_count": 24
        },
        {
          "output_type": "execute_result",
          "data": {
            "application/vnd.google.colaboratory.intrinsic+json": {
              "type": "string"
            },
            "text/plain": [
              "'/content/Development_Dataset_15/training/masks/Weedelec_mais_2019-09-25T122137-375.png'"
            ]
          },
          "metadata": {
            "tags": []
          },
          "execution_count": 24
        },
        {
          "output_type": "execute_result",
          "data": {
            "application/vnd.google.colaboratory.intrinsic+json": {
              "type": "string"
            },
            "text/plain": [
              "'/content/Development_Dataset_15/training/images/Weedelec_mais_2019-09-25T121541-236.jpg'"
            ]
          },
          "metadata": {
            "tags": []
          },
          "execution_count": 24
        },
        {
          "output_type": "execute_result",
          "data": {
            "application/vnd.google.colaboratory.intrinsic+json": {
              "type": "string"
            },
            "text/plain": [
              "'/content/Development_Dataset_15/training/masks/Weedelec_mais_2019-09-25T121541-236.png'"
            ]
          },
          "metadata": {
            "tags": []
          },
          "execution_count": 24
        },
        {
          "output_type": "execute_result",
          "data": {
            "application/vnd.google.colaboratory.intrinsic+json": {
              "type": "string"
            },
            "text/plain": [
              "'/content/Development_Dataset_15/training/images/Weedelec_mais_2019-09-25T121503-221.jpg'"
            ]
          },
          "metadata": {
            "tags": []
          },
          "execution_count": 24
        },
        {
          "output_type": "execute_result",
          "data": {
            "application/vnd.google.colaboratory.intrinsic+json": {
              "type": "string"
            },
            "text/plain": [
              "'/content/Development_Dataset_15/training/masks/Weedelec_mais_2019-09-25T121503-221.png'"
            ]
          },
          "metadata": {
            "tags": []
          },
          "execution_count": 24
        },
        {
          "output_type": "execute_result",
          "data": {
            "application/vnd.google.colaboratory.intrinsic+json": {
              "type": "string"
            },
            "text/plain": [
              "'/content/Development_Dataset_15/training/images/Weedelec_mais_2019-09-25T121311-178.jpg'"
            ]
          },
          "metadata": {
            "tags": []
          },
          "execution_count": 24
        },
        {
          "output_type": "execute_result",
          "data": {
            "application/vnd.google.colaboratory.intrinsic+json": {
              "type": "string"
            },
            "text/plain": [
              "'/content/Development_Dataset_15/training/masks/Weedelec_mais_2019-09-25T121311-178.png'"
            ]
          },
          "metadata": {
            "tags": []
          },
          "execution_count": 24
        },
        {
          "output_type": "execute_result",
          "data": {
            "application/vnd.google.colaboratory.intrinsic+json": {
              "type": "string"
            },
            "text/plain": [
              "'/content/Development_Dataset_15/training/images/Weedelec_mais_2019-09-25T121154-148.jpg'"
            ]
          },
          "metadata": {
            "tags": []
          },
          "execution_count": 24
        },
        {
          "output_type": "execute_result",
          "data": {
            "application/vnd.google.colaboratory.intrinsic+json": {
              "type": "string"
            },
            "text/plain": [
              "'/content/Development_Dataset_15/training/masks/Weedelec_mais_2019-09-25T121154-148.png'"
            ]
          },
          "metadata": {
            "tags": []
          },
          "execution_count": 24
        },
        {
          "output_type": "execute_result",
          "data": {
            "application/vnd.google.colaboratory.intrinsic+json": {
              "type": "string"
            },
            "text/plain": [
              "'/content/Development_Dataset_15/training/images/Weedelec_mais_2019-09-25T121721-275.jpg'"
            ]
          },
          "metadata": {
            "tags": []
          },
          "execution_count": 24
        },
        {
          "output_type": "execute_result",
          "data": {
            "application/vnd.google.colaboratory.intrinsic+json": {
              "type": "string"
            },
            "text/plain": [
              "'/content/Development_Dataset_15/training/masks/Weedelec_mais_2019-09-25T121721-275.png'"
            ]
          },
          "metadata": {
            "tags": []
          },
          "execution_count": 24
        },
        {
          "output_type": "execute_result",
          "data": {
            "application/vnd.google.colaboratory.intrinsic+json": {
              "type": "string"
            },
            "text/plain": [
              "'/content/Development_Dataset_15/training/images/Weedelec_mais_2019-09-25T121057-126.jpg'"
            ]
          },
          "metadata": {
            "tags": []
          },
          "execution_count": 24
        },
        {
          "output_type": "execute_result",
          "data": {
            "application/vnd.google.colaboratory.intrinsic+json": {
              "type": "string"
            },
            "text/plain": [
              "'/content/Development_Dataset_15/training/masks/Weedelec_mais_2019-09-25T121057-126.png'"
            ]
          },
          "metadata": {
            "tags": []
          },
          "execution_count": 24
        },
        {
          "output_type": "execute_result",
          "data": {
            "application/vnd.google.colaboratory.intrinsic+json": {
              "type": "string"
            },
            "text/plain": [
              "'/content/Development_Dataset_15/training/images/Weedelec_mais_2019-09-25T122232-397.jpg'"
            ]
          },
          "metadata": {
            "tags": []
          },
          "execution_count": 24
        },
        {
          "output_type": "execute_result",
          "data": {
            "application/vnd.google.colaboratory.intrinsic+json": {
              "type": "string"
            },
            "text/plain": [
              "'/content/Development_Dataset_15/training/masks/Weedelec_mais_2019-09-25T122232-397.png'"
            ]
          },
          "metadata": {
            "tags": []
          },
          "execution_count": 24
        },
        {
          "output_type": "execute_result",
          "data": {
            "application/vnd.google.colaboratory.intrinsic+json": {
              "type": "string"
            },
            "text/plain": [
              "'/content/Development_Dataset_15/training/images/Weedelec_mais_2019-09-25T121917-320.jpg'"
            ]
          },
          "metadata": {
            "tags": []
          },
          "execution_count": 24
        },
        {
          "output_type": "execute_result",
          "data": {
            "application/vnd.google.colaboratory.intrinsic+json": {
              "type": "string"
            },
            "text/plain": [
              "'/content/Development_Dataset_15/training/masks/Weedelec_mais_2019-09-25T121917-320.png'"
            ]
          },
          "metadata": {
            "tags": []
          },
          "execution_count": 24
        },
        {
          "output_type": "execute_result",
          "data": {
            "application/vnd.google.colaboratory.intrinsic+json": {
              "type": "string"
            },
            "text/plain": [
              "'/content/Development_Dataset_15/training/images/Weedelec_mais_2019-09-25T122059-360.jpg'"
            ]
          },
          "metadata": {
            "tags": []
          },
          "execution_count": 24
        },
        {
          "output_type": "execute_result",
          "data": {
            "application/vnd.google.colaboratory.intrinsic+json": {
              "type": "string"
            },
            "text/plain": [
              "'/content/Development_Dataset_15/training/masks/Weedelec_mais_2019-09-25T122059-360.png'"
            ]
          },
          "metadata": {
            "tags": []
          },
          "execution_count": 24
        },
        {
          "output_type": "execute_result",
          "data": {
            "application/vnd.google.colaboratory.intrinsic+json": {
              "type": "string"
            },
            "text/plain": [
              "'/content/Development_Dataset_15/training/images/Weedelec_mais_2019-09-25T122144-378.jpg'"
            ]
          },
          "metadata": {
            "tags": []
          },
          "execution_count": 24
        },
        {
          "output_type": "execute_result",
          "data": {
            "application/vnd.google.colaboratory.intrinsic+json": {
              "type": "string"
            },
            "text/plain": [
              "'/content/Development_Dataset_15/training/masks/Weedelec_mais_2019-09-25T122144-378.png'"
            ]
          },
          "metadata": {
            "tags": []
          },
          "execution_count": 24
        },
        {
          "output_type": "execute_result",
          "data": {
            "application/vnd.google.colaboratory.intrinsic+json": {
              "type": "string"
            },
            "text/plain": [
              "'/content/Development_Dataset_15/training/images/Weedelec_mais_2019-09-25T121818-297.jpg'"
            ]
          },
          "metadata": {
            "tags": []
          },
          "execution_count": 24
        },
        {
          "output_type": "execute_result",
          "data": {
            "application/vnd.google.colaboratory.intrinsic+json": {
              "type": "string"
            },
            "text/plain": [
              "'/content/Development_Dataset_15/training/masks/Weedelec_mais_2019-09-25T121818-297.png'"
            ]
          },
          "metadata": {
            "tags": []
          },
          "execution_count": 24
        },
        {
          "output_type": "execute_result",
          "data": {
            "application/vnd.google.colaboratory.intrinsic+json": {
              "type": "string"
            },
            "text/plain": [
              "'/content/Development_Dataset_15/training/images/Weedelec_mais_2019-09-25T121544-237.jpg'"
            ]
          },
          "metadata": {
            "tags": []
          },
          "execution_count": 24
        },
        {
          "output_type": "execute_result",
          "data": {
            "application/vnd.google.colaboratory.intrinsic+json": {
              "type": "string"
            },
            "text/plain": [
              "'/content/Development_Dataset_15/training/masks/Weedelec_mais_2019-09-25T121544-237.png'"
            ]
          },
          "metadata": {
            "tags": []
          },
          "execution_count": 24
        },
        {
          "output_type": "execute_result",
          "data": {
            "application/vnd.google.colaboratory.intrinsic+json": {
              "type": "string"
            },
            "text/plain": [
              "'/content/Development_Dataset_15/training/images/Weedelec_mais_2019-09-25T122157-383.jpg'"
            ]
          },
          "metadata": {
            "tags": []
          },
          "execution_count": 24
        },
        {
          "output_type": "execute_result",
          "data": {
            "application/vnd.google.colaboratory.intrinsic+json": {
              "type": "string"
            },
            "text/plain": [
              "'/content/Development_Dataset_15/training/masks/Weedelec_mais_2019-09-25T122157-383.png'"
            ]
          },
          "metadata": {
            "tags": []
          },
          "execution_count": 24
        },
        {
          "output_type": "execute_result",
          "data": {
            "application/vnd.google.colaboratory.intrinsic+json": {
              "type": "string"
            },
            "text/plain": [
              "'/content/Development_Dataset_15/training/images/Weedelec_mais_2019-09-25T121040-119.jpg'"
            ]
          },
          "metadata": {
            "tags": []
          },
          "execution_count": 24
        },
        {
          "output_type": "execute_result",
          "data": {
            "application/vnd.google.colaboratory.intrinsic+json": {
              "type": "string"
            },
            "text/plain": [
              "'/content/Development_Dataset_15/training/masks/Weedelec_mais_2019-09-25T121040-119.png'"
            ]
          },
          "metadata": {
            "tags": []
          },
          "execution_count": 24
        },
        {
          "output_type": "execute_result",
          "data": {
            "application/vnd.google.colaboratory.intrinsic+json": {
              "type": "string"
            },
            "text/plain": [
              "'/content/Development_Dataset_15/training/images/Weedelec_mais_2019-09-25T121559-243.jpg'"
            ]
          },
          "metadata": {
            "tags": []
          },
          "execution_count": 24
        },
        {
          "output_type": "execute_result",
          "data": {
            "application/vnd.google.colaboratory.intrinsic+json": {
              "type": "string"
            },
            "text/plain": [
              "'/content/Development_Dataset_15/training/masks/Weedelec_mais_2019-09-25T121559-243.png'"
            ]
          },
          "metadata": {
            "tags": []
          },
          "execution_count": 24
        },
        {
          "output_type": "execute_result",
          "data": {
            "application/vnd.google.colaboratory.intrinsic+json": {
              "type": "string"
            },
            "text/plain": [
              "'/content/Development_Dataset_15/training/images/Weedelec_mais_2019-09-25T120954-101.jpg'"
            ]
          },
          "metadata": {
            "tags": []
          },
          "execution_count": 24
        },
        {
          "output_type": "execute_result",
          "data": {
            "application/vnd.google.colaboratory.intrinsic+json": {
              "type": "string"
            },
            "text/plain": [
              "'/content/Development_Dataset_15/training/masks/Weedelec_mais_2019-09-25T120954-101.png'"
            ]
          },
          "metadata": {
            "tags": []
          },
          "execution_count": 24
        },
        {
          "output_type": "execute_result",
          "data": {
            "application/vnd.google.colaboratory.intrinsic+json": {
              "type": "string"
            },
            "text/plain": [
              "'/content/Development_Dataset_15/training/images/Weedelec_mais_2019-09-25T121149-146.jpg'"
            ]
          },
          "metadata": {
            "tags": []
          },
          "execution_count": 24
        },
        {
          "output_type": "execute_result",
          "data": {
            "application/vnd.google.colaboratory.intrinsic+json": {
              "type": "string"
            },
            "text/plain": [
              "'/content/Development_Dataset_15/training/masks/Weedelec_mais_2019-09-25T121149-146.png'"
            ]
          },
          "metadata": {
            "tags": []
          },
          "execution_count": 24
        },
        {
          "output_type": "execute_result",
          "data": {
            "application/vnd.google.colaboratory.intrinsic+json": {
              "type": "string"
            },
            "text/plain": [
              "'/content/Development_Dataset_15/training/images/Weedelec_mais_2019-09-25T122315-414.jpg'"
            ]
          },
          "metadata": {
            "tags": []
          },
          "execution_count": 24
        },
        {
          "output_type": "execute_result",
          "data": {
            "application/vnd.google.colaboratory.intrinsic+json": {
              "type": "string"
            },
            "text/plain": [
              "'/content/Development_Dataset_15/training/masks/Weedelec_mais_2019-09-25T122315-414.png'"
            ]
          },
          "metadata": {
            "tags": []
          },
          "execution_count": 24
        },
        {
          "output_type": "execute_result",
          "data": {
            "application/vnd.google.colaboratory.intrinsic+json": {
              "type": "string"
            },
            "text/plain": [
              "'/content/Development_Dataset_15/training/images/Weedelec_mais_2019-09-25T120642-27.jpg'"
            ]
          },
          "metadata": {
            "tags": []
          },
          "execution_count": 24
        },
        {
          "output_type": "execute_result",
          "data": {
            "application/vnd.google.colaboratory.intrinsic+json": {
              "type": "string"
            },
            "text/plain": [
              "'/content/Development_Dataset_15/training/masks/Weedelec_mais_2019-09-25T120642-27.png'"
            ]
          },
          "metadata": {
            "tags": []
          },
          "execution_count": 24
        },
        {
          "output_type": "execute_result",
          "data": {
            "application/vnd.google.colaboratory.intrinsic+json": {
              "type": "string"
            },
            "text/plain": [
              "'/content/Development_Dataset_15/training/images/Weedelec_mais_2019-09-25T121421-205.jpg'"
            ]
          },
          "metadata": {
            "tags": []
          },
          "execution_count": 24
        },
        {
          "output_type": "execute_result",
          "data": {
            "application/vnd.google.colaboratory.intrinsic+json": {
              "type": "string"
            },
            "text/plain": [
              "'/content/Development_Dataset_15/training/masks/Weedelec_mais_2019-09-25T121421-205.png'"
            ]
          },
          "metadata": {
            "tags": []
          },
          "execution_count": 24
        },
        {
          "output_type": "execute_result",
          "data": {
            "application/vnd.google.colaboratory.intrinsic+json": {
              "type": "string"
            },
            "text/plain": [
              "'/content/Development_Dataset_15/training/images/Weedelec_mais_2019-09-25T121630-255.jpg'"
            ]
          },
          "metadata": {
            "tags": []
          },
          "execution_count": 24
        },
        {
          "output_type": "execute_result",
          "data": {
            "application/vnd.google.colaboratory.intrinsic+json": {
              "type": "string"
            },
            "text/plain": [
              "'/content/Development_Dataset_15/training/masks/Weedelec_mais_2019-09-25T121630-255.png'"
            ]
          },
          "metadata": {
            "tags": []
          },
          "execution_count": 24
        },
        {
          "output_type": "execute_result",
          "data": {
            "application/vnd.google.colaboratory.intrinsic+json": {
              "type": "string"
            },
            "text/plain": [
              "'/content/Development_Dataset_15/training/images/Weedelec_mais_2019-09-25T120728-45.jpg'"
            ]
          },
          "metadata": {
            "tags": []
          },
          "execution_count": 24
        },
        {
          "output_type": "execute_result",
          "data": {
            "application/vnd.google.colaboratory.intrinsic+json": {
              "type": "string"
            },
            "text/plain": [
              "'/content/Development_Dataset_15/training/masks/Weedelec_mais_2019-09-25T120728-45.png'"
            ]
          },
          "metadata": {
            "tags": []
          },
          "execution_count": 24
        },
        {
          "output_type": "execute_result",
          "data": {
            "application/vnd.google.colaboratory.intrinsic+json": {
              "type": "string"
            },
            "text/plain": [
              "'/content/Development_Dataset_15/training/images/Weedelec_mais_2019-09-25T121342-190.jpg'"
            ]
          },
          "metadata": {
            "tags": []
          },
          "execution_count": 24
        },
        {
          "output_type": "execute_result",
          "data": {
            "application/vnd.google.colaboratory.intrinsic+json": {
              "type": "string"
            },
            "text/plain": [
              "'/content/Development_Dataset_15/training/masks/Weedelec_mais_2019-09-25T121342-190.png'"
            ]
          },
          "metadata": {
            "tags": []
          },
          "execution_count": 24
        },
        {
          "output_type": "execute_result",
          "data": {
            "application/vnd.google.colaboratory.intrinsic+json": {
              "type": "string"
            },
            "text/plain": [
              "'/content/Development_Dataset_15/training/images/Weedelec_mais_2019-09-25T120836-71.jpg'"
            ]
          },
          "metadata": {
            "tags": []
          },
          "execution_count": 24
        },
        {
          "output_type": "execute_result",
          "data": {
            "application/vnd.google.colaboratory.intrinsic+json": {
              "type": "string"
            },
            "text/plain": [
              "'/content/Development_Dataset_15/training/masks/Weedelec_mais_2019-09-25T120836-71.png'"
            ]
          },
          "metadata": {
            "tags": []
          },
          "execution_count": 24
        },
        {
          "output_type": "execute_result",
          "data": {
            "application/vnd.google.colaboratory.intrinsic+json": {
              "type": "string"
            },
            "text/plain": [
              "'/content/Development_Dataset_15/training/images/Weedelec_mais_2019-09-25T121724-276.jpg'"
            ]
          },
          "metadata": {
            "tags": []
          },
          "execution_count": 24
        },
        {
          "output_type": "execute_result",
          "data": {
            "application/vnd.google.colaboratory.intrinsic+json": {
              "type": "string"
            },
            "text/plain": [
              "'/content/Development_Dataset_15/training/masks/Weedelec_mais_2019-09-25T121724-276.png'"
            ]
          },
          "metadata": {
            "tags": []
          },
          "execution_count": 24
        },
        {
          "output_type": "execute_result",
          "data": {
            "application/vnd.google.colaboratory.intrinsic+json": {
              "type": "string"
            },
            "text/plain": [
              "'/content/Development_Dataset_15/training/images/Weedelec_mais_2019-09-25T121358-196.jpg'"
            ]
          },
          "metadata": {
            "tags": []
          },
          "execution_count": 24
        },
        {
          "output_type": "execute_result",
          "data": {
            "application/vnd.google.colaboratory.intrinsic+json": {
              "type": "string"
            },
            "text/plain": [
              "'/content/Development_Dataset_15/training/masks/Weedelec_mais_2019-09-25T121358-196.png'"
            ]
          },
          "metadata": {
            "tags": []
          },
          "execution_count": 24
        },
        {
          "output_type": "execute_result",
          "data": {
            "application/vnd.google.colaboratory.intrinsic+json": {
              "type": "string"
            },
            "text/plain": [
              "'/content/Development_Dataset_15/training/images/Weedelec_mais_2019-09-25T121012-108.jpg'"
            ]
          },
          "metadata": {
            "tags": []
          },
          "execution_count": 24
        },
        {
          "output_type": "execute_result",
          "data": {
            "application/vnd.google.colaboratory.intrinsic+json": {
              "type": "string"
            },
            "text/plain": [
              "'/content/Development_Dataset_15/training/masks/Weedelec_mais_2019-09-25T121012-108.png'"
            ]
          },
          "metadata": {
            "tags": []
          },
          "execution_count": 24
        },
        {
          "output_type": "execute_result",
          "data": {
            "application/vnd.google.colaboratory.intrinsic+json": {
              "type": "string"
            },
            "text/plain": [
              "'/content/Development_Dataset_15/training/images/Weedelec_mais_2019-09-25T120623-20.jpg'"
            ]
          },
          "metadata": {
            "tags": []
          },
          "execution_count": 24
        },
        {
          "output_type": "execute_result",
          "data": {
            "application/vnd.google.colaboratory.intrinsic+json": {
              "type": "string"
            },
            "text/plain": [
              "'/content/Development_Dataset_15/training/masks/Weedelec_mais_2019-09-25T120623-20.png'"
            ]
          },
          "metadata": {
            "tags": []
          },
          "execution_count": 24
        },
        {
          "output_type": "execute_result",
          "data": {
            "application/vnd.google.colaboratory.intrinsic+json": {
              "type": "string"
            },
            "text/plain": [
              "'/content/Development_Dataset_15/training/images/Weedelec_mais_2019-09-25T120859-80.jpg'"
            ]
          },
          "metadata": {
            "tags": []
          },
          "execution_count": 24
        },
        {
          "output_type": "execute_result",
          "data": {
            "application/vnd.google.colaboratory.intrinsic+json": {
              "type": "string"
            },
            "text/plain": [
              "'/content/Development_Dataset_15/training/masks/Weedelec_mais_2019-09-25T120859-80.png'"
            ]
          },
          "metadata": {
            "tags": []
          },
          "execution_count": 24
        },
        {
          "output_type": "execute_result",
          "data": {
            "application/vnd.google.colaboratory.intrinsic+json": {
              "type": "string"
            },
            "text/plain": [
              "'/content/Development_Dataset_15/training/images/Weedelec_mais_2019-09-25T121405-199.jpg'"
            ]
          },
          "metadata": {
            "tags": []
          },
          "execution_count": 24
        },
        {
          "output_type": "execute_result",
          "data": {
            "application/vnd.google.colaboratory.intrinsic+json": {
              "type": "string"
            },
            "text/plain": [
              "'/content/Development_Dataset_15/training/masks/Weedelec_mais_2019-09-25T121405-199.png'"
            ]
          },
          "metadata": {
            "tags": []
          },
          "execution_count": 24
        },
        {
          "output_type": "execute_result",
          "data": {
            "application/vnd.google.colaboratory.intrinsic+json": {
              "type": "string"
            },
            "text/plain": [
              "'/content/Development_Dataset_15/training/images/Weedelec_mais_2019-09-25T120746-52.jpg'"
            ]
          },
          "metadata": {
            "tags": []
          },
          "execution_count": 24
        },
        {
          "output_type": "execute_result",
          "data": {
            "application/vnd.google.colaboratory.intrinsic+json": {
              "type": "string"
            },
            "text/plain": [
              "'/content/Development_Dataset_15/training/masks/Weedelec_mais_2019-09-25T120746-52.png'"
            ]
          },
          "metadata": {
            "tags": []
          },
          "execution_count": 24
        },
        {
          "output_type": "execute_result",
          "data": {
            "application/vnd.google.colaboratory.intrinsic+json": {
              "type": "string"
            },
            "text/plain": [
              "'/content/Development_Dataset_15/training/images/Weedelec_mais_2019-09-25T121906-316.jpg'"
            ]
          },
          "metadata": {
            "tags": []
          },
          "execution_count": 24
        },
        {
          "output_type": "execute_result",
          "data": {
            "application/vnd.google.colaboratory.intrinsic+json": {
              "type": "string"
            },
            "text/plain": [
              "'/content/Development_Dataset_15/training/masks/Weedelec_mais_2019-09-25T121906-316.png'"
            ]
          },
          "metadata": {
            "tags": []
          },
          "execution_count": 24
        },
        {
          "output_type": "execute_result",
          "data": {
            "application/vnd.google.colaboratory.intrinsic+json": {
              "type": "string"
            },
            "text/plain": [
              "'/content/Development_Dataset_15/training/images/Weedelec_mais_2019-09-25T121319-181.jpg'"
            ]
          },
          "metadata": {
            "tags": []
          },
          "execution_count": 24
        },
        {
          "output_type": "execute_result",
          "data": {
            "application/vnd.google.colaboratory.intrinsic+json": {
              "type": "string"
            },
            "text/plain": [
              "'/content/Development_Dataset_15/training/masks/Weedelec_mais_2019-09-25T121319-181.png'"
            ]
          },
          "metadata": {
            "tags": []
          },
          "execution_count": 24
        },
        {
          "output_type": "execute_result",
          "data": {
            "application/vnd.google.colaboratory.intrinsic+json": {
              "type": "string"
            },
            "text/plain": [
              "'/content/Development_Dataset_15/training/images/Weedelec_mais_2019-09-25T120545-5.jpg'"
            ]
          },
          "metadata": {
            "tags": []
          },
          "execution_count": 24
        },
        {
          "output_type": "execute_result",
          "data": {
            "application/vnd.google.colaboratory.intrinsic+json": {
              "type": "string"
            },
            "text/plain": [
              "'/content/Development_Dataset_15/training/masks/Weedelec_mais_2019-09-25T120545-5.png'"
            ]
          },
          "metadata": {
            "tags": []
          },
          "execution_count": 24
        },
        {
          "output_type": "execute_result",
          "data": {
            "application/vnd.google.colaboratory.intrinsic+json": {
              "type": "string"
            },
            "text/plain": [
              "'/content/Development_Dataset_15/training/images/Weedelec_mais_2019-09-25T120943-97.jpg'"
            ]
          },
          "metadata": {
            "tags": []
          },
          "execution_count": 24
        },
        {
          "output_type": "execute_result",
          "data": {
            "application/vnd.google.colaboratory.intrinsic+json": {
              "type": "string"
            },
            "text/plain": [
              "'/content/Development_Dataset_15/training/masks/Weedelec_mais_2019-09-25T120943-97.png'"
            ]
          },
          "metadata": {
            "tags": []
          },
          "execution_count": 24
        },
        {
          "output_type": "execute_result",
          "data": {
            "application/vnd.google.colaboratory.intrinsic+json": {
              "type": "string"
            },
            "text/plain": [
              "'/content/Development_Dataset_15/training/images/Weedelec_mais_2019-09-25T121141-143.jpg'"
            ]
          },
          "metadata": {
            "tags": []
          },
          "execution_count": 24
        },
        {
          "output_type": "execute_result",
          "data": {
            "application/vnd.google.colaboratory.intrinsic+json": {
              "type": "string"
            },
            "text/plain": [
              "'/content/Development_Dataset_15/training/masks/Weedelec_mais_2019-09-25T121141-143.png'"
            ]
          },
          "metadata": {
            "tags": []
          },
          "execution_count": 24
        },
        {
          "output_type": "execute_result",
          "data": {
            "application/vnd.google.colaboratory.intrinsic+json": {
              "type": "string"
            },
            "text/plain": [
              "'/content/Development_Dataset_15/training/images/Weedelec_mais_2019-09-25T122005-339.jpg'"
            ]
          },
          "metadata": {
            "tags": []
          },
          "execution_count": 24
        },
        {
          "output_type": "execute_result",
          "data": {
            "application/vnd.google.colaboratory.intrinsic+json": {
              "type": "string"
            },
            "text/plain": [
              "'/content/Development_Dataset_15/training/masks/Weedelec_mais_2019-09-25T122005-339.png'"
            ]
          },
          "metadata": {
            "tags": []
          },
          "execution_count": 24
        },
        {
          "output_type": "execute_result",
          "data": {
            "application/vnd.google.colaboratory.intrinsic+json": {
              "type": "string"
            },
            "text/plain": [
              "'/content/Development_Dataset_15/training/images/Weedelec_mais_2019-09-25T122219-392.jpg'"
            ]
          },
          "metadata": {
            "tags": []
          },
          "execution_count": 24
        },
        {
          "output_type": "execute_result",
          "data": {
            "application/vnd.google.colaboratory.intrinsic+json": {
              "type": "string"
            },
            "text/plain": [
              "'/content/Development_Dataset_15/training/masks/Weedelec_mais_2019-09-25T122219-392.png'"
            ]
          },
          "metadata": {
            "tags": []
          },
          "execution_count": 24
        },
        {
          "output_type": "execute_result",
          "data": {
            "application/vnd.google.colaboratory.intrinsic+json": {
              "type": "string"
            },
            "text/plain": [
              "'/content/Development_Dataset_15/training/images/Weedelec_mais_2019-09-25T121301-174.jpg'"
            ]
          },
          "metadata": {
            "tags": []
          },
          "execution_count": 24
        },
        {
          "output_type": "execute_result",
          "data": {
            "application/vnd.google.colaboratory.intrinsic+json": {
              "type": "string"
            },
            "text/plain": [
              "'/content/Development_Dataset_15/training/masks/Weedelec_mais_2019-09-25T121301-174.png'"
            ]
          },
          "metadata": {
            "tags": []
          },
          "execution_count": 24
        },
        {
          "output_type": "execute_result",
          "data": {
            "application/vnd.google.colaboratory.intrinsic+json": {
              "type": "string"
            },
            "text/plain": [
              "'/content/Development_Dataset_15/validation/images/Weedelec_mais_2019-09-25T122255-406.jpg'"
            ]
          },
          "metadata": {
            "tags": []
          },
          "execution_count": 24
        },
        {
          "output_type": "execute_result",
          "data": {
            "application/vnd.google.colaboratory.intrinsic+json": {
              "type": "string"
            },
            "text/plain": [
              "'/content/Development_Dataset_15/validation/masks/Weedelec_mais_2019-09-25T122255-406.png'"
            ]
          },
          "metadata": {
            "tags": []
          },
          "execution_count": 24
        },
        {
          "output_type": "execute_result",
          "data": {
            "application/vnd.google.colaboratory.intrinsic+json": {
              "type": "string"
            },
            "text/plain": [
              "'/content/Development_Dataset_15/validation/images/Weedelec_mais_2019-09-25T120700-34.jpg'"
            ]
          },
          "metadata": {
            "tags": []
          },
          "execution_count": 24
        },
        {
          "output_type": "execute_result",
          "data": {
            "application/vnd.google.colaboratory.intrinsic+json": {
              "type": "string"
            },
            "text/plain": [
              "'/content/Development_Dataset_15/validation/masks/Weedelec_mais_2019-09-25T120700-34.png'"
            ]
          },
          "metadata": {
            "tags": []
          },
          "execution_count": 24
        },
        {
          "output_type": "execute_result",
          "data": {
            "application/vnd.google.colaboratory.intrinsic+json": {
              "type": "string"
            },
            "text/plain": [
              "'/content/Development_Dataset_15/validation/images/Weedelec_mais_2019-09-25T120802-58.jpg'"
            ]
          },
          "metadata": {
            "tags": []
          },
          "execution_count": 24
        },
        {
          "output_type": "execute_result",
          "data": {
            "application/vnd.google.colaboratory.intrinsic+json": {
              "type": "string"
            },
            "text/plain": [
              "'/content/Development_Dataset_15/validation/masks/Weedelec_mais_2019-09-25T120802-58.png'"
            ]
          },
          "metadata": {
            "tags": []
          },
          "execution_count": 24
        },
        {
          "output_type": "execute_result",
          "data": {
            "application/vnd.google.colaboratory.intrinsic+json": {
              "type": "string"
            },
            "text/plain": [
              "'/content/Development_Dataset_15/validation/images/Weedelec_mais_2019-09-25T121729-278.jpg'"
            ]
          },
          "metadata": {
            "tags": []
          },
          "execution_count": 24
        },
        {
          "output_type": "execute_result",
          "data": {
            "application/vnd.google.colaboratory.intrinsic+json": {
              "type": "string"
            },
            "text/plain": [
              "'/content/Development_Dataset_15/validation/masks/Weedelec_mais_2019-09-25T121729-278.png'"
            ]
          },
          "metadata": {
            "tags": []
          },
          "execution_count": 24
        },
        {
          "output_type": "execute_result",
          "data": {
            "application/vnd.google.colaboratory.intrinsic+json": {
              "type": "string"
            },
            "text/plain": [
              "'/content/Development_Dataset_15/validation/images/Weedelec_mais_2019-09-25T122323-417.jpg'"
            ]
          },
          "metadata": {
            "tags": []
          },
          "execution_count": 24
        },
        {
          "output_type": "execute_result",
          "data": {
            "application/vnd.google.colaboratory.intrinsic+json": {
              "type": "string"
            },
            "text/plain": [
              "'/content/Development_Dataset_15/validation/masks/Weedelec_mais_2019-09-25T122323-417.png'"
            ]
          },
          "metadata": {
            "tags": []
          },
          "execution_count": 24
        },
        {
          "output_type": "execute_result",
          "data": {
            "application/vnd.google.colaboratory.intrinsic+json": {
              "type": "string"
            },
            "text/plain": [
              "'/content/Development_Dataset_15/validation/images/Weedelec_mais_2019-09-25T121846-308.jpg'"
            ]
          },
          "metadata": {
            "tags": []
          },
          "execution_count": 24
        },
        {
          "output_type": "execute_result",
          "data": {
            "application/vnd.google.colaboratory.intrinsic+json": {
              "type": "string"
            },
            "text/plain": [
              "'/content/Development_Dataset_15/validation/masks/Weedelec_mais_2019-09-25T121846-308.png'"
            ]
          },
          "metadata": {
            "tags": []
          },
          "execution_count": 24
        },
        {
          "output_type": "execute_result",
          "data": {
            "application/vnd.google.colaboratory.intrinsic+json": {
              "type": "string"
            },
            "text/plain": [
              "'/content/Development_Dataset_15/validation/images/Weedelec_mais_2019-09-25T121937-328.jpg'"
            ]
          },
          "metadata": {
            "tags": []
          },
          "execution_count": 24
        },
        {
          "output_type": "execute_result",
          "data": {
            "application/vnd.google.colaboratory.intrinsic+json": {
              "type": "string"
            },
            "text/plain": [
              "'/content/Development_Dataset_15/validation/masks/Weedelec_mais_2019-09-25T121937-328.png'"
            ]
          },
          "metadata": {
            "tags": []
          },
          "execution_count": 24
        },
        {
          "output_type": "execute_result",
          "data": {
            "application/vnd.google.colaboratory.intrinsic+json": {
              "type": "string"
            },
            "text/plain": [
              "'/content/Development_Dataset_15/validation/images/Weedelec_mais_2019-09-25T122308-411.jpg'"
            ]
          },
          "metadata": {
            "tags": []
          },
          "execution_count": 24
        },
        {
          "output_type": "execute_result",
          "data": {
            "application/vnd.google.colaboratory.intrinsic+json": {
              "type": "string"
            },
            "text/plain": [
              "'/content/Development_Dataset_15/validation/masks/Weedelec_mais_2019-09-25T122308-411.png'"
            ]
          },
          "metadata": {
            "tags": []
          },
          "execution_count": 24
        },
        {
          "output_type": "execute_result",
          "data": {
            "application/vnd.google.colaboratory.intrinsic+json": {
              "type": "string"
            },
            "text/plain": [
              "'/content/Development_Dataset_15/validation/images/Weedelec_mais_2019-09-25T121531-232.jpg'"
            ]
          },
          "metadata": {
            "tags": []
          },
          "execution_count": 24
        },
        {
          "output_type": "execute_result",
          "data": {
            "application/vnd.google.colaboratory.intrinsic+json": {
              "type": "string"
            },
            "text/plain": [
              "'/content/Development_Dataset_15/validation/masks/Weedelec_mais_2019-09-25T121531-232.png'"
            ]
          },
          "metadata": {
            "tags": []
          },
          "execution_count": 24
        },
        {
          "output_type": "execute_result",
          "data": {
            "application/vnd.google.colaboratory.intrinsic+json": {
              "type": "string"
            },
            "text/plain": [
              "'/content/Development_Dataset_15/validation/images/Weedelec_mais_2019-09-25T122331-420.jpg'"
            ]
          },
          "metadata": {
            "tags": []
          },
          "execution_count": 24
        },
        {
          "output_type": "execute_result",
          "data": {
            "application/vnd.google.colaboratory.intrinsic+json": {
              "type": "string"
            },
            "text/plain": [
              "'/content/Development_Dataset_15/validation/masks/Weedelec_mais_2019-09-25T122331-420.png'"
            ]
          },
          "metadata": {
            "tags": []
          },
          "execution_count": 24
        },
        {
          "output_type": "execute_result",
          "data": {
            "application/vnd.google.colaboratory.intrinsic+json": {
              "type": "string"
            },
            "text/plain": [
              "'/content/Development_Dataset_15/validation/images/Weedelec_mais_2019-09-25T120738-49.jpg'"
            ]
          },
          "metadata": {
            "tags": []
          },
          "execution_count": 24
        },
        {
          "output_type": "execute_result",
          "data": {
            "application/vnd.google.colaboratory.intrinsic+json": {
              "type": "string"
            },
            "text/plain": [
              "'/content/Development_Dataset_15/validation/masks/Weedelec_mais_2019-09-25T120738-49.png'"
            ]
          },
          "metadata": {
            "tags": []
          },
          "execution_count": 24
        },
        {
          "output_type": "execute_result",
          "data": {
            "application/vnd.google.colaboratory.intrinsic+json": {
              "type": "string"
            },
            "text/plain": [
              "'/content/Development_Dataset_15/validation/images/Weedelec_mais_2019-09-25T120917-87.jpg'"
            ]
          },
          "metadata": {
            "tags": []
          },
          "execution_count": 24
        },
        {
          "output_type": "execute_result",
          "data": {
            "application/vnd.google.colaboratory.intrinsic+json": {
              "type": "string"
            },
            "text/plain": [
              "'/content/Development_Dataset_15/validation/masks/Weedelec_mais_2019-09-25T120917-87.png'"
            ]
          },
          "metadata": {
            "tags": []
          },
          "execution_count": 24
        },
        {
          "output_type": "execute_result",
          "data": {
            "application/vnd.google.colaboratory.intrinsic+json": {
              "type": "string"
            },
            "text/plain": [
              "'/content/Development_Dataset_15/validation/images/Weedelec_mais_2019-09-25T120634-24.jpg'"
            ]
          },
          "metadata": {
            "tags": []
          },
          "execution_count": 24
        },
        {
          "output_type": "execute_result",
          "data": {
            "application/vnd.google.colaboratory.intrinsic+json": {
              "type": "string"
            },
            "text/plain": [
              "'/content/Development_Dataset_15/validation/masks/Weedelec_mais_2019-09-25T120634-24.png'"
            ]
          },
          "metadata": {
            "tags": []
          },
          "execution_count": 24
        },
        {
          "output_type": "execute_result",
          "data": {
            "application/vnd.google.colaboratory.intrinsic+json": {
              "type": "string"
            },
            "text/plain": [
              "'/content/Development_Dataset_15/validation/images/Weedelec_mais_2019-09-25T122250-404.jpg'"
            ]
          },
          "metadata": {
            "tags": []
          },
          "execution_count": 24
        },
        {
          "output_type": "execute_result",
          "data": {
            "application/vnd.google.colaboratory.intrinsic+json": {
              "type": "string"
            },
            "text/plain": [
              "'/content/Development_Dataset_15/validation/masks/Weedelec_mais_2019-09-25T122250-404.png'"
            ]
          },
          "metadata": {
            "tags": []
          },
          "execution_count": 24
        },
        {
          "output_type": "stream",
          "text": [
            "dataset_split2.json  Development_Dataset     drive\n",
            "dataset_split.json   Development_Dataset_15  sample_data\n"
          ],
          "name": "stdout"
        }
      ]
    },
    {
      "cell_type": "code",
      "metadata": {
        "id": "tffVKv-K6Z8T",
        "colab": {
          "base_uri": "https://localhost:8080/"
        },
        "outputId": "398a23f2-09fa-4658-da27-66e43b21d99c"
      },
      "source": [
        "# ------------------------------------------------------------------------------------------\n",
        "# Zip the splitted dataset for the next executions, to avoid the splitting process each time\n",
        "# ------------------------------------------------------------------------------------------\n",
        "if SPLIT_DATASET == True:\n",
        "  ! zip -r '/content/drive/My Drive/Challenge_2/Development_Dataset_15.zip' 'Development_Dataset_15'"
      ],
      "execution_count": 29,
      "outputs": [
        {
          "output_type": "stream",
          "text": [
            "  adding: Development_Dataset_15/ (stored 0%)\n",
            "  adding: Development_Dataset_15/validation/ (stored 0%)\n",
            "  adding: Development_Dataset_15/validation/masks/ (stored 0%)\n",
            "  adding: Development_Dataset_15/validation/masks/Roseau_mais_0238_false.png (deflated 10%)\n",
            "  adding: Development_Dataset_15/validation/masks/Roseau_mais_0254_false.png (deflated 9%)\n",
            "  adding: Development_Dataset_15/validation/masks/Weedelec_haricot_2019-09-25T115228-203.png (deflated 21%)\n",
            "  adding: Development_Dataset_15/validation/masks/Roseau_mais_0310_false.png (deflated 17%)\n",
            "  adding: Development_Dataset_15/validation/masks/Roseau_haricot_0380_false.png (deflated 10%)\n",
            "  adding: Development_Dataset_15/validation/masks/Roseau_mais_0106_false.png (deflated 75%)\n",
            "  adding: Development_Dataset_15/validation/masks/Pead_haricot_00585_i750.png (deflated 22%)\n",
            "  adding: Development_Dataset_15/validation/masks/Weedelec_mais_2019-09-25T122331-420.png (deflated 58%)\n",
            "  adding: Development_Dataset_15/validation/masks/Pead_haricot_00089_i750.png (deflated 20%)\n",
            "  adding: Development_Dataset_15/validation/masks/Weedelec_mais_2019-09-25T120802-58.png (deflated 23%)\n",
            "  adding: Development_Dataset_15/validation/masks/Bipbip_mais_im_01511.png (deflated 14%)\n",
            "  adding: Development_Dataset_15/validation/masks/Pead_haricot_00506_i750.png (deflated 11%)\n",
            "  adding: Development_Dataset_15/validation/masks/Weedelec_haricot_2019-09-25T114934-135.png (deflated 24%)\n",
            "  adding: Development_Dataset_15/validation/masks/Pead_mais_00122_i900.png (deflated 26%)\n",
            "  adding: Development_Dataset_15/validation/masks/Weedelec_haricot_2019-09-25T115754-328.png (deflated 44%)\n",
            "  adding: Development_Dataset_15/validation/masks/Pead_haricot_00016_i750.png (deflated 13%)\n",
            "  adding: Development_Dataset_15/validation/masks/Pead_haricot_00313_i750.png (deflated 14%)\n",
            "  adding: Development_Dataset_15/validation/masks/Bipbip_mais_im_11121.png (deflated 11%)\n",
            "  adding: Development_Dataset_15/validation/masks/Bipbip_haricot_im_07011.png (deflated 30%)\n",
            "  adding: Development_Dataset_15/validation/masks/Pead_haricot_00121_i750.png (deflated 15%)\n",
            "  adding: Development_Dataset_15/validation/masks/Pead_mais_00046_i900.png (deflated 23%)\n",
            "  adding: Development_Dataset_15/validation/masks/Pead_mais_00539_i900.png (deflated 18%)\n",
            "  adding: Development_Dataset_15/validation/masks/Pead_mais_00531_i900.png (deflated 22%)\n",
            "  adding: Development_Dataset_15/validation/masks/Roseau_mais_0146_false.png (deflated 8%)\n",
            "  adding: Development_Dataset_15/validation/masks/Bipbip_mais_im_07911.png (deflated 9%)\n",
            "  adding: Development_Dataset_15/validation/masks/Pead_haricot_00147_i750.png (deflated 15%)\n",
            "  adding: Development_Dataset_15/validation/masks/Pead_haricot_00625_i750.png (deflated 25%)\n",
            "  adding: Development_Dataset_15/validation/masks/Pead_haricot_00356_i750.png (deflated 15%)\n",
            "  adding: Development_Dataset_15/validation/masks/Bipbip_haricot_im_06901.png (deflated 26%)\n",
            "  adding: Development_Dataset_15/validation/masks/Bipbip_haricot_im_02351.png (deflated 22%)\n",
            "  adding: Development_Dataset_15/validation/masks/Weedelec_haricot_2019-09-25T114736-90.png (deflated 33%)\n",
            "  adding: Development_Dataset_15/validation/masks/Weedelec_haricot_2019-09-25T115541-277.png (deflated 23%)\n",
            "  adding: Development_Dataset_15/validation/masks/Weedelec_haricot_2019-09-25T114650-72.png (deflated 34%)\n",
            "  adding: Development_Dataset_15/validation/masks/Weedelec_haricot_2019-09-25T115412-243.png (deflated 43%)\n",
            "  adding: Development_Dataset_15/validation/masks/Weedelec_mais_2019-09-25T120738-49.png (deflated 40%)\n",
            "  adding: Development_Dataset_15/validation/masks/Weedelec_haricot_2019-09-25T115549-280.png (deflated 32%)\n",
            "  adding: Development_Dataset_15/validation/masks/Weedelec_haricot_2019-09-25T114618-60.png (deflated 39%)\n",
            "  adding: Development_Dataset_15/validation/masks/Pead_mais_00058_i900.png (deflated 24%)\n",
            "  adding: Development_Dataset_15/validation/masks/Roseau_haricot_0332_false.png (deflated 61%)\n",
            "  adding: Development_Dataset_15/validation/masks/Roseau_haricot_0232_false.png (deflated 4%)\n",
            "  adding: Development_Dataset_15/validation/masks/Roseau_haricot_0324_false.png (deflated 97%)\n",
            "  adding: Development_Dataset_15/validation/masks/Weedelec_haricot_2019-09-25T115054-166.png (deflated 32%)\n",
            "  adding: Development_Dataset_15/validation/masks/Bipbip_mais_im_05281.png (deflated 20%)\n",
            "  adding: Development_Dataset_15/validation/masks/Roseau_haricot_0116_false.png (deflated 6%)\n",
            "  adding: Development_Dataset_15/validation/masks/Roseau_haricot_0276_false.png (deflated 2%)\n",
            "  adding: Development_Dataset_15/validation/masks/Bipbip_haricot_im_06691.png (deflated 29%)\n",
            "  adding: Development_Dataset_15/validation/masks/Weedelec_mais_2019-09-25T122308-411.png (deflated 50%)\n",
            "  adding: Development_Dataset_15/validation/masks/Weedelec_mais_2019-09-25T120634-24.png (deflated 59%)\n",
            "  adding: Development_Dataset_15/validation/masks/Pead_mais_00813_i900.png (deflated 35%)\n",
            "  adding: Development_Dataset_15/validation/masks/Weedelec_haricot_2019-09-25T115028-156.png (deflated 22%)\n",
            "  adding: Development_Dataset_15/validation/masks/Roseau_haricot_0252_false.png (deflated 4%)\n",
            "  adding: Development_Dataset_15/validation/masks/Weedelec_mais_2019-09-25T120700-34.png (deflated 49%)\n",
            "  adding: Development_Dataset_15/validation/masks/Weedelec_mais_2019-09-25T121846-308.png (deflated 43%)\n",
            "  adding: Development_Dataset_15/validation/masks/Bipbip_mais_im_10001.png (deflated 15%)\n",
            "  adding: Development_Dataset_15/validation/masks/Roseau_mais_0276_false.png (deflated 8%)\n",
            "  adding: Development_Dataset_15/validation/masks/Bipbip_haricot_im_05361.png (deflated 21%)\n",
            "  adding: Development_Dataset_15/validation/masks/Roseau_haricot_0364_false.png (deflated 13%)\n",
            "  adding: Development_Dataset_15/validation/masks/Bipbip_haricot_im_07371.png (deflated 24%)\n",
            "  adding: Development_Dataset_15/validation/masks/Bipbip_mais_im_02781.png (deflated 12%)\n",
            "  adding: Development_Dataset_15/validation/masks/Roseau_haricot_0200_false.png (deflated 49%)\n",
            "  adding: Development_Dataset_15/validation/masks/Bipbip_mais_im_07761.png (deflated 13%)\n",
            "  adding: Development_Dataset_15/validation/masks/Bipbip_mais_im_05381.png (deflated 15%)\n",
            "  adding: Development_Dataset_15/validation/masks/Roseau_mais_0312_false.png (deflated 17%)\n",
            "  adding: Development_Dataset_15/validation/masks/Weedelec_mais_2019-09-25T121937-328.png (deflated 34%)\n",
            "  adding: Development_Dataset_15/validation/masks/Pead_mais_00768_i900.png (deflated 21%)\n",
            "  adding: Development_Dataset_15/validation/masks/Pead_haricot_00322_i750.png (deflated 14%)\n",
            "  adding: Development_Dataset_15/validation/masks/Weedelec_mais_2019-09-25T121729-278.png (deflated 49%)\n",
            "  adding: Development_Dataset_15/validation/masks/Roseau_haricot_0212_false.png (deflated 67%)\n",
            "  adding: Development_Dataset_15/validation/masks/Weedelec_mais_2019-09-25T120917-87.png (deflated 35%)\n",
            "  adding: Development_Dataset_15/validation/masks/Pead_haricot_00422_i750.png (deflated 13%)\n",
            "  adding: Development_Dataset_15/validation/masks/Bipbip_mais_im_09311.png (deflated 12%)\n",
            "  adding: Development_Dataset_15/validation/masks/Weedelec_haricot_2019-09-25T115446-256.png (deflated 24%)\n",
            "  adding: Development_Dataset_15/validation/masks/Pead_mais_00329_i900.png (deflated 19%)\n",
            "  adding: Development_Dataset_15/validation/masks/Bipbip_haricot_im_06101.png (deflated 21%)\n",
            "  adding: Development_Dataset_15/validation/masks/Weedelec_mais_2019-09-25T122255-406.png (deflated 46%)\n",
            "  adding: Development_Dataset_15/validation/masks/Roseau_haricot_0192_false.png (deflated 8%)\n",
            "  adding: Development_Dataset_15/validation/masks/Pead_mais_00325_i900.png (deflated 19%)\n",
            "  adding: Development_Dataset_15/validation/masks/Bipbip_mais_im_03291.png (deflated 14%)\n",
            "  adding: Development_Dataset_15/validation/masks/Bipbip_haricot_im_04401.png (deflated 19%)\n",
            "  adding: Development_Dataset_15/validation/masks/Pead_mais_00355_i900.png (deflated 19%)\n",
            "  adding: Development_Dataset_15/validation/masks/Roseau_haricot_0034_false.png (deflated 12%)\n",
            "  adding: Development_Dataset_15/validation/masks/Bipbip_haricot_im_07701.png (deflated 29%)\n",
            "  adding: Development_Dataset_15/validation/masks/Bipbip_mais_im_11221.png (deflated 14%)\n",
            "  adding: Development_Dataset_15/validation/masks/Weedelec_haricot_2019-09-25T115502-262.png (deflated 31%)\n",
            "  adding: Development_Dataset_15/validation/masks/Roseau_mais_0262_false.png (deflated 10%)\n",
            "  adding: Development_Dataset_15/validation/masks/Roseau_mais_0268_false.png (deflated 11%)\n",
            "  adding: Development_Dataset_15/validation/masks/Roseau_mais_0326_false.png (deflated 13%)\n",
            "  adding: Development_Dataset_15/validation/masks/Bipbip_haricot_im_03411.png (deflated 23%)\n",
            "  adding: Development_Dataset_15/validation/masks/Bipbip_haricot_im_06151.png (deflated 19%)\n",
            "  adding: Development_Dataset_15/validation/masks/Pead_haricot_00150_i750.png (deflated 16%)\n",
            "  adding: Development_Dataset_15/validation/masks/Bipbip_haricot_im_08071.png (deflated 23%)\n",
            "  adding: Development_Dataset_15/validation/masks/Weedelec_haricot_2019-09-25T115533-274.png (deflated 40%)\n",
            "  adding: Development_Dataset_15/validation/masks/Bipbip_haricot_im_03611.png (deflated 21%)\n",
            "  adding: Development_Dataset_15/validation/masks/Pead_haricot_00535_i750.png (deflated 13%)\n",
            "  adding: Development_Dataset_15/validation/masks/Pead_mais_00599_i900.png (deflated 9%)\n",
            "  adding: Development_Dataset_15/validation/masks/Weedelec_mais_2019-09-25T121531-232.png (deflated 38%)\n",
            "  adding: Development_Dataset_15/validation/masks/Pead_mais_00034_i900.png (deflated 23%)\n",
            "  adding: Development_Dataset_15/validation/masks/Roseau_haricot_0012_false.png (deflated 7%)\n",
            "  adding: Development_Dataset_15/validation/masks/Weedelec_mais_2019-09-25T122250-404.png (deflated 63%)\n",
            "  adding: Development_Dataset_15/validation/masks/Roseau_mais_0038_false.png (deflated 17%)\n",
            "  adding: Development_Dataset_15/validation/masks/Bipbip_mais_im_04561.png (deflated 14%)\n",
            "  adding: Development_Dataset_15/validation/masks/Bipbip_mais_im_03751.png (deflated 15%)\n",
            "  adding: Development_Dataset_15/validation/masks/Roseau_mais_0012_false.png (deflated 14%)\n",
            "  adding: Development_Dataset_15/validation/masks/Roseau_haricot_0058_false.png (deflated 14%)\n",
            "  adding: Development_Dataset_15/validation/masks/Roseau_mais_0134_false.png (deflated 15%)\n",
            "  adding: Development_Dataset_15/validation/masks/Weedelec_mais_2019-09-25T122323-417.png (deflated 37%)\n",
            "  adding: Development_Dataset_15/validation/masks/Pead_haricot_00107_i750.png (deflated 18%)\n",
            "  adding: Development_Dataset_15/validation/masks/Bipbip_haricot_im_05351.png (deflated 21%)\n",
            "  adding: Development_Dataset_15/validation/masks/Pead_mais_00143_i900.png (deflated 24%)\n",
            "  adding: Development_Dataset_15/validation/masks/Pead_mais_00152_i900.png (deflated 23%)\n",
            "  adding: Development_Dataset_15/validation/masks/Bipbip_mais_im_04911.png (deflated 21%)\n",
            "  adding: Development_Dataset_15/validation/masks/Roseau_mais_0264_false.png (deflated 9%)\n",
            "  adding: Development_Dataset_15/validation/images/ (stored 0%)\n",
            "  adding: Development_Dataset_15/validation/images/Roseau_mais_0238_false.png (deflated 0%)\n",
            "  adding: Development_Dataset_15/validation/images/Bipbip_mais_im_04561.jpg (deflated 0%)\n",
            "  adding: Development_Dataset_15/validation/images/Roseau_mais_0254_false.png (deflated 0%)\n",
            "  adding: Development_Dataset_15/validation/images/Roseau_mais_0310_false.png (deflated 0%)\n",
            "  adding: Development_Dataset_15/validation/images/Bipbip_mais_im_05381.jpg (deflated 0%)\n",
            "  adding: Development_Dataset_15/validation/images/Roseau_haricot_0380_false.png (deflated 0%)\n",
            "  adding: Development_Dataset_15/validation/images/Roseau_mais_0106_false.png (deflated 0%)\n",
            "  adding: Development_Dataset_15/validation/images/Bipbip_mais_im_02781.jpg (deflated 0%)\n",
            "  adding: Development_Dataset_15/validation/images/Pead_mais_00355_i900.jpg (deflated 0%)\n",
            "  adding: Development_Dataset_15/validation/images/Pead_mais_00539_i900.jpg (deflated 0%)\n",
            "  adding: Development_Dataset_15/validation/images/Bipbip_mais_im_11121.jpg (deflated 0%)\n",
            "  adding: Development_Dataset_15/validation/images/Pead_haricot_00147_i750.jpg (deflated 0%)\n",
            "  adding: Development_Dataset_15/validation/images/Weedelec_haricot_2019-09-25T115054-166.jpg (deflated 0%)\n",
            "  adding: Development_Dataset_15/validation/images/Weedelec_haricot_2019-09-25T115754-328.jpg (deflated 0%)\n",
            "  adding: Development_Dataset_15/validation/images/Bipbip_mais_im_03291.jpg (deflated 0%)\n",
            "  adding: Development_Dataset_15/validation/images/Bipbip_haricot_im_07011.jpg (deflated 0%)\n",
            "  adding: Development_Dataset_15/validation/images/Pead_mais_00768_i900.jpg (deflated 0%)\n",
            "  adding: Development_Dataset_15/validation/images/Weedelec_mais_2019-09-25T120917-87.jpg (deflated 0%)\n",
            "  adding: Development_Dataset_15/validation/images/Weedelec_mais_2019-09-25T120700-34.jpg (deflated 0%)\n",
            "  adding: Development_Dataset_15/validation/images/Pead_haricot_00107_i750.jpg (deflated 0%)\n",
            "  adding: Development_Dataset_15/validation/images/Roseau_mais_0146_false.png (deflated 0%)\n",
            "  adding: Development_Dataset_15/validation/images/Pead_mais_00058_i900.jpg (deflated 0%)\n",
            "  adding: Development_Dataset_15/validation/images/Weedelec_haricot_2019-09-25T115533-274.jpg (deflated 0%)\n",
            "  adding: Development_Dataset_15/validation/images/Pead_haricot_00422_i750.jpg (deflated 0%)\n",
            "  adding: Development_Dataset_15/validation/images/Pead_haricot_00356_i750.jpg (deflated 0%)\n",
            "  adding: Development_Dataset_15/validation/images/Bipbip_haricot_im_03611.jpg (deflated 0%)\n",
            "  adding: Development_Dataset_15/validation/images/Pead_mais_00046_i900.jpg (deflated 0%)\n",
            "  adding: Development_Dataset_15/validation/images/Bipbip_mais_im_03751.jpg (deflated 0%)\n",
            "  adding: Development_Dataset_15/validation/images/Bipbip_haricot_im_08071.jpg (deflated 0%)\n",
            "  adding: Development_Dataset_15/validation/images/Pead_haricot_00089_i750.jpg (deflated 0%)\n",
            "  adding: Development_Dataset_15/validation/images/Weedelec_haricot_2019-09-25T115412-243.jpg (deflated 0%)\n",
            "  adding: Development_Dataset_15/validation/images/Weedelec_haricot_2019-09-25T115541-277.jpg (deflated 0%)\n",
            "  adding: Development_Dataset_15/validation/images/Bipbip_haricot_im_06901.jpg (deflated 0%)\n",
            "  adding: Development_Dataset_15/validation/images/Bipbip_haricot_im_05351.jpg (deflated 0%)\n",
            "  adding: Development_Dataset_15/validation/images/Weedelec_mais_2019-09-25T120738-49.jpg (deflated 0%)\n",
            "  adding: Development_Dataset_15/validation/images/Weedelec_mais_2019-09-25T122323-417.jpg (deflated 0%)\n",
            "  adding: Development_Dataset_15/validation/images/Pead_haricot_00506_i750.jpg (deflated 0%)\n",
            "  adding: Development_Dataset_15/validation/images/Bipbip_mais_im_10001.jpg (deflated 0%)\n",
            "  adding: Development_Dataset_15/validation/images/Roseau_haricot_0332_false.png (deflated 0%)\n",
            "  adding: Development_Dataset_15/validation/images/Pead_haricot_00313_i750.jpg (deflated 0%)\n",
            "  adding: Development_Dataset_15/validation/images/Roseau_haricot_0232_false.png (deflated 0%)\n",
            "  adding: Development_Dataset_15/validation/images/Roseau_haricot_0324_false.png (deflated 0%)\n",
            "  adding: Development_Dataset_15/validation/images/Bipbip_haricot_im_06691.jpg (deflated 0%)\n",
            "  adding: Development_Dataset_15/validation/images/Bipbip_mais_im_01511.jpg (deflated 0%)\n",
            "  adding: Development_Dataset_15/validation/images/Roseau_haricot_0116_false.png (deflated 0%)\n",
            "  adding: Development_Dataset_15/validation/images/Roseau_haricot_0276_false.png (deflated 0%)\n",
            "  adding: Development_Dataset_15/validation/images/Weedelec_mais_2019-09-25T121846-308.jpg (deflated 0%)\n",
            "  adding: Development_Dataset_15/validation/images/Pead_haricot_00625_i750.jpg (deflated 0%)\n",
            "  adding: Development_Dataset_15/validation/images/Roseau_haricot_0252_false.png (deflated 0%)\n",
            "  adding: Development_Dataset_15/validation/images/Weedelec_haricot_2019-09-25T114934-135.jpg (deflated 0%)\n",
            "  adding: Development_Dataset_15/validation/images/Bipbip_haricot_im_06151.jpg (deflated 0%)\n",
            "  adding: Development_Dataset_15/validation/images/Pead_haricot_00535_i750.jpg (deflated 0%)\n",
            "  adding: Development_Dataset_15/validation/images/Pead_mais_00152_i900.jpg (deflated 0%)\n",
            "  adding: Development_Dataset_15/validation/images/Pead_haricot_00016_i750.jpg (deflated 0%)\n",
            "  adding: Development_Dataset_15/validation/images/Bipbip_haricot_im_07371.jpg (deflated 0%)\n",
            "  adding: Development_Dataset_15/validation/images/Pead_haricot_00150_i750.jpg (deflated 0%)\n",
            "  adding: Development_Dataset_15/validation/images/Bipbip_haricot_im_05361.jpg (deflated 0%)\n",
            "  adding: Development_Dataset_15/validation/images/Roseau_mais_0276_false.png (deflated 0%)\n",
            "  adding: Development_Dataset_15/validation/images/Bipbip_mais_im_09311.jpg (deflated 0%)\n",
            "  adding: Development_Dataset_15/validation/images/Roseau_haricot_0364_false.png (deflated 0%)\n",
            "  adding: Development_Dataset_15/validation/images/Weedelec_haricot_2019-09-25T114650-72.jpg (deflated 0%)\n",
            "  adding: Development_Dataset_15/validation/images/Roseau_haricot_0200_false.png (deflated 0%)\n",
            "  adding: Development_Dataset_15/validation/images/Bipbip_haricot_im_03411.jpg (deflated 0%)\n",
            "  adding: Development_Dataset_15/validation/images/Roseau_mais_0312_false.png (deflated 0%)\n",
            "  adding: Development_Dataset_15/validation/images/Pead_haricot_00585_i750.jpg (deflated 0%)\n",
            "  adding: Development_Dataset_15/validation/images/Roseau_haricot_0212_false.png (deflated 0%)\n",
            "  adding: Development_Dataset_15/validation/images/Bipbip_mais_im_07911.jpg (deflated 0%)\n",
            "  adding: Development_Dataset_15/validation/images/Pead_mais_00599_i900.jpg (deflated 0%)\n",
            "  adding: Development_Dataset_15/validation/images/Pead_mais_00531_i900.jpg (deflated 0%)\n",
            "  adding: Development_Dataset_15/validation/images/Weedelec_mais_2019-09-25T122255-406.jpg (deflated 0%)\n",
            "  adding: Development_Dataset_15/validation/images/Pead_mais_00329_i900.jpg (deflated 0%)\n",
            "  adding: Development_Dataset_15/validation/images/Pead_mais_00122_i900.jpg (deflated 0%)\n",
            "  adding: Development_Dataset_15/validation/images/Pead_haricot_00121_i750.jpg (deflated 0%)\n",
            "  adding: Development_Dataset_15/validation/images/Weedelec_haricot_2019-09-25T115549-280.jpg (deflated 0%)\n",
            "  adding: Development_Dataset_15/validation/images/Roseau_haricot_0192_false.png (deflated 0%)\n",
            "  adding: Development_Dataset_15/validation/images/Bipbip_mais_im_05281.jpg (deflated 0%)\n",
            "  adding: Development_Dataset_15/validation/images/Weedelec_haricot_2019-09-25T114618-60.jpg (deflated 0%)\n",
            "  adding: Development_Dataset_15/validation/images/Roseau_haricot_0034_false.png (deflated 0%)\n",
            "  adding: Development_Dataset_15/validation/images/Weedelec_mais_2019-09-25T120802-58.jpg (deflated 0%)\n",
            "  adding: Development_Dataset_15/validation/images/Weedelec_haricot_2019-09-25T115228-203.jpg (deflated 0%)\n",
            "  adding: Development_Dataset_15/validation/images/Roseau_mais_0262_false.png (deflated 0%)\n",
            "  adding: Development_Dataset_15/validation/images/Roseau_mais_0268_false.png (deflated 0%)\n",
            "  adding: Development_Dataset_15/validation/images/Roseau_mais_0326_false.png (deflated 0%)\n",
            "  adding: Development_Dataset_15/validation/images/Weedelec_mais_2019-09-25T121531-232.jpg (deflated 0%)\n",
            "  adding: Development_Dataset_15/validation/images/Bipbip_mais_im_11221.jpg (deflated 0%)\n",
            "  adding: Development_Dataset_15/validation/images/Weedelec_mais_2019-09-25T122250-404.jpg (deflated 0%)\n",
            "  adding: Development_Dataset_15/validation/images/Pead_mais_00813_i900.jpg (deflated 0%)\n",
            "  adding: Development_Dataset_15/validation/images/Bipbip_mais_im_04911.jpg (deflated 0%)\n",
            "  adding: Development_Dataset_15/validation/images/Weedelec_mais_2019-09-25T122308-411.jpg (deflated 0%)\n",
            "  adding: Development_Dataset_15/validation/images/Pead_mais_00143_i900.jpg (deflated 0%)\n",
            "  adding: Development_Dataset_15/validation/images/Weedelec_haricot_2019-09-25T114736-90.jpg (deflated 0%)\n",
            "  adding: Development_Dataset_15/validation/images/Weedelec_haricot_2019-09-25T115502-262.jpg (deflated 0%)\n",
            "  adding: Development_Dataset_15/validation/images/Roseau_haricot_0012_false.png (deflated 0%)\n",
            "  adding: Development_Dataset_15/validation/images/Roseau_mais_0038_false.png (deflated 0%)\n",
            "  adding: Development_Dataset_15/validation/images/Weedelec_mais_2019-09-25T121729-278.jpg (deflated 0%)\n",
            "  adding: Development_Dataset_15/validation/images/Bipbip_haricot_im_04401.jpg (deflated 0%)\n",
            "  adding: Development_Dataset_15/validation/images/Weedelec_mais_2019-09-25T121937-328.jpg (deflated 0%)\n",
            "  adding: Development_Dataset_15/validation/images/Weedelec_mais_2019-09-25T120634-24.jpg (deflated 0%)\n",
            "  adding: Development_Dataset_15/validation/images/Bipbip_mais_im_07761.jpg (deflated 0%)\n",
            "  adding: Development_Dataset_15/validation/images/Roseau_mais_0012_false.png (deflated 0%)\n",
            "  adding: Development_Dataset_15/validation/images/Weedelec_haricot_2019-09-25T115446-256.jpg (deflated 0%)\n",
            "  adding: Development_Dataset_15/validation/images/Weedelec_haricot_2019-09-25T115028-156.jpg (deflated 0%)\n",
            "  adding: Development_Dataset_15/validation/images/Weedelec_mais_2019-09-25T122331-420.jpg (deflated 0%)\n",
            "  adding: Development_Dataset_15/validation/images/Bipbip_haricot_im_07701.jpg (deflated 0%)\n",
            "  adding: Development_Dataset_15/validation/images/Roseau_haricot_0058_false.png (deflated 0%)\n",
            "  adding: Development_Dataset_15/validation/images/Bipbip_haricot_im_02351.jpg (deflated 0%)\n",
            "  adding: Development_Dataset_15/validation/images/Roseau_mais_0134_false.png (deflated 0%)\n",
            "  adding: Development_Dataset_15/validation/images/Bipbip_haricot_im_06101.jpg (deflated 0%)\n",
            "  adding: Development_Dataset_15/validation/images/Pead_haricot_00322_i750.jpg (deflated 0%)\n",
            "  adding: Development_Dataset_15/validation/images/Pead_mais_00034_i900.jpg (deflated 0%)\n",
            "  adding: Development_Dataset_15/validation/images/Roseau_mais_0264_false.png (deflated 0%)\n",
            "  adding: Development_Dataset_15/validation/images/Pead_mais_00325_i900.jpg (deflated 0%)\n",
            "  adding: Development_Dataset_15/training/ (stored 0%)\n",
            "  adding: Development_Dataset_15/training/masks/ (stored 0%)\n",
            "  adding: Development_Dataset_15/training/masks/Bipbip_mais_im_10771.png (deflated 20%)\n",
            "  adding: Development_Dataset_15/training/masks/Pead_mais_00416_i900.png (deflated 19%)\n",
            "  adding: Development_Dataset_15/training/masks/Pead_haricot_00479_i750.png (deflated 11%)\n",
            "  adding: Development_Dataset_15/training/masks/Roseau_haricot_0418_false.png (deflated 7%)\n",
            "  adding: Development_Dataset_15/training/masks/Weedelec_haricot_2019-09-25T115730-319.png (deflated 27%)\n",
            "  adding: Development_Dataset_15/training/masks/Bipbip_mais_im_09841.png (deflated 19%)\n",
            "  adding: Development_Dataset_15/training/masks/Weedelec_mais_2019-09-25T122339-423.png (deflated 44%)\n",
            "  adding: Development_Dataset_15/training/masks/Roseau_mais_0156_false.png (deflated 15%)\n",
            "  adding: Development_Dataset_15/training/masks/Roseau_haricot_0356_false.png (deflated 26%)\n",
            "  adding: Development_Dataset_15/training/masks/Pead_mais_00407_i900.png (deflated 19%)\n",
            "  adding: Development_Dataset_15/training/masks/Bipbip_haricot_im_06641.png (deflated 28%)\n",
            "  adding: Development_Dataset_15/training/masks/Weedelec_haricot_2019-09-25T114850-118.png (deflated 31%)\n",
            "  adding: Development_Dataset_15/training/masks/Pead_mais_00817_i900.png (deflated 59%)\n",
            "  adding: Development_Dataset_15/training/masks/Roseau_mais_0022_false.png (deflated 14%)\n",
            "  adding: Development_Dataset_15/training/masks/Weedelec_mais_2019-09-25T121057-126.png (deflated 31%)\n",
            "  adding: Development_Dataset_15/training/masks/Weedelec_mais_2019-09-25T121622-252.png (deflated 52%)\n",
            "  adding: Development_Dataset_15/training/masks/Bipbip_mais_im_04621.png (deflated 14%)\n",
            "  adding: Development_Dataset_15/training/masks/Roseau_haricot_0100_false.png (deflated 26%)\n",
            "  adding: Development_Dataset_15/training/masks/Bipbip_haricot_im_02651.png (deflated 16%)\n",
            "  adding: Development_Dataset_15/training/masks/Weedelec_haricot_2019-09-25T115049-164.png (deflated 35%)\n",
            "  adding: Development_Dataset_15/training/masks/Weedelec_mais_2019-09-25T122232-397.png (deflated 48%)\n",
            "  adding: Development_Dataset_15/training/masks/Roseau_mais_0088_false.png (deflated 16%)\n",
            "  adding: Development_Dataset_15/training/masks/Pead_mais_00643_i900.png (deflated 62%)\n",
            "  adding: Development_Dataset_15/training/masks/Pead_mais_00304_i900.png (deflated 17%)\n",
            "  adding: Development_Dataset_15/training/masks/Roseau_mais_0222_false.png (deflated 21%)\n",
            "  adding: Development_Dataset_15/training/masks/Bipbip_mais_im_07181.png (deflated 20%)\n",
            "  adding: Development_Dataset_15/training/masks/Bipbip_haricot_im_00651.png (deflated 19%)\n",
            "  adding: Development_Dataset_15/training/masks/Weedelec_mais_2019-09-25T122137-375.png (deflated 31%)\n",
            "  adding: Development_Dataset_15/training/masks/Pead_haricot_00372_i750.png (deflated 48%)\n",
            "  adding: Development_Dataset_15/training/masks/Pead_mais_00809_i900.png (deflated 23%)\n",
            "  adding: Development_Dataset_15/training/masks/Weedelec_haricot_2019-09-25T114741-92.png (deflated 31%)\n",
            "  adding: Development_Dataset_15/training/masks/Pead_mais_00431_i900.png (deflated 19%)\n",
            "  adding: Development_Dataset_15/training/masks/Pead_haricot_00522_i750.png (deflated 11%)\n",
            "  adding: Development_Dataset_15/training/masks/Bipbip_haricot_im_05461.png (deflated 30%)\n",
            "  adding: Development_Dataset_15/training/masks/Roseau_mais_0120_false.png (deflated 14%)\n",
            "  adding: Development_Dataset_15/training/masks/Bipbip_haricot_im_02171.png (deflated 24%)\n",
            "  adding: Development_Dataset_15/training/masks/Pead_haricot_00277_i750.png (deflated 18%)\n",
            "  adding: Development_Dataset_15/training/masks/Bipbip_haricot_im_03481.png (deflated 21%)\n",
            "  adding: Development_Dataset_15/training/masks/Weedelec_haricot_2019-09-25T114705-78.png (deflated 56%)\n",
            "  adding: Development_Dataset_15/training/masks/Roseau_mais_0208_false.png (deflated 16%)\n",
            "  adding: Development_Dataset_15/training/masks/Roseau_haricot_0280_false.png (deflated 4%)\n",
            "  adding: Development_Dataset_15/training/masks/Bipbip_mais_im_09641.png (deflated 19%)\n",
            "  adding: Development_Dataset_15/training/masks/Bipbip_mais_im_10231.png (deflated 18%)\n",
            "  adding: Development_Dataset_15/training/masks/Bipbip_haricot_im_05141.png (deflated 21%)\n",
            "  adding: Development_Dataset_15/training/masks/Weedelec_haricot_2019-09-25T120013-382.png (deflated 35%)\n",
            "  adding: Development_Dataset_15/training/masks/Pead_mais_00105_i900.png (deflated 27%)\n",
            "  adding: Development_Dataset_15/training/masks/Roseau_haricot_0272_false.png (deflated 3%)\n",
            "  adding: Development_Dataset_15/training/masks/Weedelec_mais_2019-09-25T121358-196.png (deflated 51%)\n",
            "  adding: Development_Dataset_15/training/masks/Bipbip_mais_im_09711.png (deflated 17%)\n",
            "  adding: Development_Dataset_15/training/masks/Weedelec_haricot_2019-09-25T115428-249.png (deflated 34%)\n",
            "  adding: Development_Dataset_15/training/masks/Pead_haricot_00233_i750.png (deflated 16%)\n",
            "  adding: Development_Dataset_15/training/masks/Roseau_haricot_0336_false.png (deflated 9%)\n",
            "  adding: Development_Dataset_15/training/masks/Roseau_mais_0010_false.png (deflated 11%)\n",
            "  adding: Development_Dataset_15/training/masks/Bipbip_mais_im_04501.png (deflated 16%)\n",
            "  adding: Development_Dataset_15/training/masks/Roseau_mais_0346_false.png (deflated 18%)\n",
            "  adding: Development_Dataset_15/training/masks/Bipbip_haricot_im_06851.png (deflated 26%)\n",
            "  adding: Development_Dataset_15/training/masks/Roseau_haricot_0130_false.png (deflated 3%)\n",
            "  adding: Development_Dataset_15/training/masks/Roseau_haricot_0240_false.png (deflated 3%)\n",
            "  adding: Development_Dataset_15/training/masks/Pead_haricot_00127_i750.png (deflated 14%)\n",
            "  adding: Development_Dataset_15/training/masks/Bipbip_haricot_im_07941.png (deflated 29%)\n",
            "  adding: Development_Dataset_15/training/masks/Bipbip_haricot_im_00801.png (deflated 25%)\n",
            "  adding: Development_Dataset_15/training/masks/Bipbip_haricot_im_04851.png (deflated 16%)\n",
            "  adding: Development_Dataset_15/training/masks/Bipbip_haricot_im_02231.png (deflated 17%)\n",
            "  adding: Development_Dataset_15/training/masks/Weedelec_haricot_2019-09-25T120054-398.png (deflated 37%)\n",
            "  adding: Development_Dataset_15/training/masks/Pead_haricot_00671_i750.png (deflated 15%)\n",
            "  adding: Development_Dataset_15/training/masks/Roseau_mais_0232_false.png (deflated 8%)\n",
            "  adding: Development_Dataset_15/training/masks/Weedelec_mais_2019-09-25T122315-414.png (deflated 49%)\n",
            "  adding: Development_Dataset_15/training/masks/Bipbip_haricot_im_04541.png (deflated 22%)\n",
            "  adding: Development_Dataset_15/training/masks/Weedelec_mais_2019-09-25T121821-298.png (deflated 47%)\n",
            "  adding: Development_Dataset_15/training/masks/Weedelec_haricot_2019-09-25T114757-98.png (deflated 29%)\n",
            "  adding: Development_Dataset_15/training/masks/Roseau_haricot_0158_false.png (deflated 4%)\n",
            "  adding: Development_Dataset_15/training/masks/Bipbip_haricot_im_03531.png (deflated 18%)\n",
            "  adding: Development_Dataset_15/training/masks/Weedelec_mais_2019-09-25T122149-380.png (deflated 41%)\n",
            "  adding: Development_Dataset_15/training/masks/Pead_haricot_00685_i750.png (deflated 16%)\n",
            "  adding: Development_Dataset_15/training/masks/Weedelec_haricot_2019-09-25T114752-96.png (deflated 36%)\n",
            "  adding: Development_Dataset_15/training/masks/Weedelec_haricot_2019-09-25T120212-428.png (deflated 35%)\n",
            "  adding: Development_Dataset_15/training/masks/Weedelec_haricot_2019-09-25T115130-180.png (deflated 23%)\n",
            "  adding: Development_Dataset_15/training/masks/Pead_mais_00312_i900.png (deflated 19%)\n",
            "  adding: Development_Dataset_15/training/masks/Roseau_haricot_0122_false.png (deflated 5%)\n",
            "  adding: Development_Dataset_15/training/masks/Pead_haricot_00171_i750.png (deflated 14%)\n",
            "  adding: Development_Dataset_15/training/masks/Bipbip_mais_im_02941.png (deflated 18%)\n",
            "  adding: Development_Dataset_15/training/masks/Weedelec_mais_2019-09-25T120909-84.png (deflated 52%)\n",
            "  adding: Development_Dataset_15/training/masks/Weedelec_haricot_2019-09-25T114532-42.png (deflated 40%)\n",
            "  adding: Development_Dataset_15/training/masks/Roseau_haricot_0160_false.png (deflated 8%)\n",
            "  adding: Development_Dataset_15/training/masks/Bipbip_mais_im_08511.png (deflated 11%)\n",
            "  adding: Development_Dataset_15/training/masks/Pead_mais_00291_i900.png (deflated 20%)\n",
            "  adding: Development_Dataset_15/training/masks/Pead_haricot_00649_i750.png (deflated 14%)\n",
            "  adding: Development_Dataset_15/training/masks/Bipbip_haricot_im_04791.png (deflated 20%)\n",
            "  adding: Development_Dataset_15/training/masks/Roseau_mais_0158_false.png (deflated 11%)\n",
            "  adding: Development_Dataset_15/training/masks/Roseau_haricot_0082_false.png (deflated 4%)\n",
            "  adding: Development_Dataset_15/training/masks/Roseau_mais_0302_false.png (deflated 14%)\n",
            "  adding: Development_Dataset_15/training/masks/Pead_mais_00764_i900.png (deflated 20%)\n",
            "  adding: Development_Dataset_15/training/masks/Roseau_haricot_0384_false.png (deflated 10%)\n",
            "  adding: Development_Dataset_15/training/masks/Pead_mais_00411_i900.png (deflated 18%)\n",
            "  adding: Development_Dataset_15/training/masks/Roseau_haricot_0152_false.png (deflated 7%)\n",
            "  adding: Development_Dataset_15/training/masks/Weedelec_haricot_2019-09-25T114921-130.png (deflated 28%)\n",
            "  adding: Development_Dataset_15/training/masks/Roseau_mais_0192_false.png (deflated 12%)\n",
            "  adding: Development_Dataset_15/training/masks/Pead_mais_00126_i900.png (deflated 28%)\n",
            "  adding: Development_Dataset_15/training/masks/Pead_haricot_00319_i750.png (deflated 15%)\n",
            "  adding: Development_Dataset_15/training/masks/Roseau_haricot_0148_false.png (deflated 7%)\n",
            "  adding: Development_Dataset_15/training/masks/Roseau_haricot_0062_false.png (deflated 12%)\n",
            "  adding: Development_Dataset_15/training/masks/Roseau_mais_0126_false.png (deflated 15%)\n",
            "  adding: Development_Dataset_15/training/masks/Roseau_haricot_0020_false.png (deflated 7%)\n",
            "  adding: Development_Dataset_15/training/masks/Roseau_mais_0170_false.png (deflated 15%)\n",
            "  adding: Development_Dataset_15/training/masks/Bipbip_mais_im_08381.png (deflated 12%)\n",
            "  adding: Development_Dataset_15/training/masks/Roseau_haricot_0308_false.png (deflated 6%)\n",
            "  adding: Development_Dataset_15/training/masks/Roseau_mais_0248_false.png (deflated 2%)\n",
            "  adding: Development_Dataset_15/training/masks/Roseau_mais_0062_false.png (deflated 13%)\n",
            "  adding: Development_Dataset_15/training/masks/Pead_mais_00249_i900.png (deflated 58%)\n",
            "  adding: Development_Dataset_15/training/masks/Pead_haricot_00724_i750.png (deflated 13%)\n",
            "  adding: Development_Dataset_15/training/masks/Weedelec_mais_2019-09-25T122144-378.png (deflated 33%)\n",
            "  adding: Development_Dataset_15/training/masks/Weedelec_mais_2019-09-25T120545-5.png (deflated 61%)\n",
            "  adding: Development_Dataset_15/training/masks/Pead_haricot_00701_i750.png (deflated 19%)\n",
            "  adding: Development_Dataset_15/training/masks/Roseau_mais_0304_false.png (deflated 15%)\n",
            "  adding: Development_Dataset_15/training/masks/Bipbip_haricot_im_03231.png (deflated 27%)\n",
            "  adding: Development_Dataset_15/training/masks/Weedelec_haricot_2019-09-25T120115-406.png (deflated 36%)\n",
            "  adding: Development_Dataset_15/training/masks/Bipbip_mais_im_03231.png (deflated 11%)\n",
            "  adding: Development_Dataset_15/training/masks/Roseau_mais_0258_false.png (deflated 9%)\n",
            "  adding: Development_Dataset_15/training/masks/Pead_haricot_00218_i750.png (deflated 14%)\n",
            "  adding: Development_Dataset_15/training/masks/Roseau_haricot_0284_false.png (deflated 5%)\n",
            "  adding: Development_Dataset_15/training/masks/Bipbip_mais_im_03871.png (deflated 23%)\n",
            "  adding: Development_Dataset_15/training/masks/Bipbip_mais_im_05801.png (deflated 17%)\n",
            "  adding: Development_Dataset_15/training/masks/Weedelec_haricot_2019-09-25T115836-344.png (deflated 30%)\n",
            "  adding: Development_Dataset_15/training/masks/Bipbip_mais_im_07991.png (deflated 13%)\n",
            "  adding: Development_Dataset_15/training/masks/Pead_haricot_00437_i750.png (deflated 10%)\n",
            "  adding: Development_Dataset_15/training/masks/Roseau_haricot_0124_false.png (deflated 5%)\n",
            "  adding: Development_Dataset_15/training/masks/Roseau_haricot_0344_false.png (deflated 8%)\n",
            "  adding: Development_Dataset_15/training/masks/Bipbip_mais_im_07271.png (deflated 14%)\n",
            "  adding: Development_Dataset_15/training/masks/Pead_mais_00727_i900.png (deflated 13%)\n",
            "  adding: Development_Dataset_15/training/masks/Roseau_haricot_0316_false.png (deflated 7%)\n",
            "  adding: Development_Dataset_15/training/masks/Roseau_haricot_0400_false.png (deflated 8%)\n",
            "  adding: Development_Dataset_15/training/masks/Roseau_haricot_0264_false.png (deflated 7%)\n",
            "  adding: Development_Dataset_15/training/masks/Roseau_mais_0166_false.png (deflated 9%)\n",
            "  adding: Development_Dataset_15/training/masks/Roseau_mais_0266_false.png (deflated 12%)\n",
            "  adding: Development_Dataset_15/training/masks/Pead_mais_00666_i900.png (deflated 19%)\n",
            "  adding: Development_Dataset_15/training/masks/Pead_haricot_00221_i750.png (deflated 14%)\n",
            "  adding: Development_Dataset_15/training/masks/Pead_mais_00101_i900.png (deflated 25%)\n",
            "  adding: Development_Dataset_15/training/masks/Bipbip_mais_im_03181.png (deflated 13%)\n",
            "  adding: Development_Dataset_15/training/masks/Roseau_mais_0168_false.png (deflated 10%)\n",
            "  adding: Development_Dataset_15/training/masks/Pead_mais_00265_i900.png (deflated 64%)\n",
            "  adding: Development_Dataset_15/training/masks/Pead_haricot_00711_i750.png (deflated 21%)\n",
            "  adding: Development_Dataset_15/training/masks/Weedelec_mais_2019-09-25T121437-211.png (deflated 71%)\n",
            "  adding: Development_Dataset_15/training/masks/Weedelec_mais_2019-09-25T121141-143.png (deflated 30%)\n",
            "  adding: Development_Dataset_15/training/masks/Pead_haricot_00538_i750.png (deflated 12%)\n",
            "  adding: Development_Dataset_15/training/masks/Roseau_mais_0180_false.png (deflated 14%)\n",
            "  adding: Development_Dataset_15/training/masks/Pead_haricot_00466_i750.png (deflated 11%)\n",
            "  adding: Development_Dataset_15/training/masks/Pead_haricot_00167_i750.png (deflated 15%)\n",
            "  adding: Development_Dataset_15/training/masks/Pead_mais_00371_i900.png (deflated 17%)\n",
            "  adding: Development_Dataset_15/training/masks/Roseau_haricot_0348_false.png (deflated 10%)\n",
            "  adding: Development_Dataset_15/training/masks/Weedelec_haricot_2019-09-25T115851-350.png (deflated 32%)\n",
            "  adding: Development_Dataset_15/training/masks/Bipbip_haricot_im_07591.png (deflated 35%)\n",
            "  adding: Development_Dataset_15/training/masks/Bipbip_haricot_im_05911.png (deflated 24%)\n",
            "  adding: Development_Dataset_15/training/masks/Bipbip_haricot_im_05411.png (deflated 21%)\n",
            "  adding: Development_Dataset_15/training/masks/Pead_mais_00500_i900.png (deflated 19%)\n",
            "  adding: Development_Dataset_15/training/masks/Pead_mais_00492_i900.png (deflated 28%)\n",
            "  adding: Development_Dataset_15/training/masks/Bipbip_mais_im_09921.png (deflated 16%)\n",
            "  adding: Development_Dataset_15/training/masks/Roseau_mais_0150_false.png (deflated 12%)\n",
            "  adding: Development_Dataset_15/training/masks/Roseau_mais_0018_false.png (deflated 16%)\n",
            "  adding: Development_Dataset_15/training/masks/Bipbip_mais_im_08121.png (deflated 10%)\n",
            "  adding: Development_Dataset_15/training/masks/Weedelec_mais_2019-09-25T120943-97.png (deflated 47%)\n",
            "  adding: Development_Dataset_15/training/masks/Weedelec_haricot_2019-09-25T114844-116.png (deflated 61%)\n",
            "  adding: Development_Dataset_15/training/masks/Bipbip_mais_im_03921.png (deflated 15%)\n",
            "  adding: Development_Dataset_15/training/masks/Roseau_haricot_0340_false.png (deflated 12%)\n",
            "  adding: Development_Dataset_15/training/masks/Weedelec_mais_2019-09-25T121154-148.png (deflated 25%)\n",
            "  adding: Development_Dataset_15/training/masks/Pead_mais_00471_i900.png (deflated 30%)\n",
            "  adding: Development_Dataset_15/training/masks/Bipbip_mais_im_07351.png (deflated 12%)\n",
            "  adding: Development_Dataset_15/training/masks/Weedelec_haricot_2019-09-25T114424-16.png (deflated 30%)\n",
            "  adding: Development_Dataset_15/training/masks/Roseau_haricot_0046_false.png (deflated 8%)\n",
            "  adding: Development_Dataset_15/training/masks/Roseau_mais_0298_false.png (deflated 19%)\n",
            "  adding: Development_Dataset_15/training/masks/Weedelec_haricot_2019-09-25T115454-259.png (deflated 33%)\n",
            "  adding: Development_Dataset_15/training/masks/Roseau_mais_0164_false.png (deflated 9%)\n",
            "  adding: Development_Dataset_15/training/masks/Weedelec_mais_2019-09-25T122041-353.png (deflated 68%)\n",
            "  adding: Development_Dataset_15/training/masks/Pead_mais_00118_i900.png (deflated 24%)\n",
            "  adding: Development_Dataset_15/training/masks/Weedelec_haricot_2019-09-25T115046-163.png (deflated 31%)\n",
            "  adding: Development_Dataset_15/training/masks/Bipbip_mais_im_05221.png (deflated 13%)\n",
            "  adding: Development_Dataset_15/training/masks/Weedelec_haricot_2019-09-25T115518-268.png (deflated 32%)\n",
            "  adding: Development_Dataset_15/training/masks/Bipbip_haricot_im_03041.png (deflated 17%)\n",
            "  adding: Development_Dataset_15/training/masks/Roseau_mais_0144_false.png (deflated 7%)\n",
            "  adding: Development_Dataset_15/training/masks/Roseau_haricot_0050_false.png (deflated 14%)\n",
            "  adding: Development_Dataset_15/training/masks/Weedelec_haricot_2019-09-25T115607-287.png (deflated 50%)\n",
            "  adding: Development_Dataset_15/training/masks/Bipbip_mais_im_07531.png (deflated 12%)\n",
            "  adding: Development_Dataset_15/training/masks/Weedelec_haricot_2019-09-25T114957-144.png (deflated 26%)\n",
            "  adding: Development_Dataset_15/training/masks/Roseau_haricot_0164_false.png (deflated 5%)\n",
            "  adding: Development_Dataset_15/training/masks/Bipbip_mais_im_03511.png (deflated 17%)\n",
            "  adding: Development_Dataset_15/training/masks/Pead_mais_00780_i900.png (deflated 26%)\n",
            "  adding: Development_Dataset_15/training/masks/Pead_haricot_00457_i750.png (deflated 11%)\n",
            "  adding: Development_Dataset_15/training/masks/Weedelec_haricot_2019-09-25T114527-40.png (deflated 40%)\n",
            "  adding: Development_Dataset_15/training/masks/Bipbip_mais_im_09231.png (deflated 24%)\n",
            "  adding: Development_Dataset_15/training/masks/Pead_mais_00093_i900.png (deflated 28%)\n",
            "  adding: Development_Dataset_15/training/masks/Pead_haricot_00547_i750.png (deflated 11%)\n",
            "  adding: Development_Dataset_15/training/masks/Weedelec_haricot_2019-09-25T114623-62.png (deflated 41%)\n",
            "  adding: Development_Dataset_15/training/masks/Weedelec_haricot_2019-09-25T115115-174.png (deflated 28%)\n",
            "  adding: Development_Dataset_15/training/masks/Roseau_mais_0140_false.png (deflated 12%)\n",
            "  adding: Development_Dataset_15/training/masks/Weedelec_mais_2019-09-25T122240-400.png (deflated 63%)\n",
            "  adding: Development_Dataset_15/training/masks/Bipbip_mais_im_03811.png (deflated 17%)\n",
            "  adding: Development_Dataset_15/training/masks/Bipbip_haricot_im_03961.png (deflated 24%)\n",
            "  adding: Development_Dataset_15/training/masks/Pead_mais_00333_i900.png (deflated 18%)\n",
            "  adding: Development_Dataset_15/training/masks/Bipbip_haricot_im_00391.png (deflated 20%)\n",
            "  adding: Development_Dataset_15/training/masks/Weedelec_haricot_2019-09-25T115751-327.png (deflated 44%)\n",
            "  adding: Development_Dataset_15/training/masks/Pead_haricot_00516_i750.png (deflated 9%)\n",
            "  adding: Development_Dataset_15/training/masks/Weedelec_haricot_2019-09-25T120138-415.png (deflated 38%)\n",
            "  adding: Development_Dataset_15/training/masks/Bipbip_mais_im_02731.png (deflated 14%)\n",
            "  adding: Development_Dataset_15/training/masks/Roseau_haricot_0420_false.png (deflated 13%)\n",
            "  adding: Development_Dataset_15/training/masks/Roseau_mais_0334_false.png (deflated 14%)\n",
            "  adding: Development_Dataset_15/training/masks/Pead_mais_00631_i900.png (deflated 37%)\n",
            "  adding: Development_Dataset_15/training/masks/Roseau_mais_0294_false.png (deflated 42%)\n",
            "  adding: Development_Dataset_15/training/masks/Pead_mais_00148_i900.png (deflated 22%)\n",
            "  adding: Development_Dataset_15/training/masks/Roseau_mais_0228_false.png (deflated 13%)\n",
            "  adding: Development_Dataset_15/training/masks/Roseau_haricot_0008_false.png (deflated 7%)\n",
            "  adding: Development_Dataset_15/training/masks/Roseau_haricot_0042_false.png (deflated 9%)\n",
            "  adding: Development_Dataset_15/training/masks/Pead_mais_00097_i900.png (deflated 25%)\n",
            "  adding: Development_Dataset_15/training/masks/Weedelec_haricot_2019-09-25T114639-68.png (deflated 47%)\n",
            "  adding: Development_Dataset_15/training/masks/Weedelec_mais_2019-09-25T121405-199.png (deflated 52%)\n",
            "  adding: Development_Dataset_15/training/masks/Weedelec_mais_2019-09-25T122212-389.png (deflated 59%)\n",
            "  adding: Development_Dataset_15/training/masks/Bipbip_mais_im_10301.png (deflated 26%)\n",
            "  adding: Development_Dataset_15/training/masks/Bipbip_haricot_im_06041.png (deflated 26%)\n",
            "  adding: Development_Dataset_15/training/masks/Bipbip_mais_im_03691.png (deflated 15%)\n",
            "  adding: Development_Dataset_15/training/masks/Weedelec_mais_2019-09-25T121544-237.png (deflated 42%)\n",
            "  adding: Development_Dataset_15/training/masks/Roseau_mais_0110_false.png (deflated 27%)\n",
            "  adding: Development_Dataset_15/training/masks/Bipbip_mais_im_06961.png (deflated 25%)\n",
            "  adding: Development_Dataset_15/training/masks/Weedelec_mais_2019-09-25T120600-11.png (deflated 54%)\n",
            "  adding: Development_Dataset_15/training/masks/Bipbip_haricot_im_03291.png (deflated 21%)\n",
            "  adding: Development_Dataset_15/training/masks/Bipbip_mais_im_08581.png (deflated 11%)\n",
            "  adding: Development_Dataset_15/training/masks/Bipbip_mais_im_07451.png (deflated 19%)\n",
            "  adding: Development_Dataset_15/training/masks/Roseau_mais_0212_false.png (deflated 21%)\n",
            "  adding: Development_Dataset_15/training/masks/Weedelec_mais_2019-09-25T121906-316.png (deflated 40%)\n",
            "  adding: Development_Dataset_15/training/masks/Bipbip_mais_im_03121.png (deflated 19%)\n",
            "  adding: Development_Dataset_15/training/masks/Pead_mais_00699_i900.png (deflated 15%)\n",
            "  adding: Development_Dataset_15/training/masks/Pead_mais_00801_i900.png (deflated 22%)\n",
            "  adding: Development_Dataset_15/training/masks/Bipbip_mais_im_03391.png (deflated 10%)\n",
            "  adding: Development_Dataset_15/training/masks/Pead_haricot_00079_i750.png (deflated 16%)\n",
            "  adding: Development_Dataset_15/training/masks/Weedelec_mais_2019-09-25T121630-255.png (deflated 33%)\n",
            "  adding: Development_Dataset_15/training/masks/Weedelec_mais_2019-09-25T120710-38.png (deflated 37%)\n",
            "  adding: Development_Dataset_15/training/masks/Roseau_mais_0182_false.png (deflated 11%)\n",
            "  adding: Development_Dataset_15/training/masks/Roseau_haricot_0204_false.png (deflated 83%)\n",
            "  adding: Development_Dataset_15/training/masks/Weedelec_mais_2019-09-25T120933-93.png (deflated 45%)\n",
            "  adding: Development_Dataset_15/training/masks/Weedelec_mais_2019-09-25T121220-158.png (deflated 39%)\n",
            "  adding: Development_Dataset_15/training/masks/Pead_mais_00475_i900.png (deflated 31%)\n",
            "  adding: Development_Dataset_15/training/masks/Pead_haricot_00359_i750.png (deflated 16%)\n",
            "  adding: Development_Dataset_15/training/masks/Pead_mais_00169_i900.png (deflated 23%)\n",
            "  adding: Development_Dataset_15/training/masks/Bipbip_haricot_im_06531.png (deflated 30%)\n",
            "  adding: Development_Dataset_15/training/masks/Weedelec_haricot_2019-09-25T115917-360.png (deflated 26%)\n",
            "  adding: Development_Dataset_15/training/masks/Bipbip_mais_im_01871.png (deflated 36%)\n",
            "  adding: Development_Dataset_15/training/masks/Weedelec_haricot_2019-09-25T115710-311.png (deflated 31%)\n",
            "  adding: Development_Dataset_15/training/masks/Pead_mais_00186_i900.png (deflated 18%)\n",
            "  adding: Development_Dataset_15/training/masks/Bipbip_haricot_im_05041.png (deflated 22%)\n",
            "  adding: Development_Dataset_15/training/masks/Roseau_haricot_0118_false.png (deflated 5%)\n",
            "  adding: Development_Dataset_15/training/masks/Weedelec_mais_2019-09-25T120623-20.png (deflated 39%)\n",
            "  adding: Development_Dataset_15/training/masks/Weedelec_haricot_2019-09-25T115649-303.png (deflated 29%)\n",
            "  adding: Development_Dataset_15/training/masks/Roseau_mais_0092_false.png (deflated 13%)\n",
            "  adding: Development_Dataset_15/training/masks/Pead_mais_00564_i900.png (deflated 24%)\n",
            "  adding: Development_Dataset_15/training/masks/Weedelec_haricot_2019-09-25T114644-70.png (deflated 42%)\n",
            "  adding: Development_Dataset_15/training/masks/Roseau_haricot_0172_false.png (deflated 3%)\n",
            "  adding: Development_Dataset_15/training/masks/Bipbip_haricot_im_01091.png (deflated 21%)\n",
            "  adding: Development_Dataset_15/training/masks/Bipbip_mais_im_05691.png (deflated 14%)\n",
            "  adding: Development_Dataset_15/training/masks/Pead_mais_00210_i900.png (deflated 21%)\n",
            "  adding: Development_Dataset_15/training/masks/Weedelec_mais_2019-09-25T121932-326.png (deflated 32%)\n",
            "  adding: Development_Dataset_15/training/masks/Weedelec_mais_2019-09-25T121724-276.png (deflated 38%)\n",
            "  adding: Development_Dataset_15/training/masks/Weedelec_mais_2019-09-25T121609-247.png (deflated 39%)\n",
            "  adding: Development_Dataset_15/training/masks/Pead_haricot_00069_i750.png (deflated 18%)\n",
            "  adding: Development_Dataset_15/training/masks/Weedelec_haricot_2019-09-25T115135-182.png (deflated 22%)\n",
            "  adding: Development_Dataset_15/training/masks/Pead_mais_00287_i900.png (deflated 19%)\n",
            "  adding: Development_Dataset_15/training/masks/Pead_mais_00050_i900.png (deflated 22%)\n",
            "  adding: Development_Dataset_15/training/masks/Pead_mais_00070_i900.png (deflated 23%)\n",
            "  adding: Development_Dataset_15/training/masks/Weedelec_mais_2019-09-25T120820-65.png (deflated 46%)\n",
            "  adding: Development_Dataset_15/training/masks/Weedelec_haricot_2019-09-25T114434-20.png (deflated 34%)\n",
            "  adding: Development_Dataset_15/training/masks/Pead_mais_00792_i900.png (deflated 26%)\n",
            "  adding: Development_Dataset_15/training/masks/Bipbip_haricot_im_06241.png (deflated 24%)\n",
            "  adding: Development_Dataset_15/training/masks/Weedelec_mais_2019-09-25T120728-45.png (deflated 33%)\n",
            "  adding: Development_Dataset_15/training/masks/Pead_haricot_00103_i750.png (deflated 18%)\n",
            "  adding: Development_Dataset_15/training/masks/Bipbip_haricot_im_01821.png (deflated 30%)\n",
            "  adding: Development_Dataset_15/training/masks/Pead_haricot_00249_i750.png (deflated 14%)\n",
            "  adding: Development_Dataset_15/training/masks/Pead_haricot_00362_i750.png (deflated 16%)\n",
            "  adding: Development_Dataset_15/training/masks/Roseau_haricot_0092_false.png (deflated 4%)\n",
            "  adding: Development_Dataset_15/training/masks/Pead_haricot_00440_i750.png (deflated 11%)\n",
            "  adding: Development_Dataset_15/training/masks/Pead_haricot_00525_i750.png (deflated 12%)\n",
            "  adding: Development_Dataset_15/training/masks/Roseau_haricot_0318_false.png (deflated 8%)\n",
            "  adding: Development_Dataset_15/training/masks/Roseau_haricot_0248_false.png (deflated 4%)\n",
            "  adding: Development_Dataset_15/training/masks/Pead_haricot_00215_i750.png (deflated 14%)\n",
            "  adding: Development_Dataset_15/training/masks/Pead_haricot_00730_i750.png (deflated 17%)\n",
            "  adding: Development_Dataset_15/training/masks/Bipbip_haricot_im_07781.png (deflated 23%)\n",
            "  adding: Development_Dataset_15/training/masks/Bipbip_haricot_im_05481.png (deflated 25%)\n",
            "  adding: Development_Dataset_15/training/masks/Weedelec_haricot_2019-09-25T114358-6.png (deflated 36%)\n",
            "  adding: Development_Dataset_15/training/masks/Weedelec_mais_2019-09-25T121319-181.png (deflated 32%)\n",
            "  adding: Development_Dataset_15/training/masks/Bipbip_mais_im_03581.png (deflated 9%)\n",
            "  adding: Development_Dataset_15/training/masks/Pead_mais_00257_i900.png (deflated 63%)\n",
            "  adding: Development_Dataset_15/training/masks/Pead_haricot_00608_i750.png (deflated 16%)\n",
            "  adding: Development_Dataset_15/training/masks/Roseau_haricot_0180_false.png (deflated 3%)\n",
            "  adding: Development_Dataset_15/training/masks/Bipbip_haricot_im_05571.png (deflated 31%)\n",
            "  adding: Development_Dataset_15/training/masks/Weedelec_haricot_2019-09-25T115153-189.png (deflated 26%)\n",
            "  adding: Development_Dataset_15/training/masks/Pead_haricot_00294_i750.png (deflated 15%)\n",
            "  adding: Development_Dataset_15/training/masks/Pead_haricot_00622_i750.png (deflated 28%)\n",
            "  adding: Development_Dataset_15/training/masks/Weedelec_haricot_2019-09-25T114913-127.png (deflated 29%)\n",
            "  adding: Development_Dataset_15/training/masks/Pead_haricot_00153_i750.png (deflated 15%)\n",
            "  adding: Development_Dataset_15/training/masks/Roseau_mais_0096_false.png (deflated 12%)\n",
            "  adding: Development_Dataset_15/training/masks/Roseau_mais_0368_false.png (deflated 21%)\n",
            "  adding: Development_Dataset_15/training/masks/Weedelec_haricot_2019-09-25T115057-167.png (deflated 30%)\n",
            "  adding: Development_Dataset_15/training/masks/Bipbip_mais_im_04781.png (deflated 11%)\n",
            "  adding: Development_Dataset_15/training/masks/Weedelec_haricot_2019-09-25T115952-374.png (deflated 34%)\n",
            "  adding: Development_Dataset_15/training/masks/Weedelec_haricot_2019-09-25T114445-24.png (deflated 49%)\n",
            "  adding: Development_Dataset_15/training/masks/Bipbip_haricot_im_07861.png (deflated 17%)\n",
            "  adding: Development_Dataset_15/training/masks/Roseau_mais_0306_false.png (deflated 12%)\n",
            "  adding: Development_Dataset_15/training/masks/Roseau_mais_0132_false.png (deflated 15%)\n",
            "  adding: Development_Dataset_15/training/masks/Bipbip_haricot_im_05531.png (deflated 24%)\n",
            "  adding: Development_Dataset_15/training/masks/Weedelec_haricot_2019-09-25T115059-168.png (deflated 31%)\n",
            "  adding: Development_Dataset_15/training/masks/Weedelec_haricot_2019-09-25T114455-28.png (deflated 45%)\n",
            "  adding: Development_Dataset_15/training/masks/Pead_mais_00278_i900.png (deflated 16%)\n",
            "  adding: Development_Dataset_15/training/masks/Pead_mais_00443_i900.png (deflated 42%)\n",
            "  adding: Development_Dataset_15/training/masks/Bipbip_haricot_im_04031.png (deflated 27%)\n",
            "  adding: Development_Dataset_15/training/masks/Roseau_mais_0136_false.png (deflated 12%)\n",
            "  adding: Development_Dataset_15/training/masks/Roseau_haricot_0104_false.png (deflated 51%)\n",
            "  adding: Development_Dataset_15/training/masks/Bipbip_mais_im_08731.png (deflated 13%)\n",
            "  adding: Development_Dataset_15/training/masks/Pead_mais_00455_i900.png (deflated 61%)\n",
            "  adding: Development_Dataset_15/training/masks/Bipbip_haricot_im_00511.png (deflated 21%)\n",
            "  adding: Development_Dataset_15/training/masks/Weedelec_haricot_2019-09-25T114403-8.png (deflated 25%)\n",
            "  adding: Development_Dataset_15/training/masks/Roseau_haricot_0096_false.png (deflated 5%)\n",
            "  adding: Development_Dataset_15/training/masks/Weedelec_haricot_2019-09-25T115420-246.png (deflated 29%)\n",
            "  adding: Development_Dataset_15/training/masks/Pead_haricot_00665_i750.png (deflated 16%)\n",
            "  adding: Development_Dataset_15/training/masks/Roseau_haricot_0114_false.png (deflated 5%)\n",
            "  adding: Development_Dataset_15/training/masks/Roseau_haricot_0024_false.png (deflated 9%)\n",
            "  adding: Development_Dataset_15/training/masks/Roseau_haricot_0078_false.png (deflated 5%)\n",
            "  adding: Development_Dataset_15/training/masks/Bipbip_haricot_im_04301.png (deflated 32%)\n",
            "  adding: Development_Dataset_15/training/masks/Bipbip_mais_im_02511.png (deflated 21%)\n",
            "  adding: Development_Dataset_15/training/masks/Roseau_mais_0236_false.png (deflated 10%)\n",
            "  adding: Development_Dataset_15/training/masks/Bipbip_haricot_im_04741.png (deflated 24%)\n",
            "  adding: Development_Dataset_15/training/masks/Roseau_haricot_0410_false.png (deflated 8%)\n",
            "  adding: Development_Dataset_15/training/masks/Roseau_mais_0278_false.png (deflated 13%)\n",
            "  adding: Development_Dataset_15/training/masks/Pead_haricot_00712_i750.png (deflated 18%)\n",
            "  adding: Development_Dataset_15/training/masks/Pead_mais_00658_i900.png (deflated 14%)\n",
            "  adding: Development_Dataset_15/training/masks/Pead_haricot_00300_i750.png (deflated 15%)\n",
            "  adding: Development_Dataset_15/training/masks/Bipbip_haricot_im_03461.png (deflated 19%)\n",
            "  adding: Development_Dataset_15/training/masks/Bipbip_mais_im_08261.png (deflated 20%)\n",
            "  adding: Development_Dataset_15/training/masks/Pead_mais_00233_i900.png (deflated 24%)\n",
            "  adding: Development_Dataset_15/training/masks/Roseau_haricot_0016_false.png (deflated 10%)\n",
            "  adding: Development_Dataset_15/training/masks/Weedelec_haricot_2019-09-25T120036-391.png (deflated 37%)\n",
            "  adding: Development_Dataset_15/training/masks/Pead_mais_00580_i900.png (deflated 15%)\n",
            "  adding: Development_Dataset_15/training/masks/Roseau_haricot_0088_false.png (deflated 5%)\n",
            "  adding: Development_Dataset_15/training/masks/Weedelec_mais_2019-09-25T120954-101.png (deflated 78%)\n",
            "  adding: Development_Dataset_15/training/masks/Bipbip_mais_im_01751.png (deflated 14%)\n",
            "  adding: Development_Dataset_15/training/masks/Roseau_haricot_0026_false.png (deflated 8%)\n",
            "  adding: Development_Dataset_15/training/masks/Weedelec_mais_2019-09-25T121721-275.png (deflated 38%)\n",
            "  adding: Development_Dataset_15/training/masks/Bipbip_haricot_im_01451.png (deflated 18%)\n",
            "  adding: Development_Dataset_15/training/masks/Pead_mais_00451_i900.png (deflated 57%)\n",
            "  adding: Development_Dataset_15/training/masks/Pead_haricot_00006_i750.png (deflated 15%)\n",
            "  adding: Development_Dataset_15/training/masks/Pead_haricot_00652_i750.png (deflated 17%)\n",
            "  adding: Development_Dataset_15/training/masks/Roseau_haricot_0268_false.png (deflated 6%)\n",
            "  adding: Development_Dataset_15/training/masks/Weedelec_haricot_2019-09-25T115404-240.png (deflated 35%)\n",
            "  adding: Development_Dataset_15/training/masks/Pead_haricot_00350_i750.png (deflated 15%)\n",
            "  adding: Development_Dataset_15/training/masks/Bipbip_mais_im_07041.png (deflated 12%)\n",
            "  adding: Development_Dataset_15/training/masks/Weedelec_haricot_2019-09-25T120235-437.png (deflated 39%)\n",
            "  adding: Development_Dataset_15/training/masks/Bipbip_haricot_im_03751.png (deflated 19%)\n",
            "  adding: Development_Dataset_15/training/masks/Pead_mais_00447_i900.png (deflated 58%)\n",
            "  adding: Development_Dataset_15/training/masks/Pead_haricot_00688_i750.png (deflated 15%)\n",
            "  adding: Development_Dataset_15/training/masks/Weedelec_mais_2019-09-25T121301-174.png (deflated 29%)\n",
            "  adding: Development_Dataset_15/training/masks/Pead_haricot_00721_i750.png (deflated 14%)\n",
            "  adding: Development_Dataset_15/training/masks/Bipbip_haricot_im_00451.png (deflated 19%)\n",
            "  adding: Development_Dataset_15/training/masks/Weedelec_haricot_2019-09-25T120024-386.png (deflated 47%)\n",
            "  adding: Development_Dataset_15/training/masks/Bipbip_mais_im_05031.png (deflated 18%)\n",
            "  adding: Development_Dataset_15/training/masks/Roseau_haricot_0388_false.png (deflated 11%)\n",
            "  adding: Development_Dataset_15/training/masks/Weedelec_haricot_2019-09-25T115843-347.png (deflated 31%)\n",
            "  adding: Development_Dataset_15/training/masks/Roseau_haricot_0260_false.png (deflated 5%)\n",
            "  adding: Development_Dataset_15/training/masks/Weedelec_haricot_2019-09-25T115239-207.png (deflated 30%)\n",
            "  adding: Development_Dataset_15/training/masks/Pead_mais_00496_i900.png (deflated 25%)\n",
            "  adding: Development_Dataset_15/training/masks/Weedelec_haricot_2019-09-25T120005-379.png (deflated 35%)\n",
            "  adding: Development_Dataset_15/training/masks/Weedelec_mais_2019-09-25T121334-187.png (deflated 33%)\n",
            "  adding: Development_Dataset_15/training/masks/Pead_mais_00535_i900.png (deflated 22%)\n",
            "  adding: Development_Dataset_15/training/masks/Roseau_haricot_0412_false.png (deflated 9%)\n",
            "  adding: Development_Dataset_15/training/masks/Bipbip_haricot_im_03111.png (deflated 20%)\n",
            "  adding: Development_Dataset_15/training/masks/Roseau_mais_0124_false.png (deflated 8%)\n",
            "  adding: Development_Dataset_15/training/masks/Roseau_mais_0280_false.png (deflated 8%)\n",
            "  adding: Development_Dataset_15/training/masks/Roseau_mais_0054_false.png (deflated 15%)\n",
            "  adding: Development_Dataset_15/training/masks/Weedelec_haricot_2019-09-25T114655-74.png (deflated 45%)\n",
            "  adding: Development_Dataset_15/training/masks/Roseau_mais_0138_false.png (deflated 7%)\n",
            "  adding: Development_Dataset_15/training/masks/Roseau_haricot_0244_false.png (deflated 5%)\n",
            "  adding: Development_Dataset_15/training/masks/Weedelec_mais_2019-09-25T120754-55.png (deflated 32%)\n",
            "  adding: Development_Dataset_15/training/masks/Weedelec_haricot_2019-09-25T115036-159.png (deflated 28%)\n",
            "  adding: Development_Dataset_15/training/masks/Bipbip_haricot_im_01631.png (deflated 27%)\n",
            "  adding: Development_Dataset_15/training/masks/Roseau_mais_0344_false.png (deflated 20%)\n",
            "  adding: Development_Dataset_15/training/masks/Roseau_mais_0044_false.png (deflated 13%)\n",
            "  adding: Development_Dataset_15/training/masks/Weedelec_haricot_2019-09-25T115741-323.png (deflated 35%)\n",
            "  adding: Development_Dataset_15/training/masks/Bipbip_mais_im_02281.png (deflated 36%)\n",
            "  adding: Development_Dataset_15/training/masks/Pead_haricot_00602_i750.png (deflated 13%)\n",
            "  adding: Development_Dataset_15/training/masks/Bipbip_haricot_im_06481.png (deflated 19%)\n",
            "  adding: Development_Dataset_15/training/masks/Roseau_haricot_0288_false.png (deflated 4%)\n",
            "  adding: Development_Dataset_15/training/masks/Pead_haricot_00586_i750.png (deflated 15%)\n",
            "  adding: Development_Dataset_15/training/masks/Roseau_mais_0090_false.png (deflated 16%)\n",
            "  adding: Development_Dataset_15/training/masks/Roseau_mais_0240_false.png (deflated 9%)\n",
            "  adding: Development_Dataset_15/training/masks/Bipbip_haricot_im_08141.png (deflated 22%)\n",
            "  adding: Development_Dataset_15/training/masks/Weedelec_haricot_2019-09-25T115639-299.png (deflated 33%)\n",
            "  adding: Development_Dataset_15/training/masks/Roseau_mais_0336_false.png (deflated 24%)\n",
            "  adding: Development_Dataset_15/training/masks/Weedelec_mais_2019-09-25T122157-383.png (deflated 53%)\n",
            "  adding: Development_Dataset_15/training/masks/Pead_mais_00687_i900.png (deflated 18%)\n",
            "  adding: Development_Dataset_15/training/masks/Bipbip_mais_im_01601.png (deflated 29%)\n",
            "  adding: Development_Dataset_15/training/masks/Weedelec_mais_2019-09-25T121541-236.png (deflated 68%)\n",
            "  adding: Development_Dataset_15/training/masks/Roseau_haricot_0054_false.png (deflated 11%)\n",
            "  adding: Development_Dataset_15/training/masks/Roseau_haricot_0408_false.png (deflated 8%)\n",
            "  adding: Development_Dataset_15/training/masks/Roseau_haricot_0126_false.png (deflated 8%)\n",
            "  adding: Development_Dataset_15/training/masks/Pead_haricot_00496_i750.png (deflated 11%)\n",
            "  adding: Development_Dataset_15/training/masks/Pead_haricot_00454_i750.png (deflated 10%)\n",
            "  adding: Development_Dataset_15/training/masks/Weedelec_mais_2019-09-25T121924-323.png (deflated 42%)\n",
            "  adding: Development_Dataset_15/training/masks/Bipbip_mais_im_07831.png (deflated 14%)\n",
            "  adding: Development_Dataset_15/training/masks/Bipbip_haricot_im_05231.png (deflated 21%)\n",
            "  adding: Development_Dataset_15/training/masks/Bipbip_haricot_im_07131.png (deflated 23%)\n",
            "  adding: Development_Dataset_15/training/masks/Pead_haricot_00668_i750.png (deflated 17%)\n",
            "  adding: Development_Dataset_15/training/masks/Weedelec_mais_2019-09-25T121955-335.png (deflated 80%)\n",
            "  adding: Development_Dataset_15/training/masks/Roseau_mais_0358_false.png (deflated 26%)\n",
            "  adding: Development_Dataset_15/training/masks/Roseau_mais_0230_false.png (deflated 7%)\n",
            "  adding: Development_Dataset_15/training/masks/Weedelec_mais_2019-09-25T121706-269.png (deflated 43%)\n",
            "  adding: Development_Dataset_15/training/masks/Bipbip_mais_im_08061.png (deflated 16%)\n",
            "  adding: Development_Dataset_15/training/masks/Roseau_haricot_0022_false.png (deflated 8%)\n",
            "  adding: Development_Dataset_15/training/masks/Bipbip_mais_im_04671.png (deflated 18%)\n",
            "  adding: Development_Dataset_15/training/masks/Weedelec_haricot_2019-09-25T120125-410.png (deflated 40%)\n",
            "  adding: Development_Dataset_15/training/masks/Roseau_mais_0318_false.png (deflated 6%)\n",
            "  adding: Development_Dataset_15/training/masks/Pead_haricot_00707_i750.png (deflated 20%)\n",
            "  adding: Development_Dataset_15/training/masks/Pead_haricot_00110_i750.png (deflated 18%)\n",
            "  adding: Development_Dataset_15/training/masks/Pead_mais_00283_i900.png (deflated 16%)\n",
            "  adding: Development_Dataset_15/training/masks/Bipbip_mais_im_10081.png (deflated 19%)\n",
            "  adding: Development_Dataset_15/training/masks/Bipbip_haricot_im_06341.png (deflated 25%)\n",
            "  adding: Development_Dataset_15/training/masks/Pead_haricot_00273_i750.png (deflated 18%)\n",
            "  adding: Development_Dataset_15/training/masks/Pead_mais_00662_i900.png (deflated 13%)\n",
            "  adding: Development_Dataset_15/training/masks/Roseau_haricot_0352_false.png (deflated 6%)\n",
            "  adding: Development_Dataset_15/training/masks/Pead_mais_00054_i900.png (deflated 21%)\n",
            "  adding: Development_Dataset_15/training/masks/Pead_mais_00748_i900.png (deflated 19%)\n",
            "  adding: Development_Dataset_15/training/masks/Bipbip_haricot_im_01911.png (deflated 19%)\n",
            "  adding: Development_Dataset_15/training/masks/Weedelec_mais_2019-09-25T121413-202.png (deflated 48%)\n",
            "  adding: Development_Dataset_15/training/masks/Weedelec_mais_2019-09-25T122016-343.png (deflated 81%)\n",
            "  adding: Development_Dataset_15/training/masks/Weedelec_haricot_2019-09-25T120202-424.png (deflated 35%)\n",
            "  adding: Development_Dataset_15/training/masks/Weedelec_mais_2019-09-25T121149-146.png (deflated 32%)\n",
            "  adding: Development_Dataset_15/training/masks/Pead_mais_00739_i900.png (deflated 24%)\n",
            "  adding: Development_Dataset_15/training/masks/Weedelec_mais_2019-09-25T121559-243.png (deflated 34%)\n",
            "  adding: Development_Dataset_15/training/masks/Pead_mais_00139_i900.png (deflated 21%)\n",
            "  adding: Development_Dataset_15/training/masks/Weedelec_mais_2019-09-25T121917-320.png (deflated 51%)\n",
            "  adding: Development_Dataset_15/training/masks/Bipbip_mais_im_10161.png (deflated 22%)\n",
            "  adding: Development_Dataset_15/training/masks/Weedelec_mais_2019-09-25T122054-358.png (deflated 41%)\n",
            "  adding: Development_Dataset_15/training/masks/Weedelec_mais_2019-09-25T121945-331.png (deflated 93%)\n",
            "  adding: Development_Dataset_15/training/masks/Weedelec_mais_2019-09-25T120746-52.png (deflated 28%)\n",
            "  adding: Development_Dataset_15/training/masks/Bipbip_haricot_im_03571.png (deflated 16%)\n",
            "  adding: Development_Dataset_15/training/masks/Roseau_mais_0178_false.png (deflated 18%)\n",
            "  adding: Development_Dataset_15/training/masks/Bipbip_mais_im_10691.png (deflated 12%)\n",
            "  adding: Development_Dataset_15/training/masks/Weedelec_mais_2019-09-25T122059-360.png (deflated 46%)\n",
            "  adding: Development_Dataset_15/training/masks/Roseau_mais_0032_false.png (deflated 16%)\n",
            "  adding: Development_Dataset_15/training/masks/Roseau_mais_0330_false.png (deflated 20%)\n",
            "  adding: Development_Dataset_15/training/masks/Pead_mais_00552_i900.png (deflated 18%)\n",
            "  adding: Development_Dataset_15/training/masks/Pead_haricot_00332_i750.png (deflated 14%)\n",
            "  adding: Development_Dataset_15/training/masks/Bipbip_mais_im_01391.png (deflated 21%)\n",
            "  adding: Development_Dataset_15/training/masks/Bipbip_haricot_im_07481.png (deflated 27%)\n",
            "  adding: Development_Dataset_15/training/masks/Weedelec_mais_2019-09-25T121503-221.png (deflated 87%)\n",
            "  adding: Development_Dataset_15/training/masks/Bipbip_haricot_im_06801.png (deflated 29%)\n",
            "  adding: Development_Dataset_15/training/masks/Weedelec_haricot_2019-09-25T120105-402.png (deflated 27%)\n",
            "  adding: Development_Dataset_15/training/masks/Bipbip_mais_im_01461.png (deflated 20%)\n",
            "  adding: Development_Dataset_15/training/masks/Bipbip_mais_im_09501.png (deflated 17%)\n",
            "  adding: Development_Dataset_15/training/masks/Pead_mais_00038_i900.png (deflated 21%)\n",
            "  adding: Development_Dataset_15/training/masks/Roseau_mais_0064_false.png (deflated 11%)\n",
            "  adding: Development_Dataset_15/training/masks/Bipbip_mais_im_02691.png (deflated 12%)\n",
            "  adding: Development_Dataset_15/training/masks/Bipbip_mais_im_06541.png (deflated 19%)\n",
            "  adding: Development_Dataset_15/training/masks/Roseau_haricot_0120_false.png (deflated 6%)\n",
            "  adding: Development_Dataset_15/training/masks/Roseau_haricot_0304_false.png (deflated 3%)\n",
            "  adding: Development_Dataset_15/training/masks/Bipbip_haricot_im_06941.png (deflated 25%)\n",
            "  adding: Development_Dataset_15/training/masks/Bipbip_haricot_im_07071.png (deflated 37%)\n",
            "  adding: Development_Dataset_15/training/masks/Pead_mais_00788_i900.png (deflated 25%)\n",
            "  adding: Development_Dataset_15/training/masks/Bipbip_mais_im_01561.png (deflated 21%)\n",
            "  adding: Development_Dataset_15/training/masks/Roseau_mais_0352_false.png (deflated 30%)\n",
            "  adding: Development_Dataset_15/training/masks/Bipbip_mais_im_05451.png (deflated 27%)\n",
            "  adding: Development_Dataset_15/training/masks/Pead_mais_00062_i900.png (deflated 26%)\n",
            "  adding: Development_Dataset_15/training/masks/Bipbip_haricot_im_03281.png (deflated 28%)\n",
            "  adding: Development_Dataset_15/training/masks/Pead_mais_00515_i900.png (deflated 19%)\n",
            "  adding: Development_Dataset_15/training/masks/Roseau_mais_0260_false.png (deflated 11%)\n",
            "  adding: Development_Dataset_15/training/masks/Roseau_mais_0194_false.png (deflated 75%)\n",
            "  adding: Development_Dataset_15/training/masks/Bipbip_mais_im_06071.png (deflated 15%)\n",
            "  adding: Development_Dataset_15/training/masks/Weedelec_haricot_2019-09-25T114603-54.png (deflated 37%)\n",
            "  adding: Development_Dataset_15/training/masks/Pead_mais_00805_i900.png (deflated 26%)\n",
            "  adding: Development_Dataset_15/training/masks/Roseau_haricot_0176_false.png (deflated 5%)\n",
            "  adding: Development_Dataset_15/training/masks/Pead_haricot_00172_i750.png (deflated 17%)\n",
            "  adding: Development_Dataset_15/training/masks/Bipbip_mais_im_06141.png (deflated 20%)\n",
            "  adding: Development_Dataset_15/training/masks/Bipbip_mais_im_08661.png (deflated 10%)\n",
            "  adding: Development_Dataset_15/training/masks/Roseau_mais_0356_false.png (deflated 31%)\n",
            "  adding: Development_Dataset_15/training/masks/Roseau_haricot_0236_false.png (deflated 4%)\n",
            "  adding: Development_Dataset_15/training/masks/Bipbip_haricot_im_01731.png (deflated 34%)\n",
            "  adding: Development_Dataset_15/training/masks/Weedelec_mais_2019-09-25T121230-162.png (deflated 28%)\n",
            "  adding: Development_Dataset_15/training/masks/Roseau_haricot_0360_false.png (deflated 10%)\n",
            "  adding: Development_Dataset_15/training/masks/Pead_haricot_00544_i750.png (deflated 12%)\n",
            "  adding: Development_Dataset_15/training/masks/Weedelec_mais_2019-09-25T120828-68.png (deflated 48%)\n",
            "  adding: Development_Dataset_15/training/masks/Weedelec_mais_2019-09-25T122033-350.png (deflated 35%)\n",
            "  adding: Development_Dataset_15/training/masks/Roseau_mais_0072_false.png (deflated 4%)\n",
            "  adding: Development_Dataset_15/training/masks/Weedelec_mais_2019-09-25T120859-80.png (deflated 39%)\n",
            "  adding: Development_Dataset_15/training/masks/Weedelec_mais_2019-09-25T122204-386.png (deflated 49%)\n",
            "  adding: Development_Dataset_15/training/masks/Bipbip_haricot_im_06401.png (deflated 23%)\n",
            "  adding: Development_Dataset_15/training/masks/Pead_mais_00367_i900.png (deflated 20%)\n",
            "  adding: Development_Dataset_15/training/masks/Weedelec_mais_2019-09-25T122005-339.png (deflated 95%)\n",
            "  adding: Development_Dataset_15/training/masks/Weedelec_haricot_2019-09-25T114506-32.png (deflated 38%)\n",
            "  adding: Development_Dataset_15/training/masks/Pead_haricot_00589_i750.png (deflated 14%)\n",
            "  adding: Development_Dataset_15/training/masks/Bipbip_haricot_im_05991.png (deflated 24%)\n",
            "  adding: Development_Dataset_15/training/masks/Pead_mais_00165_i900.png (deflated 21%)\n",
            "  adding: Development_Dataset_15/training/masks/Pead_haricot_00310_i750.png (deflated 13%)\n",
            "  adding: Development_Dataset_15/training/masks/Weedelec_mais_2019-09-25T121421-205.png (deflated 53%)\n",
            "  adding: Development_Dataset_15/training/masks/Bipbip_mais_im_02891.png (deflated 16%)\n",
            "  adding: Development_Dataset_15/training/masks/Weedelec_mais_2019-09-25T121253-171.png (deflated 29%)\n",
            "  adding: Development_Dataset_15/training/masks/Roseau_haricot_0168_false.png (deflated 6%)\n",
            "  adding: Development_Dataset_15/training/masks/Roseau_haricot_0014_false.png (deflated 8%)\n",
            "  adding: Development_Dataset_15/training/masks/Roseau_mais_0034_false.png (deflated 16%)\n",
            "  adding: Development_Dataset_15/training/masks/Bipbip_mais_im_08811.png (deflated 19%)\n",
            "  adding: Development_Dataset_15/training/masks/Roseau_haricot_0404_false.png (deflated 13%)\n",
            "  adding: Development_Dataset_15/training/masks/Bipbip_haricot_im_01541.png (deflated 55%)\n",
            "  adding: Development_Dataset_15/training/masks/Bipbip_haricot_im_05111.png (deflated 20%)\n",
            "  adding: Development_Dataset_15/training/masks/Weedelec_haricot_2019-09-25T114450-26.png (deflated 34%)\n",
            "  adding: Development_Dataset_15/training/masks/Pead_haricot_00691_i750.png (deflated 14%)\n",
            "  adding: Development_Dataset_15/training/masks/Pead_haricot_00419_i750.png (deflated 12%)\n",
            "  adding: Development_Dataset_15/training/masks/Weedelec_mais_2019-09-25T121342-190.png (deflated 47%)\n",
            "  adding: Development_Dataset_15/training/masks/Pead_haricot_00644_i750.png (deflated 16%)\n",
            "  adding: Development_Dataset_15/training/masks/Bipbip_haricot_im_07531.png (deflated 27%)\n",
            "  adding: Development_Dataset_15/training/masks/Roseau_haricot_0208_false.png (deflated 88%)\n",
            "  adding: Development_Dataset_15/training/masks/Pead_mais_00639_i900.png (deflated 51%)\n",
            "  adding: Development_Dataset_15/training/masks/Pead_haricot_00503_i750.png (deflated 11%)\n",
            "  adding: Development_Dataset_15/training/masks/Pead_mais_00683_i900.png (deflated 18%)\n",
            "  adding: Development_Dataset_15/training/masks/Weedelec_mais_2019-09-25T121012-108.png (deflated 58%)\n",
            "  adding: Development_Dataset_15/training/masks/Pead_mais_00511_i900.png (deflated 17%)\n",
            "  adding: Development_Dataset_15/training/masks/Roseau_haricot_0312_false.png (deflated 4%)\n",
            "  adding: Development_Dataset_15/training/masks/Weedelec_haricot_2019-09-25T114629-64.png (deflated 38%)\n",
            "  adding: Development_Dataset_15/training/masks/Roseau_mais_0234_false.png (deflated 9%)\n",
            "  adding: Development_Dataset_15/training/masks/Weedelec_haricot_2019-09-25T115720-315.png (deflated 31%)\n",
            "  adding: Development_Dataset_15/training/masks/Bipbip_haricot_im_05421.png (deflated 27%)\n",
            "  adding: Development_Dataset_15/training/masks/Pead_haricot_00443_i750.png (deflated 12%)\n",
            "  adding: Development_Dataset_15/training/masks/Weedelec_mais_2019-09-25T120836-71.png (deflated 38%)\n",
            "  adding: Development_Dataset_15/training/masks/Weedelec_haricot_2019-09-25T115041-161.png (deflated 34%)\n",
            "  adding: Development_Dataset_15/training/masks/Pead_haricot_00592_i750.png (deflated 14%)\n",
            "  adding: Development_Dataset_15/training/masks/Pead_mais_00635_i900.png (deflated 46%)\n",
            "  adding: Development_Dataset_15/training/masks/Roseau_haricot_0138_false.png (deflated 6%)\n",
            "  adding: Development_Dataset_15/training/masks/Pead_haricot_00426_i750.png (deflated 11%)\n",
            "  adding: Development_Dataset_15/training/masks/Roseau_mais_0296_false.png (deflated 53%)\n",
            "  adding: Development_Dataset_15/training/masks/Roseau_mais_0028_false.png (deflated 15%)\n",
            "  adding: Development_Dataset_15/training/masks/Roseau_mais_0290_false.png (deflated 45%)\n",
            "  adding: Development_Dataset_15/training/masks/Pead_mais_00615_i900.png (deflated 10%)\n",
            "  adding: Development_Dataset_15/training/masks/Roseau_mais_0284_false.png (deflated 10%)\n",
            "  adding: Development_Dataset_15/training/masks/Weedelec_mais_2019-09-25T122023-346.png (deflated 38%)\n",
            "  adding: Development_Dataset_15/training/masks/Weedelec_mais_2019-09-25T121040-119.png (deflated 25%)\n",
            "  adding: Development_Dataset_15/training/masks/Bipbip_mais_im_04031.png (deflated 9%)\n",
            "  adding: Development_Dataset_15/training/masks/Weedelec_haricot_2019-09-25T114918-129.png (deflated 29%)\n",
            "  adding: Development_Dataset_15/training/masks/Pead_haricot_00476_i750.png (deflated 12%)\n",
            "  adding: Development_Dataset_15/training/masks/Roseau_haricot_0422_false.png (deflated 17%)\n",
            "  adding: Development_Dataset_15/training/masks/Weedelec_haricot_2019-09-25T115052-165.png (deflated 28%)\n",
            "  adding: Development_Dataset_15/training/masks/Bipbip_haricot_im_00321.png (deflated 22%)\n",
            "  adding: Development_Dataset_15/training/masks/Weedelec_mais_2019-09-25T121429-208.png (deflated 45%)\n",
            "  adding: Development_Dataset_15/training/masks/Roseau_haricot_0392_false.png (deflated 13%)\n",
            "  adding: Development_Dataset_15/training/masks/Weedelec_mais_2019-09-25T121643-260.png (deflated 41%)\n",
            "  adding: Development_Dataset_15/training/masks/Roseau_haricot_0112_false.png (deflated 6%)\n",
            "  adding: Development_Dataset_15/training/masks/Weedelec_mais_2019-09-25T121311-178.png (deflated 34%)\n",
            "  adding: Development_Dataset_15/training/masks/Bipbip_haricot_im_05741.png (deflated 17%)\n",
            "  adding: Development_Dataset_15/training/masks/Bipbip_mais_im_05871.png (deflated 13%)\n",
            "  adding: Development_Dataset_15/training/masks/Bipbip_haricot_im_04991.png (deflated 17%)\n",
            "  adding: Development_Dataset_15/training/masks/Pead_haricot_00236_i750.png (deflated 15%)\n",
            "  adding: Development_Dataset_15/training/masks/Pead_haricot_00482_i750.png (deflated 12%)\n",
            "  adding: Development_Dataset_15/training/masks/Bipbip_haricot_im_01271.png (deflated 31%)\n",
            "  adding: Development_Dataset_15/training/masks/Weedelec_mais_2019-09-25T120718-41.png (deflated 24%)\n",
            "  adding: Development_Dataset_15/training/masks/Bipbip_mais_im_01681.png (deflated 21%)\n",
            "  adding: Development_Dataset_15/training/masks/Bipbip_haricot_im_05301.png (deflated 17%)\n",
            "  adding: Development_Dataset_15/training/masks/Weedelec_mais_2019-09-25T121818-297.png (deflated 38%)\n",
            "  adding: Development_Dataset_15/training/masks/Weedelec_haricot_2019-09-25T114905-124.png (deflated 27%)\n",
            "  adding: Development_Dataset_15/training/masks/Bipbip_mais_im_10371.png (deflated 25%)\n",
            "  adding: Development_Dataset_15/training/masks/Bipbip_mais_im_08321.png (deflated 12%)\n",
            "  adding: Development_Dataset_15/training/masks/Weedelec_haricot_2019-09-25T115439-253.png (deflated 27%)\n",
            "  adding: Development_Dataset_15/training/masks/Weedelec_haricot_2019-09-25T115924-363.png (deflated 28%)\n",
            "  adding: Development_Dataset_15/training/masks/Weedelec_haricot_2019-09-25T115618-291.png (deflated 36%)\n",
            "  adding: Development_Dataset_15/training/masks/Roseau_mais_0052_false.png (deflated 13%)\n",
            "  adding: Development_Dataset_15/training/masks/Pead_haricot_00066_i750.png (deflated 14%)\n",
            "  adding: Development_Dataset_15/training/masks/Bipbip_haricot_im_02301.png (deflated 15%)\n",
            "  adding: Development_Dataset_15/training/masks/Bipbip_haricot_im_02531.png (deflated 14%)\n",
            "  adding: Development_Dataset_15/training/masks/Bipbip_mais_im_02411.png (deflated 18%)\n",
            "  adding: Development_Dataset_15/training/masks/Pead_haricot_00403_i750.png (deflated 12%)\n",
            "  adding: Development_Dataset_15/training/masks/Pead_mais_00375_i900.png (deflated 18%)\n",
            "  adding: Development_Dataset_15/training/masks/Bipbip_mais_im_10851.png (deflated 23%)\n",
            "  adding: Development_Dataset_15/training/masks/Roseau_mais_0148_false.png (deflated 9%)\n",
            "  adding: Development_Dataset_15/training/masks/Roseau_mais_0320_false.png (deflated 8%)\n",
            "  adding: Development_Dataset_15/training/masks/Weedelec_mais_2019-09-25T120851-77.png (deflated 32%)\n",
            "  adding: Development_Dataset_15/training/masks/Weedelec_mais_2019-09-25T120642-27.png (deflated 53%)\n",
            "  adding: Development_Dataset_15/training/masks/Bipbip_haricot_im_03841.png (deflated 18%)\n",
            "  adding: Development_Dataset_15/training/masks/Pead_haricot_00460_i750.png (deflated 10%)\n",
            "  adding: Development_Dataset_15/training/masks/Bipbip_haricot_im_08221.png (deflated 20%)\n",
            "  adding: Development_Dataset_15/training/masks/Roseau_haricot_0184_false.png (deflated 5%)\n",
            "  adding: Development_Dataset_15/training/masks/Pead_mais_00603_i900.png (deflated 11%)\n",
            "  adding: Development_Dataset_15/training/masks/Pead_mais_00647_i900.png (deflated 47%)\n",
            "  adding: Development_Dataset_15/training/masks/Pead_haricot_00124_i750.png (deflated 16%)\n",
            "  adding: Development_Dataset_15/training/masks/Bipbip_haricot_im_08371.png (deflated 25%)\n",
            "  adding: Development_Dataset_15/training/masks/Bipbip_mais_im_06691.png (deflated 22%)\n",
            "  adding: Development_Dataset_15/training/masks/Bipbip_mais_im_02151.png (deflated 31%)\n",
            "  adding: Development_Dataset_15/training/masks/Pead_haricot_00485_i750.png (deflated 12%)\n",
            "  adding: Development_Dataset_15/training/masks/Weedelec_haricot_2019-09-25T115039-160.png (deflated 25%)\n",
            "  adding: Development_Dataset_15/training/masks/Bipbip_haricot_im_04591.png (deflated 18%)\n",
            "  adding: Development_Dataset_15/training/masks/Bipbip_mais_im_02461.png (deflated 12%)\n",
            "  adding: Development_Dataset_15/training/masks/Weedelec_mais_2019-09-25T122219-392.png (deflated 55%)\n",
            "  adding: Development_Dataset_15/training/masks/Bipbip_haricot_im_01021.png (deflated 29%)\n",
            "  adding: Development_Dataset_15/training/masks/Roseau_haricot_0406_false.png (deflated 7%)\n",
            "  adding: Development_Dataset_15/training/masks/Weedelec_mais_2019-09-25T121118-134.png (deflated 22%)\n",
            "  adding: Development_Dataset_15/training/masks/Roseau_mais_0042_false.png (deflated 11%)\n",
            "  adding: Development_Dataset_15/training/masks/Roseau_mais_0118_false.png (deflated 10%)\n",
            "  adding: Development_Dataset_15/training/masks/Pead_mais_00215_i900.png (deflated 20%)\n",
            "  adding: Development_Dataset_15/training/masks/Pead_haricot_00047_i750.png (deflated 16%)\n",
            "  adding: Development_Dataset_15/training/masks/Roseau_haricot_0070_false.png (deflated 7%)\n",
            "  adding: Development_Dataset_15/training/masks/Weedelec_haricot_2019-09-25T115510-265.png (deflated 28%)\n",
            "  adding: Development_Dataset_15/training/masks/Pead_haricot_00662_i750.png (deflated 15%)\n",
            "  adding: Development_Dataset_15/training/masks/Weedelec_haricot_2019-09-25T115932-366.png (deflated 26%)\n",
            "  adding: Development_Dataset_15/training/masks/Pead_haricot_00541_i750.png (deflated 13%)\n",
            "  adding: Development_Dataset_15/training/masks/Bipbip_mais_im_08441.png (deflated 12%)\n",
            "  adding: Development_Dataset_15/training/masks/Weedelec_haricot_2019-09-25T114516-36.png (deflated 32%)\n",
            "  adding: Development_Dataset_15/training/masks/Roseau_mais_0206_false.png (deflated 40%)\n",
            "  adding: Development_Dataset_15/training/masks/Bipbip_haricot_im_00871.png (deflated 29%)\n",
            "  adding: Development_Dataset_15/training/masks/Roseau_mais_0070_false.png (deflated 13%)\n",
            "  adding: Development_Dataset_15/training/masks/Pead_mais_00194_i900.png (deflated 17%)\n",
            "  adding: Development_Dataset_15/training/masks/Bipbip_mais_im_02371.png (deflated 20%)\n",
            "  adding: Development_Dataset_15/training/images/ (stored 0%)\n",
            "  adding: Development_Dataset_15/training/images/Pead_haricot_00236_i750.jpg (deflated 0%)\n",
            "  adding: Development_Dataset_15/training/images/Weedelec_haricot_2019-09-25T114639-68.jpg (deflated 0%)\n",
            "  adding: Development_Dataset_15/training/images/Roseau_haricot_0418_false.png (deflated 0%)\n",
            "  adding: Development_Dataset_15/training/images/Weedelec_mais_2019-09-25T121358-196.jpg (deflated 0%)\n",
            "  adding: Development_Dataset_15/training/images/Bipbip_haricot_im_05231.jpg (deflated 0%)\n",
            "  adding: Development_Dataset_15/training/images/Roseau_mais_0156_false.png (deflated 0%)\n",
            "  adding: Development_Dataset_15/training/images/Roseau_haricot_0356_false.png (deflated 0%)\n",
            "  adding: Development_Dataset_15/training/images/Weedelec_haricot_2019-09-25T120125-410.jpg (deflated 0%)\n",
            "  adding: Development_Dataset_15/training/images/Pead_mais_00683_i900.jpg (deflated 0%)\n",
            "  adding: Development_Dataset_15/training/images/Bipbip_haricot_im_00651.jpg (deflated 0%)\n",
            "  adding: Development_Dataset_15/training/images/Bipbip_haricot_im_05301.jpg (deflated 0%)\n",
            "  adding: Development_Dataset_15/training/images/Roseau_mais_0022_false.png (deflated 0%)\n",
            "  adding: Development_Dataset_15/training/images/Pead_haricot_00662_i750.jpg (deflated 0%)\n",
            "  adding: Development_Dataset_15/training/images/Bipbip_mais_im_07351.jpg (deflated 0%)\n",
            "  adding: Development_Dataset_15/training/images/Roseau_haricot_0100_false.png (deflated 0%)\n",
            "  adding: Development_Dataset_15/training/images/Pead_haricot_00403_i750.jpg (deflated 0%)\n",
            "  adding: Development_Dataset_15/training/images/Weedelec_haricot_2019-09-25T115052-165.jpg (deflated 0%)\n",
            "  adding: Development_Dataset_15/training/images/Roseau_mais_0088_false.png (deflated 0%)\n",
            "  adding: Development_Dataset_15/training/images/Weedelec_haricot_2019-09-25T115851-350.jpg (deflated 0%)\n",
            "  adding: Development_Dataset_15/training/images/Bipbip_haricot_im_06801.jpg (deflated 0%)\n",
            "  adding: Development_Dataset_15/training/images/Weedelec_mais_2019-09-25T120851-77.jpg (deflated 0%)\n",
            "  adding: Development_Dataset_15/training/images/Bipbip_haricot_im_02651.jpg (deflated 0%)\n",
            "  adding: Development_Dataset_15/training/images/Bipbip_mais_im_07181.jpg (deflated 0%)\n",
            "  adding: Development_Dataset_15/training/images/Pead_haricot_00730_i750.jpg (deflated 0%)\n",
            "  adding: Development_Dataset_15/training/images/Bipbip_haricot_im_08221.jpg (deflated 0%)\n",
            "  adding: Development_Dataset_15/training/images/Bipbip_haricot_im_07531.jpg (deflated 0%)\n",
            "  adding: Development_Dataset_15/training/images/Roseau_mais_0222_false.png (deflated 0%)\n",
            "  adding: Development_Dataset_15/training/images/Pead_mais_00407_i900.jpg (deflated 0%)\n",
            "  adding: Development_Dataset_15/training/images/Pead_mais_00054_i900.jpg (deflated 0%)\n",
            "  adding: Development_Dataset_15/training/images/Pead_mais_00475_i900.jpg (deflated 0%)\n",
            "  adding: Development_Dataset_15/training/images/Bipbip_mais_im_08661.jpg (deflated 0%)\n",
            "  adding: Development_Dataset_15/training/images/Bipbip_mais_im_07041.jpg (deflated 0%)\n",
            "  adding: Development_Dataset_15/training/images/Bipbip_mais_im_04621.jpg (deflated 0%)\n",
            "  adding: Development_Dataset_15/training/images/Roseau_mais_0120_false.png (deflated 0%)\n",
            "  adding: Development_Dataset_15/training/images/Weedelec_mais_2019-09-25T121437-211.jpg (deflated 0%)\n",
            "  adding: Development_Dataset_15/training/images/Pead_haricot_00466_i750.jpg (deflated 0%)\n",
            "  adding: Development_Dataset_15/training/images/Weedelec_haricot_2019-09-25T115039-160.jpg (deflated 0%)\n",
            "  adding: Development_Dataset_15/training/images/Roseau_mais_0208_false.png (deflated 0%)\n",
            "  adding: Development_Dataset_15/training/images/Bipbip_haricot_im_03841.jpg (deflated 0%)\n",
            "  adding: Development_Dataset_15/training/images/Weedelec_haricot_2019-09-25T115649-303.jpg (deflated 0%)\n",
            "  adding: Development_Dataset_15/training/images/Roseau_haricot_0280_false.png (deflated 0%)\n",
            "  adding: Development_Dataset_15/training/images/Weedelec_haricot_2019-09-25T114527-40.jpg (deflated 0%)\n",
            "  adding: Development_Dataset_15/training/images/Weedelec_mais_2019-09-25T121040-119.jpg (deflated 0%)\n",
            "  adding: Development_Dataset_15/training/images/Weedelec_mais_2019-09-25T120754-55.jpg (deflated 0%)\n",
            "  adding: Development_Dataset_15/training/images/Pead_mais_00687_i900.jpg (deflated 0%)\n",
            "  adding: Development_Dataset_15/training/images/Roseau_haricot_0272_false.png (deflated 0%)\n",
            "  adding: Development_Dataset_15/training/images/Pead_mais_00416_i900.jpg (deflated 0%)\n",
            "  adding: Development_Dataset_15/training/images/Weedelec_mais_2019-09-25T120642-27.jpg (deflated 0%)\n",
            "  adding: Development_Dataset_15/training/images/Bipbip_mais_im_05221.jpg (deflated 0%)\n",
            "  adding: Development_Dataset_15/training/images/Bipbip_mais_im_10851.jpg (deflated 0%)\n",
            "  adding: Development_Dataset_15/training/images/Weedelec_haricot_2019-09-25T120115-406.jpg (deflated 0%)\n",
            "  adding: Development_Dataset_15/training/images/Bipbip_mais_im_09641.jpg (deflated 0%)\n",
            "  adding: Development_Dataset_15/training/images/Weedelec_haricot_2019-09-25T114921-130.jpg (deflated 0%)\n",
            "  adding: Development_Dataset_15/training/images/Roseau_haricot_0336_false.png (deflated 0%)\n",
            "  adding: Development_Dataset_15/training/images/Pead_mais_00148_i900.jpg (deflated 0%)\n",
            "  adding: Development_Dataset_15/training/images/Roseau_mais_0010_false.png (deflated 0%)\n",
            "  adding: Development_Dataset_15/training/images/Weedelec_mais_2019-09-25T121559-243.jpg (deflated 0%)\n",
            "  adding: Development_Dataset_15/training/images/Roseau_mais_0346_false.png (deflated 0%)\n",
            "  adding: Development_Dataset_15/training/images/Roseau_haricot_0130_false.png (deflated 0%)\n",
            "  adding: Development_Dataset_15/training/images/Bipbip_haricot_im_05531.jpg (deflated 0%)\n",
            "  adding: Development_Dataset_15/training/images/Weedelec_mais_2019-09-25T120859-80.jpg (deflated 0%)\n",
            "  adding: Development_Dataset_15/training/images/Pead_haricot_00127_i750.jpg (deflated 0%)\n",
            "  adding: Development_Dataset_15/training/images/Roseau_haricot_0240_false.png (deflated 0%)\n",
            "  adding: Development_Dataset_15/training/images/Bipbip_haricot_im_02301.jpg (deflated 0%)\n",
            "  adding: Development_Dataset_15/training/images/Pead_haricot_00277_i750.jpg (deflated 0%)\n",
            "  adding: Development_Dataset_15/training/images/Weedelec_haricot_2019-09-25T115153-189.jpg (deflated 0%)\n",
            "  adding: Development_Dataset_15/training/images/Roseau_mais_0232_false.png (deflated 0%)\n",
            "  adding: Development_Dataset_15/training/images/Bipbip_mais_im_10081.jpg (deflated 0%)\n",
            "  adding: Development_Dataset_15/training/images/Bipbip_mais_im_09231.jpg (deflated 0%)\n",
            "  adding: Development_Dataset_15/training/images/Weedelec_haricot_2019-09-25T114752-96.jpg (deflated 0%)\n",
            "  adding: Development_Dataset_15/training/images/Weedelec_haricot_2019-09-25T115741-323.jpg (deflated 0%)\n",
            "  adding: Development_Dataset_15/training/images/Weedelec_mais_2019-09-25T120836-71.jpg (deflated 0%)\n",
            "  adding: Development_Dataset_15/training/images/Pead_haricot_00538_i750.jpg (deflated 0%)\n",
            "  adding: Development_Dataset_15/training/images/Roseau_haricot_0158_false.png (deflated 0%)\n",
            "  adding: Development_Dataset_15/training/images/Weedelec_haricot_2019-09-25T115439-253.jpg (deflated 0%)\n",
            "  adding: Development_Dataset_15/training/images/Pead_mais_00105_i900.jpg (deflated 0%)\n",
            "  adding: Development_Dataset_15/training/images/Weedelec_haricot_2019-09-25T115843-347.jpg (deflated 0%)\n",
            "  adding: Development_Dataset_15/training/images/Weedelec_mais_2019-09-25T120623-20.jpg (deflated 0%)\n",
            "  adding: Development_Dataset_15/training/images/Roseau_haricot_0122_false.png (deflated 1%)\n",
            "  adding: Development_Dataset_15/training/images/Bipbip_haricot_im_04591.jpg (deflated 0%)\n",
            "  adding: Development_Dataset_15/training/images/Pead_haricot_00437_i750.jpg (deflated 0%)\n",
            "  adding: Development_Dataset_15/training/images/Bipbip_haricot_im_06401.jpg (deflated 0%)\n",
            "  adding: Development_Dataset_15/training/images/Pead_haricot_00724_i750.jpg (deflated 0%)\n",
            "  adding: Development_Dataset_15/training/images/Pead_mais_00101_i900.jpg (deflated 0%)\n",
            "  adding: Development_Dataset_15/training/images/Roseau_haricot_0160_false.png (deflated 0%)\n",
            "  adding: Development_Dataset_15/training/images/Pead_mais_00070_i900.jpg (deflated 0%)\n",
            "  adding: Development_Dataset_15/training/images/Weedelec_haricot_2019-09-25T114516-36.jpg (deflated 0%)\n",
            "  adding: Development_Dataset_15/training/images/Pead_mais_00801_i900.jpg (deflated 0%)\n",
            "  adding: Development_Dataset_15/training/images/Bipbip_haricot_im_07481.jpg (deflated 0%)\n",
            "  adding: Development_Dataset_15/training/images/Roseau_mais_0158_false.png (deflated 0%)\n",
            "  adding: Development_Dataset_15/training/images/Roseau_haricot_0082_false.png (deflated 0%)\n",
            "  adding: Development_Dataset_15/training/images/Roseau_mais_0302_false.png (deflated 0%)\n",
            "  adding: Development_Dataset_15/training/images/Weedelec_mais_2019-09-25T121643-260.jpg (deflated 0%)\n",
            "  adding: Development_Dataset_15/training/images/Pead_haricot_00372_i750.jpg (deflated 0%)\n",
            "  adding: Development_Dataset_15/training/images/Bipbip_haricot_im_07131.jpg (deflated 0%)\n",
            "  adding: Development_Dataset_15/training/images/Pead_mais_00455_i900.jpg (deflated 0%)\n",
            "  adding: Development_Dataset_15/training/images/Pead_haricot_00249_i750.jpg (deflated 0%)\n",
            "  adding: Development_Dataset_15/training/images/Pead_mais_00291_i900.jpg (deflated 0%)\n",
            "  adding: Development_Dataset_15/training/images/Weedelec_haricot_2019-09-25T120235-437.jpg (deflated 0%)\n",
            "  adding: Development_Dataset_15/training/images/Roseau_haricot_0384_false.png (deflated 0%)\n",
            "  adding: Development_Dataset_15/training/images/Weedelec_mais_2019-09-25T121721-275.jpg (deflated 0%)\n",
            "  adding: Development_Dataset_15/training/images/Bipbip_haricot_im_00871.jpg (deflated 0%)\n",
            "  adding: Development_Dataset_15/training/images/Roseau_haricot_0152_false.png (deflated 0%)\n",
            "  adding: Development_Dataset_15/training/images/Pead_mais_00139_i900.jpg (deflated 0%)\n",
            "  adding: Development_Dataset_15/training/images/Roseau_mais_0192_false.png (deflated 0%)\n",
            "  adding: Development_Dataset_15/training/images/Weedelec_mais_2019-09-25T121503-221.jpg (deflated 0%)\n",
            "  adding: Development_Dataset_15/training/images/Roseau_haricot_0148_false.png (deflated 0%)\n",
            "  adding: Development_Dataset_15/training/images/Bipbip_mais_im_02941.jpg (deflated 0%)\n",
            "  adding: Development_Dataset_15/training/images/Roseau_haricot_0062_false.png (deflated 0%)\n",
            "  adding: Development_Dataset_15/training/images/Bipbip_haricot_im_01091.jpg (deflated 0%)\n",
            "  adding: Development_Dataset_15/training/images/Weedelec_mais_2019-09-25T120746-52.jpg (deflated 0%)\n",
            "  adding: Development_Dataset_15/training/images/Pead_mais_00511_i900.jpg (deflated 0%)\n",
            "  adding: Development_Dataset_15/training/images/Bipbip_mais_im_02511.jpg (deflated 0%)\n",
            "  adding: Development_Dataset_15/training/images/Roseau_mais_0126_false.png (deflated 0%)\n",
            "  adding: Development_Dataset_15/training/images/Roseau_haricot_0020_false.png (deflated 0%)\n",
            "  adding: Development_Dataset_15/training/images/Pead_mais_00631_i900.jpg (deflated 0%)\n",
            "  adding: Development_Dataset_15/training/images/Roseau_mais_0170_false.png (deflated 0%)\n",
            "  adding: Development_Dataset_15/training/images/Roseau_haricot_0308_false.png (deflated 0%)\n",
            "  adding: Development_Dataset_15/training/images/Roseau_mais_0248_false.png (deflated 0%)\n",
            "  adding: Development_Dataset_15/training/images/Roseau_mais_0062_false.png (deflated 0%)\n",
            "  adding: Development_Dataset_15/training/images/Roseau_mais_0304_false.png (deflated 0%)\n",
            "  adding: Development_Dataset_15/training/images/Bipbip_haricot_im_05111.jpg (deflated 0%)\n",
            "  adding: Development_Dataset_15/training/images/Bipbip_haricot_im_01731.jpg (deflated 0%)\n",
            "  adding: Development_Dataset_15/training/images/Weedelec_mais_2019-09-25T122240-400.jpg (deflated 0%)\n",
            "  adding: Development_Dataset_15/training/images/Roseau_mais_0258_false.png (deflated 0%)\n",
            "  adding: Development_Dataset_15/training/images/Bipbip_haricot_im_05481.jpg (deflated 0%)\n",
            "  adding: Development_Dataset_15/training/images/Roseau_haricot_0284_false.png (deflated 0%)\n",
            "  adding: Development_Dataset_15/training/images/Bipbip_mais_im_09501.jpg (deflated 0%)\n",
            "  adding: Development_Dataset_15/training/images/Pead_mais_00635_i900.jpg (deflated 0%)\n",
            "  adding: Development_Dataset_15/training/images/Pead_haricot_00688_i750.jpg (deflated 0%)\n",
            "  adding: Development_Dataset_15/training/images/Pead_haricot_00110_i750.jpg (deflated 0%)\n",
            "  adding: Development_Dataset_15/training/images/Pead_haricot_00359_i750.jpg (deflated 0%)\n",
            "  adding: Development_Dataset_15/training/images/Pead_haricot_00522_i750.jpg (deflated 0%)\n",
            "  adding: Development_Dataset_15/training/images/Roseau_haricot_0124_false.png (deflated 0%)\n",
            "  adding: Development_Dataset_15/training/images/Bipbip_mais_im_02691.jpg (deflated 0%)\n",
            "  adding: Development_Dataset_15/training/images/Roseau_haricot_0344_false.png (deflated 0%)\n",
            "  adding: Development_Dataset_15/training/images/Roseau_haricot_0316_false.png (deflated 0%)\n",
            "  adding: Development_Dataset_15/training/images/Roseau_haricot_0400_false.png (deflated 0%)\n",
            "  adding: Development_Dataset_15/training/images/Pead_mais_00780_i900.jpg (deflated 0%)\n",
            "  adding: Development_Dataset_15/training/images/Weedelec_haricot_2019-09-25T115049-164.jpg (deflated 0%)\n",
            "  adding: Development_Dataset_15/training/images/Bipbip_haricot_im_07781.jpg (deflated 0%)\n",
            "  adding: Development_Dataset_15/training/images/Roseau_haricot_0264_false.png (deflated 0%)\n",
            "  adding: Development_Dataset_15/training/images/Roseau_mais_0166_false.png (deflated 0%)\n",
            "  adding: Development_Dataset_15/training/images/Roseau_mais_0266_false.png (deflated 0%)\n",
            "  adding: Development_Dataset_15/training/images/Weedelec_mais_2019-09-25T121818-297.jpg (deflated 0%)\n",
            "  adding: Development_Dataset_15/training/images/Pead_mais_00809_i900.jpg (deflated 0%)\n",
            "  adding: Development_Dataset_15/training/images/Bipbip_mais_im_05691.jpg (deflated 0%)\n",
            "  adding: Development_Dataset_15/training/images/Bipbip_mais_im_05451.jpg (deflated 0%)\n",
            "  adding: Development_Dataset_15/training/images/Roseau_mais_0168_false.png (deflated 0%)\n",
            "  adding: Development_Dataset_15/training/images/Pead_mais_00662_i900.jpg (deflated 0%)\n",
            "  adding: Development_Dataset_15/training/images/Weedelec_haricot_2019-09-25T115130-180.jpg (deflated 0%)\n",
            "  adding: Development_Dataset_15/training/images/Weedelec_haricot_2019-09-25T115836-344.jpg (deflated 0%)\n",
            "  adding: Development_Dataset_15/training/images/Pead_haricot_00419_i750.jpg (deflated 0%)\n",
            "  adding: Development_Dataset_15/training/images/Pead_haricot_00544_i750.jpg (deflated 0%)\n",
            "  adding: Development_Dataset_15/training/images/Weedelec_mais_2019-09-25T121149-146.jpg (deflated 0%)\n",
            "  adding: Development_Dataset_15/training/images/Bipbip_haricot_im_01821.jpg (deflated 0%)\n",
            "  adding: Development_Dataset_15/training/images/Roseau_mais_0180_false.png (deflated 0%)\n",
            "  adding: Development_Dataset_15/training/images/Pead_haricot_00167_i750.jpg (deflated 0%)\n",
            "  adding: Development_Dataset_15/training/images/Pead_haricot_00649_i750.jpg (deflated 0%)\n",
            "  adding: Development_Dataset_15/training/images/Weedelec_mais_2019-09-25T122232-397.jpg (deflated 0%)\n",
            "  adding: Development_Dataset_15/training/images/Bipbip_haricot_im_01631.jpg (deflated 0%)\n",
            "  adding: Development_Dataset_15/training/images/Weedelec_mais_2019-09-25T122219-392.jpg (deflated 0%)\n",
            "  adding: Development_Dataset_15/training/images/Roseau_haricot_0348_false.png (deflated 0%)\n",
            "  adding: Development_Dataset_15/training/images/Weedelec_mais_2019-09-25T121154-148.jpg (deflated 0%)\n",
            "  adding: Development_Dataset_15/training/images/Pead_haricot_00426_i750.jpg (deflated 0%)\n",
            "  adding: Development_Dataset_15/training/images/Pead_mais_00411_i900.jpg (deflated 0%)\n",
            "  adding: Development_Dataset_15/training/images/Bipbip_mais_im_10371.jpg (deflated 0%)\n",
            "  adding: Development_Dataset_15/training/images/Roseau_mais_0150_false.png (deflated 0%)\n",
            "  adding: Development_Dataset_15/training/images/Pead_mais_00215_i900.jpg (deflated 0%)\n",
            "  adding: Development_Dataset_15/training/images/Roseau_mais_0018_false.png (deflated 0%)\n",
            "  adding: Development_Dataset_15/training/images/Weedelec_haricot_2019-09-25T114603-54.jpg (deflated 0%)\n",
            "  adding: Development_Dataset_15/training/images/Pead_mais_00451_i900.jpg (deflated 0%)\n",
            "  adding: Development_Dataset_15/training/images/Pead_haricot_00476_i750.jpg (deflated 0%)\n",
            "  adding: Development_Dataset_15/training/images/Pead_mais_00515_i900.jpg (deflated 0%)\n",
            "  adding: Development_Dataset_15/training/images/Roseau_haricot_0340_false.png (deflated 0%)\n",
            "  adding: Development_Dataset_15/training/images/Pead_mais_00126_i900.jpg (deflated 0%)\n",
            "  adding: Development_Dataset_15/training/images/Bipbip_mais_im_06071.jpg (deflated 0%)\n",
            "  adding: Development_Dataset_15/training/images/Pead_haricot_00006_i750.jpg (deflated 0%)\n",
            "  adding: Development_Dataset_15/training/images/Pead_haricot_00589_i750.jpg (deflated 0%)\n",
            "  adding: Development_Dataset_15/training/images/Weedelec_haricot_2019-09-25T115751-327.jpg (deflated 0%)\n",
            "  adding: Development_Dataset_15/training/images/Roseau_haricot_0046_false.png (deflated 0%)\n",
            "  adding: Development_Dataset_15/training/images/Roseau_mais_0298_false.png (deflated 0%)\n",
            "  adding: Development_Dataset_15/training/images/Weedelec_haricot_2019-09-25T115607-287.jpg (deflated 0%)\n",
            "  adding: Development_Dataset_15/training/images/Roseau_mais_0164_false.png (deflated 0%)\n",
            "  adding: Development_Dataset_15/training/images/Bipbip_haricot_im_03231.jpg (deflated 0%)\n",
            "  adding: Development_Dataset_15/training/images/Bipbip_mais_im_09711.jpg (deflated 0%)\n",
            "  adding: Development_Dataset_15/training/images/Roseau_mais_0144_false.png (deflated 0%)\n",
            "  adding: Development_Dataset_15/training/images/Roseau_haricot_0050_false.png (deflated 0%)\n",
            "  adding: Development_Dataset_15/training/images/Bipbip_mais_im_09841.jpg (deflated 0%)\n",
            "  adding: Development_Dataset_15/training/images/Roseau_haricot_0164_false.png (deflated 0%)\n",
            "  adding: Development_Dataset_15/training/images/Bipbip_mais_im_08581.jpg (deflated 0%)\n",
            "  adding: Development_Dataset_15/training/images/Bipbip_haricot_im_07861.jpg (deflated 0%)\n",
            "  adding: Development_Dataset_15/training/images/Weedelec_haricot_2019-09-25T114445-24.jpg (deflated 1%)\n",
            "  adding: Development_Dataset_15/training/images/Bipbip_haricot_im_05461.jpg (deflated 0%)\n",
            "  adding: Development_Dataset_15/training/images/Bipbip_mais_im_05031.jpg (deflated 0%)\n",
            "  adding: Development_Dataset_15/training/images/Pead_haricot_00608_i750.jpg (deflated 0%)\n",
            "  adding: Development_Dataset_15/training/images/Weedelec_mais_2019-09-25T122005-339.jpg (deflated 0%)\n",
            "  adding: Development_Dataset_15/training/images/Pead_mais_00038_i900.jpg (deflated 0%)\n",
            "  adding: Development_Dataset_15/training/images/Bipbip_haricot_im_05911.jpg (deflated 0%)\n",
            "  adding: Development_Dataset_15/training/images/Pead_haricot_00701_i750.jpg (deflated 0%)\n",
            "  adding: Development_Dataset_15/training/images/Weedelec_mais_2019-09-25T121413-202.jpg (deflated 0%)\n",
            "  adding: Development_Dataset_15/training/images/Roseau_mais_0140_false.png (deflated 0%)\n",
            "  adding: Development_Dataset_15/training/images/Pead_haricot_00350_i750.jpg (deflated 0%)\n",
            "  adding: Development_Dataset_15/training/images/Pead_mais_00186_i900.jpg (deflated 0%)\n",
            "  adding: Development_Dataset_15/training/images/Weedelec_mais_2019-09-25T121544-237.jpg (deflated 0%)\n",
            "  adding: Development_Dataset_15/training/images/Bipbip_mais_im_08511.jpg (deflated 0%)\n",
            "  adding: Development_Dataset_15/training/images/Pead_haricot_00332_i750.jpg (deflated 0%)\n",
            "  adding: Development_Dataset_15/training/images/Pead_mais_00249_i900.jpg (deflated 0%)\n",
            "  adding: Development_Dataset_15/training/images/Weedelec_haricot_2019-09-25T114424-16.jpg (deflated 0%)\n",
            "  adding: Development_Dataset_15/training/images/Bipbip_mais_im_10231.jpg (deflated 0%)\n",
            "  adding: Development_Dataset_15/training/images/Weedelec_haricot_2019-09-25T115924-363.jpg (deflated 0%)\n",
            "  adding: Development_Dataset_15/training/images/Roseau_haricot_0420_false.png (deflated 0%)\n",
            "  adding: Development_Dataset_15/training/images/Roseau_mais_0334_false.png (deflated 0%)\n",
            "  adding: Development_Dataset_15/training/images/Weedelec_haricot_2019-09-25T114757-98.jpg (deflated 1%)\n",
            "  adding: Development_Dataset_15/training/images/Pead_haricot_00362_i750.jpg (deflated 0%)\n",
            "  adding: Development_Dataset_15/training/images/Pead_haricot_00124_i750.jpg (deflated 0%)\n",
            "  adding: Development_Dataset_15/training/images/Bipbip_haricot_im_02531.jpg (deflated 0%)\n",
            "  adding: Development_Dataset_15/training/images/Pead_mais_00333_i900.jpg (deflated 0%)\n",
            "  adding: Development_Dataset_15/training/images/Bipbip_haricot_im_01911.jpg (deflated 0%)\n",
            "  adding: Development_Dataset_15/training/images/Weedelec_haricot_2019-09-25T120202-424.jpg (deflated 0%)\n",
            "  adding: Development_Dataset_15/training/images/Roseau_mais_0294_false.png (deflated 0%)\n",
            "  adding: Development_Dataset_15/training/images/Weedelec_mais_2019-09-25T122059-360.jpg (deflated 0%)\n",
            "  adding: Development_Dataset_15/training/images/Roseau_mais_0228_false.png (deflated 0%)\n",
            "  adding: Development_Dataset_15/training/images/Roseau_haricot_0008_false.png (deflated 0%)\n",
            "  adding: Development_Dataset_15/training/images/Roseau_haricot_0042_false.png (deflated 0%)\n",
            "  adding: Development_Dataset_15/training/images/Weedelec_mais_2019-09-25T120718-41.jpg (deflated 0%)\n",
            "  adding: Development_Dataset_15/training/images/Pead_mais_00471_i900.jpg (deflated 0%)\n",
            "  adding: Development_Dataset_15/training/images/Pead_mais_00278_i900.jpg (deflated 0%)\n",
            "  adding: Development_Dataset_15/training/images/Pead_haricot_00103_i750.jpg (deflated 0%)\n",
            "  adding: Development_Dataset_15/training/images/Bipbip_haricot_im_05411.jpg (deflated 0%)\n",
            "  adding: Development_Dataset_15/training/images/Pead_haricot_00668_i750.jpg (deflated 0%)\n",
            "  adding: Development_Dataset_15/training/images/Bipbip_mais_im_06691.jpg (deflated 0%)\n",
            "  adding: Development_Dataset_15/training/images/Weedelec_haricot_2019-09-25T120013-382.jpg (deflated 0%)\n",
            "  adding: Development_Dataset_15/training/images/Roseau_mais_0110_false.png (deflated 0%)\n",
            "  adding: Development_Dataset_15/training/images/Bipbip_haricot_im_05041.jpg (deflated 0%)\n",
            "  adding: Development_Dataset_15/training/images/Weedelec_mais_2019-09-25T120954-101.jpg (deflated 0%)\n",
            "  adding: Development_Dataset_15/training/images/Weedelec_mais_2019-09-25T121917-320.jpg (deflated 0%)\n",
            "  adding: Development_Dataset_15/training/images/Weedelec_haricot_2019-09-25T115454-259.jpg (deflated 0%)\n",
            "  adding: Development_Dataset_15/training/images/Roseau_mais_0212_false.png (deflated 0%)\n",
            "  adding: Development_Dataset_15/training/images/Bipbip_haricot_im_07591.jpg (deflated 0%)\n",
            "  adding: Development_Dataset_15/training/images/Bipbip_mais_im_10301.jpg (deflated 0%)\n",
            "  adding: Development_Dataset_15/training/images/Bipbip_haricot_im_05991.jpg (deflated 0%)\n",
            "  adding: Development_Dataset_15/training/images/Pead_haricot_00721_i750.jpg (deflated 0%)\n",
            "  adding: Development_Dataset_15/training/images/Pead_mais_00375_i900.jpg (deflated 0%)\n",
            "  adding: Development_Dataset_15/training/images/Bipbip_haricot_im_06341.jpg (deflated 0%)\n",
            "  adding: Development_Dataset_15/training/images/Weedelec_mais_2019-09-25T122339-423.jpg (deflated 0%)\n",
            "  adding: Development_Dataset_15/training/images/Weedelec_mais_2019-09-25T121541-236.jpg (deflated 0%)\n",
            "  adding: Development_Dataset_15/training/images/Bipbip_haricot_im_02171.jpg (deflated 0%)\n",
            "  adding: Development_Dataset_15/training/images/Weedelec_haricot_2019-09-25T115036-159.jpg (deflated 0%)\n",
            "  adding: Development_Dataset_15/training/images/Weedelec_mais_2019-09-25T122149-380.jpg (deflated 0%)\n",
            "  adding: Development_Dataset_15/training/images/Roseau_mais_0182_false.png (deflated 0%)\n",
            "  adding: Development_Dataset_15/training/images/Roseau_haricot_0204_false.png (deflated 0%)\n",
            "  adding: Development_Dataset_15/training/images/Weedelec_mais_2019-09-25T121924-323.jpg (deflated 0%)\n",
            "  adding: Development_Dataset_15/training/images/Pead_mais_00496_i900.jpg (deflated 0%)\n",
            "  adding: Development_Dataset_15/training/images/Pead_mais_00265_i900.jpg (deflated 0%)\n",
            "  adding: Development_Dataset_15/training/images/Weedelec_haricot_2019-09-25T114358-6.jpg (deflated 0%)\n",
            "  adding: Development_Dataset_15/training/images/Weedelec_haricot_2019-09-25T114850-118.jpg (deflated 0%)\n",
            "  adding: Development_Dataset_15/training/images/Roseau_haricot_0118_false.png (deflated 0%)\n",
            "  adding: Development_Dataset_15/training/images/Roseau_mais_0092_false.png (deflated 0%)\n",
            "  adding: Development_Dataset_15/training/images/Roseau_haricot_0172_false.png (deflated 0%)\n",
            "  adding: Development_Dataset_15/training/images/Pead_mais_00093_i900.jpg (deflated 0%)\n",
            "  adding: Development_Dataset_15/training/images/Bipbip_mais_im_01681.jpg (deflated 0%)\n",
            "  adding: Development_Dataset_15/training/images/Weedelec_haricot_2019-09-25T115404-240.jpg (deflated 0%)\n",
            "  adding: Development_Dataset_15/training/images/Weedelec_haricot_2019-09-25T115115-174.jpg (deflated 0%)\n",
            "  adding: Development_Dataset_15/training/images/Weedelec_mais_2019-09-25T121118-134.jpg (deflated 0%)\n",
            "  adding: Development_Dataset_15/training/images/Bipbip_haricot_im_08371.jpg (deflated 0%)\n",
            "  adding: Development_Dataset_15/training/images/Pead_mais_00257_i900.jpg (deflated 0%)\n",
            "  adding: Development_Dataset_15/training/images/Pead_haricot_00691_i750.jpg (deflated 0%)\n",
            "  adding: Development_Dataset_15/training/images/Weedelec_mais_2019-09-25T121405-199.jpg (deflated 0%)\n",
            "  adding: Development_Dataset_15/training/images/Bipbip_haricot_im_03041.jpg (deflated 0%)\n",
            "  adding: Development_Dataset_15/training/images/Weedelec_haricot_2019-09-25T115420-246.jpg (deflated 0%)\n",
            "  adding: Development_Dataset_15/training/images/Pead_mais_00443_i900.jpg (deflated 0%)\n",
            "  adding: Development_Dataset_15/training/images/Pead_mais_00283_i900.jpg (deflated 0%)\n",
            "  adding: Development_Dataset_15/training/images/Bipbip_haricot_im_03281.jpg (deflated 0%)\n",
            "  adding: Development_Dataset_15/training/images/Pead_mais_00050_i900.jpg (deflated 0%)\n",
            "  adding: Development_Dataset_15/training/images/Roseau_haricot_0092_false.png (deflated 0%)\n",
            "  adding: Development_Dataset_15/training/images/Pead_mais_00304_i900.jpg (deflated 0%)\n",
            "  adding: Development_Dataset_15/training/images/Pead_mais_00210_i900.jpg (deflated 0%)\n",
            "  adding: Development_Dataset_15/training/images/Weedelec_mais_2019-09-25T121955-335.jpg (deflated 0%)\n",
            "  adding: Development_Dataset_15/training/images/Weedelec_mais_2019-09-25T121724-276.jpg (deflated 0%)\n",
            "  adding: Development_Dataset_15/training/images/Bipbip_mais_im_07531.jpg (deflated 0%)\n",
            "  adding: Development_Dataset_15/training/images/Weedelec_mais_2019-09-25T120933-93.jpg (deflated 0%)\n",
            "  adding: Development_Dataset_15/training/images/Bipbip_mais_im_08811.jpg (deflated 0%)\n",
            "  adding: Development_Dataset_15/training/images/Bipbip_mais_im_01601.jpg (deflated 0%)\n",
            "  adding: Development_Dataset_15/training/images/Roseau_haricot_0318_false.png (deflated 0%)\n",
            "  adding: Development_Dataset_15/training/images/Weedelec_mais_2019-09-25T121253-171.jpg (deflated 0%)\n",
            "  adding: Development_Dataset_15/training/images/Bipbip_mais_im_01461.jpg (deflated 0%)\n",
            "  adding: Development_Dataset_15/training/images/Bipbip_haricot_im_07941.jpg (deflated 0%)\n",
            "  adding: Development_Dataset_15/training/images/Weedelec_mais_2019-09-25T121334-187.jpg (deflated 0%)\n",
            "  adding: Development_Dataset_15/training/images/Weedelec_haricot_2019-09-25T115639-299.jpg (deflated 0%)\n",
            "  adding: Development_Dataset_15/training/images/Roseau_haricot_0248_false.png (deflated 0%)\n",
            "  adding: Development_Dataset_15/training/images/Bipbip_mais_im_02731.jpg (deflated 0%)\n",
            "  adding: Development_Dataset_15/training/images/Bipbip_haricot_im_08141.jpg (deflated 0%)\n",
            "  adding: Development_Dataset_15/training/images/Bipbip_mais_im_10691.jpg (deflated 0%)\n",
            "  adding: Development_Dataset_15/training/images/Weedelec_haricot_2019-09-25T114506-32.jpg (deflated 0%)\n",
            "  adding: Development_Dataset_15/training/images/Bipbip_haricot_im_06531.jpg (deflated 0%)\n",
            "  adding: Development_Dataset_15/training/images/Roseau_haricot_0180_false.png (deflated 0%)\n",
            "  adding: Development_Dataset_15/training/images/Bipbip_haricot_im_06941.jpg (deflated 0%)\n",
            "  adding: Development_Dataset_15/training/images/Weedelec_haricot_2019-09-25T115710-311.jpg (deflated 0%)\n",
            "  adding: Development_Dataset_15/training/images/Bipbip_haricot_im_00511.jpg (deflated 0%)\n",
            "  adding: Development_Dataset_15/training/images/Roseau_mais_0096_false.png (deflated 0%)\n",
            "  adding: Development_Dataset_15/training/images/Roseau_mais_0368_false.png (deflated 0%)\n",
            "  adding: Development_Dataset_15/training/images/Bipbip_haricot_im_04031.jpg (deflated 0%)\n",
            "  adding: Development_Dataset_15/training/images/Pead_mais_00165_i900.jpg (deflated 0%)\n",
            "  adding: Development_Dataset_15/training/images/Weedelec_mais_2019-09-25T120710-38.jpg (deflated 0%)\n",
            "  adding: Development_Dataset_15/training/images/Pead_haricot_00066_i750.jpg (deflated 0%)\n",
            "  adding: Development_Dataset_15/training/images/Bipbip_mais_im_04501.jpg (deflated 0%)\n",
            "  adding: Development_Dataset_15/training/images/Roseau_mais_0306_false.png (deflated 0%)\n",
            "  adding: Development_Dataset_15/training/images/Roseau_mais_0132_false.png (deflated 0%)\n",
            "  adding: Development_Dataset_15/training/images/Weedelec_mais_2019-09-25T120909-84.jpg (deflated 0%)\n",
            "  adding: Development_Dataset_15/training/images/Weedelec_haricot_2019-09-25T114655-74.jpg (deflated 0%)\n",
            "  adding: Development_Dataset_15/training/images/Bipbip_mais_im_03581.jpg (deflated 0%)\n",
            "  adding: Development_Dataset_15/training/images/Weedelec_haricot_2019-09-25T114957-144.jpg (deflated 0%)\n",
            "  adding: Development_Dataset_15/training/images/Roseau_mais_0136_false.png (deflated 0%)\n",
            "  adding: Development_Dataset_15/training/images/Roseau_haricot_0104_false.png (deflated 0%)\n",
            "  adding: Development_Dataset_15/training/images/Bipbip_mais_im_04031.jpg (deflated 0%)\n",
            "  adding: Development_Dataset_15/training/images/Bipbip_haricot_im_03111.jpg (deflated 0%)\n",
            "  adding: Development_Dataset_15/training/images/Roseau_haricot_0096_false.png (deflated 0%)\n",
            "  adding: Development_Dataset_15/training/images/Bipbip_haricot_im_02231.jpg (deflated 0%)\n",
            "  adding: Development_Dataset_15/training/images/Weedelec_mais_2019-09-25T121311-178.jpg (deflated 0%)\n",
            "  adding: Development_Dataset_15/training/images/Weedelec_haricot_2019-09-25T120036-391.jpg (deflated 0%)\n",
            "  adding: Development_Dataset_15/training/images/Roseau_haricot_0114_false.png (deflated 0%)\n",
            "  adding: Development_Dataset_15/training/images/Weedelec_haricot_2019-09-25T120105-402.jpg (deflated 0%)\n",
            "  adding: Development_Dataset_15/training/images/Weedelec_haricot_2019-09-25T115952-374.jpg (deflated 0%)\n",
            "  adding: Development_Dataset_15/training/images/Pead_haricot_00069_i750.jpg (deflated 0%)\n",
            "  adding: Development_Dataset_15/training/images/Roseau_haricot_0024_false.png (deflated 0%)\n",
            "  adding: Development_Dataset_15/training/images/Roseau_haricot_0078_false.png (deflated 0%)\n",
            "  adding: Development_Dataset_15/training/images/Bipbip_mais_im_08061.jpg (deflated 0%)\n",
            "  adding: Development_Dataset_15/training/images/Pead_mais_00817_i900.jpg (deflated 0%)\n",
            "  adding: Development_Dataset_15/training/images/Bipbip_haricot_im_03291.jpg (deflated 0%)\n",
            "  adding: Development_Dataset_15/training/images/Pead_mais_00788_i900.jpg (deflated 0%)\n",
            "  adding: Development_Dataset_15/training/images/Weedelec_mais_2019-09-25T122041-353.jpg (deflated 0%)\n",
            "  adding: Development_Dataset_15/training/images/Roseau_mais_0236_false.png (deflated 0%)\n",
            "  adding: Development_Dataset_15/training/images/Roseau_haricot_0410_false.png (deflated 0%)\n",
            "  adding: Development_Dataset_15/training/images/Pead_haricot_00541_i750.jpg (deflated 0%)\n",
            "  adding: Development_Dataset_15/training/images/Bipbip_mais_im_03231.jpg (deflated 0%)\n",
            "  adding: Development_Dataset_15/training/images/Roseau_mais_0278_false.png (deflated 0%)\n",
            "  adding: Development_Dataset_15/training/images/Bipbip_mais_im_01391.jpg (deflated 0%)\n",
            "  adding: Development_Dataset_15/training/images/Bipbip_mais_im_09921.jpg (deflated 0%)\n",
            "  adding: Development_Dataset_15/training/images/Pead_haricot_00479_i750.jpg (deflated 0%)\n",
            "  adding: Development_Dataset_15/training/images/Bipbip_haricot_im_01541.jpg (deflated 0%)\n",
            "  adding: Development_Dataset_15/training/images/Bipbip_mais_im_03691.jpg (deflated 0%)\n",
            "  adding: Development_Dataset_15/training/images/Weedelec_haricot_2019-09-25T120054-398.jpg (deflated 0%)\n",
            "  adding: Development_Dataset_15/training/images/Bipbip_haricot_im_03531.jpg (deflated 0%)\n",
            "  adding: Development_Dataset_15/training/images/Pead_mais_00805_i900.jpg (deflated 0%)\n",
            "  adding: Development_Dataset_15/training/images/Weedelec_mais_2019-09-25T121429-208.jpg (deflated 0%)\n",
            "  adding: Development_Dataset_15/training/images/Roseau_haricot_0016_false.png (deflated 0%)\n",
            "  adding: Development_Dataset_15/training/images/Weedelec_haricot_2019-09-25T114844-116.jpg (deflated 1%)\n",
            "  adding: Development_Dataset_15/training/images/Roseau_haricot_0088_false.png (deflated 0%)\n",
            "  adding: Development_Dataset_15/training/images/Bipbip_haricot_im_03481.jpg (deflated 0%)\n",
            "  adding: Development_Dataset_15/training/images/Roseau_haricot_0026_false.png (deflated 0%)\n",
            "  adding: Development_Dataset_15/training/images/Pead_mais_00431_i900.jpg (deflated 0%)\n",
            "  adding: Development_Dataset_15/training/images/Weedelec_haricot_2019-09-25T114644-70.jpg (deflated 0%)\n",
            "  adding: Development_Dataset_15/training/images/Pead_haricot_00171_i750.jpg (deflated 0%)\n",
            "  adding: Development_Dataset_15/training/images/Pead_mais_00643_i900.jpg (deflated 0%)\n",
            "  adding: Development_Dataset_15/training/images/Bipbip_mais_im_05871.jpg (deflated 0%)\n",
            "  adding: Development_Dataset_15/training/images/Weedelec_haricot_2019-09-25T115059-168.jpg (deflated 0%)\n",
            "  adding: Development_Dataset_15/training/images/Bipbip_mais_im_02891.jpg (deflated 0%)\n",
            "  adding: Development_Dataset_15/training/images/Roseau_haricot_0268_false.png (deflated 0%)\n",
            "  adding: Development_Dataset_15/training/images/Weedelec_mais_2019-09-25T121932-326.jpg (deflated 0%)\n",
            "  adding: Development_Dataset_15/training/images/Bipbip_haricot_im_00321.jpg (deflated 0%)\n",
            "  adding: Development_Dataset_15/training/images/Pead_haricot_00310_i750.jpg (deflated 0%)\n",
            "  adding: Development_Dataset_15/training/images/Weedelec_mais_2019-09-25T121230-162.jpg (deflated 0%)\n",
            "  adding: Development_Dataset_15/training/images/Bipbip_haricot_im_01021.jpg (deflated 0%)\n",
            "  adding: Development_Dataset_15/training/images/Bipbip_mais_im_05801.jpg (deflated 0%)\n",
            "  adding: Development_Dataset_15/training/images/Weedelec_haricot_2019-09-25T114741-92.jpg (deflated 0%)\n",
            "  adding: Development_Dataset_15/training/images/Bipbip_mais_im_03811.jpg (deflated 0%)\n",
            "  adding: Development_Dataset_15/training/images/Weedelec_mais_2019-09-25T122033-350.jpg (deflated 0%)\n",
            "  adding: Development_Dataset_15/training/images/Roseau_haricot_0388_false.png (deflated 0%)\n",
            "  adding: Development_Dataset_15/training/images/Pead_mais_00118_i900.jpg (deflated 0%)\n",
            "  adding: Development_Dataset_15/training/images/Pead_mais_00233_i900.jpg (deflated 0%)\n",
            "  adding: Development_Dataset_15/training/images/Roseau_haricot_0260_false.png (deflated 0%)\n",
            "  adding: Development_Dataset_15/training/images/Weedelec_mais_2019-09-25T121622-252.jpg (deflated 0%)\n",
            "  adding: Development_Dataset_15/training/images/Weedelec_mais_2019-09-25T122212-389.jpg (deflated 0%)\n",
            "  adding: Development_Dataset_15/training/images/Bipbip_haricot_im_03461.jpg (deflated 0%)\n",
            "  adding: Development_Dataset_15/training/images/Bipbip_haricot_im_04301.jpg (deflated 0%)\n",
            "  adding: Development_Dataset_15/training/images/Bipbip_mais_im_06541.jpg (deflated 0%)\n",
            "  adding: Development_Dataset_15/training/images/Weedelec_haricot_2019-09-25T115730-319.jpg (deflated 0%)\n",
            "  adding: Development_Dataset_15/training/images/Pead_haricot_00454_i750.jpg (deflated 0%)\n",
            "  adding: Development_Dataset_15/training/images/Pead_haricot_00300_i750.jpg (deflated 0%)\n",
            "  adding: Development_Dataset_15/training/images/Weedelec_haricot_2019-09-25T115917-360.jpg (deflated 0%)\n",
            "  adding: Development_Dataset_15/training/images/Roseau_haricot_0412_false.png (deflated 0%)\n",
            "  adding: Development_Dataset_15/training/images/Pead_mais_00639_i900.jpg (deflated 0%)\n",
            "  adding: Development_Dataset_15/training/images/Weedelec_haricot_2019-09-25T114450-26.jpg (deflated 0%)\n",
            "  adding: Development_Dataset_15/training/images/Weedelec_mais_2019-09-25T121141-143.jpg (deflated 0%)\n",
            "  adding: Development_Dataset_15/training/images/Weedelec_haricot_2019-09-25T114705-78.jpg (deflated 0%)\n",
            "  adding: Development_Dataset_15/training/images/Roseau_mais_0124_false.png (deflated 0%)\n",
            "  adding: Development_Dataset_15/training/images/Roseau_mais_0280_false.png (deflated 0%)\n",
            "  adding: Development_Dataset_15/training/images/Bipbip_haricot_im_05141.jpg (deflated 0%)\n",
            "  adding: Development_Dataset_15/training/images/Roseau_mais_0054_false.png (deflated 0%)\n",
            "  adding: Development_Dataset_15/training/images/Pead_mais_00764_i900.jpg (deflated 0%)\n",
            "  adding: Development_Dataset_15/training/images/Weedelec_mais_2019-09-25T121609-247.jpg (deflated 0%)\n",
            "  adding: Development_Dataset_15/training/images/Pead_haricot_00592_i750.jpg (deflated 0%)\n",
            "  adding: Development_Dataset_15/training/images/Bipbip_mais_im_08261.jpg (deflated 0%)\n",
            "  adding: Development_Dataset_15/training/images/Roseau_mais_0138_false.png (deflated 0%)\n",
            "  adding: Development_Dataset_15/training/images/Bipbip_mais_im_01751.jpg (deflated 0%)\n",
            "  adding: Development_Dataset_15/training/images/Pead_haricot_00294_i750.jpg (deflated 0%)\n",
            "  adding: Development_Dataset_15/training/images/Roseau_haricot_0244_false.png (deflated 0%)\n",
            "  adding: Development_Dataset_15/training/images/Pead_mais_00739_i900.jpg (deflated 0%)\n",
            "  adding: Development_Dataset_15/training/images/Weedelec_mais_2019-09-25T121906-316.jpg (deflated 0%)\n",
            "  adding: Development_Dataset_15/training/images/Roseau_mais_0344_false.png (deflated 0%)\n",
            "  adding: Development_Dataset_15/training/images/Roseau_mais_0044_false.png (deflated 0%)\n",
            "  adding: Development_Dataset_15/training/images/Pead_haricot_00460_i750.jpg (deflated 0%)\n",
            "  adding: Development_Dataset_15/training/images/Roseau_haricot_0288_false.png (deflated 0%)\n",
            "  adding: Development_Dataset_15/training/images/Roseau_mais_0090_false.png (deflated 0%)\n",
            "  adding: Development_Dataset_15/training/images/Weedelec_haricot_2019-09-25T114918-129.jpg (deflated 0%)\n",
            "  adding: Development_Dataset_15/training/images/Roseau_mais_0240_false.png (deflated 0%)\n",
            "  adding: Development_Dataset_15/training/images/Weedelec_haricot_2019-09-25T114623-62.jpg (deflated 0%)\n",
            "  adding: Development_Dataset_15/training/images/Pead_mais_00666_i900.jpg (deflated 0%)\n",
            "  adding: Development_Dataset_15/training/images/Roseau_mais_0336_false.png (deflated 0%)\n",
            "  adding: Development_Dataset_15/training/images/Bipbip_haricot_im_06851.jpg (deflated 0%)\n",
            "  adding: Development_Dataset_15/training/images/Weedelec_haricot_2019-09-25T115057-167.jpg (deflated 0%)\n",
            "  adding: Development_Dataset_15/training/images/Pead_mais_00535_i900.jpg (deflated 0%)\n",
            "  adding: Development_Dataset_15/training/images/Roseau_haricot_0054_false.png (deflated 0%)\n",
            "  adding: Development_Dataset_15/training/images/Bipbip_mais_im_07831.jpg (deflated 0%)\n",
            "  adding: Development_Dataset_15/training/images/Roseau_haricot_0408_false.png (deflated 0%)\n",
            "  adding: Development_Dataset_15/training/images/Roseau_haricot_0126_false.png (deflated 0%)\n",
            "  adding: Development_Dataset_15/training/images/Bipbip_mais_im_07271.jpg (deflated 0%)\n",
            "  adding: Development_Dataset_15/training/images/Pead_haricot_00215_i750.jpg (deflated 0%)\n",
            "  adding: Development_Dataset_15/training/images/Bipbip_haricot_im_03751.jpg (deflated 0%)\n",
            "  adding: Development_Dataset_15/training/images/Weedelec_mais_2019-09-25T120828-68.jpg (deflated 0%)\n",
            "  adding: Development_Dataset_15/training/images/Weedelec_haricot_2019-09-25T115041-161.jpg (deflated 0%)\n",
            "  adding: Development_Dataset_15/training/images/Bipbip_haricot_im_00451.jpg (deflated 0%)\n",
            "  adding: Development_Dataset_15/training/images/Weedelec_haricot_2019-09-25T115046-163.jpg (deflated 0%)\n",
            "  adding: Development_Dataset_15/training/images/Roseau_mais_0358_false.png (deflated 0%)\n",
            "  adding: Development_Dataset_15/training/images/Pead_mais_00748_i900.jpg (deflated 0%)\n",
            "  adding: Development_Dataset_15/training/images/Roseau_mais_0230_false.png (deflated 0%)\n",
            "  adding: Development_Dataset_15/training/images/Bipbip_mais_im_02371.jpg (deflated 0%)\n",
            "  adding: Development_Dataset_15/training/images/Weedelec_mais_2019-09-25T120545-5.jpg (deflated 0%)\n",
            "  adding: Development_Dataset_15/training/images/Bipbip_mais_im_03511.jpg (deflated 0%)\n",
            "  adding: Development_Dataset_15/training/images/Pead_haricot_00711_i750.jpg (deflated 0%)\n",
            "  adding: Development_Dataset_15/training/images/Weedelec_mais_2019-09-25T121319-181.jpg (deflated 0%)\n",
            "  adding: Development_Dataset_15/training/images/Bipbip_mais_im_06141.jpg (deflated 0%)\n",
            "  adding: Development_Dataset_15/training/images/Roseau_haricot_0022_false.png (deflated 0%)\n",
            "  adding: Development_Dataset_15/training/images/Roseau_mais_0318_false.png (deflated 0%)\n",
            "  adding: Development_Dataset_15/training/images/Bipbip_mais_im_03121.jpg (deflated 0%)\n",
            "  adding: Development_Dataset_15/training/images/Bipbip_mais_im_08731.jpg (deflated 0%)\n",
            "  adding: Development_Dataset_15/training/images/Weedelec_haricot_2019-09-25T120005-379.jpg (deflated 0%)\n",
            "  adding: Development_Dataset_15/training/images/Weedelec_mais_2019-09-25T122137-375.jpg (deflated 0%)\n",
            "  adding: Development_Dataset_15/training/images/Pead_mais_00615_i900.jpg (deflated 0%)\n",
            "  adding: Development_Dataset_15/training/images/Pead_haricot_00665_i750.jpg (deflated 0%)\n",
            "  adding: Development_Dataset_15/training/images/Weedelec_mais_2019-09-25T122204-386.jpg (deflated 0%)\n",
            "  adding: Development_Dataset_15/training/images/Bipbip_mais_im_04671.jpg (deflated 0%)\n",
            "  adding: Development_Dataset_15/training/images/Pead_mais_00727_i900.jpg (deflated 0%)\n",
            "  adding: Development_Dataset_15/training/images/Roseau_haricot_0352_false.png (deflated 0%)\n",
            "  adding: Development_Dataset_15/training/images/Weedelec_haricot_2019-09-25T115239-207.jpg (deflated 0%)\n",
            "  adding: Development_Dataset_15/training/images/Pead_haricot_00685_i750.jpg (deflated 0%)\n",
            "  adding: Development_Dataset_15/training/images/Pead_haricot_00707_i750.jpg (deflated 0%)\n",
            "  adding: Development_Dataset_15/training/images/Weedelec_mais_2019-09-25T122157-383.jpg (deflated 0%)\n",
            "  adding: Development_Dataset_15/training/images/Pead_haricot_00602_i750.jpg (deflated 0%)\n",
            "  adding: Development_Dataset_15/training/images/Pead_mais_00500_i900.jpg (deflated 0%)\n",
            "  adding: Development_Dataset_15/training/images/Pead_haricot_00172_i750.jpg (deflated 0%)\n",
            "  adding: Development_Dataset_15/training/images/Bipbip_haricot_im_01271.jpg (deflated 0%)\n",
            "  adding: Development_Dataset_15/training/images/Bipbip_haricot_im_07071.jpg (deflated 0%)\n",
            "  adding: Development_Dataset_15/training/images/Pead_mais_00647_i900.jpg (deflated 0%)\n",
            "  adding: Development_Dataset_15/training/images/Pead_haricot_00671_i750.jpg (deflated 0%)\n",
            "  adding: Development_Dataset_15/training/images/Pead_mais_00367_i900.jpg (deflated 0%)\n",
            "  adding: Development_Dataset_15/training/images/Pead_mais_00447_i900.jpg (deflated 0%)\n",
            "  adding: Development_Dataset_15/training/images/Weedelec_haricot_2019-09-25T114455-28.jpg (deflated 0%)\n",
            "  adding: Development_Dataset_15/training/images/Pead_mais_00287_i900.jpg (deflated 0%)\n",
            "  adding: Development_Dataset_15/training/images/Roseau_mais_0178_false.png (deflated 0%)\n",
            "  adding: Development_Dataset_15/training/images/Pead_mais_00580_i900.jpg (deflated 0%)\n",
            "  adding: Development_Dataset_15/training/images/Weedelec_haricot_2019-09-25T120024-386.jpg (deflated 0%)\n",
            "  adding: Development_Dataset_15/training/images/Roseau_mais_0032_false.png (deflated 0%)\n",
            "  adding: Development_Dataset_15/training/images/Roseau_mais_0330_false.png (deflated 0%)\n",
            "  adding: Development_Dataset_15/training/images/Weedelec_haricot_2019-09-25T114905-124.jpg (deflated 0%)\n",
            "  adding: Development_Dataset_15/training/images/Weedelec_mais_2019-09-25T121012-108.jpg (deflated 0%)\n",
            "  adding: Development_Dataset_15/training/images/Pead_mais_00169_i900.jpg (deflated 0%)\n",
            "  adding: Development_Dataset_15/training/images/Bipbip_haricot_im_00801.jpg (deflated 0%)\n",
            "  adding: Development_Dataset_15/training/images/Weedelec_mais_2019-09-25T121057-126.jpg (deflated 0%)\n",
            "  adding: Development_Dataset_15/training/images/Roseau_mais_0064_false.png (deflated 0%)\n",
            "  adding: Development_Dataset_15/training/images/Roseau_haricot_0120_false.png (deflated 0%)\n",
            "  adding: Development_Dataset_15/training/images/Roseau_haricot_0304_false.png (deflated 0%)\n",
            "  adding: Development_Dataset_15/training/images/Weedelec_mais_2019-09-25T121821-298.jpg (deflated 0%)\n",
            "  adding: Development_Dataset_15/training/images/Roseau_mais_0352_false.png (deflated 0%)\n",
            "  adding: Development_Dataset_15/training/images/Weedelec_haricot_2019-09-25T115932-366.jpg (deflated 0%)\n",
            "  adding: Development_Dataset_15/training/images/Roseau_mais_0260_false.png (deflated 0%)\n",
            "  adding: Development_Dataset_15/training/images/Roseau_mais_0194_false.png (deflated 0%)\n",
            "  adding: Development_Dataset_15/training/images/Weedelec_haricot_2019-09-25T115618-291.jpg (deflated 0%)\n",
            "  adding: Development_Dataset_15/training/images/Bipbip_mais_im_01561.jpg (deflated 0%)\n",
            "  adding: Development_Dataset_15/training/images/Roseau_haricot_0176_false.png (deflated 0%)\n",
            "  adding: Development_Dataset_15/training/images/Roseau_mais_0356_false.png (deflated 0%)\n",
            "  adding: Development_Dataset_15/training/images/Pead_haricot_00485_i750.jpg (deflated 0%)\n",
            "  adding: Development_Dataset_15/training/images/Roseau_haricot_0236_false.png (deflated 0%)\n",
            "  adding: Development_Dataset_15/training/images/Weedelec_haricot_2019-09-25T115510-265.jpg (deflated 0%)\n",
            "  adding: Development_Dataset_15/training/images/Weedelec_mais_2019-09-25T120820-65.jpg (deflated 0%)\n",
            "  adding: Development_Dataset_15/training/images/Bipbip_haricot_im_06641.jpg (deflated 0%)\n",
            "  adding: Development_Dataset_15/training/images/Pead_mais_00699_i900.jpg (deflated 0%)\n",
            "  adding: Development_Dataset_15/training/images/Pead_haricot_00443_i750.jpg (deflated 0%)\n",
            "  adding: Development_Dataset_15/training/images/Pead_haricot_00218_i750.jpg (deflated 0%)\n",
            "  adding: Development_Dataset_15/training/images/Roseau_haricot_0360_false.png (deflated 0%)\n",
            "  adding: Development_Dataset_15/training/images/Bipbip_mais_im_03391.jpg (deflated 0%)\n",
            "  adding: Development_Dataset_15/training/images/Weedelec_mais_2019-09-25T120600-11.jpg (deflated 0%)\n",
            "  adding: Development_Dataset_15/training/images/Weedelec_mais_2019-09-25T122016-343.jpg (deflated 0%)\n",
            "  adding: Development_Dataset_15/training/images/Weedelec_haricot_2019-09-25T114629-64.jpg (deflated 0%)\n",
            "  adding: Development_Dataset_15/training/images/Bipbip_mais_im_02461.jpg (deflated 0%)\n",
            "  adding: Development_Dataset_15/training/images/Bipbip_haricot_im_06481.jpg (deflated 0%)\n",
            "  adding: Development_Dataset_15/training/images/Roseau_mais_0072_false.png (deflated 0%)\n",
            "  adding: Development_Dataset_15/training/images/Pead_haricot_00440_i750.jpg (deflated 0%)\n",
            "  adding: Development_Dataset_15/training/images/Bipbip_mais_im_02281.jpg (deflated 0%)\n",
            "  adding: Development_Dataset_15/training/images/Weedelec_mais_2019-09-25T121630-255.jpg (deflated 0%)\n",
            "  adding: Development_Dataset_15/training/images/Bipbip_mais_im_07451.jpg (deflated 0%)\n",
            "  adding: Development_Dataset_15/training/images/Bipbip_mais_im_03181.jpg (deflated 0%)\n",
            "  adding: Development_Dataset_15/training/images/Weedelec_haricot_2019-09-25T114434-20.jpg (deflated 1%)\n",
            "  adding: Development_Dataset_15/training/images/Pead_haricot_00482_i750.jpg (deflated 0%)\n",
            "  adding: Development_Dataset_15/training/images/Pead_mais_00062_i900.jpg (deflated 0%)\n",
            "  adding: Development_Dataset_15/training/images/Bipbip_haricot_im_04991.jpg (deflated 0%)\n",
            "  adding: Development_Dataset_15/training/images/Pead_mais_00194_i900.jpg (deflated 0%)\n",
            "  adding: Development_Dataset_15/training/images/Roseau_haricot_0168_false.png (deflated 0%)\n",
            "  adding: Development_Dataset_15/training/images/Weedelec_mais_2019-09-25T121706-269.jpg (deflated 0%)\n",
            "  adding: Development_Dataset_15/training/images/Pead_haricot_00586_i750.jpg (deflated 0%)\n",
            "  adding: Development_Dataset_15/training/images/Pead_mais_00492_i900.jpg (deflated 0%)\n",
            "  adding: Development_Dataset_15/training/images/Roseau_haricot_0014_false.png (deflated 0%)\n",
            "  adding: Development_Dataset_15/training/images/Roseau_mais_0034_false.png (deflated 0%)\n",
            "  adding: Development_Dataset_15/training/images/Roseau_haricot_0404_false.png (deflated 0%)\n",
            "  adding: Development_Dataset_15/training/images/Pead_haricot_00047_i750.jpg (deflated 0%)\n",
            "  adding: Development_Dataset_15/training/images/Pead_haricot_00319_i750.jpg (deflated 0%)\n",
            "  adding: Development_Dataset_15/training/images/Bipbip_haricot_im_04541.jpg (deflated 0%)\n",
            "  adding: Development_Dataset_15/training/images/Bipbip_mais_im_10161.jpg (deflated 0%)\n",
            "  adding: Development_Dataset_15/training/images/Bipbip_mais_im_01871.jpg (deflated 0%)\n",
            "  adding: Development_Dataset_15/training/images/Roseau_haricot_0208_false.png (deflated 0%)\n",
            "  adding: Development_Dataset_15/training/images/Bipbip_haricot_im_05421.jpg (deflated 0%)\n",
            "  adding: Development_Dataset_15/training/images/Pead_haricot_00221_i750.jpg (deflated 0%)\n",
            "  adding: Development_Dataset_15/training/images/Pead_haricot_00644_i750.jpg (deflated 0%)\n",
            "  adding: Development_Dataset_15/training/images/Pead_haricot_00273_i750.jpg (deflated 0%)\n",
            "  adding: Development_Dataset_15/training/images/Roseau_haricot_0312_false.png (deflated 0%)\n",
            "  adding: Development_Dataset_15/training/images/Roseau_mais_0234_false.png (deflated 0%)\n",
            "  adding: Development_Dataset_15/training/images/Bipbip_haricot_im_04741.jpg (deflated 0%)\n",
            "  adding: Development_Dataset_15/training/images/Bipbip_mais_im_03871.jpg (deflated 0%)\n",
            "  adding: Development_Dataset_15/training/images/Bipbip_mais_im_10771.jpg (deflated 0%)\n",
            "  adding: Development_Dataset_15/training/images/Bipbip_mais_im_08381.jpg (deflated 0%)\n",
            "  adding: Development_Dataset_15/training/images/Pead_mais_00792_i900.jpg (deflated 0%)\n",
            "  adding: Development_Dataset_15/training/images/Weedelec_mais_2019-09-25T122315-414.jpg (deflated 0%)\n",
            "  adding: Development_Dataset_15/training/images/Weedelec_haricot_2019-09-25T115135-182.jpg (deflated 0%)\n",
            "  adding: Development_Dataset_15/training/images/Weedelec_mais_2019-09-25T122023-346.jpg (deflated 0%)\n",
            "  adding: Development_Dataset_15/training/images/Roseau_haricot_0138_false.png (deflated 0%)\n",
            "  adding: Development_Dataset_15/training/images/Roseau_mais_0296_false.png (deflated 0%)\n",
            "  adding: Development_Dataset_15/training/images/Roseau_mais_0028_false.png (deflated 0%)\n",
            "  adding: Development_Dataset_15/training/images/Pead_mais_00564_i900.jpg (deflated 0%)\n",
            "  adding: Development_Dataset_15/training/images/Roseau_mais_0290_false.png (deflated 0%)\n",
            "  adding: Development_Dataset_15/training/images/Roseau_mais_0284_false.png (deflated 0%)\n",
            "  adding: Development_Dataset_15/training/images/Pead_haricot_00652_i750.jpg (deflated 0%)\n",
            "  adding: Development_Dataset_15/training/images/Bipbip_mais_im_06961.jpg (deflated 0%)\n",
            "  adding: Development_Dataset_15/training/images/Bipbip_haricot_im_05571.jpg (deflated 0%)\n",
            "  adding: Development_Dataset_15/training/images/Weedelec_haricot_2019-09-25T115720-315.jpg (deflated 0%)\n",
            "  adding: Development_Dataset_15/training/images/Roseau_haricot_0422_false.png (deflated 0%)\n",
            "  adding: Development_Dataset_15/training/images/Weedelec_mais_2019-09-25T121301-174.jpg (deflated 0%)\n",
            "  adding: Development_Dataset_15/training/images/Weedelec_mais_2019-09-25T121421-205.jpg (deflated 0%)\n",
            "  adding: Development_Dataset_15/training/images/Pead_haricot_00516_i750.jpg (deflated 0%)\n",
            "  adding: Development_Dataset_15/training/images/Weedelec_mais_2019-09-25T121220-158.jpg (deflated 0%)\n",
            "  adding: Development_Dataset_15/training/images/Pead_mais_00312_i900.jpg (deflated 0%)\n",
            "  adding: Development_Dataset_15/training/images/Roseau_haricot_0392_false.png (deflated 0%)\n",
            "  adding: Development_Dataset_15/training/images/Bipbip_haricot_im_04851.jpg (deflated 0%)\n",
            "  adding: Development_Dataset_15/training/images/Pead_haricot_00496_i750.jpg (deflated 0%)\n",
            "  adding: Development_Dataset_15/training/images/Roseau_haricot_0112_false.png (deflated 0%)\n",
            "  adding: Development_Dataset_15/training/images/Weedelec_mais_2019-09-25T122144-378.jpg (deflated 0%)\n",
            "  adding: Development_Dataset_15/training/images/Bipbip_mais_im_03921.jpg (deflated 0%)\n",
            "  adding: Development_Dataset_15/training/images/Pead_haricot_00712_i750.jpg (deflated 0%)\n",
            "  adding: Development_Dataset_15/training/images/Weedelec_mais_2019-09-25T120943-97.jpg (deflated 0%)\n",
            "  adding: Development_Dataset_15/training/images/Pead_mais_00552_i900.jpg (deflated 0%)\n",
            "  adding: Development_Dataset_15/training/images/Bipbip_mais_im_04781.jpg (deflated 0%)\n",
            "  adding: Development_Dataset_15/training/images/Pead_mais_00603_i900.jpg (deflated 0%)\n",
            "  adding: Development_Dataset_15/training/images/Pead_haricot_00525_i750.jpg (deflated 0%)\n",
            "  adding: Development_Dataset_15/training/images/Roseau_mais_0052_false.png (deflated 0%)\n",
            "  adding: Development_Dataset_15/training/images/Bipbip_mais_im_08441.jpg (deflated 0%)\n",
            "  adding: Development_Dataset_15/training/images/Bipbip_haricot_im_03571.jpg (deflated 0%)\n",
            "  adding: Development_Dataset_15/training/images/Pead_haricot_00153_i750.jpg (deflated 0%)\n",
            "  adding: Development_Dataset_15/training/images/Bipbip_haricot_im_05741.jpg (deflated 0%)\n",
            "  adding: Development_Dataset_15/training/images/Bipbip_mais_im_02151.jpg (deflated 0%)\n",
            "  adding: Development_Dataset_15/training/images/Bipbip_mais_im_08321.jpg (deflated 0%)\n",
            "  adding: Development_Dataset_15/training/images/Bipbip_mais_im_08121.jpg (deflated 0%)\n",
            "  adding: Development_Dataset_15/training/images/Weedelec_mais_2019-09-25T121945-331.jpg (deflated 0%)\n",
            "  adding: Development_Dataset_15/training/images/Roseau_mais_0148_false.png (deflated 0%)\n",
            "  adding: Development_Dataset_15/training/images/Pead_haricot_00503_i750.jpg (deflated 0%)\n",
            "  adding: Development_Dataset_15/training/images/Pead_mais_00097_i900.jpg (deflated 0%)\n",
            "  adding: Development_Dataset_15/training/images/Roseau_mais_0320_false.png (deflated 0%)\n",
            "  adding: Development_Dataset_15/training/images/Roseau_haricot_0184_false.png (deflated 0%)\n",
            "  adding: Development_Dataset_15/training/images/Pead_mais_00658_i900.jpg (deflated 0%)\n",
            "  adding: Development_Dataset_15/training/images/Pead_haricot_00622_i750.jpg (deflated 0%)\n",
            "  adding: Development_Dataset_15/training/images/Bipbip_haricot_im_00391.jpg (deflated 0%)\n",
            "  adding: Development_Dataset_15/training/images/Bipbip_haricot_im_06041.jpg (deflated 0%)\n",
            "  adding: Development_Dataset_15/training/images/Weedelec_haricot_2019-09-25T115518-268.jpg (deflated 0%)\n",
            "  adding: Development_Dataset_15/training/images/Weedelec_mais_2019-09-25T120728-45.jpg (deflated 0%)\n",
            "  adding: Development_Dataset_15/training/images/Weedelec_haricot_2019-09-25T114913-127.jpg (deflated 0%)\n",
            "  adding: Development_Dataset_15/training/images/Pead_haricot_00457_i750.jpg (deflated 0%)\n",
            "  adding: Development_Dataset_15/training/images/Pead_mais_00371_i900.jpg (deflated 0%)\n",
            "  adding: Development_Dataset_15/training/images/Weedelec_haricot_2019-09-25T120138-415.jpg (deflated 0%)\n",
            "  adding: Development_Dataset_15/training/images/Bipbip_mais_im_07991.jpg (deflated 0%)\n",
            "  adding: Development_Dataset_15/training/images/Bipbip_haricot_im_01451.jpg (deflated 0%)\n",
            "  adding: Development_Dataset_15/training/images/Pead_haricot_00079_i750.jpg (deflated 0%)\n",
            "  adding: Development_Dataset_15/training/images/Bipbip_mais_im_02411.jpg (deflated 0%)\n",
            "  adding: Development_Dataset_15/training/images/Roseau_haricot_0406_false.png (deflated 0%)\n",
            "  adding: Development_Dataset_15/training/images/Roseau_mais_0042_false.png (deflated 0%)\n",
            "  adding: Development_Dataset_15/training/images/Weedelec_haricot_2019-09-25T120212-428.jpg (deflated 0%)\n",
            "  adding: Development_Dataset_15/training/images/Roseau_mais_0118_false.png (deflated 0%)\n",
            "  adding: Development_Dataset_15/training/images/Weedelec_mais_2019-09-25T121342-190.jpg (deflated 0%)\n",
            "  adding: Development_Dataset_15/training/images/Bipbip_haricot_im_03961.jpg (deflated 0%)\n",
            "  adding: Development_Dataset_15/training/images/Weedelec_haricot_2019-09-25T115428-249.jpg (deflated 0%)\n",
            "  adding: Development_Dataset_15/training/images/Roseau_haricot_0070_false.png (deflated 0%)\n",
            "  adding: Development_Dataset_15/training/images/Bipbip_haricot_im_06241.jpg (deflated 0%)\n",
            "  adding: Development_Dataset_15/training/images/Bipbip_haricot_im_04791.jpg (deflated 0%)\n",
            "  adding: Development_Dataset_15/training/images/Pead_haricot_00233_i750.jpg (deflated 0%)\n",
            "  adding: Development_Dataset_15/training/images/Weedelec_haricot_2019-09-25T114403-8.jpg (deflated 0%)\n",
            "  adding: Development_Dataset_15/training/images/Weedelec_mais_2019-09-25T122054-358.jpg (deflated 0%)\n",
            "  adding: Development_Dataset_15/training/images/Roseau_mais_0206_false.png (deflated 0%)\n",
            "  adding: Development_Dataset_15/training/images/Weedelec_haricot_2019-09-25T114532-42.jpg (deflated 0%)\n",
            "  adding: Development_Dataset_15/training/images/Roseau_mais_0070_false.png (deflated 0%)\n",
            "  adding: Development_Dataset_15/training/images/Pead_haricot_00547_i750.jpg (deflated 0%)\n"
          ],
          "name": "stdout"
        }
      ]
    },
    {
      "cell_type": "markdown",
      "metadata": {
        "id": "pE_RdeX8MdCc"
      },
      "source": [
        "### Cells executed if: SPLIT_DATASET = False "
      ]
    },
    {
      "cell_type": "code",
      "metadata": {
        "id": "qxBpuYvBENkp"
      },
      "source": [
        "# --------------------------------------------------------------------------------\n",
        "# Unzip the json file with the split used and the splitted dataset from your drive\n",
        "# --------------------------------------------------------------------------------\n",
        "if SPLIT_DATASET == False:\n",
        "  # Get dataset_split.json\n",
        "  ! cp '/content/drive/My Drive/Challenge_2/dataset_split.json' '/content/dataset_split.json' \n",
        "  # Get the splitted dataset\n",
        "  ! unzip '/content/drive/My Drive/Challenge_2/Development_Dataset_15.zip'"
      ],
      "execution_count": null,
      "outputs": []
    },
    {
      "cell_type": "code",
      "metadata": {
        "id": "j0t4uZqC85Uw"
      },
      "source": [
        "import json\r\n",
        "\r\n",
        "subset_file = os.path.join('/content', 'dataset_split.json')\r\n",
        "with open(subset_file, 'r') as f:\r\n",
        "  data = json.load(f)\r\n",
        "\r\n",
        "data"
      ],
      "execution_count": null,
      "outputs": []
    },
    {
      "cell_type": "markdown",
      "metadata": {
        "id": "3StV7Ki8YSgR"
      },
      "source": [
        "# Dataset Setup"
      ]
    },
    {
      "cell_type": "code",
      "metadata": {
        "id": "4N88wG50nFI3"
      },
      "source": [
        "# --------------------------------------------------------------------------------------\n",
        "# Create the training and validation ImageDataGenerator objects for from scratch network\n",
        "# --------------------------------------------------------------------------------------\n",
        "def data_generator(apply_data_augmentation):\n",
        "\n",
        "  from tensorflow.keras.preprocessing.image import ImageDataGenerator\n",
        "\n",
        "  apply_data_augmentation = True\n",
        "\n",
        "  # Create training ImageDataGenerator object\n",
        "  # We need two different generators for images and corresponding masks\n",
        "  if apply_data_augmentation:\n",
        "    img_data_gen = ImageDataGenerator(rotation_range=10,\n",
        "                                      width_shift_range=10,\n",
        "                                      height_shift_range=10,\n",
        "                                      zoom_range=0.3,\n",
        "                                      horizontal_flip=True,\n",
        "                                      vertical_flip=True,\n",
        "                                      fill_mode='reflect',\n",
        "                                      rescale=1. / 255)\n",
        "\n",
        "    mask_data_gen = ImageDataGenerator(rotation_range=10,\n",
        "                                       width_shift_range=10,\n",
        "                                       height_shift_range=10,\n",
        "                                       zoom_range=0.3,\n",
        "                                       horizontal_flip=True,\n",
        "                                       vertical_flip=True,\n",
        "                                       fill_mode='reflect')\n",
        "    \n",
        "  return img_data_gen, mask_data_gen"
      ],
      "execution_count": 75,
      "outputs": []
    },
    {
      "cell_type": "code",
      "metadata": {
        "id": "hsieZk4aKhm6"
      },
      "source": [
        "# --------------------------------\n",
        "# Create the class for the dataset\n",
        "# --------------------------------\n",
        "\n",
        "from PIL import Image\n",
        "\n",
        "class CustomDataset(tf.keras.utils.Sequence):\n",
        "\n",
        "  \"\"\"\n",
        "    CustomDataset inheriting from tf.keras.utils.Sequence.\n",
        "\n",
        "    3 main methods:\n",
        "      - __init__: save dataset params like directory, filenames..\n",
        "      - __len__: return the total number of samples in the dataset\n",
        "      - __getitem__: return a sample from the dataset\n",
        "\n",
        "    Note: \n",
        "      - the custom dataset return a single sample from the dataset. Then, we use \n",
        "        a tf.data.Dataset object to group samples into batches.\n",
        "      - in this case we have a different structure of the dataset in memory. \n",
        "        We have all the images in the same folder and the training and validation splits\n",
        "        are defined in text files.\n",
        "\n",
        "  \"\"\"\n",
        "\n",
        "  def __init__(self, dataset_dir, which_subset, img_generator=None, mask_generator=None, \n",
        "               preprocessing_function=None, out_shape=[500, 500]):\n",
        "    import json\n",
        "    \n",
        "    subset_file = os.path.join('/content', 'dataset_split.json')\n",
        "    with open(subset_file, 'r') as f:\n",
        "      split = json.load(f)\n",
        "    \n",
        "    teams = ['Bipbip', 'Pead', 'Roseau', 'Weedelec']\n",
        "    plants = ['Haricot', 'Mais']\n",
        "    \n",
        "    subset_filenames = []\n",
        "    \n",
        "    for t in teams:\n",
        "      for p in plants:\n",
        "        \n",
        "        for img_name in split[which_subset][t][p]:\n",
        "          subset_filenames.append(img_name) \n",
        "\n",
        "    self.which_subset = which_subset\n",
        "    self.dataset_dir = dataset_dir\n",
        "    self.subset_filenames = subset_filenames\n",
        "    self.img_generator = img_generator\n",
        "    self.mask_generator = mask_generator\n",
        "    self.preprocessing_function = preprocessing_function\n",
        "    self.out_shape = out_shape\n",
        "\n",
        "  def __len__(self):\n",
        "    return len(self.subset_filenames)\n",
        "\n",
        "  def __getitem__(self, index):\n",
        "    # Read Image\n",
        "    curr_filename = self.subset_filenames[index]\n",
        "    img = Image.open(os.path.join(self.dataset_dir, self.which_subset, 'images', curr_filename[0] + '.' + curr_filename[1]))\n",
        "    mask = Image.open(os.path.join(self.dataset_dir, self.which_subset, 'masks', curr_filename[0] + '.png'))   \n",
        "\n",
        "    # Resize image and mask\n",
        "    img = img.resize(self.out_shape) #size – The requested size in pixels, as a 2-tuple: (width, height). !!!!!!!!!!! ATTENTION !!!!!!!!!\n",
        "    mask = mask.resize(self.out_shape, resample=Image.NEAREST) \n",
        "\n",
        "    img_arr = np.array(img)\n",
        "    mask_arr = np.array(mask)\n",
        "    \n",
        "    # RGB to target\n",
        "    # -------------\n",
        "    new_mask_arr = np.zeros(mask_arr.shape[:2], dtype=mask_arr.dtype)\n",
        "\n",
        "    # Use RGB dictionary in 'RGBtoTarget.txt' to convert RGB to target\n",
        "    new_mask_arr[np.where(np.all(mask_arr == [0, 0, 0], axis=-1))] = 0\n",
        "    new_mask_arr[np.where(np.all(mask_arr == [216, 124, 18], axis=-1))] = 0\n",
        "    new_mask_arr[np.where(np.all(mask_arr == [255, 255, 255], axis=-1))] = 1\n",
        "    new_mask_arr[np.where(np.all(mask_arr == [216, 67, 82], axis=-1))] = 2\n",
        "\n",
        "    mask_arr = np.expand_dims(new_mask_arr, -1)\n",
        "    # -------------\n",
        "\n",
        "    # in this dataset 255 mask label is assigned to an additional class, which corresponds \n",
        "    # to the contours of the objects. We remove it for simplicity.\n",
        "    #mask_arr[mask_arr == 255] = 0  \n",
        "\n",
        "    if self.which_subset == 'training':\n",
        "      if self.img_generator is not None and self.mask_generator is not None:\n",
        "        # Perform data augmentation\n",
        "        # We can get a random transformation from the ImageDataGenerator using get_random_transform\n",
        "        # and we can apply it to the image using apply_transform\n",
        "        img_t = self.img_generator.get_random_transform(img_arr.shape, seed=SEED)\n",
        "        mask_t = self.mask_generator.get_random_transform(mask_arr.shape, seed=SEED)\n",
        "        img_arr = self.img_generator.apply_transform(img_arr, img_t)\n",
        "        # ImageDataGenerator use bilinear interpolation for augmenting the images.\n",
        "        # Thus, when applied to the masks it will output 'interpolated classes', which\n",
        "        # is an unwanted behaviour. As a trick, we can transform each class mask \n",
        "        # separately and then we can cast to integer values (as in the binary segmentation notebook).\n",
        "        # Finally, we merge the augmented binary masks to obtain the final segmentation mask.\n",
        "        out_mask = np.zeros_like(mask_arr)\n",
        "        for c in np.unique(mask_arr):\n",
        "          if c > 0:\n",
        "            curr_class_arr = np.float32(mask_arr == c)\n",
        "            curr_class_arr = self.mask_generator.apply_transform(curr_class_arr, mask_t)\n",
        "            # from [0, 1] to {0, 1}\n",
        "            curr_class_arr = np.uint8(curr_class_arr)\n",
        "            # recover original class\n",
        "            curr_class_arr = curr_class_arr * c \n",
        "            out_mask += curr_class_arr\n",
        "    else:\n",
        "      out_mask = mask_arr\n",
        "    \n",
        "    if self.preprocessing_function is not None:\n",
        "        img_arr = self.preprocessing_function(img_arr)\n",
        "\n",
        "    return img_arr, np.float32(out_mask)"
      ],
      "execution_count": 76,
      "outputs": []
    },
    {
      "cell_type": "code",
      "metadata": {
        "id": "usz5SKPeQrOE"
      },
      "source": [
        "# ------------------------------------------------------------------\n",
        "# Create train and validation dataset objects using the custom class\n",
        "# ------------------------------------------------------------------\n",
        "def create_dataset(img_data_gen, mask_data_gen, img_h = 768, img_w = 768, bs = 3, num_classes = 3):\n",
        "\n",
        "  bs = 3\n",
        "\n",
        "  # Training\n",
        "  # --------\n",
        "  dataset = CustomDataset('/content/Development_Dataset_15',\n",
        "                          'training', \n",
        "                          img_generator=img_data_gen, \n",
        "                          mask_generator=mask_data_gen,\n",
        "                          out_shape=[img_w, img_h] # size – The requested size in pixels, as a 2-tuple: (width, height).\n",
        "                          )\n",
        "  \n",
        "  train_dataset = tf.data.Dataset.from_generator(lambda: dataset,\n",
        "                                                 output_types=(tf.float32, tf.float32),\n",
        "                                                 output_shapes=([img_h, img_w, 3], [img_h, img_w, 1]))\n",
        "  train_dataset = train_dataset.batch(bs)\n",
        "\n",
        "  train_dataset = train_dataset.repeat()\n",
        "  # --------\n",
        "\n",
        "  # Validation\n",
        "  # ----------\n",
        "  dataset_valid = CustomDataset('/content/Development_Dataset_15',\n",
        "                               'validation',\n",
        "                               out_shape=[img_w, img_h] # size – The requested size in pixels, as a 2-tuple: (width, height).\n",
        "                               )\n",
        "   \n",
        "  valid_dataset = tf.data.Dataset.from_generator(lambda: dataset_valid,\n",
        "                                                 output_types=(tf.float32, tf.float32),\n",
        "                                                 output_shapes=([img_h, img_w, 3], [img_h, img_w, 1]))\n",
        "  valid_dataset = valid_dataset.batch(bs)\n",
        "\n",
        "  valid_dataset = valid_dataset.repeat()\n",
        "  # ----------\n",
        "\n",
        "  return train_dataset, dataset, valid_dataset, dataset_valid"
      ],
      "execution_count": 77,
      "outputs": []
    },
    {
      "cell_type": "markdown",
      "metadata": {
        "id": "_NXPzxvhInyd"
      },
      "source": [
        "# Data generator test"
      ]
    },
    {
      "cell_type": "code",
      "metadata": {
        "id": "HOBabUbmnFJE"
      },
      "source": [
        "# Let's test data generator\n",
        "# -------------------------\n",
        "\n",
        "apply_data_augmentation = True\n",
        "\n",
        "img_h = 384\n",
        "img_w = 512\n",
        "\n",
        "num_classes = 3\n",
        "\n",
        "bs = 3\n",
        "\n",
        "[img_data_gen, mask_data_gen] = data_generator(apply_data_augmentation)\n",
        "\n",
        "[train_dataset, dataset, valid_dataset, dataset_valid] = create_dataset(img_data_gen, mask_data_gen, img_h = img_h, img_w = img_w, bs = bs, num_classes = num_classes)\n",
        "\n",
        "import time\n",
        "from matplotlib import cm\n",
        "import matplotlib.pyplot as plt\n",
        "\n",
        "%matplotlib inline\n",
        "\n",
        "# Assign a color to each class\n",
        "evenly_spaced_interval = np.linspace(0, 1, 3)\n",
        "colors = [cm.rainbow(x) for x in evenly_spaced_interval]\n",
        "\n",
        "iterator = iter(train_dataset)"
      ],
      "execution_count": 78,
      "outputs": []
    },
    {
      "cell_type": "code",
      "metadata": {
        "id": "LbqHtXqqmSyx"
      },
      "source": [
        "augmented_img, target = next(iterator)"
      ],
      "execution_count": 90,
      "outputs": []
    },
    {
      "cell_type": "code",
      "metadata": {
        "id": "9eunbPwWqPnB",
        "colab": {
          "base_uri": "https://localhost:8080/",
          "height": 251
        },
        "outputId": "e94aa142-e631-42f5-9676-81d97bfe3527"
      },
      "source": [
        "fig, ax = plt.subplots(1, 2)\n",
        "\n",
        "augmented_img = augmented_img[0]   # First element\n",
        "augmented_img = augmented_img  # denormalize\n",
        "\n",
        "target = np.array(target[0, ..., 0])   # First element (squeezing channel dimension)\n",
        "\n",
        "print(np.unique(target))\n",
        "\n",
        "target_img = np.zeros([target.shape[0], target.shape[1], 3])\n",
        "\n",
        "target_img[np.where(target == 0)] = [0, 0, 0]\n",
        "for i in range(1, 3):\n",
        "  target_img[np.where(target == i)] = np.array(colors[i-1])[:3] * 255\n",
        "\n",
        "ax[0].imshow(np.uint8(augmented_img))\n",
        "ax[1].imshow(np.uint8(target_img))\n",
        "\n",
        "plt.show()\n",
        "\n",
        "\n",
        "'''\n",
        "augmented_img, target = next(iterator)\n",
        "\n",
        "rgb_img = cv2.imread('/content/Development_Dataset_15/training/images/Pead_mais_00070_i900.jpg', cv2.IMREAD_UNCHANGED)  # open image\n",
        "proper_h = 384\n",
        "proper_w = 512\n",
        "    # resize to see how it works with kernels\n",
        "\n",
        "    # get exgreen\n",
        "exgr = None\n",
        "exgr_mask = None\n",
        "exgr = exgreen(rgb_img)\n",
        "print(\"Exgr shape: \", exgr.shape)\n",
        "\n",
        "exgr_mask = thresh(exgr, 50)\n",
        "#exgr.resize([proper_h, proper_w, 3])\n",
        "im_gray_plt(exgr)\n",
        "im_gray_plt(exgr_mask)\n",
        "'''"
      ],
      "execution_count": 91,
      "outputs": [
        {
          "output_type": "stream",
          "text": [
            "[0. 1. 2.]\n"
          ],
          "name": "stdout"
        },
        {
          "output_type": "execute_result",
          "data": {
            "text/plain": [
              "<matplotlib.image.AxesImage at 0x7fe46f6cae10>"
            ]
          },
          "metadata": {
            "tags": []
          },
          "execution_count": 91
        },
        {
          "output_type": "execute_result",
          "data": {
            "text/plain": [
              "<matplotlib.image.AxesImage at 0x7fe46f6ca780>"
            ]
          },
          "metadata": {
            "tags": []
          },
          "execution_count": 91
        },
        {
          "output_type": "display_data",
          "data": {
            "image/png": "[encoded data removed]",
            "text/plain": [
              "<Figure size 432x288 with 2 Axes>"
            ]
          },
          "metadata": {
            "tags": [],
            "needs_background": "light"
          }
        },
        {
          "output_type": "execute_result",
          "data": {
            "application/vnd.google.colaboratory.intrinsic+json": {
              "type": "string"
            },
            "text/plain": [
              "'\\naugmented_img, target = next(iterator)\\n\\nrgb_img = cv2.imread(\\'/content/Development_Dataset_15/training/images/Pead_mais_00070_i900.jpg\\', cv2.IMREAD_UNCHANGED)  # open image\\nproper_h = 384\\nproper_w = 512\\n    # resize to see how it works with kernels\\n\\n    # get exgreen\\nexgr = None\\nexgr_mask = None\\nexgr = exgreen(rgb_img)\\nprint(\"Exgr shape: \", exgr.shape)\\n\\nexgr_mask = thresh(exgr, 50)\\n#exgr.resize([proper_h, proper_w, 3])\\nim_gray_plt(exgr)\\nim_gray_plt(exgr_mask)\\n'"
            ]
          },
          "metadata": {
            "tags": []
          },
          "execution_count": 91
        }
      ]
    },
    {
      "cell_type": "markdown",
      "metadata": {
        "id": "npoSqABSC6BY"
      },
      "source": [
        "# Model setup"
      ]
    },
    {
      "cell_type": "markdown",
      "metadata": {
        "id": "JA1TGlOMnFJM"
      },
      "source": [
        "## Convolutional Neural Network (CNN)\n",
        "### Encoder-Decoder"
      ]
    },
    {
      "cell_type": "code",
      "metadata": {
        "id": "BvsdiF0TFTbt"
      },
      "source": [
        "# -----------------------------------------------------------------\n",
        "# Define the model created from scratch (without transfer learning)\n",
        "# -----------------------------------------------------------------\n",
        "def define_model(depth, start_f, num_classes, dynamic_input_shape):\n",
        "\n",
        "    model = tf.keras.Sequential()\n",
        "    \n",
        "    # Encoder\n",
        "    # -------\n",
        "    for i in range(depth):\n",
        "        \n",
        "        if i == 0:\n",
        "            if dynamic_input_shape:\n",
        "                input_shape = [None, None, 3]\n",
        "            else:\n",
        "                input_shape = [img_h, img_w, 3]\n",
        "        else:\n",
        "            input_shape=[None]\n",
        "        \n",
        "        model.add(tf.keras.layers.Conv2D(filters=start_f, \n",
        "                                         kernel_size=(3, 3),\n",
        "                                         strides=(1, 1),\n",
        "                                         padding='same',\n",
        "                                         input_shape=input_shape))\n",
        "        model.add(tf.keras.layers.ReLU())\n",
        "        model.add(tf.keras.layers.MaxPool2D(pool_size=(2, 2)))\n",
        "\n",
        "        start_f *= 2\n",
        "\n",
        "    # Bottleneck => does not have pooling\n",
        "    model.add(tf.keras.layers.Conv2D(filters=start_f, kernel_size=(3, 3), strides=(1, 1), padding='same'))\n",
        "    model.add(tf.keras.layers.ReLU())\n",
        "    \n",
        "    start_f = start_f // 2 # Start to decrease the number of features\n",
        "        \n",
        "    # Decoder: recover details\n",
        "    # -------\n",
        "    for i in range(depth):\n",
        "        model.add(tf.keras.layers.UpSampling2D(2, interpolation='bilinear')) # 2 means that double the input dimension\n",
        "        # Now conv + ReLU transform the upsampled features into dense features\n",
        "        model.add(tf.keras.layers.Conv2D(filters=start_f,\n",
        "                                         kernel_size=(3, 3),\n",
        "                                         strides=(1, 1),\n",
        "                                         padding='same'))\n",
        "        model.add(tf.keras.layers.ReLU())\n",
        "\n",
        "        start_f = start_f // 2\n",
        "\n",
        "    # Prediction Layer i.e. classification layer => FC layer convolutionalized\n",
        "    # ----------------\n",
        "    model.add(tf.keras.layers.Conv2D(filters=num_classes, # only 1 output neuron since the classification is binary: output => 0 == background, 1 == object\n",
        "                                     kernel_size=(1, 1), # => FC layer convolutionalized\n",
        "                                     strides=(1, 1), # stride of a FC layer\n",
        "                                     padding='same', # or valid: kernel is (1,1) and stride (1,1) so is not important\n",
        "                                     activation='softmax'))\n",
        "    \n",
        "    # Visualize created model as a table\n",
        "    model.summary()\n",
        "\n",
        "    return model"
      ],
      "execution_count": 34,
      "outputs": []
    },
    {
      "cell_type": "code",
      "metadata": {
        "id": "BjWUhaICmUUI"
      },
      "source": [
        "# -------------------------------------------------\n",
        "# Define the unet model (without transfer learning)\n",
        "# -------------------------------------------------\n",
        "import numpy as np \n",
        "import os\n",
        "import skimage.io as io\n",
        "import skimage.transform as trans\n",
        "import numpy as np\n",
        "from keras.models import *\n",
        "from keras.layers import *\n",
        "from keras.optimizers import *\n",
        "from keras.callbacks import ModelCheckpoint, LearningRateScheduler\n",
        "from keras import backend as keras\n",
        "\n",
        "\n",
        "def define_unet(pretrained_weights = None, input_size = (768,768,3)):\n",
        "\n",
        "    inputs = Input(input_size)\n",
        "\n",
        "    conv1 = Conv2D(64, 3, activation = 'relu', padding = 'same', kernel_initializer = 'he_normal')(inputs)\n",
        "    conv1 = Conv2D(64, 3, activation = 'relu', padding = 'same', kernel_initializer = 'he_normal')(conv1)\n",
        "    pool1 = MaxPooling2D(pool_size=(2, 2))(conv1)\n",
        "\n",
        "    conv2 = Conv2D(128, 3, activation = 'relu', padding = 'same', kernel_initializer = 'he_normal')(pool1)\n",
        "    conv2 = Conv2D(128, 3, activation = 'relu', padding = 'same', kernel_initializer = 'he_normal')(conv2)\n",
        "    pool2 = MaxPooling2D(pool_size=(2, 2))(conv2)\n",
        "\n",
        "    conv3 = Conv2D(256, 3, activation = 'relu', padding = 'same', kernel_initializer = 'he_normal')(pool2)\n",
        "    conv3 = Conv2D(256, 3, activation = 'relu', padding = 'same', kernel_initializer = 'he_normal')(conv3)\n",
        "    pool3 = MaxPooling2D(pool_size=(2, 2))(conv3)\n",
        "    \n",
        "    conv4 = Conv2D(512, 3, activation = 'relu', padding = 'same', kernel_initializer = 'he_normal')(pool3)\n",
        "    conv4 = Conv2D(512, 3, activation = 'relu', padding = 'same', kernel_initializer = 'he_normal')(conv4)\n",
        "    drop4 = Dropout(0.5)(conv4)\n",
        "    pool4 = MaxPooling2D(pool_size=(2, 2))(drop4)\n",
        "\n",
        "    conv5 = Conv2D(1024, 3, activation = 'relu', padding = 'same', kernel_initializer = 'he_normal')(pool4)\n",
        "    conv5 = Conv2D(1024, 3, activation = 'relu', padding = 'same', kernel_initializer = 'he_normal')(conv5)\n",
        "    drop5 = Dropout(0.5)(conv5)\n",
        "\n",
        "    up6 = Conv2D(512, 2, activation = 'relu', padding = 'same', kernel_initializer = 'he_normal')(UpSampling2D(size = (2,2))(drop5))\n",
        "    merge6 = concatenate([drop4,up6], axis = 3)\n",
        "    conv6 = Conv2D(512, 3, activation = 'relu', padding = 'same', kernel_initializer = 'he_normal')(merge6)\n",
        "    conv6 = Conv2D(512, 3, activation = 'relu', padding = 'same', kernel_initializer = 'he_normal')(conv6)\n",
        "\n",
        "    up7 = Conv2D(256, 2, activation = 'relu', padding = 'same', kernel_initializer = 'he_normal')(UpSampling2D(size = (2,2))(conv6))\n",
        "    merge7 = concatenate([conv3,up7], axis = 3)\n",
        "    conv7 = Conv2D(256, 3, activation = 'relu', padding = 'same', kernel_initializer = 'he_normal')(merge7)\n",
        "    conv7 = Conv2D(256, 3, activation = 'relu', padding = 'same', kernel_initializer = 'he_normal')(conv7)\n",
        "\n",
        "    up8 = Conv2D(128, 2, activation = 'relu', padding = 'same', kernel_initializer = 'he_normal')(UpSampling2D(size = (2,2))(conv7))\n",
        "    merge8 = concatenate([conv2,up8], axis = 3)\n",
        "    conv8 = Conv2D(128, 3, activation = 'relu', padding = 'same', kernel_initializer = 'he_normal')(merge8)\n",
        "    conv8 = Conv2D(128, 3, activation = 'relu', padding = 'same', kernel_initializer = 'he_normal')(conv8)\n",
        "\n",
        "    up9 = Conv2D(64, 2, activation = 'relu', padding = 'same', kernel_initializer = 'he_normal')(UpSampling2D(size = (2,2))(conv8))\n",
        "    merge9 = concatenate([conv1,up9], axis = 3)\n",
        "    conv9 = Conv2D(64, 3, activation = 'relu', padding = 'same', kernel_initializer = 'he_normal')(merge9)\n",
        "    conv9 = Conv2D(64, 3, activation = 'relu', padding = 'same', kernel_initializer = 'he_normal')(conv9)\n",
        "    conv9 = Conv2D(2, 3, activation = 'relu', padding = 'same', kernel_initializer = 'he_normal')(conv9)\n",
        "\n",
        "    conv10 = tf.keras.layers.Conv2D(filters=3, # only 1 output neuron since the classification is binary: output => 0 == background, 1 == object\n",
        "                                    kernel_size=(1, 1), # => FC layer convolutionalized\n",
        "                                    strides=(1, 1), # stride of a FC layer\n",
        "                                    padding='same', # or valid: kernel is (1,1) and stride (1,1) so is not important\n",
        "                                    activation='softmax')(conv9)\n",
        "\n",
        "    model = Model(inputs = inputs, outputs = conv10)\n",
        "\n",
        "    if(pretrained_weights):\n",
        "    \tmodel.load_weights(pretrained_weights)\n",
        "\n",
        "    # Visualize created model as a table\n",
        "    model.summary()\n",
        "\n",
        "    return model"
      ],
      "execution_count": 35,
      "outputs": []
    },
    {
      "cell_type": "code",
      "metadata": {
        "id": "KnaL8wT4EDud"
      },
      "source": [
        "# -----------------\r\n",
        "# Compile the model\r\n",
        "# -----------------\r\n",
        "def compile_model(model, lr = 5e-6):\r\n",
        "\r\n",
        "  # Optimization parameters\r\n",
        "  # -----------------------\r\n",
        "\r\n",
        "  # Loss\r\n",
        "  # ----\r\n",
        "  loss = tf.keras.losses.SparseCategoricalCrossentropy()\r\n",
        "  # ----\r\n",
        "\r\n",
        "  # Optimization function\r\n",
        "  # ---------------------\r\n",
        "  optimizer = tfa.optimizers.RectifiedAdam(learning_rate=lr)\r\n",
        "  # ---------------------\r\n",
        "\r\n",
        "  # Validation metrics\r\n",
        "  # ------------------\r\n",
        "  metrics = ['accuracy']\r\n",
        "  # ------------------\r\n",
        "\r\n",
        "  # -----------------------\r\n",
        "  \r\n",
        "  # Compile the model\r\n",
        "  model.compile(optimizer=optimizer, loss=loss, metrics=metrics)\r\n",
        "\r\n",
        "  return model"
      ],
      "execution_count": 36,
      "outputs": []
    },
    {
      "cell_type": "code",
      "metadata": {
        "scrolled": true,
        "id": "k97OK6CRnFJS",
        "colab": {
          "base_uri": "https://localhost:8080/",
          "height": 0
        },
        "outputId": "aea34a40-7cbd-440f-88c4-3234fb1fe3fd"
      },
      "source": [
        "'''\n",
        "model = unet()\n",
        "\n",
        "\n",
        "model = create_model(depth=4, \n",
        "                     start_f=8, \n",
        "                     num_classes=3, \n",
        "                     dynamic_input_shape=False)\n",
        "'''"
      ],
      "execution_count": 37,
      "outputs": [
        {
          "output_type": "execute_result",
          "data": {
            "application/vnd.google.colaboratory.intrinsic+json": {
              "type": "string"
            },
            "text/plain": [
              "'\\nmodel = unet()\\n\\n\\nmodel = create_model(depth=4, \\n                     start_f=8, \\n                     num_classes=3, \\n                     dynamic_input_shape=False)\\n'"
            ]
          },
          "metadata": {
            "tags": []
          },
          "execution_count": 37
        }
      ]
    },
    {
      "cell_type": "code",
      "metadata": {
        "id": "ApNlpYP2FGMn"
      },
      "source": [
        "# Here we define the intersection over union for each class in the batch.\r\n",
        "# Then we compute the final iou as the mean over classes\r\n",
        "def meanIoU(y_true, y_pred):\r\n",
        "  # get predicted class from softmax\r\n",
        "  y_pred = tf.expand_dims(tf.argmax(y_pred, -1), -1)\r\n",
        "\r\n",
        "  per_class_iou = []\r\n",
        "\r\n",
        "  for i in range(1,3): # exclude the background class 0\r\n",
        "\r\n",
        "    # Get prediction and target related to only a single class (i)\r\n",
        "    class_pred = tf.cast(tf.where(y_pred == i, 1, 0), tf.float32)\r\n",
        "    class_true = tf.cast(tf.where(y_true == i, 1, 0), tf.float32)\r\n",
        "    intersection = tf.reduce_sum(class_true * class_pred)\r\n",
        "    union = tf.reduce_sum(class_true) + tf.reduce_sum(class_pred) - intersection\r\n",
        "    \r\n",
        "    iou = (intersection + 1e-7) / (union + 1e-7)\r\n",
        "    per_class_iou.append(iou)\r\n",
        "\r\n",
        "  return tf.reduce_mean(per_class_iou)"
      ],
      "execution_count": 38,
      "outputs": []
    },
    {
      "cell_type": "code",
      "metadata": {
        "id": "9MlmYGVMnFJW"
      },
      "source": [
        "# -----------------\n",
        "# Compile the model\n",
        "# -----------------\n",
        "def compile_model(model, lr = 5e-6):\n",
        "\n",
        "  # Optimization params\n",
        "  # -------------------\n",
        "\n",
        "  # Loss\n",
        "  # ----\n",
        "  # Sparse Categorical Crossentropy to use integers (mask) instead of one-hot encoded labels\n",
        "  loss = tf.keras.losses.SparseCategoricalCrossentropy()\n",
        "  # ----\n",
        "\n",
        "  # Optimization function\n",
        "  # ---------------------\n",
        "  optimizer = tfa.optimizers.RectifiedAdam(learning_rate=lr)\n",
        "  # ---------------------\n",
        "\n",
        "  # Validation metrics\n",
        "  # ------------------  \n",
        "  metrics = ['accuracy', meanIoU]\n",
        "  # ------------------\n",
        "\n",
        "  # Compile Model\n",
        "  # -------------\n",
        "  model.compile(optimizer=optimizer, loss=loss, metrics=metrics)\n",
        "  # -------------\n",
        "\n",
        "  # -------------------\n",
        "  \n",
        "  return model"
      ],
      "execution_count": 39,
      "outputs": []
    },
    {
      "cell_type": "code",
      "metadata": {
        "id": "hczZhnx6FiDR"
      },
      "source": [
        "# -----------------\r\n",
        "# Set the callbacks\r\n",
        "# -----------------\r\n",
        "def set_callbacks(type = 'unet', model_checkpoint = True, visualize_tensorboard = False, early_stop = True, reduce_lr_on_plateau = True):\r\n",
        "  \r\n",
        "  import os\r\n",
        "  from datetime import datetime\r\n",
        "\r\n",
        "  cwd = os.getcwd()\r\n",
        "\r\n",
        "  exps_dir = os.path.join('/content/drive/My Drive/Challenge_2/', 'segmentation_experiments')\r\n",
        "  if not os.path.exists(exps_dir):\r\n",
        "    os.makedirs(exps_dir)\r\n",
        "\r\n",
        "  model_name = type\r\n",
        "\r\n",
        "  exp_dir = os.path.join(exps_dir, model_name)\r\n",
        "  if not os.path.exists(exp_dir):\r\n",
        "    os.makedirs(exp_dir)\r\n",
        "    \r\n",
        "  callbacks = []\r\n",
        "\r\n",
        "  # Model checkpoint\r\n",
        "  # ----------------\r\n",
        "  if model_checkpoint:\r\n",
        "    ckpt_dir = os.path.join(exp_dir, 'ckpts')\r\n",
        "    if not os.path.exists(ckpt_dir):\r\n",
        "      os.makedirs(ckpt_dir)\r\n",
        "\r\n",
        "    ckpt_callback = tf.keras.callbacks.ModelCheckpoint(filepath=os.path.join(ckpt_dir, 'cp_{epoch:02d}.ckpt'), \r\n",
        "                                                       save_weights_only=True,\r\n",
        "                                                       save_best_only=True)  # False to save the model directly\r\n",
        "    callbacks.append(ckpt_callback)\r\n",
        "  # ----------------\r\n",
        "\r\n",
        "  # Visualize Learning on Tensorboard\r\n",
        "  # ---------------------------------\r\n",
        "  if visualize_tensorboard:\r\n",
        "    tb_dir = os.path.join(exp_dir, 'tb_logs')\r\n",
        "    if not os.path.exists(tb_dir):\r\n",
        "      os.makedirs(tb_dir)\r\n",
        "    \r\n",
        "    # By default shows losses and metrics for both training and validation\r\n",
        "    tb_callback = tf.keras.callbacks.TensorBoard(log_dir=tb_dir,\r\n",
        "                                                 profile_batch=0,\r\n",
        "                                                 histogram_freq=1)  # if 1 shows weights histograms\r\n",
        "    callbacks.append(tb_callback)\r\n",
        "  # ---------------------------------\r\n",
        "\r\n",
        "  # Early Stopping\r\n",
        "  # --------------\r\n",
        "  if early_stop:\r\n",
        "    es_callback = tf.keras.callbacks.EarlyStopping(monitor='val_loss', \r\n",
        "                                                   patience = 15,\r\n",
        "                                                   restore_best_weights=True)\r\n",
        "    callbacks.append(es_callback)\r\n",
        "  # --------------\r\n",
        "\r\n",
        "  # Reduce Learning rate on plateau\r\n",
        "  # -------------------------------\r\n",
        "  if reduce_lr_on_plateau:\r\n",
        "    rlr_callback = tf.keras.callbacks.ReduceLROnPlateau(monitor='val_loss', \r\n",
        "                                                        factor=0.5, \r\n",
        "                                                        patience=4, \r\n",
        "                                                        verbose=1, \r\n",
        "                                                        mode='auto', \r\n",
        "                                                        min_delta=0.0001)\r\n",
        "    callbacks.append(rlr_callback)\r\n",
        "  # -------------------------------\r\n",
        "\r\n",
        "  return callbacks"
      ],
      "execution_count": 40,
      "outputs": []
    },
    {
      "cell_type": "code",
      "metadata": {
        "id": "oFqWInsnFtvi"
      },
      "source": [
        "# -----------\r\n",
        "# Train model\r\n",
        "# -----------\r\n",
        "def train_model(model, train_dataset, dataset, valid_dataset, dataset_valid, callbacks, num_epochs = 100, bs = 3):\r\n",
        "  \r\n",
        "  history_model = model.fit(x=train_dataset,\r\n",
        "                            epochs=num_epochs,  #### set repeat in training dataset\r\n",
        "                            steps_per_epoch=int(np.ceil(len(dataset) / bs)),\r\n",
        "                            validation_data=valid_dataset,\r\n",
        "                            validation_steps=int(np.ceil(len(dataset_valid) / bs)), \r\n",
        "                            callbacks=callbacks)\r\n",
        "  \r\n",
        "  return history_model"
      ],
      "execution_count": 41,
      "outputs": []
    },
    {
      "cell_type": "markdown",
      "metadata": {
        "id": "bhE3fP837gKp"
      },
      "source": [
        "# Training"
      ]
    },
    {
      "cell_type": "code",
      "metadata": {
        "id": "U8KTn0NbI9MK"
      },
      "source": [
        "# --------------------------------------\n",
        "# Train the model with transfer learning\n",
        "# --------------------------------------\n",
        "def train_unet():\n",
        "  \n",
        "  apply_data_augmentation = True\n",
        "\n",
        "  img_h = 384\n",
        "  img_w = 512\n",
        "\n",
        "  num_classes = 3\n",
        "\n",
        "  bs = 3\n",
        "\n",
        "  lr = 5e-6\n",
        "\n",
        "  num_epochs = 100\n",
        "\n",
        "  model_checkpoint = True\n",
        "  visualize_tensorboard = False\n",
        "  early_stop = True\n",
        "  reduce_lr_on_plateau = True\n",
        "\n",
        "  print('--------------------------------------------')\n",
        "  print('Image heigth                      ---> ' + str(img_h))\n",
        "  print('Image width                       ---> ' + str(img_w))\n",
        "  print('Batch size                        ---> ' + str(bs))\n",
        "  print('Learning rate                     ---> ' + str(lr))\n",
        "  print('Number of epochs                  ---> ' + str(num_epochs))\n",
        "  print('Model checkpoint                  ---> ' + str(model_checkpoint))\n",
        "  print('Visualize tensorboars             ---> ' + str(visualize_tensorboard))\n",
        "  print('Early stopping                    ---> ' + str(early_stop))\n",
        "  print('Reduce learning rate on plateau   ---> ' + str(reduce_lr_on_plateau))\n",
        "  print('--------------------------------------------')\n",
        "\n",
        "  [img_data_gen, mask_data_gen] = data_generator(apply_data_augmentation)\n",
        "\n",
        "  [train_dataset, dataset, valid_dataset, dataset_valid] = create_dataset(img_data_gen, mask_data_gen, img_h = img_h, img_w = img_w, bs = bs, num_classes = num_classes)\n",
        "\n",
        "  model = define_unet(pretrained_weights = None, input_size = (img_h, img_w, 3))\n",
        "  '''\n",
        "  exps_dir = os.path.join('/content/drive/My Drive/Challenge_2/', 'segmentation_experiments')\n",
        "  model_name = 'CNN_Dec08_02-03-33'\n",
        "  exp_dir = os.path.join(exps_dir, model_name)\n",
        "  ckpt_dir = os.path.join(exp_dir, 'ckpts')\n",
        "  latest = tf.train.latest_checkpoint(ckpt_dir)\n",
        "  print(latest)\n",
        "  model.load_weights(latest)\n",
        "  '''\n",
        "  model = compile_model(model, lr = lr)\n",
        "\n",
        "  callbacks = set_callbacks('unet', model_checkpoint = model_checkpoint, visualize_tensorboard = visualize_tensorboard, early_stop = early_stop, reduce_lr_on_plateau = reduce_lr_on_plateau)\n",
        "\n",
        "  history = train_model(model, train_dataset, dataset, valid_dataset, dataset_valid, callbacks, num_epochs = num_epochs, bs = bs)\n",
        "\n",
        "  plot_history(history)\n",
        "\n",
        "  return model, history"
      ],
      "execution_count": 93,
      "outputs": []
    },
    {
      "cell_type": "markdown",
      "metadata": {
        "id": "X_IghlxwGm8G"
      },
      "source": [
        "# Plots"
      ]
    },
    {
      "cell_type": "code",
      "metadata": {
        "id": "q6WSTO46GpvV"
      },
      "source": [
        "# ------------------------------------------------------------------------------\r\n",
        "# Plot the history of the trained model (loss, val_loss; accuracy, val_accuracy)\r\n",
        "# ------------------------------------------------------------------------------\r\n",
        "def plot_history(history):\r\n",
        "  from matplotlib import pyplot\r\n",
        "\r\n",
        "  pyplot.figure()\r\n",
        "  pyplot.plot(history.history['loss'], label='train')\r\n",
        "  pyplot.plot(history.history['val_loss'], label='test')\r\n",
        "  pyplot.legend()\r\n",
        "  pyplot.show()\r\n",
        "\r\n",
        "  pyplot.figure()\r\n",
        "  pyplot.plot(history.history['accuracy'], label='train')\r\n",
        "  pyplot.plot(history.history['val_accuracy'], label='test')\r\n",
        "  pyplot.legend()\r\n",
        "  pyplot.show() "
      ],
      "execution_count": 43,
      "outputs": []
    },
    {
      "cell_type": "markdown",
      "metadata": {
        "id": "kt3K4YaZIS_6"
      },
      "source": [
        "# Execution"
      ]
    },
    {
      "cell_type": "markdown",
      "metadata": {
        "id": "hba5x2ZYIZJ7"
      },
      "source": [
        "## Unet training"
      ]
    },
    {
      "cell_type": "code",
      "metadata": {
        "colab": {
          "base_uri": "https://localhost:8080/"
        },
        "id": "ZWJrr55FIMU0",
        "outputId": "ff54cea1-16a4-4fab-d519-07cf97f6b6f0"
      },
      "source": [
        "[model, history] = train_unet()"
      ],
      "execution_count": null,
      "outputs": [
        {
          "output_type": "stream",
          "text": [
            "203/203 [==============================] - 336s 2s/step - loss: 0.1256 - accuracy: 0.9474 - meanIoU: 0.2246 - val_loss: 0.1969 - val_accuracy: 0.9363 - val_meanIoU: 0.2411\n",
            "Epoch 2/100\n",
            "203/203 [==============================] - 342s 2s/step - loss: 0.1240 - accuracy: 0.9488 - meanIoU: 0.2276 - val_loss: 0.1905 - val_accuracy: 0.9360 - val_meanIoU: 0.2409\n",
            "Epoch 3/100\n",
            "203/203 [==============================] - 339s 2s/step - loss: 0.1229 - accuracy: 0.9494 - meanIoU: 0.2290 - val_loss: 0.1962 - val_accuracy: 0.9385 - val_meanIoU: 0.2444\n",
            "Epoch 4/100\n",
            "165/203 [=======================>......] - ETA: 45s - loss: 0.1293 - accuracy: 0.9468 - meanIoU: 0.2287"
          ],
          "name": "stdout"
        }
      ]
    },
    {
      "cell_type": "markdown",
      "metadata": {
        "id": "WuVw1q_NnFJh"
      },
      "source": [
        "# Compute prediction"
      ]
    },
    {
      "cell_type": "code",
      "metadata": {
        "scrolled": false,
        "id": "zo1JbCO5nFJh"
      },
      "source": [
        "import time\n",
        "import matplotlib.pyplot as plt\n",
        "\n",
        "from PIL import Image\n",
        "\n",
        "%matplotlib inline\n",
        "\n",
        "\n",
        "\n",
        "iterator = iter(valid_dataset)"
      ],
      "execution_count": null,
      "outputs": []
    },
    {
      "cell_type": "code",
      "metadata": {
        "id": "M75UjH7xxS7J"
      },
      "source": [
        "fig, ax = plt.subplots(1, 3, figsize=(8, 8))\n",
        "fig.show()\n",
        "image, target = next(iterator)\n",
        "\n",
        "image = image[0]\n",
        "target = target[0, ..., 0]\n",
        "\n",
        "out_sigmoid = model.predict(x=tf.expand_dims(image, 0))\n",
        "\n",
        "# Get predicted class as the index corresponding to the maximum value in the vector probability\n",
        "# predicted_class = tf.cast(out_sigmoid > score_th, tf.int32)\n",
        "# predicted_class = predicted_class[0, ..., 0]\n",
        "predicted_class = tf.argmax(out_sigmoid, -1)\n",
        "\n",
        "out_sigmoid.shape\n",
        "\n",
        "predicted_class = predicted_class[0, ...]\n",
        "\n",
        "# Assign colors (just for visualization)\n",
        "target_img = np.zeros([target.shape[0], target.shape[1], 3])\n",
        "prediction_img = np.zeros([target.shape[0], target.shape[1], 3])\n",
        "\n",
        "target_img[np.where(target == 0)] = [0, 0, 0]\n",
        "for i in range(1, 21):\n",
        "  target_img[np.where(target == i)] = np.array(colors[i-1])[:3] * 255\n",
        "\n",
        "prediction_img[np.where(predicted_class == 0)] = [0, 0, 0]\n",
        "for i in range(1, 21):\n",
        "  prediction_img[np.where(predicted_class == i)] = np.array(colors[i-1])[:3] * 255\n",
        "\n",
        "ax[0].imshow(np.uint8(image))\n",
        "ax[1].imshow(np.uint8(target_img))\n",
        "ax[2].imshow(np.uint8(prediction_img))\n",
        "\n",
        "fig.canvas.draw()\n",
        "time.sleep(1)"
      ],
      "execution_count": null,
      "outputs": []
    },
    {
      "cell_type": "markdown",
      "metadata": {
        "id": "4KjMAD1KTg6N"
      },
      "source": [
        "# Training"
      ]
    },
    {
      "cell_type": "markdown",
      "metadata": {
        "id": "VtpSwH9oTmwG"
      },
      "source": [
        "# Execution"
      ]
    },
    {
      "cell_type": "markdown",
      "metadata": {
        "id": "3F4z0YRCPv91"
      },
      "source": [
        "# Result csv"
      ]
    },
    {
      "cell_type": "code",
      "metadata": {
        "id": "iXWigXycuzfA"
      },
      "source": [
        "def rle_encode(img):\n",
        "  '''\n",
        "  img: numpy array, 1 - foreground, 0 - background\n",
        "  Returns run length as string formatted\n",
        "  '''\n",
        "  pixels = img.flatten()\n",
        "  pixels = np.concatenate([[0], pixels, [0]])\n",
        "  runs = np.where(pixels[1:] != pixels[:-1])[0] + 1\n",
        "  runs[1::2] -= runs[::2]\n",
        "  \n",
        "  return ' '.join(str(x) for x in runs)"
      ],
      "execution_count": null,
      "outputs": []
    },
    {
      "cell_type": "code",
      "metadata": {
        "id": "3S6aBsqW60dM"
      },
      "source": [
        "import os\r\n",
        "import json\r\n",
        "import numpy as np\r\n",
        "from PIL import Image\r\n",
        "\r\n",
        "    # The submission file will be a zip file containing the a\r\n",
        "    # submission.json file.\r\n",
        "\r\n",
        "    # It must have the following structure:\r\n",
        "\r\n",
        "    # - image name (without any extension, e.g., png, jpg, etc.)\r\n",
        "    #   - shape: shape of the original image as list [Height, Width]\r\n",
        "    #   - team: team of the original image. One in {'Bipbip', 'Pead', 'Roseau', 'Weedelec'}\r\n",
        "    #   - crop: crop of the original image. One in {'Haricot', 'Mais'}\r\n",
        "    #   - segmentation: prediction (as a dict)\r\n",
        "    #     - crop: RLE encoded crop segmentation (no weed)\r\n",
        "    #     - weed: RLE encoded weed segmentation (no crop)\r\n",
        "\r\n",
        "    # Please refer to the folder structure of the given dataset to fill\r\n",
        "    # the team and crop keys.\r\n",
        "\r\n",
        "teams = ['Bipbip', 'Pead', 'Roseau', 'Weedelec']\r\n",
        "plants = ['Haricot', 'Mais']\r\n",
        "\r\n",
        "submission_dict = {}\r\n",
        "\r\n",
        "for t in teams:\r\n",
        "  for p in plants:\r\n",
        "\r\n",
        "    tmp_path = '/content/Development_Dataset/Test_Dev/' + t + '/' + p + '/' + 'Images'\r\n",
        "    \r\n",
        "    image_filenames = os.listdir(tmp_path)\r\n",
        "\r\n",
        "    for img_name in image_filenames:\r\n",
        "      \r\n",
        "      tmp_path = '/content/Development_Dataset/Test_Dev/' + t + '/' + p + '/' + 'Images'\r\n",
        "      tmp_path = os.path.join(tmp_path, img_name)\r\n",
        "      \r\n",
        "      img_name = img_name.split('.')[0]\r\n",
        "\r\n",
        "      submission_dict[img_name] = {}\r\n",
        "      submission_dict[img_name]['shape'] = mask_arr.shape\r\n",
        "      submission_dict[img_name]['team'] = t\r\n",
        "      submission_dict[img_name]['crop'] = p\r\n",
        "      submission_dict[img_name]['segmentation'] = {}\r\n",
        "\r\n",
        "      img = Image.open(tmp_path).convert('RGB')\r\n",
        "      #img = img.resize((img_h, img_w)) # ??????????????????????????????????????????????????????????????????\r\n",
        "\r\n",
        "      img_array = np.array(img)\r\n",
        "      img_array = np.expand_dims(img_array, 0) # insert batch dimension\r\n",
        "\r\n",
        "      # Data Normalization\r\n",
        "      img_array = img_array / 255.\r\n",
        "\r\n",
        "      # Prediction from the model\r\n",
        "      mask_arr = model.predict(x=img_array)\r\n",
        "\r\n",
        "      # RLE encoding\r\n",
        "      # crop\r\n",
        "      rle_encoded_crop = rle_encode(mask_arr == 1)\r\n",
        "      # weed\r\n",
        "      rle_encoded_weed = rle_encode(mask_arr == 2)\r\n",
        "\r\n",
        "      submission_dict[img_name]['segmentation']['crop'] = rle_encoded_crop\r\n",
        "      submission_dict[img_name]['segmentation']['weed'] = rle_encoded_weed\r\n",
        "\r\n",
        "# Finally, save the results into the submission.json file\r\n",
        "with open('/content/submission.json', 'w') as f:\r\n",
        "  json.dump(submission_dict, f)\r\n",
        "\r\n",
        "! mkdir '/content/drive/My Drive/Challenge_2/submission'\r\n",
        "! cp '/content/submission.json' "
      ],
      "execution_count": null,
      "outputs": []
    },
    {
      "cell_type": "code",
      "metadata": {
        "id": "qQDAe0IWzPI2"
      },
      "source": [
        "! ls '/content/drive/My Drive/Challenge_2/submission'"
      ],
      "execution_count": null,
      "outputs": []
    },
    {
      "cell_type": "code",
      "metadata": {
        "id": "gIzE4yhEZJ7a"
      },
      "source": [
        "# ---------------------------------------\n",
        "# Save the model trained with fine tuning\n",
        "# ---------------------------------------\n",
        "#! mkdir '/content/drive/My Drive/Challenge_1/model'\n",
        "#! mkdir '/content/drive/My Drive/Challenge_1/model/EffNet_B7_dense_16_NOdropout_fine_tuning_block5-6-7'\n",
        "#model.save('/content/drive/My Drive/Challenge_1/model/EffNet_B7_dense_16_NOdropout_fine_tuning_block5-6-7')"
      ],
      "execution_count": null,
      "outputs": []
    },
    {
      "cell_type": "code",
      "metadata": {
        "id": "h0umvl9GNzhw"
      },
      "source": [
        "'''\r\n",
        "Script to check dimension of the images\r\n",
        "\r\n",
        "# -----------------------------------------------\r\n",
        "teams = ['Bipbip', 'Pead', 'Roseau', 'Weedelec']\r\n",
        "plants = ['Haricot', 'Mais']\r\n",
        "\r\n",
        "submission_dict = {}\r\n",
        "\r\n",
        "for t in teams:\r\n",
        "  for p in plants:\r\n",
        "    tmp_path = '/content/Development_Dataset/Test_Dev/' + t + '/' + p + '/' + 'Images'\r\n",
        "    image_filenames = os.listdir(tmp_path)\r\n",
        "\r\n",
        "    for img_name in image_filenames:\r\n",
        "\r\n",
        "      tmp_path = '/content/Development_Dataset/Test_Dev/' + t + '/' + p + '/' + 'Images'\r\n",
        "      tmp_path = os.path.join(tmp_path, str(img_name))\r\n",
        "      \r\n",
        "      img = Image.open(tmp_path).convert('RGB')\r\n",
        "      img_array = np.array(img)\r\n",
        "\r\n",
        "      img_name = img_name.split('.')[0]\r\n",
        "\r\n",
        "      submission_dict[img_name] = {}\r\n",
        "      submission_dict[img_name]['shape'] = img_array.shape\r\n",
        "      submission_dict[img_name]['team'] = t\r\n",
        "      submission_dict[img_name]['crop'] = p\r\n",
        "\r\n",
        "# -----------------------------------------------------------------------\r\n",
        "submission\r\n",
        "'''"
      ],
      "execution_count": 73,
      "outputs": []
    }
  ]
}